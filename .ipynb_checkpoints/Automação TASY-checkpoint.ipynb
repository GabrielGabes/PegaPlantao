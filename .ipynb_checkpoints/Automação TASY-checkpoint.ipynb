{
 "cells": [
  {
   "cell_type": "code",
   "execution_count": 1,
   "id": "681f071d-d221-465d-9558-3a3f7aac0882",
   "metadata": {},
   "outputs": [],
   "source": [
    "####################################-BIBLIOTECAS-####################################\n",
    "\n",
    "#manipulação de dados\n",
    "import os\n",
    "import re\n",
    "import random\n",
    "import pyautogui\n",
    "import unidecode\n",
    "import pyperclip\n",
    "import pandas as pd\n",
    "import numpy as np\n",
    "\n",
    "#tempo\n",
    "import time\n",
    "from time import sleep\n",
    "\n",
    "#web scraping\n",
    "import requests\n",
    "from bs4 import BeautifulSoup\n",
    "\n",
    "#automação\n",
    "from selenium import webdriver #navegador\n",
    "from selenium.webdriver.common.by import By \n",
    "from selenium.webdriver.common.keys import Keys #comandos do teclado\n",
    "from selenium.common.exceptions import NoSuchElementException\n",
    "from selenium.webdriver.support.ui import WebDriverWait #esperar\n",
    "from selenium.webdriver.support.expected_conditions import (visibility_of, \n",
    "                                                           staleness_of, \n",
    "                                                           invisibility_of_element)\n",
    "#ignorando Warning inuteis\n",
    "import warnings\n",
    "from pandas.errors import SettingWithCopyWarning\n",
    "warnings.simplefilter(action=\"ignore\", category=SettingWithCopyWarning)"
   ]
  },
  {
   "cell_type": "code",
   "execution_count": 38,
   "id": "14a90f30-0d03-4986-aa68-a552fd9a77df",
   "metadata": {},
   "outputs": [],
   "source": [
    "# FUNÇÕES XPATH\n",
    "def xpath_element(xpath):\n",
    "    return browser.find_element(\"xpath\", xpath)\n",
    "\n",
    "def xpath_click(xpath):\n",
    "    xpath_element(xpath).click()\n",
    "    \n",
    "def xpath_send_keys(xpath, texto):\n",
    "    xpath_element(xpath).send_keys(texto)\n",
    "    \n",
    "def xpath_clear(xpath):\n",
    "    xpath_element(xpath).clear()\n",
    "    \n",
    "#####################################################\n",
    "\n",
    "#FUNÇÕES\n",
    "def count_freq(data_frame, coluna):\n",
    "    freq = df[coluna].value_counts()\n",
    "    perc = df[coluna].value_counts(normalize = True)*100\n",
    "    tabela = pd.DataFrame({\"Freq\":freq, \"Perc\":perc})\n",
    "    return display(tabela)\n",
    "\n",
    "def salvando_nome_arquivo(nome_arquivo, dataframe):\n",
    "    if os.path.exists(nome_arquivo): #O nome_arquivo existe\n",
    "        df1 = pd.read_excel(nome_arquivo)\n",
    "        len_antigo = len(dataframe)\n",
    "        \n",
    "        dataframe = pd.concat([df1, dataframe]).reset_index(drop=True)\n",
    "        dataframe = dataframe.drop_duplicates(subset=['chat'])\n",
    "        \n",
    "        print(len(df1), \" += \", len_antigo, \"=>\", len(dataframe))\n",
    "        \n",
    "        dataframe.to_excel(nome_arquivo, index=False)\n",
    "    \n",
    "    else: #O nome_arquivo não existe\n",
    "        dataframe.to_excel(nome_arquivo, index=False)\n",
    "        print(len(dataframe)) "
   ]
  },
  {
   "cell_type": "code",
   "execution_count": 3,
   "id": "be42d96e-5a6d-4d89-8725-fd0cbe7d3cfa",
   "metadata": {},
   "outputs": [],
   "source": [
    "#Acesso pelo edge\n",
    "from selenium import webdriver\n",
    "from selenium.webdriver.edge.service import Service\n",
    "\n",
    "caminho_driver = 'C:/Users/gabri/OneDrive/Documentos/driver for web scraping/edge asus/msedgedriver.exe'\n",
    "servico = Service(executable_path=caminho_driver)\n",
    "\n",
    "browser = webdriver.Edge(service=servico)\n",
    "browser.get('http://hismaternidadestar.rededor.corp'); sleep(5)\n",
    "\n",
    "xpath_send_keys('//*[@id=\"loginUsername\"]', 'leosilva')\n",
    "xpath_send_keys('//*[@id=\"loginPassword\"]', 'quali07@')\n",
    "xpath_click('//*[@id=\"loginForm\"]/input[3]')"
   ]
  },
  {
   "cell_type": "markdown",
   "id": "f752440d-2ce4-42fa-9a32-3d3162075549",
   "metadata": {},
   "source": [
    "TELA INICIAL>itaim NP2>pepo>lupa>dados healtchess"
   ]
  },
  {
   "cell_type": "markdown",
   "id": "9eaff679-8a60-4cee-aed7-171c6cdaeeb5",
   "metadata": {},
   "source": [
    "abas que vou mais usar:\n",
    "descrição\n",
    "evolução>evoluções"
   ]
  },
  {
   "cell_type": "raw",
   "id": "62091688-04b1-4110-b826-a7e37bfd1a25",
   "metadata": {},
   "source": [
    "PADRÃO PAGINA ZOOM 90%\n",
    "TELA 125% (1920x1080)"
   ]
  },
  {
   "cell_type": "code",
   "execution_count": 4,
   "id": "75a64ae3-9daa-466d-82c1-fe94a1cfd471",
   "metadata": {},
   "outputs": [],
   "source": [
    "pasta_img = 'C:/Users/gabri/Downloads/imagens/'"
   ]
  },
  {
   "cell_type": "code",
   "execution_count": null,
   "id": "2c255056-5837-47b5-82ed-830783115c12",
   "metadata": {},
   "outputs": [],
   "source": [
    "pyautogui.sleep(2)\n",
    "print(pyautogui.position())\n",
    "print('pronto')"
   ]
  },
  {
   "cell_type": "code",
   "execution_count": null,
   "id": "491ffb17-5b64-40c2-bfa8-e6d91b02d260",
   "metadata": {},
   "outputs": [],
   "source": [
    "left = 282; top = 230; width = 610; height = 336\n",
    "pyautogui.moveTo(left,top)\n",
    "sleep(1)\n",
    "pyautogui.moveTo(width,height)"
   ]
  },
  {
   "cell_type": "code",
   "execution_count": 24,
   "id": "13d30952-dc69-4150-b8b9-daa5d9951dfc",
   "metadata": {},
   "outputs": [
    {
     "name": "stdout",
     "output_type": "stream",
     "text": [
      "(1043, 15)\n"
     ]
    },
    {
     "data": {
      "text/html": [
       "<div>\n",
       "<style scoped>\n",
       "    .dataframe tbody tr th:only-of-type {\n",
       "        vertical-align: middle;\n",
       "    }\n",
       "\n",
       "    .dataframe tbody tr th {\n",
       "        vertical-align: top;\n",
       "    }\n",
       "\n",
       "    .dataframe thead th {\n",
       "        text-align: right;\n",
       "    }\n",
       "</style>\n",
       "<table border=\"1\" class=\"dataframe\">\n",
       "  <thead>\n",
       "    <tr style=\"text-align: right;\">\n",
       "      <th></th>\n",
       "      <th>Unnamed: 0</th>\n",
       "      <th>Data/Hora</th>\n",
       "      <th>Atendimento</th>\n",
       "      <th>Conta</th>\n",
       "      <th>Paciente/Idade</th>\n",
       "      <th>AMB</th>\n",
       "      <th>Procedimento</th>\n",
       "      <th>Nome medico</th>\n",
       "      <th>Anestesista</th>\n",
       "      <th>Vinc.Anest.</th>\n",
       "      <th>Nome convenio</th>\n",
       "      <th>Anestesista cma ?</th>\n",
       "      <th>Anestesiado ?</th>\n",
       "      <th>PARTO ?</th>\n",
       "      <th>controle</th>\n",
       "    </tr>\n",
       "  </thead>\n",
       "  <tbody>\n",
       "    <tr>\n",
       "      <th>0</th>\n",
       "      <td>0</td>\n",
       "      <td>01/01/2024 08:40</td>\n",
       "      <td>36950957</td>\n",
       "      <td>97948091.0</td>\n",
       "      <td>Joao Luiz Braunstein - 66</td>\n",
       "      <td>30911044</td>\n",
       "      <td>Cinecoronariografia (hemo )</td>\n",
       "      <td>Vinicius Borges Cardozo Esteves</td>\n",
       "      <td>Pedro Augusto Tavares Dall' Aglio</td>\n",
       "      <td>Staff</td>\n",
       "      <td>Sul América</td>\n",
       "      <td>Staff</td>\n",
       "      <td>Anestesiado</td>\n",
       "      <td>Cirurgia</td>\n",
       "      <td>OK</td>\n",
       "    </tr>\n",
       "    <tr>\n",
       "      <th>1</th>\n",
       "      <td>1</td>\n",
       "      <td>01/01/2024 13:50</td>\n",
       "      <td>36951136</td>\n",
       "      <td>NaN</td>\n",
       "      <td>Luciana Enaide de Oliveira Souza Porto -</td>\n",
       "      <td>43050387</td>\n",
       "      <td>Colecistectomia Com</td>\n",
       "      <td>Stella Maria Botequio Mella</td>\n",
       "      <td>Vitor Luiz Assuncao Martins</td>\n",
       "      <td>Staff</td>\n",
       "      <td>Central Nacional</td>\n",
       "      <td>Staff</td>\n",
       "      <td>Anestesiado</td>\n",
       "      <td>Cirurgia</td>\n",
       "      <td>OK</td>\n",
       "    </tr>\n",
       "    <tr>\n",
       "      <th>2</th>\n",
       "      <td>2</td>\n",
       "      <td>01/01/2024 17:55</td>\n",
       "      <td>36951653</td>\n",
       "      <td>97931900.0</td>\n",
       "      <td>Luisa Capelato Romano - 40</td>\n",
       "      <td>56010036</td>\n",
       "      <td>Cistoscopia E/ou Uretroscopia</td>\n",
       "      <td>Renato Panhoca</td>\n",
       "      <td>Pedro Augusto Tavares Dall' Aglio</td>\n",
       "      <td>Staff</td>\n",
       "      <td>Notre Dame</td>\n",
       "      <td>Staff</td>\n",
       "      <td>Anestesiado</td>\n",
       "      <td>Cirurgia</td>\n",
       "      <td>OK</td>\n",
       "    </tr>\n",
       "    <tr>\n",
       "      <th>3</th>\n",
       "      <td>3</td>\n",
       "      <td>02/01/2024 06:20</td>\n",
       "      <td>36956543</td>\n",
       "      <td>97935034.0</td>\n",
       "      <td>Larissa Carneiro Pontelli - 36</td>\n",
       "      <td>30101530</td>\n",
       "      <td>Extensos Ferimentos, Cicatrizes</td>\n",
       "      <td>Mauricio Orel</td>\n",
       "      <td>Bruna Daibert Danesin</td>\n",
       "      <td>Staff</td>\n",
       "      <td>BRADESCO SEGUR</td>\n",
       "      <td>Staff</td>\n",
       "      <td>Anestesiado</td>\n",
       "      <td>Cirurgia</td>\n",
       "      <td>OK</td>\n",
       "    </tr>\n",
       "    <tr>\n",
       "      <th>4</th>\n",
       "      <td>4</td>\n",
       "      <td>02/01/2024 08:00</td>\n",
       "      <td>36955777</td>\n",
       "      <td>98068881.0</td>\n",
       "      <td>Maria Helena Horta de Lima - 74</td>\n",
       "      <td>31003621</td>\n",
       "      <td>Colectomia Parcial Com Ou Sem</td>\n",
       "      <td>Paula Volpe</td>\n",
       "      <td>Daniel Rodrigues de Oliveira</td>\n",
       "      <td>Staff</td>\n",
       "      <td>Sul América</td>\n",
       "      <td>Staff</td>\n",
       "      <td>Anestesiado</td>\n",
       "      <td>Cirurgia</td>\n",
       "      <td>OK</td>\n",
       "    </tr>\n",
       "  </tbody>\n",
       "</table>\n",
       "</div>"
      ],
      "text/plain": [
       "   Unnamed: 0         Data/Hora  Atendimento       Conta  \\\n",
       "0           0  01/01/2024 08:40     36950957  97948091.0   \n",
       "1           1  01/01/2024 13:50     36951136         NaN   \n",
       "2           2  01/01/2024 17:55     36951653  97931900.0   \n",
       "3           3  02/01/2024 06:20     36956543  97935034.0   \n",
       "4           4  02/01/2024 08:00     36955777  98068881.0   \n",
       "\n",
       "                              Paciente/Idade       AMB  \\\n",
       "0                  Joao Luiz Braunstein - 66  30911044   \n",
       "1  Luciana Enaide de Oliveira Souza Porto -   43050387   \n",
       "2                 Luisa Capelato Romano - 40  56010036   \n",
       "3             Larissa Carneiro Pontelli - 36  30101530   \n",
       "4            Maria Helena Horta de Lima - 74  31003621   \n",
       "\n",
       "                       Procedimento                      Nome medico  \\\n",
       "0       Cinecoronariografia (hemo )  Vinicius Borges Cardozo Esteves   \n",
       "1              Colecistectomia Com       Stella Maria Botequio Mella   \n",
       "2     Cistoscopia E/ou Uretroscopia                   Renato Panhoca   \n",
       "3  Extensos Ferimentos, Cicatrizes                     Mauricio Orel   \n",
       "4    Colectomia Parcial Com Ou Sem                       Paula Volpe   \n",
       "\n",
       "                         Anestesista Vinc.Anest.      Nome convenio  \\\n",
       "0  Pedro Augusto Tavares Dall' Aglio       Staff        Sul América   \n",
       "1        Vitor Luiz Assuncao Martins       Staff  Central Nacional    \n",
       "2  Pedro Augusto Tavares Dall' Aglio       Staff         Notre Dame   \n",
       "3              Bruna Daibert Danesin       Staff     BRADESCO SEGUR   \n",
       "4       Daniel Rodrigues de Oliveira       Staff        Sul América   \n",
       "\n",
       "  Anestesista cma ? Anestesiado ?   PARTO ? controle  \n",
       "0             Staff   Anestesiado  Cirurgia       OK  \n",
       "1             Staff   Anestesiado  Cirurgia       OK  \n",
       "2             Staff   Anestesiado  Cirurgia       OK  \n",
       "3             Staff   Anestesiado  Cirurgia       OK  \n",
       "4             Staff   Anestesiado  Cirurgia       OK  "
      ]
     },
     "execution_count": 24,
     "metadata": {},
     "output_type": "execute_result"
    }
   ],
   "source": [
    "df = pd.read_excel('continuarTASY.xlsx')\n",
    "#df = df[df['Anestesista cma ?'] == 'Staff'].reset_index(drop=True)\n",
    "print(df.shape)\n",
    "df.head()"
   ]
  },
  {
   "cell_type": "markdown",
   "id": "488fbd6a-8a08-4b83-8a87-f982c96ee8fb",
   "metadata": {},
   "source": [
    "# FUNÇÕES:"
   ]
  },
  {
   "cell_type": "code",
   "execution_count": 15,
   "id": "e6cad02b-a6f5-4424-af21-fea9919401f4",
   "metadata": {
    "scrolled": true
   },
   "outputs": [
    {
     "name": "stdout",
     "output_type": "stream",
     "text": [
      "opa\n"
     ]
    }
   ],
   "source": [
    "def existencia(caminho):\n",
    "    elementos = browser.find_elements(By.XPATH, caminho)\n",
    "    return bool(elementos)\n",
    "\n",
    "if existencia('//*[@id=\"handlebar-1117860\"]'):\n",
    "    xpath_click('//*[@id=\"handlebar-1117860\"]')\n",
    "else:\n",
    "    print('opa')"
   ]
  },
  {
   "cell_type": "code",
   "execution_count": 14,
   "id": "6c301921-09c1-494d-b2bf-398a2fa102d3",
   "metadata": {},
   "outputs": [],
   "source": [
    "# Click loopazinha\n",
    "try:\n",
    "    xpath_click('//*[@id=\"app-view\"]/tasy-corsisf1/div/w-mainlayout/div/div/feature-instance/atepaca7/div/tasypopupmenu[1]/tasy-patientbar-full/w-person-bar/div/div/div[2]/div/div[1]/div[1]/div/div')\n",
    "except:\n",
    "    xpath_click('//*[@id=\"app-view\"]/tasy-corsisf1/div/w-mainlayout/div/div/feature-instance/atepaca7/div/tasypopupmenu[1]/tasy-patientbar-full/w-person-bar/div/div/div[2]/div/div/div[1]/div/div')\n",
    "sleep(3)\n",
    "\n",
    "def mudando_de_atendimento(atendimento):\n",
    "    atendimento = str(atendimento)\n",
    "    # Campo texto Numero do Atendimento\n",
    "    try:\n",
    "        xpathzao = '//*[@id=\"detail_23_container\"]/tasy-group-container[1]/div/div[2]/div[1]/div[1]/div[1]/div[2]/tasy-wtextbox/div/div/input'\n",
    "        xpath_send_keys(xpathzao, str(atendimento)); xpath_send_keys(xpathzao, Keys.RETURN) #inserir e enter\n",
    "    except:\n",
    "        pyautogui.click(100, 340)\n",
    "        pyperclip.copy(atendimento); pyautogui.hotkey('ctrl', 'v'); sleep(0.5); pyautogui.press('enter') \n",
    "    finally:\n",
    "        sleep(2)\n",
    "    #Clicando na tela e indo para primeiro atendimento\n",
    "    pyautogui.click(1097, 550); pyautogui.hotkey('enter'); sleep(1)\n",
    "\n",
    "mudando_de_atendimento(df['Atendimento'][2]); sleep(3)"
   ]
  },
  {
   "cell_type": "code",
   "execution_count": 12,
   "id": "2366b7a6-5f7e-4856-a35e-903216b104fa",
   "metadata": {},
   "outputs": [
    {
     "name": "stdout",
     "output_type": "stream",
     "text": [
      "5\n",
      "CPU times: total: 703 ms\n",
      "Wall time: 1.62 s\n"
     ]
    }
   ],
   "source": [
    "%%time\n",
    "\n",
    "html = browser.find_element(\"xpath\", '/html').get_attribute('outerHTML')\n",
    "soup = BeautifulSoup(html, 'html.parser')\n",
    "\n",
    "for i in range(1000):\n",
    "    xpathzao = '//*[@id=\"detail_'+str(i)+'_container\"]/tasy-group-container[1]/div/div[2]/div[1]/div[1]/div[1]/div[2]/tasy-wtextbox/div/div/input'\n",
    "    if existencia(xpathzao):\n",
    "        print(i)\n",
    "        break"
   ]
  },
  {
   "cell_type": "code",
   "execution_count": 16,
   "id": "e8f0847b-9028-417e-b662-246b356209a5",
   "metadata": {},
   "outputs": [],
   "source": [
    "def matando_chatonildo0():\n",
    "    left = 1791; top = 211; width = 1834 - left; height = 254 - top\n",
    "    regiao = (left, top, width, height)\n",
    "    try:\n",
    "        res = pyautogui.locateOnScreen(pasta_img+\"x.png\", region=regiao)\n",
    "        posicao_antiga = pyautogui.position()\n",
    "        pyautogui.click(res)\n",
    "        pyautogui.moveTo(posicao_antiga)\n",
    "        #print(\"funfou 1\")\n",
    "    except:\n",
    "        try:\n",
    "            res = pyautogui.locateOnScreen(pasta_img+\"x.png\", region=regiao, confidence=0.5)\n",
    "            posicao_antiga = pyautogui.position()\n",
    "            pyautogui.click(res)\n",
    "            pyautogui.moveTo(posicao_antiga)\n",
    "            #print(\"funfou 2\")\n",
    "        except:\n",
    "            #print(\"não esta presente\")\n",
    "            pass\n",
    "        \n",
    "for i in range(3):\n",
    "    matando_chatonildo0()\n",
    "    sleep(2)"
   ]
  },
  {
   "cell_type": "code",
   "execution_count": 17,
   "id": "a919247e-75cd-4e7c-be6b-ccd31929e1c4",
   "metadata": {},
   "outputs": [],
   "source": [
    "def matando_chatonildo1():\n",
    "    left = 1198; top = 337; width = 1323 - left; height = 407 - top\n",
    "    regiao = (left, top, width, height)\n",
    "    try:\n",
    "        res = pyautogui.locateOnScreen(pasta_img+\"x2.png\", region=regiao)\n",
    "        posicao_antiga = pyautogui.position()\n",
    "        pyautogui.click(res)\n",
    "        pyautogui.moveTo(posicao_antiga)\n",
    "        #print(\"funfou 1\")\n",
    "    except:\n",
    "        try:\n",
    "            res = pyautogui.locateOnScreen(pasta_img+\"x2.png\", region=regiao, confidence=0.5)\n",
    "            posicao_antiga = pyautogui.position()\n",
    "            pyautogui.click(res)\n",
    "            pyautogui.moveTo(posicao_antiga)\n",
    "            #print(\"funfou 2\")\n",
    "        except:\n",
    "            #print(\"não esta presente\")\n",
    "            pass\n",
    "matando_chatonildo1()"
   ]
  },
  {
   "cell_type": "code",
   "execution_count": 18,
   "id": "567452a5-fd00-4186-9e0c-0b547462008c",
   "metadata": {},
   "outputs": [],
   "source": [
    "# Click Prontuario\n",
    "xpath_click('//*[@id=\"pages\"]/div[1]/ng-include/div/div[2]'); sleep(1)"
   ]
  },
  {
   "cell_type": "code",
   "execution_count": 19,
   "id": "8dadb1df-65e2-45dd-9ce9-cbec33466808",
   "metadata": {},
   "outputs": [],
   "source": [
    "# TECNICA ANESTÉSICA\n",
    "xpath_click('//*[@id=\"1_2\"]'); sleep(1)"
   ]
  },
  {
   "cell_type": "code",
   "execution_count": 20,
   "id": "ee990ea3-a44b-438b-a273-62b768300545",
   "metadata": {},
   "outputs": [],
   "source": [
    "# ABRINDO ARQUIVO\n",
    "pyautogui.click(x=359, y=650) #resetando click\n",
    "pyautogui.hotkey('ctrl', 'shift', 'v'); sleep(1)"
   ]
  },
  {
   "cell_type": "code",
   "execution_count": 21,
   "id": "d3eb7049-fae5-41f1-bc2b-b10824d1a952",
   "metadata": {},
   "outputs": [],
   "source": [
    "# SALVANDO PDF #clicando na tela do pdf #salvando\n",
    "pyautogui.click(x=475, y=548); sleep(1)\n",
    "pyautogui.hotkey(\"Ctrl\",\"s\"); sleep(1)\n",
    "pyautogui.press('enter')\n",
    "pyautogui.click(x=747, y=555); sleep(.3); pyautogui.click(x=747, y=555)\n",
    "pyautogui.moveTo(x=683, y=22); pyautogui.click(x=683, y=22) #pyautogui.hotkey(\"Ctrl\",\"w\"); sleep(2)"
   ]
  },
  {
   "cell_type": "markdown",
   "id": "6c1207be-f9db-4b91-8234-aedef965d22c",
   "metadata": {},
   "source": [
    "# INDO PARA CIMA"
   ]
  },
  {
   "cell_type": "code",
   "execution_count": 22,
   "id": "acf334ac-4428-45ed-938f-e4d0b1e3ee2c",
   "metadata": {},
   "outputs": [
    {
     "data": {
      "text/plain": [
       "1043"
      ]
     },
     "execution_count": 22,
     "metadata": {},
     "output_type": "execute_result"
    }
   ],
   "source": [
    "len(df)"
   ]
  },
  {
   "cell_type": "code",
   "execution_count": 23,
   "id": "7c9991d4-181d-4925-bc69-0586745e1ace",
   "metadata": {},
   "outputs": [],
   "source": [
    "df['controle'] = np.nan"
   ]
  },
  {
   "cell_type": "code",
   "execution_count": 25,
   "id": "13632901-db03-4f39-ae4b-7927ee7734e1",
   "metadata": {},
   "outputs": [],
   "source": [
    "H = 830"
   ]
  },
  {
   "cell_type": "code",
   "execution_count": 26,
   "id": "1ca8b20c-6e65-4bae-9bf3-fe8835e85c52",
   "metadata": {},
   "outputs": [
    {
     "data": {
      "text/plain": [
       "controle\n",
       "OK      797\n",
       "PROB     29\n",
       "Name: count, dtype: int64"
      ]
     },
     "execution_count": 26,
     "metadata": {},
     "output_type": "execute_result"
    }
   ],
   "source": [
    "df['controle'].value_counts()"
   ]
  },
  {
   "cell_type": "code",
   "execution_count": 27,
   "id": "d2126e57-978f-4866-b752-2461fd0ba557",
   "metadata": {},
   "outputs": [
    {
     "data": {
      "text/plain": [
       "830"
      ]
     },
     "execution_count": 27,
     "metadata": {},
     "output_type": "execute_result"
    }
   ],
   "source": [
    "H"
   ]
  },
  {
   "cell_type": "code",
   "execution_count": null,
   "id": "4ea94924-8588-4401-aa90-720a92058c9f",
   "metadata": {},
   "outputs": [],
   "source": [
    "pyautogui.sleep(2)\n",
    "print(pyautogui.position())\n",
    "print('pronto')"
   ]
  },
  {
   "cell_type": "code",
   "execution_count": null,
   "id": "c6e9c3ca-574c-4fd4-a78e-6331de6100fb",
   "metadata": {},
   "outputs": [],
   "source": [
    "left = 830; top = 656; width = 1015; height = 708\n",
    "pyautogui.moveTo(left,top)\n",
    "sleep(1)\n",
    "pyautogui.moveTo(width,height)"
   ]
  },
  {
   "cell_type": "code",
   "execution_count": 48,
   "id": "350795f4-0f64-48c9-a1eb-f20b95b9dd38",
   "metadata": {
    "scrolled": true
   },
   "outputs": [],
   "source": [
    "for h in range(H, len(df)):\n",
    "    atendimento = df['Atendimento'][h]\n",
    "    print(h,'='*30, 'Atendimento:', atendimento, '='*30)\n",
    "\n",
    "    # Click loopazinha\n",
    "    try:\n",
    "        xpath_click('//*[@id=\"app-view\"]/tasy-corsisf1/div/w-mainlayout/div/div/feature-instance/atepaca7/div/tasypopupmenu[1]/tasy-patientbar-full/w-person-bar/div/div/div[2]/div/div[1]/div[1]/div/div')\n",
    "    except:\n",
    "        xpath_click('//*[@id=\"app-view\"]/tasy-corsisf1/div/w-mainlayout/div/div/feature-instance/atepaca7/div/tasypopupmenu[1]/tasy-patientbar-full/w-person-bar/div/div/div[2]/div/div/div[1]/div/div')\n",
    "    sleep(3)\n",
    "    \n",
    "    # INDO ATÉ O ATENDIMENTO\n",
    "    mudando_de_atendimento(atendimento); sleep(4)\n",
    "\n",
    "    ###############################################################################################\n",
    "    #bug2\n",
    "    left = 1040; top = 542; width = 1442 - left; height = 621 - top; regiao = (left, top, width, height)\n",
    "    try:\n",
    "        res = pyautogui.locateOnScreen(pasta_img+\"bug.png\", region=regiao)\n",
    "        print(\"TRAVADO\")\n",
    "        df['controle'][H] = 'PROB'; H += 1\n",
    "        break\n",
    "    except: #Prontuario anestesico presente\n",
    "        pass #continuar fluxograma\n",
    "    ###############################################################################################\n",
    "\n",
    "    # MATANDO CHATONILDO\n",
    "    for i in range(3): matando_chatonildo0(); sleep(1)\n",
    "    for i in range(2): matando_chatonildo1(); sleep(1)\n",
    "\n",
    "    # PRONTUARIOS\n",
    "    xpath_click('//*[@id=\"pages\"]/div[1]/ng-include/div/div[2]'); sleep(1)\n",
    "\n",
    "    # TECNICA ANESTÉSICA\n",
    "    xpath_click('//*[@id=\"1_2\"]'); sleep(1.5)\n",
    "\n",
    "    #VERIFICANDO SE HÁ PRONTURARIO ANESTESICO\n",
    "    left = 832; top = 631; width = 1021 - left; height = 676 - top; regiao = (left, top, width, height)\n",
    "    try:\n",
    "        res = pyautogui.locateOnScreen(pasta_img+\"desc_na.png\", region=regiao)\n",
    "        print(\"ATENDIMENTO SEM PRONTUARIO ANESTESICO\")\n",
    "        df['controle'][H] = 'PROB'; H += 1\n",
    "        continue #pular atendimento presente para o proximo\n",
    "    except: #Prontuario anestesico presente\n",
    "        pass #continuar fluxograma\n",
    "    \n",
    "    # ABRINDO ARQUIVO\n",
    "    pyautogui.click(x=359, y=600); sleep(.5); pyautogui.click(x=350, y=650); sleep(.5) #resetando click\n",
    "    pyautogui.hotkey('ctrl', 'shift', 'v'); sleep(1)\n",
    "\n",
    "    ###############################################################################################\n",
    "    #bug\n",
    "    left = 706; top = 453; width = 883 - left; height = 519 - top; regiao = (left, top, width, height)\n",
    "    try:\n",
    "        res = pyautogui.locateOnScreen(pasta_img+\"process_em_andamento.png\", region=regiao)\n",
    "        print(\"TRAVADO\")\n",
    "        df['controle'][H] = 'PROB'; H += 1\n",
    "        continue #pular atendimento presente para o proximo\n",
    "    except: #Prontuario anestesico presente\n",
    "        pass #continuar fluxograma\n",
    "    ###############################################################################################\n",
    "    #bug2\n",
    "    left = 597; top = 452; width = 1050 - left; height = 519 - top; regiao = (left, top, width, height)\n",
    "    try:\n",
    "        res = pyautogui.locateOnScreen(pasta_img+\"process_em_andamento2.png\", region=regiao)\n",
    "        print(\"TRAVADO\")\n",
    "        df['controle'][H] = 'PROB'; H += 1\n",
    "        continue #pular atendimento presente para o proximo\n",
    "    except: #Prontuario anestesico presente\n",
    "        pass #continuar fluxograma\n",
    "    \n",
    "    # SALVANDO PDF #clicando na tela do pdf #salvando\n",
    "    pyautogui.click(x=475, y=548); sleep(1)\n",
    "    pyautogui.hotkey(\"Ctrl\",\"s\"); sleep(1)\n",
    "    pyautogui.press('enter')\n",
    "    pyautogui.click(x=747, y=555); sleep(.3); pyautogui.click(x=747, y=555)\n",
    "    pyautogui.moveTo(x=683, y=22); pyautogui.click(x=683, y=22) #pyautogui.hotkey(\"Ctrl\",\"w\"); sleep(2)\n",
    "\n",
    "    df['controle'][h] = 'OK'; H += 1"
   ]
  },
  {
   "cell_type": "code",
   "execution_count": 43,
   "id": "4072ab76-3f86-4805-a7ee-6118ae625be6",
   "metadata": {},
   "outputs": [],
   "source": [
    "H+= 1"
   ]
  },
  {
   "cell_type": "code",
   "execution_count": null,
   "id": "ee84941a-f4d7-4c31-936c-9244bc404d20",
   "metadata": {},
   "outputs": [],
   "source": [
    "H"
   ]
  },
  {
   "cell_type": "code",
   "execution_count": 49,
   "id": "091a22ce-a35f-4a05-abf6-fda09236b181",
   "metadata": {},
   "outputs": [],
   "source": [
    "df.to_excel(\"continuarTASY.xlsx\", index=False)"
   ]
  },
  {
   "cell_type": "code",
   "execution_count": null,
   "id": "97b32500-3aa6-44e9-9228-ad35e2bded38",
   "metadata": {},
   "outputs": [],
   "source": [
    "df['Atendimento'][H-2:H+2]"
   ]
  },
  {
   "cell_type": "code",
   "execution_count": 52,
   "id": "b6e0e6bf-d390-4065-8fd5-a031fb4520cd",
   "metadata": {},
   "outputs": [
    {
     "data": {
      "text/plain": [
       "controle\n",
       "OK      1005\n",
       "PROB      32\n",
       "Name: count, dtype: int64"
      ]
     },
     "execution_count": 52,
     "metadata": {},
     "output_type": "execute_result"
    }
   ],
   "source": [
    "df['controle'].value_counts()"
   ]
  },
  {
   "cell_type": "code",
   "execution_count": 53,
   "id": "5f263cf3-3a8d-4c4a-b9f9-906a960cbb25",
   "metadata": {},
   "outputs": [
    {
     "data": {
      "text/plain": [
       "225"
      ]
     },
     "execution_count": 53,
     "metadata": {},
     "output_type": "execute_result"
    }
   ],
   "source": [
    "1005-780"
   ]
  },
  {
   "cell_type": "code",
   "execution_count": null,
   "id": "d39d1a8b-0350-4b25-bf00-eaa72f457c06",
   "metadata": {},
   "outputs": [],
   "source": []
  },
  {
   "cell_type": "code",
   "execution_count": null,
   "id": "f188540c-3779-4b1d-80b2-0e02a1be8e9d",
   "metadata": {},
   "outputs": [],
   "source": []
  },
  {
   "cell_type": "code",
   "execution_count": null,
   "id": "345947fd-9e2a-4dfd-b15c-44969db35193",
   "metadata": {},
   "outputs": [],
   "source": []
  },
  {
   "cell_type": "code",
   "execution_count": null,
   "id": "18f13100-5e97-4c72-b00d-eef7a15e9b35",
   "metadata": {},
   "outputs": [],
   "source": []
  },
  {
   "cell_type": "code",
   "execution_count": null,
   "id": "800acec8-dbf7-44a2-b421-bc0e187096f8",
   "metadata": {},
   "outputs": [],
   "source": []
  },
  {
   "cell_type": "code",
   "execution_count": null,
   "id": "7a00bcdd-670d-4574-86bc-bc53f657267d",
   "metadata": {},
   "outputs": [],
   "source": []
  },
  {
   "cell_type": "code",
   "execution_count": 54,
   "id": "feb8c6b8-89cd-4004-8b19-ecc9868906c1",
   "metadata": {},
   "outputs": [
    {
     "name": "stdout",
     "output_type": "stream",
     "text": [
      "CPU times: total: 0 ns\n",
      "Wall time: 2.27 s\n"
     ]
    }
   ],
   "source": [
    "%%time\n",
    "browser.quit()"
   ]
  },
  {
   "cell_type": "code",
   "execution_count": 40,
   "id": "5f0c0b94-b1a9-48e3-9450-23d2bae3311c",
   "metadata": {},
   "outputs": [],
   "source": [
    "browser.quit()\n",
    "\n",
    "sleep(5)\n",
    "\n",
    "browser = webdriver.Edge(service=servico)\n",
    "browser.get('http://hismaternidadestar.rededor.corp'); sleep(4)\n",
    "\n",
    "xpath_send_keys('//*[@id=\"loginUsername\"]', 'leosilva')\n",
    "xpath_send_keys('//*[@id=\"loginPassword\"]', 'quali07@')\n",
    "xpath_click('//*[@id=\"loginForm\"]/input[3]')"
   ]
  },
  {
   "cell_type": "code",
   "execution_count": null,
   "id": "a799666d-ec0b-4427-8400-dce2fc88ba22",
   "metadata": {},
   "outputs": [],
   "source": []
  },
  {
   "cell_type": "code",
   "execution_count": null,
   "id": "db9c2f89-bf78-43fc-ab2d-55cef8d88cd2",
   "metadata": {},
   "outputs": [],
   "source": []
  },
  {
   "cell_type": "code",
   "execution_count": null,
   "id": "b3277e1a-d54b-4f86-8dbb-177b4b934530",
   "metadata": {},
   "outputs": [],
   "source": []
  },
  {
   "cell_type": "code",
   "execution_count": null,
   "id": "13cfc64f-45c6-417e-879e-0521f62d015b",
   "metadata": {},
   "outputs": [],
   "source": []
  },
  {
   "cell_type": "code",
   "execution_count": null,
   "id": "e176e208-2110-4504-834c-21d210efac29",
   "metadata": {},
   "outputs": [],
   "source": []
  },
  {
   "cell_type": "code",
   "execution_count": null,
   "id": "148f487e-b250-434d-a298-0d3c83163faa",
   "metadata": {},
   "outputs": [],
   "source": []
  },
  {
   "cell_type": "code",
   "execution_count": null,
   "id": "465ace32-67b8-415f-b812-8102fa7f212a",
   "metadata": {},
   "outputs": [],
   "source": []
  },
  {
   "cell_type": "markdown",
   "id": "09f25d02-5036-42ed-975b-6b8f0e035595",
   "metadata": {},
   "source": [
    "# ANTIGO:"
   ]
  },
  {
   "cell_type": "code",
   "execution_count": null,
   "id": "1c9c610c-cf0b-4212-a9d6-fea5b9040e0e",
   "metadata": {},
   "outputs": [],
   "source": [
    "lista_ate = ['36956543','36955777','36956580','36955411','36958410','36956379','36957026','36956683']\n",
    "\n",
    "def mudando_de_atendimento(atendimento):\n",
    "    atendimento = str(atendimento)\n",
    "    left = 303; top = 221; width = 610 - left; height = 336 - top\n",
    "    regiao = (left, top, width, height)\n",
    "    try:\n",
    "        res = pyautogui.locateOnScreen(pasta_img+\"Atendimento.png\", region=regiao)\n",
    "        pyautogui.moveTo(res); sleep(1)\n",
    "        try:\n",
    "            res = pyautogui.locateOnScreen(pasta_img+\"editar.png\", region=regiao)\n",
    "            pyautogui.click(res); sleep(0.5)\n",
    "            pyautogui.press('backspace'); sleep(0.5)\n",
    "            pyperclip.copy(atendimento)\n",
    "            pyautogui.hotkey('ctrl', 'v'); sleep(0.5); pyautogui.press('enter') \n",
    "            print('='*25, 'mudando para o atendimento: '+atendimento, '='*25)\n",
    "        except:\n",
    "            print(\"opa1\")\n",
    "    except:\n",
    "        try:\n",
    "            pyautogui.moveTo(425,246); sleep(1)\n",
    "            res = pyautogui.locateOnScreen(pasta_img+\"editar.png\", region=regiao, confidence=0.1, grayscale=True)\n",
    "            pyautogui.click(res); sleep(0.5)\n",
    "            pyautogui.press('backspace'); sleep(0.5); pyperclip.copy(atendimento)\n",
    "            pyautogui.hotkey('ctrl', 'v'); sleep(0.5); pyautogui.press('enter') \n",
    "            print('='*25, 'mudando para o atendimento: '+atendimento, '='*25)\n",
    "        except:\n",
    "            print(\"opa2\")\n",
    "\n",
    "mudando_de_atendimento(random.choice(lista_ate)); sleep(3)"
   ]
  },
  {
   "cell_type": "code",
   "execution_count": null,
   "id": "0acae2ac-93fb-4414-ab72-c5a5814ce53d",
   "metadata": {},
   "outputs": [],
   "source": []
  },
  {
   "cell_type": "code",
   "execution_count": null,
   "id": "efd8d50c-d65f-461e-b767-82c316de8a8f",
   "metadata": {},
   "outputs": [],
   "source": []
  },
  {
   "cell_type": "code",
   "execution_count": null,
   "id": "fac28f3c-a592-4b9b-9da9-fffcdd00d4dc",
   "metadata": {},
   "outputs": [],
   "source": []
  },
  {
   "cell_type": "code",
   "execution_count": null,
   "id": "a0906210-8654-411f-a056-d0e9c39a5ca7",
   "metadata": {},
   "outputs": [],
   "source": [
    "10 * 2"
   ]
  },
  {
   "cell_type": "code",
   "execution_count": null,
   "id": "7dbb05a8-b095-429c-bd01-fafda9b2a5dd",
   "metadata": {},
   "outputs": [],
   "source": [
    "10 / 3"
   ]
  },
  {
   "cell_type": "code",
   "execution_count": null,
   "id": "0575dfa6-ab5e-446a-ab61-7d6da7b68f05",
   "metadata": {},
   "outputs": [],
   "source": [
    "10 // 2"
   ]
  },
  {
   "cell_type": "code",
   "execution_count": null,
   "id": "7bd91dc8-98e2-40b5-b9f8-1da5219aff51",
   "metadata": {},
   "outputs": [],
   "source": [
    "for i in range(1000):\n",
    "    if i % 5 == 0 or if i % 2 == 0:\n",
    "        print(i)"
   ]
  },
  {
   "cell_type": "code",
   "execution_count": null,
   "id": "a45ec4b4-c4f8-476d-aa4c-18dd6b68ebc7",
   "metadata": {},
   "outputs": [],
   "source": []
  },
  {
   "cell_type": "code",
   "execution_count": null,
   "id": "d585fdf0-e9f3-4d2d-95ac-f76bc8a4c716",
   "metadata": {},
   "outputs": [],
   "source": []
  },
  {
   "cell_type": "code",
   "execution_count": null,
   "id": "2c104a80-0cc2-4f2e-b5c1-d148138ccc99",
   "metadata": {},
   "outputs": [],
   "source": []
  },
  {
   "cell_type": "code",
   "execution_count": null,
   "id": "3de8e9c4-6fd3-496d-8a2d-15911c192df1",
   "metadata": {},
   "outputs": [],
   "source": []
  },
  {
   "cell_type": "code",
   "execution_count": null,
   "id": "0ea2511c-fdc8-4206-a420-b9bb53d4a6a4",
   "metadata": {},
   "outputs": [],
   "source": []
  },
  {
   "cell_type": "code",
   "execution_count": null,
   "id": "0740773e-4c23-4654-938d-f2a38d38a9c0",
   "metadata": {},
   "outputs": [],
   "source": []
  },
  {
   "cell_type": "code",
   "execution_count": null,
   "id": "c7fbcb3b-01ea-4fec-8583-8d85bbf50038",
   "metadata": {},
   "outputs": [],
   "source": []
  },
  {
   "cell_type": "code",
   "execution_count": null,
   "id": "915da6a0-9d06-479f-9637-52f2fca19d7b",
   "metadata": {},
   "outputs": [],
   "source": []
  },
  {
   "cell_type": "code",
   "execution_count": null,
   "id": "6367dfaf-a7fa-4b90-b287-d2800acabb53",
   "metadata": {},
   "outputs": [],
   "source": []
  },
  {
   "cell_type": "code",
   "execution_count": null,
   "id": "cd28a32e-0609-4392-9cfe-d1340bb0d9e1",
   "metadata": {},
   "outputs": [],
   "source": []
  },
  {
   "cell_type": "code",
   "execution_count": null,
   "id": "5c37be46-c2fa-4603-879a-d7ab4470549b",
   "metadata": {},
   "outputs": [],
   "source": []
  },
  {
   "cell_type": "markdown",
   "id": "fac19813-2c6a-4ccb-908c-b832fff8de34",
   "metadata": {
    "jp-MarkdownHeadingCollapsed": true
   },
   "source": [
    "# DEU MERDA"
   ]
  },
  {
   "cell_type": "raw",
   "id": "6577f865-8bc4-4bd4-b21f-155ea6e8669e",
   "metadata": {},
   "source": [
    "# DESCRIÇÃO ANESTESICA"
   ]
  },
  {
   "cell_type": "code",
   "execution_count": null,
   "id": "3cf1cba5-dd5d-4104-be48-2c65ea4fd4ba",
   "metadata": {},
   "outputs": [],
   "source": [
    "xpath_engloba_tudo = '//*[@id=\"layout\"]/div/div/tasy-wevaluate/div[1]/tasy-wmdetail'\n",
    "#//*[@id=\"detail_29_container\"]\n",
    "setor_html = xpath_element(xpath_engloba_tudo).get_attribute('outerHTML')\n",
    "soup = BeautifulSoup(setor_html, 'html.parser')\n",
    "soup"
   ]
  },
  {
   "cell_type": "code",
   "execution_count": null,
   "id": "3aea3ca2-e98e-4a5e-85b1-8da4aa222894",
   "metadata": {},
   "outputs": [],
   "source": [
    "#soup.text"
   ]
  },
  {
   "cell_type": "code",
   "execution_count": null,
   "id": "3e4c279e-466e-4773-bf47-6a57ba9959c0",
   "metadata": {},
   "outputs": [],
   "source": [
    "############################## ANTIBIOTICO ##############################"
   ]
  },
  {
   "cell_type": "code",
   "execution_count": null,
   "id": "6fd18856-00ac-4a32-83ce-7b57367a285b",
   "metadata": {},
   "outputs": [],
   "source": [
    "acrescimento_fixo = 1\n",
    "\n",
    "# PARA ITEM DE AVALIAÇÃO\n",
    "for i in range(0+acrescimento_fixo, 11+acrescimento_fixo):\n",
    "    xpath_caixa = '//*[@id=\"detail_29_container\"]/tasy-group-container['+str(i)+']'\n",
    "    setor_html = xpath_element(xpath_caixa).get_attribute('outerHTML')\n",
    "    soup = BeautifulSoup(setor_html, 'html.parser')\n",
    "    print(i,\"=\"*50)\n",
    "\n",
    "    item = soup.find(class_= \"w-mdetail-group__title ng-binding\")\n",
    "    item = item.text.strip().replace(\"\\n\",'')\n",
    "    print(item)\n",
    "\n",
    "    #PARA CADA CAMPO\n",
    "    "
   ]
  },
  {
   "cell_type": "code",
   "execution_count": null,
   "id": "9a7d664e-1242-431a-87c6-9ae27c85ec04",
   "metadata": {},
   "outputs": [],
   "source": [
    "############################################################################"
   ]
  },
  {
   "cell_type": "code",
   "execution_count": null,
   "id": "bbc54431-9006-4b58-9e38-492aad129d97",
   "metadata": {},
   "outputs": [],
   "source": [
    "print('*'*20, 'Saída de sala operatória', '*'*20)\n",
    "\n",
    "i = 10\n",
    "xpath_caixa = '//*[@id=\"detail_29_container\"]/tasy-group-container['+str(i)+']'\n",
    "setor_html = xpath_element(xpath_caixa).get_attribute('outerHTML')\n",
    "soup = BeautifulSoup(setor_html, 'html.parser')"
   ]
  },
  {
   "cell_type": "code",
   "execution_count": null,
   "id": "a0b06d48-19ef-403d-a4f3-8774fbf6ea6f",
   "metadata": {},
   "outputs": [],
   "source": [
    "for i in soup.find_all(class_=\"w-attr-container ng-isolate-scope dpf-100 span12\"):\n",
    "    print(\"=\"*40)\n",
    "    print(i.text.strip().replace(\"\\n\",''))\n",
    "    print(\"=\"*20)\n",
    "    print(i)"
   ]
  },
  {
   "cell_type": "code",
   "execution_count": null,
   "id": "b0c5cd80-aff4-4900-91f8-071cf0a9bd22",
   "metadata": {},
   "outputs": [],
   "source": [
    "xpath = '//*[@id=\"detail_29_container\"]/tasy-group-container[10]/div/div[2]/div[1]/div[2]/div[2]/tasy-wtextbox/div/div[1]/input'\n",
    "xpath_element(xpath)"
   ]
  },
  {
   "cell_type": "code",
   "execution_count": null,
   "id": "522a5551-8dac-426e-9531-92be27ebb8e4",
   "metadata": {},
   "outputs": [],
   "source": [
    "\n",
    "\n",
    "############################################################################\n",
    "\n",
    "for i in soup.find_all(class_=\"group-box-column ng-scope\"):\n",
    "    print(\"=\"*50)\n",
    "    \n",
    "    nome_caixa = i.text.strip().replace(\"\\n\",'')\n",
    "    #print(nome_caixa)\n",
    "    print(\"=\"*25)\n",
    "\n",
    "    padrao = r'value=\"(\\d+)\"'\n",
    "    texto = str(i)\n",
    "    valor_capturado = re.findall(padrao, texto)[0]\n",
    "    if valor_capturado == '0':\n",
    "        print(nome_caixa, ' - Não Selecionado')\n",
    "    elif valor_capturado == '1':\n",
    "        print(nome_caixa, ' - Selecionado')\n",
    "\n",
    "    "
   ]
  },
  {
   "cell_type": "code",
   "execution_count": null,
   "id": "56f64a97-1463-4baa-90be-b4e8a1de10fe",
   "metadata": {},
   "outputs": [],
   "source": [
    "# Parametrização individualizada de alarmes clínicos"
   ]
  },
  {
   "cell_type": "code",
   "execution_count": null,
   "id": "db84aaed-5885-445d-b3db-930b74b12c19",
   "metadata": {
    "scrolled": true
   },
   "outputs": [],
   "source": [
    "print('*'*20, 'Parametrização individualizada de alarmes clínicos', '*'*20)\n",
    "\n",
    "i = 11\n",
    "xpath_caixa = '//*[@id=\"detail_29_container\"]/tasy-group-container['+str(i)+']'\n",
    "setor_html = xpath_element(xpath_caixa).get_attribute('outerHTML')\n",
    "soup = BeautifulSoup(setor_html, 'html.parser')\n",
    "\n",
    "############################################################################\n",
    "\n",
    "for i in soup.find_all(class_=\"group-box-column ng-scope\"):\n",
    "    print(\"=\"*50)\n",
    "    \n",
    "    nome_caixa = i.text.strip().replace(\"\\n\",'')\n",
    "    #print(nome_caixa)\n",
    "    print(\"=\"*25)\n",
    "\n",
    "    padrao = r'value=\"(\\d+)\"'\n",
    "    texto = str(i)\n",
    "    valor_capturado = re.findall(padrao, texto)[0]\n",
    "    if valor_capturado == '0':\n",
    "        print(nome_caixa, ' - Não Selecionado')\n",
    "    elif valor_capturado == '1':\n",
    "        print(nome_caixa, ' - Selecionado')"
   ]
  },
  {
   "cell_type": "code",
   "execution_count": null,
   "id": "c8693fbb-0b88-40d7-9cd5-303ad1fd5f76",
   "metadata": {},
   "outputs": [],
   "source": []
  }
 ],
 "metadata": {
  "kernelspec": {
   "display_name": "Python 3 (ipykernel)",
   "language": "python",
   "name": "python3"
  },
  "language_info": {
   "codemirror_mode": {
    "name": "ipython",
    "version": 3
   },
   "file_extension": ".py",
   "mimetype": "text/x-python",
   "name": "python",
   "nbconvert_exporter": "python",
   "pygments_lexer": "ipython3",
   "version": "3.11.7"
  }
 },
 "nbformat": 4,
 "nbformat_minor": 5
}
