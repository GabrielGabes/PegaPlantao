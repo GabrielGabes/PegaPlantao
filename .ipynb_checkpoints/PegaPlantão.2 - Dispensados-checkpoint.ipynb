{
 "cells": [
  {
   "cell_type": "code",
   "execution_count": 1,
   "id": "cdaf0d0d",
   "metadata": {},
   "outputs": [],
   "source": [
    "mes = \"10\""
   ]
  },
  {
   "cell_type": "code",
   "execution_count": 2,
   "id": "5c0ef0d9",
   "metadata": {},
   "outputs": [],
   "source": [
    "#manipulação de dados\n",
    "import pandas as pd\n",
    "import numpy as np\n",
    "\n",
    "#automação\n",
    "from selenium import webdriver\n",
    "from selenium.webdriver.common.keys import Keys\n",
    "\n",
    "#web scraping\n",
    "import requests\n",
    "from bs4 import BeautifulSoup\n",
    "\n",
    "#string e data\n",
    "import unidecode\n",
    "\n",
    "#tempo\n",
    "import time\n",
    "from time import sleep\n",
    "from selenium.webdriver.common.by import By\n",
    "from selenium.webdriver.support.ui import WebDriverWait\n",
    "from selenium.webdriver.support.expected_conditions import (visibility_of, \n",
    "                                                           staleness_of, \n",
    "                                                           invisibility_of_element)\n",
    "\n",
    "import warnings #Warning inuteis\n",
    "from pandas.core.common import SettingWithCopyWarning\n",
    "warnings.simplefilter(action=\"ignore\", category=SettingWithCopyWarning)\n",
    "\n",
    "import unidecode #arrumar strings\n",
    "\n",
    "import re #regex\n",
    "\n",
    "import os"
   ]
  },
  {
   "cell_type": "code",
   "execution_count": 3,
   "id": "f5e8c2de",
   "metadata": {},
   "outputs": [
    {
     "name": "stdout",
     "output_type": "stream",
     "text": [
      "73\n"
     ]
    },
    {
     "data": {
      "text/html": [
       "<div>\n",
       "<style scoped>\n",
       "    .dataframe tbody tr th:only-of-type {\n",
       "        vertical-align: middle;\n",
       "    }\n",
       "\n",
       "    .dataframe tbody tr th {\n",
       "        vertical-align: top;\n",
       "    }\n",
       "\n",
       "    .dataframe thead th {\n",
       "        text-align: right;\n",
       "    }\n",
       "</style>\n",
       "<table border=\"1\" class=\"dataframe\">\n",
       "  <thead>\n",
       "    <tr style=\"text-align: right;\">\n",
       "      <th></th>\n",
       "      <th>chat</th>\n",
       "      <th>dia</th>\n",
       "      <th>nome</th>\n",
       "      <th>mensagem</th>\n",
       "    </tr>\n",
       "  </thead>\n",
       "  <tbody>\n",
       "    <tr>\n",
       "      <th>1</th>\n",
       "      <td>[22/10/2023 14:09:31] Bianca Priscila Buniotti...</td>\n",
       "      <td>22/10/2023</td>\n",
       "      <td>BIANCA PRISCILA BUNIOTTI</td>\n",
       "      <td>22/10 VILLA  -  BIANCA SAÍDA 12:40    (   EXTR...</td>\n",
       "    </tr>\n",
       "    <tr>\n",
       "      <th>28</th>\n",
       "      <td>[24/10/2023 06:24:24] Juliana Santos Saboia: 2...</td>\n",
       "      <td>24/10/2023</td>\n",
       "      <td>JULIANA SANTOS SABOIA</td>\n",
       "      <td>24/10 OSASCO  -  SABOIA ENTRADA 6H</td>\n",
       "    </tr>\n",
       "    <tr>\n",
       "      <th>7</th>\n",
       "      <td>[22/10/2023 07:10:10] Denio Lopes de Almeida: ...</td>\n",
       "      <td>22/10/2023</td>\n",
       "      <td>DENIO LOPES DE ALMEIDA</td>\n",
       "      <td>22/10 ITAIM  -  DÊNIO ENTRADA 07:05     (    D...</td>\n",
       "    </tr>\n",
       "  </tbody>\n",
       "</table>\n",
       "</div>"
      ],
      "text/plain": [
       "                                                 chat         dia  \\\n",
       "1   [22/10/2023 14:09:31] Bianca Priscila Buniotti...  22/10/2023   \n",
       "28  [24/10/2023 06:24:24] Juliana Santos Saboia: 2...  24/10/2023   \n",
       "7   [22/10/2023 07:10:10] Denio Lopes de Almeida: ...  22/10/2023   \n",
       "\n",
       "                        nome  \\\n",
       "1   BIANCA PRISCILA BUNIOTTI   \n",
       "28     JULIANA SANTOS SABOIA   \n",
       "7     DENIO LOPES DE ALMEIDA   \n",
       "\n",
       "                                             mensagem  \n",
       "1   22/10 VILLA  -  BIANCA SAÍDA 12:40    (   EXTR...  \n",
       "28                 24/10 OSASCO  -  SABOIA ENTRADA 6H  \n",
       "7   22/10 ITAIM  -  DÊNIO ENTRADA 07:05     (    D...  "
      ]
     },
     "execution_count": 3,
     "metadata": {},
     "output_type": "execute_result"
    }
   ],
   "source": [
    "df = pd.read_excel('df_giov.xlsx')[['chat','dia','nome','mensagem']]\n",
    "df = df.sort_values(['nome', 'dia'])\n",
    "print(len(df))\n",
    "df.sample(3)"
   ]
  },
  {
   "cell_type": "code",
   "execution_count": 4,
   "id": "e9416ac6",
   "metadata": {},
   "outputs": [
    {
     "name": "stdout",
     "output_type": "stream",
     "text": [
      "unidades probs: 64\n",
      "unidade ok: 9\n"
     ]
    }
   ],
   "source": [
    "#RETIRANDO REGISTROS DE DISTANCIA E SAIDAS POR QUESTÃO DE SAUDE OU DISPENSA\n",
    "\n",
    "df['controle'] = np.nan\n",
    "\n",
    "#preparando para reconhecer corretamente\n",
    "df['mensagem'] = df['mensagem'].apply(lambda x: x.replace('(',' ( '))\n",
    "df['mensagem'] = df['mensagem'].apply(lambda x: x.replace(')',' ) '))\n",
    "\n",
    "df['mensagem'] = df['mensagem'].apply(lambda x: x.upper())\n",
    "df['mensagem'] = df['mensagem'].apply(lambda x: x.replace('DISPENSADA','DISPENSADO'))\n",
    "df['mensagem'] = df['mensagem'].apply(lambda x: x.replace('DISPENSA ','DISPENSADO'))\n",
    "\n",
    "for i in range(0, len(df)):\n",
    "    mensagem = unidecode.unidecode(df['mensagem'][i].upper())\n",
    "    observacoes = re.findall(r'DISPENSADO|SAUDE', mensagem)\n",
    "    quantidade_observacoes = len(observacoes)\n",
    "    \n",
    "    if quantidade_observacoes == 0:\n",
    "        df['controle'][i] = 'PROB'\n",
    "        \n",
    "df['controle'].value_counts() \n",
    "\n",
    "#salvando\n",
    "df_prob = df[df['controle'] == 'PROB']\n",
    "df_prob.reset_index(drop=True, inplace=True)\n",
    "print(\"unidades probs:\", len(df_prob))\n",
    "\n",
    "df = df[df['controle'] != 'PROB']\n",
    "df.reset_index(drop=True, inplace=True)\n",
    "print(\"unidade ok:\", len(df)) "
   ]
  },
  {
   "cell_type": "code",
   "execution_count": 5,
   "id": "2e7a5b72",
   "metadata": {
    "scrolled": true
   },
   "outputs": [
    {
     "name": "stdout",
     "output_type": "stream",
     "text": [
      "14/10 SANTA ISABEL  -  ALEXANDRE AMARAL  -  DISPENSADO\n",
      "18/10 ITAIM ANNA BEATRIZ SAÍDA 13:10       (      POR MOTIVO DE SAÚDE      )      \n",
      "24/10 VILLA  -  CARLOS SAÍDA 15:00     (    MOTIVO DE SAÚDE    )    \n",
      "26/10 VNS  -  FABIANA ENTRADA 10:45    (   SAÚDE   )   \n",
      "25/10 SANTA ISABEL  -  NUNES DISPENSADO    (   SAÚDE   )   \n",
      "24/10 ANÁLIA PAULA NEVES SAÍDA 8:30     (     MOTIVO DE SAÚDE    )    \n",
      "18/10  -  ANÁLIA  -  PAULA A  -  SAÍDA  -  08:15       (       SAÚDE      )      \n",
      "19/10  -  ANÁLIA  -  PAULA A  -  DISPENSADO      (      SAÚDE     )     \n",
      "21/10  -  ANÁLIA  -  PAULA A  -  DISPENSADO      (      SAÚDE     )     \n"
     ]
    }
   ],
   "source": [
    "for i in range(len(df)):\n",
    "    print(df['mensagem'][i])"
   ]
  },
  {
   "cell_type": "code",
   "execution_count": 6,
   "id": "0eddb57d",
   "metadata": {},
   "outputs": [
    {
     "name": "stdout",
     "output_type": "stream",
     "text": [
      "data probs: 64\n",
      "datas ok: 9\n"
     ]
    },
    {
     "data": {
      "text/plain": [
       "['14/10/2023',\n",
       " '18/10/2023',\n",
       " '19/10/2023',\n",
       " '21/10/2023',\n",
       " '24/10/2023',\n",
       " '25/10/2023',\n",
       " '26/10/2023']"
      ]
     },
     "execution_count": 6,
     "metadata": {},
     "output_type": "execute_result"
    }
   ],
   "source": [
    "#DATA DO PLANTÃO\n",
    "df['controle'] = ''\n",
    "df['data'] = ''\n",
    "\n",
    "for i in range(0, len(df)):\n",
    "    lista_datas = re.findall(r'[0-9]{1,2}\\/[0-9]{1,2}', df['mensagem'][i]) #regex dd/mm\n",
    "    quantidade_itens = len(lista_datas)\n",
    "    \n",
    "    if quantidade_itens == 1: #capturar apenas registros com uma data apenas\n",
    "        df['data'][i] = lista_datas[0]\n",
    "        df['controle'][i] = 'NORM'\n",
    "    else: #restante com nenhuma ou mais de uma data\n",
    "        df['controle'][i] = 'PROB'\n",
    "\n",
    "#salvando\n",
    "df_prob = pd.concat([df_prob, df[df['controle'] != 'NORM']])\n",
    "df_prob.reset_index(drop=True, inplace=True)\n",
    "print(\"data probs:\", len(df_prob))\n",
    "\n",
    "df = df[df['controle'] != 'PROB']\n",
    "df.reset_index(drop=True, inplace=True)\n",
    "print(\"datas ok:\", len(df)) \n",
    "\n",
    "df['data'] = df['data']+\"/2023\"\n",
    "sorted(df['data'].unique())"
   ]
  },
  {
   "cell_type": "code",
   "execution_count": 7,
   "id": "8067de1a",
   "metadata": {},
   "outputs": [
    {
     "name": "stdout",
     "output_type": "stream",
     "text": [
      "PROB    5\n",
      "OK      4\n",
      "Name: controle, dtype: int64\n",
      "probs: 69\n",
      "ok: 4\n"
     ]
    }
   ],
   "source": [
    "#retirando a data da mensagem para não atrapalhar no reconhecimento de hora\n",
    "df['hora'] = ''\n",
    "\n",
    "for i in range(0, len(df)):\n",
    "    df['hora'][i] = df['mensagem'][i].replace(df['data'][i], '').strip() #substituindo a data por vazio\n",
    "    \n",
    "#substituindo \"h\" por \":\" para capturar horarios 11h22\n",
    "df['hora'] = df['hora'].apply(lambda x: x.upper().replace(\"H\", \":\"))\n",
    "\n",
    "#Retirando aqueles que contem horas no registro da mensagem\n",
    "for i in range(0, len(df)):\n",
    "    mensagem = df['hora'][i]\n",
    "    horas = re.findall(r'[0-9]{1,2}:[0-9]{1,2}', mensagem) #capturando horas HH:mm\n",
    "    quantidade_horas = len(horas)\n",
    "    \n",
    "    if quantidade_horas >= 1: #capturando apenas com uma horas escrita\n",
    "        df['hora'][i] = horas[0]\n",
    "        df['controle'][i] = 'PROB'\n",
    "    else: #restante com nenhuma ou mais horas (geralmente pq digitou a hora de entrada e saida {informação inutil})\n",
    "        df['hora'][i] = ''\n",
    "        df['controle'][i] = 'OK'\n",
    "        \n",
    "print(df['controle'].value_counts())\n",
    "\n",
    "#salvando\n",
    "df_prob = pd.concat([df_prob, df[df['controle'] != 'OK']])\n",
    "df_prob.reset_index(drop=True, inplace=True)\n",
    "print(\"probs:\", len(df_prob))\n",
    "\n",
    "df = df[df['controle'] == 'OK']\n",
    "df.reset_index(drop=True, inplace=True)\n",
    "print(\"ok:\", len(df)) "
   ]
  },
  {
   "cell_type": "markdown",
   "id": "784bfc9f",
   "metadata": {},
   "source": [
    "# AUTOMAÇÃO"
   ]
  },
  {
   "cell_type": "code",
   "execution_count": 8,
   "id": "8222fc43",
   "metadata": {},
   "outputs": [],
   "source": [
    "browser = webdriver.Firefox()\n",
    "\n",
    "browser.get('https://www.pegaplantao.com.br/login')\n",
    "sleep(1)\n",
    "browser.find_element(\"xpath\", '//*[@id=\"MainContent_LoginUser_UserName\"]').send_keys('gabriel_s_anjos@yahoo.com') #e-mail\n",
    "browser.find_element(\"xpath\", '//*[@id=\"MainContent_LoginUser_Password\"]').send_keys('Gabriel2022!') #senha\n",
    "browser.find_element(\"xpath\", '//*[@id=\"MainContent_LoginUser_btnLogin\"]').click() #login"
   ]
  },
  {
   "cell_type": "code",
   "execution_count": 9,
   "id": "6c309e95",
   "metadata": {},
   "outputs": [],
   "source": [
    "browser.get('https://www.pegaplantao.com.br/EscalaMensal')"
   ]
  },
  {
   "cell_type": "code",
   "execution_count": 10,
   "id": "716a4e56",
   "metadata": {},
   "outputs": [],
   "source": [
    "#click setor/profissional\n",
    "browser.find_element(\"xpath\", '//*[@id=\"s2id_autogen1\"]/a/span[1]').click()\n",
    "#click [profissional]\n",
    "browser.find_element(\"xpath\", '//*[@id=\"select2-drop\"]/ul/li[2]/div').click()"
   ]
  },
  {
   "cell_type": "markdown",
   "id": "e746841b",
   "metadata": {},
   "source": [
    "# Função de captura dos dados"
   ]
  },
  {
   "cell_type": "code",
   "execution_count": 11,
   "id": "59eeb7aa",
   "metadata": {
    "scrolled": true
   },
   "outputs": [
    {
     "data": {
      "text/html": [
       "<div>\n",
       "<style scoped>\n",
       "    .dataframe tbody tr th:only-of-type {\n",
       "        vertical-align: middle;\n",
       "    }\n",
       "\n",
       "    .dataframe tbody tr th {\n",
       "        vertical-align: top;\n",
       "    }\n",
       "\n",
       "    .dataframe thead th {\n",
       "        text-align: right;\n",
       "    }\n",
       "</style>\n",
       "<table border=\"1\" class=\"dataframe\">\n",
       "  <thead>\n",
       "    <tr style=\"text-align: right;\">\n",
       "      <th></th>\n",
       "      <th>Dia</th>\n",
       "      <th>Unidade</th>\n",
       "      <th>Periodo</th>\n",
       "      <th>Semana</th>\n",
       "      <th>Dia Semana</th>\n",
       "      <th>Entrada</th>\n",
       "      <th>Saida</th>\n",
       "      <th>ordem</th>\n",
       "      <th>data</th>\n",
       "      <th>PERIODO</th>\n",
       "      <th>periodo</th>\n",
       "    </tr>\n",
       "  </thead>\n",
       "  <tbody>\n",
       "  </tbody>\n",
       "</table>\n",
       "</div>"
      ],
      "text/plain": [
       "Empty DataFrame\n",
       "Columns: [Dia, Unidade, Periodo, Semana, Dia Semana, Entrada, Saida, ordem, data, PERIODO, periodo]\n",
       "Index: []"
      ]
     },
     "execution_count": 11,
     "metadata": {},
     "output_type": "execute_result"
    }
   ],
   "source": [
    "#########2\n",
    "#capturando registros\n",
    "unidades = ['ADMINISTRACAO','ALPHA','ANALIA','AVICCENA',\n",
    "            'ITAIM','JABAQUARA','MATERNIDADE','MORUMBI',\n",
    "            'OSASCO','VILLA','VNS','SANTA ISABEL']\n",
    "\n",
    "def funcao():\n",
    "    lista_tabela = []\n",
    "    for i in range(1, 6): #passando por cada semana[1 a 5]\n",
    "    ##print('semana:', i, \"==\"*20)\n",
    "        for t in range(1, 8): #passando por cada dia[1 a 7] dentro da semana\n",
    "            reg = browser.find_element(\"xpath\", '/html/body/form/main/div[2]/div[2]/table/tbody/tr['+str(i)+']/td['+str(t)+']').text\n",
    "            content = reg.splitlines() #deixando as palavras em um item dentro de uma lista\n",
    "            content = [unidecode.unidecode(i.strip().upper()) for i in content] #tratando cada palavra\n",
    "\n",
    "            dia = content[0] #dia do registro\n",
    "            del(content[0]) #deletando o dia, ja que foi coletado\n",
    "            del(content[-1]) #deletando resido do wepscraping\n",
    "\n",
    "            if len(content) != 0: #ignorando dias em branco (sem registro) ¹\n",
    "                #print('dia:', t)\n",
    "\n",
    "                ##print('dia:', dia)\n",
    "                #print(content)\n",
    "\n",
    "                count_hora = 0 #count para capturar a hora de entrada e saida, count=1(entrada) | count=2(saida)\n",
    "                lista_control = []\n",
    "                for y in content: #passando um for sobre cada item da lista\n",
    "                    if y in unidades: # capturando a unidade e dando inicio a novo registro novo\n",
    "                        #print('================unidade:', y)\n",
    "                        unidade = y\n",
    "                    elif y[2] == ':': #reconhecendo se o item é hora (HH*:*mm)\n",
    "                        count_hora += 1\n",
    "                        if count_hora == 1: #capturando entrada\n",
    "                            #print('hora entrada:', y)\n",
    "                            lista_control.append(y)\n",
    "                        elif count_hora == 2: #capturando saida\n",
    "                            #print('hora saida:', y)\n",
    "                            lista_control.append(y)\n",
    "                            ##print('lista teste', lista_control)\n",
    "                            lista_tabela.append(lista_control)\n",
    "                            lista_control = []\n",
    "                            count_hora = 0\n",
    "                    else: #capturando dia, unidade, e periodo\n",
    "                        #print('.')\n",
    "                        #print('periodo:', y)\n",
    "                        lista_control.append(dia)\n",
    "                        lista_control.append(unidade)\n",
    "                        lista_control.append(y)\n",
    "                        lista_control.append(i)\n",
    "                        lista_control.append(t) #dia semanal\n",
    "\n",
    "                ##print('='*20)    \n",
    "\n",
    "            else:\n",
    "                continue #ignorando dias em branco (sem registro) ²\n",
    "    \n",
    "    tabela = pd.DataFrame(lista_tabela, columns = ['Dia','Unidade','Periodo','Semana','Dia Semana','Entrada','Saida'])\n",
    "    \n",
    "    #limpeza da tabela\n",
    "    #########3\n",
    "    tabela['Dia'] = tabela['Dia'].apply(lambda x: int(x))\n",
    "\n",
    "    #recolhendo os dias do mes passado que ainda aparecem na primeira semana\n",
    "    dias_mes_passado = list(tabela[(tabela['Dia'] > 20) & (tabela['Semana'] == 1)].index) \n",
    "    tabela.drop(dias_mes_passado, axis=0, inplace=True) #excluindo\n",
    "    tabela.reset_index(drop=True, inplace=True) #resetando index\n",
    "\n",
    "    #Inserindo a ordem dos registros\n",
    "    tabela['ordem'] = ''\n",
    "\n",
    "    for i in tabela['Dia'].unique():\n",
    "        for t in range(0, len(tabela[tabela['Dia'] == i].index)):\n",
    "            tabela['ordem'][tabela[tabela['Dia'] == i].index[t]] = t+1\n",
    "\n",
    "    #Inserindo coluna de data        \n",
    "    tabela['data'] = tabela['Dia'].apply(lambda x: str(x))\n",
    "\n",
    "    for i in range(len(tabela)):\n",
    "        if len(tabela['data'][i]) == 1:\n",
    "            tabela['data'][i] = \"0\" + tabela['data'][i]\n",
    "\n",
    "        tabela['data'][i] = tabela['data'][i] + \"/\" + mes + \"/2023\" \n",
    "\n",
    "    tabela = tabela.query(\"Unidade != 'ADMINISTRACAO'\")\n",
    "    tabela = tabela[~((tabela['Semana'] >= 5) & (tabela['Dia'] < 10))]\n",
    "    tabela.reset_index(drop=True, inplace=True) #resetando index\n",
    "    \n",
    "    tabela['PERIODO'] = np.nan\n",
    "    for i in range(0, len(tabela)):\n",
    "        if int(tabela['Entrada'][i][:2]) <= 6:\n",
    "            tabela['PERIODO'][i] = '6h'\n",
    "        elif int(tabela['Entrada'][i][:2]) >= 7 and int(tabela['Entrada'][i][:2]) <= 12:\n",
    "            tabela['PERIODO'][i] = 'manha'\n",
    "        elif int(tabela['Entrada'][i][:2]) >= 13 and int(tabela['Entrada'][i][:2]) <= 18:\n",
    "            tabela['PERIODO'][i] = 'tarde'\n",
    "        else:\n",
    "            tabela['PERIODO'][i] = 'noturno saida'\n",
    "\n",
    "    tabela['periodo'] = np.nan\n",
    "    tabela['periodo'][tabela['PERIODO'] == '6h'] = 1\n",
    "    tabela['periodo'][tabela['PERIODO'] == 'manha'] = 2\n",
    "    tabela['periodo'][tabela['PERIODO'] == 'tarde'] = 3\n",
    "    tabela['periodo'][tabela['PERIODO'] == 'noturno saida'] = 4\n",
    "    \n",
    "    \n",
    "    \n",
    "    return tabela\n",
    "    \n",
    "tabela = funcao()\n",
    "tabela"
   ]
  },
  {
   "cell_type": "code",
   "execution_count": 12,
   "id": "b5a564bc",
   "metadata": {},
   "outputs": [],
   "source": [
    "def apagando_todos_registros(dia_ordem):\n",
    "    #abrindo/selecionando periodo conforme localização\n",
    "    elemento = browser.find_element(\"xpath\", '//*[@id=\"shift-monthly\"]/div[2]/table/tbody/tr['+str(dia_sel['Semana'][0])+']/td['+str(dia_sel['Dia Semana'][0])+']/ul['+str(dia_sel['ordem'][dia_ordem])+']/li')\n",
    "    elemento.click()\n",
    "\n",
    "    #Esperar componentes carregarem\n",
    "    WebDriverWait(browser, 10).until(visibility_of(browser.find_element(\"xpath\", '//*[@id=\"service-ckb-list-all-owner\"]')))\n",
    "\n",
    "    #Apagando\n",
    "    browser.find_element(\"xpath\", '/html/body/div[5]/div/div[1]/div[2]/button[1]').click()\n",
    "    #Clicando em continuar\n",
    "    sleep(0.5)\n",
    "    browser.find_element(\"xpath\", '/html/body/div[5]/div/div[1]/div[3]/button[2]').click()\n",
    "\n",
    "    #esperando carregamento do site para prosseguir\n",
    "    WebDriverWait(browser, 10).until_not(visibility_of(browser.find_element(\"xpath\", '//*[@id=\"modal-add-service\"]/div/div[1]/button')))\n",
    "\n",
    "#apagando_todos_registros(3)"
   ]
  },
  {
   "cell_type": "code",
   "execution_count": 13,
   "id": "4e853156",
   "metadata": {},
   "outputs": [
    {
     "data": {
      "text/html": [
       "<div>\n",
       "<style scoped>\n",
       "    .dataframe tbody tr th:only-of-type {\n",
       "        vertical-align: middle;\n",
       "    }\n",
       "\n",
       "    .dataframe tbody tr th {\n",
       "        vertical-align: top;\n",
       "    }\n",
       "\n",
       "    .dataframe thead th {\n",
       "        text-align: right;\n",
       "    }\n",
       "</style>\n",
       "<table border=\"1\" class=\"dataframe\">\n",
       "  <thead>\n",
       "    <tr style=\"text-align: right;\">\n",
       "      <th></th>\n",
       "      <th>chat</th>\n",
       "      <th>dia</th>\n",
       "      <th>nome</th>\n",
       "      <th>mensagem</th>\n",
       "      <th>controle</th>\n",
       "      <th>data</th>\n",
       "      <th>hora</th>\n",
       "    </tr>\n",
       "  </thead>\n",
       "  <tbody>\n",
       "    <tr>\n",
       "      <th>0</th>\n",
       "      <td>[18/10/2023 09:34:58] Alexandre Amaral Lucas: ...</td>\n",
       "      <td>18/10/2023</td>\n",
       "      <td>ALEXANDRE AMARAL LUCAS</td>\n",
       "      <td>14/10 SANTA ISABEL  -  ALEXANDRE AMARAL  -  DI...</td>\n",
       "      <td>OK</td>\n",
       "      <td>14/10/2023</td>\n",
       "      <td></td>\n",
       "    </tr>\n",
       "    <tr>\n",
       "      <th>1</th>\n",
       "      <td>[26/10/2023 08:46:44] Felipe de Oliveira Nunes...</td>\n",
       "      <td>26/10/2023</td>\n",
       "      <td>FELIPE DE OLIVEIRA NUNES</td>\n",
       "      <td>25/10 SANTA ISABEL  -  NUNES DISPENSADO    (  ...</td>\n",
       "      <td>OK</td>\n",
       "      <td>25/10/2023</td>\n",
       "      <td></td>\n",
       "    </tr>\n",
       "    <tr>\n",
       "      <th>2</th>\n",
       "      <td>[19/10/2023 12:51:15] Paula Lopes Agapito de F...</td>\n",
       "      <td>19/10/2023</td>\n",
       "      <td>PAULA LOPES AGAPITO DE FREITAS</td>\n",
       "      <td>19/10  -  ANÁLIA  -  PAULA A  -  DISPENSADO   ...</td>\n",
       "      <td>OK</td>\n",
       "      <td>19/10/2023</td>\n",
       "      <td></td>\n",
       "    </tr>\n",
       "    <tr>\n",
       "      <th>3</th>\n",
       "      <td>[21/10/2023 11:03:22] Paula Lopes Agapito de F...</td>\n",
       "      <td>21/10/2023</td>\n",
       "      <td>PAULA LOPES AGAPITO DE FREITAS</td>\n",
       "      <td>21/10  -  ANÁLIA  -  PAULA A  -  DISPENSADO   ...</td>\n",
       "      <td>OK</td>\n",
       "      <td>21/10/2023</td>\n",
       "      <td></td>\n",
       "    </tr>\n",
       "  </tbody>\n",
       "</table>\n",
       "</div>"
      ],
      "text/plain": [
       "                                                chat         dia  \\\n",
       "0  [18/10/2023 09:34:58] Alexandre Amaral Lucas: ...  18/10/2023   \n",
       "1  [26/10/2023 08:46:44] Felipe de Oliveira Nunes...  26/10/2023   \n",
       "2  [19/10/2023 12:51:15] Paula Lopes Agapito de F...  19/10/2023   \n",
       "3  [21/10/2023 11:03:22] Paula Lopes Agapito de F...  21/10/2023   \n",
       "\n",
       "                             nome  \\\n",
       "0          ALEXANDRE AMARAL LUCAS   \n",
       "1        FELIPE DE OLIVEIRA NUNES   \n",
       "2  PAULA LOPES AGAPITO DE FREITAS   \n",
       "3  PAULA LOPES AGAPITO DE FREITAS   \n",
       "\n",
       "                                            mensagem controle        data hora  \n",
       "0  14/10 SANTA ISABEL  -  ALEXANDRE AMARAL  -  DI...       OK  14/10/2023       \n",
       "1  25/10 SANTA ISABEL  -  NUNES DISPENSADO    (  ...       OK  25/10/2023       \n",
       "2  19/10  -  ANÁLIA  -  PAULA A  -  DISPENSADO   ...       OK  19/10/2023       \n",
       "3  21/10  -  ANÁLIA  -  PAULA A  -  DISPENSADO   ...       OK  21/10/2023       "
      ]
     },
     "execution_count": 13,
     "metadata": {},
     "output_type": "execute_result"
    }
   ],
   "source": [
    "df_backup = df.copy()\n",
    "df_backup.head()"
   ]
  },
  {
   "cell_type": "code",
   "execution_count": 14,
   "id": "bc42748a",
   "metadata": {},
   "outputs": [],
   "source": [
    "from selenium.webdriver.common.action_chains import ActionChains\n",
    "\n",
    "action_chains = ActionChains(browser)"
   ]
  },
  {
   "cell_type": "code",
   "execution_count": 15,
   "id": "16f10ea5",
   "metadata": {},
   "outputs": [],
   "source": [
    "count = 0"
   ]
  },
  {
   "cell_type": "code",
   "execution_count": 16,
   "id": "414eb5a7",
   "metadata": {},
   "outputs": [],
   "source": [
    "df_backup['controle'] = np.nan"
   ]
  },
  {
   "cell_type": "code",
   "execution_count": 20,
   "id": "79144cc1",
   "metadata": {
    "scrolled": true
   },
   "outputs": [
    {
     "name": "stdout",
     "output_type": "stream",
     "text": [
      "nome: PAULA LOPES AGAPITO DE FREITAS\n",
      "19/10  -  ANÁLIA  -  PAULA A  -  DISPENSADO      (      SAÚDE     )     \n",
      "2 -> PROB\n",
      "[19/10/2023 12:51:15] Paula Lopes Agapito de Freitas: 19/10 - Anália - Paula A - dispensada ( saúde) - 19/10/2023\n",
      "21/10  -  ANÁLIA  -  PAULA A  -  DISPENSADO      (      SAÚDE     )     \n",
      "3 -> PROB\n",
      "[21/10/2023 11:03:22] Paula Lopes Agapito de Freitas: 21/10 - Anália - Paula A - dispensada ( saúde) - 21/10/2023\n",
      "\n",
      "\n",
      "========================= TERMINOU =========================\n"
     ]
    }
   ],
   "source": [
    "#Para cada profissional na lista\n",
    "df = df_backup[count:]\n",
    "\n",
    "for i in df['nome'].unique():\n",
    "    print(\"nome:\", i)\n",
    "    df_nome = df[df['nome'] == i]\n",
    "    df_nome.reset_index(drop=True, inplace=True)\n",
    "    \n",
    "    browser.find_element(\"xpath\", '//*[@id=\"s2id_ddlProfessionals\"]/a/span[1]').click()\n",
    "    #browser.find_element(\"xpath\", '/html/body/form/main/div[2]/div[2]/div/div[1]/div[3]/professionals/div/a/span[2]/b').click()\n",
    "    sleep(2)\n",
    "    \n",
    "    browser.find_element(\"xpath\", '/html/body/div[8]/div/input').send_keys(i)\n",
    "    browser.find_element(\"xpath\", '//*[@id=\"select2-drop\"]/ul/li/div').click()\n",
    "\n",
    "    #esperando carregamento do site\n",
    "    WebDriverWait(browser, 30).until_not(visibility_of(browser.find_element(\"xpath\", '//*[@id=\"loader\"]')))\n",
    "\n",
    "    sleep(2)\n",
    "    tabela = funcao()  \n",
    "    sleep(2)\n",
    "    \n",
    "    #Para cada registro na lista_nome\n",
    "    for t in range(len(df_nome)):\n",
    "        print(df_nome['mensagem'][t])\n",
    "        dia_sel = tabela[tabela['data'] == df_nome['data'][t]]\n",
    "        dia_sel.reset_index(drop=True, inplace=True)\n",
    "        \n",
    "        if len(dia_sel) == 0:\n",
    "            print(count, \"-> PROB\")\n",
    "            print(df_nome['chat'][t] + \" - \" + df_nome['data'][t])\n",
    "            df_backup['controle'][count] = \"PROB\"\n",
    "        else:\n",
    "            for r in range(len(dia_sel)-1, -1, -1):\n",
    "                print('PRINCIPAL')\n",
    "                #abrindo/selecionando periodo conforme localização\n",
    "                dia_ordem = r\n",
    "                xpath_textao = '//*[@id=\"shift-monthly\"]/div[2]/table/tbody/tr['+str(dia_sel['Semana'][0])+']/td['+str(dia_sel['Dia Semana'][0])+']/ul['+str(dia_sel['ordem'][dia_ordem])+']/li'\n",
    "                elemento = browser.find_element(\"xpath\", xpath_textao)\n",
    "                elemento.click()\n",
    "\n",
    "                #Esperar componentes carregarem\n",
    "                WebDriverWait(browser, 10).until(visibility_of(browser.find_element(\"xpath\", '//*[@id=\"service-ckb-list-all-owner\"]')))\n",
    "\n",
    "                #Apagando\n",
    "                browser.find_element(\"xpath\", '/html/body/div[5]/div/div[1]/div[2]/button[1]').click()\n",
    "                #Clicando em continuar\n",
    "                sleep(0.5)\n",
    "                browser.find_element(\"xpath\", '/html/body/div[5]/div/div[1]/div[3]/button[2]').click()\n",
    "\n",
    "                #esperando carregamento do site para prosseguir\n",
    "                WebDriverWait(browser, 20).until_not(visibility_of(browser.find_element(\"xpath\", '//*[@id=\"modal-add-service\"]/div/div[1]/button')))\n",
    "            \n",
    "            tabela = funcao() #atualizando tabela de registros\n",
    "            sleep(2)\n",
    "            print(count, '-> OK')\n",
    "            print(df_nome['chat'][t] + \" - \" + df_nome['data'][t])\n",
    "            df_backup['controle'][count] = \"OK\"\n",
    "            \n",
    "        count += 1 \n",
    "        if count % 50 == 0:\n",
    "            print('='*80)\n",
    "            print(df_backup['controle'].value_counts())\n",
    "            print('='*80)\n",
    "            \n",
    "        if count > 10:\n",
    "            break\n",
    "    print('\\n')\n",
    "    \n",
    "print('='*25, 'TERMINOU', '='*25)"
   ]
  },
  {
   "cell_type": "code",
   "execution_count": null,
   "id": "d4653b1f",
   "metadata": {},
   "outputs": [],
   "source": [
    "/html/body/div[6]/div/input"
   ]
  },
  {
   "cell_type": "code",
   "execution_count": null,
   "id": "2d2a0c74",
   "metadata": {},
   "outputs": [],
   "source": [
    "df_backup['controle'][count] = \"OK\"\n",
    "count += 1\n",
    "print(df_backup['nome'][count])\n",
    "print(df_backup['mensagem'][count])"
   ]
  },
  {
   "cell_type": "code",
   "execution_count": null,
   "id": "59d492e5",
   "metadata": {},
   "outputs": [],
   "source": [
    "print(df_backup['nome'][count])\n",
    "print(df_backup['mensagem'][count])"
   ]
  },
  {
   "cell_type": "code",
   "execution_count": null,
   "id": "498c719f",
   "metadata": {},
   "outputs": [],
   "source": []
  },
  {
   "cell_type": "code",
   "execution_count": null,
   "id": "621d68b1",
   "metadata": {},
   "outputs": [],
   "source": [
    "print(df_backup['controle'].value_counts())"
   ]
  },
  {
   "cell_type": "code",
   "execution_count": null,
   "id": "f5e5c035",
   "metadata": {},
   "outputs": [],
   "source": []
  },
  {
   "cell_type": "code",
   "execution_count": 21,
   "id": "5294c688",
   "metadata": {},
   "outputs": [
    {
     "name": "stdout",
     "output_type": "stream",
     "text": [
      "probs: 72\n",
      "ok: 1\n"
     ]
    },
    {
     "data": {
      "text/html": [
       "<div>\n",
       "<style scoped>\n",
       "    .dataframe tbody tr th:only-of-type {\n",
       "        vertical-align: middle;\n",
       "    }\n",
       "\n",
       "    .dataframe tbody tr th {\n",
       "        vertical-align: top;\n",
       "    }\n",
       "\n",
       "    .dataframe thead th {\n",
       "        text-align: right;\n",
       "    }\n",
       "</style>\n",
       "<table border=\"1\" class=\"dataframe\">\n",
       "  <thead>\n",
       "    <tr style=\"text-align: right;\">\n",
       "      <th></th>\n",
       "      <th>chat</th>\n",
       "      <th>dia</th>\n",
       "      <th>nome</th>\n",
       "      <th>mensagem</th>\n",
       "      <th>controle</th>\n",
       "      <th>data</th>\n",
       "      <th>hora</th>\n",
       "    </tr>\n",
       "  </thead>\n",
       "  <tbody>\n",
       "    <tr>\n",
       "      <th>0</th>\n",
       "      <td>[26/10/2023 08:46:44] Felipe de Oliveira Nunes...</td>\n",
       "      <td>26/10/2023</td>\n",
       "      <td>FELIPE DE OLIVEIRA NUNES</td>\n",
       "      <td>25/10 SANTA ISABEL  -  NUNES DISPENSADO    (  ...</td>\n",
       "      <td>DESLOCADO</td>\n",
       "      <td>25/10/2023</td>\n",
       "      <td></td>\n",
       "    </tr>\n",
       "  </tbody>\n",
       "</table>\n",
       "</div>"
      ],
      "text/plain": [
       "                                                chat         dia  \\\n",
       "0  [26/10/2023 08:46:44] Felipe de Oliveira Nunes...  26/10/2023   \n",
       "\n",
       "                       nome  \\\n",
       "0  FELIPE DE OLIVEIRA NUNES   \n",
       "\n",
       "                                            mensagem   controle        data  \\\n",
       "0  25/10 SANTA ISABEL  -  NUNES DISPENSADO    (  ...  DESLOCADO  25/10/2023   \n",
       "\n",
       "  hora  \n",
       "0       "
      ]
     },
     "execution_count": 21,
     "metadata": {},
     "output_type": "execute_result"
    }
   ],
   "source": [
    "#salvando\n",
    "df_prob = pd.concat([df_prob, df_backup[df_backup['controle'] != 'OK']])\n",
    "df_prob.reset_index(drop=True, inplace=True)\n",
    "print(\"probs:\", len(df_prob))\n",
    "\n",
    "df_backup = df_backup[df_backup['controle'] == 'OK']\n",
    "df_backup.reset_index(drop=True, inplace=True)\n",
    "print(\"ok:\", len(df_backup)) \n",
    "\n",
    "df_backup['controle'] = 'DESLOCADO'\n",
    "df_backup"
   ]
  },
  {
   "cell_type": "code",
   "execution_count": 22,
   "id": "f8735eb6",
   "metadata": {},
   "outputs": [
    {
     "name": "stdout",
     "output_type": "stream",
     "text": [
      "72\n"
     ]
    }
   ],
   "source": [
    "print(len(df_prob))"
   ]
  },
  {
   "cell_type": "code",
   "execution_count": 23,
   "id": "9d9fb845",
   "metadata": {},
   "outputs": [
    {
     "name": "stdout",
     "output_type": "stream",
     "text": [
      "+= 2579 ; len = 2580\n",
      ".\n",
      "72\n"
     ]
    }
   ],
   "source": [
    "def salvando_nome_arquivo(nome_arquivo, dataframe):\n",
    "    if os.path.exists(nome_arquivo): #O nome_arquivo existe\n",
    "        df1 = pd.read_excel(nome_arquivo)\n",
    "        dataframe = pd.concat([df1, dataframe]).reset_index(drop=True)\n",
    "        dataframe.to_excel(nome_arquivo, index=False)\n",
    "        print(\"+=\", len(df1), '; len =', len(dataframe)) \n",
    "\n",
    "    else: #O nome_arquivo não existe\n",
    "        dataframe.to_excel(nome_arquivo, index=False)\n",
    "        print(\"len =\", len(dataframe)) \n",
    "        \n",
    "salvando_nome_arquivo('Feitos.xlsx', df_backup)\n",
    "print('.')\n",
    "df_prob.to_excel('df_giov.xlsx', index=False)\n",
    "print(len(df_prob))"
   ]
  },
  {
   "cell_type": "code",
   "execution_count": 24,
   "id": "47cec55d",
   "metadata": {},
   "outputs": [],
   "source": [
    "browser.quit()"
   ]
  },
  {
   "cell_type": "code",
   "execution_count": null,
   "id": "6e930ad9",
   "metadata": {},
   "outputs": [],
   "source": []
  }
 ],
 "metadata": {
  "kernelspec": {
   "display_name": "Python 3 (ipykernel)",
   "language": "python",
   "name": "python3"
  },
  "language_info": {
   "codemirror_mode": {
    "name": "ipython",
    "version": 3
   },
   "file_extension": ".py",
   "mimetype": "text/x-python",
   "name": "python",
   "nbconvert_exporter": "python",
   "pygments_lexer": "ipython3",
   "version": "3.9.13"
  }
 },
 "nbformat": 4,
 "nbformat_minor": 5
}
