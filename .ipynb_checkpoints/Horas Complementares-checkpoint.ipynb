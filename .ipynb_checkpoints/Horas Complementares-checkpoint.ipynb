{
 "cells": [
  {
   "cell_type": "code",
   "execution_count": 1,
   "id": "bac1241b",
   "metadata": {
    "scrolled": true
   },
   "outputs": [],
   "source": [
    "import time\n",
    "from time import sleep\n",
    "import pyautogui"
   ]
  },
  {
   "cell_type": "code",
   "execution_count": 46,
   "id": "5300853d",
   "metadata": {},
   "outputs": [
    {
     "data": {
      "text/plain": [
       "Box(left=860, top=731, width=40, height=41)"
      ]
     },
     "execution_count": 46,
     "metadata": {},
     "output_type": "execute_result"
    }
   ],
   "source": [
    "arquivo = \"zoom_screen\"\n",
    "res = pyautogui.locateOnScreen(arquivo+\".png\")\n",
    "res"
   ]
  },
  {
   "cell_type": "code",
   "execution_count": 48,
   "id": "3f73bb0b",
   "metadata": {},
   "outputs": [
    {
     "name": "stdout",
     "output_type": "stream",
     "text": [
      "Box(left=860, top=731, width=40, height=41)\n"
     ]
    }
   ],
   "source": [
    "res = pyautogui.locateOnScreen(arquivo+\".png\", region=(860, 731, 40, 41))\n",
    "print(res)\n",
    "\n",
    "if res:\n",
    "    pyautogui.click(res)\n",
    "else:\n",
    "    print(\"não esta presente\")"
   ]
  },
  {
   "cell_type": "code",
   "execution_count": 49,
   "id": "a43004da",
   "metadata": {
    "scrolled": true
   },
   "outputs": [
    {
     "name": "stdout",
     "output_type": "stream",
     "text": [
      "Point(x=896, y=480)\n",
      "pronto\n"
     ]
    }
   ],
   "source": [
    "pyautogui.sleep(5)\n",
    "\n",
    "print(pyautogui.position())\n",
    "\n",
    "print('pronto')"
   ]
  },
  {
   "cell_type": "code",
   "execution_count": 3,
   "id": "5968bf02",
   "metadata": {},
   "outputs": [],
   "source": [
    "pyautogui.click(x=892, y=724)\n",
    "pyautogui.sleep(5)"
   ]
  },
  {
   "cell_type": "code",
   "execution_count": 52,
   "id": "ca520e09",
   "metadata": {},
   "outputs": [],
   "source": [
    "def movimento_mouse():\n",
    "    pyautogui.moveTo(x=600, y=500)\n",
    "    sleep(0.5)\n",
    "    pyautogui.moveTo(x=700, y=300)\n",
    "    sleep(0.5)\n",
    "    pyautogui.moveTo(x=522, y=421)\n",
    "    sleep(0.5)\n",
    "    pyautogui.moveTo(x=500, y=400)\n",
    "    sleep(0.5)\n",
    "    \n",
    "movimento_mouse()"
   ]
  },
  {
   "cell_type": "code",
   "execution_count": 56,
   "id": "7764c069",
   "metadata": {},
   "outputs": [
    {
     "ename": "KeyboardInterrupt",
     "evalue": "",
     "output_type": "error",
     "traceback": [
      "\u001b[1;31m---------------------------------------------------------------------------\u001b[0m",
      "\u001b[1;31mKeyboardInterrupt\u001b[0m                         Traceback (most recent call last)",
      "Cell \u001b[1;32mIn[56], line 7\u001b[0m\n\u001b[0;32m      4\u001b[0m pyautogui\u001b[38;5;241m.\u001b[39mclick(x\u001b[38;5;241m=\u001b[39m\u001b[38;5;241m892\u001b[39m, y\u001b[38;5;241m=\u001b[39m\u001b[38;5;241m724\u001b[39m)\n\u001b[0;32m      6\u001b[0m movimento_mouse()\n\u001b[1;32m----> 7\u001b[0m sleep(\u001b[38;5;241m4.5\u001b[39m)\n\u001b[0;32m      9\u001b[0m res \u001b[38;5;241m=\u001b[39m pyautogui\u001b[38;5;241m.\u001b[39mlocateOnScreen(\u001b[38;5;124m\"\u001b[39m\u001b[38;5;124mpular_teste.png\u001b[39m\u001b[38;5;124m\"\u001b[39m, region\u001b[38;5;241m=\u001b[39m(\u001b[38;5;241m200\u001b[39m, \u001b[38;5;241m369\u001b[39m, \u001b[38;5;241m103\u001b[39m, \u001b[38;5;241m45\u001b[39m))\n\u001b[0;32m     10\u001b[0m \u001b[38;5;28;01mif\u001b[39;00m res:\n",
      "\u001b[1;31mKeyboardInterrupt\u001b[0m: "
     ]
    }
   ],
   "source": [
    "for i in range(400):\n",
    "    movimento_mouse()\n",
    "    \n",
    "    pyautogui.click(x=892, y=724)\n",
    "        \n",
    "    movimento_mouse()\n",
    "    sleep(4.5)\n",
    "    \n",
    "    res = pyautogui.locateOnScreen(\"pular_teste.png\", region=(200, 369, 103, 45))\n",
    "    if res:\n",
    "        pyautogui.click(res)\n",
    "        movimento_mouse()\n",
    "        res = pyautogui.locateOnScreen(\"zoom_screen.png\", region=(860, 731, 40, 41))\n",
    "        if res:\n",
    "            pyautogui.click(x=896, y=480)\n",
    "        else:\n",
    "            continue\n",
    "    else:\n",
    "        continue"
   ]
  },
  {
   "cell_type": "code",
   "execution_count": null,
   "id": "f3a5e216",
   "metadata": {},
   "outputs": [],
   "source": []
  }
 ],
 "metadata": {
  "kernelspec": {
   "display_name": "Python 3 (ipykernel)",
   "language": "python",
   "name": "python3"
  },
  "language_info": {
   "codemirror_mode": {
    "name": "ipython",
    "version": 3
   },
   "file_extension": ".py",
   "mimetype": "text/x-python",
   "name": "python",
   "nbconvert_exporter": "python",
   "pygments_lexer": "ipython3",
   "version": "3.11.5"
  }
 },
 "nbformat": 4,
 "nbformat_minor": 5
}
