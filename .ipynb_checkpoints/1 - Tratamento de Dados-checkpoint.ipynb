{
 "cells": [
  {
   "cell_type": "code",
   "execution_count": 1,
   "id": "f8b6974e",
   "metadata": {},
   "outputs": [],
   "source": [
    "#Definindo finais de semana\n",
    "mes = \"05\"\n",
    "lista_fds = ['04','05','11','12','18','19','25','26']"
   ]
  },
  {
   "cell_type": "code",
   "execution_count": 2,
   "id": "d2fe182d-1183-4c4c-a4a5-83e461f11766",
   "metadata": {},
   "outputs": [],
   "source": [
    "# Manipulação e Tratamento de dados\n",
    "import openpyxl\n",
    "import pandas as pd\n",
    "import numpy as np\n",
    "from numpy import NaN\n",
    "\n",
    "#ignorando Warning inuteis\n",
    "import warnings \n",
    "from pandas.errors import SettingWithCopyWarning\n",
    "warnings.simplefilter(action=\"ignore\", category=SettingWithCopyWarning)\n",
    "warnings.filterwarnings(action='ignore', category=FutureWarning)\n",
    "warnings.simplefilter(action='ignore', category=UserWarning)\n",
    "\n",
    "#definindo quantidade de linhas e colunas visiveis\n",
    "pd.set_option('display.max_rows', 500)\n",
    "pd.set_option('display.max_columns', 500)\n",
    "\n",
    "# Manipulação de Strings\n",
    "import unidecode # => unidecode(string)\n",
    "import re # Regex\n",
    "\n",
    "# Repositorio - Diretorio\n",
    "import os\n",
    "import shutil"
   ]
  },
  {
   "cell_type": "code",
   "execution_count": 3,
   "id": "49ac7f28",
   "metadata": {},
   "outputs": [],
   "source": [
    "#######################-FUNÇÕES\n",
    "def count_freq(data_frame, coluna):\n",
    "    freq = df[coluna].value_counts()\n",
    "    perc = df[coluna].value_counts(normalize = True)*100\n",
    "    tabela = pd.DataFrame({\"Freq\":freq, \"Perc\":perc})\n",
    "    return display(tabela)\n",
    "        \n",
    "def tabela_cont(linha, coluna):\n",
    "    a = df.groupby([linha, coluna]).size().unstack()\n",
    "    for i in a.columns:\n",
    "        a[i].fillna(0, inplace = True)\n",
    "        a[i] = a[i].apply(lambda x: int(x))\n",
    "    return a\n",
    "    print('='*100)\n",
    "\n",
    "def tabela_cont_percent(linha, coluna, opcao):\n",
    "    result = tabela_cont(linha, coluna)\n",
    "    if opcao == 'Linha':\n",
    "        return round(result.div(result.sum(axis=1), axis=0) * 100, 2)\n",
    "    elif opcao == 'Coluna':\n",
    "        return round(result.div(result.sum(), axis=1) * 100, 2)\n",
    "    else:\n",
    "        return 'Opção invalida'"
   ]
  },
  {
   "cell_type": "code",
   "execution_count": 4,
   "id": "aeccce21-e074-44e1-8fa3-f9372d90e0c8",
   "metadata": {},
   "outputs": [],
   "source": [
    "def salvando_nome_arquivo(nome_arquivo, dataframe):\n",
    "    if os.path.exists(nome_arquivo): #O nome_arquivo existe\n",
    "        df1 = pd.read_excel(nome_arquivo)\n",
    "        len_antigo = len(dataframe)\n",
    "        \n",
    "        dataframe = pd.concat([df1, dataframe]).reset_index(drop=True)\n",
    "        dataframe = dataframe.drop_duplicates(subset=['chat'])\n",
    "        \n",
    "        print(len(df1), \" += \", len_antigo, \"=>\", len(dataframe))\n",
    "        \n",
    "        dataframe.to_excel(nome_arquivo, index=False)\n",
    "    \n",
    "    else: #O nome_arquivo não existe\n",
    "        dataframe.to_excel(nome_arquivo, index=False)\n",
    "        print(len(dataframe)) "
   ]
  },
  {
   "cell_type": "code",
   "execution_count": 5,
   "id": "d5eaacb8",
   "metadata": {},
   "outputs": [],
   "source": [
    "def read_file(file_path):\n",
    "    # 1. Ler o arquivo txt\n",
    "    with open(file_path, \"r\", encoding=\"utf-8\") as file:\n",
    "        lines = file.readlines()\n",
    "    \n",
    "    # 2. Remover todas as linhas que contêm \"Mensagem apagada\"\n",
    "    lines = [line for line in lines if \"Mensagem apagada\" not in line]\n",
    "    \n",
    "    # 3. Corrigir as mensagens que estão em várias linhas para que fiquem em uma única linha\n",
    "    corrected_lines = []\n",
    "    current_message = \"\"\n",
    "    \n",
    "    for line in lines:\n",
    "        # Se a linha começa com o padrão de data e hora, ela é uma nova mensagem\n",
    "        if re.match(r\"^\\[\\d{2}/\\d{2}/\\d{4} \\d{2}:\\d{2}:\\d{2}\\]\", line):\n",
    "            if current_message:  # Se há uma mensagem anterior, adicione-a à lista\n",
    "                corrected_lines.append(current_message)\n",
    "            current_message = line.strip()  # Comece uma nova mensagem\n",
    "        else:\n",
    "            current_message += \" \" + line.strip()  # Adicione o conteúdo da linha atual à mensagem em progresso\n",
    "    \n",
    "    # Adiciona a última mensagem, se houver\n",
    "    if current_message:\n",
    "        corrected_lines.append(current_message)\n",
    "    \n",
    "    # Salvando arquivo txt\n",
    "    with open(file_path, \"w\", encoding=\"utf-8\") as file:\n",
    "        for line in corrected_lines:\n",
    "            file.write(line + \"\\n\")\n",
    "    \n",
    "    # Lendo arquivo txt e transformando em dataframe cada mensagem\n",
    "    with open(file_path, 'r', encoding='utf-8') as file:\n",
    "        content = file.read().splitlines()\n",
    "    \n",
    "    return content"
   ]
  },
  {
   "cell_type": "code",
   "execution_count": 6,
   "id": "1fee3337-c95d-4abd-908a-5d2523c80f8d",
   "metadata": {},
   "outputs": [
    {
     "name": "stdout",
     "output_type": "stream",
     "text": [
      "256\n"
     ]
    },
    {
     "data": {
      "text/html": [
       "<div>\n",
       "<style scoped>\n",
       "    .dataframe tbody tr th:only-of-type {\n",
       "        vertical-align: middle;\n",
       "    }\n",
       "\n",
       "    .dataframe tbody tr th {\n",
       "        vertical-align: top;\n",
       "    }\n",
       "\n",
       "    .dataframe thead th {\n",
       "        text-align: right;\n",
       "    }\n",
       "</style>\n",
       "<table border=\"1\" class=\"dataframe\">\n",
       "  <thead>\n",
       "    <tr style=\"text-align: right;\">\n",
       "      <th></th>\n",
       "      <th>controle</th>\n",
       "      <th>chat</th>\n",
       "    </tr>\n",
       "  </thead>\n",
       "  <tbody>\n",
       "    <tr>\n",
       "      <th>0</th>\n",
       "      <td>NaN</td>\n",
       "      <td>[27/05/2024 17:42:14] Marcela Aparecida Correa...</td>\n",
       "    </tr>\n",
       "    <tr>\n",
       "      <th>1</th>\n",
       "      <td>NaN</td>\n",
       "      <td>[27/05/2024 17:42:33] Marcela Aparecida Correa...</td>\n",
       "    </tr>\n",
       "    <tr>\n",
       "      <th>2</th>\n",
       "      <td>NaN</td>\n",
       "      <td>[27/05/2024 17:57:43] Rodrigo Andrade Carmello...</td>\n",
       "    </tr>\n",
       "    <tr>\n",
       "      <th>3</th>\n",
       "      <td>NaN</td>\n",
       "      <td>[27/05/2024 17:58:27] Rodrigo Andrade Carmello...</td>\n",
       "    </tr>\n",
       "    <tr>\n",
       "      <th>4</th>\n",
       "      <td>NaN</td>\n",
       "      <td>[27/05/2024 18:22:11] Marcos Bastos dos Santos...</td>\n",
       "    </tr>\n",
       "  </tbody>\n",
       "</table>\n",
       "</div>"
      ],
      "text/plain": [
       "   controle                                               chat\n",
       "0       NaN  [27/05/2024 17:42:14] Marcela Aparecida Correa...\n",
       "1       NaN  [27/05/2024 17:42:33] Marcela Aparecida Correa...\n",
       "2       NaN  [27/05/2024 17:57:43] Rodrigo Andrade Carmello...\n",
       "3       NaN  [27/05/2024 17:58:27] Rodrigo Andrade Carmello...\n",
       "4       NaN  [27/05/2024 18:22:11] Marcos Bastos dos Santos..."
      ]
     },
     "metadata": {},
     "output_type": "display_data"
    },
    {
     "data": {
      "text/html": [
       "<div>\n",
       "<style scoped>\n",
       "    .dataframe tbody tr th:only-of-type {\n",
       "        vertical-align: middle;\n",
       "    }\n",
       "\n",
       "    .dataframe tbody tr th {\n",
       "        vertical-align: top;\n",
       "    }\n",
       "\n",
       "    .dataframe thead th {\n",
       "        text-align: right;\n",
       "    }\n",
       "</style>\n",
       "<table border=\"1\" class=\"dataframe\">\n",
       "  <thead>\n",
       "    <tr style=\"text-align: right;\">\n",
       "      <th></th>\n",
       "      <th>controle</th>\n",
       "      <th>chat</th>\n",
       "    </tr>\n",
       "  </thead>\n",
       "  <tbody>\n",
       "  </tbody>\n",
       "</table>\n",
       "</div>"
      ],
      "text/plain": [
       "Empty DataFrame\n",
       "Columns: [controle, chat]\n",
       "Index: []"
      ]
     },
     "metadata": {},
     "output_type": "display_data"
    }
   ],
   "source": [
    "df = pd.DataFrame({'chat': read_file('_chat.txt') })\n",
    "df['controle'] = np.nan\n",
    "df = df[['controle','chat']]\n",
    "df_prob = pd.DataFrame(columns = ['controle','chat'])\n",
    "\n",
    "print(len(df))\n",
    "display(df.head())\n",
    "display(df_prob)"
   ]
  },
  {
   "cell_type": "code",
   "execution_count": 7,
   "id": "c3ae24a7-a641-498f-a5e9-5308e69d7c02",
   "metadata": {},
   "outputs": [],
   "source": [
    "def sample_prob(nivel):\n",
    "    '''\n",
    "    data = df_prob[df_prob['controle'] == nivel]\n",
    "    tamanho = len(data)\n",
    "    try:\n",
    "        if tamanho == 0:\n",
    "            data_exibir = str('0 itens do prob' + nivel)\n",
    "        if tamanho == 1:\n",
    "            data_exibir = data['mensagem'].sample(1)\n",
    "        if tamanho == 2:\n",
    "            data_exibir = data['mensagem'].sample(2)\n",
    "        if tamanho > 5:\n",
    "            data_exibir = data['mensagem'].sample(5)\n",
    "    except:\n",
    "        data_exibir = 'erro'\n",
    "    '''\n",
    "    return 'nada'"
   ]
  },
  {
   "cell_type": "markdown",
   "id": "a934116b",
   "metadata": {},
   "source": [
    "# DIA QUE FOI ENVIADA A MENSAGEM"
   ]
  },
  {
   "cell_type": "code",
   "execution_count": 8,
   "id": "cc51b463",
   "metadata": {},
   "outputs": [
    {
     "name": "stdout",
     "output_type": "stream",
     "text": [
      "Quantidade de mensagens por dia:\n"
     ]
    },
    {
     "data": {
      "text/html": [
       "<div>\n",
       "<style scoped>\n",
       "    .dataframe tbody tr th:only-of-type {\n",
       "        vertical-align: middle;\n",
       "    }\n",
       "\n",
       "    .dataframe tbody tr th {\n",
       "        vertical-align: top;\n",
       "    }\n",
       "\n",
       "    .dataframe thead th {\n",
       "        text-align: right;\n",
       "    }\n",
       "</style>\n",
       "<table border=\"1\" class=\"dataframe\">\n",
       "  <thead>\n",
       "    <tr style=\"text-align: right;\">\n",
       "      <th></th>\n",
       "      <th>Freq</th>\n",
       "      <th>Perc</th>\n",
       "    </tr>\n",
       "    <tr>\n",
       "      <th>dia</th>\n",
       "      <th></th>\n",
       "      <th></th>\n",
       "    </tr>\n",
       "  </thead>\n",
       "  <tbody>\n",
       "    <tr>\n",
       "      <th>28/05/2024</th>\n",
       "      <td>130</td>\n",
       "      <td>50.78125</td>\n",
       "    </tr>\n",
       "    <tr>\n",
       "      <th>29/05/2024</th>\n",
       "      <td>82</td>\n",
       "      <td>32.03125</td>\n",
       "    </tr>\n",
       "    <tr>\n",
       "      <th>27/05/2024</th>\n",
       "      <td>44</td>\n",
       "      <td>17.18750</td>\n",
       "    </tr>\n",
       "  </tbody>\n",
       "</table>\n",
       "</div>"
      ],
      "text/plain": [
       "            Freq      Perc\n",
       "dia                       \n",
       "28/05/2024   130  50.78125\n",
       "29/05/2024    82  32.03125\n",
       "27/05/2024    44  17.18750"
      ]
     },
     "metadata": {},
     "output_type": "display_data"
    }
   ],
   "source": [
    "dia = []\n",
    "for i in range(0, len(df['chat'])):\n",
    "    dia.append(df['chat'][i][1:11]) #pegando exatamente aonde parte da data esta\n",
    "df['dia'] = dia\n",
    "#print(sorted(df['dia'].unique()))\n",
    "print(\"Quantidade de mensagens por dia:\")\n",
    "count_freq(df, 'dia')"
   ]
  },
  {
   "cell_type": "markdown",
   "id": "d6d3494c-074c-4afc-b263-bfae83929122",
   "metadata": {},
   "source": [
    "# NOME DO ANESTESISTA"
   ]
  },
  {
   "cell_type": "code",
   "execution_count": 9,
   "id": "3ff0d4ff",
   "metadata": {
    "scrolled": true
   },
   "outputs": [
    {
     "name": "stdout",
     "output_type": "stream",
     "text": [
      "Profissionais que mandaram mensagem:\n"
     ]
    },
    {
     "data": {
      "text/plain": [
       "['ALEXANDRE AMARAL LUCAS',\n",
       " 'ALEXSANDER TAKASHI HAMADA',\n",
       " 'AMANDA KIYOKO SOUZA KOSSAKA',\n",
       " 'ANA CLARA MOURAO BARRETO',\n",
       " 'ANA JUNG DOCKO',\n",
       " 'ANDRE AUGUSTO BELLINI',\n",
       " 'ANDRE DA COSTA AGUIAR VENTURA',\n",
       " 'ANNA BEATRIZ ARANHA TREVISAN',\n",
       " 'ARTHUR OLIVEIRA FACCHINI',\n",
       " 'ARTHUR RODRIGUES TORRELIO',\n",
       " 'AUGUSTO DE CASTRO SANTOS QUEIROZ',\n",
       " 'BIANCA PRISCILA BUNIOTTI',\n",
       " 'BRUCE YE MAN CHOW',\n",
       " 'BRUNO FERRAZ DE CAMPOS BARONE',\n",
       " 'BRUNO STORNIOLI TAGUCHI LEMOS',\n",
       " 'CAIO TULIO DUARTE',\n",
       " 'CAMILA CHIARANTANO HARRISON',\n",
       " 'CAMILA RESENDE DE PAULA',\n",
       " 'CARLOS AUGUSTO TREVISAN',\n",
       " 'CARLOS EDUARDO CORREA GRILO',\n",
       " 'CLAUDIO MUELLER KAKUDA',\n",
       " 'DANIEL MASUZAKI WONG',\n",
       " 'DANIELLEN LINS LOURENCO',\n",
       " 'DIOGO CANDEO RODRIGUES CORDEIRO',\n",
       " 'EDUARDO ARBACHE BEZERRA',\n",
       " 'EDUARDO DALA ROSA SOARES',\n",
       " 'ELAINE IMAEDA DE MOURA',\n",
       " 'ERICK OLIVEIRA LIMA GOMES',\n",
       " 'EVERTON SIDNEY DA CONCEICAO CARVALHO',\n",
       " 'FABIANA BARBOSA BASTOS',\n",
       " 'FABIANA SOARES GAMA',\n",
       " 'FABIO ANTONIO DE SOUZA OLIVEIRA',\n",
       " 'FERNANDA TELES RIBEIRO',\n",
       " 'FERNANDO AKIRA KOGA',\n",
       " 'FERNANDO RIBEIRO SA',\n",
       " 'FILIPE LUGON MOULIN LIMA',\n",
       " 'FLAVIO MAIA CASTILHO',\n",
       " 'FRANCISCO ANTONIO ALVES BONATTO',\n",
       " 'GABRIEL DE AGUIAR SANTANA',\n",
       " 'GABRIELA DE FARIA BIZARRIA',\n",
       " 'GABRIELA MEIRELES LINHARES DE ARAUJO',\n",
       " 'GABRIELA SOARES PIASSI',\n",
       " 'GABRIELLA GADELHA SARMENTO',\n",
       " 'GRETEL OLIVEIRA NICOLAU',\n",
       " 'GUILHERME PETRY MARTINS PEREIRA',\n",
       " 'GUILHERME SILVEIRA LOPES',\n",
       " 'GUSTAVO MARQUES DA SILVA',\n",
       " 'HEDICLEBER PESTANA SEVERINO',\n",
       " 'HELENA ARAUJO DAMASCENO',\n",
       " 'ISABELA MATTARELLI SOUZA CARLI',\n",
       " 'IVA BARBOSA SOARES',\n",
       " 'JOAO EVARISTO DE CASTRO BARRETO',\n",
       " 'JOSE MARCOS VIEIRA DA SILVA',\n",
       " 'JULIANA AKEMI FUNABASHI',\n",
       " 'JULIANA HUSSEIN',\n",
       " 'KAIE FERNANDES',\n",
       " 'KAREN CAVICHINI ROSSETO',\n",
       " 'KAROLINE BECKER PARABONI',\n",
       " 'KAWAN RAMIS RODRIGUES',\n",
       " 'LEANDRO KENDI KANADA',\n",
       " 'LEANDRO MACHADO DEORCE',\n",
       " 'LEANDRO OLIVEIRA MARTINS CORTES',\n",
       " 'LEONARDO BARBOSA SANTOS',\n",
       " 'LETICIA FERNANDES BORGES',\n",
       " 'LIVIA SCHENKEL THURLER TRAIRI',\n",
       " 'LIVIA VALVERDE FAJARDO',\n",
       " 'LUCAS SILVA MARTINS',\n",
       " 'LUCCAS VARELA GODOY',\n",
       " 'LUCIANO ANGELO RICHETTI',\n",
       " 'LUIZ GUILHERME THOMAZ ZACHARIAS',\n",
       " 'MAIELY MARCOLIN',\n",
       " 'MANOEL DE SOUZA NETO',\n",
       " 'MANUELA AFFONSO FERREIRA SANGED',\n",
       " 'MARCELA APARECIDA CORREA MARTINS',\n",
       " 'MARCELA LEITE ROSIGNOLI',\n",
       " 'MARCELLA PELLICCIOTTI DE SOUZA',\n",
       " 'MARCELO SEIJI TAKAOKA',\n",
       " 'MARCIO IGHOR AZEVEDO SILVA DE MENDONCA MELANIA',\n",
       " 'MARCOS BASTOS DOS SANTOS',\n",
       " 'MARCOS ROGERIO PEREIRA MACHADO FILHO',\n",
       " 'MARCOS VINICIUS COSTA CARVALHO',\n",
       " 'MARIA CECILIA DOMINGUES DA SILVA SOARES',\n",
       " 'MARIANA DARDENGO BORGES',\n",
       " 'MARIANA GASPARELLI DE SOUZA',\n",
       " 'MARINA BORGES CURRALO',\n",
       " 'MATHEUS DE ALENCAR ARRAES',\n",
       " 'MATHEUS VIANA LEMO',\n",
       " 'MAURICIO FARIA TETTI',\n",
       " 'MOABE GONCALVES DE OLIVEIRA',\n",
       " 'MONICA ROBLES GONCALVES',\n",
       " 'NATALIA NUNES SANTOS',\n",
       " 'NATALIA YUME HISSAYASU MENEZES',\n",
       " 'NATAN SOARES SILVEIRA',\n",
       " 'NATHALIA FANUCCI OLIVEIRA DI JORGE',\n",
       " 'NATHALIA SOARES RODRIGUES GOMES',\n",
       " 'NORIVAL SCANDELAI JUNIOR',\n",
       " 'ORLANDO DOMINGUES DE ARAUJO PONTES',\n",
       " 'PALOMA KIYOMI TAGUCHI',\n",
       " 'PAOLA RODRIGUES OSHIRO',\n",
       " 'PAULA ANGELICA PINHA NEVES',\n",
       " 'PAULA LOPES AGAPITO DE FREITAS',\n",
       " 'PEDRO AUGUSTO TAVARES DALL AGLIO',\n",
       " 'PEDRO BELINTANI DE MAIO',\n",
       " 'PEDRO HENRIQUE DINIZ BOTELHO',\n",
       " 'PEDRO HENRIQUE LUCAS DE MORAES',\n",
       " 'PEDRO HENRIQUE MILHOMENS DA MOTA',\n",
       " 'PEDRO VICTOR MASSAROTO E SILVA',\n",
       " 'RAFAEL SOUZA FAVA NERSESSIAN',\n",
       " 'RAFAEL TADEU MARQUES',\n",
       " 'RAFHAEL SILVA LEAL',\n",
       " 'RENATA PINHEIRO MODOLO',\n",
       " 'RENATA TOGEIRO BASTOS GODOY DE FARIA',\n",
       " 'RENATA TORRES BUENO',\n",
       " 'RENATO DOS SANTOS BOREGA',\n",
       " 'RICARDO GIRALDELLI CARVALHO LIMA',\n",
       " 'RICARDO IVO DE LIMA',\n",
       " 'RICARDO KAWAURA',\n",
       " 'RODRIGO ACHUI HAGA',\n",
       " 'RODRIGO ANDRADE CARMELLO',\n",
       " 'RODRIGO ANTONIO REY GONZALEZ',\n",
       " 'RODRIGO MARTINS PEREIRA',\n",
       " 'RODRIGO MIYASHIRO NUNES DOS SANTOS',\n",
       " 'ROGERIO SIDNEY THON',\n",
       " 'RONALD FIGUEIREDO GOMES',\n",
       " 'SABRINA DE SOUZA RAMOS',\n",
       " 'SHEILA ITIROCO MONTE',\n",
       " 'SIDNEY ORLANDO DE SOUZA',\n",
       " 'SILVIA ALINE DOS SANTOS ANDRADE',\n",
       " 'STEFANY HELLEN SOUSA MARTINS',\n",
       " 'THAIS CHAVES PINHEIRO',\n",
       " 'THALES LUVISOTTO NEDER',\n",
       " 'THASSIO CUNHA DE SANTANA',\n",
       " 'THIAGO BARRETO MARQUES DA SILVA',\n",
       " 'THIAGO FRANCISCO MARTINS',\n",
       " 'TURIBIO RODRIGUES FREIRE NETO',\n",
       " 'VICTOR AUGUSTO DE SOUZA MORAES',\n",
       " 'VITOR OLIVEIRA ANDRE',\n",
       " 'VIVIAN CRISTINE DOS ANJOS E SILVA',\n",
       " 'WANGLES PIGNATON DE PAULA',\n",
       " 'YURI ANDERSON PACHECO DE LIMA']"
      ]
     },
     "execution_count": 9,
     "metadata": {},
     "output_type": "execute_result"
    }
   ],
   "source": [
    "df['nome'] = np.nan\n",
    "count = 0\n",
    "for i in range(0, len(df['chat'])):\n",
    "    loc = df['chat'][i].find(']')+1 #digito data\n",
    "    loc2 = df['chat'][i][loc+1:].find(':')+1 #digito nome\n",
    "    nome = df['chat'][i][loc+1:loc+loc2]\n",
    "    nome = nome.upper().strip().replace(\"  \", \" \")\n",
    "    nome = unidecode.unidecode(nome)\n",
    "    df['nome'][i] = nome\n",
    "    count += 1\n",
    "    #print(count, \"->\", unidecode.unidecode(chat[i][loc+1:loc+loc2].upper()))\n",
    "\n",
    "print(\"Profissionais que mandaram mensagem:\")\n",
    "sorted(df['nome'].unique())"
   ]
  },
  {
   "cell_type": "markdown",
   "id": "31be6f95-8c13-44b6-9d06-5967de4f8fce",
   "metadata": {},
   "source": [
    "# MENSAGENS ESCREVIDAS"
   ]
  },
  {
   "cell_type": "code",
   "execution_count": 10,
   "id": "68fe8eba",
   "metadata": {
    "scrolled": true
   },
   "outputs": [
    {
     "name": "stdout",
     "output_type": "stream",
     "text": [
      "Mensagens Enviadas:\n"
     ]
    },
    {
     "data": {
      "text/plain": [
       "208          28/05 VILLA CAMILA SAIDA 19:30\n",
       "157    28/05 JABAQUARA FACCHINI SAÍDA 21:00\n",
       "50        28/05 ANALIA ELAINE ENTRADA 05:18\n",
       "Name: mensagem, dtype: object"
      ]
     },
     "execution_count": 10,
     "metadata": {},
     "output_type": "execute_result"
    }
   ],
   "source": [
    "mensagem = []\n",
    "for i in range(0, len(df)):\n",
    "    digito_data = df['chat'][i].find(']') #aonde acaba a data\n",
    "    digito_nome = df['chat'][i][digito_data+1:].find(':')\n",
    "    mensagem_escrevida = df['chat'][i][digito_data+digito_nome+3:]\n",
    "    mensagem.append(mensagem_escrevida)\n",
    "    \n",
    "df['mensagem'] = mensagem\n",
    "df['mensagem'] = df['mensagem'].apply(lambda x: x.upper() )\n",
    "df['mensagem'] = df['mensagem'].apply(lambda x: x.replace('-',' - '))\n",
    "df['mensagem'] = df['mensagem'].apply(lambda x: x.replace('(',' ( '))\n",
    "df['mensagem'] = df['mensagem'].apply(lambda x: x.replace(')',' ) '))\n",
    "\n",
    "print('Mensagens Enviadas:')\n",
    "df['mensagem'].sample(3)"
   ]
  },
  {
   "cell_type": "markdown",
   "id": "a927f162-3124-4ef4-a3b5-dfaf15d13886",
   "metadata": {},
   "source": [
    "# DATA DO PLANTÃO"
   ]
  },
  {
   "cell_type": "code",
   "execution_count": 11,
   "id": "1744df23",
   "metadata": {
    "scrolled": true
   },
   "outputs": [
    {
     "name": "stdout",
     "output_type": "stream",
     "text": [
      "data probs: 1\n",
      "datas ok: 255\n"
     ]
    },
    {
     "data": {
      "text/html": [
       "<div>\n",
       "<style scoped>\n",
       "    .dataframe tbody tr th:only-of-type {\n",
       "        vertical-align: middle;\n",
       "    }\n",
       "\n",
       "    .dataframe tbody tr th {\n",
       "        vertical-align: top;\n",
       "    }\n",
       "\n",
       "    .dataframe thead th {\n",
       "        text-align: right;\n",
       "    }\n",
       "</style>\n",
       "<table border=\"1\" class=\"dataframe\">\n",
       "  <thead>\n",
       "    <tr style=\"text-align: right;\">\n",
       "      <th></th>\n",
       "      <th>Freq</th>\n",
       "      <th>Perc</th>\n",
       "    </tr>\n",
       "    <tr>\n",
       "      <th>data</th>\n",
       "      <th></th>\n",
       "      <th></th>\n",
       "    </tr>\n",
       "  </thead>\n",
       "  <tbody>\n",
       "    <tr>\n",
       "      <th>28/05</th>\n",
       "      <td>132</td>\n",
       "      <td>51.764706</td>\n",
       "    </tr>\n",
       "    <tr>\n",
       "      <th>29/05</th>\n",
       "      <td>72</td>\n",
       "      <td>28.235294</td>\n",
       "    </tr>\n",
       "    <tr>\n",
       "      <th>27/05</th>\n",
       "      <td>46</td>\n",
       "      <td>18.039216</td>\n",
       "    </tr>\n",
       "    <tr>\n",
       "      <th>27/09</th>\n",
       "      <td>1</td>\n",
       "      <td>0.392157</td>\n",
       "    </tr>\n",
       "    <tr>\n",
       "      <th>27/06</th>\n",
       "      <td>1</td>\n",
       "      <td>0.392157</td>\n",
       "    </tr>\n",
       "    <tr>\n",
       "      <th>28/08</th>\n",
       "      <td>1</td>\n",
       "      <td>0.392157</td>\n",
       "    </tr>\n",
       "    <tr>\n",
       "      <th>28/09</th>\n",
       "      <td>1</td>\n",
       "      <td>0.392157</td>\n",
       "    </tr>\n",
       "    <tr>\n",
       "      <th>29/5</th>\n",
       "      <td>1</td>\n",
       "      <td>0.392157</td>\n",
       "    </tr>\n",
       "  </tbody>\n",
       "</table>\n",
       "</div>"
      ],
      "text/plain": [
       "       Freq       Perc\n",
       "data                  \n",
       "28/05   132  51.764706\n",
       "29/05    72  28.235294\n",
       "27/05    46  18.039216\n",
       "27/09     1   0.392157\n",
       "27/06     1   0.392157\n",
       "28/08     1   0.392157\n",
       "28/09     1   0.392157\n",
       "29/5      1   0.392157"
      ]
     },
     "metadata": {},
     "output_type": "display_data"
    }
   ],
   "source": [
    "df['data'] = np.nan\n",
    "\n",
    "for i in range(0, len(df)):\n",
    "    lista_datas = re.findall(r'[0-9]{1,2}\\/[0-9]{1,2}', df['mensagem'][i]) #regex dd/mm\n",
    "    quantidade_itens = len(lista_datas)\n",
    "    \n",
    "    if quantidade_itens == 1: #capturar apenas registros com uma data apenas\n",
    "        df['data'][i] = lista_datas[0]\n",
    "    else: #restante com nenhuma ou mais de uma data\n",
    "        df['controle'][i] = 'DATA_DO_PLANTÃO'\n",
    "\n",
    "#salvando\n",
    "df_prob = df[df['controle'] == 'DATA_DO_PLANTÃO']\n",
    "print(\"data probs:\", len(df_prob))\n",
    "sample_prob('DATA_DO_PLANTÃO')\n",
    "\n",
    "df = df[df['controle'] != 'DATA_DO_PLANTÃO']\n",
    "print(\"datas ok:\", len(df)) \n",
    "\n",
    "df_prob.reset_index(drop=True, inplace=True)\n",
    "df.reset_index(drop=True, inplace=True)\n",
    "\n",
    "count_freq(df, 'data')\n",
    "#print(\"Dias mensionados nas mensagens:\")\n",
    "#print(sorted(df['data'].unique()))"
   ]
  },
  {
   "cell_type": "markdown",
   "id": "9c3ee34f",
   "metadata": {},
   "source": [
    "# CAPTURANDO UNIDADE"
   ]
  },
  {
   "cell_type": "code",
   "execution_count": 12,
   "id": "31caa93b",
   "metadata": {
    "scrolled": true
   },
   "outputs": [
    {
     "name": "stdout",
     "output_type": "stream",
     "text": [
      "quantidades de unidades presentes nas mensagens:\n"
     ]
    },
    {
     "data": {
      "text/html": [
       "<div>\n",
       "<style scoped>\n",
       "    .dataframe tbody tr th:only-of-type {\n",
       "        vertical-align: middle;\n",
       "    }\n",
       "\n",
       "    .dataframe tbody tr th {\n",
       "        vertical-align: top;\n",
       "    }\n",
       "\n",
       "    .dataframe thead th {\n",
       "        text-align: right;\n",
       "    }\n",
       "</style>\n",
       "<table border=\"1\" class=\"dataframe\">\n",
       "  <thead>\n",
       "    <tr style=\"text-align: right;\">\n",
       "      <th></th>\n",
       "      <th>Freq</th>\n",
       "      <th>Perc</th>\n",
       "    </tr>\n",
       "    <tr>\n",
       "      <th>Q_unidades</th>\n",
       "      <th></th>\n",
       "      <th></th>\n",
       "    </tr>\n",
       "  </thead>\n",
       "  <tbody>\n",
       "    <tr>\n",
       "      <th>1</th>\n",
       "      <td>236</td>\n",
       "      <td>92.549020</td>\n",
       "    </tr>\n",
       "    <tr>\n",
       "      <th>2</th>\n",
       "      <td>15</td>\n",
       "      <td>5.882353</td>\n",
       "    </tr>\n",
       "    <tr>\n",
       "      <th>0</th>\n",
       "      <td>4</td>\n",
       "      <td>1.568627</td>\n",
       "    </tr>\n",
       "  </tbody>\n",
       "</table>\n",
       "</div>"
      ],
      "text/plain": [
       "            Freq       Perc\n",
       "Q_unidades                 \n",
       "1            236  92.549020\n",
       "2             15   5.882353\n",
       "0              4   1.568627"
      ]
     },
     "metadata": {},
     "output_type": "display_data"
    },
    {
     "name": "stdout",
     "output_type": "stream",
     "text": [
      "unidades probs: 5\n"
     ]
    }
   ],
   "source": [
    "df['unidade'] = ''\n",
    "df['Q_unidades'] = ''\n",
    "\n",
    "for i in range(0, len(df)):\n",
    "    mensagem = unidecode.unidecode(df['mensagem'][i].upper())\n",
    "    \n",
    "    #Unidades escrita com a bunda\n",
    "    lista_avi = [\"CENTRAL\",\"AVICENA\",\"AVICENNA\",\"AVICCENNA\"]\n",
    "    for i_avi in lista_avi:\n",
    "        mensagem = mensagem.replace(i_avi, 'AVICCENA')\n",
    "        \n",
    "    mensagem = mensagem.replace('Sta Isabel', 'SANTA')\n",
    "    \n",
    "    lista_unidades = re.findall(r'ALPHA|ANALIA|AVICCENA|ITAIM|JABA|MATERNIDADE|MORUMBI|OSASCO|VILLA|VILA|VNS|SANTA', mensagem)\n",
    "    quantidade_unidades = len(lista_unidades)\n",
    "    \n",
    "    df['Q_unidades'][i] = quantidade_unidades\n",
    "    \n",
    "    if quantidade_unidades == 1: #capturando apenas com uma unidade\n",
    "        df['unidade'][i] = lista_unidades[0].replace('  ',' ').upper().strip()\n",
    "    elif quantidade_unidades > 1: #com mais de uma unidade\n",
    "        df['unidade'][i] = lista_unidades\n",
    "        df['controle'][i] = 'DESLOCADO'\n",
    "    else: #sem nenhuma unidade\n",
    "        df['controle'][i] = 'UNIDADES'\n",
    "        \n",
    "print(\"quantidades de unidades presentes nas mensagens:\")\n",
    "count_freq(df, 'Q_unidades')\n",
    "\n",
    "#salvando\n",
    "df_prob = pd.concat([df_prob, df[df['controle'] == 'UNIDADES']])\n",
    "print(\"unidades probs:\", len(df_prob))\n",
    "sample_prob('UNIDADES')\n",
    "\n",
    "df = df[df['controle'] != 'UNIDADES']\n",
    "\n",
    "df_prob.reset_index(drop=True, inplace=True)\n",
    "df.reset_index(drop=True, inplace=True)\n",
    "#print(\"unidade ok:\", len(df)) \n",
    "#print(\"unidade ok deslocado:\", len(df[df['controle'] == 'DESLOCADO']))"
   ]
  },
  {
   "cell_type": "markdown",
   "id": "11fa61ec-7d16-48dc-9845-093da6518c09",
   "metadata": {},
   "source": [
    "# RETIRANDO REGISTROS DE DESLOCADOS, DISTANCIA E SAIDAS POR QUESTÃO DE SAUDE"
   ]
  },
  {
   "cell_type": "code",
   "execution_count": 13,
   "id": "dd54cc92",
   "metadata": {},
   "outputs": [
    {
     "data": {
      "text/html": [
       "<div>\n",
       "<style scoped>\n",
       "    .dataframe tbody tr th:only-of-type {\n",
       "        vertical-align: middle;\n",
       "    }\n",
       "\n",
       "    .dataframe tbody tr th {\n",
       "        vertical-align: top;\n",
       "    }\n",
       "\n",
       "    .dataframe thead th {\n",
       "        text-align: right;\n",
       "    }\n",
       "</style>\n",
       "<table border=\"1\" class=\"dataframe\">\n",
       "  <thead>\n",
       "    <tr style=\"text-align: right;\">\n",
       "      <th></th>\n",
       "      <th>Freq</th>\n",
       "      <th>Perc</th>\n",
       "    </tr>\n",
       "    <tr>\n",
       "      <th>controle</th>\n",
       "      <th></th>\n",
       "      <th></th>\n",
       "    </tr>\n",
       "  </thead>\n",
       "  <tbody>\n",
       "    <tr>\n",
       "      <th>DESLOCADO</th>\n",
       "      <td>17</td>\n",
       "      <td>100.0</td>\n",
       "    </tr>\n",
       "  </tbody>\n",
       "</table>\n",
       "</div>"
      ],
      "text/plain": [
       "           Freq   Perc\n",
       "controle              \n",
       "DESLOCADO    17  100.0"
      ]
     },
     "metadata": {},
     "output_type": "display_data"
    }
   ],
   "source": [
    "#preparando para reconhecer corretamente\n",
    "df['mensagem'] = df['mensagem'].apply(lambda x: x.replace('DESLOCADA','DESLOCADO'))\n",
    "df['mensagem'] = df['mensagem'].apply(lambda x: x.replace('DESLOCAMENTO','DESLOCADO'))\n",
    "\n",
    "for i in range(0, len(df)):\n",
    "    mensagem = unidecode.unidecode(df['mensagem'][i].upper())\n",
    "    observacoes = re.findall(r'DESLOCADO', mensagem)\n",
    "    quantidade_observacoes = len(observacoes)\n",
    "    \n",
    "    if quantidade_observacoes > 0:\n",
    "        df['controle'][i] = 'DESLOCADO'\n",
    "        \n",
    "count_freq(df, 'controle')\n",
    "# OBS: Plantões de deslocado não são mais excluido"
   ]
  },
  {
   "cell_type": "code",
   "execution_count": 14,
   "id": "7d45f1ed",
   "metadata": {},
   "outputs": [
    {
     "data": {
      "text/html": [
       "<div>\n",
       "<style scoped>\n",
       "    .dataframe tbody tr th:only-of-type {\n",
       "        vertical-align: middle;\n",
       "    }\n",
       "\n",
       "    .dataframe tbody tr th {\n",
       "        vertical-align: top;\n",
       "    }\n",
       "\n",
       "    .dataframe thead th {\n",
       "        text-align: right;\n",
       "    }\n",
       "</style>\n",
       "<table border=\"1\" class=\"dataframe\">\n",
       "  <thead>\n",
       "    <tr style=\"text-align: right;\">\n",
       "      <th></th>\n",
       "      <th>Freq</th>\n",
       "      <th>Perc</th>\n",
       "    </tr>\n",
       "    <tr>\n",
       "      <th>controle</th>\n",
       "      <th></th>\n",
       "      <th></th>\n",
       "    </tr>\n",
       "  </thead>\n",
       "  <tbody>\n",
       "    <tr>\n",
       "      <th>DESLOCADO</th>\n",
       "      <td>17</td>\n",
       "      <td>77.272727</td>\n",
       "    </tr>\n",
       "    <tr>\n",
       "      <th>DISP_SAUDE_DIST</th>\n",
       "      <td>5</td>\n",
       "      <td>22.727273</td>\n",
       "    </tr>\n",
       "  </tbody>\n",
       "</table>\n",
       "</div>"
      ],
      "text/plain": [
       "                 Freq       Perc\n",
       "controle                        \n",
       "DESLOCADO          17  77.272727\n",
       "DISP_SAUDE_DIST     5  22.727273"
      ]
     },
     "metadata": {},
     "output_type": "display_data"
    },
    {
     "name": "stdout",
     "output_type": "stream",
     "text": [
      "unidades probs: 10\n",
      "unidade ok: 246\n",
      "88     28/05 VILLA FABIANA GAMA SAÍDA 10:50  (  MOTIV...\n",
      "228                   29/05 JABAQUARA STEFANY DISPENSADO\n",
      "Name: mensagem, dtype: object\n"
     ]
    }
   ],
   "source": [
    "#RETIRANDO REGISTROS DE DISTANCIA E SAIDAS POR QUESTÃO DE SAUDE OU DISPENSA\n",
    "df['controle2'] = np.nan\n",
    "df['mensagem'] = df['mensagem'].apply(lambda x: x.replace('DISPENSADA','DISPENSADO'))\n",
    "df['mensagem'] = df['mensagem'].apply(lambda x: x.replace('DISPENSA ','DISPENSADO'))\n",
    "\n",
    "for i in range(0, len(df)):\n",
    "    mensagem = unidecode.unidecode(df['mensagem'][i].upper())\n",
    "    observacoes = re.findall(r'DISPENSADO|SAUDE|DISTANCIA|D[0-9]', mensagem)\n",
    "    quantidade_observacoes = len(observacoes)\n",
    "\n",
    "    if quantidade_observacoes >= 1:\n",
    "        df['controle'][i] = 'DISP_SAUDE_DIST'\n",
    "        if quantidade_observacoes == 1:\n",
    "            df['controle2'][i] = observacoes[0]\n",
    "        \n",
    "count_freq(df, 'controle')\n",
    "\n",
    "#salvando\n",
    "df_prob = pd.concat([df_prob, df[df['controle'] == 'DISP_SAUDE_DIST']])\n",
    "print(\"unidades probs:\", len(df_prob))\n",
    "sample_prob('DISP_SAUDE_DIST')\n",
    "\n",
    "df = df[df['controle'] != 'DISP_SAUDE_DIST']\n",
    "print(\"unidade ok:\", len(df)) \n",
    "\n",
    "print(df_prob['mensagem'][df_prob['controle'] == 'DISP_SAUDE_DIST'].sample(2))\n",
    "\n",
    "df_prob.reset_index(drop=True, inplace=True)\n",
    "df.reset_index(drop=True, inplace=True)"
   ]
  },
  {
   "cell_type": "markdown",
   "id": "d730522d-c4dc-49d0-b5bd-bb02194796b6",
   "metadata": {},
   "source": [
    "# VERIFICANDO SE É EXTRA"
   ]
  },
  {
   "cell_type": "code",
   "execution_count": 15,
   "id": "308a99c2",
   "metadata": {},
   "outputs": [
    {
     "name": "stdout",
     "output_type": "stream",
     "text": [
      "Quantidade de registros Extra - Voluntario:\n"
     ]
    },
    {
     "data": {
      "text/html": [
       "<div>\n",
       "<style scoped>\n",
       "    .dataframe tbody tr th:only-of-type {\n",
       "        vertical-align: middle;\n",
       "    }\n",
       "\n",
       "    .dataframe tbody tr th {\n",
       "        vertical-align: top;\n",
       "    }\n",
       "\n",
       "    .dataframe thead th {\n",
       "        text-align: right;\n",
       "    }\n",
       "</style>\n",
       "<table border=\"1\" class=\"dataframe\">\n",
       "  <thead>\n",
       "    <tr style=\"text-align: right;\">\n",
       "      <th></th>\n",
       "      <th>Freq</th>\n",
       "      <th>Perc</th>\n",
       "    </tr>\n",
       "    <tr>\n",
       "      <th>extra</th>\n",
       "      <th></th>\n",
       "      <th></th>\n",
       "    </tr>\n",
       "  </thead>\n",
       "  <tbody>\n",
       "    <tr>\n",
       "      <th>extra</th>\n",
       "      <td>1</td>\n",
       "      <td>100.0</td>\n",
       "    </tr>\n",
       "  </tbody>\n",
       "</table>\n",
       "</div>"
      ],
      "text/plain": [
       "       Freq   Perc\n",
       "extra             \n",
       "extra     1  100.0"
      ]
     },
     "metadata": {},
     "output_type": "display_data"
    }
   ],
   "source": [
    "df[\"extra\"] = np.nan\n",
    "\n",
    "for i in range(0, len(df)):\n",
    "    if 'EXTRA' in df['mensagem'][i].upper(): #se conter a palavra \"extra\"\n",
    "        df['extra'][i] = 'extra' #marque na coluna extra como extra\n",
    "        \n",
    "print(\"Quantidade de registros Extra - Voluntario:\")\n",
    "count_freq(df, 'extra')      "
   ]
  },
  {
   "cell_type": "markdown",
   "id": "51f897e8",
   "metadata": {},
   "source": [
    "# Tipo entrada e saida:"
   ]
  },
  {
   "cell_type": "code",
   "execution_count": 16,
   "id": "4207d9d3",
   "metadata": {},
   "outputs": [
    {
     "data": {
      "text/html": [
       "<div>\n",
       "<style scoped>\n",
       "    .dataframe tbody tr th:only-of-type {\n",
       "        vertical-align: middle;\n",
       "    }\n",
       "\n",
       "    .dataframe tbody tr th {\n",
       "        vertical-align: top;\n",
       "    }\n",
       "\n",
       "    .dataframe thead th {\n",
       "        text-align: right;\n",
       "    }\n",
       "</style>\n",
       "<table border=\"1\" class=\"dataframe\">\n",
       "  <thead>\n",
       "    <tr style=\"text-align: right;\">\n",
       "      <th></th>\n",
       "      <th>Freq</th>\n",
       "      <th>Perc</th>\n",
       "    </tr>\n",
       "    <tr>\n",
       "      <th>tipo</th>\n",
       "      <th></th>\n",
       "      <th></th>\n",
       "    </tr>\n",
       "  </thead>\n",
       "  <tbody>\n",
       "    <tr>\n",
       "      <th>SAIDA</th>\n",
       "      <td>148</td>\n",
       "      <td>60.162602</td>\n",
       "    </tr>\n",
       "    <tr>\n",
       "      <th>ENTRADA</th>\n",
       "      <td>98</td>\n",
       "      <td>39.837398</td>\n",
       "    </tr>\n",
       "  </tbody>\n",
       "</table>\n",
       "</div>"
      ],
      "text/plain": [
       "         Freq       Perc\n",
       "tipo                    \n",
       "SAIDA     148  60.162602\n",
       "ENTRADA    98  39.837398"
      ]
     },
     "metadata": {},
     "output_type": "display_data"
    },
    {
     "data": {
      "text/html": [
       "<div>\n",
       "<style scoped>\n",
       "    .dataframe tbody tr th:only-of-type {\n",
       "        vertical-align: middle;\n",
       "    }\n",
       "\n",
       "    .dataframe tbody tr th {\n",
       "        vertical-align: top;\n",
       "    }\n",
       "\n",
       "    .dataframe thead th {\n",
       "        text-align: right;\n",
       "    }\n",
       "</style>\n",
       "<table border=\"1\" class=\"dataframe\">\n",
       "  <thead>\n",
       "    <tr style=\"text-align: right;\">\n",
       "      <th></th>\n",
       "      <th>Freq</th>\n",
       "      <th>Perc</th>\n",
       "    </tr>\n",
       "    <tr>\n",
       "      <th>controle</th>\n",
       "      <th></th>\n",
       "      <th></th>\n",
       "    </tr>\n",
       "  </thead>\n",
       "  <tbody>\n",
       "    <tr>\n",
       "      <th>DESLOCADO</th>\n",
       "      <td>17</td>\n",
       "      <td>100.0</td>\n",
       "    </tr>\n",
       "  </tbody>\n",
       "</table>\n",
       "</div>"
      ],
      "text/plain": [
       "           Freq   Perc\n",
       "controle              \n",
       "DESLOCADO    17  100.0"
      ]
     },
     "metadata": {},
     "output_type": "display_data"
    },
    {
     "name": "stdout",
     "output_type": "stream",
     "text": [
      "unidades probs: 10\n",
      "unidade ok: 246\n",
      "ok: 246\n"
     ]
    }
   ],
   "source": [
    "#Indentificando se é um registro de entrada ou saida\n",
    "df['tipo'] = np.nan\n",
    "\n",
    "for i in range(0, len(df)):\n",
    "    mensagem = unidecode.unidecode(df['mensagem'][i].upper())\n",
    "    entradas_saidas = re.findall(r'ENTRADA|SAIDA', mensagem)\n",
    "    quantidade_entradas_saidas = len(entradas_saidas)\n",
    "    \n",
    "    if quantidade_entradas_saidas != 1: #capturando apenas com uma informação escrita\n",
    "        df['controle'][i] = 'SEM_ENTRADA_OU_SAIDA'\n",
    "    else: #restante com mais de uma informação\n",
    "        df['tipo'][i] = entradas_saidas[0]\n",
    "        \n",
    "count_freq(df, 'tipo')\n",
    "count_freq(df, 'controle')\n",
    "\n",
    "#salvando\n",
    "df_prob = pd.concat([df_prob, df[df['controle'] == 'SEM_ENTRADA_OU_SAIDA']])\n",
    "print(\"unidades probs:\", len(df_prob))\n",
    "sample_prob('SEM_ENTRADA_OU_SAIDA')\n",
    "\n",
    "df = df[df['controle'] != 'SEM_ENTRADA_OU_SAIDA']\n",
    "print(\"unidade ok:\", len(df)) \n",
    "\n",
    "#print(df_prob['mensagem'][df_prob['controle'] == 'SEM_ENTRADA_OU_SAIDA'].sample(1))\n",
    "\n",
    "df_prob.reset_index(drop=True, inplace=True)\n",
    "df.reset_index(drop=True, inplace=True)\n",
    "print(\"ok:\", len(df)) "
   ]
  },
  {
   "cell_type": "markdown",
   "id": "02097384",
   "metadata": {},
   "source": [
    "# Data:"
   ]
  },
  {
   "cell_type": "code",
   "execution_count": 17,
   "id": "f3000d08",
   "metadata": {},
   "outputs": [],
   "source": [
    "#retirando a data da mensagem para não atrapalhar no reconhecimento de hora\n",
    "df['hora'] = np.nan\n",
    "\n",
    "for i in range(0, len(df)):\n",
    "    df['hora'][i] = df['mensagem'][i].replace(df['data'][i], '').strip() #substituindo a data por vazio"
   ]
  },
  {
   "cell_type": "code",
   "execution_count": 18,
   "id": "161cd2b1",
   "metadata": {},
   "outputs": [
    {
     "data": {
      "text/plain": [
       "array(['27/05', '27/09', '27/06', '28/05', '28/08', '28/09', '29/05',\n",
       "       '29/5'], dtype=object)"
      ]
     },
     "execution_count": 18,
     "metadata": {},
     "output_type": "execute_result"
    }
   ],
   "source": [
    "#arrumando data d/mm (6/10, não 06/10)\n",
    "for i in range(0, len(df)):\n",
    "    if df['data'][i][1] == '/':\n",
    "        df['data'][i] = '0'+df['data'][i]\n",
    "df['data'].unique()"
   ]
  },
  {
   "cell_type": "code",
   "execution_count": 19,
   "id": "2055f437",
   "metadata": {},
   "outputs": [
    {
     "data": {
      "text/html": [
       "<div>\n",
       "<style scoped>\n",
       "    .dataframe tbody tr th:only-of-type {\n",
       "        vertical-align: middle;\n",
       "    }\n",
       "\n",
       "    .dataframe tbody tr th {\n",
       "        vertical-align: top;\n",
       "    }\n",
       "\n",
       "    .dataframe thead th {\n",
       "        text-align: right;\n",
       "    }\n",
       "</style>\n",
       "<table border=\"1\" class=\"dataframe\">\n",
       "  <thead>\n",
       "    <tr style=\"text-align: right;\">\n",
       "      <th></th>\n",
       "      <th>Freq</th>\n",
       "      <th>Perc</th>\n",
       "    </tr>\n",
       "    <tr>\n",
       "      <th>data</th>\n",
       "      <th></th>\n",
       "      <th></th>\n",
       "    </tr>\n",
       "  </thead>\n",
       "  <tbody>\n",
       "    <tr>\n",
       "      <th>28/05/2024</th>\n",
       "      <td>129</td>\n",
       "      <td>52.439024</td>\n",
       "    </tr>\n",
       "    <tr>\n",
       "      <th>29/05/2024</th>\n",
       "      <td>71</td>\n",
       "      <td>28.861789</td>\n",
       "    </tr>\n",
       "    <tr>\n",
       "      <th>27/05/2024</th>\n",
       "      <td>46</td>\n",
       "      <td>18.699187</td>\n",
       "    </tr>\n",
       "  </tbody>\n",
       "</table>\n",
       "</div>"
      ],
      "text/plain": [
       "            Freq       Perc\n",
       "data                       \n",
       "28/05/2024   129  52.439024\n",
       "29/05/2024    71  28.861789\n",
       "27/05/2024    46  18.699187"
      ]
     },
     "metadata": {},
     "output_type": "display_data"
    }
   ],
   "source": [
    "#somando informações restantes na data: dd/MM/yyyy\n",
    "for i in range(0, len(df)):\n",
    "    df['data'][i] = df['data'][i][0:2] + \"/\"+ mes +\"/2024\" \n",
    "    \n",
    "count_freq(df, 'data')"
   ]
  },
  {
   "cell_type": "code",
   "execution_count": 20,
   "id": "1f3d2041",
   "metadata": {},
   "outputs": [
    {
     "data": {
      "text/html": [
       "<div>\n",
       "<style scoped>\n",
       "    .dataframe tbody tr th:only-of-type {\n",
       "        vertical-align: middle;\n",
       "    }\n",
       "\n",
       "    .dataframe tbody tr th {\n",
       "        vertical-align: top;\n",
       "    }\n",
       "\n",
       "    .dataframe thead th {\n",
       "        text-align: right;\n",
       "    }\n",
       "</style>\n",
       "<table border=\"1\" class=\"dataframe\">\n",
       "  <thead>\n",
       "    <tr style=\"text-align: right;\">\n",
       "      <th></th>\n",
       "      <th>Freq</th>\n",
       "      <th>Perc</th>\n",
       "    </tr>\n",
       "    <tr>\n",
       "      <th>sem_ou_fds</th>\n",
       "      <th></th>\n",
       "      <th></th>\n",
       "    </tr>\n",
       "  </thead>\n",
       "  <tbody>\n",
       "    <tr>\n",
       "      <th>semana</th>\n",
       "      <td>246</td>\n",
       "      <td>100.0</td>\n",
       "    </tr>\n",
       "  </tbody>\n",
       "</table>\n",
       "</div>"
      ],
      "text/plain": [
       "            Freq   Perc\n",
       "sem_ou_fds             \n",
       "semana       246  100.0"
      ]
     },
     "metadata": {},
     "output_type": "display_data"
    }
   ],
   "source": [
    "df['sem_ou_fds'] = 'semana'\n",
    "\n",
    "for i in lista_fds:\n",
    "    datinha = i+\"/\"+mes+\"/2024\"\n",
    "    df['sem_ou_fds'][df['data'] == datinha] = 'fds'\n",
    "\n",
    "count_freq(df, 'sem_ou_fds')"
   ]
  },
  {
   "cell_type": "code",
   "execution_count": 21,
   "id": "2036b362",
   "metadata": {},
   "outputs": [
    {
     "name": "stdout",
     "output_type": "stream",
     "text": [
      "sem_ou_fds  semana\n",
      "data              \n",
      "27/05/2024      46\n",
      "28/05/2024     129\n",
      "29/05/2024      71\n"
     ]
    }
   ],
   "source": [
    "print(df.groupby(['data', 'sem_ou_fds']).size().unstack())"
   ]
  },
  {
   "cell_type": "code",
   "execution_count": 22,
   "id": "1e404263",
   "metadata": {},
   "outputs": [],
   "source": [
    "#df['data'].iloc[180] = '26/09/2022'"
   ]
  },
  {
   "cell_type": "markdown",
   "id": "dcd24449",
   "metadata": {},
   "source": [
    "# Hora:"
   ]
  },
  {
   "cell_type": "code",
   "execution_count": 23,
   "id": "06d56371",
   "metadata": {
    "scrolled": true
   },
   "outputs": [],
   "source": [
    "#substituindo \"h\" por \":\" para capturar horarios 11h22\n",
    "df['hora'] = df['hora'].apply(lambda x: x.upper().replace(\"H\", \":\"))"
   ]
  },
  {
   "cell_type": "code",
   "execution_count": 24,
   "id": "6888fa5e",
   "metadata": {},
   "outputs": [
    {
     "data": {
      "text/html": [
       "<div>\n",
       "<style scoped>\n",
       "    .dataframe tbody tr th:only-of-type {\n",
       "        vertical-align: middle;\n",
       "    }\n",
       "\n",
       "    .dataframe tbody tr th {\n",
       "        vertical-align: top;\n",
       "    }\n",
       "\n",
       "    .dataframe thead th {\n",
       "        text-align: right;\n",
       "    }\n",
       "</style>\n",
       "<table border=\"1\" class=\"dataframe\">\n",
       "  <thead>\n",
       "    <tr style=\"text-align: right;\">\n",
       "      <th></th>\n",
       "      <th>Freq</th>\n",
       "      <th>Perc</th>\n",
       "    </tr>\n",
       "    <tr>\n",
       "      <th>controle</th>\n",
       "      <th></th>\n",
       "      <th></th>\n",
       "    </tr>\n",
       "  </thead>\n",
       "  <tbody>\n",
       "    <tr>\n",
       "      <th>DESLOCADO</th>\n",
       "      <td>17</td>\n",
       "      <td>89.473684</td>\n",
       "    </tr>\n",
       "    <tr>\n",
       "      <th>HORA</th>\n",
       "      <td>2</td>\n",
       "      <td>10.526316</td>\n",
       "    </tr>\n",
       "  </tbody>\n",
       "</table>\n",
       "</div>"
      ],
      "text/plain": [
       "           Freq       Perc\n",
       "controle                  \n",
       "DESLOCADO    17  89.473684\n",
       "HORA          2  10.526316"
      ]
     },
     "metadata": {},
     "output_type": "display_data"
    },
    {
     "name": "stdout",
     "output_type": "stream",
     "text": [
      "probs: 12\n",
      "ok: 244\n"
     ]
    }
   ],
   "source": [
    "for i in range(0, len(df)):\n",
    "    mensagem = df['hora'][i]\n",
    "    horas = re.findall(r'[0-9]{1,2}:[0-9]{1,2}', mensagem) #capturando horas HH:mm\n",
    "    quantidade_horas = len(horas)\n",
    "    \n",
    "    if quantidade_horas == 1: #capturando apenas com uma horas escrita\n",
    "        df['hora'][i] = horas[0]\n",
    "    else: #restante com nenhuma ou mais horas (geralmente pq digitou a hora de entrada e saida {informação inutil})\n",
    "        df['hora'][i] = ''\n",
    "        df['controle'][i] = 'HORA'\n",
    "        \n",
    "count_freq(df, 'controle')\n",
    "\n",
    "#salvando\n",
    "df_prob = pd.concat([df_prob, df[df['controle'] == 'HORA']])\n",
    "print(\"probs:\", len(df_prob))\n",
    "sample_prob('HORA')\n",
    "\n",
    "df = df[df['controle'] != 'HORA']\n",
    "print(\"ok:\", len(df)) \n",
    "\n",
    "df_prob.reset_index(drop=True, inplace=True)\n",
    "df.reset_index(drop=True, inplace=True)"
   ]
  },
  {
   "cell_type": "code",
   "execution_count": null,
   "id": "93508ce9-7c4b-4bc3-a90d-2903d7250a83",
   "metadata": {},
   "outputs": [],
   "source": []
  },
  {
   "cell_type": "code",
   "execution_count": 25,
   "id": "0c48984e",
   "metadata": {},
   "outputs": [
    {
     "data": {
      "text/plain": [
       "array(['06:00', '17:40', '07:00', '17:45', '18:00', '18:20', '19:10',\n",
       "       '19:20', '14:50', '19:25', '19:15', '19:40', '16:30', '20:10',\n",
       "       '20:35', '20:40', '20:42', '20:45', '20:50', '19:30', '16:45',\n",
       "       '09:00', '21:10', '21:20', '18:40', '21:35', '21:50', '22:10',\n",
       "       '22:20', '04:10', '04:15', '03:45', '04:45', '04:50', '05:00',\n",
       "       '05:18', '04:20', '05:20', '05:30', '05:40', '06:15', '06:10',\n",
       "       '06:20', '08:00', '08:05', '09:54', '10:27', '10:45', '11:50',\n",
       "       '12:30', '11:40', '12:50', '13:40', '13:50', '06:30', '05:35',\n",
       "       '13:00', '14:40', '15:05', '15:30', '15:00', '15:25', '15:50',\n",
       "       '15:15', '16:20', '16:40', '13:45', '17:00', '17:10', '17:15',\n",
       "       '18:45', '19:50', '19:49', '14:15', '20:14', '20:05', '18:50',\n",
       "       '20:25', '20:20', '20:30', '20:15', '20:00', '21:05', '21:00',\n",
       "       '21:40', '21:30', '21:53', '22:15', '23:15', '01:10', '04:40',\n",
       "       '05:16', '05:10', '05:15', '05:50', '08:15', '09:20', '09:25',\n",
       "       '09:50', '10:00', '10:15', '10:20', '10:40', '11:15', '10:30',\n",
       "       '11:35', '11:45', '11:30', '12:35', '12:15', '12:40', '13:05',\n",
       "       '14:05', '14:10', '14:00', '14:30'], dtype=object)"
      ]
     },
     "execution_count": 25,
     "metadata": {},
     "output_type": "execute_result"
    }
   ],
   "source": [
    "#adicionando 0 no primeiro algorismo dos valores h:mm\n",
    "for i in range(0, len(df)):\n",
    "    if df['hora'][i][1] == \":\":\n",
    "        df['hora'][i] = \"0\"+df['hora'][i]\n",
    "        \n",
    "df['hora'].unique()"
   ]
  },
  {
   "cell_type": "markdown",
   "id": "47415134",
   "metadata": {},
   "source": [
    "# Hora final:"
   ]
  },
  {
   "cell_type": "code",
   "execution_count": 26,
   "id": "7d2f4691",
   "metadata": {},
   "outputs": [],
   "source": [
    "#pacotes para manipular data\n",
    "from datetime import date\n",
    "from datetime import time\n",
    "from datetime import datetime\n",
    "from datetime import timedelta"
   ]
  },
  {
   "cell_type": "code",
   "execution_count": 27,
   "id": "65568b47",
   "metadata": {
    "scrolled": true
   },
   "outputs": [
    {
     "data": {
      "text/plain": [
       "array(['06:00', '17:40', '07:00', '17:45', '18:00', '18:20', '19:10',\n",
       "       '19:20', '14:50', '19:25', '19:15', '19:40', '16:30', '20:10',\n",
       "       '20:35', '20:40', '20:42', '20:45', '20:50', '19:30', '16:45',\n",
       "       '09:00', '21:10', '21:20', '18:40', '21:35', '21:50', '22:10',\n",
       "       '22:20', '04:10', '04:15', '03:45', '04:45', '04:50', '05:00',\n",
       "       '05:18', '04:20', '05:20', '05:30', '05:40', '06:15', '06:10',\n",
       "       '06:20', '08:00', '08:05', '09:54', '10:27', '10:45', '11:50',\n",
       "       '12:30', '11:40', '12:50', '13:40', '13:50', '06:30', '05:35',\n",
       "       '13:00', '14:40', '15:05', '15:30', '15:00', '15:25', '15:50',\n",
       "       '15:15', '16:20', '16:40', '13:45', '17:00', '17:10', '17:15',\n",
       "       '18:45', '19:50', '19:49', '14:15', '20:14', '20:05', '18:50',\n",
       "       '20:25', '20:20', '20:30', '20:15', '20:00', '21:05', '21:00',\n",
       "       '21:40', '21:30', '21:53', '22:15', '23:15', '01:10', '04:40',\n",
       "       '05:16', '05:10', '05:15', '05:50', '08:15', '09:20', '09:25',\n",
       "       '09:50', '10:00', '10:15', '10:20', '10:40', '11:15', '10:30',\n",
       "       '11:35', '11:45', '11:30', '12:35', '12:15', '12:40', '13:05',\n",
       "       '14:05', '14:10', '14:00', '14:30'], dtype=object)"
      ]
     },
     "execution_count": 27,
     "metadata": {},
     "output_type": "execute_result"
    }
   ],
   "source": [
    "df['hora'].unique()"
   ]
  },
  {
   "cell_type": "code",
   "execution_count": 28,
   "id": "709d9f48",
   "metadata": {},
   "outputs": [
    {
     "name": "stdout",
     "output_type": "stream",
     "text": [
      "[1900]\n",
      "[1]\n",
      "[1]\n",
      "[ 6 17  7 18 19 14 16 20  9 21 22  4  3  5  8 10 11 12 13 15 23  1]\n",
      "probs: 12\n",
      "ok: 244\n"
     ]
    }
   ],
   "source": [
    "#criando uma coluna datetime para fazer calculos de horas e minutos\n",
    "df['hora2'] = df['hora'].apply(lambda x: datetime.strptime(x, '%H:%M'))\n",
    "\n",
    "#verificando se esta tudo certo\n",
    "print(df['hora2'].dt.year.unique())\n",
    "print(df['hora2'].dt.month.unique())\n",
    "print(df['hora2'].dt.day.unique())\n",
    "print(df['hora2'].dt.hour.unique())\n",
    "\n",
    "for i in range(0, len(df)):\n",
    "    minuto = int(df['hora'][i][3:])\n",
    "    \n",
    "    if minuto != 0 and minuto != 30:\n",
    "        if minuto < 30:\n",
    "            if df['tipo'][i] == \"ENTRADA\": #arredondando para baixo (0) subtraindo quantos minutos tem entre o momento e HH:00\n",
    "                df['hora'][i] = str(df['hora2'][i] + timedelta(minutes=-minuto))[11:-3]\n",
    "            elif df['tipo'][i] == \"SAIDA\": #arredondando para cima (30) acrecentando quantos minutos faltam para HH:30\n",
    "                df['hora'][i] = str(df['hora2'][i] + timedelta(minutes=+(30-minuto)))[11:-3]\n",
    "            else:\n",
    "                df['controle'][i] = 'Hora_final'\n",
    "                \n",
    "        elif minuto > 30:\n",
    "            if df['tipo'][i] == \"ENTRADA\": #arredondando para baixo (30) subtraindo quando minutos tem entre o momento e HH:30\n",
    "                df['hora'][i] = str(df['hora2'][i] + timedelta(minutes=-(minuto-30)))[11:-3]   \n",
    "            elif df['tipo'][i] == \"SAIDA\": #arredondando para cima (60) acrecentando quantos minutos faltam para HH:60\n",
    "                df['hora'][i] = str(df['hora2'][i] + timedelta(minutes=+(60-minuto)))[11:-3]            \n",
    "            else:\n",
    "                df['controle'][i] = 'Hora_final'\n",
    "        else:\n",
    "            df['controle'][i] = 'Hora_final'\n",
    "            \n",
    "    elif minuto == 0 or minuto == 30:\n",
    "        df['hora'][i] = str(df['hora2'][i])[11:-3] \n",
    "        \n",
    "    else:\n",
    "        df['controle'][i] = 'Hora_final'\n",
    "\n",
    "df['hora'].unique()\n",
    "\n",
    "#salvando restante\n",
    "df_prob = pd.concat([df_prob, df[df['controle'] == 'Hora_final']])\n",
    "print(\"probs:\", len(df_prob))\n",
    "sample_prob('Hora_final')\n",
    "\n",
    "df = df[df['controle'] != 'Hora_final']\n",
    "print(\"ok:\", len(df))\n",
    "\n",
    "df_prob.reset_index(drop=True, inplace=True)\n",
    "df.reset_index(drop=True, inplace=True)"
   ]
  },
  {
   "cell_type": "markdown",
   "id": "8980c6b5",
   "metadata": {},
   "source": [
    "# Setor:"
   ]
  },
  {
   "cell_type": "code",
   "execution_count": 29,
   "id": "dfd890a6",
   "metadata": {},
   "outputs": [
    {
     "data": {
      "text/html": [
       "<div>\n",
       "<style scoped>\n",
       "    .dataframe tbody tr th:only-of-type {\n",
       "        vertical-align: middle;\n",
       "    }\n",
       "\n",
       "    .dataframe tbody tr th {\n",
       "        vertical-align: top;\n",
       "    }\n",
       "\n",
       "    .dataframe thead th {\n",
       "        text-align: right;\n",
       "    }\n",
       "</style>\n",
       "<table border=\"1\" class=\"dataframe\">\n",
       "  <thead>\n",
       "    <tr style=\"text-align: right;\">\n",
       "      <th></th>\n",
       "      <th>Freq</th>\n",
       "      <th>Perc</th>\n",
       "    </tr>\n",
       "    <tr>\n",
       "      <th>PERIODO</th>\n",
       "      <th></th>\n",
       "      <th></th>\n",
       "    </tr>\n",
       "  </thead>\n",
       "  <tbody>\n",
       "    <tr>\n",
       "      <th>6h</th>\n",
       "      <td>94</td>\n",
       "      <td>38.524590</td>\n",
       "    </tr>\n",
       "    <tr>\n",
       "      <th>noturno saida</th>\n",
       "      <td>73</td>\n",
       "      <td>29.918033</td>\n",
       "    </tr>\n",
       "    <tr>\n",
       "      <th>tarde</th>\n",
       "      <td>45</td>\n",
       "      <td>18.442623</td>\n",
       "    </tr>\n",
       "    <tr>\n",
       "      <th>manha</th>\n",
       "      <td>31</td>\n",
       "      <td>12.704918</td>\n",
       "    </tr>\n",
       "    <tr>\n",
       "      <th></th>\n",
       "      <td>1</td>\n",
       "      <td>0.409836</td>\n",
       "    </tr>\n",
       "  </tbody>\n",
       "</table>\n",
       "</div>"
      ],
      "text/plain": [
       "               Freq       Perc\n",
       "PERIODO                       \n",
       "6h               94  38.524590\n",
       "noturno saida    73  29.918033\n",
       "tarde            45  18.442623\n",
       "manha            31  12.704918\n",
       "                  1   0.409836"
      ]
     },
     "metadata": {},
     "output_type": "display_data"
    },
    {
     "data": {
      "text/html": [
       "<div>\n",
       "<style scoped>\n",
       "    .dataframe tbody tr th:only-of-type {\n",
       "        vertical-align: middle;\n",
       "    }\n",
       "\n",
       "    .dataframe tbody tr th {\n",
       "        vertical-align: top;\n",
       "    }\n",
       "\n",
       "    .dataframe thead th {\n",
       "        text-align: right;\n",
       "    }\n",
       "</style>\n",
       "<table border=\"1\" class=\"dataframe\">\n",
       "  <thead>\n",
       "    <tr style=\"text-align: right;\">\n",
       "      <th></th>\n",
       "      <th>Freq</th>\n",
       "      <th>Perc</th>\n",
       "    </tr>\n",
       "    <tr>\n",
       "      <th>controle</th>\n",
       "      <th></th>\n",
       "      <th></th>\n",
       "    </tr>\n",
       "  </thead>\n",
       "  <tbody>\n",
       "    <tr>\n",
       "      <th>DESLOCADO</th>\n",
       "      <td>17</td>\n",
       "      <td>94.444444</td>\n",
       "    </tr>\n",
       "    <tr>\n",
       "      <th>HORARIOS</th>\n",
       "      <td>1</td>\n",
       "      <td>5.555556</td>\n",
       "    </tr>\n",
       "  </tbody>\n",
       "</table>\n",
       "</div>"
      ],
      "text/plain": [
       "           Freq       Perc\n",
       "controle                  \n",
       "DESLOCADO    17  94.444444\n",
       "HORARIOS      1   5.555556"
      ]
     },
     "metadata": {},
     "output_type": "display_data"
    },
    {
     "name": "stdout",
     "output_type": "stream",
     "text": [
      "probs: 13\n",
      "ok: 243\n"
     ]
    }
   ],
   "source": [
    "#reconhendo em qual periodo do dia aconteceu o plantão\n",
    "df['ENTRADA'] = ''\n",
    "df['SAIDA'] = ''\n",
    "\n",
    "df['PERIODO'] = ''\n",
    "\n",
    "for i in range(0, len(df)):\n",
    "    minuto = int(df['hora'][i][:2])\n",
    "    \n",
    "    if df['tipo'][i] == 'ENTRADA':\n",
    "        df['ENTRADA'][i] = df['hora'][i]\n",
    "        if minuto < 7: #periodo 6h\n",
    "            df['PERIODO'][i] = '6h'\n",
    "            df['SAIDA'][i] = '07:00'\n",
    "        elif minuto >= 7 and minuto < 13: #periodo manha\n",
    "            df['PERIODO'][i] = 'manha'\n",
    "            df['SAIDA'][i] = '13:00'\n",
    "        elif minuto >= 13 and minuto < 19: #periodo tarde\n",
    "            df['PERIODO'][i] = 'tarde'\n",
    "            df['SAIDA'][i] = '19:00'\n",
    "        else:\n",
    "            df['controle'][i] = 'HORARIOS'\n",
    "    elif df['tipo'][i] == 'SAIDA':\n",
    "        df['SAIDA'][i] = df['hora'][i]\n",
    "        if minuto >= 7 and minuto < 13: #periodo manha\n",
    "            df['ENTRADA'][i] = '07:00'\n",
    "            df['PERIODO'][i] = 'manha'\n",
    "        elif minuto >= 13 and minuto < 19: #periodo tarde\n",
    "            if df['hora'][i] == '13:00':\n",
    "                df['SAIDA'][i] = '13:00'\n",
    "                df['ENTRADA'][i] = '07:00'\n",
    "                df['PERIODO'][i] = 'manha'\n",
    "            else:\n",
    "                df['ENTRADA'][i] = '13:00'\n",
    "                df['PERIODO'][i] = 'tarde'\n",
    "        elif minuto >= 19: #periodo noturno\n",
    "            df['ENTRADA'][i] = '19:00'\n",
    "            df['PERIODO'][i] = 'noturno saida'\n",
    "        else:\n",
    "            df['controle'][i] = 'HORARIOS'\n",
    "    else:\n",
    "        df['controle'][i] = 'HORARIOS'\n",
    "        \n",
    "count_freq(df, 'PERIODO')\n",
    "count_freq(df, 'controle')\n",
    "\n",
    "#salvando restante\n",
    "df_prob = pd.concat([df_prob, df[df['controle'] == 'HORARIOS']])\n",
    "print(\"probs:\", len(df_prob))\n",
    "sample_prob('HORARIOS')\n",
    "\n",
    "df = df[df['controle'] != 'HORARIOS']\n",
    "print(\"ok:\", len(df))\n",
    "\n",
    "df_prob.reset_index(drop=True, inplace=True)\n",
    "df.reset_index(drop=True, inplace=True)"
   ]
  },
  {
   "cell_type": "markdown",
   "id": "cffc78f0-b2fd-437f-9698-ac2c8c101886",
   "metadata": {},
   "source": [
    "# DURAÇÃO DO PLANTÃO"
   ]
  },
  {
   "cell_type": "code",
   "execution_count": 30,
   "id": "10f21f13",
   "metadata": {
    "scrolled": true
   },
   "outputs": [
    {
     "data": {
      "text/plain": [
       "array(['01:00', '05:00', '06:00', '05:30', '00:30', '02:00', '03:30',\n",
       "       '01:30', '04:00', '02:30', '03:00', '04:30'], dtype=object)"
      ]
     },
     "execution_count": 30,
     "metadata": {},
     "output_type": "execute_result"
    }
   ],
   "source": [
    "df['DURAÇÃO'] = ''\n",
    "\n",
    "for i in range(0, len(df)):\n",
    "    diferenca_tempo = datetime.strptime(df['SAIDA'][i], '%H:%M') - datetime.strptime(df['ENTRADA'][i], '%H:%M')\n",
    "    \n",
    "    #diferenca_tempo vem em formato estranho, tem-se que transformar em segundos antes\n",
    "    diferenca_tempo_s = diferenca_tempo.seconds\n",
    "    horas = '0' + str(int((diferenca_tempo_s/60)/60)) #capturando horas\n",
    "    minutos = str(int((diferenca_tempo_s/60)%60))  #capturando minutos\n",
    "    \n",
    "    if len(minutos) == 1:\n",
    "        minutos = '0' + minutos\n",
    "    \n",
    "    df['DURAÇÃO'][i] = horas + ':' + minutos\n",
    "    \n",
    "df['DURAÇÃO'][df['DURAÇÃO'] == '00:00'] = '06:00'    \n",
    "\n",
    "df['DURAÇÃO'].unique()"
   ]
  },
  {
   "cell_type": "code",
   "execution_count": 31,
   "id": "e356cea6",
   "metadata": {},
   "outputs": [
    {
     "data": {
      "text/html": [
       "<div>\n",
       "<style scoped>\n",
       "    .dataframe tbody tr th:only-of-type {\n",
       "        vertical-align: middle;\n",
       "    }\n",
       "\n",
       "    .dataframe tbody tr th {\n",
       "        vertical-align: top;\n",
       "    }\n",
       "\n",
       "    .dataframe thead th {\n",
       "        text-align: right;\n",
       "    }\n",
       "</style>\n",
       "<table border=\"1\" class=\"dataframe\">\n",
       "  <thead>\n",
       "    <tr style=\"text-align: right;\">\n",
       "      <th></th>\n",
       "      <th>mensagem</th>\n",
       "      <th>hora</th>\n",
       "      <th>ENTRADA</th>\n",
       "      <th>SAIDA</th>\n",
       "      <th>DURAÇÃO</th>\n",
       "    </tr>\n",
       "  </thead>\n",
       "  <tbody>\n",
       "    <tr>\n",
       "      <th>2</th>\n",
       "      <td>27/05 MORUMBI  -  CARMELLO ENTRADA 07:00  ( DE...</td>\n",
       "      <td>07:00</td>\n",
       "      <td>07:00</td>\n",
       "      <td>13:00</td>\n",
       "      <td>06:00</td>\n",
       "    </tr>\n",
       "    <tr>\n",
       "      <th>34</th>\n",
       "      <td>27/05 MORUMBI ROGÉRIO SAÍDA 18:40H</td>\n",
       "      <td>19:00</td>\n",
       "      <td>19:00</td>\n",
       "      <td>19:00</td>\n",
       "      <td>06:00</td>\n",
       "    </tr>\n",
       "    <tr>\n",
       "      <th>88</th>\n",
       "      <td>28/05 MORUMBI  -  SOARES SAÍDA 12:50</td>\n",
       "      <td>13:00</td>\n",
       "      <td>07:00</td>\n",
       "      <td>13:00</td>\n",
       "      <td>06:00</td>\n",
       "    </tr>\n",
       "    <tr>\n",
       "      <th>93</th>\n",
       "      <td>28/05 ALPHA  -  TURIBIO ENTRADA: 13:00  (  A P...</td>\n",
       "      <td>13:00</td>\n",
       "      <td>13:00</td>\n",
       "      <td>19:00</td>\n",
       "      <td>06:00</td>\n",
       "    </tr>\n",
       "    <tr>\n",
       "      <th>119</th>\n",
       "      <td>28/05 VNS  -  MARQUES SAÍDA 18:45  ( DESLOCADO...</td>\n",
       "      <td>19:00</td>\n",
       "      <td>19:00</td>\n",
       "      <td>19:00</td>\n",
       "      <td>06:00</td>\n",
       "    </tr>\n",
       "    <tr>\n",
       "      <th>133</th>\n",
       "      <td>28/05 VNS MOTA SAÍDA 18:50  ( DESLOCADO MATERN...</td>\n",
       "      <td>19:00</td>\n",
       "      <td>19:00</td>\n",
       "      <td>19:00</td>\n",
       "      <td>06:00</td>\n",
       "    </tr>\n",
       "    <tr>\n",
       "      <th>160</th>\n",
       "      <td>27/05 MORUMBI  -  MARIANA GASPARELLI SAÍDA 18:45</td>\n",
       "      <td>19:00</td>\n",
       "      <td>19:00</td>\n",
       "      <td>19:00</td>\n",
       "      <td>06:00</td>\n",
       "    </tr>\n",
       "    <tr>\n",
       "      <th>162</th>\n",
       "      <td>28/05 ANÁLIA PAULA NEVES SAÍDA 18:45</td>\n",
       "      <td>19:00</td>\n",
       "      <td>19:00</td>\n",
       "      <td>19:00</td>\n",
       "      <td>06:00</td>\n",
       "    </tr>\n",
       "    <tr>\n",
       "      <th>225</th>\n",
       "      <td>29/05 ITAIM  -  GUILHERME SAÍDA 12:35</td>\n",
       "      <td>13:00</td>\n",
       "      <td>07:00</td>\n",
       "      <td>13:00</td>\n",
       "      <td>06:00</td>\n",
       "    </tr>\n",
       "    <tr>\n",
       "      <th>228</th>\n",
       "      <td>29/05  -  JABAQUARA JOSÉ MARCOS SAÍDA 12:40</td>\n",
       "      <td>13:00</td>\n",
       "      <td>07:00</td>\n",
       "      <td>13:00</td>\n",
       "      <td>06:00</td>\n",
       "    </tr>\n",
       "    <tr>\n",
       "      <th>229</th>\n",
       "      <td>29/05  -  ITAIM  -  YURI SAÍDA 12:40</td>\n",
       "      <td>13:00</td>\n",
       "      <td>07:00</td>\n",
       "      <td>13:00</td>\n",
       "      <td>06:00</td>\n",
       "    </tr>\n",
       "  </tbody>\n",
       "</table>\n",
       "</div>"
      ],
      "text/plain": [
       "                                              mensagem   hora ENTRADA  SAIDA  \\\n",
       "2    27/05 MORUMBI  -  CARMELLO ENTRADA 07:00  ( DE...  07:00   07:00  13:00   \n",
       "34                  27/05 MORUMBI ROGÉRIO SAÍDA 18:40H  19:00   19:00  19:00   \n",
       "88                28/05 MORUMBI  -  SOARES SAÍDA 12:50  13:00   07:00  13:00   \n",
       "93   28/05 ALPHA  -  TURIBIO ENTRADA: 13:00  (  A P...  13:00   13:00  19:00   \n",
       "119  28/05 VNS  -  MARQUES SAÍDA 18:45  ( DESLOCADO...  19:00   19:00  19:00   \n",
       "133  28/05 VNS MOTA SAÍDA 18:50  ( DESLOCADO MATERN...  19:00   19:00  19:00   \n",
       "160   27/05 MORUMBI  -  MARIANA GASPARELLI SAÍDA 18:45  19:00   19:00  19:00   \n",
       "162               28/05 ANÁLIA PAULA NEVES SAÍDA 18:45  19:00   19:00  19:00   \n",
       "225              29/05 ITAIM  -  GUILHERME SAÍDA 12:35  13:00   07:00  13:00   \n",
       "228        29/05  -  JABAQUARA JOSÉ MARCOS SAÍDA 12:40  13:00   07:00  13:00   \n",
       "229               29/05  -  ITAIM  -  YURI SAÍDA 12:40  13:00   07:00  13:00   \n",
       "\n",
       "    DURAÇÃO  \n",
       "2     06:00  \n",
       "34    06:00  \n",
       "88    06:00  \n",
       "93    06:00  \n",
       "119   06:00  \n",
       "133   06:00  \n",
       "160   06:00  \n",
       "162   06:00  \n",
       "225   06:00  \n",
       "228   06:00  \n",
       "229   06:00  "
      ]
     },
     "execution_count": 31,
     "metadata": {},
     "output_type": "execute_result"
    }
   ],
   "source": [
    "df[['mensagem','hora','ENTRADA','SAIDA','DURAÇÃO']][df['DURAÇÃO'] == '06:00']"
   ]
  },
  {
   "cell_type": "code",
   "execution_count": 32,
   "id": "f33aa485",
   "metadata": {},
   "outputs": [
    {
     "data": {
      "text/html": [
       "<div>\n",
       "<style scoped>\n",
       "    .dataframe tbody tr th:only-of-type {\n",
       "        vertical-align: middle;\n",
       "    }\n",
       "\n",
       "    .dataframe tbody tr th {\n",
       "        vertical-align: top;\n",
       "    }\n",
       "\n",
       "    .dataframe thead th {\n",
       "        text-align: right;\n",
       "    }\n",
       "</style>\n",
       "<table border=\"1\" class=\"dataframe\">\n",
       "  <thead>\n",
       "    <tr style=\"text-align: right;\">\n",
       "      <th></th>\n",
       "      <th>Freq</th>\n",
       "      <th>Perc</th>\n",
       "    </tr>\n",
       "    <tr>\n",
       "      <th>setor</th>\n",
       "      <th></th>\n",
       "      <th></th>\n",
       "    </tr>\n",
       "  </thead>\n",
       "  <tbody>\n",
       "    <tr>\n",
       "      <th>SEMANA - 6HS</th>\n",
       "      <td>94</td>\n",
       "      <td>38.683128</td>\n",
       "    </tr>\n",
       "    <tr>\n",
       "      <th>SEMANA - NOTURNO - SAIDA</th>\n",
       "      <td>73</td>\n",
       "      <td>30.041152</td>\n",
       "    </tr>\n",
       "    <tr>\n",
       "      <th>SEMANA - TARDE - C.CIRURGICO</th>\n",
       "      <td>45</td>\n",
       "      <td>18.518519</td>\n",
       "    </tr>\n",
       "    <tr>\n",
       "      <th>SEMANA - MANHA - C.CIRURGICO</th>\n",
       "      <td>31</td>\n",
       "      <td>12.757202</td>\n",
       "    </tr>\n",
       "  </tbody>\n",
       "</table>\n",
       "</div>"
      ],
      "text/plain": [
       "                              Freq       Perc\n",
       "setor                                        \n",
       "SEMANA - 6HS                    94  38.683128\n",
       "SEMANA - NOTURNO - SAIDA        73  30.041152\n",
       "SEMANA - TARDE - C.CIRURGICO    45  18.518519\n",
       "SEMANA - MANHA - C.CIRURGICO    31  12.757202"
      ]
     },
     "metadata": {},
     "output_type": "display_data"
    }
   ],
   "source": [
    "df['setor'] = ''\n",
    "\n",
    "for i in range(0, len(df)):\n",
    "    if df['sem_ou_fds'][i] == 'semana':\n",
    "        if df['PERIODO'][i] == '6h':\n",
    "            df['setor'][i] = 'SEMANA - 6HS'\n",
    "        elif df['PERIODO'][i] == 'manha':\n",
    "            df['setor'][i] = 'SEMANA - MANHA - C.CIRURGICO'\n",
    "        elif df['PERIODO'][i] == 'tarde':\n",
    "            df['setor'][i] = 'SEMANA - TARDE - C.CIRURGICO'\n",
    "        elif df['PERIODO'][i] == 'noturno saida':\n",
    "            df['setor'][i] = 'SEMANA - NOTURNO - SAIDA'\n",
    "        else:\n",
    "            df['setor'][i] = 'VERIFICAR'\n",
    "\n",
    "    elif df['sem_ou_fds'][i] == 'fds': \n",
    "        if df['PERIODO'][i] == '6h':\n",
    "            df['setor'][i] = 'FDS - 6HS'\n",
    "        elif df['PERIODO'][i] == 'manha':\n",
    "            df['setor'][i] = 'FDS - C.CIRURGICO ROTINA'\n",
    "        elif df['PERIODO'][i] == 'tarde':\n",
    "            df['setor'][i] = 'FDS - SAIDA'\n",
    "        elif df['PERIODO'][i] == 'noturno saida':\n",
    "            df['setor'][i] = 'FDS - PLANTAO'\n",
    "        else:\n",
    "            df['setor'][i] = 'VERIFICAR'  \n",
    "\n",
    "    else:\n",
    "        df['setor'][i] = 'VERIFICAR'\n",
    "        \n",
    "count_freq(df, 'setor')"
   ]
  },
  {
   "cell_type": "code",
   "execution_count": 33,
   "id": "2df5c7ec",
   "metadata": {},
   "outputs": [
    {
     "name": "stdout",
     "output_type": "stream",
     "text": [
      "probs: 13\n",
      "ok: 243\n",
      "Porcentagem de registros corrigidas pelo o algoritmo: 94.92\n"
     ]
    }
   ],
   "source": [
    "print(\"probs:\", len(df_prob))\n",
    "print(\"ok:\", len(df))\n",
    "\n",
    "porcentagem = round((len(df)/(len(df)+len(df_prob)))*100, 2)\n",
    "print('Porcentagem de registros corrigidas pelo o algoritmo:', porcentagem)"
   ]
  },
  {
   "cell_type": "markdown",
   "id": "343cc73d",
   "metadata": {},
   "source": [
    "# Ultimos ajustes:"
   ]
  },
  {
   "cell_type": "markdown",
   "id": "93a67953-b8b5-4b86-86d1-de15844b1b7f",
   "metadata": {},
   "source": [
    "# Distancias"
   ]
  },
  {
   "cell_type": "code",
   "execution_count": 34,
   "id": "51718d87",
   "metadata": {},
   "outputs": [],
   "source": [
    "for i in range(0, len(df)):\n",
    "    mensagem = df['mensagem'][i].upper()\n",
    "    regex_D = re.findall('D[0-9]', mensagem)\n",
    "    \n",
    "    if len(regex_D) == 0:\n",
    "        continue\n",
    "    else:\n",
    "        df['controle'][i] == 'DISTANCIAS'"
   ]
  },
  {
   "cell_type": "code",
   "execution_count": 35,
   "id": "16a8ff18",
   "metadata": {},
   "outputs": [
    {
     "data": {
      "text/html": [
       "<div>\n",
       "<style scoped>\n",
       "    .dataframe tbody tr th:only-of-type {\n",
       "        vertical-align: middle;\n",
       "    }\n",
       "\n",
       "    .dataframe tbody tr th {\n",
       "        vertical-align: top;\n",
       "    }\n",
       "\n",
       "    .dataframe thead th {\n",
       "        text-align: right;\n",
       "    }\n",
       "</style>\n",
       "<table border=\"1\" class=\"dataframe\">\n",
       "  <thead>\n",
       "    <tr style=\"text-align: right;\">\n",
       "      <th></th>\n",
       "      <th>Freq</th>\n",
       "      <th>Perc</th>\n",
       "    </tr>\n",
       "    <tr>\n",
       "      <th>controle</th>\n",
       "      <th></th>\n",
       "      <th></th>\n",
       "    </tr>\n",
       "  </thead>\n",
       "  <tbody>\n",
       "    <tr>\n",
       "      <th>DESLOCADO</th>\n",
       "      <td>17</td>\n",
       "      <td>100.0</td>\n",
       "    </tr>\n",
       "  </tbody>\n",
       "</table>\n",
       "</div>"
      ],
      "text/plain": [
       "           Freq   Perc\n",
       "controle              \n",
       "DESLOCADO    17  100.0"
      ]
     },
     "metadata": {},
     "output_type": "display_data"
    },
    {
     "name": "stdout",
     "output_type": "stream",
     "text": [
      "probs: 13\n",
      "ok: 243\n"
     ]
    }
   ],
   "source": [
    "for i in range(0, len(df)):\n",
    "    if df['DURAÇÃO'][i] == \"00:00\":\n",
    "        df['controle'][i] = \"DISTANCIAS\"\n",
    "        \n",
    "count_freq(df, 'controle')\n",
    "\n",
    "#salvando restante\n",
    "df_prob = pd.concat([df_prob, df[df['controle'] == 'DISTANCIAS']])\n",
    "print(\"probs:\", len(df_prob))\n",
    "sample_prob('DISTANCIAS')\n",
    "\n",
    "df = df[df['controle'] != 'DISTANCIAS']\n",
    "print(\"ok:\", len(df))\n",
    "\n",
    "df_prob.reset_index(drop=True, inplace=True)\n",
    "df.reset_index(drop=True, inplace=True)"
   ]
  },
  {
   "cell_type": "code",
   "execution_count": 36,
   "id": "e94ff040",
   "metadata": {},
   "outputs": [
    {
     "name": "stdout",
     "output_type": "stream",
     "text": [
      "['SANTA' 'MORUMBI' 'ANALIA' 'ITAIM' 'JABA' 'VILLA' 'OSASCO' 'VNS'\n",
      " 'AVICCENA' 'ALPHA' 'MATERNIDADE']\n"
     ]
    }
   ],
   "source": [
    "# Cria uma nova Série sem as listas\n",
    "serie_sem_listas = pd.Series([x for x in df['unidade'] if not isinstance(x, list)])\n",
    "\n",
    "# Imprime os valores únicos da nova Série\n",
    "print(serie_sem_listas.unique())"
   ]
  },
  {
   "cell_type": "code",
   "execution_count": 37,
   "id": "599e7c80",
   "metadata": {
    "scrolled": true
   },
   "outputs": [
    {
     "name": "stdout",
     "output_type": "stream",
     "text": [
      "['VNS', 'ITAIM']\n",
      "['ANALIA', 'AVICCENA']\n",
      "['MORUMBI', 'ALPHA']\n",
      "['VNS', 'MORUMBI']\n",
      "['VNS', 'MATERNIDADE']\n",
      "['OSASCO', 'ITAIM']\n",
      "['ANALIA', 'JABA']\n",
      "['ITAIM', 'VNS']\n",
      "['ALPHA', 'JABA']\n"
     ]
    }
   ],
   "source": [
    "# Cria uma lista com apenas os valores que são listas\n",
    "listas = [x for x in df['unidade'] if isinstance(x, list)]\n",
    "\n",
    "# Converte as listas em tuplas e adiciona elas a um conjunto para obter apenas as listas distintas\n",
    "listas_distintas = set(tuple(lista) for lista in listas)\n",
    "\n",
    "# Imprime as listas distintas\n",
    "for lista in listas_distintas:\n",
    "    print(list(lista))\n"
   ]
  },
  {
   "cell_type": "code",
   "execution_count": 38,
   "id": "9c1e6d01",
   "metadata": {},
   "outputs": [],
   "source": [
    "df['setor'] = df['setor'].apply(lambda x: unidecode.unidecode(x.replace('  ',' ').upper().strip()))\n",
    "\n",
    "#problemas com santa isabel \n",
    "#df['setor'][(df['unidade'] == \"SANTA ISABEL\") & (df['setor'] == \"FDS - SAIDA\")] = \"FDS - NOTURNO - SAIDA\"\n",
    "df['setor'][(df['unidade'] == \"SANTA ISABEL\") & (df['setor'] == \"FDS - C.CIRURGICO ROTINA\")] = \"FDS - MANHA - C.CIRURGICO\""
   ]
  },
  {
   "cell_type": "code",
   "execution_count": 39,
   "id": "f986e78d",
   "metadata": {},
   "outputs": [],
   "source": [
    "df['nome'] = df['nome'].apply(lambda x: x.replace('  ',' '))\n",
    "\n",
    "#df['UNIDADE'] = df['UNIDADE'].apply(lambda x: x.replace('JABAQUARAQUARA','JABAQUARA'))\n",
    "#df['UNIDADE'].unique()"
   ]
  },
  {
   "cell_type": "markdown",
   "id": "0f8219ec",
   "metadata": {},
   "source": [
    "# Salvando:"
   ]
  },
  {
   "cell_type": "code",
   "execution_count": 40,
   "id": "096f9aef",
   "metadata": {},
   "outputs": [],
   "source": [
    "df['periodo'] = np.nan\n",
    "df['periodo'][df['PERIODO'] == '6h'] = 1\n",
    "df['periodo'][df['PERIODO'] == 'manha'] = 2\n",
    "df['periodo'][df['PERIODO'] == 'tarde'] = 3\n",
    "df['periodo'][df['PERIODO'] == 'noturno saida'] = 4"
   ]
  },
  {
   "cell_type": "code",
   "execution_count": 41,
   "id": "f8c20ab0",
   "metadata": {},
   "outputs": [],
   "source": [
    "df = df[['chat', 'dia', 'nome', 'mensagem', 'controle', 'data', 'unidade',\n",
    "       'extra', 'tipo', 'ENTRADA', 'SAIDA', 'DURAÇÃO', 'PERIODO','periodo',\n",
    "         'setor', 'sem_ou_fds']]"
   ]
  },
  {
   "cell_type": "code",
   "execution_count": 42,
   "id": "c2d0a3ef",
   "metadata": {
    "scrolled": true
   },
   "outputs": [
    {
     "data": {
      "text/html": [
       "<div>\n",
       "<style scoped>\n",
       "    .dataframe tbody tr th:only-of-type {\n",
       "        vertical-align: middle;\n",
       "    }\n",
       "\n",
       "    .dataframe tbody tr th {\n",
       "        vertical-align: top;\n",
       "    }\n",
       "\n",
       "    .dataframe thead th {\n",
       "        text-align: right;\n",
       "    }\n",
       "</style>\n",
       "<table border=\"1\" class=\"dataframe\">\n",
       "  <thead>\n",
       "    <tr style=\"text-align: right;\">\n",
       "      <th></th>\n",
       "      <th>chat</th>\n",
       "      <th>dia</th>\n",
       "      <th>nome</th>\n",
       "      <th>mensagem</th>\n",
       "      <th>controle</th>\n",
       "      <th>data</th>\n",
       "      <th>unidade</th>\n",
       "      <th>extra</th>\n",
       "      <th>tipo</th>\n",
       "      <th>ENTRADA</th>\n",
       "      <th>SAIDA</th>\n",
       "      <th>DURAÇÃO</th>\n",
       "      <th>PERIODO</th>\n",
       "      <th>periodo</th>\n",
       "      <th>setor</th>\n",
       "      <th>sem_ou_fds</th>\n",
       "    </tr>\n",
       "  </thead>\n",
       "  <tbody>\n",
       "    <tr>\n",
       "      <th>0</th>\n",
       "      <td>[27/05/2024 17:42:14] Marcela Aparecida Correa...</td>\n",
       "      <td>27/05/2024</td>\n",
       "      <td>MARCELA APARECIDA CORREA MARTINS</td>\n",
       "      <td>27/05 SANTA  -  MARTINS ENTRADA 06:00</td>\n",
       "      <td>NaN</td>\n",
       "      <td>27/05/2024</td>\n",
       "      <td>SANTA</td>\n",
       "      <td>NaN</td>\n",
       "      <td>ENTRADA</td>\n",
       "      <td>06:00</td>\n",
       "      <td>07:00</td>\n",
       "      <td>01:00</td>\n",
       "      <td>6h</td>\n",
       "      <td>1.0</td>\n",
       "      <td>SEMANA - 6HS</td>\n",
       "      <td>semana</td>\n",
       "    </tr>\n",
       "    <tr>\n",
       "      <th>1</th>\n",
       "      <td>[27/05/2024 17:42:33] Marcela Aparecida Correa...</td>\n",
       "      <td>27/05/2024</td>\n",
       "      <td>MARCELA APARECIDA CORREA MARTINS</td>\n",
       "      <td>27/05 SANTA  -  MARTINS SAÍDA 17:40</td>\n",
       "      <td>NaN</td>\n",
       "      <td>27/05/2024</td>\n",
       "      <td>SANTA</td>\n",
       "      <td>NaN</td>\n",
       "      <td>SAIDA</td>\n",
       "      <td>13:00</td>\n",
       "      <td>18:00</td>\n",
       "      <td>05:00</td>\n",
       "      <td>tarde</td>\n",
       "      <td>3.0</td>\n",
       "      <td>SEMANA - TARDE - C.CIRURGICO</td>\n",
       "      <td>semana</td>\n",
       "    </tr>\n",
       "    <tr>\n",
       "      <th>2</th>\n",
       "      <td>[27/05/2024 17:57:43] Rodrigo Andrade Carmello...</td>\n",
       "      <td>27/05/2024</td>\n",
       "      <td>RODRIGO ANDRADE CARMELLO</td>\n",
       "      <td>27/05 MORUMBI  -  CARMELLO ENTRADA 07:00  ( DE...</td>\n",
       "      <td>DESLOCADO</td>\n",
       "      <td>27/05/2024</td>\n",
       "      <td>[MORUMBI, ALPHA]</td>\n",
       "      <td>NaN</td>\n",
       "      <td>ENTRADA</td>\n",
       "      <td>07:00</td>\n",
       "      <td>13:00</td>\n",
       "      <td>06:00</td>\n",
       "      <td>manha</td>\n",
       "      <td>2.0</td>\n",
       "      <td>SEMANA - MANHA - C.CIRURGICO</td>\n",
       "      <td>semana</td>\n",
       "    </tr>\n",
       "    <tr>\n",
       "      <th>3</th>\n",
       "      <td>[27/05/2024 17:58:27] Rodrigo Andrade Carmello...</td>\n",
       "      <td>27/05/2024</td>\n",
       "      <td>RODRIGO ANDRADE CARMELLO</td>\n",
       "      <td>27/05 MORUMBI  -  CARMELLO SAÍDA 17:45  ( DESL...</td>\n",
       "      <td>DESLOCADO</td>\n",
       "      <td>27/05/2024</td>\n",
       "      <td>[MORUMBI, ALPHA]</td>\n",
       "      <td>NaN</td>\n",
       "      <td>SAIDA</td>\n",
       "      <td>13:00</td>\n",
       "      <td>18:00</td>\n",
       "      <td>05:00</td>\n",
       "      <td>tarde</td>\n",
       "      <td>3.0</td>\n",
       "      <td>SEMANA - TARDE - C.CIRURGICO</td>\n",
       "      <td>semana</td>\n",
       "    </tr>\n",
       "    <tr>\n",
       "      <th>4</th>\n",
       "      <td>[27/05/2024 18:22:11] Marcos Bastos dos Santos...</td>\n",
       "      <td>27/05/2024</td>\n",
       "      <td>MARCOS BASTOS DOS SANTOS</td>\n",
       "      <td>27/05 MORUMBI  -  BASTOS  -  ENTRADA 06:00</td>\n",
       "      <td>NaN</td>\n",
       "      <td>27/05/2024</td>\n",
       "      <td>MORUMBI</td>\n",
       "      <td>NaN</td>\n",
       "      <td>ENTRADA</td>\n",
       "      <td>06:00</td>\n",
       "      <td>07:00</td>\n",
       "      <td>01:00</td>\n",
       "      <td>6h</td>\n",
       "      <td>1.0</td>\n",
       "      <td>SEMANA - 6HS</td>\n",
       "      <td>semana</td>\n",
       "    </tr>\n",
       "  </tbody>\n",
       "</table>\n",
       "</div>"
      ],
      "text/plain": [
       "                                                chat         dia  \\\n",
       "0  [27/05/2024 17:42:14] Marcela Aparecida Correa...  27/05/2024   \n",
       "1  [27/05/2024 17:42:33] Marcela Aparecida Correa...  27/05/2024   \n",
       "2  [27/05/2024 17:57:43] Rodrigo Andrade Carmello...  27/05/2024   \n",
       "3  [27/05/2024 17:58:27] Rodrigo Andrade Carmello...  27/05/2024   \n",
       "4  [27/05/2024 18:22:11] Marcos Bastos dos Santos...  27/05/2024   \n",
       "\n",
       "                               nome  \\\n",
       "0  MARCELA APARECIDA CORREA MARTINS   \n",
       "1  MARCELA APARECIDA CORREA MARTINS   \n",
       "2          RODRIGO ANDRADE CARMELLO   \n",
       "3          RODRIGO ANDRADE CARMELLO   \n",
       "4          MARCOS BASTOS DOS SANTOS   \n",
       "\n",
       "                                            mensagem   controle        data  \\\n",
       "0              27/05 SANTA  -  MARTINS ENTRADA 06:00        NaN  27/05/2024   \n",
       "1                27/05 SANTA  -  MARTINS SAÍDA 17:40        NaN  27/05/2024   \n",
       "2  27/05 MORUMBI  -  CARMELLO ENTRADA 07:00  ( DE...  DESLOCADO  27/05/2024   \n",
       "3  27/05 MORUMBI  -  CARMELLO SAÍDA 17:45  ( DESL...  DESLOCADO  27/05/2024   \n",
       "4         27/05 MORUMBI  -  BASTOS  -  ENTRADA 06:00        NaN  27/05/2024   \n",
       "\n",
       "            unidade extra     tipo ENTRADA  SAIDA DURAÇÃO PERIODO  periodo  \\\n",
       "0             SANTA   NaN  ENTRADA   06:00  07:00   01:00      6h      1.0   \n",
       "1             SANTA   NaN    SAIDA   13:00  18:00   05:00   tarde      3.0   \n",
       "2  [MORUMBI, ALPHA]   NaN  ENTRADA   07:00  13:00   06:00   manha      2.0   \n",
       "3  [MORUMBI, ALPHA]   NaN    SAIDA   13:00  18:00   05:00   tarde      3.0   \n",
       "4           MORUMBI   NaN  ENTRADA   06:00  07:00   01:00      6h      1.0   \n",
       "\n",
       "                          setor sem_ou_fds  \n",
       "0                  SEMANA - 6HS     semana  \n",
       "1  SEMANA - TARDE - C.CIRURGICO     semana  \n",
       "2  SEMANA - MANHA - C.CIRURGICO     semana  \n",
       "3  SEMANA - TARDE - C.CIRURGICO     semana  \n",
       "4                  SEMANA - 6HS     semana  "
      ]
     },
     "execution_count": 42,
     "metadata": {},
     "output_type": "execute_result"
    }
   ],
   "source": [
    "df.head()"
   ]
  },
  {
   "cell_type": "code",
   "execution_count": 43,
   "id": "b586b5b2",
   "metadata": {},
   "outputs": [
    {
     "data": {
      "text/html": [
       "<div>\n",
       "<style scoped>\n",
       "    .dataframe tbody tr th:only-of-type {\n",
       "        vertical-align: middle;\n",
       "    }\n",
       "\n",
       "    .dataframe tbody tr th {\n",
       "        vertical-align: top;\n",
       "    }\n",
       "\n",
       "    .dataframe thead th {\n",
       "        text-align: right;\n",
       "    }\n",
       "</style>\n",
       "<table border=\"1\" class=\"dataframe\">\n",
       "  <thead>\n",
       "    <tr style=\"text-align: right;\">\n",
       "      <th></th>\n",
       "      <th>Freq</th>\n",
       "      <th>Perc</th>\n",
       "    </tr>\n",
       "    <tr>\n",
       "      <th>controle</th>\n",
       "      <th></th>\n",
       "      <th></th>\n",
       "    </tr>\n",
       "  </thead>\n",
       "  <tbody>\n",
       "    <tr>\n",
       "      <th>DESLOCADO</th>\n",
       "      <td>17</td>\n",
       "      <td>100.0</td>\n",
       "    </tr>\n",
       "  </tbody>\n",
       "</table>\n",
       "</div>"
      ],
      "text/plain": [
       "           Freq   Perc\n",
       "controle              \n",
       "DESLOCADO    17  100.0"
      ]
     },
     "metadata": {},
     "output_type": "display_data"
    }
   ],
   "source": [
    "count_freq(df, 'controle')"
   ]
  },
  {
   "cell_type": "markdown",
   "id": "cf0be69b",
   "metadata": {},
   "source": [
    "# Ultimos ajustes nos deslocados:"
   ]
  },
  {
   "cell_type": "code",
   "execution_count": 44,
   "id": "ff82b248",
   "metadata": {},
   "outputs": [
    {
     "data": {
      "text/html": [
       "<div>\n",
       "<style scoped>\n",
       "    .dataframe tbody tr th:only-of-type {\n",
       "        vertical-align: middle;\n",
       "    }\n",
       "\n",
       "    .dataframe tbody tr th {\n",
       "        vertical-align: top;\n",
       "    }\n",
       "\n",
       "    .dataframe thead th {\n",
       "        text-align: right;\n",
       "    }\n",
       "</style>\n",
       "<table border=\"1\" class=\"dataframe\">\n",
       "  <thead>\n",
       "    <tr style=\"text-align: right;\">\n",
       "      <th></th>\n",
       "      <th>Freq</th>\n",
       "      <th>Perc</th>\n",
       "    </tr>\n",
       "    <tr>\n",
       "      <th>controle</th>\n",
       "      <th></th>\n",
       "      <th></th>\n",
       "    </tr>\n",
       "  </thead>\n",
       "  <tbody>\n",
       "    <tr>\n",
       "      <th>DESLOCADO</th>\n",
       "      <td>12</td>\n",
       "      <td>70.588235</td>\n",
       "    </tr>\n",
       "    <tr>\n",
       "      <th>DESLOCADO 6H</th>\n",
       "      <td>5</td>\n",
       "      <td>29.411765</td>\n",
       "    </tr>\n",
       "  </tbody>\n",
       "</table>\n",
       "</div>"
      ],
      "text/plain": [
       "              Freq       Perc\n",
       "controle                     \n",
       "DESLOCADO       12  70.588235\n",
       "DESLOCADO 6H     5  29.411765"
      ]
     },
     "metadata": {},
     "output_type": "display_data"
    }
   ],
   "source": [
    "df['controle'][(df['PERIODO'] == '6h') & (df['controle'] == 'DESLOCADO')] = 'DESLOCADO 6H'\n",
    "count_freq(df, 'controle')"
   ]
  },
  {
   "cell_type": "code",
   "execution_count": 45,
   "id": "53fdc22e",
   "metadata": {},
   "outputs": [
    {
     "data": {
      "text/html": [
       "<div>\n",
       "<style scoped>\n",
       "    .dataframe tbody tr th:only-of-type {\n",
       "        vertical-align: middle;\n",
       "    }\n",
       "\n",
       "    .dataframe tbody tr th {\n",
       "        vertical-align: top;\n",
       "    }\n",
       "\n",
       "    .dataframe thead th {\n",
       "        text-align: right;\n",
       "    }\n",
       "</style>\n",
       "<table border=\"1\" class=\"dataframe\">\n",
       "  <thead>\n",
       "    <tr style=\"text-align: right;\">\n",
       "      <th></th>\n",
       "      <th>Freq</th>\n",
       "      <th>Perc</th>\n",
       "    </tr>\n",
       "    <tr>\n",
       "      <th>unidade</th>\n",
       "      <th></th>\n",
       "      <th></th>\n",
       "    </tr>\n",
       "  </thead>\n",
       "  <tbody>\n",
       "    <tr>\n",
       "      <th>ITAIM</th>\n",
       "      <td>40</td>\n",
       "      <td>16.460905</td>\n",
       "    </tr>\n",
       "    <tr>\n",
       "      <th>ANALIA</th>\n",
       "      <td>37</td>\n",
       "      <td>15.226337</td>\n",
       "    </tr>\n",
       "    <tr>\n",
       "      <th>MORUMBI</th>\n",
       "      <td>33</td>\n",
       "      <td>13.580247</td>\n",
       "    </tr>\n",
       "    <tr>\n",
       "      <th>OSASCO</th>\n",
       "      <td>32</td>\n",
       "      <td>13.168724</td>\n",
       "    </tr>\n",
       "    <tr>\n",
       "      <th>VILLA</th>\n",
       "      <td>30</td>\n",
       "      <td>12.345679</td>\n",
       "    </tr>\n",
       "    <tr>\n",
       "      <th>JABAQUARA</th>\n",
       "      <td>28</td>\n",
       "      <td>11.522634</td>\n",
       "    </tr>\n",
       "    <tr>\n",
       "      <th>VNS</th>\n",
       "      <td>19</td>\n",
       "      <td>7.818930</td>\n",
       "    </tr>\n",
       "    <tr>\n",
       "      <th>SANTA ISABEL</th>\n",
       "      <td>14</td>\n",
       "      <td>5.761317</td>\n",
       "    </tr>\n",
       "    <tr>\n",
       "      <th>ALPHA</th>\n",
       "      <td>4</td>\n",
       "      <td>1.646091</td>\n",
       "    </tr>\n",
       "    <tr>\n",
       "      <th>AVICCENA</th>\n",
       "      <td>4</td>\n",
       "      <td>1.646091</td>\n",
       "    </tr>\n",
       "    <tr>\n",
       "      <th>MATERNIDADE</th>\n",
       "      <td>2</td>\n",
       "      <td>0.823045</td>\n",
       "    </tr>\n",
       "  </tbody>\n",
       "</table>\n",
       "</div>"
      ],
      "text/plain": [
       "              Freq       Perc\n",
       "unidade                      \n",
       "ITAIM           40  16.460905\n",
       "ANALIA          37  15.226337\n",
       "MORUMBI         33  13.580247\n",
       "OSASCO          32  13.168724\n",
       "VILLA           30  12.345679\n",
       "JABAQUARA       28  11.522634\n",
       "VNS             19   7.818930\n",
       "SANTA ISABEL    14   5.761317\n",
       "ALPHA            4   1.646091\n",
       "AVICCENA         4   1.646091\n",
       "MATERNIDADE      2   0.823045"
      ]
     },
     "metadata": {},
     "output_type": "display_data"
    }
   ],
   "source": [
    "df['unidade2'] = df['unidade']\n",
    "\n",
    "for i in range(0, len(df)):\n",
    "    if isinstance(df.loc[i, 'unidade'], list):\n",
    "        df['unidade'][i] = df['unidade'][i][0]\n",
    "\n",
    "df['unidade'][df['unidade'] == 'VILA'] = 'VILLA'\n",
    "df['unidade'][df['unidade'] == 'JABA'] = 'JABAQUARA'\n",
    "df['unidade'][df['unidade'] == 'SANTA'] = 'SANTA ISABEL'\n",
    "\n",
    "sorted(df['unidade'].unique())\n",
    "count_freq(df, 'unidade')"
   ]
  },
  {
   "cell_type": "markdown",
   "id": "1bc257aa",
   "metadata": {},
   "source": [
    "# Salvando tudo:"
   ]
  },
  {
   "cell_type": "code",
   "execution_count": 46,
   "id": "76d06d69",
   "metadata": {},
   "outputs": [
    {
     "name": "stdout",
     "output_type": "stream",
     "text": [
      "4  +=  243 => 247\n",
      ".\n",
      "13\n"
     ]
    }
   ],
   "source": [
    "salvando_nome_arquivo('df_gabs.xlsx', df)\n",
    "print('.')\n",
    "salvando_nome_arquivo('df_giov.xlsx', df_prob)"
   ]
  },
  {
   "cell_type": "markdown",
   "id": "2166a4c7",
   "metadata": {},
   "source": [
    "# DISPENSADOS:"
   ]
  },
  {
   "cell_type": "code",
   "execution_count": 47,
   "id": "7305f050",
   "metadata": {},
   "outputs": [
    {
     "name": "stdout",
     "output_type": "stream",
     "text": [
      "13\n"
     ]
    },
    {
     "data": {
      "text/html": [
       "<div>\n",
       "<style scoped>\n",
       "    .dataframe tbody tr th:only-of-type {\n",
       "        vertical-align: middle;\n",
       "    }\n",
       "\n",
       "    .dataframe tbody tr th {\n",
       "        vertical-align: top;\n",
       "    }\n",
       "\n",
       "    .dataframe thead th {\n",
       "        text-align: right;\n",
       "    }\n",
       "</style>\n",
       "<table border=\"1\" class=\"dataframe\">\n",
       "  <thead>\n",
       "    <tr style=\"text-align: right;\">\n",
       "      <th></th>\n",
       "      <th>chat</th>\n",
       "      <th>dia</th>\n",
       "      <th>nome</th>\n",
       "      <th>mensagem</th>\n",
       "    </tr>\n",
       "  </thead>\n",
       "  <tbody>\n",
       "    <tr>\n",
       "      <th>7</th>\n",
       "      <td>[28/05/2024 10:59:39] Fabiana Soares Gama: 28/...</td>\n",
       "      <td>28/05/2024</td>\n",
       "      <td>FABIANA SOARES GAMA</td>\n",
       "      <td>28/05 VILLA FABIANA GAMA SAÍDA 10:50  (  MOTIV...</td>\n",
       "    </tr>\n",
       "    <tr>\n",
       "      <th>4</th>\n",
       "      <td>[28/05/2024 13:37:33] Pedro Belintani de Maio:...</td>\n",
       "      <td>28/05/2024</td>\n",
       "      <td>PEDRO BELINTANI DE MAIO</td>\n",
       "      <td>28/05  -  HCT  -  BELINTANI SAÍDA 13:35H</td>\n",
       "    </tr>\n",
       "    <tr>\n",
       "      <th>6</th>\n",
       "      <td>[28/05/2024 08:26:28] Amanda Kiyoko Souza Koss...</td>\n",
       "      <td>28/05/2024</td>\n",
       "      <td>AMANDA KIYOKO SOUZA KOSSAKA</td>\n",
       "      <td>28/05 MORUMBI  -  AMANDA DISPENSADO</td>\n",
       "    </tr>\n",
       "  </tbody>\n",
       "</table>\n",
       "</div>"
      ],
      "text/plain": [
       "                                                chat         dia  \\\n",
       "7  [28/05/2024 10:59:39] Fabiana Soares Gama: 28/...  28/05/2024   \n",
       "4  [28/05/2024 13:37:33] Pedro Belintani de Maio:...  28/05/2024   \n",
       "6  [28/05/2024 08:26:28] Amanda Kiyoko Souza Koss...  28/05/2024   \n",
       "\n",
       "                          nome  \\\n",
       "7          FABIANA SOARES GAMA   \n",
       "4      PEDRO BELINTANI DE MAIO   \n",
       "6  AMANDA KIYOKO SOUZA KOSSAKA   \n",
       "\n",
       "                                            mensagem  \n",
       "7  28/05 VILLA FABIANA GAMA SAÍDA 10:50  (  MOTIV...  \n",
       "4           28/05  -  HCT  -  BELINTANI SAÍDA 13:35H  \n",
       "6                28/05 MORUMBI  -  AMANDA DISPENSADO  "
      ]
     },
     "execution_count": 47,
     "metadata": {},
     "output_type": "execute_result"
    }
   ],
   "source": [
    "df = pd.read_excel('df_giov.xlsx')[['chat','dia','nome','mensagem']]\n",
    "df = df.drop_duplicates(subset=['chat'])\n",
    "df = df.sort_values(['nome', 'dia'])\n",
    "print(len(df))\n",
    "df.sample(3)"
   ]
  },
  {
   "cell_type": "code",
   "execution_count": 48,
   "id": "83fe7a22",
   "metadata": {},
   "outputs": [
    {
     "name": "stdout",
     "output_type": "stream",
     "text": [
      "unidades probs: 8\n",
      "unidade ok: 5\n"
     ]
    }
   ],
   "source": [
    "#RETIRANDO REGISTROS DE DISTANCIA E SAIDAS POR QUESTÃO DE SAUDE OU DISPENSA\n",
    "\n",
    "df['controle'] = np.nan\n",
    "\n",
    "#preparando para reconhecer corretamente\n",
    "\n",
    "for i in range(0, len(df)):\n",
    "    mensagem = unidecode.unidecode(df['mensagem'][i].upper())\n",
    "    observacoes = re.findall(r'DISPENSADO|SAUDE|DISPENSADA', mensagem)\n",
    "    quantidade_observacoes = len(observacoes)\n",
    "    \n",
    "    if quantidade_observacoes == 0:\n",
    "        df['controle'][i] = 'PROB'\n",
    "        \n",
    "df['controle'].value_counts() \n",
    "\n",
    "#salvando\n",
    "df_prob = df[df['controle'] == 'PROB']\n",
    "df_prob.reset_index(drop=True, inplace=True)\n",
    "print(\"unidades probs:\", len(df_prob))\n",
    "\n",
    "df = df[df['controle'] != 'PROB']\n",
    "df.reset_index(drop=True, inplace=True)\n",
    "print(\"unidade ok:\", len(df)) "
   ]
  },
  {
   "cell_type": "code",
   "execution_count": 49,
   "id": "1d650df8",
   "metadata": {},
   "outputs": [
    {
     "name": "stdout",
     "output_type": "stream",
     "text": [
      "data probs: 8\n",
      "datas ok: 5\n"
     ]
    },
    {
     "data": {
      "text/plain": [
       "['27/05/2024', '28/05/2024', '29/05/2024']"
      ]
     },
     "execution_count": 49,
     "metadata": {},
     "output_type": "execute_result"
    }
   ],
   "source": [
    "#DATA DO PLANTÃO\n",
    "df['controle'] = ''\n",
    "df['data'] = ''\n",
    "\n",
    "for i in range(0, len(df)):\n",
    "    lista_datas = re.findall(r'[0-9]{1,2}\\/[0-9]{1,2}', df['mensagem'][i]) #regex dd/mm\n",
    "    quantidade_itens = len(lista_datas)\n",
    "    \n",
    "    if quantidade_itens == 1: #capturar apenas registros com uma data apenas\n",
    "        df['data'][i] = lista_datas[0]\n",
    "        df['controle'][i] = 'NORM'\n",
    "    else: #restante com nenhuma ou mais de uma data\n",
    "        df['controle'][i] = 'PROB'\n",
    "\n",
    "#salvando\n",
    "df_prob = pd.concat([df_prob, df[df['controle'] != 'NORM']])\n",
    "df_prob.reset_index(drop=True, inplace=True)\n",
    "print(\"data probs:\", len(df_prob))\n",
    "\n",
    "df = df[df['controle'] != 'PROB']\n",
    "df.reset_index(drop=True, inplace=True)\n",
    "print(\"datas ok:\", len(df)) \n",
    "\n",
    "df['data'] = df['data']+\"/2024\"\n",
    "sorted(df['data'].unique())"
   ]
  },
  {
   "cell_type": "code",
   "execution_count": 50,
   "id": "66d5067d",
   "metadata": {},
   "outputs": [
    {
     "name": "stdout",
     "output_type": "stream",
     "text": [
      "controle\n",
      "OK      4\n",
      "PROB    1\n",
      "Name: count, dtype: int64\n",
      "probs: 9\n",
      "ok: 4\n"
     ]
    }
   ],
   "source": [
    "#retirando a data da mensagem para não atrapalhar no reconhecimento de hora\n",
    "df['hora'] = ''\n",
    "\n",
    "for i in range(0, len(df)):\n",
    "    df['hora'][i] = df['mensagem'][i].replace(df['data'][i], '').strip() #substituindo a data por vazio\n",
    "    \n",
    "#substituindo \"h\" por \":\" para capturar horarios 11h22\n",
    "df['hora'] = df['hora'].apply(lambda x: x.upper().replace(\"H\", \":\"))\n",
    "\n",
    "#Retirando aqueles que contem horas no registro da mensagem\n",
    "for i in range(0, len(df)):\n",
    "    mensagem = df['hora'][i]\n",
    "    horas = re.findall(r'[0-9]{1,2}:[0-9]{1,2}', mensagem) #capturando horas HH:mm\n",
    "    quantidade_horas = len(horas)\n",
    "    \n",
    "    if quantidade_horas >= 1: #capturando apenas com uma horas escrita\n",
    "        df['hora'][i] = horas[0]\n",
    "        df['controle'][i] = 'PROB'\n",
    "    else: #restante com nenhuma ou mais horas (geralmente pq digitou a hora de entrada e saida {informação inutil})\n",
    "        df['hora'][i] = ''\n",
    "        df['controle'][i] = 'OK'\n",
    "        \n",
    "print(df['controle'].value_counts())\n",
    "\n",
    "#salvando\n",
    "df_prob = pd.concat([df_prob, df[df['controle'] != 'OK']])\n",
    "df_prob.reset_index(drop=True, inplace=True)\n",
    "print(\"probs:\", len(df_prob))\n",
    "\n",
    "df = df[df['controle'] == 'OK']\n",
    "df.reset_index(drop=True, inplace=True)\n",
    "print(\"ok:\", len(df)) "
   ]
  },
  {
   "cell_type": "code",
   "execution_count": 51,
   "id": "2311356e",
   "metadata": {},
   "outputs": [
    {
     "name": "stdout",
     "output_type": "stream",
     "text": [
      "9\n",
      "4\n"
     ]
    }
   ],
   "source": [
    "print(len(df_prob))\n",
    "print(len(df))"
   ]
  },
  {
   "cell_type": "code",
   "execution_count": 52,
   "id": "a10491e9",
   "metadata": {},
   "outputs": [
    {
     "name": "stdout",
     "output_type": "stream",
     "text": [
      "9\n",
      "4\n"
     ]
    }
   ],
   "source": [
    "df = df.drop_duplicates(subset=['chat'])\n",
    "\n",
    "os.remove(\"df_giov.xlsx\")\n",
    "salvando_nome_arquivo('df_giov.xlsx', df_prob)\n",
    "salvando_nome_arquivo('df_dispensados.xlsx', df)"
   ]
  },
  {
   "cell_type": "markdown",
   "id": "d848e6db",
   "metadata": {},
   "source": [
    "# ==========================================="
   ]
  },
  {
   "cell_type": "code",
   "execution_count": 53,
   "id": "ea80dba5-3a39-4c58-ada7-386a335015e5",
   "metadata": {},
   "outputs": [
    {
     "name": "stdout",
     "output_type": "stream",
     "text": [
      "256\n",
      "4\n",
      "247\n",
      "9\n"
     ]
    }
   ],
   "source": [
    "print(len(pd.DataFrame({'chat': read_file('_chat.txt') })))\n",
    "print(len(pd.read_excel('df_dispensados.xlsx')))\n",
    "print(len(pd.read_excel('df_gabs.xlsx')))\n",
    "print(len(pd.read_excel('df_giov.xlsx')))"
   ]
  },
  {
   "cell_type": "code",
   "execution_count": null,
   "id": "972dd1a4-4da8-4133-bb29-5599ead0cdfc",
   "metadata": {},
   "outputs": [],
   "source": []
  },
  {
   "cell_type": "code",
   "execution_count": null,
   "id": "d02706c8-04c9-4445-9650-445df381b386",
   "metadata": {},
   "outputs": [],
   "source": []
  },
  {
   "cell_type": "code",
   "execution_count": null,
   "id": "9133e196-503f-4e96-b3b4-037331bc1378",
   "metadata": {},
   "outputs": [],
   "source": []
  },
  {
   "cell_type": "code",
   "execution_count": null,
   "id": "632005ba-48b4-4f6b-9e69-54ba967df45c",
   "metadata": {},
   "outputs": [],
   "source": []
  },
  {
   "cell_type": "code",
   "execution_count": null,
   "id": "3ddf5b52-1455-41b9-98d7-0b1019ee8fa8",
   "metadata": {},
   "outputs": [],
   "source": []
  },
  {
   "cell_type": "code",
   "execution_count": null,
   "id": "7d73f657-fd47-4054-98d0-831a73c01b22",
   "metadata": {},
   "outputs": [],
   "source": []
  },
  {
   "cell_type": "code",
   "execution_count": null,
   "id": "ec554210-0809-4c01-b465-dae85f1c10db",
   "metadata": {},
   "outputs": [],
   "source": []
  },
  {
   "cell_type": "code",
   "execution_count": null,
   "id": "5f7a5c34-ed0d-41cf-a49a-c79983c64034",
   "metadata": {},
   "outputs": [],
   "source": []
  },
  {
   "cell_type": "code",
   "execution_count": null,
   "id": "a27072ef-7325-4561-855b-0bd44fea1fc4",
   "metadata": {},
   "outputs": [],
   "source": []
  },
  {
   "cell_type": "code",
   "execution_count": null,
   "id": "a7240932-0a54-4235-99a7-73504b25f2d8",
   "metadata": {},
   "outputs": [],
   "source": []
  },
  {
   "cell_type": "code",
   "execution_count": null,
   "id": "7c61f3b9-c3c2-40c8-8936-050118c7296b",
   "metadata": {},
   "outputs": [],
   "source": []
  },
  {
   "cell_type": "code",
   "execution_count": null,
   "id": "215dec1a-ef29-48b7-8017-ab5607f271f2",
   "metadata": {},
   "outputs": [],
   "source": []
  },
  {
   "cell_type": "code",
   "execution_count": null,
   "id": "467c3a58-3e62-4fbb-bd07-59b6e1c2d88a",
   "metadata": {},
   "outputs": [],
   "source": []
  },
  {
   "cell_type": "code",
   "execution_count": null,
   "id": "5ae9bcbc-9ce9-4495-adbd-0d4194f39ae2",
   "metadata": {},
   "outputs": [],
   "source": []
  }
 ],
 "metadata": {
  "kernelspec": {
   "display_name": "Python 3 (ipykernel)",
   "language": "python",
   "name": "python3"
  },
  "language_info": {
   "codemirror_mode": {
    "name": "ipython",
    "version": 3
   },
   "file_extension": ".py",
   "mimetype": "text/x-python",
   "name": "python",
   "nbconvert_exporter": "python",
   "pygments_lexer": "ipython3",
   "version": "3.11.7"
  }
 },
 "nbformat": 4,
 "nbformat_minor": 5
}
