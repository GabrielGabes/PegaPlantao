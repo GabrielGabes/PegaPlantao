{
 "cells": [
  {
   "cell_type": "code",
   "execution_count": 18,
   "id": "4e55f7f8",
   "metadata": {},
   "outputs": [
    {
     "name": "stdout",
     "output_type": "stream",
     "text": [
      "Requirement already satisfied: pyperclip in c:\\users\\gabriel\\anaconda3\\lib\\site-packages (1.8.2)\n",
      "Note: you may need to restart the kernel to use updated packages.\n"
     ]
    }
   ],
   "source": [
    "pip install pyperclip"
   ]
  },
  {
   "cell_type": "code",
   "execution_count": 21,
   "id": "9263f7f4",
   "metadata": {},
   "outputs": [],
   "source": [
    "#manipulação de dados\n",
    "import pandas as pd\n",
    "import numpy as np\n",
    "\n",
    "#string e data\n",
    "import unidecode\n",
    "\n",
    "#tempo\n",
    "import time\n",
    "from time import sleep\n",
    "\n",
    "import os\n",
    "\n",
    "\n",
    "import warnings #Warning inuteis\n",
    "from pandas.core.common import SettingWithCopyWarning\n",
    "warnings.simplefilter(action=\"ignore\", category=SettingWithCopyWarning)\n",
    "\n",
    "import unidecode #arrumar strings\n",
    "\n",
    "import re #regex\n",
    "\n",
    "import pyautogui\n",
    "\n",
    "import pyperclip"
   ]
  },
  {
   "cell_type": "code",
   "execution_count": 94,
   "id": "d00c9180",
   "metadata": {},
   "outputs": [
    {
     "name": "stdout",
     "output_type": "stream",
     "text": [
      "Point(x=1131, y=969)\n",
      "pronto\n"
     ]
    }
   ],
   "source": [
    "pyautogui.sleep(2)\n",
    "\n",
    "print(pyautogui.position())\n",
    "\n",
    "print('pronto')"
   ]
  },
  {
   "cell_type": "code",
   "execution_count": 7,
   "id": "a72428d2",
   "metadata": {},
   "outputs": [],
   "source": [
    "pyautogui.click(x=2924, y=846)\n",
    "sleep(1)\n",
    "pyautogui.write('N1', interval=0.25)"
   ]
  },
  {
   "cell_type": "code",
   "execution_count": 112,
   "id": "21bbe029",
   "metadata": {},
   "outputs": [
    {
     "data": {
      "text/html": [
       "<div>\n",
       "<style scoped>\n",
       "    .dataframe tbody tr th:only-of-type {\n",
       "        vertical-align: middle;\n",
       "    }\n",
       "\n",
       "    .dataframe tbody tr th {\n",
       "        vertical-align: top;\n",
       "    }\n",
       "\n",
       "    .dataframe thead th {\n",
       "        text-align: right;\n",
       "    }\n",
       "</style>\n",
       "<table border=\"1\" class=\"dataframe\">\n",
       "  <thead>\n",
       "    <tr style=\"text-align: right;\">\n",
       "      <th></th>\n",
       "      <th>Carimbo de data/hora</th>\n",
       "      <th>Notificador (Seu Nome)</th>\n",
       "      <th>Data do evento (dd/mm/aaaa)</th>\n",
       "      <th>Envolve paciente ?</th>\n",
       "      <th>Iniciais do paciente</th>\n",
       "      <th>Data de nascimento do paciente (dd/mm/aaaa)</th>\n",
       "      <th>Sexo do paciente</th>\n",
       "      <th>Número do atendimento</th>\n",
       "      <th>Local/setor da ocorrência</th>\n",
       "      <th>Unidade CMA</th>\n",
       "      <th>Descrição</th>\n",
       "      <th>classificacao</th>\n",
       "    </tr>\n",
       "  </thead>\n",
       "  <tbody>\n",
       "    <tr>\n",
       "      <th>32</th>\n",
       "      <td>2023-12-09 14:26:47.433</td>\n",
       "      <td>Larissa Ono</td>\n",
       "      <td>09/12/2023</td>\n",
       "      <td>Sim</td>\n",
       "      <td>MBDC</td>\n",
       "      <td>14/05/1998</td>\n",
       "      <td>Masculino</td>\n",
       "      <td>36626176.0</td>\n",
       "      <td>Centro cirúrgico</td>\n",
       "      <td>Itaim</td>\n",
       "      <td>Cirurgião plástico realiza procedimento sem au...</td>\n",
       "      <td>NaN</td>\n",
       "    </tr>\n",
       "    <tr>\n",
       "      <th>27</th>\n",
       "      <td>2023-12-09 10:46:13.946</td>\n",
       "      <td>Wilson Porfirio</td>\n",
       "      <td>09/12/23</td>\n",
       "      <td>Não</td>\n",
       "      <td>NaN</td>\n",
       "      <td>NaN</td>\n",
       "      <td>NaN</td>\n",
       "      <td>NaN</td>\n",
       "      <td>Centro cirúrgico</td>\n",
       "      <td>Itaim</td>\n",
       "      <td>Circulante insere horário de início de cirurgi...</td>\n",
       "      <td>NaN</td>\n",
       "    </tr>\n",
       "    <tr>\n",
       "      <th>8</th>\n",
       "      <td>2023-12-08 12:25:10.045</td>\n",
       "      <td>Alexandre Amaral lucas</td>\n",
       "      <td>08/12/2023</td>\n",
       "      <td>Não</td>\n",
       "      <td>NaN</td>\n",
       "      <td>NaN</td>\n",
       "      <td>NaN</td>\n",
       "      <td>NaN</td>\n",
       "      <td>Unidade de internação</td>\n",
       "      <td>Morumbi</td>\n",
       "      <td>Após o término do procedimento e despertar da ...</td>\n",
       "      <td>NaN</td>\n",
       "    </tr>\n",
       "    <tr>\n",
       "      <th>24</th>\n",
       "      <td>2023-12-11 13:50:00.737</td>\n",
       "      <td>Diogo Candeo Rodrigues Cordeiro</td>\n",
       "      <td>11/12/2023</td>\n",
       "      <td>Sim</td>\n",
       "      <td>LFDM</td>\n",
       "      <td>11/06/1964</td>\n",
       "      <td>Masculino</td>\n",
       "      <td>36652881.0</td>\n",
       "      <td>Outros</td>\n",
       "      <td>Itaim</td>\n",
       "      <td>Cefaleia pós-raquianestesia incapacitante com ...</td>\n",
       "      <td>NaN</td>\n",
       "    </tr>\n",
       "    <tr>\n",
       "      <th>51</th>\n",
       "      <td>2023-12-12 09:49:50.833</td>\n",
       "      <td>RAFAEL TADEU MARQUES</td>\n",
       "      <td>11/12/2023</td>\n",
       "      <td>Não</td>\n",
       "      <td>NaN</td>\n",
       "      <td>NaN</td>\n",
       "      <td>NaN</td>\n",
       "      <td>NaN</td>\n",
       "      <td>Centro cirúrgico</td>\n",
       "      <td>Alphamed</td>\n",
       "      <td>Não há roupa privativa no cc para todos, taman...</td>\n",
       "      <td>NaN</td>\n",
       "    </tr>\n",
       "  </tbody>\n",
       "</table>\n",
       "</div>"
      ],
      "text/plain": [
       "      Carimbo de data/hora           Notificador (Seu Nome)  \\\n",
       "32 2023-12-09 14:26:47.433                      Larissa Ono   \n",
       "27 2023-12-09 10:46:13.946                  Wilson Porfirio   \n",
       "8  2023-12-08 12:25:10.045           Alexandre Amaral lucas   \n",
       "24 2023-12-11 13:50:00.737  Diogo Candeo Rodrigues Cordeiro   \n",
       "51 2023-12-12 09:49:50.833             RAFAEL TADEU MARQUES   \n",
       "\n",
       "   Data do evento (dd/mm/aaaa) Envolve paciente ? Iniciais do paciente  \\\n",
       "32                  09/12/2023                Sim                 MBDC   \n",
       "27                    09/12/23                Não                  NaN   \n",
       "8                   08/12/2023                Não                  NaN   \n",
       "24                  11/12/2023                Sim                LFDM    \n",
       "51                  11/12/2023                Não                  NaN   \n",
       "\n",
       "   Data de nascimento do paciente (dd/mm/aaaa) Sexo do paciente  \\\n",
       "32                                  14/05/1998        Masculino   \n",
       "27                                         NaN              NaN   \n",
       "8                                          NaN              NaN   \n",
       "24                                  11/06/1964        Masculino   \n",
       "51                                         NaN              NaN   \n",
       "\n",
       "    Número do atendimento Local/setor da ocorrência  Unidade CMA  \\\n",
       "32             36626176.0           Centro cirúrgico       Itaim   \n",
       "27                    NaN           Centro cirúrgico       Itaim   \n",
       "8                     NaN      Unidade de internação     Morumbi   \n",
       "24             36652881.0                     Outros       Itaim   \n",
       "51                    NaN           Centro cirúrgico    Alphamed   \n",
       "\n",
       "                                            Descrição  classificacao  \n",
       "32  Cirurgião plástico realiza procedimento sem au...            NaN  \n",
       "27  Circulante insere horário de início de cirurgi...            NaN  \n",
       "8   Após o término do procedimento e despertar da ...            NaN  \n",
       "24  Cefaleia pós-raquianestesia incapacitante com ...            NaN  \n",
       "51  Não há roupa privativa no cc para todos, taman...            NaN  "
      ]
     },
     "execution_count": 112,
     "metadata": {},
     "output_type": "execute_result"
    }
   ],
   "source": [
    "df = pd.read_excel(\"Notificações CMA (respostas).xlsx\")\n",
    "df['classificacao'] = np.nan\n",
    "df.sample(5)"
   ]
  },
  {
   "cell_type": "code",
   "execution_count": 118,
   "id": "cccba2e3",
   "metadata": {},
   "outputs": [
    {
     "name": "stdout",
     "output_type": "stream",
     "text": [
      "10\n",
      "20\n",
      "30\n",
      "10\n",
      "20\n",
      "30\n",
      "40\n",
      "50\n",
      "60\n",
      "70\n",
      "80\n",
      "10\n",
      "20\n",
      "30\n",
      "40\n",
      "50\n",
      "não esta presente\n"
     ]
    }
   ],
   "source": [
    "for i in range(26, 30):\n",
    "    inicio = time.time() #iniciando o cronometro\n",
    "    \n",
    "    #MANDANDO DADOS PARA O CHATGPT ###################################\n",
    "    texto = df['Descrição'][i].replace(\"\\n\", \". \")\n",
    "    texto = 'Notificação: \" ' + texto + ' \"'\n",
    "    #texto = 'teste_'*30\n",
    "    #print(texto)\n",
    "\n",
    "    pyautogui.click(x=1131, y=969)\n",
    "    sleep(1)\n",
    "\n",
    "    pyperclip.copy(texto) #copiando texto\n",
    "    pyautogui.hotkey('ctrl', 'v') #colando texto\n",
    "    sleep(0.5)\n",
    "\n",
    "    posicao_antiga = pyautogui.position()\n",
    "    res = pyautogui.locateOnScreen(\"enviar.png\")\n",
    "    pyautogui.click(res)\n",
    "    pyautogui.moveTo(posicao_antiga)\n",
    "    sleep(1)\n",
    "\n",
    "    #ESPERANDO O RESULTADO ###################################\n",
    "\n",
    "    res = \"aaa\"\n",
    "    count = 0\n",
    "    while res != None:\n",
    "        res = pyautogui.locateOnScreen(\"esperar.png\")\n",
    "        sleep(0.1)\n",
    "        count += 1\n",
    "        if count % 10 == 0:\n",
    "            print(count)\n",
    "    sleep(0.5)\n",
    "\n",
    "    #CAPTURANDO O RESULTADO ###################################\n",
    "\n",
    "    res = pyautogui.locateOnScreen(\"copiar.png\", region = (1029, 844, 25+40, 28+40))\n",
    "    if res:\n",
    "        posicao_antiga = pyautogui.position()\n",
    "\n",
    "        pyautogui.click(res)\n",
    "\n",
    "        pyautogui.moveTo(posicao_antiga)\n",
    "\n",
    "        sleep(0.5)\n",
    "        texto_da_area_de_transferencia = pyperclip.paste()\n",
    "        sleep(0.5)\n",
    "        #print(texto_da_area_de_transferencia)\n",
    "        df['classificacao'][i] = texto_da_area_de_transferencia\n",
    "    else:\n",
    "        print(\"não esta presente\")\n",
    "        \n",
    "    fim = time.time() #encerrando cronometro\n",
    "print('\\nTempo que demorou o codigo:', fim - inicio)\n",
    "\n",
    "    ###################################"
   ]
  },
  {
   "cell_type": "code",
   "execution_count": 107,
   "id": "df008124",
   "metadata": {},
   "outputs": [
    {
     "data": {
      "text/plain": [
       "Box(left=1029, top=844, width=25, height=28)"
      ]
     },
     "execution_count": 107,
     "metadata": {},
     "output_type": "execute_result"
    }
   ],
   "source": [
    "res = pyautogui.locateOnScreen(\"copiar.png\", region = (1029, 844, 25+40, 28+40))\n",
    "res"
   ]
  },
  {
   "cell_type": "code",
   "execution_count": 117,
   "id": "07a62607",
   "metadata": {},
   "outputs": [
    {
     "data": {
      "text/plain": [
       "23    As classificações para a notificação \"CC não e...\n",
       "24    As classificações para a notificação \"Cefaleia...\n",
       "Name: classificacao, dtype: object"
      ]
     },
     "execution_count": 117,
     "metadata": {},
     "output_type": "execute_result"
    }
   ],
   "source": [
    "df['classificacao'][23:25]"
   ]
  },
  {
   "cell_type": "code",
   "execution_count": null,
   "id": "f30f9376",
   "metadata": {},
   "outputs": [],
   "source": []
  },
  {
   "cell_type": "code",
   "execution_count": null,
   "id": "13b86524",
   "metadata": {},
   "outputs": [],
   "source": []
  },
  {
   "cell_type": "code",
   "execution_count": null,
   "id": "90fac169",
   "metadata": {},
   "outputs": [],
   "source": []
  },
  {
   "cell_type": "code",
   "execution_count": null,
   "id": "b7ab657b",
   "metadata": {},
   "outputs": [],
   "source": []
  },
  {
   "cell_type": "code",
   "execution_count": null,
   "id": "53c2be58",
   "metadata": {},
   "outputs": [],
   "source": []
  },
  {
   "cell_type": "code",
   "execution_count": null,
   "id": "596e6aed",
   "metadata": {},
   "outputs": [],
   "source": []
  },
  {
   "cell_type": "code",
   "execution_count": null,
   "id": "fb32d7ee",
   "metadata": {},
   "outputs": [],
   "source": []
  },
  {
   "cell_type": "code",
   "execution_count": null,
   "id": "ace71d70",
   "metadata": {},
   "outputs": [],
   "source": []
  },
  {
   "cell_type": "code",
   "execution_count": null,
   "id": "1b825571",
   "metadata": {},
   "outputs": [],
   "source": []
  },
  {
   "cell_type": "code",
   "execution_count": null,
   "id": "d8adf283",
   "metadata": {},
   "outputs": [],
   "source": []
  },
  {
   "cell_type": "code",
   "execution_count": null,
   "id": "2b52c3bb",
   "metadata": {},
   "outputs": [],
   "source": []
  },
  {
   "cell_type": "code",
   "execution_count": null,
   "id": "1fe6486a",
   "metadata": {},
   "outputs": [],
   "source": []
  },
  {
   "cell_type": "code",
   "execution_count": null,
   "id": "39b93eab",
   "metadata": {},
   "outputs": [],
   "source": []
  },
  {
   "cell_type": "code",
   "execution_count": null,
   "id": "3970d624",
   "metadata": {},
   "outputs": [],
   "source": []
  },
  {
   "cell_type": "code",
   "execution_count": null,
   "id": "3c1d0491",
   "metadata": {},
   "outputs": [],
   "source": []
  },
  {
   "cell_type": "code",
   "execution_count": null,
   "id": "580c2a38",
   "metadata": {},
   "outputs": [],
   "source": []
  },
  {
   "cell_type": "code",
   "execution_count": null,
   "id": "811e90c1",
   "metadata": {},
   "outputs": [],
   "source": []
  }
 ],
 "metadata": {
  "kernelspec": {
   "display_name": "Python 3 (ipykernel)",
   "language": "python",
   "name": "python3"
  },
  "language_info": {
   "codemirror_mode": {
    "name": "ipython",
    "version": 3
   },
   "file_extension": ".py",
   "mimetype": "text/x-python",
   "name": "python",
   "nbconvert_exporter": "python",
   "pygments_lexer": "ipython3",
   "version": "3.9.13"
  }
 },
 "nbformat": 4,
 "nbformat_minor": 5
}
