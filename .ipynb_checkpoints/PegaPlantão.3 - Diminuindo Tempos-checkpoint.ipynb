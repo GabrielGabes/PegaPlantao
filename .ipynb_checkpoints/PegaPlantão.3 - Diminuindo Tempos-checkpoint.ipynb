{
 "cells": [
  {
   "cell_type": "code",
   "execution_count": 1,
   "id": "1941762b",
   "metadata": {},
   "outputs": [],
   "source": [
    "mes = \"10\""
   ]
  },
  {
   "cell_type": "code",
   "execution_count": 2,
   "id": "57e11785",
   "metadata": {},
   "outputs": [],
   "source": [
    "#manipulação de dados\n",
    "import pandas as pd\n",
    "import numpy as np\n",
    "\n",
    "#automação\n",
    "from selenium import webdriver\n",
    "from selenium.webdriver.common.keys import Keys\n",
    "\n",
    "#web scraping\n",
    "import requests\n",
    "from bs4 import BeautifulSoup\n",
    "\n",
    "#string e data\n",
    "import unidecode\n",
    "\n",
    "#tempo\n",
    "import time\n",
    "from time import sleep\n",
    "from selenium.webdriver.common.by import By\n",
    "from selenium.webdriver.support.ui import WebDriverWait\n",
    "from selenium.webdriver.support.expected_conditions import (visibility_of, \n",
    "                                                           staleness_of, \n",
    "                                                           invisibility_of_element)\n",
    "\n",
    "import warnings #Warning inuteis\n",
    "from pandas.core.common import SettingWithCopyWarning\n",
    "warnings.simplefilter(action=\"ignore\", category=SettingWithCopyWarning)\n",
    "\n",
    "import unidecode #arrumar strings\n",
    "\n",
    "import re #regex\n",
    "import os\n",
    "\n",
    "\n",
    "#pacotes para manipular data\n",
    "from datetime import date\n",
    "from datetime import time\n",
    "from datetime import datetime\n",
    "from datetime import timedelta"
   ]
  },
  {
   "cell_type": "code",
   "execution_count": 3,
   "id": "21dc39dd",
   "metadata": {},
   "outputs": [],
   "source": [
    "browser = webdriver.Firefox()"
   ]
  },
  {
   "cell_type": "code",
   "execution_count": 4,
   "id": "1a7b13bb",
   "metadata": {},
   "outputs": [],
   "source": [
    "browser.get('https://www.pegaplantao.com.br/login')\n",
    "sleep(1)\n",
    "browser.find_element(\"xpath\", '//*[@id=\"MainContent_LoginUser_UserName\"]').send_keys('gabriel_s_anjos@yahoo.com') #e-mail\n",
    "browser.find_element(\"xpath\", '//*[@id=\"MainContent_LoginUser_Password\"]').send_keys('Gabriel2022!') #senha\n",
    "browser.find_element(\"xpath\", '//*[@id=\"MainContent_LoginUser_btnLogin\"]').click() #login"
   ]
  },
  {
   "cell_type": "code",
   "execution_count": 5,
   "id": "92583856",
   "metadata": {},
   "outputs": [],
   "source": [
    "browser.get('https://www.pegaplantao.com.br/EscalaMensal')"
   ]
  },
  {
   "cell_type": "code",
   "execution_count": 6,
   "id": "16e0728c",
   "metadata": {},
   "outputs": [],
   "source": [
    "#click setor/profissional\n",
    "browser.find_element(\"xpath\", '//*[@id=\"s2id_autogen1\"]/a/span[1]').click()\n",
    "#click [profissional]\n",
    "browser.find_element(\"xpath\", '//*[@id=\"select2-drop\"]/ul/li[2]/div').click()"
   ]
  },
  {
   "cell_type": "code",
   "execution_count": 7,
   "id": "b5e7deca",
   "metadata": {},
   "outputs": [
    {
     "name": "stdout",
     "output_type": "stream",
     "text": [
      "139\n"
     ]
    },
    {
     "data": {
      "text/html": [
       "<div>\n",
       "<style scoped>\n",
       "    .dataframe tbody tr th:only-of-type {\n",
       "        vertical-align: middle;\n",
       "    }\n",
       "\n",
       "    .dataframe tbody tr th {\n",
       "        vertical-align: top;\n",
       "    }\n",
       "\n",
       "    .dataframe thead th {\n",
       "        text-align: right;\n",
       "    }\n",
       "</style>\n",
       "<table border=\"1\" class=\"dataframe\">\n",
       "  <thead>\n",
       "    <tr style=\"text-align: right;\">\n",
       "      <th></th>\n",
       "      <th>chat</th>\n",
       "      <th>dia</th>\n",
       "      <th>nome</th>\n",
       "      <th>mensagem</th>\n",
       "      <th>controle</th>\n",
       "      <th>data</th>\n",
       "      <th>unidade</th>\n",
       "      <th>extra</th>\n",
       "      <th>tipo</th>\n",
       "      <th>ENTRADA</th>\n",
       "      <th>SAIDA</th>\n",
       "      <th>DURAÇÃO</th>\n",
       "      <th>PERIODO</th>\n",
       "      <th>periodo</th>\n",
       "      <th>setor</th>\n",
       "      <th>sem_ou_fds</th>\n",
       "      <th>unidade2</th>\n",
       "      <th>setor_inicio</th>\n",
       "    </tr>\n",
       "  </thead>\n",
       "  <tbody>\n",
       "    <tr>\n",
       "      <th>0</th>\n",
       "      <td>[03/10/2023 19:58:08] Alexandre Amaral Lucas: ...</td>\n",
       "      <td>03/10/2023</td>\n",
       "      <td>ALEXANDRE AMARAL LUCAS</td>\n",
       "      <td>03/10 Osasco  -  alexandre Amaral saída 17:25</td>\n",
       "      <td>PROBS</td>\n",
       "      <td>03/10/2023</td>\n",
       "      <td>OSASCO</td>\n",
       "      <td>NaN</td>\n",
       "      <td>SAIDA</td>\n",
       "      <td>13:00</td>\n",
       "      <td>17:30</td>\n",
       "      <td>04:30</td>\n",
       "      <td>tarde</td>\n",
       "      <td>3</td>\n",
       "      <td>SEMANA - TARDE - C.CIRURGICO</td>\n",
       "      <td>semana</td>\n",
       "      <td>OSASCO</td>\n",
       "      <td>SEMANA - TARDE</td>\n",
       "    </tr>\n",
       "    <tr>\n",
       "      <th>1</th>\n",
       "      <td>[02/10/2023 17:03:33] Alexsander Takashi Hamad...</td>\n",
       "      <td>02/10/2023</td>\n",
       "      <td>ALEXSANDER TAKASHI HAMADA</td>\n",
       "      <td>02/10 Analia  -  Alex saída 16:55</td>\n",
       "      <td>PROBS</td>\n",
       "      <td>02/10/2023</td>\n",
       "      <td>ANALIA</td>\n",
       "      <td>NaN</td>\n",
       "      <td>SAIDA</td>\n",
       "      <td>13:00</td>\n",
       "      <td>17:00</td>\n",
       "      <td>04:00</td>\n",
       "      <td>tarde</td>\n",
       "      <td>3</td>\n",
       "      <td>SEMANA - TARDE - C.CIRURGICO</td>\n",
       "      <td>semana</td>\n",
       "      <td>ANALIA</td>\n",
       "      <td>SEMANA - TARDE</td>\n",
       "    </tr>\n",
       "    <tr>\n",
       "      <th>2</th>\n",
       "      <td>[04/10/2023 13:55:02] Alexsander Takashi Hamad...</td>\n",
       "      <td>04/10/2023</td>\n",
       "      <td>ALEXSANDER TAKASHI HAMADA</td>\n",
       "      <td>04/10 Villa Alex saída 13:50</td>\n",
       "      <td>PROBS</td>\n",
       "      <td>04/10/2023</td>\n",
       "      <td>VILLA</td>\n",
       "      <td>NaN</td>\n",
       "      <td>SAIDA</td>\n",
       "      <td>13:00</td>\n",
       "      <td>14:00</td>\n",
       "      <td>01:00</td>\n",
       "      <td>tarde</td>\n",
       "      <td>3</td>\n",
       "      <td>SEMANA - TARDE - C.CIRURGICO</td>\n",
       "      <td>semana</td>\n",
       "      <td>VILLA</td>\n",
       "      <td>SEMANA - TARDE</td>\n",
       "    </tr>\n",
       "    <tr>\n",
       "      <th>3</th>\n",
       "      <td>[03/10/2023 16:20:31] Aline Franchini Goulart ...</td>\n",
       "      <td>03/10/2023</td>\n",
       "      <td>ALINE FRANCHINI GOULART LIMA</td>\n",
       "      <td>03/10 ANÁLIA Aline saída 16:20</td>\n",
       "      <td>PROBS</td>\n",
       "      <td>03/10/2023</td>\n",
       "      <td>ANALIA</td>\n",
       "      <td>NaN</td>\n",
       "      <td>SAIDA</td>\n",
       "      <td>13:00</td>\n",
       "      <td>16:30</td>\n",
       "      <td>03:30</td>\n",
       "      <td>tarde</td>\n",
       "      <td>3</td>\n",
       "      <td>SEMANA - TARDE - C.CIRURGICO</td>\n",
       "      <td>semana</td>\n",
       "      <td>ANALIA</td>\n",
       "      <td>SEMANA - TARDE</td>\n",
       "    </tr>\n",
       "    <tr>\n",
       "      <th>4</th>\n",
       "      <td>[04/10/2023 15:17:57] Amanda Kiyoko Souza Koss...</td>\n",
       "      <td>04/10/2023</td>\n",
       "      <td>AMANDA KIYOKO SOUZA KOSSAKA</td>\n",
       "      <td>04/10 MORUMBI  -  Amanda saída 14:40</td>\n",
       "      <td>PROBS</td>\n",
       "      <td>04/10/2023</td>\n",
       "      <td>MORUMBI</td>\n",
       "      <td>NaN</td>\n",
       "      <td>SAIDA</td>\n",
       "      <td>13:00</td>\n",
       "      <td>15:00</td>\n",
       "      <td>02:00</td>\n",
       "      <td>tarde</td>\n",
       "      <td>3</td>\n",
       "      <td>SEMANA - TARDE - C.CIRURGICO</td>\n",
       "      <td>semana</td>\n",
       "      <td>MORUMBI</td>\n",
       "      <td>SEMANA - TARDE</td>\n",
       "    </tr>\n",
       "  </tbody>\n",
       "</table>\n",
       "</div>"
      ],
      "text/plain": [
       "                                                chat         dia  \\\n",
       "0  [03/10/2023 19:58:08] Alexandre Amaral Lucas: ...  03/10/2023   \n",
       "1  [02/10/2023 17:03:33] Alexsander Takashi Hamad...  02/10/2023   \n",
       "2  [04/10/2023 13:55:02] Alexsander Takashi Hamad...  04/10/2023   \n",
       "3  [03/10/2023 16:20:31] Aline Franchini Goulart ...  03/10/2023   \n",
       "4  [04/10/2023 15:17:57] Amanda Kiyoko Souza Koss...  04/10/2023   \n",
       "\n",
       "                           nome  \\\n",
       "0        ALEXANDRE AMARAL LUCAS   \n",
       "1     ALEXSANDER TAKASHI HAMADA   \n",
       "2     ALEXSANDER TAKASHI HAMADA   \n",
       "3  ALINE FRANCHINI GOULART LIMA   \n",
       "4   AMANDA KIYOKO SOUZA KOSSAKA   \n",
       "\n",
       "                                        mensagem controle        data  \\\n",
       "0  03/10 Osasco  -  alexandre Amaral saída 17:25    PROBS  03/10/2023   \n",
       "1              02/10 Analia  -  Alex saída 16:55    PROBS  02/10/2023   \n",
       "2                   04/10 Villa Alex saída 13:50    PROBS  04/10/2023   \n",
       "3                 03/10 ANÁLIA Aline saída 16:20    PROBS  03/10/2023   \n",
       "4           04/10 MORUMBI  -  Amanda saída 14:40    PROBS  04/10/2023   \n",
       "\n",
       "   unidade extra   tipo ENTRADA  SAIDA DURAÇÃO PERIODO  periodo  \\\n",
       "0   OSASCO   NaN  SAIDA   13:00  17:30   04:30   tarde        3   \n",
       "1   ANALIA   NaN  SAIDA   13:00  17:00   04:00   tarde        3   \n",
       "2    VILLA   NaN  SAIDA   13:00  14:00   01:00   tarde        3   \n",
       "3   ANALIA   NaN  SAIDA   13:00  16:30   03:30   tarde        3   \n",
       "4  MORUMBI   NaN  SAIDA   13:00  15:00   02:00   tarde        3   \n",
       "\n",
       "                          setor sem_ou_fds unidade2    setor_inicio  \n",
       "0  SEMANA - TARDE - C.CIRURGICO     semana   OSASCO  SEMANA - TARDE  \n",
       "1  SEMANA - TARDE - C.CIRURGICO     semana   ANALIA  SEMANA - TARDE  \n",
       "2  SEMANA - TARDE - C.CIRURGICO     semana    VILLA  SEMANA - TARDE  \n",
       "3  SEMANA - TARDE - C.CIRURGICO     semana   ANALIA  SEMANA - TARDE  \n",
       "4  SEMANA - TARDE - C.CIRURGICO     semana  MORUMBI  SEMANA - TARDE  "
      ]
     },
     "execution_count": 7,
     "metadata": {},
     "output_type": "execute_result"
    }
   ],
   "source": [
    "df_backup = pd.read_excel('df_gabs2.xlsx')\n",
    "\n",
    "print(len(df_backup))\n",
    "df_backup['setor_inicio'] = df_backup['setor'].apply(lambda x: x.replace(' - C.CIRURGICO',''))\n",
    "\n",
    "df_backup = df_backup.sort_values(['nome', 'data'])\n",
    "df_backup.reset_index(drop=True, inplace=True)\n",
    "\n",
    "df = df_backup.copy()\n",
    "\n",
    "df.head()"
   ]
  },
  {
   "cell_type": "code",
   "execution_count": 8,
   "id": "ea863ce7",
   "metadata": {},
   "outputs": [
    {
     "data": {
      "text/plain": [
       "array(['SEMANA - TARDE - C.CIRURGICO', 'SEMANA - MANHA - C.CIRURGICO',\n",
       "       'FDS - C.CIRURGICO ROTINA', 'SEMANA - 6HS', 'FDS - SAIDA',\n",
       "       'FDS - PLANTAO'], dtype=object)"
      ]
     },
     "execution_count": 8,
     "metadata": {},
     "output_type": "execute_result"
    }
   ],
   "source": [
    "df_backup['setor'].unique()"
   ]
  },
  {
   "cell_type": "code",
   "execution_count": 9,
   "id": "1c3fdbf7",
   "metadata": {},
   "outputs": [
    {
     "data": {
      "text/plain": [
       "139"
      ]
     },
     "execution_count": 9,
     "metadata": {},
     "output_type": "execute_result"
    }
   ],
   "source": [
    "len(df_backup)"
   ]
  },
  {
   "cell_type": "markdown",
   "id": "fb3619a7",
   "metadata": {},
   "source": [
    "# web scraping e limpeza"
   ]
  },
  {
   "cell_type": "code",
   "execution_count": 10,
   "id": "015e855e",
   "metadata": {
    "scrolled": true
   },
   "outputs": [
    {
     "data": {
      "text/html": [
       "<div>\n",
       "<style scoped>\n",
       "    .dataframe tbody tr th:only-of-type {\n",
       "        vertical-align: middle;\n",
       "    }\n",
       "\n",
       "    .dataframe tbody tr th {\n",
       "        vertical-align: top;\n",
       "    }\n",
       "\n",
       "    .dataframe thead th {\n",
       "        text-align: right;\n",
       "    }\n",
       "</style>\n",
       "<table border=\"1\" class=\"dataframe\">\n",
       "  <thead>\n",
       "    <tr style=\"text-align: right;\">\n",
       "      <th></th>\n",
       "      <th>Dia</th>\n",
       "      <th>Unidade</th>\n",
       "      <th>Periodo</th>\n",
       "      <th>Semana</th>\n",
       "      <th>Dia Semana</th>\n",
       "      <th>Entrada</th>\n",
       "      <th>Saida</th>\n",
       "      <th>ordem</th>\n",
       "      <th>data</th>\n",
       "    </tr>\n",
       "  </thead>\n",
       "  <tbody>\n",
       "  </tbody>\n",
       "</table>\n",
       "</div>"
      ],
      "text/plain": [
       "Empty DataFrame\n",
       "Columns: [Dia, Unidade, Periodo, Semana, Dia Semana, Entrada, Saida, ordem, data]\n",
       "Index: []"
      ]
     },
     "execution_count": 10,
     "metadata": {},
     "output_type": "execute_result"
    }
   ],
   "source": [
    "#########2\n",
    "#capturando registros\n",
    "unidades = ['ADMINISTRACAO','ALPHA','ANALIA','AVICCENA',\n",
    "            'ITAIM','JABAQUARA','MATERNIDADE','MORUMBI',\n",
    "            'OSASCO','VILLA','VNS','SANTA ISABEL']\n",
    "\n",
    "def funcao():\n",
    "    lista_tabela = []\n",
    "    for i in range(1, 6): #passando por cada semana[1 a 5]\n",
    "    ##print('semana:', i, \"==\"*20)\n",
    "        for t in range(1, 8): #passando por cada dia[1 a 7] dentro da semana\n",
    "            reg = browser.find_element(\"xpath\", '/html/body/form/main/div[2]/div[2]/table/tbody/tr['+str(i)+']/td['+str(t)+']').text\n",
    "            content = reg.splitlines() #deixando as palavras em um item dentro de uma lista\n",
    "            content = [unidecode.unidecode(i.strip().upper()) for i in content] #tratando cada palavra\n",
    "            \n",
    "            dia = content[0] #dia do registro\n",
    "            del(content[0]) #deletando o dia, ja que foi coletado\n",
    "            del(content[-1]) #deletando resido do wepscraping\n",
    "\n",
    "            if len(content) != 0: #ignorando dias em branco (sem registro) ¹\n",
    "                #print('dia:', t)\n",
    "\n",
    "                ##print('dia:', dia)\n",
    "                #print(content)\n",
    "\n",
    "                count_hora = 0 #count para capturar a hora de entrada e saida, count=1(entrada) | count=2(saida)\n",
    "                lista_control = []\n",
    "                for y in content: #passando um for sobre cada item da lista\n",
    "                    if y in unidades: # capturando a unidade e dando inicio a novo registro novo\n",
    "                        #print('================unidade:', y)\n",
    "                        unidade = y\n",
    "                    elif y[2] == ':': #reconhecendo se o item é hora (HH*:*mm)\n",
    "                        count_hora += 1\n",
    "                        if count_hora == 1: #capturando entrada\n",
    "                            #print('hora entrada:', y)\n",
    "                            lista_control.append(y)\n",
    "                        elif count_hora == 2: #capturando saida\n",
    "                            #print('hora saida:', y)\n",
    "                            lista_control.append(y)\n",
    "                            ##print('lista teste', lista_control)\n",
    "                            lista_tabela.append(lista_control)\n",
    "                            lista_control = []\n",
    "                            count_hora = 0\n",
    "                    else: #capturando dia, unidade, e periodo\n",
    "                        #print('.')\n",
    "                        #print('periodo:', y)\n",
    "                        lista_control.append(dia)\n",
    "                        lista_control.append(unidade)\n",
    "                        lista_control.append(y)\n",
    "                        lista_control.append(i)\n",
    "                        lista_control.append(t) #dia semanal\n",
    "\n",
    "                ##print('='*20)    \n",
    "\n",
    "            else:\n",
    "                continue #ignorando dias em branco (sem registro) ²\n",
    "\n",
    "    tabela = pd.DataFrame(lista_tabela, columns = ['Dia','Unidade','Periodo','Semana','Dia Semana','Entrada','Saida'])\n",
    "    \n",
    "    #limpeza da tabela\n",
    "    #########3\n",
    "    tabela['Dia'] = tabela['Dia'].apply(lambda x: int(x))\n",
    "\n",
    "    #recolhendo os dias do mes passado que ainda aparecem na primeira semana\n",
    "    dias_mes_passado = list(tabela[(tabela['Dia'] > 20) & (tabela['Semana'] == 1)].index) \n",
    "    tabela.drop(dias_mes_passado, axis=0, inplace=True) #excluindo\n",
    "    tabela.reset_index(drop=True, inplace=True) #resetando index\n",
    "\n",
    "    #Inserindo a ordem dos registros\n",
    "    tabela['ordem'] = ''\n",
    "\n",
    "    for i in tabela['Dia'].unique():\n",
    "        for t in range(0, len(tabela[tabela['Dia'] == i].index)):\n",
    "            tabela['ordem'][tabela[tabela['Dia'] == i].index[t]] = t+1\n",
    "\n",
    "    #Inserindo coluna de data        \n",
    "    tabela['data'] = tabela['Dia'].apply(lambda x: str(x))\n",
    "\n",
    "    for i in range(len(tabela)):\n",
    "        if len(tabela['data'][i]) == 1:\n",
    "            tabela['data'][i] = \"0\" + tabela['data'][i]\n",
    "\n",
    "        tabela['data'][i] = tabela['data'][i] + \"/\" + mes + \"/2023\" \n",
    "\n",
    "    tabela = tabela.query(\"Unidade != 'ADMINISTRACAO'\")\n",
    "    tabela = tabela[~((tabela['Semana'] >= 5) & (tabela['Dia'] < 10))]\n",
    "    tabela.reset_index(drop=True, inplace=True) #resetando index\n",
    "    \n",
    "    return tabela\n",
    "    \n",
    "tabela = funcao()\n",
    "tabela"
   ]
  },
  {
   "cell_type": "markdown",
   "id": "24d8a466",
   "metadata": {},
   "source": [
    "# ================================================="
   ]
  },
  {
   "cell_type": "code",
   "execution_count": 11,
   "id": "723a10bd",
   "metadata": {},
   "outputs": [
    {
     "data": {
      "text/plain": [
       "139"
      ]
     },
     "execution_count": 11,
     "metadata": {},
     "output_type": "execute_result"
    }
   ],
   "source": [
    "len(df_backup)"
   ]
  },
  {
   "cell_type": "code",
   "execution_count": 12,
   "id": "795a6344",
   "metadata": {},
   "outputs": [],
   "source": [
    "count = 0"
   ]
  },
  {
   "cell_type": "code",
   "execution_count": 13,
   "id": "d50af47e",
   "metadata": {},
   "outputs": [],
   "source": [
    "from selenium.webdriver.common.action_chains import ActionChains\n",
    "\n",
    "action_chains = ActionChains(browser)"
   ]
  },
  {
   "cell_type": "markdown",
   "id": "459bfc1c",
   "metadata": {},
   "source": [
    "# alterando horario"
   ]
  },
  {
   "cell_type": "code",
   "execution_count": 20,
   "id": "5c53fb42",
   "metadata": {
    "scrolled": true
   },
   "outputs": [
    {
     "name": "stdout",
     "output_type": "stream",
     "text": [
      "nome: RODRIGO ANTONIO REY GONZALEZ\n",
      "03/10 ANÁLIA  -  Rey saida 14:15\n",
      "114 -> OK\n",
      "\n",
      "\n",
      "nome: RODRIGO GOMES MINAS NOVAS\n",
      "03/10  -  OSASCO  -  Gomes saída 16:55\n",
      "115 -> OK\n",
      "\n",
      "\n",
      "nome: RODRIGO MARTINS PEREIRA\n",
      "04/10 MORUMBI  -  pereira saída 13:50   (  deslocado Analia  )  \n",
      "116 -> OK\n",
      "\n",
      "\n",
      "nome: RODRIGO MIYASHIRO NUNES DOS SANTOS\n",
      "03/10 MORUMBI  -  Miyashiro saida 12:45\n",
      "117 -> OK\n",
      "\n",
      "\n",
      "nome: ROMULO SPOLIDORIO\n",
      "04/10 Jabaquara Rômulo saída 10:55\n",
      "118 -> OK\n",
      "\n",
      "\n",
      "nome: RONALD FIGUEIREDO GOMES\n",
      "04/10 CENTRAL  -  Ronald saida 15:20\n",
      "119 -> OK\n",
      "\n",
      "\n",
      "nome: SIDNEY ORLANDO DE SOUZA\n",
      "02/10 Itaim - Sidney - saida 10:15\n",
      "120 -> OK\n",
      "04/10 - Itaim -  Sidney - saida: 09:00\n",
      "121 -> OK\n",
      "\n",
      "\n",
      "nome: STEFANY HELLEN SOUSA MARTINS\n",
      "04/10 Jabaquara stefany saida 13:10\n",
      "122 -> OK\n",
      "\n",
      "\n",
      "nome: THAIS BOSI NONATO\n",
      "03/10 Jabaquara  -  Bosi saída 16:00\n",
      "123 -> OK\n",
      "\n",
      "\n",
      "nome: THAIS CHAVES PINHEIRO\n",
      "02/10 Itaim  -  Thaís entrada 06:25\n",
      "124 -> OK\n",
      "================================================================================\n",
      "OK       119\n",
      "PROBS     14\n",
      "PROB       6\n",
      "Name: controle, dtype: int64\n",
      "================================================================================\n",
      "\n",
      "\n",
      "nome: THAIS MIRANDA RAMOS\n",
      "03/10 JABAQUARA  -  Miranda saída às 16:20\n",
      "125 -> OK\n",
      "\n",
      "\n",
      "nome: THALES LUVISOTTO NEDER\n",
      "03/10 Jabaquara  -  Thales saída 13:10\n",
      "126 -> OK\n",
      "04/10 Jabaquara  -  Thales saída 14:20\n",
      "127 -> OK\n",
      "\n",
      "\n",
      "nome: THASSIO CUNHA DE SANTANA\n",
      "04/10 Jabaquara  -  Thassio saída 17:15\n",
      "128 -> OK\n",
      "\n",
      "\n",
      "nome: THIAGO BARRETO MARQUES DA SILVA\n",
      "02/10 Anália  -  Naldo saída 17:00\n",
      "129 -> OK\n",
      "03/10 Villa Naldo saída 16:50\n",
      "130 -> OK\n",
      "\n",
      "\n",
      "nome: THIAGO FRANCISCO MARTINS\n",
      "03/10 VNS Thiago Martins saida 09:20\n",
      "131 -> OK\n",
      "\n",
      "\n",
      "nome: THIAGO SILVA PINTO\n",
      "02/10 JABAQUARA  -  T. Silva saida 17:10\n",
      "132 -> OK\n",
      "\n",
      "\n",
      "nome: VANESSA PACIULLO MAROSSI\n",
      "02/10 Alpha  -  Vanessa saída 15:10\n",
      "133 -> OK\n",
      "\n",
      "\n",
      "nome: VITOR LUIZ ASSUNCAO MARTINS\n",
      "03/10 Itaim  -  Assunção saída 13:35   (  pós - plantão MATE  -  deslocado Osasco  )  \n",
      "134 -> PROB\n",
      "\n",
      "\n",
      "nome: VITOR OLIVEIRA ANDRE\n",
      "03/10 VNS Vitor saída 15:29\n",
      "135 -> OK\n",
      "\n",
      "\n",
      "nome: VIVIAN CRISTINE DOS ANJOS E SILVA\n",
      "02/10 Jabaquara Vivian saida 13:45   (  deslocada Anália  )  \n",
      "136 -> OK\n",
      "03/10 VILLA Vivian saida 17:10\n",
      "137 -> OK\n",
      "\n",
      "\n",
      "nome: YURI ANDERSON PACHECO DE LIMA\n",
      "04/10 Itaim  -  Yuri saída 14:00\n",
      "138 -> OK\n",
      "\n",
      "\n",
      "================================================== TERMINOU ==================================================\n",
      "Total   139\n",
      "OK      132\n",
      "PROB      7\n",
      "Name: controle, dtype: int64\n"
     ]
    }
   ],
   "source": [
    "#Para cada profissional na lista\n",
    "df = df_backup[count:]\n",
    "\n",
    "for i in df['nome'].unique():\n",
    "    print(\"nome:\", i)\n",
    "    df_nome = df[df['nome'] == i]\n",
    "    df_nome.reset_index(drop=True, inplace=True)\n",
    "    \n",
    "    browser.find_element(\"xpath\", '//*[@id=\"s2id_ddlProfessionals\"]/a/span[1]').click()\n",
    "    #browser.find_element(\"xpath\", '/html/body/form/main/div[2]/div[2]/div/div[1]/div[3]/professionals/div/a/span[2]/b').click()\n",
    "    sleep(2)\n",
    "    \n",
    "    browser.find_element(\"xpath\", '/html/body/div[8]/div/input').send_keys(i)\n",
    "    browser.find_element(\"xpath\", '//*[@id=\"select2-drop\"]/ul/li/div').click()\n",
    "\n",
    "    #esperando carregamento do site\n",
    "    WebDriverWait(browser, 30).until_not(visibility_of(browser.find_element(\"xpath\", '//*[@id=\"loader\"]')))\n",
    "\n",
    "    \n",
    "    tabela = funcao()    \n",
    "    sleep(2)\n",
    "    \n",
    "    #Para cada registro na lista_nome\n",
    "    for t in range(len(df_nome)):\n",
    "        print(df_nome['mensagem'][t])\n",
    "        \n",
    "        dia_sel = tabela[(tabela['Unidade'] == df_nome['unidade'][t]) & (tabela['data'] == df_nome['data'][t])] # & (tabela['Periodo'] == df_nome[\"setor\"][t])]\n",
    "        \n",
    "        if df_nome['PERIODO'][t] == 'manha' and df_nome['sem_ou_fds'][t] == 'fds':\n",
    "            dia_sel = dia_sel[dia_sel['Entrada'] == '07:00']\n",
    "        else:\n",
    "            dia_sel = dia_sel[dia_sel['Periodo'].str.startswith(df_nome[\"setor_inicio\"][t])]\n",
    "        \n",
    "        \n",
    "        dia_sel.reset_index(drop=True, inplace=True)\n",
    "        #dia_sel\n",
    "        \n",
    "        if len(dia_sel) == 0:\n",
    "            print(count, \"-> PROB\")\n",
    "            df_backup['controle'][count] = \"PROB\"\n",
    "        else:\n",
    "            #abrindo/selecionando periodo conforme localização\n",
    "            elemento = browser.find_element(\"xpath\", '//*[@id=\"shift-monthly\"]/div[2]/table/tbody/tr['+str(dia_sel['Semana'][0])+']/td['+str(dia_sel['Dia Semana'][0])+']/ul['+str(dia_sel['ordem'][0])+']/li')\n",
    "            elemento.click()\n",
    "            \n",
    "            #Esperar componentes carregarem\n",
    "            WebDriverWait(browser, 10).until(visibility_of(browser.find_element(\"xpath\", '//*[@id=\"service-ckb-list-all-owner\"]')))\n",
    "            \n",
    "            #Inicio do plantão\n",
    "            browser.find_element(\"xpath\", '//*[@id=\"txtServiceStartTime\"]').clear()\n",
    "            browser.find_element(\"xpath\", '//*[@id=\"txtServiceStartTime\"]').send_keys(df_nome['ENTRADA'][t])\n",
    "            sleep(1)\n",
    "            #print('hora de entrada:', df_nome['ENTRADA'][t], '\\nhora de saida:', df_nome['SAIDA'][t])\n",
    "            #Duração do plantão\n",
    "            browser.find_element(\"xpath\", '//*[@id=\"txtServiceDuration\"]').clear()\n",
    "            browser.find_element(\"xpath\", '//*[@id=\"txtServiceDuration\"]').send_keys(df_nome['DURAÇÃO'][t])\n",
    "            #print('duração do plantão', df_nome['DURAÇÃO'][t])\n",
    "            \n",
    "            #salvar plantão\n",
    "            sleep(1)\n",
    "            browser.find_element(\"xpath\", '/html/body/div[5]/div/div[1]/div[2]/button[5]').click()\n",
    "            browser.find_element(\"xpath\", '/html/body/div[5]/div/div[1]/div[2]/button[5]').click()\n",
    "            sleep(0.2)\n",
    "            #browser.find_element(\"xpath\", '/html/body/div[5]/div/div[1]/div[2]/button[5]').click()\n",
    "            #browser.find_element(\"xpath\", '/html/body/div[5]/div/div[1]/div[2]/button[5]').click()\n",
    "            sleep(4)\n",
    "            print(count, \"-> OK\")\n",
    "            df_backup['controle'][count] = \"OK\"\n",
    "            WebDriverWait(browser, 10).until(visibility_of(browser.find_element(\"xpath\", '//*[@id=\"s2id_ddlProfessionals\"]/a/span[1]')))\n",
    "            sleep(0.5)\n",
    "            \n",
    "        count += 1 \n",
    "        if count % 25 == 0:\n",
    "            print('='*80)\n",
    "            print(df_backup['controle'].value_counts())\n",
    "            print('='*80)\n",
    "    print(\"\\n\")\n",
    "    \n",
    "print(\"=\"*50, 'TERMINOU', \"=\"*50)\n",
    "print('Total  ', len(df_backup))\n",
    "print(df_backup['controle'].value_counts())"
   ]
  },
  {
   "cell_type": "code",
   "execution_count": 47,
   "id": "3b875cf0",
   "metadata": {},
   "outputs": [
    {
     "data": {
      "text/plain": [
       "342"
      ]
     },
     "execution_count": 47,
     "metadata": {},
     "output_type": "execute_result"
    }
   ],
   "source": [
    "count"
   ]
  },
  {
   "cell_type": "code",
   "execution_count": 55,
   "id": "07aeab06",
   "metadata": {},
   "outputs": [],
   "source": [
    "df_backup['controle'][count] = 'OK'\n",
    "count += 1"
   ]
  },
  {
   "cell_type": "code",
   "execution_count": 24,
   "id": "8c5ba022",
   "metadata": {},
   "outputs": [],
   "source": [
    "df_backup['controle'][10] = \"OK\""
   ]
  },
  {
   "cell_type": "code",
   "execution_count": null,
   "id": "c0794c52",
   "metadata": {
    "scrolled": true
   },
   "outputs": [],
   "source": [
    "df_backup['nome'][count-2:count+2]"
   ]
  },
  {
   "cell_type": "code",
   "execution_count": 24,
   "id": "8eaa29f3",
   "metadata": {},
   "outputs": [
    {
     "name": "stdout",
     "output_type": "stream",
     "text": [
      "De: 38\n",
      "Para: 39\n"
     ]
    }
   ],
   "source": [
    "print('De:', count)\n",
    "df_backup['controle'][count] = \"PROB\"\n",
    "count += 1\n",
    "print('Para:', count)"
   ]
  },
  {
   "cell_type": "markdown",
   "id": "b6460ad2",
   "metadata": {},
   "source": [
    "# Salvando dataframe"
   ]
  },
  {
   "cell_type": "code",
   "execution_count": 21,
   "id": "078a3318",
   "metadata": {},
   "outputs": [
    {
     "data": {
      "text/plain": [
       "OK      132\n",
       "PROB      7\n",
       "Name: controle, dtype: int64"
      ]
     },
     "execution_count": 21,
     "metadata": {},
     "output_type": "execute_result"
    }
   ],
   "source": [
    "df_backup['controle'].value_counts()"
   ]
  },
  {
   "cell_type": "code",
   "execution_count": 22,
   "id": "a21c066f",
   "metadata": {},
   "outputs": [
    {
     "name": "stdout",
     "output_type": "stream",
     "text": [
      "probs ok: 132\n",
      "probs: 7\n"
     ]
    }
   ],
   "source": [
    "df_corrigidos = df_backup[df_backup['controle'] == \"OK\"]\n",
    "print(\"probs ok:\", len(df_corrigidos))\n",
    "\n",
    "df_prob = df_backup[df_backup['controle'] != \"OK\"]\n",
    "print(\"probs:\", len(df_prob))"
   ]
  },
  {
   "cell_type": "code",
   "execution_count": 23,
   "id": "eb8ea1d6",
   "metadata": {},
   "outputs": [
    {
     "name": "stdout",
     "output_type": "stream",
     "text": [
      "+= 284 ; len = 416\n",
      ".\n",
      "len = 7\n"
     ]
    }
   ],
   "source": [
    "def salvando_nome_arquivo(nome_arquivo, dataframe):\n",
    "    if os.path.exists(nome_arquivo): #O nome_arquivo existe\n",
    "        df1 = pd.read_excel(nome_arquivo)\n",
    "        dataframe = pd.concat([df1, dataframe]).reset_index(drop=True)\n",
    "        dataframe.to_excel(nome_arquivo, index=False)\n",
    "        print(\"+=\", len(df1), '; len =', len(dataframe)) \n",
    "\n",
    "    else: #O nome_arquivo não existe\n",
    "        dataframe.to_excel(nome_arquivo, index=False)\n",
    "        print(\"len =\", len(dataframe)) \n",
    "        \n",
    "salvando_nome_arquivo('Feitos.xlsx', df_corrigidos)\n",
    "os.remove(\"df_gabs2.xlsx\")\n",
    "print('.')\n",
    "salvando_nome_arquivo('df_giov2.xlsx', df_prob)"
   ]
  },
  {
   "cell_type": "markdown",
   "id": "08ae612f",
   "metadata": {},
   "source": [
    "# Fim Periodo 1"
   ]
  },
  {
   "cell_type": "code",
   "execution_count": null,
   "id": "fc85e413",
   "metadata": {},
   "outputs": [],
   "source": [
    "browser.quit()"
   ]
  },
  {
   "cell_type": "code",
   "execution_count": null,
   "id": "1c9c550d",
   "metadata": {},
   "outputs": [],
   "source": []
  }
 ],
 "metadata": {
  "kernelspec": {
   "display_name": "Python 3 (ipykernel)",
   "language": "python",
   "name": "python3"
  },
  "language_info": {
   "codemirror_mode": {
    "name": "ipython",
    "version": 3
   },
   "file_extension": ".py",
   "mimetype": "text/x-python",
   "name": "python",
   "nbconvert_exporter": "python",
   "pygments_lexer": "ipython3",
   "version": "3.9.13"
  }
 },
 "nbformat": 4,
 "nbformat_minor": 5
}
