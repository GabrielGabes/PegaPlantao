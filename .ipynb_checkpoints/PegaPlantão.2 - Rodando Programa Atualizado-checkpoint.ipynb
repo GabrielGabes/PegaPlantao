{
 "cells": [
  {
   "cell_type": "code",
   "execution_count": null,
   "id": "50b68528",
   "metadata": {},
   "outputs": [],
   "source": [
    "mes = '01'"
   ]
  },
  {
   "cell_type": "code",
   "execution_count": null,
   "id": "343d997d",
   "metadata": {},
   "outputs": [],
   "source": [
    "#manipulação de dados\n",
    "import pandas as pd\n",
    "import numpy as np\n",
    "\n",
    "#automação\n",
    "from selenium import webdriver\n",
    "from selenium.webdriver.common.keys import Keys\n",
    "\n",
    "#web scraping\n",
    "import requests\n",
    "from bs4 import BeautifulSoup\n",
    "\n",
    "#string e data\n",
    "import unidecode\n",
    "\n",
    "#tempo\n",
    "import time\n",
    "from time import sleep\n",
    "from selenium.webdriver.common.by import By\n",
    "from selenium.webdriver.support.ui import WebDriverWait\n",
    "from selenium.webdriver.support.expected_conditions import (visibility_of, \n",
    "                                                           staleness_of, \n",
    "                                                           invisibility_of_element)\n",
    "import warnings #Warning inuteis\n",
    "from pandas.errors import SettingWithCopyWarning\n",
    "warnings.simplefilter(action=\"ignore\", category=SettingWithCopyWarning)\n",
    "\n",
    "import unidecode #arrumar strings\n",
    "\n",
    "import re #regex\n",
    "import os\n",
    "\n",
    "import pyautogui #automação"
   ]
  },
  {
   "cell_type": "code",
   "execution_count": null,
   "id": "7b371162",
   "metadata": {},
   "outputs": [],
   "source": [
    "browser = webdriver.Firefox()"
   ]
  },
  {
   "cell_type": "code",
   "execution_count": null,
   "id": "d8336b23",
   "metadata": {},
   "outputs": [],
   "source": [
    "browser.get('https://www.pegaplantao.com.br/login')\n",
    "sleep(1)\n",
    "browser.find_element(\"xpath\", '//*[@id=\"MainContent_LoginUser_UserName\"]').send_keys('gabriel_s_anjos@yahoo.com') #e-mail\n",
    "browser.find_element(\"xpath\", '//*[@id=\"MainContent_LoginUser_Password\"]').send_keys('Gabriel2022!') #senha\n",
    "browser.find_element(\"xpath\", '//*[@id=\"MainContent_LoginUser_btnLogin\"]').click() #login"
   ]
  },
  {
   "cell_type": "code",
   "execution_count": null,
   "id": "2f632342",
   "metadata": {},
   "outputs": [],
   "source": [
    "browser.get('https://www.pegaplantao.com.br/EscalaMensal')"
   ]
  },
  {
   "cell_type": "code",
   "execution_count": null,
   "id": "5e9271bd",
   "metadata": {},
   "outputs": [],
   "source": [
    "#click setor/profissional\n",
    "browser.find_element(\"xpath\", '//*[@id=\"s2id_autogen1\"]/a/span[1]').click()\n",
    "#click [profissional]\n",
    "browser.find_element(\"xpath\", '//*[@id=\"select2-drop\"]/ul/li[2]/div').click()"
   ]
  },
  {
   "cell_type": "markdown",
   "id": "9f78470c",
   "metadata": {},
   "source": [
    "# Capturando setores:"
   ]
  },
  {
   "cell_type": "code",
   "execution_count": null,
   "id": "50842df4",
   "metadata": {},
   "outputs": [],
   "source": [
    "#click criar novo plantão\n",
    "def criar_plantao():\n",
    "    browser.find_element(\"xpath\", '//*[@id=\"shift-monthly\"]/div[2]/table/tbody/tr[1]/td[4]/button').click()\n",
    "    \n",
    "criar_plantao()"
   ]
  },
  {
   "cell_type": "code",
   "execution_count": null,
   "id": "e09333a7",
   "metadata": {},
   "outputs": [],
   "source": [
    "inicio = time.time() #iniciando o cronometro\n",
    "\n",
    "#Setor\n",
    "browser.find_element(\"xpath\", '//*[@id=\"s2id_ddlServiceSector\"]/a/span[1]').click()\n",
    "\n",
    "setor_html = browser.find_element(\"xpath\", '//*[@id=\"select2-drop\"]/ul').get_attribute('outerHTML')\n",
    "soup = BeautifulSoup(setor_html, 'html.parser')\n",
    "\n",
    "fim = time.time() #encerrando cronometro\n",
    "print('\\nTempo que demorou o codigo:', fim - inicio)"
   ]
  },
  {
   "cell_type": "code",
   "execution_count": null,
   "id": "19c13eaa",
   "metadata": {
    "scrolled": true
   },
   "outputs": [],
   "source": [
    "inicio = time.time() #iniciando o cronometro\n",
    "\n",
    "lista_unidade = []\n",
    "lista_unidade_count = []\n",
    "lista_plt = []\n",
    "lista_plt_count = []\n",
    "\n",
    "count_unidade = 1\n",
    "\n",
    "for i in soup.find_all(class_=\"select2-results-dept-0 select2-result select2-result-unselectable select2-result-with-children\"):\n",
    "    #print('\\n', i.find(class_='select2-result-label').get_text(), '====== \\n')\n",
    "    count_plt = 1\n",
    "    for t in i.find_all(class_='select2-results-dept-1 select2-result select2-result-selectable'): \n",
    "        #print(t.get_text())\n",
    "        lista_plt.append(t.get_text())\n",
    "        lista_plt_count.append(count_plt)\n",
    "        count_plt += 1\n",
    "            \n",
    "        lista_unidade.append(i.find(class_='select2-result-label').get_text())\n",
    "        lista_unidade_count.append(count_unidade)\n",
    "    count_unidade += 1\n",
    "\n",
    "scrap_unidades = pd.DataFrame({'unidade':lista_unidade, 'momento':lista_plt,\n",
    "                               'unidade_count':lista_unidade_count, 'plt_count':lista_plt_count})\n",
    "\n",
    "scrap_unidades['momento'] = scrap_unidades['momento'].apply(lambda x: x.replace('  ',' '))\n",
    "\n",
    "scrap_unidades['momento'] = scrap_unidades['momento'].apply(lambda x: unidecode.unidecode(x.replace('  ',' ').upper().strip()))\n",
    "scrap_unidades['unidade'] = scrap_unidades['unidade'].apply(lambda x: unidecode.unidecode(x.replace('  ',' ').upper().strip()))\n",
    "\n",
    "fim = time.time() #encerrando cronometro\n",
    "print('\\nTempo que demorou o codigo:', fim - inicio)\n",
    "\n"
   ]
  },
  {
   "cell_type": "code",
   "execution_count": null,
   "id": "6c427404",
   "metadata": {},
   "outputs": [],
   "source": [
    "#scrap_unidades.to_excel(\"setores.xlsx\", index=False)\n",
    "scrap_unidades.sample(20)"
   ]
  },
  {
   "cell_type": "code",
   "execution_count": null,
   "id": "3fe40176",
   "metadata": {},
   "outputs": [],
   "source": [
    "scrap_unidades[scrap_unidades['unidade'] == 'SANTA ISABEL']"
   ]
  },
  {
   "cell_type": "raw",
   "id": "bd0bec4f",
   "metadata": {
    "scrolled": false
   },
   "source": [
    "for i in scrap_unidades.columns:\n",
    "    print(scrap_unidades[i].unique(),'\\n')"
   ]
  },
  {
   "cell_type": "markdown",
   "id": "a3184b54",
   "metadata": {},
   "source": [
    "# TESTANDO SETORES"
   ]
  },
  {
   "cell_type": "code",
   "execution_count": null,
   "id": "0d5e4458",
   "metadata": {
    "scrolled": true
   },
   "outputs": [],
   "source": [
    "# df_gabs\n",
    "# df_continuar\n",
    "\n",
    "df = pd.read_excel('df_gabs.xlsx')\n",
    "df = df.sort_values(['nome', 'data']).reset_index(drop=True)\n",
    "print(len(df))\n",
    "df.sample(3)"
   ]
  },
  {
   "cell_type": "code",
   "execution_count": null,
   "id": "54c6608d",
   "metadata": {},
   "outputs": [],
   "source": [
    "df['setor'][(df['setor'] == 'FDS - C.CIRURGICO ROTINA') & (df['unidade'] == 'SANTA ISABEL')] = 'FDS - MANHA - C.CIRURGICO'"
   ]
  },
  {
   "cell_type": "code",
   "execution_count": null,
   "id": "f78b64a6",
   "metadata": {},
   "outputs": [],
   "source": [
    "for X in range(0, len(df)):\n",
    "    if len(scrap_unidades.loc[(scrap_unidades.unidade == df['unidade'][X]) & \n",
    "                                 (scrap_unidades.momento == df['setor'][X])]) < 1:\n",
    "        print(X)\n",
    "        print(df['unidade'][X], '-', df['setor'][X])\n",
    "        #print('index', ind)\n",
    "        #print(scrap_unidades['unidade'][ind], '-', scrap_unidades['momento'][ind])\n",
    "        #print('codigos:', unidade, setorzin)\n",
    "        \n",
    "\n",
    "print(\"=\"*20, \"TUDO OK\", \"=\"*20)"
   ]
  },
  {
   "cell_type": "code",
   "execution_count": null,
   "id": "8bbc10f7",
   "metadata": {
    "scrolled": true
   },
   "outputs": [],
   "source": [
    "print(df['unidade'][X])\n",
    "print(df['setor'][X])"
   ]
  },
  {
   "cell_type": "markdown",
   "id": "627e5da9",
   "metadata": {},
   "source": [
    "# ========================================================="
   ]
  },
  {
   "cell_type": "markdown",
   "id": "1b4d6b37",
   "metadata": {},
   "source": [
    "# FUNÇÕES"
   ]
  },
  {
   "cell_type": "code",
   "execution_count": null,
   "id": "17f43047",
   "metadata": {},
   "outputs": [],
   "source": [
    "def reset_selecao():\n",
    "    posicao_antiga = pyautogui.position()\n",
    "    pyautogui.click(x=214, y=251)\n",
    "    pyautogui.moveTo(posicao_antiga)\n",
    "    \n",
    "reset_selecao()"
   ]
  },
  {
   "cell_type": "code",
   "execution_count": null,
   "id": "c59649ad",
   "metadata": {},
   "outputs": [],
   "source": [
    "def setor(unidade, setor):\n",
    "    #print('base:', unidade, '-', setor)\n",
    "    browser.find_element(\"xpath\", '//*[@id=\"s2id_ddlServiceSector\"]/a/span[1]').click()\n",
    "    ind = scrap_unidades.loc[(scrap_unidades.unidade == unidade) & \n",
    "                             (scrap_unidades.momento == setor)].index.values[0]\n",
    "    unidade_sel = scrap_unidades['unidade_count'][ind]\n",
    "    setor_sel = scrap_unidades['plt_count'][ind]\n",
    "    browser.find_element(\"xpath\", '//*[@id=\"select2-drop\"]/ul/li['+str(unidade_sel)+']/ul/li['+str(setor_sel)+']/div').click()\n",
    "    \n",
    "setor(\"SANTA ISABEL\", \"SEMANA - TARDE - C.CIRURGICO\")\n",
    "\n",
    "def nome(nome_profissional):\n",
    "    #listar todos\n",
    "    browser.find_element(\"xpath\", '//*[@id=\"service-ckb-list-all-owner\"]').click()\n",
    "    \n",
    "    browser.find_element(\"xpath\", '//*[@id=\"service-ckb-list-all-owner\"]').click()\n",
    "    browser.find_element(\"xpath\", '//*[@id=\"service-ckb-list-all-owner\"]').click()\n",
    "    sleep(1)\n",
    "    browser.find_element(\"xpath\", '//*[@id=\"s2id_ddlProfessionalA\"]/a/span[1]').click()\n",
    "    browser.find_element(\"xpath\", '//*[@id=\"select2-drop\"]/div/input').send_keys(nome_profissional)\n",
    "    #Dando enter\n",
    "    browser.find_element(\"xpath\", '//*[@id=\"select2-drop\"]/div/input').send_keys(Keys.RETURN)\n",
    "    \n",
    "nome('OTTO MITTERMAYER')\n",
    "\n",
    "def hora(inicio, duracao):\n",
    "    #Inicio do plantão\n",
    "    browser.find_element(\"xpath\", '//*[@id=\"txtServiceStartTime\"]').clear()\n",
    "    browser.find_element(\"xpath\", '//*[@id=\"txtServiceStartTime\"]').send_keys(inicio)\n",
    "    sleep(1)\n",
    "    browser.find_element(\"xpath\", '//*[@id=\"txtServiceDuration\"]').clear()\n",
    "    browser.find_element(\"xpath\", '//*[@id=\"txtServiceDuration\"]').send_keys(duracao)\n",
    "    \n",
    "hora('13:30', '05:00')\n",
    "    \n",
    "def data(data_selecionada):\n",
    "    browser.find_element(\"xpath\", '/html/body/div[5]/div/div[2]/div[2]/div[5]/div[1]/div[2]/div/div[2]/div[1]/div[2]/input[1]').clear()\n",
    "    sleep(1)\n",
    "    browser.find_element(\"xpath\", '/html/body/div[5]/div/div[2]/div[2]/div[5]/div[1]/div[2]/div/div[2]/div[1]/div[2]/input[1]').send_keys(data_selecionada)\n",
    "    sleep(1)\n",
    "    \n",
    "data(\"10/01/2024\")\n",
    "reset_selecao()"
   ]
  },
  {
   "cell_type": "code",
   "execution_count": null,
   "id": "22c3e5b4",
   "metadata": {},
   "outputs": [],
   "source": [
    "def pontuacao(pontos):\n",
    "    browser.find_element(\"xpath\", '//*[@id=\"txtServiceValue\"]').clear()\n",
    "    browser.find_element(\"xpath\", '//*[@id=\"txtServiceValue\"]').send_keys(pontos) #Pontos\n",
    "\n",
    "pontuacao(\"666\")\n",
    "'''\n",
    "//*[@id=\"select2-drop\"]/ul/li[3]/div\n",
    "1 - Normal\n",
    "2 - DESLOCAMENTO\n",
    "3 - VOLUNTÁRIO\n",
    "4 - COBERTURA\n",
    "'''\n",
    "def tipo_do_registro(duracao, sem_ou_fds, tipo_registro):\n",
    "    if tipo_registro == 'extra':\n",
    "        print('EXTRA')\n",
    "        sleep(1)\n",
    "        reset_selecao()\n",
    "        \n",
    "        browser.find_element(\"xpath\", '//*[@id=\"s2id_add-service-service-types\"]/a/span[1]').click()\n",
    "        #browser.find_element(\"xpath\", '//*[@id=\"s2id_add-service-service-types\"]/a/span[1]').click()\n",
    "        sleep(1)\n",
    "        #selecionando o tipo voluntario:\n",
    "        browser.find_element(\"xpath\", '//*[@id=\"select2-drop\"]/ul/li[3]/div').click()\n",
    "        if int(duracao[:2]) >= 5 and sem_ou_fds == \"semana\":\n",
    "            pontuacao(200)\n",
    "            pontuacao(200)\n",
    "            print('duração >= 5 => 200 pontos')\n",
    "        else:\n",
    "            pass\n",
    "    elif tipo_registro == 'DESLOCADO':\n",
    "        print('DESLOCADO')\n",
    "        sleep(1)\n",
    "        reset_selecao()\n",
    "        \n",
    "        browser.find_element(\"xpath\", '//*[@id=\"s2id_add-service-service-types\"]/a/span[1]').click()\n",
    "        #browser.find_element(\"xpath\", '//*[@id=\"s2id_add-service-service-types\"]/a/span[1]').click()\n",
    "        sleep(1)\n",
    "        #selecionando o tipo voluntario:\n",
    "        browser.find_element(\"xpath\", '//*[@id=\"select2-drop\"]/ul/li[2]/div').click()\n",
    "        if int(duracao[:2]) >= 5 and sem_ou_fds == \"semana\":\n",
    "            pontuacao(100)\n",
    "            pontuacao(100)\n",
    "            print('duração >5 -> 100 pontos')\n",
    "        else:\n",
    "            pass\n",
    "        sleep(1)\n",
    "    else:\n",
    "        if int(duracao[:2]) >= 5 and sem_ou_fds == \"semana\":\n",
    "            pontuacao(100)\n",
    "            pontuacao(100)\n",
    "            print('duração >5 -> 100 pontos')\n",
    "        else:\n",
    "            pass\n",
    "        sleep(1)\n",
    "\n",
    "#tipo_do_registro(\"05:00\", \"semana\", \"extra\")\n",
    "#tipo_do_registro(df['DURAÇÃO'][h], df['sem_ou_fds'][h], df['extra'][h])\n",
    "        \n",
    "def salvar_plantao():\n",
    "    browser.find_element(\"xpath\", '//*[@id=\"modal-add-service\"]/div/div[1]/div[2]/button[4]').click()\n",
    "    \n",
    "#salvar_plantao()\n",
    "\n",
    "def fechar():\n",
    "    browser.find_element(\"xpath\", '//*[@id=\"modal-add-service\"]/div/div[1]/button').click()\n",
    "\n",
    "fechar()"
   ]
  },
  {
   "cell_type": "markdown",
   "id": "78918987",
   "metadata": {},
   "source": [
    "# ========================================================="
   ]
  },
  {
   "cell_type": "markdown",
   "id": "9d27dbca",
   "metadata": {},
   "source": [
    "# RODANDO NO PEGA"
   ]
  },
  {
   "cell_type": "code",
   "execution_count": null,
   "id": "849f291a",
   "metadata": {},
   "outputs": [],
   "source": [
    "len(df)"
   ]
  },
  {
   "cell_type": "code",
   "execution_count": null,
   "id": "6a7de828",
   "metadata": {},
   "outputs": [],
   "source": [
    "H=0"
   ]
  },
  {
   "cell_type": "code",
   "execution_count": null,
   "id": "a5dcf2db",
   "metadata": {
    "scrolled": true
   },
   "outputs": [],
   "source": [
    "for h in range(H, len(df)):\n",
    "    print(h)\n",
    "    print('nome:', df['nome'][h])\n",
    "    print('mensagem:', df['mensagem'][h])\n",
    "    print('dia:', df['data'][h])\n",
    "    \n",
    "    #click criar novo plantão\n",
    "    criar_plantao()\n",
    "    \n",
    "    #esta disponivel o botão de setor\n",
    "    WebDriverWait(browser, 10).until(visibility_of(browser.find_element(\"xpath\", '//*[@id=\"s2id_ddlServiceSector\"]/a/span[1]')))\n",
    "    #Selecionando Setor\n",
    "    setor(df['unidade'][h], df['setor'][h])\n",
    "    \n",
    "    #PROFISSIONAL\n",
    "    #esta disponivel o botão de profissional\n",
    "    WebDriverWait(browser, 10).until(visibility_of(browser.find_element(\"xpath\", '//*[@id=\"service-ckb-list-all-owner\"]')))\n",
    "    nome(df['nome'][h])\n",
    "    sleep(1)\n",
    "\n",
    "    #Data do plantão\n",
    "    data(df['data'][h])\n",
    "    \n",
    "    #Inicio do plantão -- Duração do plantão\n",
    "    hora(df['ENTRADA'][h], df['DURAÇÃO'][h])\n",
    "    sleep(1)\n",
    "        \n",
    "    ##TIPO\n",
    "    tipo_do_registro(df['DURAÇÃO'][h], df['sem_ou_fds'][h], df['extra'][h])\n",
    "    \n",
    "    #salvar plantão\n",
    "    sleep(1)\n",
    "    salvar_plantao()\n",
    "    salvar_plantao()\n",
    "    salvar_plantao()\n",
    "    sleep(2)\n",
    "\n",
    "    #VERIFICANDO SE HOUVE ERRO - HÁ PLANTÃO NO MESMO HORARIO\n",
    "    #if browser.find_element(\"xpath\", '/html/body/div[6]/div/div[2]/div[2]/div/label').text != \"\":\n",
    "    #if browser.find_element(\"xpath\", '/html/body/div[5]/div/div[2]/div[2]/div/label').text != '':\n",
    "    #if browser.find_element(\"xpath\", '/html/body/div[4]/div/div[2]/div[2]/div/label').text != \"\":\n",
    "    #if browser.find_element(\"xpath\", '/html/body/div[5]/div/div[2]/div[1]').text != \"\":\n",
    "    if browser.find_element(\"xpath\", '/html/body/div[5]/div/div[2]/div[1]').text != \"\":\n",
    "        if df['PERIODO'][h] == '6h':\n",
    "            browser.find_element(\"xpath\", '//*[@id=\"ckb-add-service-ignore-conflict\"]').click()#estou ciente\n",
    "            sleep(1)\n",
    "            salvar_plantao()\n",
    "            salvar_plantao()\n",
    "            salvar_plantao()\n",
    "            df.loc[int(h), 'controle'] = \"NORM DUPLI\"\n",
    "        else:\n",
    "            fechar()\n",
    "            df.loc[int(h), 'controle'] = \"PROBS\"\n",
    "            print(\"PROB\")\n",
    "    else:\n",
    "        df.loc[int(h), 'controle'] = \"NORM\"\n",
    "    \n",
    "    WebDriverWait(browser, 10).until_not(visibility_of(browser.find_element(\"xpath\", '//*[@id=\"modal-add-service\"]/div/div[1]/button')))\n",
    "    H += 1\n",
    "    print('='*40, '\\n')\n",
    "    \n",
    "    if H % 25 == 0:\n",
    "        print('='*80)\n",
    "        print(df['controle'].value_counts())\n",
    "        print('='*80)\n",
    "        df.to_excel(\"df_gabs.xlsx\", index=False)\n",
    "        \n",
    "print(\"=\"*50, 'TERMINOU', \"=\"*50)\n",
    "print('Total  ', len(df))\n",
    "print(df['controle'].value_counts())\n",
    "df.to_excel(\"df_gabs.xlsx\", index=False)"
   ]
  },
  {
   "cell_type": "code",
   "execution_count": null,
   "id": "a3abae02",
   "metadata": {},
   "outputs": [],
   "source": [
    "df"
   ]
  },
  {
   "cell_type": "code",
   "execution_count": null,
   "id": "947a8a38",
   "metadata": {},
   "outputs": [],
   "source": []
  },
  {
   "cell_type": "code",
   "execution_count": null,
   "id": "bf4c5287",
   "metadata": {},
   "outputs": [],
   "source": [
    "nome_errado = \"gabriel\"\n",
    "nome_certo = \"GABRIELL\"\n",
    "df['nome'][df['nome'] == nome_errado] = nome_certo"
   ]
  },
  {
   "cell_type": "code",
   "execution_count": null,
   "id": "f0369cb3",
   "metadata": {},
   "outputs": [],
   "source": [
    "df.loc[int(H), 'controle'] = \"NORM\"\n",
    "H += 1\n",
    "print(H)"
   ]
  },
  {
   "cell_type": "markdown",
   "id": "ec77a3f5",
   "metadata": {},
   "source": [
    "# Testes:"
   ]
  },
  {
   "cell_type": "markdown",
   "id": "b4ac1cff",
   "metadata": {},
   "source": [
    "# Salvando restante:"
   ]
  },
  {
   "cell_type": "code",
   "execution_count": null,
   "id": "9ba15f8f",
   "metadata": {
    "scrolled": true
   },
   "outputs": [],
   "source": [
    "print(df['controle'].value_counts())\n",
    "print(df['controle'].value_counts(normalize=True)*100)"
   ]
  },
  {
   "cell_type": "code",
   "execution_count": null,
   "id": "216ef7ea",
   "metadata": {},
   "outputs": [],
   "source": [
    "# Registros com Problemas Corrigiveis ou Não\n",
    "df_gabs = df[df['controle'] != 'NORM']\n",
    "df_gabs.reset_index(drop=True, inplace=True)\n",
    "print(\"probs:\", len(df_gabs))\n",
    "\n",
    "# Registros Perfeitos ja feitos\n",
    "df = df[df['controle'] == 'NORM']\n",
    "df.reset_index(drop=True, inplace=True)\n",
    "print(\"ok:\", len(df))"
   ]
  },
  {
   "cell_type": "code",
   "execution_count": null,
   "id": "371f300d",
   "metadata": {},
   "outputs": [],
   "source": [
    "def salvando_nome_arquivo(nome_arquivo, dataframe):\n",
    "    if os.path.exists(nome_arquivo): #O nome_arquivo existe\n",
    "        df1 = pd.read_excel(nome_arquivo)\n",
    "        dataframe = pd.concat([df1, dataframe]).reset_index(drop=True)\n",
    "        dataframe.to_excel(nome_arquivo, index=False)\n",
    "        print(\"+=\", len(df1), '; len =', len(dataframe)) \n",
    "\n",
    "    else: #O nome_arquivo não existe\n",
    "        dataframe.to_excel(nome_arquivo, index=False)\n",
    "        print(\"len =\", len(dataframe)) "
   ]
  },
  {
   "cell_type": "code",
   "execution_count": null,
   "id": "f3e8affa",
   "metadata": {},
   "outputs": [],
   "source": [
    "os.remove(\"df_gabs.xlsx\")\n",
    "salvando_nome_arquivo('Feitos.xlsx', df)\n",
    "print('.')\n",
    "salvando_nome_arquivo('df_gabs2.xlsx', df_gabs)"
   ]
  },
  {
   "cell_type": "markdown",
   "id": "008f43c3",
   "metadata": {},
   "source": [
    "# ======================================================================="
   ]
  },
  {
   "cell_type": "code",
   "execution_count": null,
   "id": "fa3ac3ee",
   "metadata": {},
   "outputs": [],
   "source": [
    "from selenium.webdriver.support import expected_conditions as EC\n",
    "from selenium.common.exceptions import TimeoutException"
   ]
  },
  {
   "cell_type": "code",
   "execution_count": null,
   "id": "c2d7e4e1",
   "metadata": {},
   "outputs": [],
   "source": [
    "#pacotes para manipular data\n",
    "from datetime import date\n",
    "from datetime import time\n",
    "from datetime import datetime\n",
    "from datetime import timedelta"
   ]
  },
  {
   "cell_type": "markdown",
   "id": "d0bdf6a5",
   "metadata": {},
   "source": [
    "# ======================================================================="
   ]
  },
  {
   "cell_type": "code",
   "execution_count": null,
   "id": "ff34b36c",
   "metadata": {},
   "outputs": [],
   "source": [
    "######### ######### FUNÇÃO DE CAPTURA ######### ######### \n",
    "#capturando registros\n",
    "unidades = ['ADMINISTRACAO','ALPHA','ANALIA','AVICCENA',\n",
    "            'ITAIM','JABAQUARA','MATERNIDADE','MORUMBI',\n",
    "            'OSASCO','VILLA','VNS','SANTA ISABEL']\n",
    "\n",
    "def funcao():\n",
    "    lista_tabela = []\n",
    "    for i in range(1, 6): #passando por cada semana[1 a 5]\n",
    "    ##print('semana:', i, \"==\"*20)\n",
    "        for t in range(1, 8): #passando por cada dia[1 a 7] dentro da semana\n",
    "            reg = browser.find_element(\"xpath\", '/html/body/form/main/div[2]/div[2]/table/tbody/tr['+str(i)+']/td['+str(t)+']').text\n",
    "            content = reg.splitlines() #deixando as palavras em um item dentro de uma lista\n",
    "            content = [unidecode.unidecode(i.strip().upper()) for i in content] #tratando cada palavra\n",
    "\n",
    "            dia = content[0] #dia do registro\n",
    "            del(content[0]) #deletando o dia, ja que foi coletado\n",
    "            del(content[-1]) #deletando resido do wepscraping\n",
    "\n",
    "            if len(content) != 0: #ignorando dias em branco (sem registro) ¹\n",
    "                #print('dia:', t)\n",
    "\n",
    "                ##print('dia:', dia)\n",
    "                #print(content)\n",
    "\n",
    "                count_hora = 0 #count para capturar a hora de entrada e saida, count=1(entrada) | count=2(saida)\n",
    "                lista_control = []\n",
    "                for y in content: #passando um for sobre cada item da lista\n",
    "                    if y in unidades: # capturando a unidade e dando inicio a novo registro novo\n",
    "                        #print('================unidade:', y)\n",
    "                        unidade = y\n",
    "                    elif y[2] == ':': #reconhecendo se o item é hora (HH*:*mm)\n",
    "                        count_hora += 1\n",
    "                        if count_hora == 1: #capturando entrada\n",
    "                            #print('hora entrada:', y)\n",
    "                            lista_control.append(y)\n",
    "                        elif count_hora == 2: #capturando saida\n",
    "                            #print('hora saida:', y)\n",
    "                            lista_control.append(y)\n",
    "                            ##print('lista teste', lista_control)\n",
    "                            lista_tabela.append(lista_control)\n",
    "                            lista_control = []\n",
    "                            count_hora = 0\n",
    "                    else: #capturando dia, unidade, e periodo\n",
    "                        #print('.')\n",
    "                        #print('periodo:', y)\n",
    "                        lista_control.append(dia)\n",
    "                        lista_control.append(unidade)\n",
    "                        lista_control.append(y)\n",
    "                        lista_control.append(i)\n",
    "                        lista_control.append(t) #dia semanal\n",
    "\n",
    "                ##print('='*20)    \n",
    "\n",
    "            else:\n",
    "                continue #ignorando dias em branco (sem registro) ²\n",
    "    \n",
    "    tabela = pd.DataFrame(lista_tabela, columns = ['Dia','Unidade','Periodo','Semana','Dia Semana','Entrada','Saida'])\n",
    "    \n",
    "    #limpeza da tabela\n",
    "    #########3\n",
    "    tabela['Dia'] = tabela['Dia'].apply(lambda x: int(x))\n",
    "\n",
    "    #recolhendo os dias do mes passado que ainda aparecem na primeira semana\n",
    "    dias_mes_passado = list(tabela[(tabela['Dia'] > 20) & (tabela['Semana'] == 1)].index) \n",
    "    tabela.drop(dias_mes_passado, axis=0, inplace=True) #excluindo\n",
    "    tabela.reset_index(drop=True, inplace=True) #resetando index\n",
    "\n",
    "    #Inserindo a ordem dos registros\n",
    "    tabela['ordem'] = ''\n",
    "\n",
    "    for i in tabela['Dia'].unique():\n",
    "        for t in range(0, len(tabela[tabela['Dia'] == i].index)):\n",
    "            tabela['ordem'][tabela[tabela['Dia'] == i].index[t]] = t+1\n",
    "\n",
    "    #Inserindo coluna de data        \n",
    "    tabela['data'] = tabela['Dia'].apply(lambda x: str(x))\n",
    "\n",
    "    for i in range(len(tabela)):\n",
    "        if len(tabela['data'][i]) == 1:\n",
    "            tabela['data'][i] = \"0\" + tabela['data'][i]\n",
    "\n",
    "        tabela['data'][i] = tabela['data'][i] + \"/\" + mes + \"/2024\" \n",
    "\n",
    "    tabela = tabela.query(\"Unidade != 'ADMINISTRACAO'\")\n",
    "    tabela = tabela[~((tabela['Semana'] >= 5) & (tabela['Dia'] < 10))]\n",
    "    tabela.reset_index(drop=True, inplace=True) #resetando index\n",
    "    \n",
    "    tabela['PERIODO'] = np.nan\n",
    "    for i in range(0, len(tabela)):\n",
    "        if int(tabela['Entrada'][i][:2]) <= 6:\n",
    "            tabela['PERIODO'][i] = '6h'\n",
    "        elif int(tabela['Entrada'][i][:2]) >= 7 and int(tabela['Entrada'][i][:2]) <= 12:\n",
    "            tabela['PERIODO'][i] = 'manha'\n",
    "        elif int(tabela['Entrada'][i][:2]) >= 13 and int(tabela['Entrada'][i][:2]) <= 18:\n",
    "            tabela['PERIODO'][i] = 'tarde'\n",
    "        else:\n",
    "            tabela['PERIODO'][i] = 'noturno saida'\n",
    "\n",
    "    tabela['periodo'] = np.nan\n",
    "    tabela['periodo'][tabela['PERIODO'] == '6h'] = 1\n",
    "    tabela['periodo'][tabela['PERIODO'] == 'manha'] = 2\n",
    "    tabela['periodo'][tabela['PERIODO'] == 'tarde'] = 3\n",
    "    tabela['periodo'][tabela['PERIODO'] == 'noturno saida'] = 4\n",
    "    \n",
    "    \n",
    "    \n",
    "    return tabela\n",
    "    \n",
    "tabela = funcao()\n",
    "tabela"
   ]
  },
  {
   "cell_type": "markdown",
   "id": "0e3c334b",
   "metadata": {},
   "source": [
    "# ======================="
   ]
  },
  {
   "cell_type": "markdown",
   "id": "5ace69cc",
   "metadata": {},
   "source": [
    "# DIMINUINDO TEMPOS & DESLOCADO"
   ]
  },
  {
   "cell_type": "code",
   "execution_count": null,
   "id": "cae14b39",
   "metadata": {},
   "outputs": [],
   "source": [
    "#df_backup = df_gabs\n",
    "df_backup = pd.read_excel('df_gabs2.xlsx')\n",
    "\n",
    "print(len(df_backup))\n",
    "df_backup['setor_inicio'] = df_backup['setor'].apply(lambda x: x.replace(' - C.CIRURGICO',''))\n",
    "\n",
    "df_backup = df_backup.sort_values(['nome', 'data'])\n",
    "df_backup = df_backup.sort_values(['controle','nome', 'data']).reset_index(drop=True)\n",
    "df_backup.reset_index(drop=True, inplace=True)\n",
    "\n",
    "df = df_backup.copy()\n",
    "\n",
    "df.head(3)"
   ]
  },
  {
   "cell_type": "code",
   "execution_count": null,
   "id": "0a7ad062",
   "metadata": {},
   "outputs": [],
   "source": [
    "from selenium.webdriver.common.action_chains import ActionChains\n",
    "\n",
    "action_chains = ActionChains(browser)"
   ]
  },
  {
   "cell_type": "code",
   "execution_count": null,
   "id": "56c2d544",
   "metadata": {},
   "outputs": [],
   "source": [
    "len(df_backup)"
   ]
  },
  {
   "cell_type": "code",
   "execution_count": null,
   "id": "05839958",
   "metadata": {},
   "outputs": [],
   "source": [
    "df_backup['controle'].value_counts()"
   ]
  },
  {
   "cell_type": "code",
   "execution_count": null,
   "id": "6c79a890",
   "metadata": {},
   "outputs": [],
   "source": [
    "def atualizando_plantao():\n",
    "    browser.find_element(\"xpath\", '/html/body/div[5]/div/div[1]/div[2]/button[5]').click()\n",
    "    #browser.find_element(\"xpath\", '/html/body/div[4]/div/div[1]/div[2]/button[5]').click()\n",
    "atualizando_plantao()"
   ]
  },
  {
   "cell_type": "code",
   "execution_count": null,
   "id": "f413e242",
   "metadata": {},
   "outputs": [],
   "source": [
    "count = 0"
   ]
  },
  {
   "cell_type": "code",
   "execution_count": null,
   "id": "f142885e",
   "metadata": {
    "scrolled": true
   },
   "outputs": [],
   "source": [
    "#Para cada profissional na lista\n",
    "df = df_backup[count:]\n",
    "\n",
    "for i in df['nome'].unique():\n",
    "    print(\"nome:\", i)\n",
    "    df_nome = df[df['nome'] == i]\n",
    "    df_nome.reset_index(drop=True, inplace=True)\n",
    "    \n",
    "    browser.find_element(\"xpath\", '//*[@id=\"s2id_ddlProfessionals\"]/a/span[1]').click()\n",
    "    #browser.find_element(\"xpath\", '/html/body/form/main/div[2]/div[2]/div/div[1]/div[3]/professionals/div/a/span[2]/b').click()\n",
    "    sleep(2)\n",
    "    \n",
    "    browser.find_element(\"xpath\", '/html/body/div[11]/div/input').send_keys(i)\n",
    "    browser.find_element(\"xpath\", '//*[@id=\"select2-drop\"]/ul/li/div').click()\n",
    "    \n",
    "    #esperando carregamento do site\n",
    "    WebDriverWait(browser, 30).until_not(visibility_of(browser.find_element(\"xpath\", '//*[@id=\"loader\"]')))\n",
    "\n",
    "    tabela = funcao()    \n",
    "    sleep(2)\n",
    "    \n",
    "    #Para cada registro na lista_nome\n",
    "    for t in range(len(df_nome)):\n",
    "        print(df_nome['mensagem'][t])\n",
    "        \n",
    "        dia_sel = tabela[tabela['data'] == df_nome['data'][t]] # & (tabela['Periodo'] == df_nome[\"setor\"][t])]\n",
    "        \n",
    "        if df_nome['PERIODO'][t] == 'manha' and df_nome['sem_ou_fds'][t] == 'fds':\n",
    "            dia_sel = dia_sel[dia_sel['Entrada'] == '07:00']\n",
    "        else:\n",
    "            dia_sel = dia_sel[dia_sel['Periodo'].str.startswith(df_nome[\"setor_inicio\"][t])]\n",
    "        \n",
    "        dia_sel.reset_index(drop=True, inplace=True)\n",
    "        #dia_sel\n",
    "        \n",
    "        if len(dia_sel) == 0:\n",
    "            print(count, \"-> PROB\")\n",
    "            df_backup['controle'][count] = \"PROB\"\n",
    "        else:\n",
    "            sleep(1)\n",
    "            #abrindo/selecionando periodo conforme localização\n",
    "            xpath_localizacao = '//*[@id=\"shift-monthly\"]/div[2]/table/tbody/tr['+str(dia_sel['Semana'][0])+']/td['+str(dia_sel['Dia Semana'][0])+']/ul['+str(dia_sel['ordem'][0])+']/li'\n",
    "            browser.find_element(\"xpath\", xpath_localizacao).click()\n",
    "            \n",
    "            #Esperar componentes carregarem\n",
    "            WebDriverWait(browser, 10).until(visibility_of(browser.find_element(\"xpath\", '//*[@id=\"service-ckb-list-all-owner\"]')))\n",
    "            \n",
    "            hora(df_nome['ENTRADA'][t], df_nome['DURAÇÃO'][t])\n",
    "            \n",
    "            if dia_sel['Unidade'][0] != df_nome['unidade'][t]:\n",
    "                setor(df_nome['unidade'][t], df_nome['setor'][t])\n",
    "            else:\n",
    "                pass\n",
    "            \n",
    "            tipo_do_registro(df_nome['DURAÇÃO'][t], df_nome['sem_ou_fds'][t], df_nome['extra'][t])\n",
    "            \n",
    "            sleep(1)\n",
    "            reset_selecao()\n",
    "            \n",
    "            #salvar plantão\n",
    "            sleep(1)\n",
    "            atualizando_plantao()\n",
    "            atualizando_plantao()\n",
    "            sleep(0.2)\n",
    "            #atualizando_plantao()\n",
    "            #atualizando_plantao()\n",
    "            sleep(4)\n",
    "            print(count, \"-> OK\")\n",
    "            df_backup['controle'][count] = \"OK\"\n",
    "            WebDriverWait(browser, 10).until(visibility_of(browser.find_element(\"xpath\", '//*[@id=\"s2id_ddlProfessionals\"]/a/span[1]')))\n",
    "            sleep(0.5)\n",
    "            \n",
    "        count += 1 \n",
    "        if count % 25 == 0:\n",
    "            print('='*80)\n",
    "            print(df_backup['controle'].value_counts())\n",
    "            print('='*80)\n",
    "    print(\"\\n\")\n",
    "    \n",
    "print(\"=\"*50, 'TERMINOU', \"=\"*50)\n",
    "print('Total  ', len(df_backup))\n",
    "print(df_backup['controle'].value_counts())"
   ]
  },
  {
   "cell_type": "code",
   "execution_count": null,
   "id": "eaedf98c",
   "metadata": {},
   "outputs": [],
   "source": [
    "print(df_backup['controle'].value_counts())"
   ]
  },
  {
   "cell_type": "code",
   "execution_count": null,
   "id": "6b7aeda2",
   "metadata": {},
   "outputs": [],
   "source": [
    "print('De:', count)\n",
    "df_backup['controle'][count] = \"OK\"\n",
    "#df_backup['controle'][count] = \"PROB\"\n",
    "count += 1\n",
    "print('Para:', count)"
   ]
  },
  {
   "cell_type": "code",
   "execution_count": null,
   "id": "8bdcd2f3",
   "metadata": {},
   "outputs": [],
   "source": [
    "df_corrigidos = df_backup[df_backup['controle'] == \"OK\"]\n",
    "print(\"probs ok:\", len(df_corrigidos))\n",
    "\n",
    "df_prob = df_backup[df_backup['controle'] != \"OK\"]\n",
    "print(\"probs:\", len(df_prob))"
   ]
  },
  {
   "cell_type": "code",
   "execution_count": null,
   "id": "bf64d538",
   "metadata": {},
   "outputs": [],
   "source": [
    "salvando_nome_arquivo('Feitos.xlsx', df_corrigidos)\n",
    "os.remove(\"df_gabs2.xlsx\")\n",
    "print('.')\n",
    "salvando_nome_arquivo('df_giov2.xlsx', df_prob)"
   ]
  },
  {
   "cell_type": "markdown",
   "id": "6d27d94a",
   "metadata": {},
   "source": [
    "# ======================="
   ]
  },
  {
   "cell_type": "code",
   "execution_count": null,
   "id": "c16753ca",
   "metadata": {},
   "outputs": [],
   "source": [
    "df_feitos = pd.read_excel('Feitos.xlsx')\n",
    "gabriel = len(df_feitos)\n",
    "print(gabriel)\n",
    "\n",
    "df_prob = pd.read_excel('df_giov.xlsx')\n",
    "residuos = len(df_prob)\n",
    "print(residuos)\n",
    "\n",
    "total = gabriel + residuos\n",
    "percent_residuos = round(residuos/total, 2)\n",
    "percent_residuos = \"(\"+str(percent_residuos) + \"%\"+\")\"\n",
    "print(residuos, percent_residuos)"
   ]
  },
  {
   "cell_type": "code",
   "execution_count": null,
   "id": "d863e395",
   "metadata": {},
   "outputs": [],
   "source": [
    "print(\"Total gabriel:\", gabriel)\n",
    "print(\"Total residuos:\", residuos, percent_residuos)\n",
    "print()\n",
    "\n",
    "print(\"Registros dos dias:\", sorted(list(df_prob[\"dia\"].unique())))\n",
    "print(\"#\"*30, \"\\n\")\n",
    "\n",
    "for nome in sorted(list(df_prob['nome'].unique())):\n",
    "    print(nome, \"=\"*10)\n",
    "    selecao = df_prob.loc[df_prob['nome']==nome]\n",
    "    selecao.reset_index(drop=True, inplace=True)\n",
    "    \n",
    "    for i in range(len(selecao)):\n",
    "        print(selecao[\"mensagem\"][i])\n",
    "    \n",
    "    print(\"\\n\")"
   ]
  },
  {
   "cell_type": "markdown",
   "id": "c205873d",
   "metadata": {},
   "source": [
    "# =============================================================="
   ]
  },
  {
   "cell_type": "markdown",
   "id": "96491d60",
   "metadata": {},
   "source": [
    "# DISPENSADOS"
   ]
  },
  {
   "cell_type": "code",
   "execution_count": null,
   "id": "a364cfe2",
   "metadata": {},
   "outputs": [],
   "source": [
    "df_backup = pd.read_excel('df_dispensados.xlsx')\n",
    "print(len(df_backup))\n",
    "df_backup = df_backup.drop_duplicates(subset=['chat'])\n",
    "df_backup = df_backup.sort_values(['nome', 'dia'])\n",
    "print(len(df_backup))\n",
    "df_backup.sample(3)"
   ]
  },
  {
   "cell_type": "code",
   "execution_count": null,
   "id": "2f478c3b",
   "metadata": {},
   "outputs": [],
   "source": [
    "count = 0"
   ]
  },
  {
   "cell_type": "code",
   "execution_count": null,
   "id": "a20eefee",
   "metadata": {},
   "outputs": [],
   "source": [
    "df_backup['controle'] = np.nan"
   ]
  },
  {
   "cell_type": "code",
   "execution_count": null,
   "id": "3b40fcd8",
   "metadata": {},
   "outputs": [],
   "source": [
    "def apagando_registro():\n",
    "    #Apagando\n",
    "    browser.find_element(\"xpath\", '/html/body/div[5]/div/div[1]/div[2]/button[1]').click()\n",
    "    #Clicando em continuar\n",
    "    sleep(0.5)\n",
    "    browser.find_element(\"xpath\", '/html/body/div[5]/div/div[1]/div[3]/button[2]').click()\n",
    "#apagando_registro()"
   ]
  },
  {
   "cell_type": "code",
   "execution_count": null,
   "id": "4095c412",
   "metadata": {},
   "outputs": [],
   "source": [
    "df_backup[\"nome\"] = df_backup[\"nome\"].apply(lambda x: x.replace(\"  \", \" \"))"
   ]
  },
  {
   "cell_type": "code",
   "execution_count": null,
   "id": "b7ee8739",
   "metadata": {
    "scrolled": true
   },
   "outputs": [],
   "source": [
    "\n",
    "df_backup =df_backup.sort_values(['nome', 'data', 'periodo'], ascending=[True, True, False]).reset_index(drop=True)"
   ]
  },
  {
   "cell_type": "code",
   "execution_count": null,
   "id": "eb528f5b",
   "metadata": {},
   "outputs": [],
   "source": [
    "df"
   ]
  },
  {
   "cell_type": "code",
   "execution_count": null,
   "id": "3a6681d9",
   "metadata": {},
   "outputs": [],
   "source": [
    "#Para cada profissional na lista\n",
    "df = df_backup[count:]\n",
    "\n",
    "for i in df['nome'].unique():\n",
    "    print(\"nome:\", i)\n",
    "    df_nome = df[df['nome'] == i]\n",
    "    df_nome.reset_index(drop=True, inplace=True)\n",
    "    \n",
    "    browser.find_element(\"xpath\", '//*[@id=\"s2id_ddlProfessionals\"]/a/span[1]').click()\n",
    "    #browser.find_element(\"xpath\", '/html/body/form/main/div[2]/div[2]/div/div[1]/div[3]/professionals/div/a/span[2]/b').click()\n",
    "    sleep(2)\n",
    "    \n",
    "    browser.find_element(\"xpath\", '/html/body/div[11]/div/input').send_keys(i)\n",
    "    browser.find_element(\"xpath\", '//*[@id=\"select2-drop\"]/ul/li/div').click()\n",
    "\n",
    "    #esperando carregamento do site\n",
    "    WebDriverWait(browser, 30).until_not(visibility_of(browser.find_element(\"xpath\", '//*[@id=\"loader\"]')))\n",
    "\n",
    "    tabela = funcao()    \n",
    "    sleep(2)\n",
    "    \n",
    "    #Para cada registro na lista_nome\n",
    "    for t in range(len(df_nome)):\n",
    "        print(df_nome['mensagem'][t])\n",
    "        dia_sel = tabela[tabela['data'] == df_nome['data'][t]]\n",
    "        dia_sel.reset_index(drop=True, inplace=True)\n",
    "        \n",
    "        if len(dia_sel) == 0:\n",
    "            print(count, \"-> Ja apagado\")\n",
    "            print(df_nome['chat'][t] + \" - \" + df_nome['data'][t])\n",
    "            df_backup['controle'][count] = \"OK\"\n",
    "        else:\n",
    "            for r in range(len(dia_sel)-1, -1, -1):\n",
    "                print('PRINCIPAL')\n",
    "                #abrindo/selecionando periodo conforme localização\n",
    "                dia_ordem = r\n",
    "                xpath_textao = '//*[@id=\"shift-monthly\"]/div[2]/table/tbody/tr['+str(dia_sel['Semana'][0])+']/td['+str(dia_sel['Dia Semana'][0])+']/ul['+str(dia_sel['ordem'][dia_ordem])+']/li'\n",
    "                elemento = browser.find_element(\"xpath\", xpath_textao)\n",
    "                elemento.click()\n",
    "\n",
    "                #Esperar componentes carregarem\n",
    "                WebDriverWait(browser, 10).until(visibility_of(browser.find_element(\"xpath\", '//*[@id=\"service-ckb-list-all-owner\"]')))\n",
    "                sleep(1)\n",
    "                #Apagando registro\n",
    "                apagando_registro()\n",
    "                \n",
    "                #esperando carregamento do site para prosseguir\n",
    "                WebDriverWait(browser, 20).until_not(visibility_of(browser.find_element(\"xpath\", '//*[@id=\"modal-add-service\"]/div/div[1]/button')))\n",
    "            \n",
    "            tabela = funcao() #atualizando tabela de registros\n",
    "            sleep(2)\n",
    "            print(count, '-> OK')\n",
    "            print(df_nome['chat'][t] + \" - \" + df_nome['data'][t])\n",
    "            df_backup['controle'][count] = \"OK\"\n",
    "            \n",
    "        count += 1 \n",
    "        if count % 50 == 0:\n",
    "            print('='*80)\n",
    "            print(df_backup['controle'].value_counts())\n",
    "            print('='*80)\n",
    "            \n",
    "        if count > 10:\n",
    "            break\n",
    "    print('\\n')\n",
    "    \n",
    "print('='*25, 'TERMINOU', '='*25)"
   ]
  },
  {
   "cell_type": "code",
   "execution_count": null,
   "id": "36c4f906",
   "metadata": {},
   "outputs": [],
   "source": [
    "len(df)"
   ]
  },
  {
   "cell_type": "code",
   "execution_count": null,
   "id": "45facc79",
   "metadata": {},
   "outputs": [],
   "source": [
    "len(df.drop_duplicates(subset=['chat']))"
   ]
  },
  {
   "cell_type": "code",
   "execution_count": null,
   "id": "c33091fd",
   "metadata": {},
   "outputs": [],
   "source": [
    "df_backup['chat'][2]"
   ]
  },
  {
   "cell_type": "code",
   "execution_count": null,
   "id": "9e8541c4",
   "metadata": {},
   "outputs": [],
   "source": [
    "df_backup['controle'] = 'OK'"
   ]
  },
  {
   "cell_type": "code",
   "execution_count": null,
   "id": "d9f562e7",
   "metadata": {},
   "outputs": [],
   "source": [
    "df_backup[['mensagem','dia']].sample(25)"
   ]
  },
  {
   "cell_type": "code",
   "execution_count": null,
   "id": "6a98aed0",
   "metadata": {},
   "outputs": [],
   "source": [
    "print(df_nome['chat'][t] + \" - \" + df_nome['data'][t])"
   ]
  },
  {
   "cell_type": "code",
   "execution_count": null,
   "id": "55617db4",
   "metadata": {},
   "outputs": [],
   "source": [
    "df_corrigidos = df_backup[df_backup['controle'] == \"OK\"]\n",
    "print(\"probs ok:\", len(df_corrigidos))\n",
    "\n",
    "df_prob = df_backup[df_backup['controle'] != \"OK\"]\n",
    "print(\"probs:\", len(df_prob))"
   ]
  },
  {
   "cell_type": "code",
   "execution_count": null,
   "id": "55610a72",
   "metadata": {},
   "outputs": [],
   "source": [
    "#os.remove(\"df_dispensados.xlsx\")\n",
    "\n",
    "salvando_nome_arquivo('Feitos.xlsx', df_corrigidos)\n",
    "print('.')\n",
    "salvando_nome_arquivo('df_giov.xlsx', df_prob)"
   ]
  },
  {
   "cell_type": "code",
   "execution_count": null,
   "id": "9b375207",
   "metadata": {},
   "outputs": [],
   "source": [
    "browser.quit()"
   ]
  },
  {
   "cell_type": "markdown",
   "id": "70a0b403",
   "metadata": {},
   "source": [
    "# MENSAGEM GIOVANELLI"
   ]
  },
  {
   "cell_type": "code",
   "execution_count": null,
   "id": "94b8f695",
   "metadata": {},
   "outputs": [],
   "source": [
    "df_feito = pd.read_excel(\"Feitos.xlsx\")\n",
    "print(len(df_feito))\n",
    "\n",
    "df_prob0 = pd.read_excel(\"df_giov.xlsx\")\n",
    "print(len(df_prob0))\n",
    "df_prob01 = pd.read_excel(\"df_giov2.xlsx\")\n",
    "print(len(df_prob01))\n",
    "\n",
    "os.remove(\"df_giov.xlsx\")\n",
    "os.remove(\"df_giov2.xlsx\")\n",
    "\n",
    "df_prob = pd.concat([df_prob0, df_prob01])\n",
    "df_prob = df_prob.drop_duplicates(subset=['chat'])\n",
    "salvando_nome_arquivo('df_prob.xlsx', df_prob)\n",
    "\n",
    "print(len(df_prob))"
   ]
  },
  {
   "cell_type": "code",
   "execution_count": null,
   "id": "3c455449",
   "metadata": {},
   "outputs": [],
   "source": [
    "df_prob = pd.read_excel('df_prob.xlsx')\n",
    "print(len(df_prob))\n",
    "\n",
    "# Convertendo a coluna 'dia' para datetime\n",
    "df_prob_backup = df_prob.copy()\n",
    "print(len(df_prob_backup))\n",
    "\n",
    "df_prob['dia'] = pd.to_datetime(df_prob['dia'], format='%d/%m/%Y')\n",
    "\n",
    "# Filtrando as datas\n",
    "data_filtro = pd.to_datetime('18/12/2023', format='%d/%m/%Y')\n",
    "df_prob = df_prob[df_prob['dia'] >= data_filtro]\n",
    "\n",
    "# Mostrando o resultado\n",
    "print(len(df_prob))"
   ]
  },
  {
   "cell_type": "code",
   "execution_count": null,
   "id": "8ff7ba10",
   "metadata": {},
   "outputs": [],
   "source": [
    "total = len(df_feito) + len(df_prob)\n",
    "\n",
    "percent = len(df_feito) / total\n",
    "percent = round(percent*100, 2)\n",
    "percent = str(percent) + \"%\"\n",
    "percent = \"(\"+percent+\")\"\n",
    "print(\"Registros App:\", len(df_feito), percent)\n",
    "\n",
    "percent = len(df_prob) / total\n",
    "percent = round(percent*100, 2)\n",
    "percent = str(percent) + \"%\"\n",
    "percent = \"(\"+percent+\")\"\n",
    "print(\"Registros Giovanelli\", len(df_prob), percent)\n",
    "print(\"#\"*30, \"\\n\")\n",
    "\n",
    "for nome in sorted(list(df_prob['nome'].unique())):\n",
    "    print(nome, \"=\"*10)\n",
    "    selecao = df_prob.loc[df_prob['nome']==nome]\n",
    "    selecao.reset_index(drop=True, inplace=True)\n",
    "    \n",
    "    for i in range(len(selecao)):\n",
    "        print(selecao[\"mensagem\"][i])\n",
    "    \n",
    "    print(\"\\n\")"
   ]
  },
  {
   "cell_type": "code",
   "execution_count": null,
   "id": "7cffb41e",
   "metadata": {},
   "outputs": [],
   "source": []
  },
  {
   "cell_type": "code",
   "execution_count": null,
   "id": "b3966193",
   "metadata": {},
   "outputs": [],
   "source": []
  },
  {
   "cell_type": "code",
   "execution_count": null,
   "id": "7de22996",
   "metadata": {},
   "outputs": [],
   "source": []
  },
  {
   "cell_type": "code",
   "execution_count": null,
   "id": "fa82925a",
   "metadata": {},
   "outputs": [],
   "source": []
  },
  {
   "cell_type": "code",
   "execution_count": null,
   "id": "688a2218",
   "metadata": {},
   "outputs": [],
   "source": []
  },
  {
   "cell_type": "code",
   "execution_count": null,
   "id": "71f91ae8",
   "metadata": {},
   "outputs": [],
   "source": []
  },
  {
   "cell_type": "code",
   "execution_count": null,
   "id": "39b28303",
   "metadata": {},
   "outputs": [],
   "source": []
  },
  {
   "cell_type": "code",
   "execution_count": null,
   "id": "fe62588c",
   "metadata": {},
   "outputs": [],
   "source": []
  },
  {
   "cell_type": "code",
   "execution_count": null,
   "id": "88a98e30",
   "metadata": {},
   "outputs": [],
   "source": []
  },
  {
   "cell_type": "code",
   "execution_count": null,
   "id": "8680278f",
   "metadata": {},
   "outputs": [],
   "source": []
  },
  {
   "cell_type": "code",
   "execution_count": null,
   "id": "969d83e3",
   "metadata": {},
   "outputs": [],
   "source": []
  },
  {
   "cell_type": "code",
   "execution_count": null,
   "id": "74742d22",
   "metadata": {},
   "outputs": [],
   "source": []
  },
  {
   "cell_type": "code",
   "execution_count": null,
   "id": "34e7aada",
   "metadata": {},
   "outputs": [],
   "source": []
  },
  {
   "cell_type": "code",
   "execution_count": null,
   "id": "3eb1de4e",
   "metadata": {},
   "outputs": [],
   "source": []
  },
  {
   "cell_type": "code",
   "execution_count": null,
   "id": "cd37d1fc",
   "metadata": {},
   "outputs": [],
   "source": []
  },
  {
   "cell_type": "code",
   "execution_count": null,
   "id": "50493cd2",
   "metadata": {},
   "outputs": [],
   "source": []
  },
  {
   "cell_type": "code",
   "execution_count": null,
   "id": "9fc2ed26",
   "metadata": {},
   "outputs": [],
   "source": []
  },
  {
   "cell_type": "code",
   "execution_count": null,
   "id": "72fe8d5c",
   "metadata": {},
   "outputs": [],
   "source": []
  }
 ],
 "metadata": {
  "kernelspec": {
   "display_name": "Python 3 (ipykernel)",
   "language": "python",
   "name": "python3"
  },
  "language_info": {
   "codemirror_mode": {
    "name": "ipython",
    "version": 3
   },
   "file_extension": ".py",
   "mimetype": "text/x-python",
   "name": "python",
   "nbconvert_exporter": "python",
   "pygments_lexer": "ipython3",
   "version": "3.11.5"
  }
 },
 "nbformat": 4,
 "nbformat_minor": 5
}
