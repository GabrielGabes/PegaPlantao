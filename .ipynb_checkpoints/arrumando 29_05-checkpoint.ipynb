{
 "cells": [
  {
   "cell_type": "code",
   "execution_count": 1,
   "id": "2426b47c-8452-4979-9fb3-601813fb20bb",
   "metadata": {},
   "outputs": [],
   "source": [
    "# Manipulação e Tratamento de dados\n",
    "import openpyxl\n",
    "import pandas as pd\n",
    "import numpy as np\n",
    "from numpy import NaN\n",
    "\n",
    "#ignorando Warning inuteis\n",
    "import warnings \n",
    "from pandas.errors import SettingWithCopyWarning\n",
    "warnings.simplefilter(action=\"ignore\", category=SettingWithCopyWarning)\n",
    "warnings.filterwarnings(action='ignore', category=FutureWarning)\n",
    "warnings.simplefilter(action='ignore', category=UserWarning)\n",
    "\n",
    "#definindo quantidade de linhas e colunas visiveis\n",
    "pd.set_option('display.max_rows', 500)\n",
    "pd.set_option('display.max_columns', 500)\n",
    "\n",
    "# Manipulação de Strings\n",
    "import unidecode # => unidecode(string)\n",
    "import re # Regex\n",
    "\n",
    "# Repositorio - Diretorio\n",
    "import os\n",
    "import shutil"
   ]
  },
  {
   "cell_type": "code",
   "execution_count": 2,
   "id": "4ddcaaed-c0a0-4438-a127-6ed53b98940f",
   "metadata": {},
   "outputs": [],
   "source": [
    "import re\n",
    "\n",
    "def read_file(file_path):\n",
    "    # 1. Ler o arquivo txt\n",
    "    with open(file_path, \"r\", encoding=\"utf-8\") as file:\n",
    "        lines = file.readlines()\n",
    "    \n",
    "    # 2. Remover todas as linhas que contêm \"Mensagem apagada\"\n",
    "    lines = [line for line in lines if \"Mensagem apagada\" not in line]\n",
    "    \n",
    "    # 3. Corrigir as mensagens que estão em várias linhas para que fiquem em uma única linha\n",
    "    corrected_lines = []\n",
    "    current_message = \"\"\n",
    "    \n",
    "    for line in lines:\n",
    "        # Se a linha começa com o padrão de data e hora, ela é uma nova mensagem\n",
    "        if re.match(r\"^\\[\\d{2}/\\d{2}/\\d{4} \\d{2}:\\d{2}:\\d{2}\\]\", line):\n",
    "            if current_message:  # Se há uma mensagem anterior, adicione-a à lista\n",
    "                corrected_lines.append(current_message)\n",
    "            current_message = line.strip()  # Comece uma nova mensagem\n",
    "        else:\n",
    "            current_message += \" \" + line.strip()  # Adicione o conteúdo da linha atual à mensagem em progresso\n",
    "    \n",
    "    # Adiciona a última mensagem, se houver\n",
    "    if current_message:\n",
    "        corrected_lines.append(current_message)\n",
    "    \n",
    "    # Salvando arquivo txt\n",
    "    with open(file_path, \"w\", encoding=\"utf-8\") as file:\n",
    "        for line in corrected_lines:\n",
    "            file.write(line + \"\\n\")\n",
    "    \n",
    "    # Lendo arquivo txt e transformando em dataframe cada mensagem\n",
    "    with open(file_path, 'r', encoding='utf-8') as file:\n",
    "        content = file.read().splitlines()\n",
    "    \n",
    "    return content"
   ]
  },
  {
   "cell_type": "markdown",
   "id": "f772ec11-5c3a-4881-a5a7-1a241096bb1d",
   "metadata": {},
   "source": [
    "# ===================="
   ]
  },
  {
   "cell_type": "code",
   "execution_count": 3,
   "id": "8a42313c-e503-4c2a-8ea4-9ab637e0f70c",
   "metadata": {},
   "outputs": [
    {
     "name": "stdout",
     "output_type": "stream",
     "text": [
      "185\n"
     ]
    },
    {
     "data": {
      "text/html": [
       "<div>\n",
       "<style scoped>\n",
       "    .dataframe tbody tr th:only-of-type {\n",
       "        vertical-align: middle;\n",
       "    }\n",
       "\n",
       "    .dataframe tbody tr th {\n",
       "        vertical-align: top;\n",
       "    }\n",
       "\n",
       "    .dataframe thead th {\n",
       "        text-align: right;\n",
       "    }\n",
       "</style>\n",
       "<table border=\"1\" class=\"dataframe\">\n",
       "  <thead>\n",
       "    <tr style=\"text-align: right;\">\n",
       "      <th></th>\n",
       "      <th>chat</th>\n",
       "    </tr>\n",
       "  </thead>\n",
       "  <tbody>\n",
       "    <tr>\n",
       "      <th>0</th>\n",
       "      <td>[02/05/2024 21:05:47] Francisco José Lucena Be...</td>\n",
       "    </tr>\n",
       "    <tr>\n",
       "      <th>1</th>\n",
       "      <td>[02/05/2024 21:05:47] Francisco José Lucena Be...</td>\n",
       "    </tr>\n",
       "    <tr>\n",
       "      <th>2</th>\n",
       "      <td>[05/05/2024 11:07:48] Thiago Barreto Marques d...</td>\n",
       "    </tr>\n",
       "    <tr>\n",
       "      <th>3</th>\n",
       "      <td>[11/05/2024 03:51:55] Flávio Rosa Figueiredo S...</td>\n",
       "    </tr>\n",
       "    <tr>\n",
       "      <th>4</th>\n",
       "      <td>[03/05/2024 11:04:21] Natan Soares Silveira: 0...</td>\n",
       "    </tr>\n",
       "  </tbody>\n",
       "</table>\n",
       "</div>"
      ],
      "text/plain": [
       "                                                chat\n",
       "0  [02/05/2024 21:05:47] Francisco José Lucena Be...\n",
       "1  [02/05/2024 21:05:47] Francisco José Lucena Be...\n",
       "2  [05/05/2024 11:07:48] Thiago Barreto Marques d...\n",
       "3  [11/05/2024 03:51:55] Flávio Rosa Figueiredo S...\n",
       "4  [03/05/2024 11:04:21] Natan Soares Silveira: 0..."
      ]
     },
     "metadata": {},
     "output_type": "display_data"
    }
   ],
   "source": [
    "df0 = pd.DataFrame({'chat': read_file('_chat.txt') })\n",
    "print(len(df0))\n",
    "display(df0.head())"
   ]
  },
  {
   "cell_type": "code",
   "execution_count": 4,
   "id": "e91d4b67-2efc-49e9-9310-221845fbf28c",
   "metadata": {},
   "outputs": [
    {
     "name": "stdout",
     "output_type": "stream",
     "text": [
      "199\n"
     ]
    },
    {
     "data": {
      "text/html": [
       "<div>\n",
       "<style scoped>\n",
       "    .dataframe tbody tr th:only-of-type {\n",
       "        vertical-align: middle;\n",
       "    }\n",
       "\n",
       "    .dataframe tbody tr th {\n",
       "        vertical-align: top;\n",
       "    }\n",
       "\n",
       "    .dataframe thead th {\n",
       "        text-align: right;\n",
       "    }\n",
       "</style>\n",
       "<table border=\"1\" class=\"dataframe\">\n",
       "  <thead>\n",
       "    <tr style=\"text-align: right;\">\n",
       "      <th></th>\n",
       "      <th>chat</th>\n",
       "    </tr>\n",
       "  </thead>\n",
       "  <tbody>\n",
       "    <tr>\n",
       "      <th>0</th>\n",
       "      <td>[01/05/2024 12:45:08] Manoel de Souza Neto: 01...</td>\n",
       "    </tr>\n",
       "    <tr>\n",
       "      <th>1</th>\n",
       "      <td>[01/05/2024 13:42:37] Wangles Pignaton de Paul...</td>\n",
       "    </tr>\n",
       "    <tr>\n",
       "      <th>2</th>\n",
       "      <td>[01/05/2024 13:51:57] Rafael Tadeu Marques: 01...</td>\n",
       "    </tr>\n",
       "    <tr>\n",
       "      <th>3</th>\n",
       "      <td>[01/05/2024 13:57:15] Rodrigo Miyashiro Nunes ...</td>\n",
       "    </tr>\n",
       "    <tr>\n",
       "      <th>4</th>\n",
       "      <td>[01/05/2024 14:01:14] Rômulo Spolidorio: 01/05...</td>\n",
       "    </tr>\n",
       "  </tbody>\n",
       "</table>\n",
       "</div>"
      ],
      "text/plain": [
       "                                                chat\n",
       "0  [01/05/2024 12:45:08] Manoel de Souza Neto: 01...\n",
       "1  [01/05/2024 13:42:37] Wangles Pignaton de Paul...\n",
       "2  [01/05/2024 13:51:57] Rafael Tadeu Marques: 01...\n",
       "3  [01/05/2024 13:57:15] Rodrigo Miyashiro Nunes ...\n",
       "4  [01/05/2024 14:01:14] Rômulo Spolidorio: 01/05..."
      ]
     },
     "metadata": {},
     "output_type": "display_data"
    }
   ],
   "source": [
    "df1 = pd.DataFrame({'chat': read_file('dispensados.txt') })\n",
    "print(len(df1))\n",
    "display(df1.head())"
   ]
  },
  {
   "cell_type": "code",
   "execution_count": 5,
   "id": "78dc89a4-80b2-47f4-894a-74567022e7b9",
   "metadata": {},
   "outputs": [
    {
     "name": "stdout",
     "output_type": "stream",
     "text": [
      "95\n"
     ]
    },
    {
     "data": {
      "text/html": [
       "<div>\n",
       "<style scoped>\n",
       "    .dataframe tbody tr th:only-of-type {\n",
       "        vertical-align: middle;\n",
       "    }\n",
       "\n",
       "    .dataframe tbody tr th {\n",
       "        vertical-align: top;\n",
       "    }\n",
       "\n",
       "    .dataframe thead th {\n",
       "        text-align: right;\n",
       "    }\n",
       "</style>\n",
       "<table border=\"1\" class=\"dataframe\">\n",
       "  <thead>\n",
       "    <tr style=\"text-align: right;\">\n",
       "      <th></th>\n",
       "      <th>chat</th>\n",
       "    </tr>\n",
       "  </thead>\n",
       "  <tbody>\n",
       "    <tr>\n",
       "      <th>0</th>\n",
       "      <td>[02/05/2024 21:05:47] Francisco José Lucena Be...</td>\n",
       "    </tr>\n",
       "    <tr>\n",
       "      <th>1</th>\n",
       "      <td>[02/05/2024 21:05:47] Francisco José Lucena Be...</td>\n",
       "    </tr>\n",
       "    <tr>\n",
       "      <th>2</th>\n",
       "      <td>[11/05/2024 03:51:55] Flávio Rosa Figueiredo S...</td>\n",
       "    </tr>\n",
       "    <tr>\n",
       "      <th>3</th>\n",
       "      <td>[01/05/2024 18:00:07] Lucas Silva Martins: 01/...</td>\n",
       "    </tr>\n",
       "    <tr>\n",
       "      <th>4</th>\n",
       "      <td>[07/05/2024 10:47:21] João Evaristo De Castro ...</td>\n",
       "    </tr>\n",
       "  </tbody>\n",
       "</table>\n",
       "</div>"
      ],
      "text/plain": [
       "                                                chat\n",
       "0  [02/05/2024 21:05:47] Francisco José Lucena Be...\n",
       "1  [02/05/2024 21:05:47] Francisco José Lucena Be...\n",
       "2  [11/05/2024 03:51:55] Flávio Rosa Figueiredo S...\n",
       "3  [01/05/2024 18:00:07] Lucas Silva Martins: 01/...\n",
       "4  [07/05/2024 10:47:21] João Evaristo De Castro ..."
      ]
     },
     "metadata": {},
     "output_type": "display_data"
    }
   ],
   "source": [
    "df2 = pd.read_excel('df_gabs.xlsx')[['chat']]\n",
    "print(len(df2))\n",
    "display(df2.head())"
   ]
  },
  {
   "cell_type": "code",
   "execution_count": 6,
   "id": "28f31bf8-15a5-4ac5-b6f3-923175c6c316",
   "metadata": {},
   "outputs": [
    {
     "name": "stdout",
     "output_type": "stream",
     "text": [
      "90\n"
     ]
    },
    {
     "data": {
      "text/html": [
       "<div>\n",
       "<style scoped>\n",
       "    .dataframe tbody tr th:only-of-type {\n",
       "        vertical-align: middle;\n",
       "    }\n",
       "\n",
       "    .dataframe tbody tr th {\n",
       "        vertical-align: top;\n",
       "    }\n",
       "\n",
       "    .dataframe thead th {\n",
       "        text-align: right;\n",
       "    }\n",
       "</style>\n",
       "<table border=\"1\" class=\"dataframe\">\n",
       "  <thead>\n",
       "    <tr style=\"text-align: right;\">\n",
       "      <th></th>\n",
       "      <th>chat</th>\n",
       "    </tr>\n",
       "  </thead>\n",
       "  <tbody>\n",
       "    <tr>\n",
       "      <th>0</th>\n",
       "      <td>[05/05/2024 11:07:48] Thiago Barreto Marques d...</td>\n",
       "    </tr>\n",
       "    <tr>\n",
       "      <th>1</th>\n",
       "      <td>[15/05/2024 03:09:35] Thais Chaves Pinheiro: 1...</td>\n",
       "    </tr>\n",
       "    <tr>\n",
       "      <th>2</th>\n",
       "      <td>[03/05/2024 11:04:21] Natan Soares Silveira: 0...</td>\n",
       "    </tr>\n",
       "    <tr>\n",
       "      <th>3</th>\n",
       "      <td>[04/05/2024 01:05:10] Natan Soares Silveira: 0...</td>\n",
       "    </tr>\n",
       "    <tr>\n",
       "      <th>4</th>\n",
       "      <td>[08/05/2024 03:27:44] Natan Soares Silveira: 0...</td>\n",
       "    </tr>\n",
       "  </tbody>\n",
       "</table>\n",
       "</div>"
      ],
      "text/plain": [
       "                                                chat\n",
       "0  [05/05/2024 11:07:48] Thiago Barreto Marques d...\n",
       "1  [15/05/2024 03:09:35] Thais Chaves Pinheiro: 1...\n",
       "2  [03/05/2024 11:04:21] Natan Soares Silveira: 0...\n",
       "3  [04/05/2024 01:05:10] Natan Soares Silveira: 0...\n",
       "4  [08/05/2024 03:27:44] Natan Soares Silveira: 0..."
      ]
     },
     "metadata": {},
     "output_type": "display_data"
    }
   ],
   "source": [
    "df3 = pd.read_excel('df_giov.xlsx')[['chat']]\n",
    "print(len(df3))\n",
    "display(df3.head())"
   ]
  },
  {
   "cell_type": "code",
   "execution_count": 7,
   "id": "c7e3f0ac-9b41-43f3-a4de-43527b361081",
   "metadata": {},
   "outputs": [
    {
     "name": "stdout",
     "output_type": "stream",
     "text": [
      "113\n"
     ]
    },
    {
     "data": {
      "text/html": [
       "<div>\n",
       "<style scoped>\n",
       "    .dataframe tbody tr th:only-of-type {\n",
       "        vertical-align: middle;\n",
       "    }\n",
       "\n",
       "    .dataframe tbody tr th {\n",
       "        vertical-align: top;\n",
       "    }\n",
       "\n",
       "    .dataframe thead th {\n",
       "        text-align: right;\n",
       "    }\n",
       "</style>\n",
       "<table border=\"1\" class=\"dataframe\">\n",
       "  <thead>\n",
       "    <tr style=\"text-align: right;\">\n",
       "      <th></th>\n",
       "      <th>chat</th>\n",
       "    </tr>\n",
       "  </thead>\n",
       "  <tbody>\n",
       "    <tr>\n",
       "      <th>0</th>\n",
       "      <td>[05/05/2024 11:07:48] Thiago Barreto Marques d...</td>\n",
       "    </tr>\n",
       "    <tr>\n",
       "      <th>1</th>\n",
       "      <td>[15/05/2024 03:09:35] Thais Chaves Pinheiro: 1...</td>\n",
       "    </tr>\n",
       "    <tr>\n",
       "      <th>2</th>\n",
       "      <td>[03/05/2024 11:04:21] Natan Soares Silveira: 0...</td>\n",
       "    </tr>\n",
       "    <tr>\n",
       "      <th>3</th>\n",
       "      <td>[04/05/2024 01:05:10] Natan Soares Silveira: 0...</td>\n",
       "    </tr>\n",
       "    <tr>\n",
       "      <th>4</th>\n",
       "      <td>[08/05/2024 03:27:44] Natan Soares Silveira: 0...</td>\n",
       "    </tr>\n",
       "  </tbody>\n",
       "</table>\n",
       "</div>"
      ],
      "text/plain": [
       "                                                chat\n",
       "0  [05/05/2024 11:07:48] Thiago Barreto Marques d...\n",
       "1  [15/05/2024 03:09:35] Thais Chaves Pinheiro: 1...\n",
       "2  [03/05/2024 11:04:21] Natan Soares Silveira: 0...\n",
       "3  [04/05/2024 01:05:10] Natan Soares Silveira: 0...\n",
       "4  [08/05/2024 03:27:44] Natan Soares Silveira: 0..."
      ]
     },
     "metadata": {},
     "output_type": "display_data"
    }
   ],
   "source": [
    "df4 = pd.read_excel('df_prob.xlsx')[['chat']]\n",
    "print(len(df4))\n",
    "display(df4.head())"
   ]
  },
  {
   "cell_type": "code",
   "execution_count": 8,
   "id": "1a0c3f91-a966-4e79-a472-84c063af6195",
   "metadata": {},
   "outputs": [
    {
     "name": "stdout",
     "output_type": "stream",
     "text": [
      "271\n"
     ]
    },
    {
     "data": {
      "text/html": [
       "<div>\n",
       "<style scoped>\n",
       "    .dataframe tbody tr th:only-of-type {\n",
       "        vertical-align: middle;\n",
       "    }\n",
       "\n",
       "    .dataframe tbody tr th {\n",
       "        vertical-align: top;\n",
       "    }\n",
       "\n",
       "    .dataframe thead th {\n",
       "        text-align: right;\n",
       "    }\n",
       "</style>\n",
       "<table border=\"1\" class=\"dataframe\">\n",
       "  <thead>\n",
       "    <tr style=\"text-align: right;\">\n",
       "      <th></th>\n",
       "      <th>chat</th>\n",
       "    </tr>\n",
       "  </thead>\n",
       "  <tbody>\n",
       "    <tr>\n",
       "      <th>0</th>\n",
       "      <td>[02/05/2024 21:05:47] Francisco José Lucena Be...</td>\n",
       "    </tr>\n",
       "    <tr>\n",
       "      <th>1</th>\n",
       "      <td>[02/05/2024 21:05:47] Francisco José Lucena Be...</td>\n",
       "    </tr>\n",
       "    <tr>\n",
       "      <th>2</th>\n",
       "      <td>[05/05/2024 11:07:48] Thiago Barreto Marques d...</td>\n",
       "    </tr>\n",
       "    <tr>\n",
       "      <th>3</th>\n",
       "      <td>[11/05/2024 03:51:55] Flávio Rosa Figueiredo S...</td>\n",
       "    </tr>\n",
       "    <tr>\n",
       "      <th>4</th>\n",
       "      <td>[03/05/2024 11:04:21] Natan Soares Silveira: 0...</td>\n",
       "    </tr>\n",
       "  </tbody>\n",
       "</table>\n",
       "</div>"
      ],
      "text/plain": [
       "                                                chat\n",
       "0  [02/05/2024 21:05:47] Francisco José Lucena Be...\n",
       "1  [02/05/2024 21:05:47] Francisco José Lucena Be...\n",
       "2  [05/05/2024 11:07:48] Thiago Barreto Marques d...\n",
       "3  [11/05/2024 03:51:55] Flávio Rosa Figueiredo S...\n",
       "4  [03/05/2024 11:04:21] Natan Soares Silveira: 0..."
      ]
     },
     "metadata": {},
     "output_type": "display_data"
    }
   ],
   "source": [
    "df = pd.concat( [ df0, df1, df2, df3, df4] ).reset_index(drop=True)\n",
    "df = df.drop_duplicates(subset=['chat']).reset_index(drop=True)\n",
    "print(len(df))\n",
    "display(df.head())"
   ]
  },
  {
   "cell_type": "code",
   "execution_count": 9,
   "id": "f354b373-1440-44e1-81a7-6f1fc2ba2c17",
   "metadata": {},
   "outputs": [
    {
     "name": "stdout",
     "output_type": "stream",
     "text": [
      "113\n"
     ]
    }
   ],
   "source": [
    "count = 0\n",
    "for i in range(len(df)):\n",
    "    if df['chat'][i] in list(df4['chat']):\n",
    "        df = df.drop(i, axis=0)\n",
    "        count += 1\n",
    "print(count)"
   ]
  },
  {
   "cell_type": "code",
   "execution_count": 12,
   "id": "ca3c242f-9dfd-4ed8-a2ad-093db1915db5",
   "metadata": {},
   "outputs": [],
   "source": [
    "df.to_csv('mensagens.txt', index=False, header=False, sep=' ')"
   ]
  }
 ],
 "metadata": {
  "kernelspec": {
   "display_name": "Python 3 (ipykernel)",
   "language": "python",
   "name": "python3"
  },
  "language_info": {
   "codemirror_mode": {
    "name": "ipython",
    "version": 3
   },
   "file_extension": ".py",
   "mimetype": "text/x-python",
   "name": "python",
   "nbconvert_exporter": "python",
   "pygments_lexer": "ipython3",
   "version": "3.11.7"
  }
 },
 "nbformat": 4,
 "nbformat_minor": 5
}
