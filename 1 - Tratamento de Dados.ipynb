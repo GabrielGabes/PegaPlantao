{
 "cells": [
  {
   "cell_type": "code",
   "execution_count": 1,
   "id": "f8b6974e",
   "metadata": {},
   "outputs": [],
   "source": [
    "#Definindo finais de semana\n",
    "mes = \"07\"\n",
    "lista_fds = ['06','07','13','14','20','21','27','28','31']"
   ]
  },
  {
   "cell_type": "markdown",
   "id": "b554bd2a",
   "metadata": {},
   "source": [
    "# Funções e Pacotes"
   ]
  },
  {
   "cell_type": "code",
   "execution_count": 2,
   "id": "d2fe182d-1183-4c4c-a4a5-83e461f11766",
   "metadata": {},
   "outputs": [],
   "source": [
    "# Manipulação e Tratamento de dados\n",
    "import openpyxl\n",
    "import pandas as pd\n",
    "import numpy as np\n",
    "from numpy import NaN\n",
    "\n",
    "#ignorando Warning inuteis\n",
    "import warnings \n",
    "from pandas.errors import SettingWithCopyWarning\n",
    "warnings.simplefilter(action=\"ignore\", category=SettingWithCopyWarning)\n",
    "warnings.filterwarnings(action='ignore', category=FutureWarning)\n",
    "warnings.simplefilter(action='ignore', category=UserWarning)\n",
    "\n",
    "#definindo quantidade de linhas e colunas visiveis\n",
    "pd.set_option('display.max_rows', 50)\n",
    "pd.set_option('display.max_columns', 50)\n",
    "\n",
    "# Manipulação de Strings\n",
    "import unidecode # => unidecode(string)\n",
    "import re # Regex\n",
    "\n",
    "# Repositorio - Diretorio\n",
    "import os\n",
    "import shutil"
   ]
  },
  {
   "cell_type": "code",
   "execution_count": 3,
   "id": "49ac7f28",
   "metadata": {},
   "outputs": [],
   "source": [
    "#######################-FUNÇÕES DE CONTAGEM\n",
    "def count_freq(data_frame, coluna):\n",
    "    freq = df[coluna].value_counts()\n",
    "    perc = df[coluna].value_counts(normalize = True)*100\n",
    "    tabela = pd.DataFrame({\"Freq\":freq, \"Perc\":perc})\n",
    "    return display(tabela)\n",
    "        \n",
    "def tabela_cont(linha, coluna):\n",
    "    a = df.groupby([linha, coluna]).size().unstack()\n",
    "    for i in a.columns:\n",
    "        a[i].fillna(0, inplace = True)\n",
    "        a[i] = a[i].apply(lambda x: int(x))\n",
    "    return a\n",
    "    print('='*100)\n",
    "\n",
    "def tabela_cont_percent(linha, coluna, opcao):\n",
    "    result = tabela_cont(linha, coluna)\n",
    "    if opcao == 'Linha':\n",
    "        return round(result.div(result.sum(axis=1), axis=0) * 100, 2)\n",
    "    elif opcao == 'Coluna':\n",
    "        return round(result.div(result.sum(), axis=1) * 100, 2)\n",
    "    else:\n",
    "        return 'Opção invalida'"
   ]
  },
  {
   "cell_type": "code",
   "execution_count": 4,
   "id": "aeccce21-e074-44e1-8fa3-f9372d90e0c8",
   "metadata": {},
   "outputs": [],
   "source": [
    "# Funções de salvar arquivo\n",
    "def salvando_nome_arquivo(nome_arquivo, dataframe):\n",
    "    if os.path.exists(nome_arquivo): #O nome_arquivo existe\n",
    "        df1 = pd.read_excel(nome_arquivo)\n",
    "        len_antigo = len(dataframe)\n",
    "        \n",
    "        dataframe = pd.concat([df1, dataframe]).reset_index(drop=True)\n",
    "        dataframe = dataframe.drop_duplicates(subset=['chat'])\n",
    "        \n",
    "        print(len(df1), \" += \", len_antigo, \"=>\", len(dataframe))\n",
    "        \n",
    "        dataframe.to_excel(nome_arquivo, index=False)\n",
    "    \n",
    "    else: #O nome_arquivo não existe\n",
    "        dataframe.to_excel(nome_arquivo, index=False)\n",
    "        print(len(dataframe)) "
   ]
  },
  {
   "cell_type": "code",
   "execution_count": 5,
   "id": "d5eaacb8",
   "metadata": {},
   "outputs": [],
   "source": [
    "def read_file(file_path):\n",
    "    # 1. Ler o arquivo txt\n",
    "    with open(file_path, \"r\", encoding=\"utf-8\") as file:\n",
    "        lines = file.readlines()\n",
    "    \n",
    "    # 2. Remover todas as linhas que contêm \"Mensagem apagada\"\n",
    "    lines = [line for line in lines if \"Mensagem apagada\" not in line]\n",
    "    \n",
    "    # 3. Corrigir as mensagens que estão em várias linhas para que fiquem em uma única linha\n",
    "    corrected_lines = []\n",
    "    current_message = \"\"\n",
    "    \n",
    "    for line in lines:\n",
    "        # Se a linha começa com o padrão de data e hora, ela é uma nova mensagem\n",
    "        if re.match(r\"^\\[\\d{2}/\\d{2}/\\d{4} \\d{2}:\\d{2}:\\d{2}\\]\", line):\n",
    "            if current_message:  # Se há uma mensagem anterior, adicione-a à lista\n",
    "                corrected_lines.append(current_message)\n",
    "            current_message = line.strip()  # Comece uma nova mensagem\n",
    "        else:\n",
    "            current_message += \" \" + line.strip()  # Adicione o conteúdo da linha atual à mensagem em progresso\n",
    "    \n",
    "    # Adiciona a última mensagem, se houver\n",
    "    if current_message:\n",
    "        corrected_lines.append(current_message)\n",
    "    \n",
    "    # Salvando arquivo txt\n",
    "    with open('processed.txt', \"w\", encoding=\"utf-8\") as file:\n",
    "        for line in corrected_lines:\n",
    "            file.write(line + \"\\n\")\n",
    "    \n",
    "    # Lendo arquivo txt e transformando em dataframe cada mensagem\n",
    "    with open('processed.txt', 'r', encoding='utf-8') as file:\n",
    "        content = file.read().splitlines()\n",
    "    \n",
    "    return content"
   ]
  },
  {
   "cell_type": "code",
   "execution_count": 6,
   "id": "2f824ce1",
   "metadata": {},
   "outputs": [],
   "source": [
    "def sample_prob(nivel):\n",
    "    '''\n",
    "    data = df_prob[df_prob['controle'] == nivel]\n",
    "    tamanho = len(data)\n",
    "    try:\n",
    "        if tamanho == 0:\n",
    "            data_exibir = str('0 itens do prob' + nivel)\n",
    "        if tamanho == 1:\n",
    "            data_exibir = data['mensagem'].sample(1)\n",
    "        if tamanho == 2:\n",
    "            data_exibir = data['mensagem'].sample(2)\n",
    "        if tamanho > 5:\n",
    "            data_exibir = data['mensagem'].sample(5)\n",
    "    except:\n",
    "        data_exibir = 'erro'\n",
    "    '''\n",
    "    return 'nada'"
   ]
  },
  {
   "cell_type": "markdown",
   "id": "1e56ea10",
   "metadata": {},
   "source": [
    "# ========================================="
   ]
  },
  {
   "cell_type": "markdown",
   "id": "dcc93275",
   "metadata": {},
   "source": [
    "# Carregando base"
   ]
  },
  {
   "cell_type": "code",
   "execution_count": 7,
   "id": "1fee3337-c95d-4abd-908a-5d2523c80f8d",
   "metadata": {},
   "outputs": [
    {
     "name": "stdout",
     "output_type": "stream",
     "text": [
      "265\n"
     ]
    },
    {
     "data": {
      "text/html": [
       "<div>\n",
       "<style scoped>\n",
       "    .dataframe tbody tr th:only-of-type {\n",
       "        vertical-align: middle;\n",
       "    }\n",
       "\n",
       "    .dataframe tbody tr th {\n",
       "        vertical-align: top;\n",
       "    }\n",
       "\n",
       "    .dataframe thead th {\n",
       "        text-align: right;\n",
       "    }\n",
       "</style>\n",
       "<table border=\"1\" class=\"dataframe\">\n",
       "  <thead>\n",
       "    <tr style=\"text-align: right;\">\n",
       "      <th></th>\n",
       "      <th>controle</th>\n",
       "      <th>chat</th>\n",
       "    </tr>\n",
       "  </thead>\n",
       "  <tbody>\n",
       "    <tr>\n",
       "      <th>0</th>\n",
       "      <td>NaN</td>\n",
       "      <td>[05/07/2024 08:09:10] Alessandre Luiz Braga Ju...</td>\n",
       "    </tr>\n",
       "    <tr>\n",
       "      <th>1</th>\n",
       "      <td>NaN</td>\n",
       "      <td>[01/07/2024 07:42:01] Alexandre Amaral Lucas: ...</td>\n",
       "    </tr>\n",
       "    <tr>\n",
       "      <th>2</th>\n",
       "      <td>NaN</td>\n",
       "      <td>[01/07/2024 23:51:04] Alexandre Amaral Lucas: ...</td>\n",
       "    </tr>\n",
       "    <tr>\n",
       "      <th>3</th>\n",
       "      <td>NaN</td>\n",
       "      <td>[15/07/2024 19:01:44] Alexandre Amaral Lucas: ...</td>\n",
       "    </tr>\n",
       "    <tr>\n",
       "      <th>4</th>\n",
       "      <td>NaN</td>\n",
       "      <td>[03/07/2024 01:40:52] Alexandre Bernardino: 03...</td>\n",
       "    </tr>\n",
       "  </tbody>\n",
       "</table>\n",
       "</div>"
      ],
      "text/plain": [
       "   controle                                               chat\n",
       "0       NaN  [05/07/2024 08:09:10] Alessandre Luiz Braga Ju...\n",
       "1       NaN  [01/07/2024 07:42:01] Alexandre Amaral Lucas: ...\n",
       "2       NaN  [01/07/2024 23:51:04] Alexandre Amaral Lucas: ...\n",
       "3       NaN  [15/07/2024 19:01:44] Alexandre Amaral Lucas: ...\n",
       "4       NaN  [03/07/2024 01:40:52] Alexandre Bernardino: 03..."
      ]
     },
     "metadata": {},
     "output_type": "display_data"
    },
    {
     "data": {
      "text/html": [
       "<div>\n",
       "<style scoped>\n",
       "    .dataframe tbody tr th:only-of-type {\n",
       "        vertical-align: middle;\n",
       "    }\n",
       "\n",
       "    .dataframe tbody tr th {\n",
       "        vertical-align: top;\n",
       "    }\n",
       "\n",
       "    .dataframe thead th {\n",
       "        text-align: right;\n",
       "    }\n",
       "</style>\n",
       "<table border=\"1\" class=\"dataframe\">\n",
       "  <thead>\n",
       "    <tr style=\"text-align: right;\">\n",
       "      <th></th>\n",
       "      <th>controle</th>\n",
       "      <th>chat</th>\n",
       "    </tr>\n",
       "  </thead>\n",
       "  <tbody>\n",
       "  </tbody>\n",
       "</table>\n",
       "</div>"
      ],
      "text/plain": [
       "Empty DataFrame\n",
       "Columns: [controle, chat]\n",
       "Index: []"
      ]
     },
     "metadata": {},
     "output_type": "display_data"
    }
   ],
   "source": [
    "#df = pd.DataFrame({'chat': read_file('_chat.txt') })\n",
    "df = pd.read_excel('df_prob.xlsx')[['chat']]; os.remove(\"df_prob.xlsx\")\n",
    "\n",
    "#df['chat'] = df['chat'].apply(lambda x: x.replace('/05/2024, ','/05/2024 '))\n",
    "\n",
    "df['controle'] = np.nan\n",
    "df = df[['controle','chat']]\n",
    "df_prob = pd.DataFrame(columns = ['controle','chat'])\n",
    "\n",
    "print(len(df))\n",
    "display(df.head())"
   ]
  },
  {
   "cell_type": "markdown",
   "id": "a934116b",
   "metadata": {},
   "source": [
    "# Dia de envio da mensagem"
   ]
  },
  {
   "cell_type": "code",
   "execution_count": 8,
   "id": "cc51b463",
   "metadata": {},
   "outputs": [
    {
     "name": "stdout",
     "output_type": "stream",
     "text": [
      "Quantidade de mensagens por dia:\n"
     ]
    },
    {
     "data": {
      "text/html": [
       "<div>\n",
       "<style scoped>\n",
       "    .dataframe tbody tr th:only-of-type {\n",
       "        vertical-align: middle;\n",
       "    }\n",
       "\n",
       "    .dataframe tbody tr th {\n",
       "        vertical-align: top;\n",
       "    }\n",
       "\n",
       "    .dataframe thead th {\n",
       "        text-align: right;\n",
       "    }\n",
       "</style>\n",
       "<table border=\"1\" class=\"dataframe\">\n",
       "  <thead>\n",
       "    <tr style=\"text-align: right;\">\n",
       "      <th></th>\n",
       "      <th>Freq</th>\n",
       "      <th>Perc</th>\n",
       "    </tr>\n",
       "    <tr>\n",
       "      <th>dia</th>\n",
       "      <th></th>\n",
       "      <th></th>\n",
       "    </tr>\n",
       "  </thead>\n",
       "  <tbody>\n",
       "    <tr>\n",
       "      <th>07/07/2024</th>\n",
       "      <td>34</td>\n",
       "      <td>12.830189</td>\n",
       "    </tr>\n",
       "    <tr>\n",
       "      <th>14/07/2024</th>\n",
       "      <td>25</td>\n",
       "      <td>9.433962</td>\n",
       "    </tr>\n",
       "    <tr>\n",
       "      <th>08/07/2024</th>\n",
       "      <td>23</td>\n",
       "      <td>8.679245</td>\n",
       "    </tr>\n",
       "    <tr>\n",
       "      <th>03/07/2024</th>\n",
       "      <td>18</td>\n",
       "      <td>6.792453</td>\n",
       "    </tr>\n",
       "    <tr>\n",
       "      <th>09/07/2024</th>\n",
       "      <td>17</td>\n",
       "      <td>6.415094</td>\n",
       "    </tr>\n",
       "    <tr>\n",
       "      <th>12/07/2024</th>\n",
       "      <td>17</td>\n",
       "      <td>6.415094</td>\n",
       "    </tr>\n",
       "    <tr>\n",
       "      <th>05/07/2024</th>\n",
       "      <td>16</td>\n",
       "      <td>6.037736</td>\n",
       "    </tr>\n",
       "    <tr>\n",
       "      <th>02/07/2024</th>\n",
       "      <td>15</td>\n",
       "      <td>5.660377</td>\n",
       "    </tr>\n",
       "    <tr>\n",
       "      <th>11/07/2024</th>\n",
       "      <td>15</td>\n",
       "      <td>5.660377</td>\n",
       "    </tr>\n",
       "    <tr>\n",
       "      <th>13/07/2024</th>\n",
       "      <td>14</td>\n",
       "      <td>5.283019</td>\n",
       "    </tr>\n",
       "    <tr>\n",
       "      <th>04/07/2024</th>\n",
       "      <td>14</td>\n",
       "      <td>5.283019</td>\n",
       "    </tr>\n",
       "    <tr>\n",
       "      <th>01/07/2024</th>\n",
       "      <td>13</td>\n",
       "      <td>4.905660</td>\n",
       "    </tr>\n",
       "    <tr>\n",
       "      <th>10/07/2024</th>\n",
       "      <td>13</td>\n",
       "      <td>4.905660</td>\n",
       "    </tr>\n",
       "    <tr>\n",
       "      <th>06/07/2024</th>\n",
       "      <td>12</td>\n",
       "      <td>4.528302</td>\n",
       "    </tr>\n",
       "    <tr>\n",
       "      <th>15/07/2024</th>\n",
       "      <td>11</td>\n",
       "      <td>4.150943</td>\n",
       "    </tr>\n",
       "    <tr>\n",
       "      <th>16/07/2024</th>\n",
       "      <td>8</td>\n",
       "      <td>3.018868</td>\n",
       "    </tr>\n",
       "  </tbody>\n",
       "</table>\n",
       "</div>"
      ],
      "text/plain": [
       "            Freq       Perc\n",
       "dia                        \n",
       "07/07/2024    34  12.830189\n",
       "14/07/2024    25   9.433962\n",
       "08/07/2024    23   8.679245\n",
       "03/07/2024    18   6.792453\n",
       "09/07/2024    17   6.415094\n",
       "12/07/2024    17   6.415094\n",
       "05/07/2024    16   6.037736\n",
       "02/07/2024    15   5.660377\n",
       "11/07/2024    15   5.660377\n",
       "13/07/2024    14   5.283019\n",
       "04/07/2024    14   5.283019\n",
       "01/07/2024    13   4.905660\n",
       "10/07/2024    13   4.905660\n",
       "06/07/2024    12   4.528302\n",
       "15/07/2024    11   4.150943\n",
       "16/07/2024     8   3.018868"
      ]
     },
     "metadata": {},
     "output_type": "display_data"
    }
   ],
   "source": [
    "dia = []\n",
    "for i in range(0, len(df['chat'])):\n",
    "    dia.append(df['chat'][i][1:11]) #pegando exatamente aonde parte da data esta\n",
    "df['dia'] = dia\n",
    "#print(sorted(df['dia'].unique()))\n",
    "print(\"Quantidade de mensagens por dia:\")\n",
    "count_freq(df, 'dia')"
   ]
  },
  {
   "cell_type": "markdown",
   "id": "d6d3494c-074c-4afc-b263-bfae83929122",
   "metadata": {},
   "source": [
    "# Nome Anestesista"
   ]
  },
  {
   "cell_type": "code",
   "execution_count": 9,
   "id": "3ff0d4ff",
   "metadata": {
    "scrolled": true
   },
   "outputs": [
    {
     "name": "stdout",
     "output_type": "stream",
     "text": [
      "Profissionais que mandaram mensagem:\n"
     ]
    },
    {
     "data": {
      "text/plain": [
       "['ALESSANDRE LUIZ BRAGA JUNIOR',\n",
       " 'ALEXANDRE AMARAL LUCAS',\n",
       " 'ALEXANDRE BERNARDINO',\n",
       " 'ALEXSANDER TAKASHI HAMADA',\n",
       " 'AMANDA KIYOKO SOUZA KOSSAKA',\n",
       " 'ANA CLARA MOURAO BARRETO',\n",
       " 'ANA JUNG DOCKO',\n",
       " 'ANDRE AUGUSTO BELLINI',\n",
       " 'ANDRE DA COSTA AGUIAR VENTURA',\n",
       " 'ANNA BEATRIZ ARANHA TREVISAN',\n",
       " 'ARTHUR OLIVEIRA FACCHINI',\n",
       " 'ARTHUR RODRIGUES TORRELIO',\n",
       " 'AUGUSTO DE CASTRO SANTOS QUEIROZ',\n",
       " 'BEATRIZ ANTIPOU DOS SANTOS',\n",
       " 'BIANCA PRISCILA BUNIOTTI',\n",
       " 'BRIAN SOSSAI PACHECO',\n",
       " 'BRUNA DAIBERT DANESIN',\n",
       " 'BRUNO FERRAZ DE CAMPOS BARONE',\n",
       " 'CAIO TULIO DUARTE',\n",
       " 'CAMILA RESENDE DE PAULA',\n",
       " 'CARLOS AUGUSTO TREVISAN',\n",
       " 'CARLOS EDUARDO GONDIM OLIVEIRA',\n",
       " 'CAROLINE FIRMINO LEMES DA SILVA',\n",
       " 'CLAUDIO MUELLER KAKUDA',\n",
       " 'DANIEL MASUZAKI WONG',\n",
       " 'DEBORA PHILIPPI BRESSANE',\n",
       " 'EDUARDO ARBACHE BEZERRA',\n",
       " 'EDUARDO DALA ROSA SOARES',\n",
       " 'EMERSON DOMINGOS DA COSTA',\n",
       " 'ESTANRLEY BARCELOS PINTO',\n",
       " 'FABIANA BARBOSA BASTOS',\n",
       " 'FABIANA SOARES GAMA',\n",
       " 'FABIO ANTONIO DE SOUZA OLIVEIRA',\n",
       " 'FABIO YUJI SUGUITA',\n",
       " 'FELIPE DE OLIVEIRA NUNES',\n",
       " 'FERNANDA TELES RIBEIRO',\n",
       " 'FERNANDO AKIRA KOGA',\n",
       " 'FERNANDO RIBEIRO SA',\n",
       " 'FILIPE MAEDA HASHI ABDALLA MARTINS',\n",
       " 'FLAVIO HIDEKI OSHIKA',\n",
       " 'FLAVIO MAIA CASTILHO',\n",
       " 'FRANCISCO JOSE LUCENA BEZERRA',\n",
       " 'GABRIEL DE AGUIAR SANTANA',\n",
       " 'GABRIELLA GADELHA SARMENTO',\n",
       " 'GUILHERME DE ALMEIDA COSTA',\n",
       " 'GUILHERME PETRY MARTINS PEREIRA',\n",
       " 'GUSTAVO MARQUES DA SILVA',\n",
       " 'HEDICLEBER PESTANA SEVERINO',\n",
       " 'ICARO MOURA DE SOUSA',\n",
       " 'ISABELA MATTARELLI SOUZA CARLI',\n",
       " 'ISAQUE CAMILO DA SILVA',\n",
       " 'JULIANA AKEMI FUNABASHI',\n",
       " 'KAREN CAVICHINI ROSSETO',\n",
       " 'KAROLINE BECKER PARABONI',\n",
       " 'LAIS RIBEIRO TEIXEIRA',\n",
       " 'LARISSA MAYUMI ONO',\n",
       " 'LEANDRO EDUARDO FRANCA',\n",
       " 'LEANDRO MACHADO DEORCE',\n",
       " 'LEANDRO OLIVEIRA MARTINS CORTES',\n",
       " 'LEONARDO BARBOSA SANTOS',\n",
       " 'LUDMYLLA GOMES NEVES',\n",
       " 'MANOEL CELIO MOURA JUNIOR',\n",
       " 'MANOEL DE SOUZA NETO',\n",
       " 'MARCELO DE OLIVEIRA PERES',\n",
       " 'MARCELO FELIPE DE SOUZA BUTO',\n",
       " 'MARCOS BASTOS DOS SANTOS',\n",
       " 'MARIA TERESA SOUZA GOMES',\n",
       " 'MARINA BORGES CURRALO',\n",
       " 'MARINA PONTES MOURA NASCIMENTO E SILVA',\n",
       " 'MATHEUS VIANA LEMO',\n",
       " 'MAURICIO FARIA TETTI',\n",
       " 'MAXVILANO LIMA DE MACEDO',\n",
       " 'MAYANE GUEDES GONCALVES',\n",
       " 'MILTON OLAIO NETO',\n",
       " 'MIRELA FARIAS FIGUEIROA',\n",
       " 'MOABE GONCALVES DE OLIVEIRA',\n",
       " 'NATALIA MAIA QUEIROZ',\n",
       " 'NATALIA YUME HISSAYASU MENEZES',\n",
       " 'NATAN SOARES SILVEIRA',\n",
       " 'NELIANE GUEDES PRETTI',\n",
       " 'PALOMA KIYOMI TAGUCHI',\n",
       " 'PAOLA RODRIGUES OSHIRO',\n",
       " 'PEDRO AUGUSTO TAVARES DALL AGLIO',\n",
       " 'PEDRO BELINTANI DE MAIO',\n",
       " 'PEDRO HENRIQUE DINIZ BOTELHO',\n",
       " 'PEDRO HENRIQUE LUCAS DE MORAES',\n",
       " 'PEDRO HENRIQUE MILHOMENS DA MOTA',\n",
       " 'PEDRO VICTOR MASSAROTO E SILVA',\n",
       " 'RAFAEL QUEIROZ ARAUJO',\n",
       " 'RAFAEL TADEU MARQUES',\n",
       " 'RAFHAEL SILVA LEAL',\n",
       " 'RAPHAEL MOURA BRITTO',\n",
       " 'RAUL FELIPE MALDONADO HERBAS',\n",
       " 'RENATA TOGEIRO BASTOS GODOY DE FARIA',\n",
       " 'RICARDO GIRALDELLI CARVALHO LIMA',\n",
       " 'RICARDO IVO DE LIMA',\n",
       " 'RODRIGO ANDRADE CARMELLO',\n",
       " 'RODRIGO ANTONIO REY GONZALEZ',\n",
       " 'RODRIGO GOMES MINAS NOVAS',\n",
       " 'RODRIGO MARTINS PEREIRA',\n",
       " 'RODRIGO MIYASHIRO NUNES DOS SANTOS',\n",
       " 'ROMULO SPOLIDORIO',\n",
       " 'RONALD FIGUEIREDO GOMES',\n",
       " 'SABRINA DE SOUZA RAMOS',\n",
       " 'SAULLO QUEIROZ SILVEIRA',\n",
       " 'SERGIO ZAMITH',\n",
       " 'THAIS CHAVES PINHEIRO',\n",
       " 'THAIS MIRANDA RAMOS',\n",
       " 'THALES LUVISOTTO NEDER',\n",
       " 'THIAGO SILVA PINTO',\n",
       " 'TURIBIO RODRIGUES FREIRE NETO',\n",
       " 'VANESSA PACIULLO MAROSSI',\n",
       " 'VICTOR AUGUSTO DE SOUZA MORAES',\n",
       " 'VITOR LUIZ ASSUNCAO MARTINS',\n",
       " 'VITOR MACIEL DE SOUSA PINTO',\n",
       " 'VITOR OLIVEIRA ANDRE',\n",
       " 'VIVIANNA BOVERIO GALZERANI']"
      ]
     },
     "execution_count": 9,
     "metadata": {},
     "output_type": "execute_result"
    }
   ],
   "source": [
    "df['nome'] = np.nan\n",
    "count = 0\n",
    "for i in range(0, len(df['chat'])):\n",
    "    loc = df['chat'][i].find(']')+1 #digito data\n",
    "    loc2 = df['chat'][i][loc+1:].find(':')+1 #digito nome\n",
    "    nome = df['chat'][i][loc+1:loc+loc2]\n",
    "    nome = nome.upper().strip().replace(\"  \", \" \")\n",
    "    nome = unidecode.unidecode(nome)\n",
    "    df['nome'][i] = nome\n",
    "    count += 1\n",
    "    #print(count, \"->\", unidecode.unidecode(chat[i][loc+1:loc+loc2].upper()))\n",
    "\n",
    "print(\"Profissionais que mandaram mensagem:\")\n",
    "df['nome'] = df['nome'].apply(lambda x: x.replace('  ',' '))\n",
    "sorted(df['nome'].unique())"
   ]
  },
  {
   "cell_type": "markdown",
   "id": "31be6f95-8c13-44b6-9d06-5967de4f8fce",
   "metadata": {},
   "source": [
    "# Mensagens escrevidas e enviadas"
   ]
  },
  {
   "cell_type": "code",
   "execution_count": 10,
   "id": "68fe8eba",
   "metadata": {
    "scrolled": true
   },
   "outputs": [
    {
     "name": "stdout",
     "output_type": "stream",
     "text": [
      "Mensagens Enviadas:\n"
     ]
    },
    {
     "data": {
      "text/plain": [
       "190                     04/07 OSASCO EMERSON SAÍDA 18:40\n",
       "47     14/07 MORUMBI  -  FLAVIO ENTRADA 06:40  ( D2 R...\n",
       "217                  10/07 JABAQUARA RIBEIRO SAÍDA 16:45\n",
       "Name: mensagem, dtype: object"
      ]
     },
     "execution_count": 10,
     "metadata": {},
     "output_type": "execute_result"
    }
   ],
   "source": [
    "mensagem = []\n",
    "for i in range(0, len(df)):\n",
    "    digito_data = df['chat'][i].find(']') #aonde acaba a data\n",
    "    digito_nome = df['chat'][i][digito_data+1:].find(':')\n",
    "    mensagem_escrevida = df['chat'][i][digito_data+digito_nome+3:]\n",
    "    mensagem.append(mensagem_escrevida)\n",
    "    \n",
    "df['mensagem'] = mensagem\n",
    "df['mensagem'] = df['mensagem'].apply(lambda x: x.upper() )\n",
    "df['mensagem'] = df['mensagem'].apply(lambda x: x.replace('-',' - '))\n",
    "df['mensagem'] = df['mensagem'].apply(lambda x: x.replace('(',' ( '))\n",
    "df['mensagem'] = df['mensagem'].apply(lambda x: x.replace(')',' ) '))\n",
    "\n",
    "print('Mensagens Enviadas:')\n",
    "df['mensagem'].sample(3)"
   ]
  },
  {
   "cell_type": "markdown",
   "id": "3d5212fd",
   "metadata": {},
   "source": [
    "# ========================================="
   ]
  },
  {
   "cell_type": "markdown",
   "id": "a927f162-3124-4ef4-a3b5-dfaf15d13886",
   "metadata": {},
   "source": [
    "# Data do Plantão"
   ]
  },
  {
   "cell_type": "code",
   "execution_count": 11,
   "id": "1744df23",
   "metadata": {
    "scrolled": true
   },
   "outputs": [
    {
     "name": "stdout",
     "output_type": "stream",
     "text": [
      "data probs: 5\n",
      "datas ok: 260\n"
     ]
    },
    {
     "data": {
      "text/html": [
       "<div>\n",
       "<style scoped>\n",
       "    .dataframe tbody tr th:only-of-type {\n",
       "        vertical-align: middle;\n",
       "    }\n",
       "\n",
       "    .dataframe tbody tr th {\n",
       "        vertical-align: top;\n",
       "    }\n",
       "\n",
       "    .dataframe thead th {\n",
       "        text-align: right;\n",
       "    }\n",
       "</style>\n",
       "<table border=\"1\" class=\"dataframe\">\n",
       "  <thead>\n",
       "    <tr style=\"text-align: right;\">\n",
       "      <th></th>\n",
       "      <th>Freq</th>\n",
       "      <th>Perc</th>\n",
       "    </tr>\n",
       "    <tr>\n",
       "      <th>data</th>\n",
       "      <th></th>\n",
       "      <th></th>\n",
       "    </tr>\n",
       "  </thead>\n",
       "  <tbody>\n",
       "    <tr>\n",
       "      <th>07/07</th>\n",
       "      <td>34</td>\n",
       "      <td>13.076923</td>\n",
       "    </tr>\n",
       "    <tr>\n",
       "      <th>14/07</th>\n",
       "      <td>23</td>\n",
       "      <td>8.846154</td>\n",
       "    </tr>\n",
       "    <tr>\n",
       "      <th>08/07</th>\n",
       "      <td>21</td>\n",
       "      <td>8.076923</td>\n",
       "    </tr>\n",
       "    <tr>\n",
       "      <th>05/07</th>\n",
       "      <td>19</td>\n",
       "      <td>7.307692</td>\n",
       "    </tr>\n",
       "    <tr>\n",
       "      <th>09/07</th>\n",
       "      <td>18</td>\n",
       "      <td>6.923077</td>\n",
       "    </tr>\n",
       "    <tr>\n",
       "      <th>02/07</th>\n",
       "      <td>18</td>\n",
       "      <td>6.923077</td>\n",
       "    </tr>\n",
       "    <tr>\n",
       "      <th>12/07</th>\n",
       "      <td>17</td>\n",
       "      <td>6.538462</td>\n",
       "    </tr>\n",
       "    <tr>\n",
       "      <th>04/07</th>\n",
       "      <td>16</td>\n",
       "      <td>6.153846</td>\n",
       "    </tr>\n",
       "    <tr>\n",
       "      <th>11/07</th>\n",
       "      <td>16</td>\n",
       "      <td>6.153846</td>\n",
       "    </tr>\n",
       "    <tr>\n",
       "      <th>03/07</th>\n",
       "      <td>16</td>\n",
       "      <td>6.153846</td>\n",
       "    </tr>\n",
       "    <tr>\n",
       "      <th>10/07</th>\n",
       "      <td>12</td>\n",
       "      <td>4.615385</td>\n",
       "    </tr>\n",
       "    <tr>\n",
       "      <th>01/07</th>\n",
       "      <td>12</td>\n",
       "      <td>4.615385</td>\n",
       "    </tr>\n",
       "    <tr>\n",
       "      <th>13/07</th>\n",
       "      <td>12</td>\n",
       "      <td>4.615385</td>\n",
       "    </tr>\n",
       "    <tr>\n",
       "      <th>15/07</th>\n",
       "      <td>10</td>\n",
       "      <td>3.846154</td>\n",
       "    </tr>\n",
       "    <tr>\n",
       "      <th>16/07</th>\n",
       "      <td>7</td>\n",
       "      <td>2.692308</td>\n",
       "    </tr>\n",
       "    <tr>\n",
       "      <th>06/07</th>\n",
       "      <td>5</td>\n",
       "      <td>1.923077</td>\n",
       "    </tr>\n",
       "    <tr>\n",
       "      <th>13/08</th>\n",
       "      <td>1</td>\n",
       "      <td>0.384615</td>\n",
       "    </tr>\n",
       "    <tr>\n",
       "      <th>16/7</th>\n",
       "      <td>1</td>\n",
       "      <td>0.384615</td>\n",
       "    </tr>\n",
       "    <tr>\n",
       "      <th>14/7</th>\n",
       "      <td>1</td>\n",
       "      <td>0.384615</td>\n",
       "    </tr>\n",
       "    <tr>\n",
       "      <th>30/06</th>\n",
       "      <td>1</td>\n",
       "      <td>0.384615</td>\n",
       "    </tr>\n",
       "  </tbody>\n",
       "</table>\n",
       "</div>"
      ],
      "text/plain": [
       "       Freq       Perc\n",
       "data                  \n",
       "07/07    34  13.076923\n",
       "14/07    23   8.846154\n",
       "08/07    21   8.076923\n",
       "05/07    19   7.307692\n",
       "09/07    18   6.923077\n",
       "02/07    18   6.923077\n",
       "12/07    17   6.538462\n",
       "04/07    16   6.153846\n",
       "11/07    16   6.153846\n",
       "03/07    16   6.153846\n",
       "10/07    12   4.615385\n",
       "01/07    12   4.615385\n",
       "13/07    12   4.615385\n",
       "15/07    10   3.846154\n",
       "16/07     7   2.692308\n",
       "06/07     5   1.923077\n",
       "13/08     1   0.384615\n",
       "16/7      1   0.384615\n",
       "14/7      1   0.384615\n",
       "30/06     1   0.384615"
      ]
     },
     "metadata": {},
     "output_type": "display_data"
    }
   ],
   "source": [
    "df['data'] = np.nan\n",
    "\n",
    "for i in range(0, len(df)):\n",
    "    lista_datas = re.findall(r'[0-9]{1,2}\\/[0-9]{1,2}', df['mensagem'][i]) #regex dd/mm\n",
    "    quantidade_itens = len(lista_datas)\n",
    "    \n",
    "    if quantidade_itens == 1: #capturar apenas registros com uma data apenas\n",
    "        df['data'][i] = lista_datas[0]\n",
    "    else: #restante com nenhuma ou mais de uma data\n",
    "        df['controle'][i] = 'DATA_DO_PLANTÃO'\n",
    "\n",
    "#salvando\n",
    "df_prob = df[df['controle'] == 'DATA_DO_PLANTÃO']\n",
    "print(\"data probs:\", len(df_prob))\n",
    "sample_prob('DATA_DO_PLANTÃO')\n",
    "\n",
    "df = df[df['controle'] != 'DATA_DO_PLANTÃO']\n",
    "print(\"datas ok:\", len(df)) \n",
    "\n",
    "df_prob.reset_index(drop=True, inplace=True)\n",
    "df.reset_index(drop=True, inplace=True)\n",
    "\n",
    "count_freq(df, 'data')\n",
    "#print(\"Dias mensionados nas mensagens:\")\n",
    "#print(sorted(df['data'].unique()))"
   ]
  },
  {
   "cell_type": "markdown",
   "id": "9c3ee34f",
   "metadata": {},
   "source": [
    "# Unidades"
   ]
  },
  {
   "cell_type": "code",
   "execution_count": 12,
   "id": "31caa93b",
   "metadata": {
    "scrolled": true
   },
   "outputs": [
    {
     "name": "stdout",
     "output_type": "stream",
     "text": [
      "quantidades de unidades presentes nas mensagens:\n"
     ]
    },
    {
     "data": {
      "text/html": [
       "<div>\n",
       "<style scoped>\n",
       "    .dataframe tbody tr th:only-of-type {\n",
       "        vertical-align: middle;\n",
       "    }\n",
       "\n",
       "    .dataframe tbody tr th {\n",
       "        vertical-align: top;\n",
       "    }\n",
       "\n",
       "    .dataframe thead th {\n",
       "        text-align: right;\n",
       "    }\n",
       "</style>\n",
       "<table border=\"1\" class=\"dataframe\">\n",
       "  <thead>\n",
       "    <tr style=\"text-align: right;\">\n",
       "      <th></th>\n",
       "      <th>Freq</th>\n",
       "      <th>Perc</th>\n",
       "    </tr>\n",
       "    <tr>\n",
       "      <th>Q_unidades</th>\n",
       "      <th></th>\n",
       "      <th></th>\n",
       "    </tr>\n",
       "  </thead>\n",
       "  <tbody>\n",
       "    <tr>\n",
       "      <th>1</th>\n",
       "      <td>229</td>\n",
       "      <td>88.076923</td>\n",
       "    </tr>\n",
       "    <tr>\n",
       "      <th>0</th>\n",
       "      <td>16</td>\n",
       "      <td>6.153846</td>\n",
       "    </tr>\n",
       "    <tr>\n",
       "      <th>2</th>\n",
       "      <td>15</td>\n",
       "      <td>5.769231</td>\n",
       "    </tr>\n",
       "  </tbody>\n",
       "</table>\n",
       "</div>"
      ],
      "text/plain": [
       "            Freq       Perc\n",
       "Q_unidades                 \n",
       "1            229  88.076923\n",
       "0             16   6.153846\n",
       "2             15   5.769231"
      ]
     },
     "metadata": {},
     "output_type": "display_data"
    },
    {
     "name": "stdout",
     "output_type": "stream",
     "text": [
      "unidades probs: 21\n"
     ]
    }
   ],
   "source": [
    "df['unidade'] = ''\n",
    "df['Q_unidades'] = ''\n",
    "\n",
    "for i in range(0, len(df)):\n",
    "    mensagem = unidecode.unidecode(df['mensagem'][i].upper())\n",
    "    \n",
    "    #Unidades escrita com a bunda\n",
    "    lista_avi = [\"CENTRAL\",\"AVICENA\",\"AVICENNA\",\"AVICCENNA\"]\n",
    "    for i_avi in lista_avi:\n",
    "        mensagem = mensagem.replace(i_avi, 'AVICCENA')\n",
    "        \n",
    "    mensagem = mensagem.replace('Sta Isabel', 'SANTA')\n",
    "    \n",
    "    lista_unidades = re.findall(r'ALPHA|ANALIA|AVICCENA|ITAIM|JABA|MATERNIDADE|MORUMBI|OSASCO|VILLA|VILA|VNS|SANTA', mensagem)\n",
    "    quantidade_unidades = len(lista_unidades)\n",
    "    \n",
    "    df['Q_unidades'][i] = quantidade_unidades\n",
    "    \n",
    "    if quantidade_unidades == 1: #capturando apenas com uma unidade\n",
    "        df['unidade'][i] = lista_unidades[0].replace('  ',' ').upper().strip()\n",
    "    elif quantidade_unidades > 1: #com mais de uma unidade\n",
    "        df['unidade'][i] = lista_unidades\n",
    "        df['controle'][i] = 'DESLOCADO'\n",
    "    else: #sem nenhuma unidade\n",
    "        df['controle'][i] = 'UNIDADES'\n",
    "        \n",
    "print(\"quantidades de unidades presentes nas mensagens:\")\n",
    "count_freq(df, 'Q_unidades')\n",
    "\n",
    "#salvando\n",
    "df_prob = pd.concat([df_prob, df[df['controle'] == 'UNIDADES']])\n",
    "print(\"unidades probs:\", len(df_prob))\n",
    "sample_prob('UNIDADES')\n",
    "\n",
    "df = df[df['controle'] != 'UNIDADES']\n",
    "\n",
    "df_prob.reset_index(drop=True, inplace=True)\n",
    "df.reset_index(drop=True, inplace=True)\n",
    "#print(\"unidade ok:\", len(df)) \n",
    "#print(\"unidade ok deslocado:\", len(df[df['controle'] == 'DESLOCADO']))"
   ]
  },
  {
   "cell_type": "markdown",
   "id": "ca45bc04",
   "metadata": {},
   "source": [
    "# Deslocados"
   ]
  },
  {
   "cell_type": "code",
   "execution_count": 13,
   "id": "dd54cc92",
   "metadata": {},
   "outputs": [
    {
     "data": {
      "text/html": [
       "<div>\n",
       "<style scoped>\n",
       "    .dataframe tbody tr th:only-of-type {\n",
       "        vertical-align: middle;\n",
       "    }\n",
       "\n",
       "    .dataframe tbody tr th {\n",
       "        vertical-align: top;\n",
       "    }\n",
       "\n",
       "    .dataframe thead th {\n",
       "        text-align: right;\n",
       "    }\n",
       "</style>\n",
       "<table border=\"1\" class=\"dataframe\">\n",
       "  <thead>\n",
       "    <tr style=\"text-align: right;\">\n",
       "      <th></th>\n",
       "      <th>Freq</th>\n",
       "      <th>Perc</th>\n",
       "    </tr>\n",
       "    <tr>\n",
       "      <th>controle</th>\n",
       "      <th></th>\n",
       "      <th></th>\n",
       "    </tr>\n",
       "  </thead>\n",
       "  <tbody>\n",
       "    <tr>\n",
       "      <th>DESLOCADO</th>\n",
       "      <td>15</td>\n",
       "      <td>100.0</td>\n",
       "    </tr>\n",
       "  </tbody>\n",
       "</table>\n",
       "</div>"
      ],
      "text/plain": [
       "           Freq   Perc\n",
       "controle              \n",
       "DESLOCADO    15  100.0"
      ]
     },
     "metadata": {},
     "output_type": "display_data"
    }
   ],
   "source": [
    "#preparando para reconhecer corretamente\n",
    "df['mensagem'] = df['mensagem'].apply(lambda x: x.replace('DESLOCADA','DESLOCADO'))\n",
    "df['mensagem'] = df['mensagem'].apply(lambda x: x.replace('DESLOCAMENTO','DESLOCADO'))\n",
    "\n",
    "for i in range(0, len(df)):\n",
    "    mensagem = unidecode.unidecode(df['mensagem'][i].upper())\n",
    "    observacoes = re.findall(r'DESLOCADO', mensagem)\n",
    "    quantidade_observacoes = len(observacoes)\n",
    "    \n",
    "    if quantidade_observacoes > 0:\n",
    "        df['controle'][i] = 'DESLOCADO'\n",
    "        \n",
    "count_freq(df, 'controle')\n",
    "# OBS: Plantões de deslocado não são mais excluido"
   ]
  },
  {
   "cell_type": "markdown",
   "id": "11fa61ec-7d16-48dc-9845-093da6518c09",
   "metadata": {},
   "source": [
    "# (Retirada) Distancia e Saude"
   ]
  },
  {
   "cell_type": "code",
   "execution_count": 14,
   "id": "7d45f1ed",
   "metadata": {},
   "outputs": [
    {
     "data": {
      "text/html": [
       "<div>\n",
       "<style scoped>\n",
       "    .dataframe tbody tr th:only-of-type {\n",
       "        vertical-align: middle;\n",
       "    }\n",
       "\n",
       "    .dataframe tbody tr th {\n",
       "        vertical-align: top;\n",
       "    }\n",
       "\n",
       "    .dataframe thead th {\n",
       "        text-align: right;\n",
       "    }\n",
       "</style>\n",
       "<table border=\"1\" class=\"dataframe\">\n",
       "  <thead>\n",
       "    <tr style=\"text-align: right;\">\n",
       "      <th></th>\n",
       "      <th>Freq</th>\n",
       "      <th>Perc</th>\n",
       "    </tr>\n",
       "    <tr>\n",
       "      <th>controle</th>\n",
       "      <th></th>\n",
       "      <th></th>\n",
       "    </tr>\n",
       "  </thead>\n",
       "  <tbody>\n",
       "    <tr>\n",
       "      <th>DISP_SAUDE_DIST</th>\n",
       "      <td>108</td>\n",
       "      <td>94.736842</td>\n",
       "    </tr>\n",
       "    <tr>\n",
       "      <th>DESLOCADO</th>\n",
       "      <td>6</td>\n",
       "      <td>5.263158</td>\n",
       "    </tr>\n",
       "  </tbody>\n",
       "</table>\n",
       "</div>"
      ],
      "text/plain": [
       "                 Freq       Perc\n",
       "controle                        \n",
       "DISP_SAUDE_DIST   108  94.736842\n",
       "DESLOCADO           6   5.263158"
      ]
     },
     "metadata": {},
     "output_type": "display_data"
    },
    {
     "name": "stdout",
     "output_type": "stream",
     "text": [
      "unidades probs: 129\n",
      "unidade ok: 136\n",
      "0      05/07 ANALIA  -  ALESSANDRE ENTRADA 07:00  ( D...\n",
      "146    16/07 JABAQUARA VIVIANNA ENTRADA 07:00  ( DIST...\n",
      "Name: mensagem, dtype: object\n"
     ]
    }
   ],
   "source": [
    "#RETIRANDO REGISTROS DE DISTANCIA E SAIDAS POR QUESTÃO DE SAUDE OU DISPENSA\n",
    "df['controle2'] = np.nan\n",
    "df['mensagem'] = df['mensagem'].apply(lambda x: x.replace('DISPENSADA','DISPENSADO'))\n",
    "df['mensagem'] = df['mensagem'].apply(lambda x: x.replace('DISPENSA ','DISPENSADO'))\n",
    "\n",
    "for i in range(0, len(df)):\n",
    "    mensagem = unidecode.unidecode(df['mensagem'][i].upper())\n",
    "    observacoes = re.findall(r'DISPENSADO|SAUDE|DISTANCIA|D[0-9]', mensagem)\n",
    "    quantidade_observacoes = len(observacoes)\n",
    "\n",
    "    if quantidade_observacoes >= 1:\n",
    "        df['controle'][i] = 'DISP_SAUDE_DIST'\n",
    "        if quantidade_observacoes == 1:\n",
    "            df['controle2'][i] = observacoes[0]\n",
    "        \n",
    "count_freq(df, 'controle')\n",
    "\n",
    "#salvando\n",
    "df_prob = pd.concat([df_prob, df[df['controle'] == 'DISP_SAUDE_DIST']])\n",
    "print(\"unidades probs:\", len(df_prob))\n",
    "sample_prob('DISP_SAUDE_DIST')\n",
    "\n",
    "df = df[df['controle'] != 'DISP_SAUDE_DIST']\n",
    "print(\"unidade ok:\", len(df)) \n",
    "\n",
    "print(df_prob['mensagem'][df_prob['controle'] == 'DISP_SAUDE_DIST'].sample(2))\n",
    "\n",
    "df_prob.reset_index(drop=True, inplace=True)\n",
    "df.reset_index(drop=True, inplace=True)"
   ]
  },
  {
   "cell_type": "code",
   "execution_count": 15,
   "id": "a82a7d65",
   "metadata": {},
   "outputs": [
    {
     "data": {
      "text/html": [
       "<div>\n",
       "<style scoped>\n",
       "    .dataframe tbody tr th:only-of-type {\n",
       "        vertical-align: middle;\n",
       "    }\n",
       "\n",
       "    .dataframe tbody tr th {\n",
       "        vertical-align: top;\n",
       "    }\n",
       "\n",
       "    .dataframe thead th {\n",
       "        text-align: right;\n",
       "    }\n",
       "</style>\n",
       "<table border=\"1\" class=\"dataframe\">\n",
       "  <thead>\n",
       "    <tr style=\"text-align: right;\">\n",
       "      <th></th>\n",
       "      <th>Freq</th>\n",
       "      <th>Perc</th>\n",
       "    </tr>\n",
       "    <tr>\n",
       "      <th>controle</th>\n",
       "      <th></th>\n",
       "      <th></th>\n",
       "    </tr>\n",
       "  </thead>\n",
       "  <tbody>\n",
       "    <tr>\n",
       "      <th>DESLOCADO</th>\n",
       "      <td>6</td>\n",
       "      <td>100.0</td>\n",
       "    </tr>\n",
       "  </tbody>\n",
       "</table>\n",
       "</div>"
      ],
      "text/plain": [
       "           Freq   Perc\n",
       "controle              \n",
       "DESLOCADO     6  100.0"
      ]
     },
     "metadata": {},
     "output_type": "display_data"
    },
    {
     "name": "stdout",
     "output_type": "stream",
     "text": [
      "probs: 129\n",
      "ok: 136\n"
     ]
    }
   ],
   "source": [
    "for i in range(0, len(df)):\n",
    "    mensagem = df['mensagem'][i].upper()\n",
    "    regex_D = re.findall('D[0-9]|DISTANCIA', mensagem)\n",
    "    \n",
    "    if len(regex_D) == 0:\n",
    "        continue\n",
    "    else:\n",
    "        df['controle'][i] == 'DISTANCIAS'\n",
    "\n",
    "count_freq(df, 'controle')\n",
    "\n",
    "#salvando restante\n",
    "df_prob = pd.concat([df_prob, df[df['controle'] == 'DISTANCIAS']])\n",
    "print(\"probs:\", len(df_prob))\n",
    "sample_prob('DISTANCIAS')\n",
    "\n",
    "df = df[df['controle'] != 'DISTANCIAS']\n",
    "print(\"ok:\", len(df))\n",
    "\n",
    "df_prob.reset_index(drop=True, inplace=True)\n",
    "df.reset_index(drop=True, inplace=True)"
   ]
  },
  {
   "cell_type": "markdown",
   "id": "d730522d-c4dc-49d0-b5bd-bb02194796b6",
   "metadata": {},
   "source": [
    "# Extras"
   ]
  },
  {
   "cell_type": "code",
   "execution_count": 16,
   "id": "308a99c2",
   "metadata": {},
   "outputs": [
    {
     "name": "stdout",
     "output_type": "stream",
     "text": [
      "Quantidade de registros Extra - Voluntario:\n"
     ]
    },
    {
     "data": {
      "text/html": [
       "<div>\n",
       "<style scoped>\n",
       "    .dataframe tbody tr th:only-of-type {\n",
       "        vertical-align: middle;\n",
       "    }\n",
       "\n",
       "    .dataframe tbody tr th {\n",
       "        vertical-align: top;\n",
       "    }\n",
       "\n",
       "    .dataframe thead th {\n",
       "        text-align: right;\n",
       "    }\n",
       "</style>\n",
       "<table border=\"1\" class=\"dataframe\">\n",
       "  <thead>\n",
       "    <tr style=\"text-align: right;\">\n",
       "      <th></th>\n",
       "      <th>Freq</th>\n",
       "      <th>Perc</th>\n",
       "    </tr>\n",
       "    <tr>\n",
       "      <th>extra</th>\n",
       "      <th></th>\n",
       "      <th></th>\n",
       "    </tr>\n",
       "  </thead>\n",
       "  <tbody>\n",
       "    <tr>\n",
       "      <th>extra</th>\n",
       "      <td>2</td>\n",
       "      <td>100.0</td>\n",
       "    </tr>\n",
       "  </tbody>\n",
       "</table>\n",
       "</div>"
      ],
      "text/plain": [
       "       Freq   Perc\n",
       "extra             \n",
       "extra     2  100.0"
      ]
     },
     "metadata": {},
     "output_type": "display_data"
    }
   ],
   "source": [
    "df[\"extra\"] = np.nan\n",
    "\n",
    "for i in range(0, len(df)):\n",
    "    if 'EXTRA' in df['mensagem'][i].upper(): #se conter a palavra \"extra\"\n",
    "        df['extra'][i] = 'extra' #marque na coluna extra como extra\n",
    "        \n",
    "print(\"Quantidade de registros Extra - Voluntario:\")\n",
    "count_freq(df, 'extra')      "
   ]
  },
  {
   "cell_type": "markdown",
   "id": "51f897e8",
   "metadata": {},
   "source": [
    "# Tipo entrada e saida"
   ]
  },
  {
   "cell_type": "code",
   "execution_count": 17,
   "id": "4207d9d3",
   "metadata": {},
   "outputs": [
    {
     "data": {
      "text/html": [
       "<div>\n",
       "<style scoped>\n",
       "    .dataframe tbody tr th:only-of-type {\n",
       "        vertical-align: middle;\n",
       "    }\n",
       "\n",
       "    .dataframe tbody tr th {\n",
       "        vertical-align: top;\n",
       "    }\n",
       "\n",
       "    .dataframe thead th {\n",
       "        text-align: right;\n",
       "    }\n",
       "</style>\n",
       "<table border=\"1\" class=\"dataframe\">\n",
       "  <thead>\n",
       "    <tr style=\"text-align: right;\">\n",
       "      <th></th>\n",
       "      <th>Freq</th>\n",
       "      <th>Perc</th>\n",
       "    </tr>\n",
       "    <tr>\n",
       "      <th>tipo</th>\n",
       "      <th></th>\n",
       "      <th></th>\n",
       "    </tr>\n",
       "  </thead>\n",
       "  <tbody>\n",
       "    <tr>\n",
       "      <th>SAIDA</th>\n",
       "      <td>86</td>\n",
       "      <td>66.666667</td>\n",
       "    </tr>\n",
       "    <tr>\n",
       "      <th>ENTRADA</th>\n",
       "      <td>43</td>\n",
       "      <td>33.333333</td>\n",
       "    </tr>\n",
       "  </tbody>\n",
       "</table>\n",
       "</div>"
      ],
      "text/plain": [
       "         Freq       Perc\n",
       "tipo                    \n",
       "SAIDA      86  66.666667\n",
       "ENTRADA    43  33.333333"
      ]
     },
     "metadata": {},
     "output_type": "display_data"
    },
    {
     "data": {
      "text/html": [
       "<div>\n",
       "<style scoped>\n",
       "    .dataframe tbody tr th:only-of-type {\n",
       "        vertical-align: middle;\n",
       "    }\n",
       "\n",
       "    .dataframe tbody tr th {\n",
       "        vertical-align: top;\n",
       "    }\n",
       "\n",
       "    .dataframe thead th {\n",
       "        text-align: right;\n",
       "    }\n",
       "</style>\n",
       "<table border=\"1\" class=\"dataframe\">\n",
       "  <thead>\n",
       "    <tr style=\"text-align: right;\">\n",
       "      <th></th>\n",
       "      <th>Freq</th>\n",
       "      <th>Perc</th>\n",
       "    </tr>\n",
       "    <tr>\n",
       "      <th>controle</th>\n",
       "      <th></th>\n",
       "      <th></th>\n",
       "    </tr>\n",
       "  </thead>\n",
       "  <tbody>\n",
       "    <tr>\n",
       "      <th>SEM_ENTRADA_OU_SAIDA</th>\n",
       "      <td>7</td>\n",
       "      <td>58.333333</td>\n",
       "    </tr>\n",
       "    <tr>\n",
       "      <th>DESLOCADO</th>\n",
       "      <td>5</td>\n",
       "      <td>41.666667</td>\n",
       "    </tr>\n",
       "  </tbody>\n",
       "</table>\n",
       "</div>"
      ],
      "text/plain": [
       "                      Freq       Perc\n",
       "controle                             \n",
       "SEM_ENTRADA_OU_SAIDA     7  58.333333\n",
       "DESLOCADO                5  41.666667"
      ]
     },
     "metadata": {},
     "output_type": "display_data"
    },
    {
     "name": "stdout",
     "output_type": "stream",
     "text": [
      "unidades probs: 136\n",
      "unidade ok: 129\n",
      "ok: 129\n"
     ]
    }
   ],
   "source": [
    "#Indentificando se é um registro de entrada ou saida\n",
    "df['tipo'] = np.nan\n",
    "\n",
    "for i in range(0, len(df)):\n",
    "    mensagem = unidecode.unidecode(df['mensagem'][i].upper())\n",
    "    entradas_saidas = re.findall(r'ENTRADA|SAIDA', mensagem)\n",
    "    quantidade_entradas_saidas = len(entradas_saidas)\n",
    "    \n",
    "    if quantidade_entradas_saidas != 1: #capturando apenas com uma informação escrita\n",
    "        df['controle'][i] = 'SEM_ENTRADA_OU_SAIDA'\n",
    "    else: #restante com mais de uma informação\n",
    "        df['tipo'][i] = entradas_saidas[0]\n",
    "        \n",
    "count_freq(df, 'tipo')\n",
    "count_freq(df, 'controle')\n",
    "\n",
    "#salvando\n",
    "df_prob = pd.concat([df_prob, df[df['controle'] == 'SEM_ENTRADA_OU_SAIDA']])\n",
    "print(\"unidades probs:\", len(df_prob))\n",
    "sample_prob('SEM_ENTRADA_OU_SAIDA')\n",
    "\n",
    "df = df[df['controle'] != 'SEM_ENTRADA_OU_SAIDA']\n",
    "print(\"unidade ok:\", len(df)) \n",
    "\n",
    "#print(df_prob['mensagem'][df_prob['controle'] == 'SEM_ENTRADA_OU_SAIDA'].sample(1))\n",
    "\n",
    "df_prob.reset_index(drop=True, inplace=True)\n",
    "df.reset_index(drop=True, inplace=True)\n",
    "print(\"ok:\", len(df)) "
   ]
  },
  {
   "cell_type": "markdown",
   "id": "b8871837",
   "metadata": {},
   "source": [
    "# -----------------------------------------"
   ]
  },
  {
   "cell_type": "markdown",
   "id": "02097384",
   "metadata": {},
   "source": [
    "# Data"
   ]
  },
  {
   "cell_type": "code",
   "execution_count": 18,
   "id": "f3000d08",
   "metadata": {},
   "outputs": [],
   "source": [
    "#retirando a data da mensagem para não atrapalhar no reconhecimento de hora\n",
    "df['hora'] = np.nan\n",
    "\n",
    "for i in range(0, len(df)):\n",
    "    df['hora'][i] = df['mensagem'][i].replace(df['data'][i], '').strip() #substituindo a data por vazio"
   ]
  },
  {
   "cell_type": "code",
   "execution_count": 19,
   "id": "161cd2b1",
   "metadata": {},
   "outputs": [
    {
     "data": {
      "text/plain": [
       "array(['03/07', '13/07', '05/07', '04/07', '01/07', '02/07', '08/07',\n",
       "       '09/07', '07/07', '11/07', '15/07', '12/07', '06/07', '10/07',\n",
       "       '16/07'], dtype=object)"
      ]
     },
     "execution_count": 19,
     "metadata": {},
     "output_type": "execute_result"
    }
   ],
   "source": [
    "#arrumando data d/mm (6/10, não 06/10)\n",
    "for i in range(0, len(df)):\n",
    "    if df['data'][i][1] == '/':\n",
    "        df['data'][i] = '0'+df['data'][i]\n",
    "df['data'].unique()"
   ]
  },
  {
   "cell_type": "code",
   "execution_count": 20,
   "id": "2055f437",
   "metadata": {},
   "outputs": [
    {
     "data": {
      "text/html": [
       "<div>\n",
       "<style scoped>\n",
       "    .dataframe tbody tr th:only-of-type {\n",
       "        vertical-align: middle;\n",
       "    }\n",
       "\n",
       "    .dataframe tbody tr th {\n",
       "        vertical-align: top;\n",
       "    }\n",
       "\n",
       "    .dataframe thead th {\n",
       "        text-align: right;\n",
       "    }\n",
       "</style>\n",
       "<table border=\"1\" class=\"dataframe\">\n",
       "  <thead>\n",
       "    <tr style=\"text-align: right;\">\n",
       "      <th></th>\n",
       "      <th>Freq</th>\n",
       "      <th>Perc</th>\n",
       "    </tr>\n",
       "    <tr>\n",
       "      <th>data</th>\n",
       "      <th></th>\n",
       "      <th></th>\n",
       "    </tr>\n",
       "  </thead>\n",
       "  <tbody>\n",
       "    <tr>\n",
       "      <th>08/07/2024</th>\n",
       "      <td>16</td>\n",
       "      <td>12.403101</td>\n",
       "    </tr>\n",
       "    <tr>\n",
       "      <th>11/07/2024</th>\n",
       "      <td>12</td>\n",
       "      <td>9.302326</td>\n",
       "    </tr>\n",
       "    <tr>\n",
       "      <th>05/07/2024</th>\n",
       "      <td>11</td>\n",
       "      <td>8.527132</td>\n",
       "    </tr>\n",
       "    <tr>\n",
       "      <th>04/07/2024</th>\n",
       "      <td>11</td>\n",
       "      <td>8.527132</td>\n",
       "    </tr>\n",
       "    <tr>\n",
       "      <th>09/07/2024</th>\n",
       "      <td>11</td>\n",
       "      <td>8.527132</td>\n",
       "    </tr>\n",
       "    <tr>\n",
       "      <th>12/07/2024</th>\n",
       "      <td>11</td>\n",
       "      <td>8.527132</td>\n",
       "    </tr>\n",
       "    <tr>\n",
       "      <th>03/07/2024</th>\n",
       "      <td>10</td>\n",
       "      <td>7.751938</td>\n",
       "    </tr>\n",
       "    <tr>\n",
       "      <th>02/07/2024</th>\n",
       "      <td>9</td>\n",
       "      <td>6.976744</td>\n",
       "    </tr>\n",
       "    <tr>\n",
       "      <th>01/07/2024</th>\n",
       "      <td>8</td>\n",
       "      <td>6.201550</td>\n",
       "    </tr>\n",
       "    <tr>\n",
       "      <th>10/07/2024</th>\n",
       "      <td>8</td>\n",
       "      <td>6.201550</td>\n",
       "    </tr>\n",
       "    <tr>\n",
       "      <th>13/07/2024</th>\n",
       "      <td>7</td>\n",
       "      <td>5.426357</td>\n",
       "    </tr>\n",
       "    <tr>\n",
       "      <th>15/07/2024</th>\n",
       "      <td>6</td>\n",
       "      <td>4.651163</td>\n",
       "    </tr>\n",
       "    <tr>\n",
       "      <th>07/07/2024</th>\n",
       "      <td>5</td>\n",
       "      <td>3.875969</td>\n",
       "    </tr>\n",
       "    <tr>\n",
       "      <th>06/07/2024</th>\n",
       "      <td>2</td>\n",
       "      <td>1.550388</td>\n",
       "    </tr>\n",
       "    <tr>\n",
       "      <th>16/07/2024</th>\n",
       "      <td>2</td>\n",
       "      <td>1.550388</td>\n",
       "    </tr>\n",
       "  </tbody>\n",
       "</table>\n",
       "</div>"
      ],
      "text/plain": [
       "            Freq       Perc\n",
       "data                       \n",
       "08/07/2024    16  12.403101\n",
       "11/07/2024    12   9.302326\n",
       "05/07/2024    11   8.527132\n",
       "04/07/2024    11   8.527132\n",
       "09/07/2024    11   8.527132\n",
       "12/07/2024    11   8.527132\n",
       "03/07/2024    10   7.751938\n",
       "02/07/2024     9   6.976744\n",
       "01/07/2024     8   6.201550\n",
       "10/07/2024     8   6.201550\n",
       "13/07/2024     7   5.426357\n",
       "15/07/2024     6   4.651163\n",
       "07/07/2024     5   3.875969\n",
       "06/07/2024     2   1.550388\n",
       "16/07/2024     2   1.550388"
      ]
     },
     "metadata": {},
     "output_type": "display_data"
    }
   ],
   "source": [
    "#somando informações restantes na data: dd/MM/yyyy\n",
    "for i in range(0, len(df)):\n",
    "    df['data'][i] = df['data'][i][0:2] + \"/\"+ mes +\"/2024\" \n",
    "    \n",
    "count_freq(df, 'data')"
   ]
  },
  {
   "cell_type": "code",
   "execution_count": 21,
   "id": "1f3d2041",
   "metadata": {},
   "outputs": [
    {
     "data": {
      "text/html": [
       "<div>\n",
       "<style scoped>\n",
       "    .dataframe tbody tr th:only-of-type {\n",
       "        vertical-align: middle;\n",
       "    }\n",
       "\n",
       "    .dataframe tbody tr th {\n",
       "        vertical-align: top;\n",
       "    }\n",
       "\n",
       "    .dataframe thead th {\n",
       "        text-align: right;\n",
       "    }\n",
       "</style>\n",
       "<table border=\"1\" class=\"dataframe\">\n",
       "  <thead>\n",
       "    <tr style=\"text-align: right;\">\n",
       "      <th></th>\n",
       "      <th>Freq</th>\n",
       "      <th>Perc</th>\n",
       "    </tr>\n",
       "    <tr>\n",
       "      <th>sem_ou_fds</th>\n",
       "      <th></th>\n",
       "      <th></th>\n",
       "    </tr>\n",
       "  </thead>\n",
       "  <tbody>\n",
       "    <tr>\n",
       "      <th>semana</th>\n",
       "      <td>115</td>\n",
       "      <td>89.147287</td>\n",
       "    </tr>\n",
       "    <tr>\n",
       "      <th>fds</th>\n",
       "      <td>14</td>\n",
       "      <td>10.852713</td>\n",
       "    </tr>\n",
       "  </tbody>\n",
       "</table>\n",
       "</div>"
      ],
      "text/plain": [
       "            Freq       Perc\n",
       "sem_ou_fds                 \n",
       "semana       115  89.147287\n",
       "fds           14  10.852713"
      ]
     },
     "metadata": {},
     "output_type": "display_data"
    }
   ],
   "source": [
    "df['sem_ou_fds'] = 'semana'\n",
    "\n",
    "for i in lista_fds:\n",
    "    datinha = i+\"/\"+mes+\"/2024\"\n",
    "    df['sem_ou_fds'][df['data'] == datinha] = 'fds'\n",
    "\n",
    "count_freq(df, 'sem_ou_fds')"
   ]
  },
  {
   "cell_type": "code",
   "execution_count": 22,
   "id": "2036b362",
   "metadata": {},
   "outputs": [
    {
     "name": "stdout",
     "output_type": "stream",
     "text": [
      "sem_ou_fds  fds  semana\n",
      "data                   \n",
      "01/07/2024  NaN     8.0\n",
      "02/07/2024  NaN     9.0\n",
      "03/07/2024  NaN    10.0\n",
      "04/07/2024  NaN    11.0\n",
      "05/07/2024  NaN    11.0\n",
      "06/07/2024  2.0     NaN\n",
      "07/07/2024  5.0     NaN\n",
      "08/07/2024  NaN    16.0\n",
      "09/07/2024  NaN    11.0\n",
      "10/07/2024  NaN     8.0\n",
      "11/07/2024  NaN    12.0\n",
      "12/07/2024  NaN    11.0\n",
      "13/07/2024  7.0     NaN\n",
      "15/07/2024  NaN     6.0\n",
      "16/07/2024  NaN     2.0\n"
     ]
    }
   ],
   "source": [
    "print(df.groupby(['data', 'sem_ou_fds']).size().unstack())"
   ]
  },
  {
   "cell_type": "code",
   "execution_count": 23,
   "id": "1e404263",
   "metadata": {},
   "outputs": [],
   "source": [
    "#df['data'].iloc[180] = '26/09/2022'"
   ]
  },
  {
   "cell_type": "markdown",
   "id": "dcd24449",
   "metadata": {},
   "source": [
    "# Hora"
   ]
  },
  {
   "cell_type": "code",
   "execution_count": 24,
   "id": "06d56371",
   "metadata": {
    "scrolled": true
   },
   "outputs": [],
   "source": [
    "#substituindo \"h\" por \":\" para capturar horarios 11h22\n",
    "df['hora'] = df['hora'].apply(lambda x: x.upper().replace(\"H\", \":\"))"
   ]
  },
  {
   "cell_type": "code",
   "execution_count": 25,
   "id": "6888fa5e",
   "metadata": {},
   "outputs": [
    {
     "data": {
      "text/html": [
       "<div>\n",
       "<style scoped>\n",
       "    .dataframe tbody tr th:only-of-type {\n",
       "        vertical-align: middle;\n",
       "    }\n",
       "\n",
       "    .dataframe tbody tr th {\n",
       "        vertical-align: top;\n",
       "    }\n",
       "\n",
       "    .dataframe thead th {\n",
       "        text-align: right;\n",
       "    }\n",
       "</style>\n",
       "<table border=\"1\" class=\"dataframe\">\n",
       "  <thead>\n",
       "    <tr style=\"text-align: right;\">\n",
       "      <th></th>\n",
       "      <th>Freq</th>\n",
       "      <th>Perc</th>\n",
       "    </tr>\n",
       "    <tr>\n",
       "      <th>controle</th>\n",
       "      <th></th>\n",
       "      <th></th>\n",
       "    </tr>\n",
       "  </thead>\n",
       "  <tbody>\n",
       "    <tr>\n",
       "      <th>HORA</th>\n",
       "      <td>12</td>\n",
       "      <td>70.588235</td>\n",
       "    </tr>\n",
       "    <tr>\n",
       "      <th>DESLOCADO</th>\n",
       "      <td>5</td>\n",
       "      <td>29.411765</td>\n",
       "    </tr>\n",
       "  </tbody>\n",
       "</table>\n",
       "</div>"
      ],
      "text/plain": [
       "           Freq       Perc\n",
       "controle                  \n",
       "HORA         12  70.588235\n",
       "DESLOCADO     5  29.411765"
      ]
     },
     "metadata": {},
     "output_type": "display_data"
    },
    {
     "name": "stdout",
     "output_type": "stream",
     "text": [
      "probs: 148\n",
      "ok: 117\n"
     ]
    }
   ],
   "source": [
    "for i in range(0, len(df)):\n",
    "    mensagem = df['hora'][i]\n",
    "    horas = re.findall(r'[0-9]{1,2}:[0-9]{1,2}', mensagem) #capturando horas HH:mm\n",
    "    quantidade_horas = len(horas)\n",
    "    \n",
    "    if quantidade_horas == 1: #capturando apenas com uma horas escrita\n",
    "        df['hora'][i] = horas[0]\n",
    "    else: #restante com nenhuma ou mais horas (geralmente pq digitou a hora de entrada e saida {informação inutil})\n",
    "        df['hora'][i] = ''\n",
    "        df['controle'][i] = 'HORA'\n",
    "        \n",
    "count_freq(df, 'controle')\n",
    "\n",
    "#salvando\n",
    "df_prob = pd.concat([df_prob, df[df['controle'] == 'HORA']])\n",
    "print(\"probs:\", len(df_prob))\n",
    "sample_prob('HORA')\n",
    "\n",
    "df = df[df['controle'] != 'HORA']\n",
    "print(\"ok:\", len(df)) \n",
    "\n",
    "df_prob.reset_index(drop=True, inplace=True)\n",
    "df.reset_index(drop=True, inplace=True)"
   ]
  },
  {
   "cell_type": "code",
   "execution_count": 26,
   "id": "0c48984e",
   "metadata": {},
   "outputs": [
    {
     "data": {
      "text/plain": [
       "array(['01:40', '01:35', '23:45', '19:00', '23:40', '05:30', '11:00',\n",
       "       '07:00', '18:00', '17:20', '00:45', '00:15', '00:40', '16:18',\n",
       "       '08:30', '18:50', '18:55', '18:40', '18:45', '18:37', '06:50',\n",
       "       '13:10', '09:20', '06:30', '16:10', '05:40', '05:20', '17:55',\n",
       "       '04:15', '17:40', '16:45', '06:00', '16:40', '09:05', '17:50',\n",
       "       '15:00', '17:45', '17:10', '17:00', '04:25', '04:30', '04:20',\n",
       "       '05:00', '10:50', '16:00', '15:40', '06:15', '09:45', '15:15',\n",
       "       '18:20', '18:10', '16:30'], dtype=object)"
      ]
     },
     "execution_count": 26,
     "metadata": {},
     "output_type": "execute_result"
    }
   ],
   "source": [
    "#adicionando 0 no primeiro algorismo dos valores h:mm\n",
    "for i in range(0, len(df)):\n",
    "    if df['hora'][i][1] == \":\":\n",
    "        df['hora'][i] = \"0\"+df['hora'][i]\n",
    "        \n",
    "df['hora'].unique()"
   ]
  },
  {
   "cell_type": "markdown",
   "id": "da6159ec",
   "metadata": {},
   "source": [
    "# Hora final"
   ]
  },
  {
   "cell_type": "code",
   "execution_count": 27,
   "id": "9d527b16",
   "metadata": {},
   "outputs": [],
   "source": [
    "#pacotes para manipular data\n",
    "from datetime import date\n",
    "from datetime import time\n",
    "from datetime import datetime\n",
    "from datetime import timedelta"
   ]
  },
  {
   "cell_type": "code",
   "execution_count": 28,
   "id": "291cff39",
   "metadata": {},
   "outputs": [
    {
     "data": {
      "text/plain": [
       "array(['01:40', '01:35', '23:45', '19:00', '23:40', '05:30', '11:00',\n",
       "       '07:00', '18:00', '17:20', '00:45', '00:15', '00:40', '16:18',\n",
       "       '08:30', '18:50', '18:55', '18:40', '18:45', '18:37', '06:50',\n",
       "       '13:10', '09:20', '06:30', '16:10', '05:40', '05:20', '17:55',\n",
       "       '04:15', '17:40', '16:45', '06:00', '16:40', '09:05', '17:50',\n",
       "       '15:00', '17:45', '17:10', '17:00', '04:25', '04:30', '04:20',\n",
       "       '05:00', '10:50', '16:00', '15:40', '06:15', '09:45', '15:15',\n",
       "       '18:20', '18:10', '16:30'], dtype=object)"
      ]
     },
     "execution_count": 28,
     "metadata": {},
     "output_type": "execute_result"
    }
   ],
   "source": [
    "df['hora'].unique()"
   ]
  },
  {
   "cell_type": "code",
   "execution_count": 29,
   "id": "edd3cee3",
   "metadata": {},
   "outputs": [
    {
     "name": "stdout",
     "output_type": "stream",
     "text": [
      "[1900]\n",
      "[1]\n",
      "[1]\n",
      "[ 1 23 19  5 11  7 18 17  0 16  8  6 13  9  4 15 10]\n",
      "probs: 148\n",
      "ok: 117\n"
     ]
    }
   ],
   "source": [
    "#criando uma coluna datetime para fazer calculos de horas e minutos\n",
    "df['hora2'] = df['hora'].apply(lambda x: datetime.strptime(x, '%H:%M'))\n",
    "\n",
    "#verificando se esta tudo certo\n",
    "print(df['hora2'].dt.year.unique())\n",
    "print(df['hora2'].dt.month.unique())\n",
    "print(df['hora2'].dt.day.unique())\n",
    "print(df['hora2'].dt.hour.unique())\n",
    "\n",
    "for i in range(0, len(df)):\n",
    "    minuto = int(df['hora'][i][3:])\n",
    "    \n",
    "    if minuto != 0 and minuto != 30:\n",
    "        if minuto < 30:\n",
    "            if df['tipo'][i] == \"ENTRADA\": #arredondando para baixo (0) subtraindo quantos minutos tem entre o momento e HH:00\n",
    "                df['hora'][i] = str(df['hora2'][i] + timedelta(minutes=-minuto))[11:-3]\n",
    "            elif df['tipo'][i] == \"SAIDA\": #arredondando para cima (30) acrecentando quantos minutos faltam para HH:30\n",
    "                df['hora'][i] = str(df['hora2'][i] + timedelta(minutes=+(30-minuto)))[11:-3]\n",
    "            else:\n",
    "                df['controle'][i] = 'Hora_final'\n",
    "                \n",
    "        elif minuto > 30:\n",
    "            if df['tipo'][i] == \"ENTRADA\": #arredondando para baixo (30) subtraindo quando minutos tem entre o momento e HH:30\n",
    "                df['hora'][i] = str(df['hora2'][i] + timedelta(minutes=-(minuto-30)))[11:-3]   \n",
    "            elif df['tipo'][i] == \"SAIDA\": #arredondando para cima (60) acrecentando quantos minutos faltam para HH:60\n",
    "                df['hora'][i] = str(df['hora2'][i] + timedelta(minutes=+(60-minuto)))[11:-3]            \n",
    "            else:\n",
    "                df['controle'][i] = 'Hora_final'\n",
    "        else:\n",
    "            df['controle'][i] = 'Hora_final'\n",
    "            \n",
    "    elif minuto == 0 or minuto == 30:\n",
    "        df['hora'][i] = str(df['hora2'][i])[11:-3] \n",
    "        \n",
    "    else:\n",
    "        df['controle'][i] = 'Hora_final'\n",
    "\n",
    "df['hora'].unique()\n",
    "\n",
    "#salvando restante\n",
    "df_prob = pd.concat([df_prob, df[df['controle'] == 'Hora_final']])\n",
    "print(\"probs:\", len(df_prob))\n",
    "sample_prob('Hora_final')\n",
    "\n",
    "df = df[df['controle'] != 'Hora_final']\n",
    "print(\"ok:\", len(df))\n",
    "\n",
    "df_prob.reset_index(drop=True, inplace=True)\n",
    "df.reset_index(drop=True, inplace=True)"
   ]
  },
  {
   "cell_type": "markdown",
   "id": "8980c6b5",
   "metadata": {},
   "source": [
    "# Setor"
   ]
  },
  {
   "cell_type": "code",
   "execution_count": 30,
   "id": "dfd890a6",
   "metadata": {},
   "outputs": [
    {
     "data": {
      "text/html": [
       "<div>\n",
       "<style scoped>\n",
       "    .dataframe tbody tr th:only-of-type {\n",
       "        vertical-align: middle;\n",
       "    }\n",
       "\n",
       "    .dataframe tbody tr th {\n",
       "        vertical-align: top;\n",
       "    }\n",
       "\n",
       "    .dataframe thead th {\n",
       "        text-align: right;\n",
       "    }\n",
       "</style>\n",
       "<table border=\"1\" class=\"dataframe\">\n",
       "  <thead>\n",
       "    <tr style=\"text-align: right;\">\n",
       "      <th></th>\n",
       "      <th>Freq</th>\n",
       "      <th>Perc</th>\n",
       "    </tr>\n",
       "    <tr>\n",
       "      <th>PERIODO</th>\n",
       "      <th></th>\n",
       "      <th></th>\n",
       "    </tr>\n",
       "  </thead>\n",
       "  <tbody>\n",
       "    <tr>\n",
       "      <th>tarde</th>\n",
       "      <td>42</td>\n",
       "      <td>35.897436</td>\n",
       "    </tr>\n",
       "    <tr>\n",
       "      <th>manha</th>\n",
       "      <td>24</td>\n",
       "      <td>20.512821</td>\n",
       "    </tr>\n",
       "    <tr>\n",
       "      <th>6h</th>\n",
       "      <td>22</td>\n",
       "      <td>18.803419</td>\n",
       "    </tr>\n",
       "    <tr>\n",
       "      <th></th>\n",
       "      <td>16</td>\n",
       "      <td>13.675214</td>\n",
       "    </tr>\n",
       "    <tr>\n",
       "      <th>noturno saida</th>\n",
       "      <td>13</td>\n",
       "      <td>11.111111</td>\n",
       "    </tr>\n",
       "  </tbody>\n",
       "</table>\n",
       "</div>"
      ],
      "text/plain": [
       "               Freq       Perc\n",
       "PERIODO                       \n",
       "tarde            42  35.897436\n",
       "manha            24  20.512821\n",
       "6h               22  18.803419\n",
       "                 16  13.675214\n",
       "noturno saida    13  11.111111"
      ]
     },
     "metadata": {},
     "output_type": "display_data"
    },
    {
     "data": {
      "text/html": [
       "<div>\n",
       "<style scoped>\n",
       "    .dataframe tbody tr th:only-of-type {\n",
       "        vertical-align: middle;\n",
       "    }\n",
       "\n",
       "    .dataframe tbody tr th {\n",
       "        vertical-align: top;\n",
       "    }\n",
       "\n",
       "    .dataframe thead th {\n",
       "        text-align: right;\n",
       "    }\n",
       "</style>\n",
       "<table border=\"1\" class=\"dataframe\">\n",
       "  <thead>\n",
       "    <tr style=\"text-align: right;\">\n",
       "      <th></th>\n",
       "      <th>Freq</th>\n",
       "      <th>Perc</th>\n",
       "    </tr>\n",
       "    <tr>\n",
       "      <th>controle</th>\n",
       "      <th></th>\n",
       "      <th></th>\n",
       "    </tr>\n",
       "  </thead>\n",
       "  <tbody>\n",
       "    <tr>\n",
       "      <th>HORARIOS</th>\n",
       "      <td>41</td>\n",
       "      <td>89.130435</td>\n",
       "    </tr>\n",
       "    <tr>\n",
       "      <th>DESLOCADO</th>\n",
       "      <td>5</td>\n",
       "      <td>10.869565</td>\n",
       "    </tr>\n",
       "  </tbody>\n",
       "</table>\n",
       "</div>"
      ],
      "text/plain": [
       "           Freq       Perc\n",
       "controle                  \n",
       "HORARIOS     41  89.130435\n",
       "DESLOCADO     5  10.869565"
      ]
     },
     "metadata": {},
     "output_type": "display_data"
    },
    {
     "name": "stdout",
     "output_type": "stream",
     "text": [
      "probs: 189\n",
      "ok: 76\n"
     ]
    }
   ],
   "source": [
    "#reconhendo em qual periodo do dia aconteceu o plantão\n",
    "df['ENTRADA'] = ''\n",
    "df['SAIDA'] = ''\n",
    "\n",
    "df['PERIODO'] = ''\n",
    "\n",
    "for i in range(0, len(df)):\n",
    "    minuto = int(df['hora'][i][:2])\n",
    "    \n",
    "    if df['tipo'][i] == 'ENTRADA':\n",
    "        df['ENTRADA'][i] = df['hora'][i]\n",
    "        if minuto < 7: #periodo 6h\n",
    "            df['PERIODO'][i] = '6h'\n",
    "            df['SAIDA'][i] = '07:00'\n",
    "        elif minuto >= 7 and minuto < 13: #periodo manha\n",
    "            df['PERIODO'][i] = 'manha'\n",
    "            df['SAIDA'][i] = '13:00'\n",
    "        elif minuto >= 13 and minuto < 19: #periodo tarde\n",
    "            df['PERIODO'][i] = 'tarde'\n",
    "            df['SAIDA'][i] = '19:00'\n",
    "        else:\n",
    "            df['controle'][i] = 'HORARIOS'\n",
    "    elif df['tipo'][i] == 'SAIDA':\n",
    "        df['SAIDA'][i] = df['hora'][i]\n",
    "        if minuto >= 7 and minuto < 13: #periodo manha\n",
    "            df['ENTRADA'][i] = '07:00'\n",
    "            df['PERIODO'][i] = 'manha'\n",
    "        elif minuto >= 13 and minuto < 19: #periodo tarde\n",
    "            if df['hora'][i] == '13:00':\n",
    "                df['SAIDA'][i] = '13:00'\n",
    "                df['ENTRADA'][i] = '07:00'\n",
    "                df['PERIODO'][i] = 'manha'\n",
    "            else:\n",
    "                df['ENTRADA'][i] = '13:00'\n",
    "                df['PERIODO'][i] = 'tarde'\n",
    "        elif minuto >= 19: #periodo noturno\n",
    "            df['ENTRADA'][i] = '19:00'\n",
    "            df['PERIODO'][i] = 'noturno saida'\n",
    "        else:\n",
    "            df['controle'][i] = 'HORARIOS'\n",
    "    else:\n",
    "        df['controle'][i] = 'HORARIOS'\n",
    "\n",
    "df['controle'][df['ENTRADA'] == df['SAIDA']] = 'HORARIOS'\n",
    "\n",
    "count_freq(df, 'PERIODO')\n",
    "count_freq(df, 'controle')\n",
    "\n",
    "df['periodo'] = np.nan\n",
    "df['periodo'][df['PERIODO'] == '6h'] = 1\n",
    "df['periodo'][df['PERIODO'] == 'manha'] = 2\n",
    "df['periodo'][df['PERIODO'] == 'tarde'] = 3\n",
    "df['periodo'][df['PERIODO'] == 'noturno saida'] = 4\n",
    "\n",
    "#salvando restante\n",
    "df_prob = pd.concat([df_prob, df[df['controle'] == 'HORARIOS']])\n",
    "print(\"probs:\", len(df_prob))\n",
    "sample_prob('HORARIOS')\n",
    "\n",
    "df = df[df['controle'] != 'HORARIOS']\n",
    "print(\"ok:\", len(df))\n",
    "\n",
    "df_prob.reset_index(drop=True, inplace=True)\n",
    "df.reset_index(drop=True, inplace=True)"
   ]
  },
  {
   "cell_type": "markdown",
   "id": "360970a1",
   "metadata": {},
   "source": [
    "# Duração do Plantão"
   ]
  },
  {
   "cell_type": "code",
   "execution_count": 31,
   "id": "dcf5153d",
   "metadata": {},
   "outputs": [
    {
     "data": {
      "text/plain": [
       "array(['01:30', '02:00', '06:00', '05:00', '04:30', '03:30', '00:30',\n",
       "       '02:30', '03:00', '04:00', '01:00', '05:30'], dtype=object)"
      ]
     },
     "execution_count": 31,
     "metadata": {},
     "output_type": "execute_result"
    }
   ],
   "source": [
    "df['DURAÇÃO'] = ''\n",
    "\n",
    "for i in range(0, len(df)):\n",
    "    diferenca_tempo = datetime.strptime(df['SAIDA'][i], '%H:%M') - datetime.strptime(df['ENTRADA'][i], '%H:%M')\n",
    "    \n",
    "    #diferenca_tempo vem em formato estranho, tem-se que transformar em segundos antes\n",
    "    diferenca_tempo_s = diferenca_tempo.seconds\n",
    "    horas = '0' + str(int((diferenca_tempo_s/60)/60)) #capturando horas\n",
    "    minutos = str(int((diferenca_tempo_s/60)%60))  #capturando minutos\n",
    "    \n",
    "    if len(minutos) == 1:\n",
    "        minutos = '0' + minutos\n",
    "    \n",
    "    df['DURAÇÃO'][i] = horas + ':' + minutos\n",
    "    \n",
    "df['DURAÇÃO'][df['DURAÇÃO'] == '00:00'] = '06:00'    \n",
    "\n",
    "df['DURAÇÃO'].unique()"
   ]
  },
  {
   "cell_type": "markdown",
   "id": "85c0bc8f",
   "metadata": {},
   "source": [
    "# Checagem Unidades:"
   ]
  },
  {
   "cell_type": "code",
   "execution_count": 32,
   "id": "6aa09488",
   "metadata": {},
   "outputs": [],
   "source": [
    "# alterando JABA e AVVICENA\n",
    "def replace_values(value):\n",
    "    if value == 'JABA':\n",
    "        return 'JABAQUARA'\n",
    "    elif value == 'AVICCENA':\n",
    "        return 'CENTRAL DO TATUAPE'\n",
    "    elif value == 'SANTA':\n",
    "        return 'SANTA ISABEL'\n",
    "    else:\n",
    "        return value\n",
    "    \n",
    "def replace_values2(value):\n",
    "    if isinstance(value, list):\n",
    "        return [replace_values(v) for v in value]\n",
    "    else:\n",
    "        return replace_values(value)\n",
    "\n",
    "# Aplicar a função à coluna 'setor'\n",
    "df['unidade'] = df['unidade'].apply(lambda x: replace_values2(x))"
   ]
  },
  {
   "cell_type": "code",
   "execution_count": 33,
   "id": "1adddea1",
   "metadata": {},
   "outputs": [
    {
     "name": "stdout",
     "output_type": "stream",
     "text": [
      "['SANTA ISABEL' 'VILLA' 'ITAIM' 'ANALIA' 'JABAQUARA' 'VNS' 'OSASCO'\n",
      " 'CENTRAL DO TATUAPE' 'MORUMBI']\n"
     ]
    }
   ],
   "source": [
    "# Cria uma nova Série sem as listas\n",
    "serie_sem_listas = pd.Series([x for x in df['unidade'] if not isinstance(x, list)])\n",
    "\n",
    "# Imprime os valores únicos da nova Série\n",
    "print(serie_sem_listas.unique())"
   ]
  },
  {
   "cell_type": "code",
   "execution_count": 34,
   "id": "2e48b88d",
   "metadata": {},
   "outputs": [
    {
     "name": "stdout",
     "output_type": "stream",
     "text": [
      "['MORUMBI', 'ITAIM']\n",
      "['ITAIM', 'VNS']\n",
      "['OSASCO', 'ITAIM']\n"
     ]
    }
   ],
   "source": [
    "# Cria uma lista com apenas os valores que são listas\n",
    "listas = [x for x in df['unidade'] if isinstance(x, list)]\n",
    "\n",
    "# Converte as listas em tuplas e adiciona elas a um conjunto para obter apenas as listas distintas\n",
    "listas_distintas = set(tuple(lista) for lista in listas)\n",
    "\n",
    "# Imprime as listas distintas\n",
    "for lista in listas_distintas:\n",
    "    print(list(lista))\n"
   ]
  },
  {
   "cell_type": "markdown",
   "id": "805ab850",
   "metadata": {},
   "source": [
    "# Setor (2)"
   ]
  },
  {
   "cell_type": "code",
   "execution_count": 35,
   "id": "b98e8f35",
   "metadata": {},
   "outputs": [
    {
     "data": {
      "text/html": [
       "<div>\n",
       "<style scoped>\n",
       "    .dataframe tbody tr th:only-of-type {\n",
       "        vertical-align: middle;\n",
       "    }\n",
       "\n",
       "    .dataframe tbody tr th {\n",
       "        vertical-align: top;\n",
       "    }\n",
       "\n",
       "    .dataframe thead th {\n",
       "        text-align: right;\n",
       "    }\n",
       "</style>\n",
       "<table border=\"1\" class=\"dataframe\">\n",
       "  <thead>\n",
       "    <tr style=\"text-align: right;\">\n",
       "      <th></th>\n",
       "      <th>Freq</th>\n",
       "      <th>Perc</th>\n",
       "    </tr>\n",
       "    <tr>\n",
       "      <th>setor</th>\n",
       "      <th></th>\n",
       "      <th></th>\n",
       "    </tr>\n",
       "  </thead>\n",
       "  <tbody>\n",
       "    <tr>\n",
       "      <th>SEMANA - TARDE - C.CIRURGICO</th>\n",
       "      <td>41</td>\n",
       "      <td>53.947368</td>\n",
       "    </tr>\n",
       "    <tr>\n",
       "      <th>SEMANA - 6HS</th>\n",
       "      <td>21</td>\n",
       "      <td>27.631579</td>\n",
       "    </tr>\n",
       "    <tr>\n",
       "      <th>SEMANA - MANHA - C.CIRURGICO</th>\n",
       "      <td>8</td>\n",
       "      <td>10.526316</td>\n",
       "    </tr>\n",
       "    <tr>\n",
       "      <th>FDS - C.CIRURGICO ROTINA</th>\n",
       "      <td>4</td>\n",
       "      <td>5.263158</td>\n",
       "    </tr>\n",
       "    <tr>\n",
       "      <th>FDS - SAIDA</th>\n",
       "      <td>1</td>\n",
       "      <td>1.315789</td>\n",
       "    </tr>\n",
       "    <tr>\n",
       "      <th>FDS - 6HS</th>\n",
       "      <td>1</td>\n",
       "      <td>1.315789</td>\n",
       "    </tr>\n",
       "  </tbody>\n",
       "</table>\n",
       "</div>"
      ],
      "text/plain": [
       "                              Freq       Perc\n",
       "setor                                        \n",
       "SEMANA - TARDE - C.CIRURGICO    41  53.947368\n",
       "SEMANA - 6HS                    21  27.631579\n",
       "SEMANA - MANHA - C.CIRURGICO     8  10.526316\n",
       "FDS - C.CIRURGICO ROTINA         4   5.263158\n",
       "FDS - SAIDA                      1   1.315789\n",
       "FDS - 6HS                        1   1.315789"
      ]
     },
     "metadata": {},
     "output_type": "display_data"
    }
   ],
   "source": [
    "df['setor'] = np.nan\n",
    "\n",
    "for i in range(0, len(df)):\n",
    "    if df['sem_ou_fds'][i] == 'semana':\n",
    "        if df['PERIODO'][i] == '6h':\n",
    "            df['setor'][i] = 'SEMANA - 6HS'\n",
    "        elif df['PERIODO'][i] == 'manha':\n",
    "            df['setor'][i] = 'SEMANA - MANHA - C.CIRURGICO'\n",
    "        elif df['PERIODO'][i] == 'tarde':\n",
    "            df['setor'][i] = 'SEMANA - TARDE - C.CIRURGICO'\n",
    "        elif df['PERIODO'][i] == 'noturno saida':\n",
    "            df['setor'][i] = 'SEMANA - NOTURNO - SAIDA'\n",
    "        else:\n",
    "            df['setor'][i] = 'VERIFICAR'\n",
    "\n",
    "    elif df['sem_ou_fds'][i] == 'fds': \n",
    "        if df['PERIODO'][i] == '6h':\n",
    "            df['setor'][i] = 'FDS - 6HS'\n",
    "        elif df['PERIODO'][i] == 'manha':\n",
    "            df['setor'][i] = 'FDS - C.CIRURGICO ROTINA'\n",
    "        elif df['PERIODO'][i] == 'tarde':\n",
    "            df['setor'][i] = 'FDS - SAIDA'\n",
    "        elif df['PERIODO'][i] == 'noturno saida':\n",
    "            df['setor'][i] = 'FDS - PLANTAO'\n",
    "        else:\n",
    "            df['setor'][i] = 'VERIFICAR'  \n",
    "\n",
    "    else:\n",
    "        df['setor'][i] = 'VERIFICAR'\n",
    "        \n",
    "df['setor'] = df['setor'].apply(lambda x: unidecode.unidecode(x.replace('  ',' ').upper().strip()))\n",
    "count_freq(df, 'setor')"
   ]
  },
  {
   "cell_type": "markdown",
   "id": "b9772ad3",
   "metadata": {},
   "source": [
    "# *****************************************"
   ]
  },
  {
   "cell_type": "markdown",
   "id": "9c143209",
   "metadata": {},
   "source": [
    "# Pareamento"
   ]
  },
  {
   "cell_type": "code",
   "execution_count": 36,
   "id": "cd5d587b",
   "metadata": {},
   "outputs": [
    {
     "name": "stdout",
     "output_type": "stream",
     "text": [
      "76\n",
      "189\n"
     ]
    }
   ],
   "source": [
    "print(len(df))\n",
    "print(len(df_prob))"
   ]
  },
  {
   "cell_type": "code",
   "execution_count": 37,
   "id": "4c8645b1",
   "metadata": {},
   "outputs": [
    {
     "data": {
      "text/html": [
       "<div>\n",
       "<style scoped>\n",
       "    .dataframe tbody tr th:only-of-type {\n",
       "        vertical-align: middle;\n",
       "    }\n",
       "\n",
       "    .dataframe tbody tr th {\n",
       "        vertical-align: top;\n",
       "    }\n",
       "\n",
       "    .dataframe thead th {\n",
       "        text-align: right;\n",
       "    }\n",
       "</style>\n",
       "<table border=\"1\" class=\"dataframe\">\n",
       "  <thead>\n",
       "    <tr style=\"text-align: right;\">\n",
       "      <th></th>\n",
       "      <th>controle</th>\n",
       "      <th>chat</th>\n",
       "      <th>dia</th>\n",
       "      <th>nome</th>\n",
       "      <th>mensagem</th>\n",
       "      <th>data</th>\n",
       "      <th>unidade</th>\n",
       "      <th>Q_unidades</th>\n",
       "      <th>controle2</th>\n",
       "      <th>extra</th>\n",
       "      <th>tipo</th>\n",
       "      <th>hora</th>\n",
       "      <th>sem_ou_fds</th>\n",
       "      <th>hora2</th>\n",
       "      <th>ENTRADA</th>\n",
       "      <th>SAIDA</th>\n",
       "      <th>PERIODO</th>\n",
       "      <th>periodo</th>\n",
       "      <th>DURAÇÃO</th>\n",
       "      <th>setor</th>\n",
       "    </tr>\n",
       "  </thead>\n",
       "  <tbody>\n",
       "  </tbody>\n",
       "</table>\n",
       "</div>"
      ],
      "text/plain": [
       "Empty DataFrame\n",
       "Columns: [controle, chat, dia, nome, mensagem, data, unidade, Q_unidades, controle2, extra, tipo, hora, sem_ou_fds, hora2, ENTRADA, SAIDA, PERIODO, periodo, DURAÇÃO, setor]\n",
       "Index: []"
      ]
     },
     "execution_count": 37,
     "metadata": {},
     "output_type": "execute_result"
    }
   ],
   "source": [
    "df_prob_pareado = pd.DataFrame(columns=df.columns)\n",
    "df_prob_pareado"
   ]
  },
  {
   "cell_type": "code",
   "execution_count": 38,
   "id": "0775f607",
   "metadata": {},
   "outputs": [
    {
     "name": "stdout",
     "output_type": "stream",
     "text": [
      "AMANDA KIYOKO SOUZA KOSSAKA | 06/07/2024 | ERRO\n",
      "AMANDA KIYOKO SOUZA KOSSAKA | 09/07/2024 | ERRO\n",
      "==================================================\n",
      "ANA CLARA MOURAO BARRETO | 10/07/2024 | ERRO\n",
      "==================================================\n",
      "ANDRE AUGUSTO BELLINI | 12/07/2024 | ERRO\n",
      "==================================================\n",
      "ANDRE DA COSTA AGUIAR VENTURA | 05/07/2024 | ERRO\n",
      "==================================================\n",
      "ANNA BEATRIZ ARANHA TREVISAN | 02/07/2024 | ERRO\n",
      "ANNA BEATRIZ ARANHA TREVISAN | 03/07/2024 | ERRO\n",
      "ANNA BEATRIZ ARANHA TREVISAN | 09/07/2024 | ERRO\n",
      "==================================================\n",
      "ARTHUR OLIVEIRA FACCHINI | 11/07/2024 | ERRO\n",
      "==================================================\n",
      "ARTHUR RODRIGUES TORRELIO | 03/07/2024 | ERRO\n",
      "==================================================\n",
      "AUGUSTO DE CASTRO SANTOS QUEIROZ | 08/07/2024 | ERRO\n",
      "==================================================\n",
      "BEATRIZ ANTIPOU DOS SANTOS | 15/07/2024 | ERRO\n",
      "==================================================\n",
      "BRIAN SOSSAI PACHECO | 08/07/2024 | ERRO\n",
      "==================================================\n",
      "BRUNA DAIBERT DANESIN | 05/07/2024 | ERRO\n",
      "==================================================\n",
      "CAIO TULIO DUARTE | 03/07/2024 | ERRO\n",
      "CAIO TULIO DUARTE | 10/07/2024 | ERRO\n",
      "==================================================\n",
      "CAMILA RESENDE DE PAULA | 11/07/2024 | ERRO\n",
      "==================================================\n",
      "DANIEL MASUZAKI WONG | 05/07/2024 | ERRO\n",
      "DANIEL MASUZAKI WONG | 12/07/2024 | ERRO\n",
      "==================================================\n",
      "EDUARDO ARBACHE BEZERRA | 09/07/2024\n",
      "==================================================\n",
      "ESTANRLEY BARCELOS PINTO | 11/07/2024 | ERRO\n",
      "==================================================\n",
      "FELIPE DE OLIVEIRA NUNES | 11/07/2024 | ERRO\n",
      "==================================================\n",
      "FERNANDO AKIRA KOGA | 05/07/2024 | ERRO\n",
      "FERNANDO AKIRA KOGA | 12/07/2024 | ERRO\n",
      "==================================================\n",
      "FERNANDO RIBEIRO SA | 03/07/2024 | ERRO\n",
      "FERNANDO RIBEIRO SA | 10/07/2024 | ERRO\n",
      "FERNANDO RIBEIRO SA | 12/07/2024 | ERRO\n",
      "==================================================\n",
      "FLAVIO HIDEKI OSHIKA | 04/07/2024 | ERRO\n",
      "==================================================\n",
      "GUILHERME DE ALMEIDA COSTA | 13/07/2024 | ERRO\n",
      "==================================================\n",
      "GUILHERME PETRY MARTINS PEREIRA | 09/07/2024 | ERRO\n",
      "==================================================\n",
      "ISABELA MATTARELLI SOUZA CARLI | 02/07/2024 | ERRO\n",
      "ISABELA MATTARELLI SOUZA CARLI | 09/07/2024 | ERRO\n",
      "==================================================\n",
      "LARISSA MAYUMI ONO | 04/07/2024 | ERRO\n",
      "LARISSA MAYUMI ONO | 11/07/2024 | ERRO\n",
      "==================================================\n",
      "LEANDRO MACHADO DEORCE | 06/07/2024 | ERRO\n",
      "==================================================\n",
      "LEONARDO BARBOSA SANTOS | 08/07/2024 | PARCIAL\n",
      "==================================================\n",
      "MARCELO FELIPE DE SOUZA BUTO | 15/07/2024 | ERRO\n",
      "==================================================\n",
      "MATHEUS VIANA LEMO | 15/07/2024 | ERRO\n",
      "==================================================\n",
      "MILTON OLAIO NETO | 11/07/2024 | ERRO\n",
      "==================================================\n",
      "MOABE GONCALVES DE OLIVEIRA | 01/07/2024 | ERRO\n",
      "==================================================\n",
      "NATALIA MAIA QUEIROZ | 12/07/2024 | ERRO\n",
      "==================================================\n",
      "NATAN SOARES SILVEIRA | 07/07/2024 | ERRO\n",
      "NATAN SOARES SILVEIRA | 15/07/2024 | ERRO\n",
      "==================================================\n",
      "NELIANE GUEDES PRETTI | 04/07/2024 | ERRO\n",
      "NELIANE GUEDES PRETTI | 11/07/2024 | ERRO\n",
      "==================================================\n",
      "PALOMA KIYOMI TAGUCHI | 02/07/2024 | ERRO\n",
      "PALOMA KIYOMI TAGUCHI | 03/07/2024 | ERRO\n",
      "PALOMA KIYOMI TAGUCHI | 09/07/2024 | ERRO\n",
      "PALOMA KIYOMI TAGUCHI | 10/07/2024 | ERRO\n",
      "==================================================\n",
      "PEDRO AUGUSTO TAVARES DALL AGLIO | 01/07/2024 | ERRO\n",
      "==================================================\n",
      "PEDRO HENRIQUE DINIZ BOTELHO | 10/07/2024 | ERRO\n",
      "==================================================\n",
      "PEDRO VICTOR MASSAROTO E SILVA | 02/07/2024 | ERRO\n",
      "==================================================\n",
      "RAFAEL QUEIROZ ARAUJO | 04/07/2024 | ERRO\n",
      "RAFAEL QUEIROZ ARAUJO | 13/07/2024 | ERRO\n",
      "==================================================\n",
      "RAFAEL TADEU MARQUES | 10/07/2024 | ERRO\n",
      "==================================================\n",
      "RAFHAEL SILVA LEAL | 11/07/2024 | ERRO\n",
      "==================================================\n",
      "RAPHAEL MOURA BRITTO | 08/07/2024 | ERRO\n",
      "==================================================\n",
      "RENATA TOGEIRO BASTOS GODOY DE FARIA | 04/07/2024 | ERRO\n",
      "RENATA TOGEIRO BASTOS GODOY DE FARIA | 11/07/2024 | ERRO\n",
      "==================================================\n",
      "RICARDO IVO DE LIMA | 16/07/2024 | ERRO\n",
      "==================================================\n",
      "RODRIGO MARTINS PEREIRA | 08/07/2024 | ERRO\n",
      "==================================================\n",
      "ROMULO SPOLIDORIO | 08/07/2024 | ERRO\n",
      "==================================================\n",
      "SAULLO QUEIROZ SILVEIRA | 07/07/2024 | ERRO\n",
      "==================================================\n",
      "THALES LUVISOTTO NEDER | 05/07/2024 | ERRO\n",
      "THALES LUVISOTTO NEDER | 12/07/2024\n",
      "==================================================\n",
      "THIAGO SILVA PINTO | 01/07/2024 | ERRO\n",
      "THIAGO SILVA PINTO | 15/07/2024 | ERRO\n",
      "==================================================\n",
      "TURIBIO RODRIGUES FREIRE NETO | 12/07/2024 | ERRO\n",
      "==================================================\n",
      "VANESSA PACIULLO MAROSSI | 08/07/2024 | ERRO\n",
      "==================================================\n",
      "VITOR MACIEL DE SOUSA PINTO | 12/07/2024 | ERRO\n",
      "==================================================\n",
      "VITOR OLIVEIRA ANDRE | 02/07/2024 | PARCIAL\n",
      "VITOR OLIVEIRA ANDRE | 16/07/2024 | ERRO\n",
      "==================================================\n",
      "VIVIANNA BOVERIO GALZERANI | 05/07/2024 | ERRO\n",
      "VIVIANNA BOVERIO GALZERANI | 12/07/2024 | ERRO\n",
      "==================================================\n"
     ]
    }
   ],
   "source": [
    "count_ok = 0\n",
    "count_erro = 0\n",
    "\n",
    "for nome in sorted(df['nome'].unique()):\n",
    "    df_filter = df[df['nome'] == nome]\n",
    "    for data in sorted(df_filter['data'].unique()):\n",
    "        df_filter = df[(df['nome'] == nome) & (df['data'] == data)]\n",
    "\n",
    "        if len(df_filter) >= 2:\n",
    "            qtd_entrada = len(df_filter[df_filter['tipo'] == 'ENTRADA'])\n",
    "            qtd_saida = len(df_filter[df_filter['tipo'] == 'SAIDA'])\n",
    "\n",
    "            if qtd_entrada == qtd_saida:\n",
    "                print(nome, '|', data)\n",
    "                count_ok += 1\n",
    "        else:\n",
    "            # Procurar se o registro foi mandado com o erro:\n",
    "            df_prob_filter = df_prob[(df_prob['nome'] == nome) & (df_prob['data'] == data)]\n",
    "\n",
    "            # ERRO PARCIAL\n",
    "            if len(df_prob_filter) > 0: \n",
    "                print(nome, '|', data, '|', 'PARCIAL')\n",
    "                df_prob['controle'][df_prob_filter.index] = 'erro_parcial'\n",
    "                \n",
    "            # ERRO DE PERDA TOTAL\n",
    "            else: \n",
    "                print(nome, '|', data, '|', 'ERRO')\n",
    "                df_filter['controle'] = 'erro_total'\n",
    "                df_prob_pareado = pd.concat([df_prob_pareado, df_filter])\n",
    "\n",
    "            count_erro += 1\n",
    "    print('='*50)"
   ]
  },
  {
   "cell_type": "markdown",
   "id": "2bfb1b9e",
   "metadata": {},
   "source": [
    "# (0) Salvando problemas de entrada e saida"
   ]
  },
  {
   "cell_type": "code",
   "execution_count": 39,
   "id": "34f7af2c",
   "metadata": {},
   "outputs": [
    {
     "name": "stdout",
     "output_type": "stream",
     "text": [
      "2\n",
      "72\n"
     ]
    }
   ],
   "source": [
    "print(count_ok)\n",
    "print(count_erro)"
   ]
  },
  {
   "cell_type": "code",
   "execution_count": 40,
   "id": "d218d89c",
   "metadata": {},
   "outputs": [
    {
     "name": "stdout",
     "output_type": "stream",
     "text": [
      "70\n"
     ]
    }
   ],
   "source": [
    "salvando_nome_arquivo('df_entrada_saida.xlsx', df_prob_pareado)"
   ]
  },
  {
   "cell_type": "markdown",
   "id": "0f8219ec",
   "metadata": {},
   "source": [
    "# Ultimos ajustes:"
   ]
  },
  {
   "cell_type": "code",
   "execution_count": 41,
   "id": "f8c20ab0",
   "metadata": {},
   "outputs": [],
   "source": [
    "df = df[['chat', 'dia', 'nome', 'mensagem', 'controle', 'data', 'unidade',\n",
    "       'extra', 'tipo', 'ENTRADA', 'SAIDA', 'DURAÇÃO', 'PERIODO','periodo',\n",
    "         'setor', 'sem_ou_fds']]"
   ]
  },
  {
   "cell_type": "markdown",
   "id": "402ca944",
   "metadata": {},
   "source": [
    "# ========================================="
   ]
  },
  {
   "cell_type": "markdown",
   "id": "cf0be69b",
   "metadata": {},
   "source": [
    "# Deslocados:"
   ]
  },
  {
   "cell_type": "code",
   "execution_count": 42,
   "id": "ff82b248",
   "metadata": {},
   "outputs": [
    {
     "data": {
      "text/html": [
       "<div>\n",
       "<style scoped>\n",
       "    .dataframe tbody tr th:only-of-type {\n",
       "        vertical-align: middle;\n",
       "    }\n",
       "\n",
       "    .dataframe tbody tr th {\n",
       "        vertical-align: top;\n",
       "    }\n",
       "\n",
       "    .dataframe thead th {\n",
       "        text-align: right;\n",
       "    }\n",
       "</style>\n",
       "<table border=\"1\" class=\"dataframe\">\n",
       "  <thead>\n",
       "    <tr style=\"text-align: right;\">\n",
       "      <th></th>\n",
       "      <th>Freq</th>\n",
       "      <th>Perc</th>\n",
       "    </tr>\n",
       "    <tr>\n",
       "      <th>controle</th>\n",
       "      <th></th>\n",
       "      <th></th>\n",
       "    </tr>\n",
       "  </thead>\n",
       "  <tbody>\n",
       "    <tr>\n",
       "      <th>DESLOCADO 6H</th>\n",
       "      <td>3</td>\n",
       "      <td>60.0</td>\n",
       "    </tr>\n",
       "    <tr>\n",
       "      <th>DESLOCADO</th>\n",
       "      <td>2</td>\n",
       "      <td>40.0</td>\n",
       "    </tr>\n",
       "  </tbody>\n",
       "</table>\n",
       "</div>"
      ],
      "text/plain": [
       "              Freq  Perc\n",
       "controle                \n",
       "DESLOCADO 6H     3  60.0\n",
       "DESLOCADO        2  40.0"
      ]
     },
     "metadata": {},
     "output_type": "display_data"
    }
   ],
   "source": [
    "df['controle'][(df['PERIODO'] == '6h') & (df['controle'] == 'DESLOCADO')] = 'DESLOCADO 6H'\n",
    "count_freq(df, 'controle')"
   ]
  },
  {
   "cell_type": "code",
   "execution_count": 43,
   "id": "53fdc22e",
   "metadata": {},
   "outputs": [
    {
     "data": {
      "text/html": [
       "<div>\n",
       "<style scoped>\n",
       "    .dataframe tbody tr th:only-of-type {\n",
       "        vertical-align: middle;\n",
       "    }\n",
       "\n",
       "    .dataframe tbody tr th {\n",
       "        vertical-align: top;\n",
       "    }\n",
       "\n",
       "    .dataframe thead th {\n",
       "        text-align: right;\n",
       "    }\n",
       "</style>\n",
       "<table border=\"1\" class=\"dataframe\">\n",
       "  <thead>\n",
       "    <tr style=\"text-align: right;\">\n",
       "      <th></th>\n",
       "      <th>Freq</th>\n",
       "      <th>Perc</th>\n",
       "    </tr>\n",
       "    <tr>\n",
       "      <th>unidade</th>\n",
       "      <th></th>\n",
       "      <th></th>\n",
       "    </tr>\n",
       "  </thead>\n",
       "  <tbody>\n",
       "    <tr>\n",
       "      <th>JABAQUARA</th>\n",
       "      <td>16</td>\n",
       "      <td>21.052632</td>\n",
       "    </tr>\n",
       "    <tr>\n",
       "      <th>ITAIM</th>\n",
       "      <td>13</td>\n",
       "      <td>17.105263</td>\n",
       "    </tr>\n",
       "    <tr>\n",
       "      <th>VILLA</th>\n",
       "      <td>12</td>\n",
       "      <td>15.789474</td>\n",
       "    </tr>\n",
       "    <tr>\n",
       "      <th>OSASCO</th>\n",
       "      <td>11</td>\n",
       "      <td>14.473684</td>\n",
       "    </tr>\n",
       "    <tr>\n",
       "      <th>MORUMBI</th>\n",
       "      <td>8</td>\n",
       "      <td>10.526316</td>\n",
       "    </tr>\n",
       "    <tr>\n",
       "      <th>ANALIA</th>\n",
       "      <td>7</td>\n",
       "      <td>9.210526</td>\n",
       "    </tr>\n",
       "    <tr>\n",
       "      <th>VNS</th>\n",
       "      <td>7</td>\n",
       "      <td>9.210526</td>\n",
       "    </tr>\n",
       "    <tr>\n",
       "      <th>SANTA ISABEL</th>\n",
       "      <td>1</td>\n",
       "      <td>1.315789</td>\n",
       "    </tr>\n",
       "    <tr>\n",
       "      <th>CENTRAL DO TATUAPE</th>\n",
       "      <td>1</td>\n",
       "      <td>1.315789</td>\n",
       "    </tr>\n",
       "  </tbody>\n",
       "</table>\n",
       "</div>"
      ],
      "text/plain": [
       "                    Freq       Perc\n",
       "unidade                            \n",
       "JABAQUARA             16  21.052632\n",
       "ITAIM                 13  17.105263\n",
       "VILLA                 12  15.789474\n",
       "OSASCO                11  14.473684\n",
       "MORUMBI                8  10.526316\n",
       "ANALIA                 7   9.210526\n",
       "VNS                    7   9.210526\n",
       "SANTA ISABEL           1   1.315789\n",
       "CENTRAL DO TATUAPE     1   1.315789"
      ]
     },
     "metadata": {},
     "output_type": "display_data"
    }
   ],
   "source": [
    "df['unidade2'] = df['unidade']\n",
    "\n",
    "for i in range(0, len(df)):\n",
    "    if isinstance(df.loc[i, 'unidade'], list):\n",
    "        df['unidade'][i] = df['unidade'][i][0]\n",
    "\n",
    "df['unidade'][df['unidade'] == 'VILA'] = 'VILLA'\n",
    "df['unidade'][df['unidade'] == 'JABA'] = 'JABAQUARA'\n",
    "df['unidade'][df['unidade'] == 'SANTA'] = 'SANTA ISABEL'\n",
    "\n",
    "sorted(df['unidade'].unique())\n",
    "count_freq(df, 'unidade')"
   ]
  },
  {
   "cell_type": "markdown",
   "id": "1bc257aa",
   "metadata": {},
   "source": [
    "# (1) Salvando tudo: gabs & giov"
   ]
  },
  {
   "cell_type": "code",
   "execution_count": 44,
   "id": "76d06d69",
   "metadata": {},
   "outputs": [
    {
     "name": "stdout",
     "output_type": "stream",
     "text": [
      "76\n",
      ".\n",
      "189\n"
     ]
    }
   ],
   "source": [
    "salvando_nome_arquivo('df_gabs.xlsx', df)\n",
    "print('.')\n",
    "salvando_nome_arquivo('df_giov.xlsx', df_prob)"
   ]
  },
  {
   "cell_type": "markdown",
   "id": "92f95d38",
   "metadata": {},
   "source": [
    "# ========================================="
   ]
  },
  {
   "cell_type": "markdown",
   "id": "2166a4c7",
   "metadata": {},
   "source": [
    "# Dispensados:"
   ]
  },
  {
   "cell_type": "code",
   "execution_count": 45,
   "id": "7305f050",
   "metadata": {},
   "outputs": [
    {
     "name": "stdout",
     "output_type": "stream",
     "text": [
      "189\n"
     ]
    },
    {
     "data": {
      "text/html": [
       "<div>\n",
       "<style scoped>\n",
       "    .dataframe tbody tr th:only-of-type {\n",
       "        vertical-align: middle;\n",
       "    }\n",
       "\n",
       "    .dataframe tbody tr th {\n",
       "        vertical-align: top;\n",
       "    }\n",
       "\n",
       "    .dataframe thead th {\n",
       "        text-align: right;\n",
       "    }\n",
       "</style>\n",
       "<table border=\"1\" class=\"dataframe\">\n",
       "  <thead>\n",
       "    <tr style=\"text-align: right;\">\n",
       "      <th></th>\n",
       "      <th>chat</th>\n",
       "      <th>dia</th>\n",
       "      <th>nome</th>\n",
       "      <th>mensagem</th>\n",
       "    </tr>\n",
       "  </thead>\n",
       "  <tbody>\n",
       "    <tr>\n",
       "      <th>170</th>\n",
       "      <td>[05/07/2024 20:06:57] Beatriz Antipou dos Sant...</td>\n",
       "      <td>05/07/2024</td>\n",
       "      <td>BEATRIZ ANTIPOU DOS SANTOS</td>\n",
       "      <td>05/07 -  VILLA  - ANTIPOU -  SAÍDA 18:40</td>\n",
       "    </tr>\n",
       "    <tr>\n",
       "      <th>10</th>\n",
       "      <td>[10/07/2024 08:44:04] Leonardo Barbosa Santos:...</td>\n",
       "      <td>10/07/2024</td>\n",
       "      <td>LEONARDO BARBOSA SANTOS</td>\n",
       "      <td>10/07 HCT L.SANTOS ENTRADA 7:00  ( PLANTÃO )</td>\n",
       "    </tr>\n",
       "    <tr>\n",
       "      <th>142</th>\n",
       "      <td>[02/07/2024 06:49:39] Fernanda Teles Ribeiro: ...</td>\n",
       "      <td>02/07/2024</td>\n",
       "      <td>FERNANDA TELES RIBEIRO</td>\n",
       "      <td>02/07 ITAIM  -  FERNANDA ENTRADA 06H</td>\n",
       "    </tr>\n",
       "  </tbody>\n",
       "</table>\n",
       "</div>"
      ],
      "text/plain": [
       "                                                  chat         dia  \\\n",
       "170  [05/07/2024 20:06:57] Beatriz Antipou dos Sant...  05/07/2024   \n",
       "10   [10/07/2024 08:44:04] Leonardo Barbosa Santos:...  10/07/2024   \n",
       "142  [02/07/2024 06:49:39] Fernanda Teles Ribeiro: ...  02/07/2024   \n",
       "\n",
       "                           nome                                       mensagem  \n",
       "170  BEATRIZ ANTIPOU DOS SANTOS       05/07 -  VILLA  - ANTIPOU -  SAÍDA 18:40  \n",
       "10      LEONARDO BARBOSA SANTOS  10/07 HCT L.SANTOS ENTRADA 7:00  ( PLANTÃO )   \n",
       "142      FERNANDA TELES RIBEIRO           02/07 ITAIM  -  FERNANDA ENTRADA 06H  "
      ]
     },
     "execution_count": 45,
     "metadata": {},
     "output_type": "execute_result"
    }
   ],
   "source": [
    "df = pd.read_excel('df_giov.xlsx')[['chat','dia','nome','mensagem']]\n",
    "df = df.drop_duplicates(subset=['chat'])\n",
    "df = df.sort_values(['nome', 'dia'])\n",
    "print(len(df))\n",
    "df.sample(3)"
   ]
  },
  {
   "cell_type": "code",
   "execution_count": 46,
   "id": "83fe7a22",
   "metadata": {},
   "outputs": [
    {
     "name": "stdout",
     "output_type": "stream",
     "text": [
      "unidades probs: 186\n",
      "unidade ok: 3\n"
     ]
    }
   ],
   "source": [
    "#RETIRANDO REGISTROS DE DISTANCIA E SAIDAS POR QUESTÃO DE SAUDE OU DISPENSA\n",
    "\n",
    "df['controle'] = np.nan\n",
    "\n",
    "#preparando para reconhecer corretamente\n",
    "\n",
    "for i in range(0, len(df)):\n",
    "    mensagem = unidecode.unidecode(df['mensagem'][i].upper())\n",
    "    observacoes = re.findall(r'DISPENSADO|SAUDE|DISPENSADA', mensagem)\n",
    "    quantidade_observacoes = len(observacoes)\n",
    "    \n",
    "    if quantidade_observacoes == 0:\n",
    "        df['controle'][i] = 'PROB'\n",
    "        \n",
    "df['controle'].value_counts() \n",
    "\n",
    "#salvando\n",
    "df_prob = df[df['controle'] == 'PROB']\n",
    "df_prob.reset_index(drop=True, inplace=True)\n",
    "print(\"unidades probs:\", len(df_prob))\n",
    "\n",
    "df = df[df['controle'] != 'PROB']\n",
    "df.reset_index(drop=True, inplace=True)\n",
    "print(\"unidade ok:\", len(df)) "
   ]
  },
  {
   "cell_type": "code",
   "execution_count": 47,
   "id": "1d650df8",
   "metadata": {},
   "outputs": [
    {
     "name": "stdout",
     "output_type": "stream",
     "text": [
      "data probs: 186\n",
      "datas ok: 3\n"
     ]
    },
    {
     "data": {
      "text/plain": [
       "['01/07/2024', '08/07/2024', '13/07/2024']"
      ]
     },
     "execution_count": 47,
     "metadata": {},
     "output_type": "execute_result"
    }
   ],
   "source": [
    "#DATA DO PLANTÃO\n",
    "df['controle'] = ''\n",
    "df['data'] = ''\n",
    "\n",
    "for i in range(0, len(df)):\n",
    "    lista_datas = re.findall(r'[0-9]{1,2}\\/[0-9]{1,2}', df['mensagem'][i]) #regex dd/mm\n",
    "    quantidade_itens = len(lista_datas)\n",
    "    \n",
    "    if quantidade_itens == 1: #capturar apenas registros com uma data apenas\n",
    "        df['data'][i] = lista_datas[0]\n",
    "        df['controle'][i] = 'NORM'\n",
    "    else: #restante com nenhuma ou mais de uma data\n",
    "        df['controle'][i] = 'PROB'\n",
    "\n",
    "#salvando\n",
    "df_prob = pd.concat([df_prob, df[df['controle'] != 'NORM']])\n",
    "df_prob.reset_index(drop=True, inplace=True)\n",
    "print(\"data probs:\", len(df_prob))\n",
    "\n",
    "df = df[df['controle'] != 'PROB']\n",
    "df.reset_index(drop=True, inplace=True)\n",
    "print(\"datas ok:\", len(df)) \n",
    "\n",
    "df['data'] = df['data']+\"/2024\"\n",
    "sorted(df['data'].unique())"
   ]
  },
  {
   "cell_type": "code",
   "execution_count": 48,
   "id": "66d5067d",
   "metadata": {},
   "outputs": [
    {
     "name": "stdout",
     "output_type": "stream",
     "text": [
      "controle\n",
      "PROB    2\n",
      "OK      1\n",
      "Name: count, dtype: int64\n",
      "probs: 188\n",
      "ok: 1\n"
     ]
    }
   ],
   "source": [
    "#retirando a data da mensagem para não atrapalhar no reconhecimento de hora\n",
    "df['hora'] = ''\n",
    "\n",
    "for i in range(0, len(df)):\n",
    "    df['hora'][i] = df['mensagem'][i].replace(df['data'][i], '').strip() #substituindo a data por vazio\n",
    "    \n",
    "#substituindo \"h\" por \":\" para capturar horarios 11h22\n",
    "df['hora'] = df['hora'].apply(lambda x: x.upper().replace(\"H\", \":\"))\n",
    "\n",
    "#Retirando aqueles que contem horas no registro da mensagem\n",
    "for i in range(0, len(df)):\n",
    "    mensagem = df['hora'][i]\n",
    "    horas = re.findall(r'[0-9]{1,2}:[0-9]{1,2}', mensagem) #capturando horas HH:mm\n",
    "    quantidade_horas = len(horas)\n",
    "    \n",
    "    if quantidade_horas >= 1: #capturando apenas com uma horas escrita\n",
    "        df['hora'][i] = horas[0]\n",
    "        df['controle'][i] = 'PROB'\n",
    "    else: #restante com nenhuma ou mais horas (geralmente pq digitou a hora de entrada e saida {informação inutil})\n",
    "        df['hora'][i] = ''\n",
    "        df['controle'][i] = 'OK'\n",
    "        \n",
    "print(df['controle'].value_counts())\n",
    "\n",
    "#salvando\n",
    "df_prob = pd.concat([df_prob, df[df['controle'] != 'OK']])\n",
    "df_prob.reset_index(drop=True, inplace=True)\n",
    "print(\"probs:\", len(df_prob))\n",
    "\n",
    "df = df[df['controle'] == 'OK']\n",
    "df.reset_index(drop=True, inplace=True)\n",
    "print(\"ok:\", len(df)) "
   ]
  },
  {
   "cell_type": "code",
   "execution_count": 49,
   "id": "2311356e",
   "metadata": {},
   "outputs": [
    {
     "name": "stdout",
     "output_type": "stream",
     "text": [
      "188\n",
      "1\n"
     ]
    }
   ],
   "source": [
    "print(len(df_prob))\n",
    "print(len(df))"
   ]
  },
  {
   "cell_type": "markdown",
   "id": "38b90283",
   "metadata": {},
   "source": [
    "# (2) Salvando tudo: giov & dispensados"
   ]
  },
  {
   "cell_type": "code",
   "execution_count": 50,
   "id": "a10491e9",
   "metadata": {},
   "outputs": [
    {
     "name": "stdout",
     "output_type": "stream",
     "text": [
      "188\n",
      ".\n",
      "1\n"
     ]
    }
   ],
   "source": [
    "df = df.drop_duplicates(subset=['chat'])\n",
    "\n",
    "os.remove(\"df_giov.xlsx\")\n",
    "salvando_nome_arquivo('df_giov.xlsx', df_prob)\n",
    "print('.')\n",
    "salvando_nome_arquivo('df_dispensados.xlsx', df)"
   ]
  },
  {
   "cell_type": "markdown",
   "id": "d848e6db",
   "metadata": {},
   "source": [
    "# ==========================================="
   ]
  },
  {
   "cell_type": "markdown",
   "id": "21c1bbfb",
   "metadata": {},
   "source": [
    "# Ultima Contagem"
   ]
  },
  {
   "cell_type": "code",
   "execution_count": 51,
   "id": "ea80dba5-3a39-4c58-ada7-386a335015e5",
   "metadata": {},
   "outputs": [
    {
     "name": "stdout",
     "output_type": "stream",
     "text": [
      "3121\n",
      ".\n",
      "1\n",
      ".\n",
      "76\n",
      ".\n",
      "188\n"
     ]
    }
   ],
   "source": [
    "print(len(pd.DataFrame({'chat': read_file('_chat.txt') })))\n",
    "print('.')\n",
    "print(len(pd.read_excel('df_dispensados.xlsx')))\n",
    "print('.')\n",
    "print(len(pd.read_excel('df_gabs.xlsx')))\n",
    "print('.')\n",
    "print(len(pd.read_excel('df_giov.xlsx')))"
   ]
  },
  {
   "cell_type": "code",
   "execution_count": null,
   "id": "972dd1a4-4da8-4133-bb29-5599ead0cdfc",
   "metadata": {},
   "outputs": [],
   "source": []
  },
  {
   "cell_type": "code",
   "execution_count": null,
   "id": "d02706c8-04c9-4445-9650-445df381b386",
   "metadata": {},
   "outputs": [],
   "source": []
  },
  {
   "cell_type": "code",
   "execution_count": null,
   "id": "9133e196-503f-4e96-b3b4-037331bc1378",
   "metadata": {},
   "outputs": [],
   "source": []
  },
  {
   "cell_type": "code",
   "execution_count": null,
   "id": "632005ba-48b4-4f6b-9e69-54ba967df45c",
   "metadata": {},
   "outputs": [],
   "source": []
  },
  {
   "cell_type": "code",
   "execution_count": null,
   "id": "3ddf5b52-1455-41b9-98d7-0b1019ee8fa8",
   "metadata": {},
   "outputs": [],
   "source": []
  },
  {
   "cell_type": "code",
   "execution_count": null,
   "id": "7d73f657-fd47-4054-98d0-831a73c01b22",
   "metadata": {},
   "outputs": [],
   "source": []
  },
  {
   "cell_type": "code",
   "execution_count": null,
   "id": "ec554210-0809-4c01-b465-dae85f1c10db",
   "metadata": {},
   "outputs": [],
   "source": []
  },
  {
   "cell_type": "code",
   "execution_count": null,
   "id": "5f7a5c34-ed0d-41cf-a49a-c79983c64034",
   "metadata": {},
   "outputs": [],
   "source": []
  },
  {
   "cell_type": "code",
   "execution_count": null,
   "id": "a27072ef-7325-4561-855b-0bd44fea1fc4",
   "metadata": {},
   "outputs": [],
   "source": []
  },
  {
   "cell_type": "code",
   "execution_count": null,
   "id": "a7240932-0a54-4235-99a7-73504b25f2d8",
   "metadata": {},
   "outputs": [],
   "source": []
  },
  {
   "cell_type": "code",
   "execution_count": null,
   "id": "7c61f3b9-c3c2-40c8-8936-050118c7296b",
   "metadata": {},
   "outputs": [],
   "source": []
  },
  {
   "cell_type": "code",
   "execution_count": null,
   "id": "215dec1a-ef29-48b7-8017-ab5607f271f2",
   "metadata": {},
   "outputs": [],
   "source": []
  },
  {
   "cell_type": "code",
   "execution_count": null,
   "id": "467c3a58-3e62-4fbb-bd07-59b6e1c2d88a",
   "metadata": {},
   "outputs": [],
   "source": []
  },
  {
   "cell_type": "code",
   "execution_count": null,
   "id": "5ae9bcbc-9ce9-4495-adbd-0d4194f39ae2",
   "metadata": {},
   "outputs": [],
   "source": []
  }
 ],
 "metadata": {
  "kernelspec": {
   "display_name": "Python 3 (ipykernel)",
   "language": "python",
   "name": "python3"
  },
  "language_info": {
   "codemirror_mode": {
    "name": "ipython",
    "version": 3
   },
   "file_extension": ".py",
   "mimetype": "text/x-python",
   "name": "python",
   "nbconvert_exporter": "python",
   "pygments_lexer": "ipython3",
   "version": "3.11.7"
  }
 },
 "nbformat": 4,
 "nbformat_minor": 5
}
