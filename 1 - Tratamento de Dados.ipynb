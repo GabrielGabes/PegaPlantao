{
 "cells": [
  {
   "cell_type": "code",
   "execution_count": 1,
   "id": "f8b6974e",
   "metadata": {},
   "outputs": [],
   "source": [
    "#Definindo finais de semana\n",
    "mes = \"05\"\n",
    "lista_fds = ['04','05','11','12','18','19','25','26']"
   ]
  },
  {
   "cell_type": "code",
   "execution_count": 2,
   "id": "d2fe182d-1183-4c4c-a4a5-83e461f11766",
   "metadata": {},
   "outputs": [],
   "source": [
    "# Manipulação e Tratamento de dados\n",
    "import openpyxl\n",
    "import pandas as pd\n",
    "import numpy as np\n",
    "from numpy import NaN\n",
    "\n",
    "#ignorando Warning inuteis\n",
    "import warnings \n",
    "from pandas.errors import SettingWithCopyWarning\n",
    "warnings.simplefilter(action=\"ignore\", category=SettingWithCopyWarning)\n",
    "warnings.filterwarnings(action='ignore', category=FutureWarning)\n",
    "warnings.simplefilter(action='ignore', category=UserWarning)\n",
    "\n",
    "#definindo quantidade de linhas e colunas visiveis\n",
    "pd.set_option('display.max_rows', 500)\n",
    "pd.set_option('display.max_columns', 500)\n",
    "\n",
    "# Manipulação de Strings\n",
    "import unidecode # => unidecode(string)\n",
    "import re # Regex\n",
    "\n",
    "# Repositorio - Diretorio\n",
    "import os\n",
    "import shutil"
   ]
  },
  {
   "cell_type": "code",
   "execution_count": 3,
   "id": "49ac7f28",
   "metadata": {},
   "outputs": [],
   "source": [
    "#######################-FUNÇÕES\n",
    "def count_freq(data_frame, coluna):\n",
    "    freq = df[coluna].value_counts()\n",
    "    perc = df[coluna].value_counts(normalize = True)*100\n",
    "    tabela = pd.DataFrame({\"Freq\":freq, \"Perc\":perc})\n",
    "    return display(tabela)\n",
    "        \n",
    "def tabela_cont(linha, coluna):\n",
    "    a = df.groupby([linha, coluna]).size().unstack()\n",
    "    for i in a.columns:\n",
    "        a[i].fillna(0, inplace = True)\n",
    "        a[i] = a[i].apply(lambda x: int(x))\n",
    "    return a\n",
    "    print('='*100)\n",
    "\n",
    "def tabela_cont_percent(linha, coluna, opcao):\n",
    "    result = tabela_cont(linha, coluna)\n",
    "    if opcao == 'Linha':\n",
    "        return round(result.div(result.sum(axis=1), axis=0) * 100, 2)\n",
    "    elif opcao == 'Coluna':\n",
    "        return round(result.div(result.sum(), axis=1) * 100, 2)\n",
    "    else:\n",
    "        return 'Opção invalida'"
   ]
  },
  {
   "cell_type": "code",
   "execution_count": 4,
   "id": "aeccce21-e074-44e1-8fa3-f9372d90e0c8",
   "metadata": {},
   "outputs": [],
   "source": [
    "def salvando_nome_arquivo(nome_arquivo, dataframe):\n",
    "    if os.path.exists(nome_arquivo): #O nome_arquivo existe\n",
    "        df1 = pd.read_excel(nome_arquivo)\n",
    "        len_antigo = len(dataframe)\n",
    "        \n",
    "        dataframe = pd.concat([df1, dataframe]).reset_index(drop=True)\n",
    "        dataframe = dataframe.drop_duplicates(subset=['chat'])\n",
    "        \n",
    "        print(len(df1), \" += \", len_antigo, \"=>\", len(dataframe))\n",
    "        \n",
    "        dataframe.to_excel(nome_arquivo, index=False)\n",
    "    \n",
    "    else: #O nome_arquivo não existe\n",
    "        dataframe.to_excel(nome_arquivo, index=False)\n",
    "        print(len(dataframe)) "
   ]
  },
  {
   "cell_type": "code",
   "execution_count": 5,
   "id": "d5eaacb8",
   "metadata": {},
   "outputs": [],
   "source": [
    "def read_file(file_path):\n",
    "    # 1. Ler o arquivo txt\n",
    "    with open(file_path, \"r\", encoding=\"utf-8\") as file:\n",
    "        lines = file.readlines()\n",
    "    \n",
    "    # 2. Remover todas as linhas que contêm \"Mensagem apagada\"\n",
    "    lines = [line for line in lines if \"Mensagem apagada\" not in line]\n",
    "    \n",
    "    # 3. Corrigir as mensagens que estão em várias linhas para que fiquem em uma única linha\n",
    "    corrected_lines = []\n",
    "    current_message = \"\"\n",
    "    \n",
    "    for line in lines:\n",
    "        # Se a linha começa com o padrão de data e hora, ela é uma nova mensagem\n",
    "        if re.match(r\"^\\[\\d{2}/\\d{2}/\\d{4} \\d{2}:\\d{2}:\\d{2}\\]\", line):\n",
    "            if current_message:  # Se há uma mensagem anterior, adicione-a à lista\n",
    "                corrected_lines.append(current_message)\n",
    "            current_message = line.strip()  # Comece uma nova mensagem\n",
    "        else:\n",
    "            current_message += \" \" + line.strip()  # Adicione o conteúdo da linha atual à mensagem em progresso\n",
    "    \n",
    "    # Adiciona a última mensagem, se houver\n",
    "    if current_message:\n",
    "        corrected_lines.append(current_message)\n",
    "    \n",
    "    # Salvando arquivo txt\n",
    "    with open('processed.txt', \"w\", encoding=\"utf-8\") as file:\n",
    "        for line in corrected_lines:\n",
    "            file.write(line + \"\\n\")\n",
    "    \n",
    "    # Lendo arquivo txt e transformando em dataframe cada mensagem\n",
    "    with open('processed.txt', 'r', encoding='utf-8') as file:\n",
    "        content = file.read().splitlines()\n",
    "    \n",
    "    return content"
   ]
  },
  {
   "cell_type": "code",
   "execution_count": 6,
   "id": "1fee3337-c95d-4abd-908a-5d2523c80f8d",
   "metadata": {},
   "outputs": [
    {
     "name": "stdout",
     "output_type": "stream",
     "text": [
      "261\n"
     ]
    },
    {
     "data": {
      "text/html": [
       "<div>\n",
       "<style scoped>\n",
       "    .dataframe tbody tr th:only-of-type {\n",
       "        vertical-align: middle;\n",
       "    }\n",
       "\n",
       "    .dataframe tbody tr th {\n",
       "        vertical-align: top;\n",
       "    }\n",
       "\n",
       "    .dataframe thead th {\n",
       "        text-align: right;\n",
       "    }\n",
       "</style>\n",
       "<table border=\"1\" class=\"dataframe\">\n",
       "  <thead>\n",
       "    <tr style=\"text-align: right;\">\n",
       "      <th></th>\n",
       "      <th>controle</th>\n",
       "      <th>chat</th>\n",
       "    </tr>\n",
       "  </thead>\n",
       "  <tbody>\n",
       "    <tr>\n",
       "      <th>0</th>\n",
       "      <td>NaN</td>\n",
       "      <td>[29/05/2024 15:05:22] Thales Luvisotto Neder: ...</td>\n",
       "    </tr>\n",
       "    <tr>\n",
       "      <th>1</th>\n",
       "      <td>NaN</td>\n",
       "      <td>[29/05/2024 15:48:25] Juliano Moisés Tobal: 29...</td>\n",
       "    </tr>\n",
       "    <tr>\n",
       "      <th>2</th>\n",
       "      <td>NaN</td>\n",
       "      <td>[29/05/2024 15:52:53] Thiago Barreto Marques d...</td>\n",
       "    </tr>\n",
       "    <tr>\n",
       "      <th>3</th>\n",
       "      <td>NaN</td>\n",
       "      <td>[29/05/2024 16:00:28] Amanda Kiyoko Souza Koss...</td>\n",
       "    </tr>\n",
       "    <tr>\n",
       "      <th>4</th>\n",
       "      <td>NaN</td>\n",
       "      <td>[29/05/2024 16:11:50] Helena Araujo Damasceno:...</td>\n",
       "    </tr>\n",
       "  </tbody>\n",
       "</table>\n",
       "</div>"
      ],
      "text/plain": [
       "   controle                                               chat\n",
       "0       NaN  [29/05/2024 15:05:22] Thales Luvisotto Neder: ...\n",
       "1       NaN  [29/05/2024 15:48:25] Juliano Moisés Tobal: 29...\n",
       "2       NaN  [29/05/2024 15:52:53] Thiago Barreto Marques d...\n",
       "3       NaN  [29/05/2024 16:00:28] Amanda Kiyoko Souza Koss...\n",
       "4       NaN  [29/05/2024 16:11:50] Helena Araujo Damasceno:..."
      ]
     },
     "metadata": {},
     "output_type": "display_data"
    },
    {
     "data": {
      "text/html": [
       "<div>\n",
       "<style scoped>\n",
       "    .dataframe tbody tr th:only-of-type {\n",
       "        vertical-align: middle;\n",
       "    }\n",
       "\n",
       "    .dataframe tbody tr th {\n",
       "        vertical-align: top;\n",
       "    }\n",
       "\n",
       "    .dataframe thead th {\n",
       "        text-align: right;\n",
       "    }\n",
       "</style>\n",
       "<table border=\"1\" class=\"dataframe\">\n",
       "  <thead>\n",
       "    <tr style=\"text-align: right;\">\n",
       "      <th></th>\n",
       "      <th>controle</th>\n",
       "      <th>chat</th>\n",
       "    </tr>\n",
       "  </thead>\n",
       "  <tbody>\n",
       "  </tbody>\n",
       "</table>\n",
       "</div>"
      ],
      "text/plain": [
       "Empty DataFrame\n",
       "Columns: [controle, chat]\n",
       "Index: []"
      ]
     },
     "metadata": {},
     "output_type": "display_data"
    }
   ],
   "source": [
    "df = pd.DataFrame({'chat': read_file('_chat.txt') })\n",
    "#df['chat'] = df['chat'].apply(lambda x: x.replace('/05/2024, ','/05/2024 '))\n",
    "df['controle'] = np.nan\n",
    "df = df[['controle','chat']]\n",
    "df_prob = pd.DataFrame(columns = ['controle','chat'])\n",
    "\n",
    "print(len(df))\n",
    "display(df.head())\n",
    "display(df_prob)"
   ]
  },
  {
   "cell_type": "code",
   "execution_count": 7,
   "id": "c3ae24a7-a641-498f-a5e9-5308e69d7c02",
   "metadata": {},
   "outputs": [],
   "source": [
    "def sample_prob(nivel):\n",
    "    '''\n",
    "    data = df_prob[df_prob['controle'] == nivel]\n",
    "    tamanho = len(data)\n",
    "    try:\n",
    "        if tamanho == 0:\n",
    "            data_exibir = str('0 itens do prob' + nivel)\n",
    "        if tamanho == 1:\n",
    "            data_exibir = data['mensagem'].sample(1)\n",
    "        if tamanho == 2:\n",
    "            data_exibir = data['mensagem'].sample(2)\n",
    "        if tamanho > 5:\n",
    "            data_exibir = data['mensagem'].sample(5)\n",
    "    except:\n",
    "        data_exibir = 'erro'\n",
    "    '''\n",
    "    return 'nada'"
   ]
  },
  {
   "cell_type": "markdown",
   "id": "a934116b",
   "metadata": {},
   "source": [
    "# DIA QUE FOI ENVIADA A MENSAGEM"
   ]
  },
  {
   "cell_type": "code",
   "execution_count": 8,
   "id": "cc51b463",
   "metadata": {},
   "outputs": [
    {
     "name": "stdout",
     "output_type": "stream",
     "text": [
      "Quantidade de mensagens por dia:\n"
     ]
    },
    {
     "data": {
      "text/html": [
       "<div>\n",
       "<style scoped>\n",
       "    .dataframe tbody tr th:only-of-type {\n",
       "        vertical-align: middle;\n",
       "    }\n",
       "\n",
       "    .dataframe tbody tr th {\n",
       "        vertical-align: top;\n",
       "    }\n",
       "\n",
       "    .dataframe thead th {\n",
       "        text-align: right;\n",
       "    }\n",
       "</style>\n",
       "<table border=\"1\" class=\"dataframe\">\n",
       "  <thead>\n",
       "    <tr style=\"text-align: right;\">\n",
       "      <th></th>\n",
       "      <th>Freq</th>\n",
       "      <th>Perc</th>\n",
       "    </tr>\n",
       "    <tr>\n",
       "      <th>dia</th>\n",
       "      <th></th>\n",
       "      <th></th>\n",
       "    </tr>\n",
       "  </thead>\n",
       "  <tbody>\n",
       "    <tr>\n",
       "      <th>30/05/2024</th>\n",
       "      <td>117</td>\n",
       "      <td>44.827586</td>\n",
       "    </tr>\n",
       "    <tr>\n",
       "      <th>31/05/2024</th>\n",
       "      <td>89</td>\n",
       "      <td>34.099617</td>\n",
       "    </tr>\n",
       "    <tr>\n",
       "      <th>29/05/2024</th>\n",
       "      <td>55</td>\n",
       "      <td>21.072797</td>\n",
       "    </tr>\n",
       "  </tbody>\n",
       "</table>\n",
       "</div>"
      ],
      "text/plain": [
       "            Freq       Perc\n",
       "dia                        \n",
       "30/05/2024   117  44.827586\n",
       "31/05/2024    89  34.099617\n",
       "29/05/2024    55  21.072797"
      ]
     },
     "metadata": {},
     "output_type": "display_data"
    }
   ],
   "source": [
    "dia = []\n",
    "for i in range(0, len(df['chat'])):\n",
    "    dia.append(df['chat'][i][1:11]) #pegando exatamente aonde parte da data esta\n",
    "df['dia'] = dia\n",
    "#print(sorted(df['dia'].unique()))\n",
    "print(\"Quantidade de mensagens por dia:\")\n",
    "count_freq(df, 'dia')"
   ]
  },
  {
   "cell_type": "markdown",
   "id": "d6d3494c-074c-4afc-b263-bfae83929122",
   "metadata": {},
   "source": [
    "# NOME DO ANESTESISTA"
   ]
  },
  {
   "cell_type": "code",
   "execution_count": 9,
   "id": "3ff0d4ff",
   "metadata": {
    "scrolled": true
   },
   "outputs": [
    {
     "name": "stdout",
     "output_type": "stream",
     "text": [
      "Profissionais que mandaram mensagem:\n"
     ]
    },
    {
     "data": {
      "text/plain": [
       "['ALESSANDRE LUIZ BRAGA JUNIOR',\n",
       " 'ALEXANDRE BERNARDINO',\n",
       " 'AMANDA KIYOKO SOUZA KOSSAKA',\n",
       " 'ANA CLARA MOURAO BARRETO',\n",
       " 'ANA JUNG DOCKO',\n",
       " 'ANDRE DA COSTA AGUIAR VENTURA',\n",
       " 'ANDRE LUIS XAVIER FRANCO',\n",
       " 'ARTHUR OLIVEIRA FACCHINI',\n",
       " 'ARTHUR RODRIGUES TORRELIO',\n",
       " 'BEATRIZ ANTIPOU DOS SANTOS',\n",
       " 'BRIAN SOSSAI PACHECO',\n",
       " 'BRUCE YE MAN CHOW',\n",
       " 'BRUNO FERRAZ DE CAMPOS BARONE',\n",
       " 'BRUNO STORNIOLI TAGUCHI LEMOS',\n",
       " 'CAIO TULIO DUARTE',\n",
       " 'CAMILA CHIARANTANO HARRISON',\n",
       " 'CARLOS AUGUSTO TREVISAN',\n",
       " 'CARLOS EDUARDO CORREA GRILO',\n",
       " 'CARLOS EDUARDO GONDIM OLIVEIRA',\n",
       " 'CAROLINE FIRMINO LEMES DA SILVA',\n",
       " 'DANIEL MASUZAKI WONG',\n",
       " 'DANIELLEN LINS LOURENCO',\n",
       " 'DARLAN JUNIOR SCHNEIDER',\n",
       " 'DENIO LOPES DE ALMEIDA',\n",
       " 'DIOGO HENRIQUE PEREIRA MATTOS',\n",
       " 'EDUARDO ARBACHE BEZERRA',\n",
       " 'EMERSON DOMINGOS DA COSTA',\n",
       " 'ERICK OLIVEIRA LIMA GOMES',\n",
       " 'ESTANRLEY BARCELOS PINTO',\n",
       " 'EVERTON SIDNEY DA CONCEICAO CARVALHO',\n",
       " 'FABIANA BARBOSA BASTOS',\n",
       " 'FABIANA SOARES GAMA',\n",
       " 'FABIO YUJI SUGUITA',\n",
       " 'FELIPE DE OLIVEIRA NUNES',\n",
       " 'FERNANDO AKIRA KOGA',\n",
       " 'FERNANDO RIBEIRO SA',\n",
       " 'FLAVIO HIDEKI OSHIKA',\n",
       " 'FLAVIO MAIA CASTILHO',\n",
       " 'FRANCISCO ANTONIO ALVES BONATTO',\n",
       " 'GABRIELA DE FARIA BIZARRIA',\n",
       " 'GABRIELA MEIRELES LINHARES DE ARAUJO',\n",
       " 'GABRIELA SANTOS MENEZES',\n",
       " 'GABRIELA SOARES PIASSI',\n",
       " 'GABRIELLA GADELHA SARMENTO',\n",
       " 'GUILHERME PETRY MARTINS PEREIRA',\n",
       " 'GUILHERME SILVEIRA LOPES',\n",
       " 'GUSTAVO ALVARENGA BICALHO',\n",
       " 'GUSTAVO MARQUES DA SILVA',\n",
       " 'HEDICLEBER PESTANA SEVERINO',\n",
       " 'HELENA ARAUJO DAMASCENO',\n",
       " 'ICARO MOURA DE SOUSA',\n",
       " 'ISABELA MATTARELLI SOUZA CARLI',\n",
       " 'IVA BARBOSA SOARES',\n",
       " 'JOAO EVARISTO DE CASTRO BARRETO',\n",
       " 'JOSE CARLOS TUNA SCARPA',\n",
       " 'JOSE MARCOS VIEIRA DA SILVA',\n",
       " 'JULIANA HUSSEIN',\n",
       " 'JULIANO MOISES TOBAL',\n",
       " 'KAREN CAVICHINI ROSSETO',\n",
       " 'KAREN YUMI MIYASHIRO',\n",
       " 'KAROLINE BECKER PARABONI',\n",
       " 'KAWAN RAMIS RODRIGUES',\n",
       " 'LARISSA MAYUMI ONO',\n",
       " 'LEANDRO EDUARDO FRANCA',\n",
       " 'LEANDRO MACHADO DEORCE',\n",
       " 'LEANDRO OLIVEIRA MARTINS CORTES',\n",
       " 'LEONARDO DE PAULA SOUZA',\n",
       " 'LETICIA FERNANDES BORGES',\n",
       " 'LIVIA SCHENKEL THURLER TRAIRI',\n",
       " 'LIVIA VALVERDE FAJARDO',\n",
       " 'LUCAS SILVA MARTINS',\n",
       " 'LUCCAS VARELA GODOY',\n",
       " 'LUCIANO ANGELO RICHETTI',\n",
       " 'LUDMYLLA GOMES NEVES',\n",
       " 'LUIZ AUGUSTO XAVIER BRANDAO',\n",
       " 'LUIZ GUILHERME THOMAZ ZACHARIAS',\n",
       " 'MAIELY MARCOLIN',\n",
       " 'MAIRA LEITE BASILE',\n",
       " 'MANOEL DE SOUZA NETO',\n",
       " 'MARCELLA PELLICCIOTTI DE SOUZA',\n",
       " 'MARCELO DE OLIVEIRA PERES',\n",
       " 'MARCELO FELIPE DE SOUZA BUTO',\n",
       " 'MARCELO MAIA DA SILVEIRA',\n",
       " 'MARCIO IGHOR AZEVEDO SILVA DE MENDONCA MELANIA',\n",
       " 'MARCOS BASTOS DOS SANTOS',\n",
       " 'MARCOS ROGERIO PEREIRA MACHADO FILHO',\n",
       " 'MARCOS VINICIUS COSTA CARVALHO',\n",
       " 'MARIA TERESA SOUZA GOMES',\n",
       " 'MARIANA DARDENGO BORGES',\n",
       " 'MARINA BORGES CURRALO',\n",
       " 'MATHEUS DE ALENCAR ARRAES',\n",
       " 'MATHEUS VIANA LEMO',\n",
       " 'MAURICIO FARIA TETTI',\n",
       " 'MAXVILANO LIMA DE MACEDO',\n",
       " 'MONICA ROBLES GONCALVES',\n",
       " 'NATALIA MAIA QUEIROZ',\n",
       " 'NATALIA YUME HISSAYASU MENEZES',\n",
       " 'NATHALIA FANUCCI OLIVEIRA DI JORGE',\n",
       " 'NATHALIA SOARES RODRIGUES GOMES',\n",
       " 'NORIVAL SCANDELAI JUNIOR',\n",
       " 'ORLANDO DOMINGUES DE ARAUJO PONTES',\n",
       " 'PAOLA RODRIGUES OSHIRO',\n",
       " 'PATRICK ALEXANDER SAUER SCHUES',\n",
       " 'PAULA ANGELICA PINHA NEVES',\n",
       " 'PAULA LOPES AGAPITO DE FREITAS',\n",
       " 'PEDRO AUGUSTO TAVARES DALL AGLIO',\n",
       " 'PEDRO BELINTANI DE MAIO',\n",
       " 'PEDRO HENRIQUE LUCAS DE MORAES',\n",
       " 'PEDRO HENRIQUE MILHOMENS DA MOTA',\n",
       " 'PEDRO PAULO SILVA FARAH',\n",
       " 'PEDRO VICTOR MASSAROTO E SILVA',\n",
       " 'RAFAEL QUEIROZ ARAUJO',\n",
       " 'RAFAEL SOUZA FAVA NERSESSIAN',\n",
       " 'RAFAEL TADEU MARQUES',\n",
       " 'RAFHAEL SILVA LEAL',\n",
       " 'RAIZA LUNA PEIXOTO',\n",
       " 'RAPHAEL MOURA BRITTO',\n",
       " 'RENATA TOGEIRO BASTOS GODOY DE FARIA',\n",
       " 'RENATO DOS SANTOS BOREGA',\n",
       " 'RICARDO BARBOSA VIANA FILHO',\n",
       " 'RICARDO GIRALDELLI CARVALHO LIMA',\n",
       " 'RICARDO IVO DE LIMA',\n",
       " 'RICARDO KAWAURA',\n",
       " 'RODRIGO ACHUI HAGA',\n",
       " 'RODRIGO ANDRADE CARMELLO',\n",
       " 'RODRIGO GOMES MINAS NOVAS',\n",
       " 'RODRIGO MARTINS PEREIRA',\n",
       " 'RODRIGO MIYASHIRO NUNES DOS SANTOS',\n",
       " 'SABRINA DE SOUZA RAMOS',\n",
       " 'SILVIA ALINE DOS SANTOS ANDRADE',\n",
       " 'THAIS BOSI NONATO',\n",
       " 'THAIS CHAVES PINHEIRO',\n",
       " 'THALES LUVISOTTO NEDER',\n",
       " 'THASSIO CUNHA DE SANTANA',\n",
       " 'THAYSE FACHIN CORMANIQUE KAYSER',\n",
       " 'THIAGO BARRETO MARQUES DA SILVA',\n",
       " 'THIAGO DE OLIVEIRA HERINGER',\n",
       " 'THIAGO SILVA PINTO',\n",
       " 'VICTOR AUGUSTO DE SOUZA MORAES',\n",
       " 'VITOR LUIZ ASSUNCAO MARTINS',\n",
       " 'VIVIAN CRISTINE DOS ANJOS E SILVA',\n",
       " 'VIVIANNA BOVERIO GALZERANI',\n",
       " 'YOKO HAYASHI',\n",
       " 'YURI ANDERSON PACHECO DE LIMA']"
      ]
     },
     "execution_count": 9,
     "metadata": {},
     "output_type": "execute_result"
    }
   ],
   "source": [
    "df['nome'] = np.nan\n",
    "count = 0\n",
    "for i in range(0, len(df['chat'])):\n",
    "    loc = df['chat'][i].find(']')+1 #digito data\n",
    "    loc2 = df['chat'][i][loc+1:].find(':')+1 #digito nome\n",
    "    nome = df['chat'][i][loc+1:loc+loc2]\n",
    "    nome = nome.upper().strip().replace(\"  \", \" \")\n",
    "    nome = unidecode.unidecode(nome)\n",
    "    df['nome'][i] = nome\n",
    "    count += 1\n",
    "    #print(count, \"->\", unidecode.unidecode(chat[i][loc+1:loc+loc2].upper()))\n",
    "\n",
    "print(\"Profissionais que mandaram mensagem:\")\n",
    "sorted(df['nome'].unique())"
   ]
  },
  {
   "cell_type": "markdown",
   "id": "31be6f95-8c13-44b6-9d06-5967de4f8fce",
   "metadata": {},
   "source": [
    "# MENSAGENS ESCREVIDAS"
   ]
  },
  {
   "cell_type": "code",
   "execution_count": 10,
   "id": "68fe8eba",
   "metadata": {
    "scrolled": true
   },
   "outputs": [
    {
     "name": "stdout",
     "output_type": "stream",
     "text": [
      "Mensagens Enviadas:\n"
     ]
    },
    {
     "data": {
      "text/plain": [
       "174    31/05 JABAQUARA  -  ERICK ENTRADA 05:20\n",
       "141    30/05 MORUMBI  -  G.MENEZES SAÍDA 15:45\n",
       "187         31/05 SANTA  -  CLARA ENTRADA 6:00\n",
       "Name: mensagem, dtype: object"
      ]
     },
     "execution_count": 10,
     "metadata": {},
     "output_type": "execute_result"
    }
   ],
   "source": [
    "mensagem = []\n",
    "for i in range(0, len(df)):\n",
    "    digito_data = df['chat'][i].find(']') #aonde acaba a data\n",
    "    digito_nome = df['chat'][i][digito_data+1:].find(':')\n",
    "    mensagem_escrevida = df['chat'][i][digito_data+digito_nome+3:]\n",
    "    mensagem.append(mensagem_escrevida)\n",
    "    \n",
    "df['mensagem'] = mensagem\n",
    "df['mensagem'] = df['mensagem'].apply(lambda x: x.upper() )\n",
    "df['mensagem'] = df['mensagem'].apply(lambda x: x.replace('-',' - '))\n",
    "df['mensagem'] = df['mensagem'].apply(lambda x: x.replace('(',' ( '))\n",
    "df['mensagem'] = df['mensagem'].apply(lambda x: x.replace(')',' ) '))\n",
    "\n",
    "print('Mensagens Enviadas:')\n",
    "df['mensagem'].sample(3)"
   ]
  },
  {
   "cell_type": "markdown",
   "id": "a927f162-3124-4ef4-a3b5-dfaf15d13886",
   "metadata": {},
   "source": [
    "# DATA DO PLANTÃO"
   ]
  },
  {
   "cell_type": "code",
   "execution_count": 11,
   "id": "1744df23",
   "metadata": {
    "scrolled": true
   },
   "outputs": [
    {
     "name": "stdout",
     "output_type": "stream",
     "text": [
      "data probs: 1\n",
      "datas ok: 260\n"
     ]
    },
    {
     "data": {
      "text/html": [
       "<div>\n",
       "<style scoped>\n",
       "    .dataframe tbody tr th:only-of-type {\n",
       "        vertical-align: middle;\n",
       "    }\n",
       "\n",
       "    .dataframe tbody tr th {\n",
       "        vertical-align: top;\n",
       "    }\n",
       "\n",
       "    .dataframe thead th {\n",
       "        text-align: right;\n",
       "    }\n",
       "</style>\n",
       "<table border=\"1\" class=\"dataframe\">\n",
       "  <thead>\n",
       "    <tr style=\"text-align: right;\">\n",
       "      <th></th>\n",
       "      <th>Freq</th>\n",
       "      <th>Perc</th>\n",
       "    </tr>\n",
       "    <tr>\n",
       "      <th>data</th>\n",
       "      <th></th>\n",
       "      <th></th>\n",
       "    </tr>\n",
       "  </thead>\n",
       "  <tbody>\n",
       "    <tr>\n",
       "      <th>30/05</th>\n",
       "      <td>116</td>\n",
       "      <td>44.615385</td>\n",
       "    </tr>\n",
       "    <tr>\n",
       "      <th>31/05</th>\n",
       "      <td>85</td>\n",
       "      <td>32.692308</td>\n",
       "    </tr>\n",
       "    <tr>\n",
       "      <th>29/05</th>\n",
       "      <td>55</td>\n",
       "      <td>21.153846</td>\n",
       "    </tr>\n",
       "    <tr>\n",
       "      <th>29/06</th>\n",
       "      <td>1</td>\n",
       "      <td>0.384615</td>\n",
       "    </tr>\n",
       "    <tr>\n",
       "      <th>30/04</th>\n",
       "      <td>1</td>\n",
       "      <td>0.384615</td>\n",
       "    </tr>\n",
       "    <tr>\n",
       "      <th>26/05</th>\n",
       "      <td>1</td>\n",
       "      <td>0.384615</td>\n",
       "    </tr>\n",
       "    <tr>\n",
       "      <th>31/5</th>\n",
       "      <td>1</td>\n",
       "      <td>0.384615</td>\n",
       "    </tr>\n",
       "  </tbody>\n",
       "</table>\n",
       "</div>"
      ],
      "text/plain": [
       "       Freq       Perc\n",
       "data                  \n",
       "30/05   116  44.615385\n",
       "31/05    85  32.692308\n",
       "29/05    55  21.153846\n",
       "29/06     1   0.384615\n",
       "30/04     1   0.384615\n",
       "26/05     1   0.384615\n",
       "31/5      1   0.384615"
      ]
     },
     "metadata": {},
     "output_type": "display_data"
    }
   ],
   "source": [
    "df['data'] = np.nan\n",
    "\n",
    "for i in range(0, len(df)):\n",
    "    lista_datas = re.findall(r'[0-9]{1,2}\\/[0-9]{1,2}', df['mensagem'][i]) #regex dd/mm\n",
    "    quantidade_itens = len(lista_datas)\n",
    "    \n",
    "    if quantidade_itens == 1: #capturar apenas registros com uma data apenas\n",
    "        df['data'][i] = lista_datas[0]\n",
    "    else: #restante com nenhuma ou mais de uma data\n",
    "        df['controle'][i] = 'DATA_DO_PLANTÃO'\n",
    "\n",
    "#salvando\n",
    "df_prob = df[df['controle'] == 'DATA_DO_PLANTÃO']\n",
    "print(\"data probs:\", len(df_prob))\n",
    "sample_prob('DATA_DO_PLANTÃO')\n",
    "\n",
    "df = df[df['controle'] != 'DATA_DO_PLANTÃO']\n",
    "print(\"datas ok:\", len(df)) \n",
    "\n",
    "df_prob.reset_index(drop=True, inplace=True)\n",
    "df.reset_index(drop=True, inplace=True)\n",
    "\n",
    "count_freq(df, 'data')\n",
    "#print(\"Dias mensionados nas mensagens:\")\n",
    "#print(sorted(df['data'].unique()))"
   ]
  },
  {
   "cell_type": "markdown",
   "id": "9c3ee34f",
   "metadata": {},
   "source": [
    "# CAPTURANDO UNIDADE"
   ]
  },
  {
   "cell_type": "code",
   "execution_count": 12,
   "id": "31caa93b",
   "metadata": {
    "scrolled": true
   },
   "outputs": [
    {
     "name": "stdout",
     "output_type": "stream",
     "text": [
      "quantidades de unidades presentes nas mensagens:\n"
     ]
    },
    {
     "data": {
      "text/html": [
       "<div>\n",
       "<style scoped>\n",
       "    .dataframe tbody tr th:only-of-type {\n",
       "        vertical-align: middle;\n",
       "    }\n",
       "\n",
       "    .dataframe tbody tr th {\n",
       "        vertical-align: top;\n",
       "    }\n",
       "\n",
       "    .dataframe thead th {\n",
       "        text-align: right;\n",
       "    }\n",
       "</style>\n",
       "<table border=\"1\" class=\"dataframe\">\n",
       "  <thead>\n",
       "    <tr style=\"text-align: right;\">\n",
       "      <th></th>\n",
       "      <th>Freq</th>\n",
       "      <th>Perc</th>\n",
       "    </tr>\n",
       "    <tr>\n",
       "      <th>Q_unidades</th>\n",
       "      <th></th>\n",
       "      <th></th>\n",
       "    </tr>\n",
       "  </thead>\n",
       "  <tbody>\n",
       "    <tr>\n",
       "      <th>1</th>\n",
       "      <td>249</td>\n",
       "      <td>95.769231</td>\n",
       "    </tr>\n",
       "    <tr>\n",
       "      <th>2</th>\n",
       "      <td>11</td>\n",
       "      <td>4.230769</td>\n",
       "    </tr>\n",
       "  </tbody>\n",
       "</table>\n",
       "</div>"
      ],
      "text/plain": [
       "            Freq       Perc\n",
       "Q_unidades                 \n",
       "1            249  95.769231\n",
       "2             11   4.230769"
      ]
     },
     "metadata": {},
     "output_type": "display_data"
    },
    {
     "name": "stdout",
     "output_type": "stream",
     "text": [
      "unidades probs: 1\n"
     ]
    }
   ],
   "source": [
    "df['unidade'] = ''\n",
    "df['Q_unidades'] = ''\n",
    "\n",
    "for i in range(0, len(df)):\n",
    "    mensagem = unidecode.unidecode(df['mensagem'][i].upper())\n",
    "    \n",
    "    #Unidades escrita com a bunda\n",
    "    lista_avi = [\"CENTRAL\",\"AVICENA\",\"AVICENNA\",\"AVICCENNA\"]\n",
    "    for i_avi in lista_avi:\n",
    "        mensagem = mensagem.replace(i_avi, 'AVICCENA')\n",
    "        \n",
    "    mensagem = mensagem.replace('Sta Isabel', 'SANTA')\n",
    "    \n",
    "    lista_unidades = re.findall(r'ALPHA|ANALIA|AVICCENA|ITAIM|JABA|MATERNIDADE|MORUMBI|OSASCO|VILLA|VILA|VNS|SANTA', mensagem)\n",
    "    quantidade_unidades = len(lista_unidades)\n",
    "    \n",
    "    df['Q_unidades'][i] = quantidade_unidades\n",
    "    \n",
    "    if quantidade_unidades == 1: #capturando apenas com uma unidade\n",
    "        df['unidade'][i] = lista_unidades[0].replace('  ',' ').upper().strip()\n",
    "    elif quantidade_unidades > 1: #com mais de uma unidade\n",
    "        df['unidade'][i] = lista_unidades\n",
    "        df['controle'][i] = 'DESLOCADO'\n",
    "    else: #sem nenhuma unidade\n",
    "        df['controle'][i] = 'UNIDADES'\n",
    "        \n",
    "print(\"quantidades de unidades presentes nas mensagens:\")\n",
    "count_freq(df, 'Q_unidades')\n",
    "\n",
    "#salvando\n",
    "df_prob = pd.concat([df_prob, df[df['controle'] == 'UNIDADES']])\n",
    "print(\"unidades probs:\", len(df_prob))\n",
    "sample_prob('UNIDADES')\n",
    "\n",
    "df = df[df['controle'] != 'UNIDADES']\n",
    "\n",
    "df_prob.reset_index(drop=True, inplace=True)\n",
    "df.reset_index(drop=True, inplace=True)\n",
    "#print(\"unidade ok:\", len(df)) \n",
    "#print(\"unidade ok deslocado:\", len(df[df['controle'] == 'DESLOCADO']))"
   ]
  },
  {
   "cell_type": "markdown",
   "id": "11fa61ec-7d16-48dc-9845-093da6518c09",
   "metadata": {},
   "source": [
    "# RETIRANDO REGISTROS DE DESLOCADOS, DISTANCIA E SAIDAS POR QUESTÃO DE SAUDE"
   ]
  },
  {
   "cell_type": "code",
   "execution_count": 13,
   "id": "dd54cc92",
   "metadata": {},
   "outputs": [
    {
     "data": {
      "text/html": [
       "<div>\n",
       "<style scoped>\n",
       "    .dataframe tbody tr th:only-of-type {\n",
       "        vertical-align: middle;\n",
       "    }\n",
       "\n",
       "    .dataframe tbody tr th {\n",
       "        vertical-align: top;\n",
       "    }\n",
       "\n",
       "    .dataframe thead th {\n",
       "        text-align: right;\n",
       "    }\n",
       "</style>\n",
       "<table border=\"1\" class=\"dataframe\">\n",
       "  <thead>\n",
       "    <tr style=\"text-align: right;\">\n",
       "      <th></th>\n",
       "      <th>Freq</th>\n",
       "      <th>Perc</th>\n",
       "    </tr>\n",
       "    <tr>\n",
       "      <th>controle</th>\n",
       "      <th></th>\n",
       "      <th></th>\n",
       "    </tr>\n",
       "  </thead>\n",
       "  <tbody>\n",
       "    <tr>\n",
       "      <th>DESLOCADO</th>\n",
       "      <td>13</td>\n",
       "      <td>100.0</td>\n",
       "    </tr>\n",
       "  </tbody>\n",
       "</table>\n",
       "</div>"
      ],
      "text/plain": [
       "           Freq   Perc\n",
       "controle              \n",
       "DESLOCADO    13  100.0"
      ]
     },
     "metadata": {},
     "output_type": "display_data"
    }
   ],
   "source": [
    "#preparando para reconhecer corretamente\n",
    "df['mensagem'] = df['mensagem'].apply(lambda x: x.replace('DESLOCADA','DESLOCADO'))\n",
    "df['mensagem'] = df['mensagem'].apply(lambda x: x.replace('DESLOCAMENTO','DESLOCADO'))\n",
    "\n",
    "for i in range(0, len(df)):\n",
    "    mensagem = unidecode.unidecode(df['mensagem'][i].upper())\n",
    "    observacoes = re.findall(r'DESLOCADO', mensagem)\n",
    "    quantidade_observacoes = len(observacoes)\n",
    "    \n",
    "    if quantidade_observacoes > 0:\n",
    "        df['controle'][i] = 'DESLOCADO'\n",
    "        \n",
    "count_freq(df, 'controle')\n",
    "# OBS: Plantões de deslocado não são mais excluido"
   ]
  },
  {
   "cell_type": "code",
   "execution_count": 14,
   "id": "7d45f1ed",
   "metadata": {},
   "outputs": [
    {
     "data": {
      "text/html": [
       "<div>\n",
       "<style scoped>\n",
       "    .dataframe tbody tr th:only-of-type {\n",
       "        vertical-align: middle;\n",
       "    }\n",
       "\n",
       "    .dataframe tbody tr th {\n",
       "        vertical-align: top;\n",
       "    }\n",
       "\n",
       "    .dataframe thead th {\n",
       "        text-align: right;\n",
       "    }\n",
       "</style>\n",
       "<table border=\"1\" class=\"dataframe\">\n",
       "  <thead>\n",
       "    <tr style=\"text-align: right;\">\n",
       "      <th></th>\n",
       "      <th>Freq</th>\n",
       "      <th>Perc</th>\n",
       "    </tr>\n",
       "    <tr>\n",
       "      <th>controle</th>\n",
       "      <th></th>\n",
       "      <th></th>\n",
       "    </tr>\n",
       "  </thead>\n",
       "  <tbody>\n",
       "    <tr>\n",
       "      <th>DISP_SAUDE_DIST</th>\n",
       "      <td>34</td>\n",
       "      <td>73.913043</td>\n",
       "    </tr>\n",
       "    <tr>\n",
       "      <th>DESLOCADO</th>\n",
       "      <td>12</td>\n",
       "      <td>26.086957</td>\n",
       "    </tr>\n",
       "  </tbody>\n",
       "</table>\n",
       "</div>"
      ],
      "text/plain": [
       "                 Freq       Perc\n",
       "controle                        \n",
       "DISP_SAUDE_DIST    34  73.913043\n",
       "DESLOCADO          12  26.086957"
      ]
     },
     "metadata": {},
     "output_type": "display_data"
    },
    {
     "name": "stdout",
     "output_type": "stream",
     "text": [
      "unidades probs: 35\n",
      "unidade ok: 226\n",
      "204      31/05 VILLA  -  RENATO DISPENSADO\n",
      "258    31/05 JABAQUARA FACCHINI DISPENSADO\n",
      "Name: mensagem, dtype: object\n"
     ]
    }
   ],
   "source": [
    "#RETIRANDO REGISTROS DE DISTANCIA E SAIDAS POR QUESTÃO DE SAUDE OU DISPENSA\n",
    "df['controle2'] = np.nan\n",
    "df['mensagem'] = df['mensagem'].apply(lambda x: x.replace('DISPENSADA','DISPENSADO'))\n",
    "df['mensagem'] = df['mensagem'].apply(lambda x: x.replace('DISPENSA ','DISPENSADO'))\n",
    "\n",
    "for i in range(0, len(df)):\n",
    "    mensagem = unidecode.unidecode(df['mensagem'][i].upper())\n",
    "    observacoes = re.findall(r'DISPENSADO|SAUDE|DISTANCIA|D[0-9]', mensagem)\n",
    "    quantidade_observacoes = len(observacoes)\n",
    "\n",
    "    if quantidade_observacoes >= 1:\n",
    "        df['controle'][i] = 'DISP_SAUDE_DIST'\n",
    "        if quantidade_observacoes == 1:\n",
    "            df['controle2'][i] = observacoes[0]\n",
    "        \n",
    "count_freq(df, 'controle')\n",
    "\n",
    "#salvando\n",
    "df_prob = pd.concat([df_prob, df[df['controle'] == 'DISP_SAUDE_DIST']])\n",
    "print(\"unidades probs:\", len(df_prob))\n",
    "sample_prob('DISP_SAUDE_DIST')\n",
    "\n",
    "df = df[df['controle'] != 'DISP_SAUDE_DIST']\n",
    "print(\"unidade ok:\", len(df)) \n",
    "\n",
    "print(df_prob['mensagem'][df_prob['controle'] == 'DISP_SAUDE_DIST'].sample(2))\n",
    "\n",
    "df_prob.reset_index(drop=True, inplace=True)\n",
    "df.reset_index(drop=True, inplace=True)"
   ]
  },
  {
   "cell_type": "markdown",
   "id": "d730522d-c4dc-49d0-b5bd-bb02194796b6",
   "metadata": {},
   "source": [
    "# VERIFICANDO SE É EXTRA"
   ]
  },
  {
   "cell_type": "code",
   "execution_count": 15,
   "id": "308a99c2",
   "metadata": {},
   "outputs": [
    {
     "name": "stdout",
     "output_type": "stream",
     "text": [
      "Quantidade de registros Extra - Voluntario:\n"
     ]
    },
    {
     "data": {
      "text/html": [
       "<div>\n",
       "<style scoped>\n",
       "    .dataframe tbody tr th:only-of-type {\n",
       "        vertical-align: middle;\n",
       "    }\n",
       "\n",
       "    .dataframe tbody tr th {\n",
       "        vertical-align: top;\n",
       "    }\n",
       "\n",
       "    .dataframe thead th {\n",
       "        text-align: right;\n",
       "    }\n",
       "</style>\n",
       "<table border=\"1\" class=\"dataframe\">\n",
       "  <thead>\n",
       "    <tr style=\"text-align: right;\">\n",
       "      <th></th>\n",
       "      <th>Freq</th>\n",
       "      <th>Perc</th>\n",
       "    </tr>\n",
       "    <tr>\n",
       "      <th>extra</th>\n",
       "      <th></th>\n",
       "      <th></th>\n",
       "    </tr>\n",
       "  </thead>\n",
       "  <tbody>\n",
       "  </tbody>\n",
       "</table>\n",
       "</div>"
      ],
      "text/plain": [
       "Empty DataFrame\n",
       "Columns: [Freq, Perc]\n",
       "Index: []"
      ]
     },
     "metadata": {},
     "output_type": "display_data"
    }
   ],
   "source": [
    "df[\"extra\"] = np.nan\n",
    "\n",
    "for i in range(0, len(df)):\n",
    "    if 'EXTRA' in df['mensagem'][i].upper(): #se conter a palavra \"extra\"\n",
    "        df['extra'][i] = 'extra' #marque na coluna extra como extra\n",
    "        \n",
    "print(\"Quantidade de registros Extra - Voluntario:\")\n",
    "count_freq(df, 'extra')      "
   ]
  },
  {
   "cell_type": "markdown",
   "id": "51f897e8",
   "metadata": {},
   "source": [
    "# Tipo entrada e saida:"
   ]
  },
  {
   "cell_type": "code",
   "execution_count": 16,
   "id": "4207d9d3",
   "metadata": {},
   "outputs": [
    {
     "data": {
      "text/html": [
       "<div>\n",
       "<style scoped>\n",
       "    .dataframe tbody tr th:only-of-type {\n",
       "        vertical-align: middle;\n",
       "    }\n",
       "\n",
       "    .dataframe tbody tr th {\n",
       "        vertical-align: top;\n",
       "    }\n",
       "\n",
       "    .dataframe thead th {\n",
       "        text-align: right;\n",
       "    }\n",
       "</style>\n",
       "<table border=\"1\" class=\"dataframe\">\n",
       "  <thead>\n",
       "    <tr style=\"text-align: right;\">\n",
       "      <th></th>\n",
       "      <th>Freq</th>\n",
       "      <th>Perc</th>\n",
       "    </tr>\n",
       "    <tr>\n",
       "      <th>tipo</th>\n",
       "      <th></th>\n",
       "      <th></th>\n",
       "    </tr>\n",
       "  </thead>\n",
       "  <tbody>\n",
       "    <tr>\n",
       "      <th>SAIDA</th>\n",
       "      <td>161</td>\n",
       "      <td>71.555556</td>\n",
       "    </tr>\n",
       "    <tr>\n",
       "      <th>ENTRADA</th>\n",
       "      <td>64</td>\n",
       "      <td>28.444444</td>\n",
       "    </tr>\n",
       "  </tbody>\n",
       "</table>\n",
       "</div>"
      ],
      "text/plain": [
       "         Freq       Perc\n",
       "tipo                    \n",
       "SAIDA     161  71.555556\n",
       "ENTRADA    64  28.444444"
      ]
     },
     "metadata": {},
     "output_type": "display_data"
    },
    {
     "data": {
      "text/html": [
       "<div>\n",
       "<style scoped>\n",
       "    .dataframe tbody tr th:only-of-type {\n",
       "        vertical-align: middle;\n",
       "    }\n",
       "\n",
       "    .dataframe tbody tr th {\n",
       "        vertical-align: top;\n",
       "    }\n",
       "\n",
       "    .dataframe thead th {\n",
       "        text-align: right;\n",
       "    }\n",
       "</style>\n",
       "<table border=\"1\" class=\"dataframe\">\n",
       "  <thead>\n",
       "    <tr style=\"text-align: right;\">\n",
       "      <th></th>\n",
       "      <th>Freq</th>\n",
       "      <th>Perc</th>\n",
       "    </tr>\n",
       "    <tr>\n",
       "      <th>controle</th>\n",
       "      <th></th>\n",
       "      <th></th>\n",
       "    </tr>\n",
       "  </thead>\n",
       "  <tbody>\n",
       "    <tr>\n",
       "      <th>DESLOCADO</th>\n",
       "      <td>12</td>\n",
       "      <td>92.307692</td>\n",
       "    </tr>\n",
       "    <tr>\n",
       "      <th>SEM_ENTRADA_OU_SAIDA</th>\n",
       "      <td>1</td>\n",
       "      <td>7.692308</td>\n",
       "    </tr>\n",
       "  </tbody>\n",
       "</table>\n",
       "</div>"
      ],
      "text/plain": [
       "                      Freq       Perc\n",
       "controle                             \n",
       "DESLOCADO               12  92.307692\n",
       "SEM_ENTRADA_OU_SAIDA     1   7.692308"
      ]
     },
     "metadata": {},
     "output_type": "display_data"
    },
    {
     "name": "stdout",
     "output_type": "stream",
     "text": [
      "unidades probs: 36\n",
      "unidade ok: 225\n",
      "ok: 225\n"
     ]
    }
   ],
   "source": [
    "#Indentificando se é um registro de entrada ou saida\n",
    "df['tipo'] = np.nan\n",
    "\n",
    "for i in range(0, len(df)):\n",
    "    mensagem = unidecode.unidecode(df['mensagem'][i].upper())\n",
    "    entradas_saidas = re.findall(r'ENTRADA|SAIDA', mensagem)\n",
    "    quantidade_entradas_saidas = len(entradas_saidas)\n",
    "    \n",
    "    if quantidade_entradas_saidas != 1: #capturando apenas com uma informação escrita\n",
    "        df['controle'][i] = 'SEM_ENTRADA_OU_SAIDA'\n",
    "    else: #restante com mais de uma informação\n",
    "        df['tipo'][i] = entradas_saidas[0]\n",
    "        \n",
    "count_freq(df, 'tipo')\n",
    "count_freq(df, 'controle')\n",
    "\n",
    "#salvando\n",
    "df_prob = pd.concat([df_prob, df[df['controle'] == 'SEM_ENTRADA_OU_SAIDA']])\n",
    "print(\"unidades probs:\", len(df_prob))\n",
    "sample_prob('SEM_ENTRADA_OU_SAIDA')\n",
    "\n",
    "df = df[df['controle'] != 'SEM_ENTRADA_OU_SAIDA']\n",
    "print(\"unidade ok:\", len(df)) \n",
    "\n",
    "#print(df_prob['mensagem'][df_prob['controle'] == 'SEM_ENTRADA_OU_SAIDA'].sample(1))\n",
    "\n",
    "df_prob.reset_index(drop=True, inplace=True)\n",
    "df.reset_index(drop=True, inplace=True)\n",
    "print(\"ok:\", len(df)) "
   ]
  },
  {
   "cell_type": "markdown",
   "id": "02097384",
   "metadata": {},
   "source": [
    "# Data:"
   ]
  },
  {
   "cell_type": "code",
   "execution_count": 17,
   "id": "f3000d08",
   "metadata": {},
   "outputs": [],
   "source": [
    "#retirando a data da mensagem para não atrapalhar no reconhecimento de hora\n",
    "df['hora'] = np.nan\n",
    "\n",
    "for i in range(0, len(df)):\n",
    "    df['hora'][i] = df['mensagem'][i].replace(df['data'][i], '').strip() #substituindo a data por vazio"
   ]
  },
  {
   "cell_type": "code",
   "execution_count": 18,
   "id": "161cd2b1",
   "metadata": {},
   "outputs": [
    {
     "data": {
      "text/plain": [
       "array(['29/05', '29/06', '30/05', '30/04', '26/05', '31/05'], dtype=object)"
      ]
     },
     "execution_count": 18,
     "metadata": {},
     "output_type": "execute_result"
    }
   ],
   "source": [
    "#arrumando data d/mm (6/10, não 06/10)\n",
    "for i in range(0, len(df)):\n",
    "    if df['data'][i][1] == '/':\n",
    "        df['data'][i] = '0'+df['data'][i]\n",
    "df['data'].unique()"
   ]
  },
  {
   "cell_type": "code",
   "execution_count": 19,
   "id": "2055f437",
   "metadata": {},
   "outputs": [
    {
     "data": {
      "text/html": [
       "<div>\n",
       "<style scoped>\n",
       "    .dataframe tbody tr th:only-of-type {\n",
       "        vertical-align: middle;\n",
       "    }\n",
       "\n",
       "    .dataframe tbody tr th {\n",
       "        vertical-align: top;\n",
       "    }\n",
       "\n",
       "    .dataframe thead th {\n",
       "        text-align: right;\n",
       "    }\n",
       "</style>\n",
       "<table border=\"1\" class=\"dataframe\">\n",
       "  <thead>\n",
       "    <tr style=\"text-align: right;\">\n",
       "      <th></th>\n",
       "      <th>Freq</th>\n",
       "      <th>Perc</th>\n",
       "    </tr>\n",
       "    <tr>\n",
       "      <th>data</th>\n",
       "      <th></th>\n",
       "      <th></th>\n",
       "    </tr>\n",
       "  </thead>\n",
       "  <tbody>\n",
       "    <tr>\n",
       "      <th>30/05/2024</th>\n",
       "      <td>99</td>\n",
       "      <td>44.000000</td>\n",
       "    </tr>\n",
       "    <tr>\n",
       "      <th>31/05/2024</th>\n",
       "      <td>69</td>\n",
       "      <td>30.666667</td>\n",
       "    </tr>\n",
       "    <tr>\n",
       "      <th>29/05/2024</th>\n",
       "      <td>56</td>\n",
       "      <td>24.888889</td>\n",
       "    </tr>\n",
       "    <tr>\n",
       "      <th>26/05/2024</th>\n",
       "      <td>1</td>\n",
       "      <td>0.444444</td>\n",
       "    </tr>\n",
       "  </tbody>\n",
       "</table>\n",
       "</div>"
      ],
      "text/plain": [
       "            Freq       Perc\n",
       "data                       \n",
       "30/05/2024    99  44.000000\n",
       "31/05/2024    69  30.666667\n",
       "29/05/2024    56  24.888889\n",
       "26/05/2024     1   0.444444"
      ]
     },
     "metadata": {},
     "output_type": "display_data"
    }
   ],
   "source": [
    "#somando informações restantes na data: dd/MM/yyyy\n",
    "for i in range(0, len(df)):\n",
    "    df['data'][i] = df['data'][i][0:2] + \"/\"+ mes +\"/2024\" \n",
    "    \n",
    "count_freq(df, 'data')"
   ]
  },
  {
   "cell_type": "code",
   "execution_count": 20,
   "id": "1f3d2041",
   "metadata": {},
   "outputs": [
    {
     "data": {
      "text/html": [
       "<div>\n",
       "<style scoped>\n",
       "    .dataframe tbody tr th:only-of-type {\n",
       "        vertical-align: middle;\n",
       "    }\n",
       "\n",
       "    .dataframe tbody tr th {\n",
       "        vertical-align: top;\n",
       "    }\n",
       "\n",
       "    .dataframe thead th {\n",
       "        text-align: right;\n",
       "    }\n",
       "</style>\n",
       "<table border=\"1\" class=\"dataframe\">\n",
       "  <thead>\n",
       "    <tr style=\"text-align: right;\">\n",
       "      <th></th>\n",
       "      <th>Freq</th>\n",
       "      <th>Perc</th>\n",
       "    </tr>\n",
       "    <tr>\n",
       "      <th>sem_ou_fds</th>\n",
       "      <th></th>\n",
       "      <th></th>\n",
       "    </tr>\n",
       "  </thead>\n",
       "  <tbody>\n",
       "    <tr>\n",
       "      <th>semana</th>\n",
       "      <td>224</td>\n",
       "      <td>99.555556</td>\n",
       "    </tr>\n",
       "    <tr>\n",
       "      <th>fds</th>\n",
       "      <td>1</td>\n",
       "      <td>0.444444</td>\n",
       "    </tr>\n",
       "  </tbody>\n",
       "</table>\n",
       "</div>"
      ],
      "text/plain": [
       "            Freq       Perc\n",
       "sem_ou_fds                 \n",
       "semana       224  99.555556\n",
       "fds            1   0.444444"
      ]
     },
     "metadata": {},
     "output_type": "display_data"
    }
   ],
   "source": [
    "df['sem_ou_fds'] = 'semana'\n",
    "\n",
    "for i in lista_fds:\n",
    "    datinha = i+\"/\"+mes+\"/2024\"\n",
    "    df['sem_ou_fds'][df['data'] == datinha] = 'fds'\n",
    "\n",
    "count_freq(df, 'sem_ou_fds')"
   ]
  },
  {
   "cell_type": "code",
   "execution_count": 21,
   "id": "2036b362",
   "metadata": {},
   "outputs": [
    {
     "name": "stdout",
     "output_type": "stream",
     "text": [
      "sem_ou_fds  fds  semana\n",
      "data                   \n",
      "26/05/2024  1.0     NaN\n",
      "29/05/2024  NaN    56.0\n",
      "30/05/2024  NaN    99.0\n",
      "31/05/2024  NaN    69.0\n"
     ]
    }
   ],
   "source": [
    "print(df.groupby(['data', 'sem_ou_fds']).size().unstack())"
   ]
  },
  {
   "cell_type": "code",
   "execution_count": 22,
   "id": "1e404263",
   "metadata": {},
   "outputs": [],
   "source": [
    "#df['data'].iloc[180] = '26/09/2022'"
   ]
  },
  {
   "cell_type": "markdown",
   "id": "dcd24449",
   "metadata": {},
   "source": [
    "# Hora:"
   ]
  },
  {
   "cell_type": "code",
   "execution_count": 23,
   "id": "06d56371",
   "metadata": {
    "scrolled": true
   },
   "outputs": [],
   "source": [
    "#substituindo \"h\" por \":\" para capturar horarios 11h22\n",
    "df['hora'] = df['hora'].apply(lambda x: x.upper().replace(\"H\", \":\"))"
   ]
  },
  {
   "cell_type": "code",
   "execution_count": 24,
   "id": "6888fa5e",
   "metadata": {},
   "outputs": [
    {
     "data": {
      "text/html": [
       "<div>\n",
       "<style scoped>\n",
       "    .dataframe tbody tr th:only-of-type {\n",
       "        vertical-align: middle;\n",
       "    }\n",
       "\n",
       "    .dataframe tbody tr th {\n",
       "        vertical-align: top;\n",
       "    }\n",
       "\n",
       "    .dataframe thead th {\n",
       "        text-align: right;\n",
       "    }\n",
       "</style>\n",
       "<table border=\"1\" class=\"dataframe\">\n",
       "  <thead>\n",
       "    <tr style=\"text-align: right;\">\n",
       "      <th></th>\n",
       "      <th>Freq</th>\n",
       "      <th>Perc</th>\n",
       "    </tr>\n",
       "    <tr>\n",
       "      <th>controle</th>\n",
       "      <th></th>\n",
       "      <th></th>\n",
       "    </tr>\n",
       "  </thead>\n",
       "  <tbody>\n",
       "    <tr>\n",
       "      <th>DESLOCADO</th>\n",
       "      <td>12</td>\n",
       "      <td>100.0</td>\n",
       "    </tr>\n",
       "  </tbody>\n",
       "</table>\n",
       "</div>"
      ],
      "text/plain": [
       "           Freq   Perc\n",
       "controle              \n",
       "DESLOCADO    12  100.0"
      ]
     },
     "metadata": {},
     "output_type": "display_data"
    },
    {
     "name": "stdout",
     "output_type": "stream",
     "text": [
      "probs: 36\n",
      "ok: 225\n"
     ]
    }
   ],
   "source": [
    "for i in range(0, len(df)):\n",
    "    mensagem = df['hora'][i]\n",
    "    horas = re.findall(r'[0-9]{1,2}:[0-9]{1,2}', mensagem) #capturando horas HH:mm\n",
    "    quantidade_horas = len(horas)\n",
    "    \n",
    "    if quantidade_horas == 1: #capturando apenas com uma horas escrita\n",
    "        df['hora'][i] = horas[0]\n",
    "    else: #restante com nenhuma ou mais horas (geralmente pq digitou a hora de entrada e saida {informação inutil})\n",
    "        df['hora'][i] = ''\n",
    "        df['controle'][i] = 'HORA'\n",
    "        \n",
    "count_freq(df, 'controle')\n",
    "\n",
    "#salvando\n",
    "df_prob = pd.concat([df_prob, df[df['controle'] == 'HORA']])\n",
    "print(\"probs:\", len(df_prob))\n",
    "sample_prob('HORA')\n",
    "\n",
    "df = df[df['controle'] != 'HORA']\n",
    "print(\"ok:\", len(df)) \n",
    "\n",
    "df_prob.reset_index(drop=True, inplace=True)\n",
    "df.reset_index(drop=True, inplace=True)"
   ]
  },
  {
   "cell_type": "code",
   "execution_count": null,
   "id": "93508ce9-7c4b-4bc3-a90d-2903d7250a83",
   "metadata": {},
   "outputs": [],
   "source": []
  },
  {
   "cell_type": "code",
   "execution_count": 25,
   "id": "0c48984e",
   "metadata": {},
   "outputs": [
    {
     "data": {
      "text/plain": [
       "array(['15:05', '14:00', '16:00', '16:10', '16:15', '17:00', '17:06',\n",
       "       '16:30', '17:08', '17:15', '17:10', '09:05', '05:45', '05:20',\n",
       "       '18:45', '19:07', '19:10', '13:00', '19:05', '19:20', '19:30',\n",
       "       '19:35', '19:40', '19:50', '14:10', '09:00', '20:00', '19:25',\n",
       "       '20:25', '20:30', '21:10', '21:00', '21:20', '21:15', '21:40',\n",
       "       '21:50', '22:05', '22:00', '04:30', '05:00', '05:35', '05:40',\n",
       "       '06:00', '20:50', '06:10', '05:50', '06:30', '05:30', '07:50',\n",
       "       '04:45', '08:40', '09:50', '10:20', '10:30', '10:44', '11:00',\n",
       "       '10:55', '11:10', '11:40', '11:30', '11:45', '12:15', '11:55',\n",
       "       '12:55', '13:15', '13:20', '12:00', '13:10', '12:45', '13:40',\n",
       "       '10:40', '14:30', '14:40', '14:50', '15:15', '15:20', '15:26',\n",
       "       '15:10', '15:45', '15:50', '16:40', '16:45', '16:25', '13:45',\n",
       "       '19:45', '20:15', '20:20', '10:10', '20:45', '05:15', '07:00',\n",
       "       '07:40', '09:10', '09:20', '09:47', '10:06', '10:45', '10:50',\n",
       "       '11:35', '12:10', '12:34', '13:25', '14:15', '14:20', '14:25',\n",
       "       '15:00', '15:30', '14:43', '16:20'], dtype=object)"
      ]
     },
     "execution_count": 25,
     "metadata": {},
     "output_type": "execute_result"
    }
   ],
   "source": [
    "#adicionando 0 no primeiro algorismo dos valores h:mm\n",
    "for i in range(0, len(df)):\n",
    "    if df['hora'][i][1] == \":\":\n",
    "        df['hora'][i] = \"0\"+df['hora'][i]\n",
    "        \n",
    "df['hora'].unique()"
   ]
  },
  {
   "cell_type": "markdown",
   "id": "47415134",
   "metadata": {},
   "source": [
    "# Hora final:"
   ]
  },
  {
   "cell_type": "code",
   "execution_count": 26,
   "id": "7d2f4691",
   "metadata": {},
   "outputs": [],
   "source": [
    "#pacotes para manipular data\n",
    "from datetime import date\n",
    "from datetime import time\n",
    "from datetime import datetime\n",
    "from datetime import timedelta"
   ]
  },
  {
   "cell_type": "code",
   "execution_count": 27,
   "id": "65568b47",
   "metadata": {
    "scrolled": true
   },
   "outputs": [
    {
     "data": {
      "text/plain": [
       "array(['15:05', '14:00', '16:00', '16:10', '16:15', '17:00', '17:06',\n",
       "       '16:30', '17:08', '17:15', '17:10', '09:05', '05:45', '05:20',\n",
       "       '18:45', '19:07', '19:10', '13:00', '19:05', '19:20', '19:30',\n",
       "       '19:35', '19:40', '19:50', '14:10', '09:00', '20:00', '19:25',\n",
       "       '20:25', '20:30', '21:10', '21:00', '21:20', '21:15', '21:40',\n",
       "       '21:50', '22:05', '22:00', '04:30', '05:00', '05:35', '05:40',\n",
       "       '06:00', '20:50', '06:10', '05:50', '06:30', '05:30', '07:50',\n",
       "       '04:45', '08:40', '09:50', '10:20', '10:30', '10:44', '11:00',\n",
       "       '10:55', '11:10', '11:40', '11:30', '11:45', '12:15', '11:55',\n",
       "       '12:55', '13:15', '13:20', '12:00', '13:10', '12:45', '13:40',\n",
       "       '10:40', '14:30', '14:40', '14:50', '15:15', '15:20', '15:26',\n",
       "       '15:10', '15:45', '15:50', '16:40', '16:45', '16:25', '13:45',\n",
       "       '19:45', '20:15', '20:20', '10:10', '20:45', '05:15', '07:00',\n",
       "       '07:40', '09:10', '09:20', '09:47', '10:06', '10:45', '10:50',\n",
       "       '11:35', '12:10', '12:34', '13:25', '14:15', '14:20', '14:25',\n",
       "       '15:00', '15:30', '14:43', '16:20'], dtype=object)"
      ]
     },
     "execution_count": 27,
     "metadata": {},
     "output_type": "execute_result"
    }
   ],
   "source": [
    "df['hora'].unique()"
   ]
  },
  {
   "cell_type": "code",
   "execution_count": 28,
   "id": "709d9f48",
   "metadata": {},
   "outputs": [
    {
     "name": "stdout",
     "output_type": "stream",
     "text": [
      "[1900]\n",
      "[1]\n",
      "[1]\n",
      "[15 14 16 17  9  5 18 19 13 20 21 22  4  6  7  8 10 11 12]\n",
      "probs: 36\n",
      "ok: 225\n"
     ]
    }
   ],
   "source": [
    "#criando uma coluna datetime para fazer calculos de horas e minutos\n",
    "df['hora2'] = df['hora'].apply(lambda x: datetime.strptime(x, '%H:%M'))\n",
    "\n",
    "#verificando se esta tudo certo\n",
    "print(df['hora2'].dt.year.unique())\n",
    "print(df['hora2'].dt.month.unique())\n",
    "print(df['hora2'].dt.day.unique())\n",
    "print(df['hora2'].dt.hour.unique())\n",
    "\n",
    "for i in range(0, len(df)):\n",
    "    minuto = int(df['hora'][i][3:])\n",
    "    \n",
    "    if minuto != 0 and minuto != 30:\n",
    "        if minuto < 30:\n",
    "            if df['tipo'][i] == \"ENTRADA\": #arredondando para baixo (0) subtraindo quantos minutos tem entre o momento e HH:00\n",
    "                df['hora'][i] = str(df['hora2'][i] + timedelta(minutes=-minuto))[11:-3]\n",
    "            elif df['tipo'][i] == \"SAIDA\": #arredondando para cima (30) acrecentando quantos minutos faltam para HH:30\n",
    "                df['hora'][i] = str(df['hora2'][i] + timedelta(minutes=+(30-minuto)))[11:-3]\n",
    "            else:\n",
    "                df['controle'][i] = 'Hora_final'\n",
    "                \n",
    "        elif minuto > 30:\n",
    "            if df['tipo'][i] == \"ENTRADA\": #arredondando para baixo (30) subtraindo quando minutos tem entre o momento e HH:30\n",
    "                df['hora'][i] = str(df['hora2'][i] + timedelta(minutes=-(minuto-30)))[11:-3]   \n",
    "            elif df['tipo'][i] == \"SAIDA\": #arredondando para cima (60) acrecentando quantos minutos faltam para HH:60\n",
    "                df['hora'][i] = str(df['hora2'][i] + timedelta(minutes=+(60-minuto)))[11:-3]            \n",
    "            else:\n",
    "                df['controle'][i] = 'Hora_final'\n",
    "        else:\n",
    "            df['controle'][i] = 'Hora_final'\n",
    "            \n",
    "    elif minuto == 0 or minuto == 30:\n",
    "        df['hora'][i] = str(df['hora2'][i])[11:-3] \n",
    "        \n",
    "    else:\n",
    "        df['controle'][i] = 'Hora_final'\n",
    "\n",
    "df['hora'].unique()\n",
    "\n",
    "#salvando restante\n",
    "df_prob = pd.concat([df_prob, df[df['controle'] == 'Hora_final']])\n",
    "print(\"probs:\", len(df_prob))\n",
    "sample_prob('Hora_final')\n",
    "\n",
    "df = df[df['controle'] != 'Hora_final']\n",
    "print(\"ok:\", len(df))\n",
    "\n",
    "df_prob.reset_index(drop=True, inplace=True)\n",
    "df.reset_index(drop=True, inplace=True)"
   ]
  },
  {
   "cell_type": "markdown",
   "id": "8980c6b5",
   "metadata": {},
   "source": [
    "# Setor:"
   ]
  },
  {
   "cell_type": "code",
   "execution_count": 29,
   "id": "dfd890a6",
   "metadata": {},
   "outputs": [
    {
     "data": {
      "text/html": [
       "<div>\n",
       "<style scoped>\n",
       "    .dataframe tbody tr th:only-of-type {\n",
       "        vertical-align: middle;\n",
       "    }\n",
       "\n",
       "    .dataframe tbody tr th {\n",
       "        vertical-align: top;\n",
       "    }\n",
       "\n",
       "    .dataframe thead th {\n",
       "        text-align: right;\n",
       "    }\n",
       "</style>\n",
       "<table border=\"1\" class=\"dataframe\">\n",
       "  <thead>\n",
       "    <tr style=\"text-align: right;\">\n",
       "      <th></th>\n",
       "      <th>Freq</th>\n",
       "      <th>Perc</th>\n",
       "    </tr>\n",
       "    <tr>\n",
       "      <th>PERIODO</th>\n",
       "      <th></th>\n",
       "      <th></th>\n",
       "    </tr>\n",
       "  </thead>\n",
       "  <tbody>\n",
       "    <tr>\n",
       "      <th>tarde</th>\n",
       "      <td>71</td>\n",
       "      <td>31.555556</td>\n",
       "    </tr>\n",
       "    <tr>\n",
       "      <th>manha</th>\n",
       "      <td>56</td>\n",
       "      <td>24.888889</td>\n",
       "    </tr>\n",
       "    <tr>\n",
       "      <th>6h</th>\n",
       "      <td>54</td>\n",
       "      <td>24.000000</td>\n",
       "    </tr>\n",
       "    <tr>\n",
       "      <th>noturno saida</th>\n",
       "      <td>44</td>\n",
       "      <td>19.555556</td>\n",
       "    </tr>\n",
       "  </tbody>\n",
       "</table>\n",
       "</div>"
      ],
      "text/plain": [
       "               Freq       Perc\n",
       "PERIODO                       \n",
       "tarde            71  31.555556\n",
       "manha            56  24.888889\n",
       "6h               54  24.000000\n",
       "noturno saida    44  19.555556"
      ]
     },
     "metadata": {},
     "output_type": "display_data"
    },
    {
     "data": {
      "text/html": [
       "<div>\n",
       "<style scoped>\n",
       "    .dataframe tbody tr th:only-of-type {\n",
       "        vertical-align: middle;\n",
       "    }\n",
       "\n",
       "    .dataframe tbody tr th {\n",
       "        vertical-align: top;\n",
       "    }\n",
       "\n",
       "    .dataframe thead th {\n",
       "        text-align: right;\n",
       "    }\n",
       "</style>\n",
       "<table border=\"1\" class=\"dataframe\">\n",
       "  <thead>\n",
       "    <tr style=\"text-align: right;\">\n",
       "      <th></th>\n",
       "      <th>Freq</th>\n",
       "      <th>Perc</th>\n",
       "    </tr>\n",
       "    <tr>\n",
       "      <th>controle</th>\n",
       "      <th></th>\n",
       "      <th></th>\n",
       "    </tr>\n",
       "  </thead>\n",
       "  <tbody>\n",
       "    <tr>\n",
       "      <th>DESLOCADO</th>\n",
       "      <td>12</td>\n",
       "      <td>100.0</td>\n",
       "    </tr>\n",
       "  </tbody>\n",
       "</table>\n",
       "</div>"
      ],
      "text/plain": [
       "           Freq   Perc\n",
       "controle              \n",
       "DESLOCADO    12  100.0"
      ]
     },
     "metadata": {},
     "output_type": "display_data"
    },
    {
     "name": "stdout",
     "output_type": "stream",
     "text": [
      "probs: 36\n",
      "ok: 225\n"
     ]
    }
   ],
   "source": [
    "#reconhendo em qual periodo do dia aconteceu o plantão\n",
    "df['ENTRADA'] = ''\n",
    "df['SAIDA'] = ''\n",
    "\n",
    "df['PERIODO'] = ''\n",
    "\n",
    "for i in range(0, len(df)):\n",
    "    minuto = int(df['hora'][i][:2])\n",
    "    \n",
    "    if df['tipo'][i] == 'ENTRADA':\n",
    "        df['ENTRADA'][i] = df['hora'][i]\n",
    "        if minuto < 7: #periodo 6h\n",
    "            df['PERIODO'][i] = '6h'\n",
    "            df['SAIDA'][i] = '07:00'\n",
    "        elif minuto >= 7 and minuto < 13: #periodo manha\n",
    "            df['PERIODO'][i] = 'manha'\n",
    "            df['SAIDA'][i] = '13:00'\n",
    "        elif minuto >= 13 and minuto < 19: #periodo tarde\n",
    "            df['PERIODO'][i] = 'tarde'\n",
    "            df['SAIDA'][i] = '19:00'\n",
    "        else:\n",
    "            df['controle'][i] = 'HORARIOS'\n",
    "    elif df['tipo'][i] == 'SAIDA':\n",
    "        df['SAIDA'][i] = df['hora'][i]\n",
    "        if minuto >= 7 and minuto < 13: #periodo manha\n",
    "            df['ENTRADA'][i] = '07:00'\n",
    "            df['PERIODO'][i] = 'manha'\n",
    "        elif minuto >= 13 and minuto < 19: #periodo tarde\n",
    "            if df['hora'][i] == '13:00':\n",
    "                df['SAIDA'][i] = '13:00'\n",
    "                df['ENTRADA'][i] = '07:00'\n",
    "                df['PERIODO'][i] = 'manha'\n",
    "            else:\n",
    "                df['ENTRADA'][i] = '13:00'\n",
    "                df['PERIODO'][i] = 'tarde'\n",
    "        elif minuto >= 19: #periodo noturno\n",
    "            df['ENTRADA'][i] = '19:00'\n",
    "            df['PERIODO'][i] = 'noturno saida'\n",
    "        else:\n",
    "            df['controle'][i] = 'HORARIOS'\n",
    "    else:\n",
    "        df['controle'][i] = 'HORARIOS'\n",
    "        \n",
    "count_freq(df, 'PERIODO')\n",
    "count_freq(df, 'controle')\n",
    "\n",
    "#salvando restante\n",
    "df_prob = pd.concat([df_prob, df[df['controle'] == 'HORARIOS']])\n",
    "print(\"probs:\", len(df_prob))\n",
    "sample_prob('HORARIOS')\n",
    "\n",
    "df = df[df['controle'] != 'HORARIOS']\n",
    "print(\"ok:\", len(df))\n",
    "\n",
    "df_prob.reset_index(drop=True, inplace=True)\n",
    "df.reset_index(drop=True, inplace=True)"
   ]
  },
  {
   "cell_type": "markdown",
   "id": "cffc78f0-b2fd-437f-9698-ac2c8c101886",
   "metadata": {},
   "source": [
    "# DURAÇÃO DO PLANTÃO"
   ]
  },
  {
   "cell_type": "code",
   "execution_count": 30,
   "id": "10f21f13",
   "metadata": {
    "scrolled": true
   },
   "outputs": [
    {
     "data": {
      "text/plain": [
       "array(['02:30', '01:00', '03:00', '03:30', '04:00', '04:30', '01:30',\n",
       "       '02:00', '06:00', '00:30', '05:00', '05:30'], dtype=object)"
      ]
     },
     "execution_count": 30,
     "metadata": {},
     "output_type": "execute_result"
    }
   ],
   "source": [
    "df['DURAÇÃO'] = ''\n",
    "\n",
    "for i in range(0, len(df)):\n",
    "    diferenca_tempo = datetime.strptime(df['SAIDA'][i], '%H:%M') - datetime.strptime(df['ENTRADA'][i], '%H:%M')\n",
    "    \n",
    "    #diferenca_tempo vem em formato estranho, tem-se que transformar em segundos antes\n",
    "    diferenca_tempo_s = diferenca_tempo.seconds\n",
    "    horas = '0' + str(int((diferenca_tempo_s/60)/60)) #capturando horas\n",
    "    minutos = str(int((diferenca_tempo_s/60)%60))  #capturando minutos\n",
    "    \n",
    "    if len(minutos) == 1:\n",
    "        minutos = '0' + minutos\n",
    "    \n",
    "    df['DURAÇÃO'][i] = horas + ':' + minutos\n",
    "    \n",
    "df['DURAÇÃO'][df['DURAÇÃO'] == '00:00'] = '06:00'    \n",
    "\n",
    "df['DURAÇÃO'].unique()"
   ]
  },
  {
   "cell_type": "code",
   "execution_count": 31,
   "id": "e356cea6",
   "metadata": {},
   "outputs": [
    {
     "data": {
      "text/html": [
       "<div>\n",
       "<style scoped>\n",
       "    .dataframe tbody tr th:only-of-type {\n",
       "        vertical-align: middle;\n",
       "    }\n",
       "\n",
       "    .dataframe tbody tr th {\n",
       "        vertical-align: top;\n",
       "    }\n",
       "\n",
       "    .dataframe thead th {\n",
       "        text-align: right;\n",
       "    }\n",
       "</style>\n",
       "<table border=\"1\" class=\"dataframe\">\n",
       "  <thead>\n",
       "    <tr style=\"text-align: right;\">\n",
       "      <th></th>\n",
       "      <th>mensagem</th>\n",
       "      <th>hora</th>\n",
       "      <th>ENTRADA</th>\n",
       "      <th>SAIDA</th>\n",
       "      <th>DURAÇÃO</th>\n",
       "    </tr>\n",
       "  </thead>\n",
       "  <tbody>\n",
       "    <tr>\n",
       "      <th>16</th>\n",
       "      <td>29/05 ITAIM  -  MAIELY SAÍDA 18:45  ( DESLOCAD...</td>\n",
       "      <td>19:00</td>\n",
       "      <td>19:00</td>\n",
       "      <td>19:00</td>\n",
       "      <td>06:00</td>\n",
       "    </tr>\n",
       "    <tr>\n",
       "      <th>20</th>\n",
       "      <td>29/05 MORUMBI PELLICCIOTTI SAÍDA 13:00</td>\n",
       "      <td>13:00</td>\n",
       "      <td>07:00</td>\n",
       "      <td>13:00</td>\n",
       "      <td>06:00</td>\n",
       "    </tr>\n",
       "    <tr>\n",
       "      <th>101</th>\n",
       "      <td>30/05 SANTA  -  DIOGO SAÍDA 12:55</td>\n",
       "      <td>13:00</td>\n",
       "      <td>07:00</td>\n",
       "      <td>13:00</td>\n",
       "      <td>06:00</td>\n",
       "    </tr>\n",
       "    <tr>\n",
       "      <th>103</th>\n",
       "      <td>30/05 SANTA  -  CÔRTES SAÍDA 12:55</td>\n",
       "      <td>13:00</td>\n",
       "      <td>07:00</td>\n",
       "      <td>13:00</td>\n",
       "      <td>06:00</td>\n",
       "    </tr>\n",
       "    <tr>\n",
       "      <th>104</th>\n",
       "      <td>30/05 JABAQUARA  -  BOSI SAÍDA 13:00</td>\n",
       "      <td>13:00</td>\n",
       "      <td>07:00</td>\n",
       "      <td>13:00</td>\n",
       "      <td>06:00</td>\n",
       "    </tr>\n",
       "    <tr>\n",
       "      <th>105</th>\n",
       "      <td>30/05 JABAQUARA JULIANO TOBAL SAÍDA 13:00</td>\n",
       "      <td>13:00</td>\n",
       "      <td>07:00</td>\n",
       "      <td>13:00</td>\n",
       "      <td>06:00</td>\n",
       "    </tr>\n",
       "    <tr>\n",
       "      <th>108</th>\n",
       "      <td>30/05 JABAQUARA VIANA SAIDA 13:00</td>\n",
       "      <td>13:00</td>\n",
       "      <td>07:00</td>\n",
       "      <td>13:00</td>\n",
       "      <td>06:00</td>\n",
       "    </tr>\n",
       "    <tr>\n",
       "      <th>113</th>\n",
       "      <td>30/05 ITAIM  -  BARBOSA SAÍDA 12:45</td>\n",
       "      <td>13:00</td>\n",
       "      <td>07:00</td>\n",
       "      <td>13:00</td>\n",
       "      <td>06:00</td>\n",
       "    </tr>\n",
       "    <tr>\n",
       "      <th>171</th>\n",
       "      <td>31/05 ITAIM  -  GUILHERME SAÍDA 7:00  ( PÓS PL...</td>\n",
       "      <td>07:00</td>\n",
       "      <td>07:00</td>\n",
       "      <td>07:00</td>\n",
       "      <td>06:00</td>\n",
       "    </tr>\n",
       "    <tr>\n",
       "      <th>183</th>\n",
       "      <td>31/05 OSASCO  -  TORRELIO ENTRADA 07:00  ( DES...</td>\n",
       "      <td>07:00</td>\n",
       "      <td>07:00</td>\n",
       "      <td>13:00</td>\n",
       "      <td>06:00</td>\n",
       "    </tr>\n",
       "    <tr>\n",
       "      <th>193</th>\n",
       "      <td>31/05 MORUMBI  -  G.MENEZES SAÍDA 12:34</td>\n",
       "      <td>13:00</td>\n",
       "      <td>07:00</td>\n",
       "      <td>13:00</td>\n",
       "      <td>06:00</td>\n",
       "    </tr>\n",
       "    <tr>\n",
       "      <th>195</th>\n",
       "      <td>31/05 ANÁLIA  -  HERINGER SAÍDA 12:45</td>\n",
       "      <td>13:00</td>\n",
       "      <td>07:00</td>\n",
       "      <td>13:00</td>\n",
       "      <td>06:00</td>\n",
       "    </tr>\n",
       "    <tr>\n",
       "      <th>197</th>\n",
       "      <td>31/05 ANÁLIA  - TAVARES  -  SAÍDA 13:00</td>\n",
       "      <td>13:00</td>\n",
       "      <td>07:00</td>\n",
       "      <td>13:00</td>\n",
       "      <td>06:00</td>\n",
       "    </tr>\n",
       "    <tr>\n",
       "      <th>202</th>\n",
       "      <td>31/05 ITAIM  -  AUGUSTO SAÍDA 13:00</td>\n",
       "      <td>13:00</td>\n",
       "      <td>07:00</td>\n",
       "      <td>13:00</td>\n",
       "      <td>06:00</td>\n",
       "    </tr>\n",
       "    <tr>\n",
       "      <th>204</th>\n",
       "      <td>31/05 -  VILLA -  ANTIPOU -  ENTRADA 13:00</td>\n",
       "      <td>13:00</td>\n",
       "      <td>13:00</td>\n",
       "      <td>19:00</td>\n",
       "      <td>06:00</td>\n",
       "    </tr>\n",
       "    <tr>\n",
       "      <th>212</th>\n",
       "      <td>31/05 VILLA  -  DÊNIO ENTRADA 07:00</td>\n",
       "      <td>07:00</td>\n",
       "      <td>07:00</td>\n",
       "      <td>13:00</td>\n",
       "      <td>06:00</td>\n",
       "    </tr>\n",
       "  </tbody>\n",
       "</table>\n",
       "</div>"
      ],
      "text/plain": [
       "                                              mensagem   hora ENTRADA  SAIDA  \\\n",
       "16   29/05 ITAIM  -  MAIELY SAÍDA 18:45  ( DESLOCAD...  19:00   19:00  19:00   \n",
       "20              29/05 MORUMBI PELLICCIOTTI SAÍDA 13:00  13:00   07:00  13:00   \n",
       "101                  30/05 SANTA  -  DIOGO SAÍDA 12:55  13:00   07:00  13:00   \n",
       "103                 30/05 SANTA  -  CÔRTES SAÍDA 12:55  13:00   07:00  13:00   \n",
       "104               30/05 JABAQUARA  -  BOSI SAÍDA 13:00  13:00   07:00  13:00   \n",
       "105          30/05 JABAQUARA JULIANO TOBAL SAÍDA 13:00  13:00   07:00  13:00   \n",
       "108                  30/05 JABAQUARA VIANA SAIDA 13:00  13:00   07:00  13:00   \n",
       "113                30/05 ITAIM  -  BARBOSA SAÍDA 12:45  13:00   07:00  13:00   \n",
       "171  31/05 ITAIM  -  GUILHERME SAÍDA 7:00  ( PÓS PL...  07:00   07:00  07:00   \n",
       "183  31/05 OSASCO  -  TORRELIO ENTRADA 07:00  ( DES...  07:00   07:00  13:00   \n",
       "193            31/05 MORUMBI  -  G.MENEZES SAÍDA 12:34  13:00   07:00  13:00   \n",
       "195              31/05 ANÁLIA  -  HERINGER SAÍDA 12:45  13:00   07:00  13:00   \n",
       "197            31/05 ANÁLIA  - TAVARES  -  SAÍDA 13:00  13:00   07:00  13:00   \n",
       "202                31/05 ITAIM  -  AUGUSTO SAÍDA 13:00  13:00   07:00  13:00   \n",
       "204         31/05 -  VILLA -  ANTIPOU -  ENTRADA 13:00  13:00   13:00  19:00   \n",
       "212                31/05 VILLA  -  DÊNIO ENTRADA 07:00  07:00   07:00  13:00   \n",
       "\n",
       "    DURAÇÃO  \n",
       "16    06:00  \n",
       "20    06:00  \n",
       "101   06:00  \n",
       "103   06:00  \n",
       "104   06:00  \n",
       "105   06:00  \n",
       "108   06:00  \n",
       "113   06:00  \n",
       "171   06:00  \n",
       "183   06:00  \n",
       "193   06:00  \n",
       "195   06:00  \n",
       "197   06:00  \n",
       "202   06:00  \n",
       "204   06:00  \n",
       "212   06:00  "
      ]
     },
     "execution_count": 31,
     "metadata": {},
     "output_type": "execute_result"
    }
   ],
   "source": [
    "df[['mensagem','hora','ENTRADA','SAIDA','DURAÇÃO']][df['DURAÇÃO'] == '06:00']"
   ]
  },
  {
   "cell_type": "code",
   "execution_count": 32,
   "id": "f33aa485",
   "metadata": {},
   "outputs": [
    {
     "data": {
      "text/html": [
       "<div>\n",
       "<style scoped>\n",
       "    .dataframe tbody tr th:only-of-type {\n",
       "        vertical-align: middle;\n",
       "    }\n",
       "\n",
       "    .dataframe tbody tr th {\n",
       "        vertical-align: top;\n",
       "    }\n",
       "\n",
       "    .dataframe thead th {\n",
       "        text-align: right;\n",
       "    }\n",
       "</style>\n",
       "<table border=\"1\" class=\"dataframe\">\n",
       "  <thead>\n",
       "    <tr style=\"text-align: right;\">\n",
       "      <th></th>\n",
       "      <th>Freq</th>\n",
       "      <th>Perc</th>\n",
       "    </tr>\n",
       "    <tr>\n",
       "      <th>setor</th>\n",
       "      <th></th>\n",
       "      <th></th>\n",
       "    </tr>\n",
       "  </thead>\n",
       "  <tbody>\n",
       "    <tr>\n",
       "      <th>SEMANA - TARDE - C.CIRURGICO</th>\n",
       "      <td>71</td>\n",
       "      <td>31.555556</td>\n",
       "    </tr>\n",
       "    <tr>\n",
       "      <th>SEMANA - MANHA - C.CIRURGICO</th>\n",
       "      <td>56</td>\n",
       "      <td>24.888889</td>\n",
       "    </tr>\n",
       "    <tr>\n",
       "      <th>SEMANA - 6HS</th>\n",
       "      <td>54</td>\n",
       "      <td>24.000000</td>\n",
       "    </tr>\n",
       "    <tr>\n",
       "      <th>SEMANA - NOTURNO - SAIDA</th>\n",
       "      <td>43</td>\n",
       "      <td>19.111111</td>\n",
       "    </tr>\n",
       "    <tr>\n",
       "      <th>FDS - PLANTAO</th>\n",
       "      <td>1</td>\n",
       "      <td>0.444444</td>\n",
       "    </tr>\n",
       "  </tbody>\n",
       "</table>\n",
       "</div>"
      ],
      "text/plain": [
       "                              Freq       Perc\n",
       "setor                                        \n",
       "SEMANA - TARDE - C.CIRURGICO    71  31.555556\n",
       "SEMANA - MANHA - C.CIRURGICO    56  24.888889\n",
       "SEMANA - 6HS                    54  24.000000\n",
       "SEMANA - NOTURNO - SAIDA        43  19.111111\n",
       "FDS - PLANTAO                    1   0.444444"
      ]
     },
     "metadata": {},
     "output_type": "display_data"
    }
   ],
   "source": [
    "df['setor'] = ''\n",
    "\n",
    "for i in range(0, len(df)):\n",
    "    if df['sem_ou_fds'][i] == 'semana':\n",
    "        if df['PERIODO'][i] == '6h':\n",
    "            df['setor'][i] = 'SEMANA - 6HS'\n",
    "        elif df['PERIODO'][i] == 'manha':\n",
    "            df['setor'][i] = 'SEMANA - MANHA - C.CIRURGICO'\n",
    "        elif df['PERIODO'][i] == 'tarde':\n",
    "            df['setor'][i] = 'SEMANA - TARDE - C.CIRURGICO'\n",
    "        elif df['PERIODO'][i] == 'noturno saida':\n",
    "            df['setor'][i] = 'SEMANA - NOTURNO - SAIDA'\n",
    "        else:\n",
    "            df['setor'][i] = 'VERIFICAR'\n",
    "\n",
    "    elif df['sem_ou_fds'][i] == 'fds': \n",
    "        if df['PERIODO'][i] == '6h':\n",
    "            df['setor'][i] = 'FDS - 6HS'\n",
    "        elif df['PERIODO'][i] == 'manha':\n",
    "            df['setor'][i] = 'FDS - C.CIRURGICO ROTINA'\n",
    "        elif df['PERIODO'][i] == 'tarde':\n",
    "            df['setor'][i] = 'FDS - SAIDA'\n",
    "        elif df['PERIODO'][i] == 'noturno saida':\n",
    "            df['setor'][i] = 'FDS - PLANTAO'\n",
    "        else:\n",
    "            df['setor'][i] = 'VERIFICAR'  \n",
    "\n",
    "    else:\n",
    "        df['setor'][i] = 'VERIFICAR'\n",
    "        \n",
    "count_freq(df, 'setor')"
   ]
  },
  {
   "cell_type": "code",
   "execution_count": 33,
   "id": "2df5c7ec",
   "metadata": {},
   "outputs": [
    {
     "name": "stdout",
     "output_type": "stream",
     "text": [
      "probs: 36\n",
      "ok: 225\n",
      "Porcentagem de registros corrigidas pelo o algoritmo: 86.21\n"
     ]
    }
   ],
   "source": [
    "print(\"probs:\", len(df_prob))\n",
    "print(\"ok:\", len(df))\n",
    "\n",
    "porcentagem = round((len(df)/(len(df)+len(df_prob)))*100, 2)\n",
    "print('Porcentagem de registros corrigidas pelo o algoritmo:', porcentagem)"
   ]
  },
  {
   "cell_type": "markdown",
   "id": "343cc73d",
   "metadata": {},
   "source": [
    "# Ultimos ajustes:"
   ]
  },
  {
   "cell_type": "markdown",
   "id": "93a67953-b8b5-4b86-86d1-de15844b1b7f",
   "metadata": {},
   "source": [
    "# Distancias"
   ]
  },
  {
   "cell_type": "code",
   "execution_count": 34,
   "id": "51718d87",
   "metadata": {},
   "outputs": [],
   "source": [
    "for i in range(0, len(df)):\n",
    "    mensagem = df['mensagem'][i].upper()\n",
    "    regex_D = re.findall('D[0-9]', mensagem)\n",
    "    \n",
    "    if len(regex_D) == 0:\n",
    "        continue\n",
    "    else:\n",
    "        df['controle'][i] == 'DISTANCIAS'"
   ]
  },
  {
   "cell_type": "code",
   "execution_count": 35,
   "id": "16a8ff18",
   "metadata": {},
   "outputs": [
    {
     "data": {
      "text/html": [
       "<div>\n",
       "<style scoped>\n",
       "    .dataframe tbody tr th:only-of-type {\n",
       "        vertical-align: middle;\n",
       "    }\n",
       "\n",
       "    .dataframe tbody tr th {\n",
       "        vertical-align: top;\n",
       "    }\n",
       "\n",
       "    .dataframe thead th {\n",
       "        text-align: right;\n",
       "    }\n",
       "</style>\n",
       "<table border=\"1\" class=\"dataframe\">\n",
       "  <thead>\n",
       "    <tr style=\"text-align: right;\">\n",
       "      <th></th>\n",
       "      <th>Freq</th>\n",
       "      <th>Perc</th>\n",
       "    </tr>\n",
       "    <tr>\n",
       "      <th>controle</th>\n",
       "      <th></th>\n",
       "      <th></th>\n",
       "    </tr>\n",
       "  </thead>\n",
       "  <tbody>\n",
       "    <tr>\n",
       "      <th>DESLOCADO</th>\n",
       "      <td>12</td>\n",
       "      <td>100.0</td>\n",
       "    </tr>\n",
       "  </tbody>\n",
       "</table>\n",
       "</div>"
      ],
      "text/plain": [
       "           Freq   Perc\n",
       "controle              \n",
       "DESLOCADO    12  100.0"
      ]
     },
     "metadata": {},
     "output_type": "display_data"
    },
    {
     "name": "stdout",
     "output_type": "stream",
     "text": [
      "probs: 36\n",
      "ok: 225\n"
     ]
    }
   ],
   "source": [
    "for i in range(0, len(df)):\n",
    "    if df['DURAÇÃO'][i] == \"00:00\":\n",
    "        df['controle'][i] = \"DISTANCIAS\"\n",
    "        \n",
    "count_freq(df, 'controle')\n",
    "\n",
    "#salvando restante\n",
    "df_prob = pd.concat([df_prob, df[df['controle'] == 'DISTANCIAS']])\n",
    "print(\"probs:\", len(df_prob))\n",
    "sample_prob('DISTANCIAS')\n",
    "\n",
    "df = df[df['controle'] != 'DISTANCIAS']\n",
    "print(\"ok:\", len(df))\n",
    "\n",
    "df_prob.reset_index(drop=True, inplace=True)\n",
    "df.reset_index(drop=True, inplace=True)"
   ]
  },
  {
   "cell_type": "code",
   "execution_count": 36,
   "id": "e94ff040",
   "metadata": {},
   "outputs": [
    {
     "name": "stdout",
     "output_type": "stream",
     "text": [
      "['JABA' 'MORUMBI' 'ANALIA' 'VNS' 'VILLA' 'OSASCO' 'ITAIM' 'ALPHA' 'SANTA'\n",
      " 'AVICCENA']\n"
     ]
    }
   ],
   "source": [
    "# Cria uma nova Série sem as listas\n",
    "serie_sem_listas = pd.Series([x for x in df['unidade'] if not isinstance(x, list)])\n",
    "\n",
    "# Imprime os valores únicos da nova Série\n",
    "print(serie_sem_listas.unique())"
   ]
  },
  {
   "cell_type": "code",
   "execution_count": 37,
   "id": "599e7c80",
   "metadata": {
    "scrolled": true
   },
   "outputs": [
    {
     "name": "stdout",
     "output_type": "stream",
     "text": [
      "['ITAIM', 'MORUMBI']\n",
      "['OSASCO', 'ITAIM']\n",
      "['JABA', 'VILLA']\n",
      "['ANALIA', 'JABA']\n",
      "['OSASCO', 'JABA']\n",
      "['ITAIM', 'VNS']\n",
      "['MORUMBI', 'ITAIM']\n"
     ]
    }
   ],
   "source": [
    "# Cria uma lista com apenas os valores que são listas\n",
    "listas = [x for x in df['unidade'] if isinstance(x, list)]\n",
    "\n",
    "# Converte as listas em tuplas e adiciona elas a um conjunto para obter apenas as listas distintas\n",
    "listas_distintas = set(tuple(lista) for lista in listas)\n",
    "\n",
    "# Imprime as listas distintas\n",
    "for lista in listas_distintas:\n",
    "    print(list(lista))\n"
   ]
  },
  {
   "cell_type": "code",
   "execution_count": 38,
   "id": "9c1e6d01",
   "metadata": {},
   "outputs": [],
   "source": [
    "df['setor'] = df['setor'].apply(lambda x: unidecode.unidecode(x.replace('  ',' ').upper().strip()))\n",
    "\n",
    "#problemas com santa isabel \n",
    "#df['setor'][(df['unidade'] == \"SANTA ISABEL\") & (df['setor'] == \"FDS - SAIDA\")] = \"FDS - NOTURNO - SAIDA\"\n",
    "df['setor'][(df['unidade'] == \"SANTA ISABEL\") & (df['setor'] == \"FDS - C.CIRURGICO ROTINA\")] = \"FDS - MANHA - C.CIRURGICO\""
   ]
  },
  {
   "cell_type": "code",
   "execution_count": 39,
   "id": "f986e78d",
   "metadata": {},
   "outputs": [],
   "source": [
    "df['nome'] = df['nome'].apply(lambda x: x.replace('  ',' '))\n",
    "\n",
    "#df['UNIDADE'] = df['UNIDADE'].apply(lambda x: x.replace('JABAQUARAQUARA','JABAQUARA'))\n",
    "#df['UNIDADE'].unique()"
   ]
  },
  {
   "cell_type": "markdown",
   "id": "0f8219ec",
   "metadata": {},
   "source": [
    "# Salvando:"
   ]
  },
  {
   "cell_type": "code",
   "execution_count": 40,
   "id": "096f9aef",
   "metadata": {},
   "outputs": [],
   "source": [
    "df['periodo'] = np.nan\n",
    "df['periodo'][df['PERIODO'] == '6h'] = 1\n",
    "df['periodo'][df['PERIODO'] == 'manha'] = 2\n",
    "df['periodo'][df['PERIODO'] == 'tarde'] = 3\n",
    "df['periodo'][df['PERIODO'] == 'noturno saida'] = 4"
   ]
  },
  {
   "cell_type": "code",
   "execution_count": 41,
   "id": "f8c20ab0",
   "metadata": {},
   "outputs": [],
   "source": [
    "df = df[['chat', 'dia', 'nome', 'mensagem', 'controle', 'data', 'unidade',\n",
    "       'extra', 'tipo', 'ENTRADA', 'SAIDA', 'DURAÇÃO', 'PERIODO','periodo',\n",
    "         'setor', 'sem_ou_fds']]"
   ]
  },
  {
   "cell_type": "code",
   "execution_count": 42,
   "id": "c2d0a3ef",
   "metadata": {
    "scrolled": true
   },
   "outputs": [
    {
     "data": {
      "text/html": [
       "<div>\n",
       "<style scoped>\n",
       "    .dataframe tbody tr th:only-of-type {\n",
       "        vertical-align: middle;\n",
       "    }\n",
       "\n",
       "    .dataframe tbody tr th {\n",
       "        vertical-align: top;\n",
       "    }\n",
       "\n",
       "    .dataframe thead th {\n",
       "        text-align: right;\n",
       "    }\n",
       "</style>\n",
       "<table border=\"1\" class=\"dataframe\">\n",
       "  <thead>\n",
       "    <tr style=\"text-align: right;\">\n",
       "      <th></th>\n",
       "      <th>chat</th>\n",
       "      <th>dia</th>\n",
       "      <th>nome</th>\n",
       "      <th>mensagem</th>\n",
       "      <th>controle</th>\n",
       "      <th>data</th>\n",
       "      <th>unidade</th>\n",
       "      <th>extra</th>\n",
       "      <th>tipo</th>\n",
       "      <th>ENTRADA</th>\n",
       "      <th>SAIDA</th>\n",
       "      <th>DURAÇÃO</th>\n",
       "      <th>PERIODO</th>\n",
       "      <th>periodo</th>\n",
       "      <th>setor</th>\n",
       "      <th>sem_ou_fds</th>\n",
       "    </tr>\n",
       "  </thead>\n",
       "  <tbody>\n",
       "    <tr>\n",
       "      <th>0</th>\n",
       "      <td>[29/05/2024 15:05:22] Thales Luvisotto Neder: ...</td>\n",
       "      <td>29/05/2024</td>\n",
       "      <td>THALES LUVISOTTO NEDER</td>\n",
       "      <td>29/05 JABAQUARA  -  THALES SAÍDA 15:05</td>\n",
       "      <td>NaN</td>\n",
       "      <td>29/05/2024</td>\n",
       "      <td>JABA</td>\n",
       "      <td>NaN</td>\n",
       "      <td>SAIDA</td>\n",
       "      <td>13:00</td>\n",
       "      <td>15:30</td>\n",
       "      <td>02:30</td>\n",
       "      <td>tarde</td>\n",
       "      <td>3.0</td>\n",
       "      <td>SEMANA - TARDE - C.CIRURGICO</td>\n",
       "      <td>semana</td>\n",
       "    </tr>\n",
       "    <tr>\n",
       "      <th>1</th>\n",
       "      <td>[29/05/2024 15:48:25] Juliano Moisés Tobal: 29...</td>\n",
       "      <td>29/05/2024</td>\n",
       "      <td>JULIANO MOISES TOBAL</td>\n",
       "      <td>29/05 JABAQUARA JULIANO TOBAL SAÍDA 15:05</td>\n",
       "      <td>NaN</td>\n",
       "      <td>29/05/2024</td>\n",
       "      <td>JABA</td>\n",
       "      <td>NaN</td>\n",
       "      <td>SAIDA</td>\n",
       "      <td>13:00</td>\n",
       "      <td>15:30</td>\n",
       "      <td>02:30</td>\n",
       "      <td>tarde</td>\n",
       "      <td>3.0</td>\n",
       "      <td>SEMANA - TARDE - C.CIRURGICO</td>\n",
       "      <td>semana</td>\n",
       "    </tr>\n",
       "    <tr>\n",
       "      <th>2</th>\n",
       "      <td>[29/05/2024 15:52:53] Thiago Barreto Marques d...</td>\n",
       "      <td>29/05/2024</td>\n",
       "      <td>THIAGO BARRETO MARQUES DA SILVA</td>\n",
       "      <td>29/05 JABAQUARA NALDO SAÍDA 14:00</td>\n",
       "      <td>NaN</td>\n",
       "      <td>29/05/2024</td>\n",
       "      <td>JABA</td>\n",
       "      <td>NaN</td>\n",
       "      <td>SAIDA</td>\n",
       "      <td>13:00</td>\n",
       "      <td>14:00</td>\n",
       "      <td>01:00</td>\n",
       "      <td>tarde</td>\n",
       "      <td>3.0</td>\n",
       "      <td>SEMANA - TARDE - C.CIRURGICO</td>\n",
       "      <td>semana</td>\n",
       "    </tr>\n",
       "    <tr>\n",
       "      <th>3</th>\n",
       "      <td>[29/05/2024 16:00:28] Amanda Kiyoko Souza Koss...</td>\n",
       "      <td>29/05/2024</td>\n",
       "      <td>AMANDA KIYOKO SOUZA KOSSAKA</td>\n",
       "      <td>29/05 MORUMBI  -  AMANDA SAÍDA 16:00</td>\n",
       "      <td>NaN</td>\n",
       "      <td>29/05/2024</td>\n",
       "      <td>MORUMBI</td>\n",
       "      <td>NaN</td>\n",
       "      <td>SAIDA</td>\n",
       "      <td>13:00</td>\n",
       "      <td>16:00</td>\n",
       "      <td>03:00</td>\n",
       "      <td>tarde</td>\n",
       "      <td>3.0</td>\n",
       "      <td>SEMANA - TARDE - C.CIRURGICO</td>\n",
       "      <td>semana</td>\n",
       "    </tr>\n",
       "    <tr>\n",
       "      <th>4</th>\n",
       "      <td>[29/05/2024 16:11:50] Helena Araujo Damasceno:...</td>\n",
       "      <td>29/05/2024</td>\n",
       "      <td>HELENA ARAUJO DAMASCENO</td>\n",
       "      <td>29/05 JABAQUARA HELENA SAÍDA 16:10</td>\n",
       "      <td>NaN</td>\n",
       "      <td>29/05/2024</td>\n",
       "      <td>JABA</td>\n",
       "      <td>NaN</td>\n",
       "      <td>SAIDA</td>\n",
       "      <td>13:00</td>\n",
       "      <td>16:30</td>\n",
       "      <td>03:30</td>\n",
       "      <td>tarde</td>\n",
       "      <td>3.0</td>\n",
       "      <td>SEMANA - TARDE - C.CIRURGICO</td>\n",
       "      <td>semana</td>\n",
       "    </tr>\n",
       "  </tbody>\n",
       "</table>\n",
       "</div>"
      ],
      "text/plain": [
       "                                                chat         dia  \\\n",
       "0  [29/05/2024 15:05:22] Thales Luvisotto Neder: ...  29/05/2024   \n",
       "1  [29/05/2024 15:48:25] Juliano Moisés Tobal: 29...  29/05/2024   \n",
       "2  [29/05/2024 15:52:53] Thiago Barreto Marques d...  29/05/2024   \n",
       "3  [29/05/2024 16:00:28] Amanda Kiyoko Souza Koss...  29/05/2024   \n",
       "4  [29/05/2024 16:11:50] Helena Araujo Damasceno:...  29/05/2024   \n",
       "\n",
       "                              nome                                   mensagem  \\\n",
       "0           THALES LUVISOTTO NEDER     29/05 JABAQUARA  -  THALES SAÍDA 15:05   \n",
       "1             JULIANO MOISES TOBAL  29/05 JABAQUARA JULIANO TOBAL SAÍDA 15:05   \n",
       "2  THIAGO BARRETO MARQUES DA SILVA          29/05 JABAQUARA NALDO SAÍDA 14:00   \n",
       "3      AMANDA KIYOKO SOUZA KOSSAKA       29/05 MORUMBI  -  AMANDA SAÍDA 16:00   \n",
       "4          HELENA ARAUJO DAMASCENO         29/05 JABAQUARA HELENA SAÍDA 16:10   \n",
       "\n",
       "  controle        data  unidade  extra   tipo ENTRADA  SAIDA DURAÇÃO PERIODO  \\\n",
       "0      NaN  29/05/2024     JABA    NaN  SAIDA   13:00  15:30   02:30   tarde   \n",
       "1      NaN  29/05/2024     JABA    NaN  SAIDA   13:00  15:30   02:30   tarde   \n",
       "2      NaN  29/05/2024     JABA    NaN  SAIDA   13:00  14:00   01:00   tarde   \n",
       "3      NaN  29/05/2024  MORUMBI    NaN  SAIDA   13:00  16:00   03:00   tarde   \n",
       "4      NaN  29/05/2024     JABA    NaN  SAIDA   13:00  16:30   03:30   tarde   \n",
       "\n",
       "   periodo                         setor sem_ou_fds  \n",
       "0      3.0  SEMANA - TARDE - C.CIRURGICO     semana  \n",
       "1      3.0  SEMANA - TARDE - C.CIRURGICO     semana  \n",
       "2      3.0  SEMANA - TARDE - C.CIRURGICO     semana  \n",
       "3      3.0  SEMANA - TARDE - C.CIRURGICO     semana  \n",
       "4      3.0  SEMANA - TARDE - C.CIRURGICO     semana  "
      ]
     },
     "execution_count": 42,
     "metadata": {},
     "output_type": "execute_result"
    }
   ],
   "source": [
    "df.head()"
   ]
  },
  {
   "cell_type": "code",
   "execution_count": 43,
   "id": "b586b5b2",
   "metadata": {},
   "outputs": [
    {
     "data": {
      "text/html": [
       "<div>\n",
       "<style scoped>\n",
       "    .dataframe tbody tr th:only-of-type {\n",
       "        vertical-align: middle;\n",
       "    }\n",
       "\n",
       "    .dataframe tbody tr th {\n",
       "        vertical-align: top;\n",
       "    }\n",
       "\n",
       "    .dataframe thead th {\n",
       "        text-align: right;\n",
       "    }\n",
       "</style>\n",
       "<table border=\"1\" class=\"dataframe\">\n",
       "  <thead>\n",
       "    <tr style=\"text-align: right;\">\n",
       "      <th></th>\n",
       "      <th>Freq</th>\n",
       "      <th>Perc</th>\n",
       "    </tr>\n",
       "    <tr>\n",
       "      <th>controle</th>\n",
       "      <th></th>\n",
       "      <th></th>\n",
       "    </tr>\n",
       "  </thead>\n",
       "  <tbody>\n",
       "    <tr>\n",
       "      <th>DESLOCADO</th>\n",
       "      <td>12</td>\n",
       "      <td>100.0</td>\n",
       "    </tr>\n",
       "  </tbody>\n",
       "</table>\n",
       "</div>"
      ],
      "text/plain": [
       "           Freq   Perc\n",
       "controle              \n",
       "DESLOCADO    12  100.0"
      ]
     },
     "metadata": {},
     "output_type": "display_data"
    }
   ],
   "source": [
    "count_freq(df, 'controle')"
   ]
  },
  {
   "cell_type": "markdown",
   "id": "cf0be69b",
   "metadata": {},
   "source": [
    "# Ultimos ajustes nos deslocados:"
   ]
  },
  {
   "cell_type": "code",
   "execution_count": 44,
   "id": "ff82b248",
   "metadata": {},
   "outputs": [
    {
     "data": {
      "text/html": [
       "<div>\n",
       "<style scoped>\n",
       "    .dataframe tbody tr th:only-of-type {\n",
       "        vertical-align: middle;\n",
       "    }\n",
       "\n",
       "    .dataframe tbody tr th {\n",
       "        vertical-align: top;\n",
       "    }\n",
       "\n",
       "    .dataframe thead th {\n",
       "        text-align: right;\n",
       "    }\n",
       "</style>\n",
       "<table border=\"1\" class=\"dataframe\">\n",
       "  <thead>\n",
       "    <tr style=\"text-align: right;\">\n",
       "      <th></th>\n",
       "      <th>Freq</th>\n",
       "      <th>Perc</th>\n",
       "    </tr>\n",
       "    <tr>\n",
       "      <th>controle</th>\n",
       "      <th></th>\n",
       "      <th></th>\n",
       "    </tr>\n",
       "  </thead>\n",
       "  <tbody>\n",
       "    <tr>\n",
       "      <th>DESLOCADO</th>\n",
       "      <td>11</td>\n",
       "      <td>91.666667</td>\n",
       "    </tr>\n",
       "    <tr>\n",
       "      <th>DESLOCADO 6H</th>\n",
       "      <td>1</td>\n",
       "      <td>8.333333</td>\n",
       "    </tr>\n",
       "  </tbody>\n",
       "</table>\n",
       "</div>"
      ],
      "text/plain": [
       "              Freq       Perc\n",
       "controle                     \n",
       "DESLOCADO       11  91.666667\n",
       "DESLOCADO 6H     1   8.333333"
      ]
     },
     "metadata": {},
     "output_type": "display_data"
    }
   ],
   "source": [
    "df['controle'][(df['PERIODO'] == '6h') & (df['controle'] == 'DESLOCADO')] = 'DESLOCADO 6H'\n",
    "count_freq(df, 'controle')"
   ]
  },
  {
   "cell_type": "code",
   "execution_count": 45,
   "id": "53fdc22e",
   "metadata": {},
   "outputs": [
    {
     "data": {
      "text/html": [
       "<div>\n",
       "<style scoped>\n",
       "    .dataframe tbody tr th:only-of-type {\n",
       "        vertical-align: middle;\n",
       "    }\n",
       "\n",
       "    .dataframe tbody tr th {\n",
       "        vertical-align: top;\n",
       "    }\n",
       "\n",
       "    .dataframe thead th {\n",
       "        text-align: right;\n",
       "    }\n",
       "</style>\n",
       "<table border=\"1\" class=\"dataframe\">\n",
       "  <thead>\n",
       "    <tr style=\"text-align: right;\">\n",
       "      <th></th>\n",
       "      <th>Freq</th>\n",
       "      <th>Perc</th>\n",
       "    </tr>\n",
       "    <tr>\n",
       "      <th>unidade</th>\n",
       "      <th></th>\n",
       "      <th></th>\n",
       "    </tr>\n",
       "  </thead>\n",
       "  <tbody>\n",
       "    <tr>\n",
       "      <th>ANALIA</th>\n",
       "      <td>42</td>\n",
       "      <td>18.666667</td>\n",
       "    </tr>\n",
       "    <tr>\n",
       "      <th>MORUMBI</th>\n",
       "      <td>41</td>\n",
       "      <td>18.222222</td>\n",
       "    </tr>\n",
       "    <tr>\n",
       "      <th>JABAQUARA</th>\n",
       "      <td>34</td>\n",
       "      <td>15.111111</td>\n",
       "    </tr>\n",
       "    <tr>\n",
       "      <th>OSASCO</th>\n",
       "      <td>30</td>\n",
       "      <td>13.333333</td>\n",
       "    </tr>\n",
       "    <tr>\n",
       "      <th>VILLA</th>\n",
       "      <td>26</td>\n",
       "      <td>11.555556</td>\n",
       "    </tr>\n",
       "    <tr>\n",
       "      <th>ITAIM</th>\n",
       "      <td>26</td>\n",
       "      <td>11.555556</td>\n",
       "    </tr>\n",
       "    <tr>\n",
       "      <th>VNS</th>\n",
       "      <td>14</td>\n",
       "      <td>6.222222</td>\n",
       "    </tr>\n",
       "    <tr>\n",
       "      <th>SANTA ISABEL</th>\n",
       "      <td>8</td>\n",
       "      <td>3.555556</td>\n",
       "    </tr>\n",
       "    <tr>\n",
       "      <th>ALPHA</th>\n",
       "      <td>3</td>\n",
       "      <td>1.333333</td>\n",
       "    </tr>\n",
       "    <tr>\n",
       "      <th>AVICCENA</th>\n",
       "      <td>1</td>\n",
       "      <td>0.444444</td>\n",
       "    </tr>\n",
       "  </tbody>\n",
       "</table>\n",
       "</div>"
      ],
      "text/plain": [
       "              Freq       Perc\n",
       "unidade                      \n",
       "ANALIA          42  18.666667\n",
       "MORUMBI         41  18.222222\n",
       "JABAQUARA       34  15.111111\n",
       "OSASCO          30  13.333333\n",
       "VILLA           26  11.555556\n",
       "ITAIM           26  11.555556\n",
       "VNS             14   6.222222\n",
       "SANTA ISABEL     8   3.555556\n",
       "ALPHA            3   1.333333\n",
       "AVICCENA         1   0.444444"
      ]
     },
     "metadata": {},
     "output_type": "display_data"
    }
   ],
   "source": [
    "df['unidade2'] = df['unidade']\n",
    "\n",
    "for i in range(0, len(df)):\n",
    "    if isinstance(df.loc[i, 'unidade'], list):\n",
    "        df['unidade'][i] = df['unidade'][i][0]\n",
    "\n",
    "df['unidade'][df['unidade'] == 'VILA'] = 'VILLA'\n",
    "df['unidade'][df['unidade'] == 'JABA'] = 'JABAQUARA'\n",
    "df['unidade'][df['unidade'] == 'SANTA'] = 'SANTA ISABEL'\n",
    "\n",
    "sorted(df['unidade'].unique())\n",
    "count_freq(df, 'unidade')"
   ]
  },
  {
   "cell_type": "markdown",
   "id": "1bc257aa",
   "metadata": {},
   "source": [
    "# Salvando tudo:"
   ]
  },
  {
   "cell_type": "code",
   "execution_count": 46,
   "id": "76d06d69",
   "metadata": {},
   "outputs": [
    {
     "name": "stdout",
     "output_type": "stream",
     "text": [
      "225\n",
      ".\n",
      "36\n"
     ]
    }
   ],
   "source": [
    "salvando_nome_arquivo('df_gabs.xlsx', df)\n",
    "print('.')\n",
    "salvando_nome_arquivo('df_giov.xlsx', df_prob)"
   ]
  },
  {
   "cell_type": "markdown",
   "id": "2166a4c7",
   "metadata": {},
   "source": [
    "# DISPENSADOS:"
   ]
  },
  {
   "cell_type": "code",
   "execution_count": 47,
   "id": "7305f050",
   "metadata": {},
   "outputs": [
    {
     "name": "stdout",
     "output_type": "stream",
     "text": [
      "36\n"
     ]
    },
    {
     "data": {
      "text/html": [
       "<div>\n",
       "<style scoped>\n",
       "    .dataframe tbody tr th:only-of-type {\n",
       "        vertical-align: middle;\n",
       "    }\n",
       "\n",
       "    .dataframe tbody tr th {\n",
       "        vertical-align: top;\n",
       "    }\n",
       "\n",
       "    .dataframe thead th {\n",
       "        text-align: right;\n",
       "    }\n",
       "</style>\n",
       "<table border=\"1\" class=\"dataframe\">\n",
       "  <thead>\n",
       "    <tr style=\"text-align: right;\">\n",
       "      <th></th>\n",
       "      <th>chat</th>\n",
       "      <th>dia</th>\n",
       "      <th>nome</th>\n",
       "      <th>mensagem</th>\n",
       "    </tr>\n",
       "  </thead>\n",
       "  <tbody>\n",
       "    <tr>\n",
       "      <th>12</th>\n",
       "      <td>[30/05/2024 13:32:22] Fabiana Barbosa Bastos: ...</td>\n",
       "      <td>30/05/2024</td>\n",
       "      <td>FABIANA BARBOSA BASTOS</td>\n",
       "      <td>30/05 JABAQUARA  -  FABIANA DISPENSADO</td>\n",
       "    </tr>\n",
       "    <tr>\n",
       "      <th>16</th>\n",
       "      <td>[30/05/2024 19:01:30] Ricardo Giraldelli Carva...</td>\n",
       "      <td>30/05/2024</td>\n",
       "      <td>RICARDO GIRALDELLI CARVALHO LIMA</td>\n",
       "      <td>30/05 VILLA  -  GIRALDELLI DISPENSADO</td>\n",
       "    </tr>\n",
       "    <tr>\n",
       "      <th>4</th>\n",
       "      <td>[30/05/2024 09:32:12] Bruno Ferraz de Campos B...</td>\n",
       "      <td>30/05/2024</td>\n",
       "      <td>BRUNO FERRAZ DE CAMPOS BARONE</td>\n",
       "      <td>30/05 VNS BARONE DISPENSADO</td>\n",
       "    </tr>\n",
       "  </tbody>\n",
       "</table>\n",
       "</div>"
      ],
      "text/plain": [
       "                                                 chat         dia  \\\n",
       "12  [30/05/2024 13:32:22] Fabiana Barbosa Bastos: ...  30/05/2024   \n",
       "16  [30/05/2024 19:01:30] Ricardo Giraldelli Carva...  30/05/2024   \n",
       "4   [30/05/2024 09:32:12] Bruno Ferraz de Campos B...  30/05/2024   \n",
       "\n",
       "                                nome                                mensagem  \n",
       "12            FABIANA BARBOSA BASTOS  30/05 JABAQUARA  -  FABIANA DISPENSADO  \n",
       "16  RICARDO GIRALDELLI CARVALHO LIMA   30/05 VILLA  -  GIRALDELLI DISPENSADO  \n",
       "4      BRUNO FERRAZ DE CAMPOS BARONE             30/05 VNS BARONE DISPENSADO  "
      ]
     },
     "execution_count": 47,
     "metadata": {},
     "output_type": "execute_result"
    }
   ],
   "source": [
    "df = pd.read_excel('df_giov.xlsx')[['chat','dia','nome','mensagem']]\n",
    "df = df.drop_duplicates(subset=['chat'])\n",
    "df = df.sort_values(['nome', 'dia'])\n",
    "print(len(df))\n",
    "df.sample(3)"
   ]
  },
  {
   "cell_type": "code",
   "execution_count": 48,
   "id": "83fe7a22",
   "metadata": {},
   "outputs": [
    {
     "name": "stdout",
     "output_type": "stream",
     "text": [
      "unidades probs: 2\n",
      "unidade ok: 34\n"
     ]
    }
   ],
   "source": [
    "#RETIRANDO REGISTROS DE DISTANCIA E SAIDAS POR QUESTÃO DE SAUDE OU DISPENSA\n",
    "\n",
    "df['controle'] = np.nan\n",
    "\n",
    "#preparando para reconhecer corretamente\n",
    "\n",
    "for i in range(0, len(df)):\n",
    "    mensagem = unidecode.unidecode(df['mensagem'][i].upper())\n",
    "    observacoes = re.findall(r'DISPENSADO|SAUDE|DISPENSADA', mensagem)\n",
    "    quantidade_observacoes = len(observacoes)\n",
    "    \n",
    "    if quantidade_observacoes == 0:\n",
    "        df['controle'][i] = 'PROB'\n",
    "        \n",
    "df['controle'].value_counts() \n",
    "\n",
    "#salvando\n",
    "df_prob = df[df['controle'] == 'PROB']\n",
    "df_prob.reset_index(drop=True, inplace=True)\n",
    "print(\"unidades probs:\", len(df_prob))\n",
    "\n",
    "df = df[df['controle'] != 'PROB']\n",
    "df.reset_index(drop=True, inplace=True)\n",
    "print(\"unidade ok:\", len(df)) "
   ]
  },
  {
   "cell_type": "code",
   "execution_count": 49,
   "id": "1d650df8",
   "metadata": {},
   "outputs": [
    {
     "name": "stdout",
     "output_type": "stream",
     "text": [
      "data probs: 2\n",
      "datas ok: 34\n"
     ]
    },
    {
     "data": {
      "text/plain": [
       "['30/05/2024', '31/05/2024', '31/5/2024']"
      ]
     },
     "execution_count": 49,
     "metadata": {},
     "output_type": "execute_result"
    }
   ],
   "source": [
    "#DATA DO PLANTÃO\n",
    "df['controle'] = ''\n",
    "df['data'] = ''\n",
    "\n",
    "for i in range(0, len(df)):\n",
    "    lista_datas = re.findall(r'[0-9]{1,2}\\/[0-9]{1,2}', df['mensagem'][i]) #regex dd/mm\n",
    "    quantidade_itens = len(lista_datas)\n",
    "    \n",
    "    if quantidade_itens == 1: #capturar apenas registros com uma data apenas\n",
    "        df['data'][i] = lista_datas[0]\n",
    "        df['controle'][i] = 'NORM'\n",
    "    else: #restante com nenhuma ou mais de uma data\n",
    "        df['controle'][i] = 'PROB'\n",
    "\n",
    "#salvando\n",
    "df_prob = pd.concat([df_prob, df[df['controle'] != 'NORM']])\n",
    "df_prob.reset_index(drop=True, inplace=True)\n",
    "print(\"data probs:\", len(df_prob))\n",
    "\n",
    "df = df[df['controle'] != 'PROB']\n",
    "df.reset_index(drop=True, inplace=True)\n",
    "print(\"datas ok:\", len(df)) \n",
    "\n",
    "df['data'] = df['data']+\"/2024\"\n",
    "sorted(df['data'].unique())"
   ]
  },
  {
   "cell_type": "code",
   "execution_count": 50,
   "id": "66d5067d",
   "metadata": {},
   "outputs": [
    {
     "name": "stdout",
     "output_type": "stream",
     "text": [
      "controle\n",
      "OK    34\n",
      "Name: count, dtype: int64\n",
      "probs: 2\n",
      "ok: 34\n"
     ]
    }
   ],
   "source": [
    "#retirando a data da mensagem para não atrapalhar no reconhecimento de hora\n",
    "df['hora'] = ''\n",
    "\n",
    "for i in range(0, len(df)):\n",
    "    df['hora'][i] = df['mensagem'][i].replace(df['data'][i], '').strip() #substituindo a data por vazio\n",
    "    \n",
    "#substituindo \"h\" por \":\" para capturar horarios 11h22\n",
    "df['hora'] = df['hora'].apply(lambda x: x.upper().replace(\"H\", \":\"))\n",
    "\n",
    "#Retirando aqueles que contem horas no registro da mensagem\n",
    "for i in range(0, len(df)):\n",
    "    mensagem = df['hora'][i]\n",
    "    horas = re.findall(r'[0-9]{1,2}:[0-9]{1,2}', mensagem) #capturando horas HH:mm\n",
    "    quantidade_horas = len(horas)\n",
    "    \n",
    "    if quantidade_horas >= 1: #capturando apenas com uma horas escrita\n",
    "        df['hora'][i] = horas[0]\n",
    "        df['controle'][i] = 'PROB'\n",
    "    else: #restante com nenhuma ou mais horas (geralmente pq digitou a hora de entrada e saida {informação inutil})\n",
    "        df['hora'][i] = ''\n",
    "        df['controle'][i] = 'OK'\n",
    "        \n",
    "print(df['controle'].value_counts())\n",
    "\n",
    "#salvando\n",
    "df_prob = pd.concat([df_prob, df[df['controle'] != 'OK']])\n",
    "df_prob.reset_index(drop=True, inplace=True)\n",
    "print(\"probs:\", len(df_prob))\n",
    "\n",
    "df = df[df['controle'] == 'OK']\n",
    "df.reset_index(drop=True, inplace=True)\n",
    "print(\"ok:\", len(df)) "
   ]
  },
  {
   "cell_type": "code",
   "execution_count": 51,
   "id": "2311356e",
   "metadata": {},
   "outputs": [
    {
     "name": "stdout",
     "output_type": "stream",
     "text": [
      "2\n",
      "34\n"
     ]
    }
   ],
   "source": [
    "print(len(df_prob))\n",
    "print(len(df))"
   ]
  },
  {
   "cell_type": "code",
   "execution_count": 52,
   "id": "a10491e9",
   "metadata": {},
   "outputs": [
    {
     "name": "stdout",
     "output_type": "stream",
     "text": [
      "2\n",
      "34\n"
     ]
    }
   ],
   "source": [
    "df = df.drop_duplicates(subset=['chat'])\n",
    "\n",
    "os.remove(\"df_giov.xlsx\")\n",
    "salvando_nome_arquivo('df_giov.xlsx', df_prob)\n",
    "salvando_nome_arquivo('df_dispensados.xlsx', df)"
   ]
  },
  {
   "cell_type": "markdown",
   "id": "d848e6db",
   "metadata": {},
   "source": [
    "# ==========================================="
   ]
  },
  {
   "cell_type": "code",
   "execution_count": 53,
   "id": "ea80dba5-3a39-4c58-ada7-386a335015e5",
   "metadata": {},
   "outputs": [
    {
     "name": "stdout",
     "output_type": "stream",
     "text": [
      "261\n",
      "34\n",
      "225\n",
      "2\n"
     ]
    }
   ],
   "source": [
    "print(len(pd.DataFrame({'chat': read_file('_chat.txt') })))\n",
    "print(len(pd.read_excel('df_dispensados.xlsx')))\n",
    "print(len(pd.read_excel('df_gabs.xlsx')))\n",
    "print(len(pd.read_excel('df_giov.xlsx')))"
   ]
  },
  {
   "cell_type": "code",
   "execution_count": null,
   "id": "972dd1a4-4da8-4133-bb29-5599ead0cdfc",
   "metadata": {},
   "outputs": [],
   "source": []
  },
  {
   "cell_type": "code",
   "execution_count": null,
   "id": "d02706c8-04c9-4445-9650-445df381b386",
   "metadata": {},
   "outputs": [],
   "source": []
  },
  {
   "cell_type": "code",
   "execution_count": null,
   "id": "9133e196-503f-4e96-b3b4-037331bc1378",
   "metadata": {},
   "outputs": [],
   "source": []
  },
  {
   "cell_type": "code",
   "execution_count": null,
   "id": "632005ba-48b4-4f6b-9e69-54ba967df45c",
   "metadata": {},
   "outputs": [],
   "source": []
  },
  {
   "cell_type": "code",
   "execution_count": null,
   "id": "3ddf5b52-1455-41b9-98d7-0b1019ee8fa8",
   "metadata": {},
   "outputs": [],
   "source": []
  },
  {
   "cell_type": "code",
   "execution_count": null,
   "id": "7d73f657-fd47-4054-98d0-831a73c01b22",
   "metadata": {},
   "outputs": [],
   "source": []
  },
  {
   "cell_type": "code",
   "execution_count": null,
   "id": "ec554210-0809-4c01-b465-dae85f1c10db",
   "metadata": {},
   "outputs": [],
   "source": []
  },
  {
   "cell_type": "code",
   "execution_count": null,
   "id": "5f7a5c34-ed0d-41cf-a49a-c79983c64034",
   "metadata": {},
   "outputs": [],
   "source": []
  },
  {
   "cell_type": "code",
   "execution_count": null,
   "id": "a27072ef-7325-4561-855b-0bd44fea1fc4",
   "metadata": {},
   "outputs": [],
   "source": []
  },
  {
   "cell_type": "code",
   "execution_count": null,
   "id": "a7240932-0a54-4235-99a7-73504b25f2d8",
   "metadata": {},
   "outputs": [],
   "source": []
  },
  {
   "cell_type": "code",
   "execution_count": null,
   "id": "7c61f3b9-c3c2-40c8-8936-050118c7296b",
   "metadata": {},
   "outputs": [],
   "source": []
  },
  {
   "cell_type": "code",
   "execution_count": null,
   "id": "215dec1a-ef29-48b7-8017-ab5607f271f2",
   "metadata": {},
   "outputs": [],
   "source": []
  },
  {
   "cell_type": "code",
   "execution_count": null,
   "id": "467c3a58-3e62-4fbb-bd07-59b6e1c2d88a",
   "metadata": {},
   "outputs": [],
   "source": []
  },
  {
   "cell_type": "code",
   "execution_count": null,
   "id": "5ae9bcbc-9ce9-4495-adbd-0d4194f39ae2",
   "metadata": {},
   "outputs": [],
   "source": []
  }
 ],
 "metadata": {
  "kernelspec": {
   "display_name": "Python 3 (ipykernel)",
   "language": "python",
   "name": "python3"
  },
  "language_info": {
   "codemirror_mode": {
    "name": "ipython",
    "version": 3
   },
   "file_extension": ".py",
   "mimetype": "text/x-python",
   "name": "python",
   "nbconvert_exporter": "python",
   "pygments_lexer": "ipython3",
   "version": "3.11.7"
  }
 },
 "nbformat": 4,
 "nbformat_minor": 5
}
