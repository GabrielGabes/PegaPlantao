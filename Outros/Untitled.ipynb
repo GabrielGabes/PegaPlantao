{
 "cells": [
  {
   "cell_type": "code",
   "execution_count": 1,
   "id": "3663dc69",
   "metadata": {},
   "outputs": [],
   "source": [
    "import pandas as pd"
   ]
  },
  {
   "cell_type": "code",
   "execution_count": 3,
   "id": "bec5554a",
   "metadata": {},
   "outputs": [
    {
     "name": "stdout",
     "output_type": "stream",
     "text": [
      "1727\n"
     ]
    },
    {
     "data": {
      "text/html": [
       "<div>\n",
       "<style scoped>\n",
       "    .dataframe tbody tr th:only-of-type {\n",
       "        vertical-align: middle;\n",
       "    }\n",
       "\n",
       "    .dataframe tbody tr th {\n",
       "        vertical-align: top;\n",
       "    }\n",
       "\n",
       "    .dataframe thead th {\n",
       "        text-align: right;\n",
       "    }\n",
       "</style>\n",
       "<table border=\"1\" class=\"dataframe\">\n",
       "  <thead>\n",
       "    <tr style=\"text-align: right;\">\n",
       "      <th></th>\n",
       "      <th>chat</th>\n",
       "      <th>dia</th>\n",
       "      <th>nome</th>\n",
       "      <th>mensagem</th>\n",
       "      <th>controle</th>\n",
       "      <th>data</th>\n",
       "      <th>unidade</th>\n",
       "      <th>extra</th>\n",
       "      <th>tipo</th>\n",
       "      <th>ENTRADA</th>\n",
       "      <th>SAIDA</th>\n",
       "      <th>DURAÇÃO</th>\n",
       "      <th>PERIODO</th>\n",
       "      <th>periodo</th>\n",
       "      <th>setor</th>\n",
       "      <th>sem_ou_fds</th>\n",
       "      <th>unidade2</th>\n",
       "      <th>setor_inicio</th>\n",
       "      <th>hora</th>\n",
       "    </tr>\n",
       "  </thead>\n",
       "  <tbody>\n",
       "    <tr>\n",
       "      <th>0</th>\n",
       "      <td>[05/01/2024 20:23:27] Alessandre Luiz Braga Ju...</td>\n",
       "      <td>05/01/2024</td>\n",
       "      <td>ALESSANDRE LUIZ BRAGA JUNIOR</td>\n",
       "      <td>05/01 Analia  -  Alessandre saida 20:15</td>\n",
       "      <td>NORM</td>\n",
       "      <td>05/01/2023</td>\n",
       "      <td>ANALIA</td>\n",
       "      <td>NaN</td>\n",
       "      <td>SAIDA</td>\n",
       "      <td>19:00</td>\n",
       "      <td>20:30</td>\n",
       "      <td>01:30</td>\n",
       "      <td>noturno saida</td>\n",
       "      <td>4.0</td>\n",
       "      <td>SEMANA - NOTURNO - SAIDA</td>\n",
       "      <td>semana</td>\n",
       "      <td>ANALIA</td>\n",
       "      <td>NaN</td>\n",
       "      <td>NaN</td>\n",
       "    </tr>\n",
       "    <tr>\n",
       "      <th>1</th>\n",
       "      <td>[13/01/2024 06:03:52] Alessandre Luiz Braga Ju...</td>\n",
       "      <td>13/01/2024</td>\n",
       "      <td>ALESSANDRE LUIZ BRAGA JUNIOR</td>\n",
       "      <td>13/01 Morumbi  -  Alessandre entrada 05:45</td>\n",
       "      <td>NORM</td>\n",
       "      <td>13/01/2023</td>\n",
       "      <td>MORUMBI</td>\n",
       "      <td>NaN</td>\n",
       "      <td>ENTRADA</td>\n",
       "      <td>05:30</td>\n",
       "      <td>07:00</td>\n",
       "      <td>01:30</td>\n",
       "      <td>6h</td>\n",
       "      <td>1.0</td>\n",
       "      <td>FDS - 6HS</td>\n",
       "      <td>fds</td>\n",
       "      <td>MORUMBI</td>\n",
       "      <td>NaN</td>\n",
       "      <td>NaN</td>\n",
       "    </tr>\n",
       "  </tbody>\n",
       "</table>\n",
       "</div>"
      ],
      "text/plain": [
       "                                                chat         dia  \\\n",
       "0  [05/01/2024 20:23:27] Alessandre Luiz Braga Ju...  05/01/2024   \n",
       "1  [13/01/2024 06:03:52] Alessandre Luiz Braga Ju...  13/01/2024   \n",
       "\n",
       "                           nome                                    mensagem  \\\n",
       "0  ALESSANDRE LUIZ BRAGA JUNIOR     05/01 Analia  -  Alessandre saida 20:15   \n",
       "1  ALESSANDRE LUIZ BRAGA JUNIOR  13/01 Morumbi  -  Alessandre entrada 05:45   \n",
       "\n",
       "  controle        data  unidade extra     tipo ENTRADA  SAIDA DURAÇÃO  \\\n",
       "0     NORM  05/01/2023   ANALIA   NaN    SAIDA   19:00  20:30   01:30   \n",
       "1     NORM  13/01/2023  MORUMBI   NaN  ENTRADA   05:30  07:00   01:30   \n",
       "\n",
       "         PERIODO  periodo                     setor sem_ou_fds unidade2  \\\n",
       "0  noturno saida      4.0  SEMANA - NOTURNO - SAIDA     semana   ANALIA   \n",
       "1             6h      1.0                 FDS - 6HS        fds  MORUMBI   \n",
       "\n",
       "  setor_inicio  hora  \n",
       "0          NaN   NaN  \n",
       "1          NaN   NaN  "
      ]
     },
     "metadata": {},
     "output_type": "display_data"
    },
    {
     "name": "stdout",
     "output_type": "stream",
     "text": [
      "559\n"
     ]
    },
    {
     "data": {
      "text/html": [
       "<div>\n",
       "<style scoped>\n",
       "    .dataframe tbody tr th:only-of-type {\n",
       "        vertical-align: middle;\n",
       "    }\n",
       "\n",
       "    .dataframe tbody tr th {\n",
       "        vertical-align: top;\n",
       "    }\n",
       "\n",
       "    .dataframe thead th {\n",
       "        text-align: right;\n",
       "    }\n",
       "</style>\n",
       "<table border=\"1\" class=\"dataframe\">\n",
       "  <thead>\n",
       "    <tr style=\"text-align: right;\">\n",
       "      <th></th>\n",
       "      <th>chat</th>\n",
       "      <th>dia</th>\n",
       "      <th>nome</th>\n",
       "      <th>mensagem</th>\n",
       "      <th>controle</th>\n",
       "      <th>data</th>\n",
       "      <th>hora</th>\n",
       "      <th>unidade</th>\n",
       "      <th>extra</th>\n",
       "      <th>tipo</th>\n",
       "      <th>ENTRADA</th>\n",
       "      <th>SAIDA</th>\n",
       "      <th>DURAÇÃO</th>\n",
       "      <th>PERIODO</th>\n",
       "      <th>periodo</th>\n",
       "      <th>setor</th>\n",
       "      <th>sem_ou_fds</th>\n",
       "      <th>unidade2</th>\n",
       "      <th>setor_inicio</th>\n",
       "    </tr>\n",
       "  </thead>\n",
       "  <tbody>\n",
       "    <tr>\n",
       "      <th>0</th>\n",
       "      <td>[06/01/2024 10:25:51] Alessandre Luiz Braga Ju...</td>\n",
       "      <td>06/01/2024</td>\n",
       "      <td>ALESSANDRE LUIZ BRAGA JUNIOR</td>\n",
       "      <td>06/01 ANALIA  -  ALESSANDRE SAIDA 10:25</td>\n",
       "      <td>PROB</td>\n",
       "      <td>NaN</td>\n",
       "      <td>NaN</td>\n",
       "      <td>NaN</td>\n",
       "      <td>NaN</td>\n",
       "      <td>NaN</td>\n",
       "      <td>NaN</td>\n",
       "      <td>NaN</td>\n",
       "      <td>NaN</td>\n",
       "      <td>NaN</td>\n",
       "      <td>NaN</td>\n",
       "      <td>NaN</td>\n",
       "      <td>NaN</td>\n",
       "      <td>NaN</td>\n",
       "      <td>NaN</td>\n",
       "    </tr>\n",
       "    <tr>\n",
       "      <th>1</th>\n",
       "      <td>[14/01/2024 06:19:26] Alessandre Luiz Braga Ju...</td>\n",
       "      <td>14/01/2024</td>\n",
       "      <td>ALESSANDRE LUIZ BRAGA JUNIOR</td>\n",
       "      <td>14/01 AVICCENA  -  ALESSANDRE ENTRADA 06:00   ...</td>\n",
       "      <td>PROB</td>\n",
       "      <td>NaN</td>\n",
       "      <td>NaN</td>\n",
       "      <td>NaN</td>\n",
       "      <td>NaN</td>\n",
       "      <td>NaN</td>\n",
       "      <td>NaN</td>\n",
       "      <td>NaN</td>\n",
       "      <td>NaN</td>\n",
       "      <td>NaN</td>\n",
       "      <td>NaN</td>\n",
       "      <td>NaN</td>\n",
       "      <td>NaN</td>\n",
       "      <td>NaN</td>\n",
       "      <td>NaN</td>\n",
       "    </tr>\n",
       "  </tbody>\n",
       "</table>\n",
       "</div>"
      ],
      "text/plain": [
       "                                                chat         dia  \\\n",
       "0  [06/01/2024 10:25:51] Alessandre Luiz Braga Ju...  06/01/2024   \n",
       "1  [14/01/2024 06:19:26] Alessandre Luiz Braga Ju...  14/01/2024   \n",
       "\n",
       "                           nome  \\\n",
       "0  ALESSANDRE LUIZ BRAGA JUNIOR   \n",
       "1  ALESSANDRE LUIZ BRAGA JUNIOR   \n",
       "\n",
       "                                            mensagem controle data hora  \\\n",
       "0            06/01 ANALIA  -  ALESSANDRE SAIDA 10:25     PROB  NaN  NaN   \n",
       "1  14/01 AVICCENA  -  ALESSANDRE ENTRADA 06:00   ...     PROB  NaN  NaN   \n",
       "\n",
       "  unidade extra tipo ENTRADA SAIDA DURAÇÃO PERIODO  periodo setor sem_ou_fds  \\\n",
       "0     NaN   NaN  NaN     NaN   NaN     NaN     NaN      NaN   NaN        NaN   \n",
       "1     NaN   NaN  NaN     NaN   NaN     NaN     NaN      NaN   NaN        NaN   \n",
       "\n",
       "  unidade2 setor_inicio  \n",
       "0      NaN          NaN  \n",
       "1      NaN          NaN  "
      ]
     },
     "metadata": {},
     "output_type": "display_data"
    }
   ],
   "source": [
    "df = pd.read_excel('Feitos.xlsx')\n",
    "print(len(df))\n",
    "display(df.head(2))\n",
    "\n",
    "df1 = pd.read_excel('df_prob.xlsx')\n",
    "print(len(df1))\n",
    "display(df1.head(2))"
   ]
  },
  {
   "cell_type": "code",
   "execution_count": 4,
   "id": "0c6df42f",
   "metadata": {},
   "outputs": [
    {
     "name": "stdout",
     "output_type": "stream",
     "text": [
      "depois: 1727\n",
      "antes: 1727 \n",
      "\n",
      "depois: 559\n",
      "antes: 559 \n",
      "\n"
     ]
    }
   ],
   "source": [
    "print('depois:', len(df))\n",
    "df = df.drop_duplicates(subset='chat')\n",
    "print('antes:', len(df), '\\n')\n",
    "df = df.reset_index(drop=True)\n",
    "\n",
    "#########################################\n",
    "\n",
    "print('depois:', len(df1))\n",
    "df1 = df1.drop_duplicates(subset='chat')\n",
    "print('antes:', len(df1), '\\n')\n",
    "df1 = df1.reset_index(drop=True)\n"
   ]
  },
  {
   "cell_type": "code",
   "execution_count": 5,
   "id": "84992df7",
   "metadata": {
    "scrolled": true
   },
   "outputs": [
    {
     "name": "stdout",
     "output_type": "stream",
     "text": [
      "antes: 559\n",
      "depois: 559\n",
      "retirados: 0\n"
     ]
    }
   ],
   "source": [
    "print('antes:', len(df1))\n",
    "count = 0\n",
    "\n",
    "for i in range(len(df)):\n",
    "    iguais = df1[df1['chat'] == df['chat'][i]]\n",
    "    \n",
    "    if len(iguais) > 0:\n",
    "        #print(df['chat'][i])\n",
    "        #print(iguais)\n",
    "        count += len(iguais)\n",
    "        #print(\"\\n\")\n",
    "        \n",
    "        df1 = df1.drop(iguais.index)\n",
    "df1 = df1.reset_index(drop=True)\n",
    "    \n",
    "print('depois:', len(df1))\n",
    "print('retirados:', count)"
   ]
  },
  {
   "cell_type": "code",
   "execution_count": 5,
   "id": "d60a6678",
   "metadata": {},
   "outputs": [
    {
     "data": {
      "text/plain": [
       "RangeIndex(start=261, stop=261, step=1)"
      ]
     },
     "execution_count": 5,
     "metadata": {},
     "output_type": "execute_result"
    }
   ],
   "source": [
    "iguais.index"
   ]
  },
  {
   "cell_type": "code",
   "execution_count": 9,
   "id": "e41122d6",
   "metadata": {},
   "outputs": [],
   "source": [
    "df.to_excel('Feitos.xlsx')"
   ]
  },
  {
   "cell_type": "code",
   "execution_count": null,
   "id": "a7cc9cd2",
   "metadata": {},
   "outputs": [],
   "source": []
  },
  {
   "cell_type": "code",
   "execution_count": null,
   "id": "9d288970",
   "metadata": {},
   "outputs": [],
   "source": []
  }
 ],
 "metadata": {
  "kernelspec": {
   "display_name": "Python 3 (ipykernel)",
   "language": "python",
   "name": "python3"
  },
  "language_info": {
   "codemirror_mode": {
    "name": "ipython",
    "version": 3
   },
   "file_extension": ".py",
   "mimetype": "text/x-python",
   "name": "python",
   "nbconvert_exporter": "python",
   "pygments_lexer": "ipython3",
   "version": "3.11.7"
  }
 },
 "nbformat": 4,
 "nbformat_minor": 5
}
