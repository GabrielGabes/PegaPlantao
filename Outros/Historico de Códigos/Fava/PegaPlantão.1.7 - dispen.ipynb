{
 "cells": [
  {
   "cell_type": "code",
   "execution_count": 1,
   "id": "1941762b",
   "metadata": {},
   "outputs": [],
   "source": [
    "mes = \"06\""
   ]
  },
  {
   "cell_type": "code",
   "execution_count": 2,
   "id": "57e11785",
   "metadata": {},
   "outputs": [],
   "source": [
    "#manipulação de dados\n",
    "import pandas as pd\n",
    "import numpy as np\n",
    "\n",
    "#automação\n",
    "from selenium import webdriver\n",
    "from selenium.webdriver.common.keys import Keys\n",
    "\n",
    "#web scraping\n",
    "import requests\n",
    "from bs4 import BeautifulSoup\n",
    "\n",
    "#string e data\n",
    "import unidecode\n",
    "\n",
    "#tempo\n",
    "import time\n",
    "from time import sleep\n",
    "from selenium.common.exceptions import NoSuchElementException\n",
    "from selenium.webdriver.common.by import By\n",
    "from selenium.webdriver.support.ui import WebDriverWait\n",
    "from selenium.webdriver.support.expected_conditions import (visibility_of, \n",
    "                                                           staleness_of, \n",
    "                                                           invisibility_of_element)\n",
    "from selenium.webdriver.common.by import By\n",
    "from selenium.webdriver.support.ui import WebDriverWait\n",
    "from selenium.webdriver.support import expected_conditions as EC\n",
    "\n",
    "import warnings #Warning inuteis\n",
    "from pandas.core.common import SettingWithCopyWarning\n",
    "warnings.simplefilter(action=\"ignore\", category=SettingWithCopyWarning)"
   ]
  },
  {
   "cell_type": "code",
   "execution_count": 3,
   "id": "ede48545",
   "metadata": {
    "scrolled": true
   },
   "outputs": [
    {
     "data": {
      "text/html": [
       "<div>\n",
       "<style scoped>\n",
       "    .dataframe tbody tr th:only-of-type {\n",
       "        vertical-align: middle;\n",
       "    }\n",
       "\n",
       "    .dataframe tbody tr th {\n",
       "        vertical-align: top;\n",
       "    }\n",
       "\n",
       "    .dataframe thead th {\n",
       "        text-align: right;\n",
       "    }\n",
       "</style>\n",
       "<table border=\"1\" class=\"dataframe\">\n",
       "  <thead>\n",
       "    <tr style=\"text-align: right;\">\n",
       "      <th></th>\n",
       "      <th>chat</th>\n",
       "      <th>dia</th>\n",
       "      <th>nome</th>\n",
       "      <th>mensagem</th>\n",
       "      <th>controle</th>\n",
       "      <th>data</th>\n",
       "      <th>unidade</th>\n",
       "      <th>Q_unidades</th>\n",
       "      <th>sit</th>\n",
       "      <th>extra</th>\n",
       "      <th>tipo</th>\n",
       "      <th>hora</th>\n",
       "      <th>sem_ou_fds</th>\n",
       "      <th>hora2</th>\n",
       "      <th>ENTRADA</th>\n",
       "      <th>SAIDA</th>\n",
       "      <th>PERIODO</th>\n",
       "    </tr>\n",
       "  </thead>\n",
       "  <tbody>\n",
       "    <tr>\n",
       "      <th>0</th>\n",
       "      <td>[30/06/2023 06:27:50] Yoko Hayashi: 30/06 Itai...</td>\n",
       "      <td>30/06/2023</td>\n",
       "      <td>YOKO HAYASHI</td>\n",
       "      <td>30/06 ITAIM YOKO  ( DISPENSADOPOR MOTIVO DE SA...</td>\n",
       "      <td>PROB</td>\n",
       "      <td>30/06/2023</td>\n",
       "      <td>ITAIM</td>\n",
       "      <td>1</td>\n",
       "      <td>DISPENSADO</td>\n",
       "      <td>NaN</td>\n",
       "      <td>NaN</td>\n",
       "      <td>NaN</td>\n",
       "      <td>semana</td>\n",
       "      <td>NaN</td>\n",
       "      <td>NaN</td>\n",
       "      <td>NaN</td>\n",
       "      <td>NaN</td>\n",
       "    </tr>\n",
       "  </tbody>\n",
       "</table>\n",
       "</div>"
      ],
      "text/plain": [
       "                                                chat         dia  \\\n",
       "0  [30/06/2023 06:27:50] Yoko Hayashi: 30/06 Itai...  30/06/2023   \n",
       "\n",
       "           nome                                           mensagem controle  \\\n",
       "0  YOKO HAYASHI  30/06 ITAIM YOKO  ( DISPENSADOPOR MOTIVO DE SA...     PROB   \n",
       "\n",
       "         data unidade  Q_unidades         sit  extra  tipo  hora sem_ou_fds  \\\n",
       "0  30/06/2023   ITAIM           1  DISPENSADO    NaN   NaN   NaN     semana   \n",
       "\n",
       "   hora2  ENTRADA  SAIDA  PERIODO  \n",
       "0    NaN      NaN    NaN      NaN  "
      ]
     },
     "execution_count": 3,
     "metadata": {},
     "output_type": "execute_result"
    }
   ],
   "source": [
    "dispen = pd.read_excel('dispen.xlsx')\n",
    "dispen"
   ]
  },
  {
   "cell_type": "code",
   "execution_count": 4,
   "id": "e7dec62b",
   "metadata": {},
   "outputs": [],
   "source": [
    "dispen['controle'] = None"
   ]
  },
  {
   "cell_type": "code",
   "execution_count": 5,
   "id": "cccd30b0",
   "metadata": {},
   "outputs": [],
   "source": [
    "#tempo\n",
    "import time\n",
    "from time import sleep\n",
    "from selenium.webdriver.common.by import By\n",
    "from selenium.webdriver.support.ui import WebDriverWait\n",
    "from selenium.webdriver.support.expected_conditions import (visibility_of, \n",
    "                                                           staleness_of, \n",
    "                                                           invisibility_of_element)\n",
    "\n",
    "\n",
    "browser = webdriver.Firefox()"
   ]
  },
  {
   "cell_type": "code",
   "execution_count": 6,
   "id": "1a7b13bb",
   "metadata": {},
   "outputs": [],
   "source": [
    "browser.get('https://www.pegaplantao.com.br/login')\n",
    "sleep(1)\n",
    "browser.find_element(\"xpath\", '//*[@id=\"MainContent_LoginUser_UserName\"]').send_keys('gabriel_s_anjos@yahoo.com') #e-mail\n",
    "browser.find_element(\"xpath\", '//*[@id=\"MainContent_LoginUser_Password\"]').send_keys('Gabriel2022!') #senha\n",
    "browser.find_element(\"xpath\", '//*[@id=\"MainContent_LoginUser_btnLogin\"]').click() #login"
   ]
  },
  {
   "cell_type": "code",
   "execution_count": 7,
   "id": "92583856",
   "metadata": {},
   "outputs": [],
   "source": [
    "browser.get('https://www.pegaplantao.com.br/EscalaMensal')"
   ]
  },
  {
   "cell_type": "code",
   "execution_count": 8,
   "id": "16e0728c",
   "metadata": {},
   "outputs": [],
   "source": [
    "#click setor/profissional\n",
    "browser.find_element(\"xpath\", '//*[@id=\"s2id_autogen1\"]/a/span[1]').click()\n",
    "#click [profissional]\n",
    "browser.find_element(\"xpath\", '//*[@id=\"select2-drop\"]/ul/li[2]/div').click()"
   ]
  },
  {
   "cell_type": "code",
   "execution_count": 9,
   "id": "b2af1dc1",
   "metadata": {},
   "outputs": [],
   "source": [
    "browser.find_element(\"xpath\", '//*[@id=\"s2id_ddlProfessionals\"]/a/span[1]').click()"
   ]
  },
  {
   "cell_type": "code",
   "execution_count": 10,
   "id": "e8fc9978",
   "metadata": {},
   "outputs": [
    {
     "data": {
      "text/plain": [
       "False"
      ]
     },
     "execution_count": 10,
     "metadata": {},
     "output_type": "execute_result"
    }
   ],
   "source": [
    "browser.find_element(\"xpath\", '/html/body/div[6]/div/input').send_keys(dispen['nome'][0])\n",
    "browser.find_element(\"xpath\", '//*[@id=\"select2-drop\"]/ul/li/div').click()\n",
    "\n",
    "#esperando carregamento do site\n",
    "WebDriverWait(browser, 30).until_not(visibility_of(browser.find_element(\"xpath\", '//*[@id=\"loader\"]')))"
   ]
  },
  {
   "cell_type": "code",
   "execution_count": 11,
   "id": "f35743d1",
   "metadata": {},
   "outputs": [],
   "source": [
    "html = browser.page_source\n",
    "soup = BeautifulSoup(html, 'lxml')\n",
    "tab = soup.find('table')\n",
    "tbody = tab.tbody\n",
    "td = tbody.find_all('td')"
   ]
  },
  {
   "cell_type": "code",
   "execution_count": 12,
   "id": "129ad252",
   "metadata": {},
   "outputs": [],
   "source": [
    "##unwanted = tbody.find_all('td', class_=\"another-month\")"
   ]
  },
  {
   "cell_type": "code",
   "execution_count": 13,
   "id": "46392cd3",
   "metadata": {},
   "outputs": [],
   "source": [
    "##for i in unwanted:\n",
    "  #  i.extract()"
   ]
  },
  {
   "cell_type": "code",
   "execution_count": 14,
   "id": "0418dca2",
   "metadata": {},
   "outputs": [],
   "source": [
    "# cria lista dos dias dos mes, com 00 no lugar de dias de outros meses\n",
    "dias = []\n",
    "for i in td:\n",
    "    try:\n",
    "        if i['class'] == ['another-month']:\n",
    "            dias.append('00')\n",
    "    except:\n",
    "        spans = i.find('span', {'class':\"day-number\"}).text\n",
    "        dias.append(spans)"
   ]
  },
  {
   "cell_type": "code",
   "execution_count": 15,
   "id": "c2d64c40",
   "metadata": {},
   "outputs": [],
   "source": [
    "#cria um df com a lista dias na posição certa \n",
    "tabela = pd.DataFrame(np.array(dias).reshape(5,7), columns=['1','2','3','4','5','6','7'], index=['1','2','3','4','5'])"
   ]
  },
  {
   "cell_type": "code",
   "execution_count": 16,
   "id": "cfb334f7",
   "metadata": {},
   "outputs": [
    {
     "data": {
      "text/html": [
       "<div>\n",
       "<style scoped>\n",
       "    .dataframe tbody tr th:only-of-type {\n",
       "        vertical-align: middle;\n",
       "    }\n",
       "\n",
       "    .dataframe tbody tr th {\n",
       "        vertical-align: top;\n",
       "    }\n",
       "\n",
       "    .dataframe thead th {\n",
       "        text-align: right;\n",
       "    }\n",
       "</style>\n",
       "<table border=\"1\" class=\"dataframe\">\n",
       "  <thead>\n",
       "    <tr style=\"text-align: right;\">\n",
       "      <th></th>\n",
       "      <th>1</th>\n",
       "      <th>2</th>\n",
       "      <th>3</th>\n",
       "      <th>4</th>\n",
       "      <th>5</th>\n",
       "      <th>6</th>\n",
       "      <th>7</th>\n",
       "    </tr>\n",
       "  </thead>\n",
       "  <tbody>\n",
       "    <tr>\n",
       "      <th>1</th>\n",
       "      <td>00</td>\n",
       "      <td>00</td>\n",
       "      <td>00</td>\n",
       "      <td>01</td>\n",
       "      <td>02</td>\n",
       "      <td>03</td>\n",
       "      <td>04</td>\n",
       "    </tr>\n",
       "    <tr>\n",
       "      <th>2</th>\n",
       "      <td>05</td>\n",
       "      <td>06</td>\n",
       "      <td>07</td>\n",
       "      <td>08</td>\n",
       "      <td>09</td>\n",
       "      <td>10</td>\n",
       "      <td>11</td>\n",
       "    </tr>\n",
       "    <tr>\n",
       "      <th>3</th>\n",
       "      <td>12</td>\n",
       "      <td>13</td>\n",
       "      <td>14</td>\n",
       "      <td>15</td>\n",
       "      <td>16</td>\n",
       "      <td>17</td>\n",
       "      <td>18</td>\n",
       "    </tr>\n",
       "    <tr>\n",
       "      <th>4</th>\n",
       "      <td>19</td>\n",
       "      <td>20</td>\n",
       "      <td>21</td>\n",
       "      <td>22</td>\n",
       "      <td>23</td>\n",
       "      <td>24</td>\n",
       "      <td>25</td>\n",
       "    </tr>\n",
       "    <tr>\n",
       "      <th>5</th>\n",
       "      <td>26</td>\n",
       "      <td>27</td>\n",
       "      <td>28</td>\n",
       "      <td>29</td>\n",
       "      <td>30</td>\n",
       "      <td>00</td>\n",
       "      <td>00</td>\n",
       "    </tr>\n",
       "  </tbody>\n",
       "</table>\n",
       "</div>"
      ],
      "text/plain": [
       "    1   2   3   4   5   6   7\n",
       "1  00  00  00  01  02  03  04\n",
       "2  05  06  07  08  09  10  11\n",
       "3  12  13  14  15  16  17  18\n",
       "4  19  20  21  22  23  24  25\n",
       "5  26  27  28  29  30  00  00"
      ]
     },
     "execution_count": 16,
     "metadata": {},
     "output_type": "execute_result"
    }
   ],
   "source": [
    "tabela"
   ]
  },
  {
   "cell_type": "code",
   "execution_count": 17,
   "id": "e2e32eb3",
   "metadata": {},
   "outputs": [],
   "source": [
    "def existencia(caminho):\n",
    "    try:\n",
    "        browser.find_element(\"xpath\", caminho)\n",
    "        return True\n",
    "    except NoSuchElementException:\n",
    "        return False"
   ]
  },
  {
   "cell_type": "code",
   "execution_count": 18,
   "id": "77c84263",
   "metadata": {},
   "outputs": [],
   "source": [
    "apagar = [dispen['data'][0][:2]]"
   ]
  },
  {
   "cell_type": "code",
   "execution_count": 19,
   "id": "331f8478",
   "metadata": {},
   "outputs": [
    {
     "data": {
      "text/plain": [
       "['30']"
      ]
     },
     "execution_count": 19,
     "metadata": {},
     "output_type": "execute_result"
    }
   ],
   "source": [
    "apagar"
   ]
  },
  {
   "cell_type": "code",
   "execution_count": 20,
   "id": "ef76a30c",
   "metadata": {},
   "outputs": [
    {
     "data": {
      "text/html": [
       "<div>\n",
       "<style scoped>\n",
       "    .dataframe tbody tr th:only-of-type {\n",
       "        vertical-align: middle;\n",
       "    }\n",
       "\n",
       "    .dataframe tbody tr th {\n",
       "        vertical-align: top;\n",
       "    }\n",
       "\n",
       "    .dataframe thead th {\n",
       "        text-align: right;\n",
       "    }\n",
       "</style>\n",
       "<table border=\"1\" class=\"dataframe\">\n",
       "  <thead>\n",
       "    <tr style=\"text-align: right;\">\n",
       "      <th></th>\n",
       "      <th>chat</th>\n",
       "      <th>dia</th>\n",
       "      <th>nome</th>\n",
       "      <th>mensagem</th>\n",
       "      <th>controle</th>\n",
       "      <th>data</th>\n",
       "      <th>unidade</th>\n",
       "      <th>Q_unidades</th>\n",
       "      <th>sit</th>\n",
       "      <th>extra</th>\n",
       "      <th>tipo</th>\n",
       "      <th>hora</th>\n",
       "      <th>sem_ou_fds</th>\n",
       "      <th>hora2</th>\n",
       "      <th>ENTRADA</th>\n",
       "      <th>SAIDA</th>\n",
       "      <th>PERIODO</th>\n",
       "    </tr>\n",
       "  </thead>\n",
       "  <tbody>\n",
       "    <tr>\n",
       "      <th>0</th>\n",
       "      <td>[30/06/2023 06:27:50] Yoko Hayashi: 30/06 Itai...</td>\n",
       "      <td>30/06/2023</td>\n",
       "      <td>YOKO HAYASHI</td>\n",
       "      <td>30/06 ITAIM YOKO  ( DISPENSADOPOR MOTIVO DE SA...</td>\n",
       "      <td>None</td>\n",
       "      <td>30/06/2023</td>\n",
       "      <td>ITAIM</td>\n",
       "      <td>1</td>\n",
       "      <td>DISPENSADO</td>\n",
       "      <td>NaN</td>\n",
       "      <td>NaN</td>\n",
       "      <td>NaN</td>\n",
       "      <td>semana</td>\n",
       "      <td>NaN</td>\n",
       "      <td>NaN</td>\n",
       "      <td>NaN</td>\n",
       "      <td>NaN</td>\n",
       "    </tr>\n",
       "  </tbody>\n",
       "</table>\n",
       "</div>"
      ],
      "text/plain": [
       "                                                chat         dia  \\\n",
       "0  [30/06/2023 06:27:50] Yoko Hayashi: 30/06 Itai...  30/06/2023   \n",
       "\n",
       "           nome                                           mensagem controle  \\\n",
       "0  YOKO HAYASHI  30/06 ITAIM YOKO  ( DISPENSADOPOR MOTIVO DE SA...     None   \n",
       "\n",
       "         data unidade  Q_unidades         sit  extra  tipo  hora sem_ou_fds  \\\n",
       "0  30/06/2023   ITAIM           1  DISPENSADO    NaN   NaN   NaN     semana   \n",
       "\n",
       "   hora2  ENTRADA  SAIDA  PERIODO  \n",
       "0    NaN      NaN    NaN      NaN  "
      ]
     },
     "execution_count": 20,
     "metadata": {},
     "output_type": "execute_result"
    }
   ],
   "source": [
    "dispen"
   ]
  },
  {
   "cell_type": "code",
   "execution_count": 21,
   "id": "5fd26964",
   "metadata": {},
   "outputs": [],
   "source": [
    "count = 0\n",
    "for cada in apagar:\n",
    "    ##tr e td começam em 1 , índices e colunas em 0\n",
    "    tr_ind = str(np.where(tabela==cada)[0]+1)\n",
    "    td_ind = str(np.where(tabela==cada)[1]+1)\n",
    "    while(existencia('/html/body/form/main/div[2]/div[2]/table/tbody/tr'+tr_ind+'/td'+td_ind+'/ul[1]/li')):\n",
    "        elemento = browser.find_element(\"xpath\", '/html/body/form/main/div[2]/div[2]/table/tbody/tr'+tr_ind+'/td'+td_ind+'/ul[1]/li')\n",
    "        elemento.click()\n",
    "        sleep(4)\n",
    "        botao = browser.find_element(By.CSS_SELECTOR, 'button.pp-c-btn:nth-child(3)')\n",
    "        botao.click()\n",
    "        sleep(4)\n",
    "        botao2 = browser.find_element(By.CSS_SELECTOR, 'button.btnpp-info:nth-child(4)')\n",
    "        botao2.click()\n",
    "        sleep(4)\n",
    "        print(str(count)+': apagado'+' dispensa de '+dispen['nome'][0]+\" em \"+dispen['data'][0])\n",
    "        \n"
   ]
  },
  {
   "cell_type": "code",
   "execution_count": 22,
   "id": "2d2f6036",
   "metadata": {},
   "outputs": [],
   "source": [
    "if existencia('/html/body/form/main/div[2]/div[2]/table/tbody/tr'+tr_ind+'/td'+td_ind+'/ul[1]/li') is False:\n",
    "    dispen['controle'][0] = 'CERTO'\n",
    "    count += 1\n",
    "else: \n",
    "    dispen['controle'][0] = 'PROB'\n",
    "    count += 1\n",
    "    print(str(count)+\": deu erro de \"+dispen['nome'][0]+\" em \"+dispen['data'][0])"
   ]
  },
  {
   "cell_type": "code",
   "execution_count": 23,
   "id": "e18b532f",
   "metadata": {},
   "outputs": [
    {
     "data": {
      "text/plain": [
       "1"
      ]
     },
     "execution_count": 23,
     "metadata": {},
     "output_type": "execute_result"
    }
   ],
   "source": [
    "count"
   ]
  },
  {
   "cell_type": "code",
   "execution_count": 24,
   "id": "fb945d7e",
   "metadata": {},
   "outputs": [],
   "source": [
    "for plt in range(count, len(dispen)):\n",
    "    html = browser.find_element(By.TAG_NAME, 'html')\n",
    "    html.send_keys(Keys.HOME)\n",
    "    WebDriverWait(browser, 10).until(EC.element_to_be_clickable((By.XPATH, '//*[@id=\"s2id_ddlProfessionals\"]/a/span[1]')))\n",
    "    sleep(0.5)\n",
    "    browser.find_element(\"xpath\", '//*[@id=\"s2id_ddlProfessionals\"]/a/span[1]').click()\n",
    "    browser.find_element(\"xpath\", '/html/body/div[8]/div/input').send_keys(dispen['nome'][plt])\n",
    "    browser.find_element(\"xpath\", '//*[@id=\"select2-drop\"]/ul/li/div').click()\n",
    "    sleep(4)\n",
    "    apagar = dispen['data'][plt][:2]\n",
    "    \n",
    "    \n",
    "    html = browser.page_source\n",
    "    soup = BeautifulSoup(html, 'lxml')\n",
    "    tab = soup.find('table')\n",
    "    tbody = tab.tbody\n",
    "    td = tbody.find_all('td')\n",
    "    \n",
    "    dias = []\n",
    "    for i in td:\n",
    "        try:\n",
    "            if i['class'] == ['another-month']:\n",
    "                dias.append('00')\n",
    "        except:\n",
    "            spans = i.find('span', {'class':\"day-number\"}).text\n",
    "            dias.append(spans)\n",
    "            \n",
    "    tabela = pd.DataFrame(np.array(dias).reshape(5,7), columns=['1','2','3','4','5','6','7'], index=['1','2','3','4','5'])\n",
    "    \n",
    "    ##tr e td começam em 1 , índices e colunas em 0\n",
    "    tr_ind = str(np.where(tabela==apagar)[0]+1)\n",
    "    td_ind = str(np.where(tabela==apagar)[1]+1)\n",
    "    while(existencia('/html/body/form/main/div[2]/div[2]/table/tbody/tr'+tr_ind+'/td'+td_ind+'/ul[1]/li')):\n",
    "        elemento = browser.find_element(\"xpath\", '/html/body/form/main/div[2]/div[2]/table/tbody/tr'+tr_ind+'/td'+td_ind+'/ul[1]/li')\n",
    "        elemento.click()\n",
    "        sleep(4)\n",
    "        botao = browser.find_element(By.CSS_SELECTOR, 'button.pp-c-btn:nth-child(3)')\n",
    "        botao.click()\n",
    "        sleep(4)\n",
    "        botao2 = browser.find_element(By.CSS_SELECTOR, 'button.btnpp-info:nth-child(4)')\n",
    "        botao2.click()\n",
    "        sleep(4)\n",
    "        print(str(count)+': apagado'+' dispensa de '+dispen['nome'][plt]+\" em \"+dispen['data'][plt])\n",
    "    \n",
    "    if existencia('/html/body/form/main/div[2]/div[2]/table/tbody/tr'+tr_ind+'/td'+td_ind+'/ul[1]/li') is False:\n",
    "        dispen['controle'][plt] = 'CERTO'\n",
    "        count += 1\n",
    "    else: \n",
    "        dispen['controle'][plt] = 'PROB'\n",
    "        count += 1\n",
    "        print(str(count)+\": deu erro de \"+dispen['nome'][plt]+\" em \"+dispen['data'][plt])"
   ]
  },
  {
   "cell_type": "code",
   "execution_count": 25,
   "id": "1ac2a8bb",
   "metadata": {},
   "outputs": [
    {
     "data": {
      "text/plain": [
       "1"
      ]
     },
     "execution_count": 25,
     "metadata": {},
     "output_type": "execute_result"
    }
   ],
   "source": [
    "count"
   ]
  },
  {
   "cell_type": "code",
   "execution_count": 26,
   "id": "f8d99dbb",
   "metadata": {},
   "outputs": [
    {
     "data": {
      "text/plain": [
       "1"
      ]
     },
     "execution_count": 26,
     "metadata": {},
     "output_type": "execute_result"
    }
   ],
   "source": [
    "len(dispen)"
   ]
  },
  {
   "cell_type": "code",
   "execution_count": 27,
   "id": "a63cfb89",
   "metadata": {},
   "outputs": [
    {
     "data": {
      "text/html": [
       "<div>\n",
       "<style scoped>\n",
       "    .dataframe tbody tr th:only-of-type {\n",
       "        vertical-align: middle;\n",
       "    }\n",
       "\n",
       "    .dataframe tbody tr th {\n",
       "        vertical-align: top;\n",
       "    }\n",
       "\n",
       "    .dataframe thead th {\n",
       "        text-align: right;\n",
       "    }\n",
       "</style>\n",
       "<table border=\"1\" class=\"dataframe\">\n",
       "  <thead>\n",
       "    <tr style=\"text-align: right;\">\n",
       "      <th></th>\n",
       "      <th>chat</th>\n",
       "      <th>dia</th>\n",
       "      <th>nome</th>\n",
       "      <th>mensagem</th>\n",
       "      <th>controle</th>\n",
       "      <th>data</th>\n",
       "      <th>unidade</th>\n",
       "      <th>Q_unidades</th>\n",
       "      <th>sit</th>\n",
       "      <th>extra</th>\n",
       "      <th>tipo</th>\n",
       "      <th>hora</th>\n",
       "      <th>sem_ou_fds</th>\n",
       "      <th>hora2</th>\n",
       "      <th>ENTRADA</th>\n",
       "      <th>SAIDA</th>\n",
       "      <th>PERIODO</th>\n",
       "    </tr>\n",
       "  </thead>\n",
       "  <tbody>\n",
       "    <tr>\n",
       "      <th>0</th>\n",
       "      <td>[30/06/2023 06:27:50] Yoko Hayashi: 30/06 Itai...</td>\n",
       "      <td>30/06/2023</td>\n",
       "      <td>YOKO HAYASHI</td>\n",
       "      <td>30/06 ITAIM YOKO  ( DISPENSADOPOR MOTIVO DE SA...</td>\n",
       "      <td>CERTO</td>\n",
       "      <td>30/06/2023</td>\n",
       "      <td>ITAIM</td>\n",
       "      <td>1</td>\n",
       "      <td>DISPENSADO</td>\n",
       "      <td>NaN</td>\n",
       "      <td>NaN</td>\n",
       "      <td>NaN</td>\n",
       "      <td>semana</td>\n",
       "      <td>NaN</td>\n",
       "      <td>NaN</td>\n",
       "      <td>NaN</td>\n",
       "      <td>NaN</td>\n",
       "    </tr>\n",
       "  </tbody>\n",
       "</table>\n",
       "</div>"
      ],
      "text/plain": [
       "                                                chat         dia  \\\n",
       "0  [30/06/2023 06:27:50] Yoko Hayashi: 30/06 Itai...  30/06/2023   \n",
       "\n",
       "           nome                                           mensagem controle  \\\n",
       "0  YOKO HAYASHI  30/06 ITAIM YOKO  ( DISPENSADOPOR MOTIVO DE SA...    CERTO   \n",
       "\n",
       "         data unidade  Q_unidades         sit  extra  tipo  hora sem_ou_fds  \\\n",
       "0  30/06/2023   ITAIM           1  DISPENSADO    NaN   NaN   NaN     semana   \n",
       "\n",
       "   hora2  ENTRADA  SAIDA  PERIODO  \n",
       "0    NaN      NaN    NaN      NaN  "
      ]
     },
     "execution_count": 27,
     "metadata": {},
     "output_type": "execute_result"
    }
   ],
   "source": [
    "dispen"
   ]
  },
  {
   "cell_type": "markdown",
   "id": "b6460ad2",
   "metadata": {},
   "source": [
    "# Salvando dataframe"
   ]
  },
  {
   "cell_type": "code",
   "execution_count": 28,
   "id": "a21c066f",
   "metadata": {},
   "outputs": [],
   "source": [
    "dispen[dispen['controle'] == 'CERTO' ].to_excel(\"dispen_resolvido.xlsx\", index=False)"
   ]
  },
  {
   "cell_type": "code",
   "execution_count": 29,
   "id": "396dc523",
   "metadata": {},
   "outputs": [],
   "source": [
    "dispen[dispen['controle'] == 'PROB' ].to_excel(\"dispen_giov.xlsx\", index=False)"
   ]
  },
  {
   "cell_type": "markdown",
   "id": "08ae612f",
   "metadata": {},
   "source": [
    "###Fim Periodo "
   ]
  },
  {
   "cell_type": "code",
   "execution_count": null,
   "id": "fc85e413",
   "metadata": {},
   "outputs": [],
   "source": [
    "browser.quit()"
   ]
  },
  {
   "cell_type": "code",
   "execution_count": null,
   "id": "165aa061",
   "metadata": {},
   "outputs": [],
   "source": []
  },
  {
   "cell_type": "code",
   "execution_count": null,
   "id": "cd3f46ac",
   "metadata": {},
   "outputs": [],
   "source": []
  }
 ],
 "metadata": {
  "kernelspec": {
   "display_name": "Python 3 (ipykernel)",
   "language": "python",
   "name": "python3"
  },
  "language_info": {
   "codemirror_mode": {
    "name": "ipython",
    "version": 3
   },
   "file_extension": ".py",
   "mimetype": "text/x-python",
   "name": "python",
   "nbconvert_exporter": "python",
   "pygments_lexer": "ipython3",
   "version": "3.9.13"
  }
 },
 "nbformat": 4,
 "nbformat_minor": 5
}
