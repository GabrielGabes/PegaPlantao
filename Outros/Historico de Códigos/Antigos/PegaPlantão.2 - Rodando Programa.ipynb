{
 "cells": [
  {
   "cell_type": "code",
   "execution_count": 1,
   "id": "343d997d",
   "metadata": {},
   "outputs": [],
   "source": [
    "#manipulação de dados\n",
    "import pandas as pd\n",
    "import numpy as np\n",
    "\n",
    "#automação\n",
    "from selenium import webdriver\n",
    "from selenium.webdriver.common.keys import Keys\n",
    "\n",
    "#web scraping\n",
    "import requests\n",
    "from bs4 import BeautifulSoup\n",
    "\n",
    "#string e data\n",
    "import unidecode\n",
    "\n",
    "#tempo\n",
    "import time\n",
    "from time import sleep\n",
    "from selenium.webdriver.common.by import By\n",
    "from selenium.webdriver.support.ui import WebDriverWait\n",
    "from selenium.webdriver.support.expected_conditions import (visibility_of, \n",
    "                                                           staleness_of, \n",
    "                                                           invisibility_of_element)"
   ]
  },
  {
   "cell_type": "code",
   "execution_count": 2,
   "id": "7b371162",
   "metadata": {
    "scrolled": true
   },
   "outputs": [],
   "source": [
    "browser = webdriver.Firefox()"
   ]
  },
  {
   "cell_type": "code",
   "execution_count": 3,
   "id": "d8336b23",
   "metadata": {},
   "outputs": [],
   "source": [
    "browser.get('https://www.pegaplantao.com.br/login')\n",
    "sleep(1)\n",
    "browser.find_element(\"xpath\", '//*[@id=\"MainContent_LoginUser_UserName\"]').send_keys('gabriel_s_anjos@yahoo.com') #e-mail\n",
    "browser.find_element(\"xpath\", '//*[@id=\"MainContent_LoginUser_Password\"]').send_keys('Gabriel2022!') #senha\n",
    "browser.find_element(\"xpath\", '//*[@id=\"MainContent_LoginUser_btnLogin\"]').click() #login"
   ]
  },
  {
   "cell_type": "code",
   "execution_count": 4,
   "id": "2f632342",
   "metadata": {},
   "outputs": [],
   "source": [
    "browser.get('https://www.pegaplantao.com.br/EscalaMensal')"
   ]
  },
  {
   "cell_type": "code",
   "execution_count": 5,
   "id": "5e9271bd",
   "metadata": {},
   "outputs": [],
   "source": [
    "#click setor/profissional\n",
    "browser.find_element(\"xpath\", '//*[@id=\"s2id_autogen1\"]/a/span[1]').click()\n",
    "#click [profissional]\n",
    "browser.find_element(\"xpath\", '//*[@id=\"select2-drop\"]/ul/li[2]/div').click()"
   ]
  },
  {
   "cell_type": "markdown",
   "id": "9f78470c",
   "metadata": {},
   "source": [
    "# Capturando setores:"
   ]
  },
  {
   "cell_type": "code",
   "execution_count": 6,
   "id": "50842df4",
   "metadata": {},
   "outputs": [],
   "source": [
    "#click criar novo plantão\n",
    "browser.find_element(\"xpath\", '//*[@id=\"shift-monthly\"]/div[2]/table/tbody/tr[1]/td[4]/button').click()"
   ]
  },
  {
   "cell_type": "code",
   "execution_count": 7,
   "id": "e09333a7",
   "metadata": {},
   "outputs": [
    {
     "name": "stdout",
     "output_type": "stream",
     "text": [
      "\n",
      "Tempo que demorou o codigo: 0.7650556564331055\n"
     ]
    }
   ],
   "source": [
    "inicio = time.time() #iniciando o cronometro\n",
    "\n",
    "#Setor\n",
    "browser.find_element(\"xpath\", '//*[@id=\"s2id_ddlServiceSector\"]/a/span[1]').click()\n",
    "\n",
    "setor_html = browser.find_element(\"xpath\", '//*[@id=\"select2-drop\"]/ul').get_attribute('outerHTML')\n",
    "soup = BeautifulSoup(setor_html, 'html.parser')\n",
    "\n",
    "fim = time.time() #encerrando cronometro\n",
    "print('\\nTempo que demorou o codigo:', fim - inicio)"
   ]
  },
  {
   "cell_type": "code",
   "execution_count": 8,
   "id": "19c13eaa",
   "metadata": {
    "scrolled": true
   },
   "outputs": [
    {
     "name": "stdout",
     "output_type": "stream",
     "text": [
      "\n",
      "Tempo que demorou o codigo: 0.017661094665527344\n"
     ]
    }
   ],
   "source": [
    "inicio = time.time() #iniciando o cronometro\n",
    "\n",
    "lista_unidade = []\n",
    "lista_unidade_count = []\n",
    "lista_plt = []\n",
    "lista_plt_count = []\n",
    "\n",
    "count_unidade = 1\n",
    "\n",
    "for i in soup.find_all(class_=\"select2-results-dept-0 select2-result select2-result-unselectable select2-result-with-children\"):\n",
    "    #print('\\n', i.find(class_='select2-result-label').get_text(), '====== \\n')\n",
    "    count_plt = 1\n",
    "    for t in i.find_all(class_='select2-results-dept-1 select2-result select2-result-selectable'): \n",
    "        #print(t.get_text())\n",
    "        lista_plt.append(t.get_text())\n",
    "        lista_plt_count.append(count_plt)\n",
    "        count_plt += 1\n",
    "            \n",
    "        lista_unidade.append(i.find(class_='select2-result-label').get_text())\n",
    "        lista_unidade_count.append(count_unidade)\n",
    "    count_unidade += 1\n",
    "\n",
    "scrap_unidades = pd.DataFrame({'unidade':lista_unidade, 'momento':lista_plt,\n",
    "                               'unidade_count':lista_unidade_count, 'plt_count':lista_plt_count})\n",
    "\n",
    "scrap_unidades['momento'] = scrap_unidades['momento'].apply(lambda x: x.replace('  ',' '))\n",
    "\n",
    "scrap_unidades['momento'] = scrap_unidades['momento'].apply(lambda x: unidecode.unidecode(x.replace('  ',' ').upper().strip()))\n",
    "scrap_unidades['unidade'] = scrap_unidades['unidade'].apply(lambda x: unidecode.unidecode(x.replace('  ',' ').upper().strip()))\n",
    "\n",
    "fim = time.time() #encerrando cronometro\n",
    "print('\\nTempo que demorou o codigo:', fim - inicio)\n",
    "\n"
   ]
  },
  {
   "cell_type": "code",
   "execution_count": null,
   "id": "6c427404",
   "metadata": {},
   "outputs": [],
   "source": [
    "scrap_unidades.to_excel(\"setores.xlsx\", index=False)\n",
    "scrap_unidades.sample(20)"
   ]
  },
  {
   "cell_type": "raw",
   "id": "bd0bec4f",
   "metadata": {
    "scrolled": false
   },
   "source": [
    "for i in scrap_unidades.columns:\n",
    "    print(scrap_unidades[i].unique(),'\\n')"
   ]
  },
  {
   "cell_type": "markdown",
   "id": "a3184b54",
   "metadata": {},
   "source": [
    "# TESTANDO SETORES"
   ]
  },
  {
   "cell_type": "code",
   "execution_count": 9,
   "id": "0d5e4458",
   "metadata": {
    "scrolled": true
   },
   "outputs": [
    {
     "data": {
      "text/html": [
       "<div>\n",
       "<style scoped>\n",
       "    .dataframe tbody tr th:only-of-type {\n",
       "        vertical-align: middle;\n",
       "    }\n",
       "\n",
       "    .dataframe tbody tr th {\n",
       "        vertical-align: top;\n",
       "    }\n",
       "\n",
       "    .dataframe thead th {\n",
       "        text-align: right;\n",
       "    }\n",
       "</style>\n",
       "<table border=\"1\" class=\"dataframe\">\n",
       "  <thead>\n",
       "    <tr style=\"text-align: right;\">\n",
       "      <th></th>\n",
       "      <th>chat</th>\n",
       "      <th>dia</th>\n",
       "      <th>nome</th>\n",
       "      <th>mensagem</th>\n",
       "      <th>controle</th>\n",
       "      <th>data</th>\n",
       "      <th>unidade</th>\n",
       "      <th>extra</th>\n",
       "      <th>ENTRADA</th>\n",
       "      <th>SAIDA</th>\n",
       "      <th>DURAÇÃO</th>\n",
       "      <th>PERIODO</th>\n",
       "      <th>setor</th>\n",
       "      <th>sem_ou_fds</th>\n",
       "    </tr>\n",
       "  </thead>\n",
       "  <tbody>\n",
       "    <tr>\n",
       "      <th>0</th>\n",
       "      <td>[27/04/2023 09:15:57] Rodrigo Gomes Minas Nova...</td>\n",
       "      <td>27/04/2023</td>\n",
       "      <td>RODRIGO GOMES MINAS NOVAS</td>\n",
       "      <td>27/04 Morumbi - Gomes entrada 06:15</td>\n",
       "      <td>NaN</td>\n",
       "      <td>27/04/2023</td>\n",
       "      <td>MORUMBI</td>\n",
       "      <td>NaN</td>\n",
       "      <td>06:00</td>\n",
       "      <td>07:00</td>\n",
       "      <td>01:00</td>\n",
       "      <td>6h</td>\n",
       "      <td>SEMANA - 6HS</td>\n",
       "      <td>semana</td>\n",
       "    </tr>\n",
       "    <tr>\n",
       "      <th>1</th>\n",
       "      <td>[27/04/2023 10:45:02] Jessica Lidia de Souza: ...</td>\n",
       "      <td>27/04/2023</td>\n",
       "      <td>JESSICA LIDIA DE SOUZA</td>\n",
       "      <td>27/04 Villa - Jessica entrada 11:00  (  À pedi...</td>\n",
       "      <td>NaN</td>\n",
       "      <td>27/04/2023</td>\n",
       "      <td>VILLA</td>\n",
       "      <td>NaN</td>\n",
       "      <td>11:00</td>\n",
       "      <td>13:00</td>\n",
       "      <td>02:00</td>\n",
       "      <td>manha</td>\n",
       "      <td>SEMANA - MANHA - C.CIRURGICO</td>\n",
       "      <td>semana</td>\n",
       "    </tr>\n",
       "    <tr>\n",
       "      <th>2</th>\n",
       "      <td>[27/04/2023 11:42:57] Pedro Henrique Diniz Bot...</td>\n",
       "      <td>27/04/2023</td>\n",
       "      <td>PEDRO HENRIQUE DINIZ BOTELHO</td>\n",
       "      <td>27/04 Jabaquara - Diniz entrada 5:50</td>\n",
       "      <td>NaN</td>\n",
       "      <td>27/04/2023</td>\n",
       "      <td>JABAQUARA</td>\n",
       "      <td>NaN</td>\n",
       "      <td>05:30</td>\n",
       "      <td>07:00</td>\n",
       "      <td>01:30</td>\n",
       "      <td>6h</td>\n",
       "      <td>SEMANA - 6HS</td>\n",
       "      <td>semana</td>\n",
       "    </tr>\n",
       "    <tr>\n",
       "      <th>3</th>\n",
       "      <td>[27/04/2023 13:21:17] Alexsander Takashi Hamad...</td>\n",
       "      <td>27/04/2023</td>\n",
       "      <td>ALEXSANDER TAKASHI HAMADA</td>\n",
       "      <td>27/04  Analia   Alexsander entrada 5:15</td>\n",
       "      <td>NaN</td>\n",
       "      <td>27/04/2023</td>\n",
       "      <td>ANALIA</td>\n",
       "      <td>NaN</td>\n",
       "      <td>05:00</td>\n",
       "      <td>07:00</td>\n",
       "      <td>02:00</td>\n",
       "      <td>6h</td>\n",
       "      <td>SEMANA - 6HS</td>\n",
       "      <td>semana</td>\n",
       "    </tr>\n",
       "    <tr>\n",
       "      <th>4</th>\n",
       "      <td>[27/04/2023 13:26:26] José Marcos Vieira da Si...</td>\n",
       "      <td>27/04/2023</td>\n",
       "      <td>JOSE MARCOS VIEIRA DA SILVA</td>\n",
       "      <td>27/04 - Itaim José Marcos entrada 6:00</td>\n",
       "      <td>NaN</td>\n",
       "      <td>27/04/2023</td>\n",
       "      <td>ITAIM</td>\n",
       "      <td>NaN</td>\n",
       "      <td>06:00</td>\n",
       "      <td>07:00</td>\n",
       "      <td>01:00</td>\n",
       "      <td>6h</td>\n",
       "      <td>SEMANA - 6HS</td>\n",
       "      <td>semana</td>\n",
       "    </tr>\n",
       "  </tbody>\n",
       "</table>\n",
       "</div>"
      ],
      "text/plain": [
       "                                                chat         dia  \\\n",
       "0  [27/04/2023 09:15:57] Rodrigo Gomes Minas Nova...  27/04/2023   \n",
       "1  [27/04/2023 10:45:02] Jessica Lidia de Souza: ...  27/04/2023   \n",
       "2  [27/04/2023 11:42:57] Pedro Henrique Diniz Bot...  27/04/2023   \n",
       "3  [27/04/2023 13:21:17] Alexsander Takashi Hamad...  27/04/2023   \n",
       "4  [27/04/2023 13:26:26] José Marcos Vieira da Si...  27/04/2023   \n",
       "\n",
       "                           nome  \\\n",
       "0     RODRIGO GOMES MINAS NOVAS   \n",
       "1        JESSICA LIDIA DE SOUZA   \n",
       "2  PEDRO HENRIQUE DINIZ BOTELHO   \n",
       "3     ALEXSANDER TAKASHI HAMADA   \n",
       "4   JOSE MARCOS VIEIRA DA SILVA   \n",
       "\n",
       "                                            mensagem  controle        data  \\\n",
       "0                27/04 Morumbi - Gomes entrada 06:15       NaN  27/04/2023   \n",
       "1  27/04 Villa - Jessica entrada 11:00  (  À pedi...       NaN  27/04/2023   \n",
       "2               27/04 Jabaquara - Diniz entrada 5:50       NaN  27/04/2023   \n",
       "3            27/04  Analia   Alexsander entrada 5:15       NaN  27/04/2023   \n",
       "4             27/04 - Itaim José Marcos entrada 6:00       NaN  27/04/2023   \n",
       "\n",
       "     unidade extra ENTRADA  SAIDA DURAÇÃO PERIODO  \\\n",
       "0    MORUMBI   NaN   06:00  07:00   01:00      6h   \n",
       "1      VILLA   NaN   11:00  13:00   02:00   manha   \n",
       "2  JABAQUARA   NaN   05:30  07:00   01:30      6h   \n",
       "3     ANALIA   NaN   05:00  07:00   02:00      6h   \n",
       "4      ITAIM   NaN   06:00  07:00   01:00      6h   \n",
       "\n",
       "                          setor sem_ou_fds  \n",
       "0                  SEMANA - 6HS     semana  \n",
       "1  SEMANA - MANHA - C.CIRURGICO     semana  \n",
       "2                  SEMANA - 6HS     semana  \n",
       "3                  SEMANA - 6HS     semana  \n",
       "4                  SEMANA - 6HS     semana  "
      ]
     },
     "execution_count": 9,
     "metadata": {},
     "output_type": "execute_result"
    }
   ],
   "source": [
    "df = pd.read_excel('df_gabs.xlsx')\n",
    "df.head()"
   ]
  },
  {
   "cell_type": "code",
   "execution_count": null,
   "id": "a0965555",
   "metadata": {},
   "outputs": [],
   "source": []
  },
  {
   "cell_type": "code",
   "execution_count": 10,
   "id": "f78b64a6",
   "metadata": {},
   "outputs": [
    {
     "name": "stdout",
     "output_type": "stream",
     "text": [
      "==================== TUDO OK ====================\n"
     ]
    }
   ],
   "source": [
    "for X in range(0, len(df)):\n",
    "    if len(scrap_unidades.loc[(scrap_unidades.unidade == df['unidade'][X]) & \n",
    "                                 (scrap_unidades.momento == df['setor'][X])]) < 1:\n",
    "        print(X)\n",
    "        print(df['unidade'][X], '-', df['setor'][X])\n",
    "        print('index', ind)\n",
    "        print(scrap_unidades['unidade'][ind], '-', scrap_unidades['momento'][ind])\n",
    "        print('codigos:', unidade, setorzin)\n",
    "        \n",
    "        break\n",
    "\n",
    "print(\"=\"*20, \"TUDO OK\", \"=\"*20)"
   ]
  },
  {
   "cell_type": "code",
   "execution_count": null,
   "id": "8bbc10f7",
   "metadata": {
    "scrolled": true
   },
   "outputs": [],
   "source": [
    "print(df['unidade'][X])\n",
    "print(df['setor'][X])"
   ]
  },
  {
   "cell_type": "markdown",
   "id": "9d27dbca",
   "metadata": {},
   "source": [
    "# RODANDO NO PEGA"
   ]
  },
  {
   "cell_type": "code",
   "execution_count": 11,
   "id": "849f291a",
   "metadata": {},
   "outputs": [
    {
     "data": {
      "text/plain": [
       "129"
      ]
     },
     "execution_count": 11,
     "metadata": {},
     "output_type": "execute_result"
    }
   ],
   "source": [
    "len(df)"
   ]
  },
  {
   "cell_type": "code",
   "execution_count": 1,
   "id": "6a7de828",
   "metadata": {},
   "outputs": [],
   "source": [
    "H=0"
   ]
  },
  {
   "cell_type": "code",
   "execution_count": 22,
   "id": "a5dcf2db",
   "metadata": {
    "scrolled": true
   },
   "outputs": [
    {
     "name": "stdout",
     "output_type": "stream",
     "text": [
      "110\n",
      "base: OSASCO - SEMANA - 6HS\n",
      "scraping: OSASCO - SEMANA - 6HS\n",
      "caixa: Osasco - Semana - 6hs\n",
      "selecionado: Semana - 6hs \n",
      "\n",
      "base: ARTHUR RODRIGUES TORRELIO\n",
      "selecionado: ARTHUR RODRIGUES TORRÉLIO\n",
      "\n",
      "28/04/2023\n",
      "hora de entrada: 06:00 \n",
      "hora de saida: 07:00\n",
      "duração do plantão 01:00\n",
      "======================================== \n",
      "\n",
      "111\n",
      "base: OSASCO - SEMANA - 6HS\n",
      "scraping: OSASCO - SEMANA - 6HS\n",
      "caixa: Osasco - Semana - 6hs\n",
      "selecionado: Semana - 6hs \n",
      "\n",
      "base: LUDMYLLA GOMES NEVES\n",
      "selecionado: LUDMYLLA GOMES NEVES\n",
      "\n",
      "28/04/2023\n",
      "hora de entrada: 05:30 \n",
      "hora de saida: 07:00\n",
      "duração do plantão 01:30\n",
      "======================================== \n",
      "\n",
      "112\n",
      "base: VILLA - SEMANA - 6HS\n",
      "scraping: VILLA - SEMANA - 6HS\n",
      "caixa: Villa - Semana - 6hs\n",
      "selecionado: Semana - 6hs \n",
      "\n",
      "base: JULIANA HUSSEIN GRILO\n",
      "selecionado: JULIANA HUSSEIN GRILO\n",
      "\n",
      "28/04/2023\n",
      "hora de entrada: 06:00 \n",
      "hora de saida: 07:00\n",
      "duração do plantão 01:00\n",
      "======================================== \n",
      "\n",
      "113\n",
      "base: ANALIA - SEMANA - 6HS\n",
      "scraping: ANALIA - SEMANA - 6HS\n",
      "caixa: Anália - Semana - 6hs\n",
      "selecionado: Semana - 6hs \n",
      "\n",
      "base: CARLOS EDUARDO CORREA GRILO\n",
      "selecionado: CARLOS EDUARDO CORRÊA GRILO\n",
      "\n",
      "28/04/2023\n",
      "hora de entrada: 06:00 \n",
      "hora de saida: 07:00\n",
      "duração do plantão 01:00\n",
      "======================================== \n",
      "\n",
      "114\n",
      "base: VILLA - SEMANA - 6HS\n",
      "scraping: VILLA - SEMANA - 6HS\n",
      "caixa: Villa - Semana - 6hs\n",
      "selecionado: Semana - 6hs \n",
      "\n",
      "base: MARCIO IGHOR AZEVEDO SILVA DE MENDONCA MELANIA\n",
      "selecionado: MÁRCIO IGHOR AZEVEDO SILVA DE MENDONÇA MELÂNIA\n",
      "\n",
      "28/04/2023\n",
      "hora de entrada: 05:30 \n",
      "hora de saida: 07:00\n",
      "duração do plantão 01:30\n",
      "======================================== \n",
      "\n",
      "115\n",
      "base: JABAQUARA - SEMANA - 6HS\n",
      "scraping: JABAQUARA - SEMANA - 6HS\n",
      "caixa: Jabaquara - Semana - 6hs\n",
      "selecionado: Semana - 6hs \n",
      "\n",
      "base: LAIS RIBEIRO TEIXEIRA\n",
      "selecionado: LAIS RIBEIRO TEIXEIRA\n",
      "\n",
      "28/04/2023\n",
      "hora de entrada: 06:00 \n",
      "hora de saida: 07:00\n",
      "duração do plantão 01:00\n",
      "======================================== \n",
      "\n",
      "116\n",
      "base: VNS - SEMANA - 6HS\n",
      "scraping: VNS - SEMANA - 6HS\n",
      "caixa: VNS - Semana - 6hs\n",
      "selecionado: Semana - 6hs \n",
      "\n",
      "base: RENATA TOGEIRO BASTOS GODOY DE FARIA\n",
      "selecionado: RENATA TOGEIRO BASTOS GODOY DE FARIA\n",
      "\n",
      "28/04/2023\n",
      "hora de entrada: 05:30 \n",
      "hora de saida: 07:00\n",
      "duração do plantão 01:30\n",
      "EXTRA\n",
      "======================================== \n",
      "\n",
      "117\n",
      "base: ITAIM - SEMANA - MANHA - C.CIRURGICO\n",
      "scraping: ITAIM - SEMANA - MANHA - C.CIRURGICO\n",
      "caixa: Itaim - Semana - Manhã - C.Cirúrgico\n",
      "selecionado: Semana - Manhã - C.Cirúrgico \n",
      "\n",
      "base: JOSE MARCOS VIEIRA DA SILVA\n",
      "selecionado: JOSÉ MARCOS VIEIRA DA SILVA\n",
      "\n",
      "28/04/2023\n",
      "hora de entrada: 07:00 \n",
      "hora de saida: 10:30\n",
      "duração do plantão 03:30\n",
      "PROB\n",
      "======================================== \n",
      "\n",
      "118\n",
      "base: AVICCENA - SEMANA - 6HS\n",
      "scraping: AVICCENA - SEMANA - 6HS\n",
      "caixa: Aviccena - Semana - 6hs\n",
      "selecionado: Semana - 6hs \n",
      "\n",
      "base: THIAGO BARRETO MARQUES DA SILVA\n",
      "selecionado: THIAGO BARRETO MARQUES DA SILVA\n",
      "\n",
      "28/04/2023\n",
      "hora de entrada: 05:30 \n",
      "hora de saida: 07:00\n",
      "duração do plantão 01:30\n",
      "======================================== \n",
      "\n",
      "119\n",
      "base: ITAIM - SEMANA - 6HS\n",
      "scraping: ITAIM - SEMANA - 6HS\n",
      "caixa: Itaim - Semana - 6hs\n",
      "selecionado: Semana - 6hs \n",
      "\n",
      "base: MILTON OLAIO NETO\n",
      "selecionado: MILTON OLAIO NETO\n",
      "\n",
      "28/04/2023\n",
      "hora de entrada: 06:00 \n",
      "hora de saida: 07:00\n",
      "duração do plantão 01:00\n",
      "======================================== \n",
      "\n",
      "120\n",
      "base: ITAIM - SEMANA - MANHA - C.CIRURGICO\n",
      "scraping: ITAIM - SEMANA - MANHA - C.CIRURGICO\n",
      "caixa: Itaim - Semana - Manhã - C.Cirúrgico\n",
      "selecionado: Semana - Manhã - C.Cirúrgico \n",
      "\n",
      "base: MILTON OLAIO NETO\n",
      "selecionado: MILTON OLAIO NETO\n",
      "\n",
      "28/04/2023\n",
      "hora de entrada: 07:00 \n",
      "hora de saida: 12:00\n",
      "duração do plantão 05:00\n",
      "duração >5 -> 100 pontos\n",
      "PROB\n",
      "======================================== \n",
      "\n",
      "121\n",
      "base: VNS - SEMANA - TARDE - C.CIRURGICO\n",
      "scraping: VNS - SEMANA - TARDE - C.CIRURGICO\n",
      "caixa: VNS - Semana - Tarde - C.Cirúrgico\n",
      "selecionado: Semana - Tarde - C.Cirúrgico \n",
      "\n",
      "base: RENATA TOGEIRO BASTOS GODOY DE FARIA\n",
      "selecionado: RENATA TOGEIRO BASTOS GODOY DE FARIA\n",
      "\n",
      "28/04/2023\n",
      "hora de entrada: 13:00 \n",
      "hora de saida: 13:30\n",
      "duração do plantão 00:30\n",
      "EXTRA\n",
      "======================================== \n",
      "\n",
      "122\n",
      "base: SANTA ISABEL - SEMANA - TARDE - C.CIRURGICO\n",
      "scraping: SANTA ISABEL - SEMANA - TARDE - C.CIRURGICO\n",
      "caixa: Santa Isabel - Semana - Tarde - C.Cirúrgico\n",
      "selecionado: Semana - Tarde - C.Cirúrgico \n",
      "\n",
      "base: DIEGO DA CUNHA TOMAZ\n",
      "selecionado: DIEGO DA CUNHA TOMAZ\n",
      "\n",
      "28/04/2023\n",
      "hora de entrada: 13:00 \n",
      "hora de saida: 13:30\n",
      "duração do plantão 00:30\n",
      "======================================== \n",
      "\n",
      "123\n",
      "base: ANALIA - SEMANA - TARDE - C.CIRURGICO\n",
      "scraping: ANALIA - SEMANA - TARDE - C.CIRURGICO\n",
      "caixa: Anália - Semana - Tarde - C.Cirúrgico\n",
      "selecionado: Semana - Tarde - C.Cirúrgico \n",
      "\n",
      "base: CARLOS EDUARDO CORREA GRILO\n",
      "selecionado: CARLOS EDUARDO CORRÊA GRILO\n",
      "\n",
      "28/04/2023\n",
      "hora de entrada: 13:00 \n",
      "hora de saida: 14:30\n",
      "duração do plantão 01:30\n",
      "======================================== \n",
      "\n",
      "124\n",
      "base: MATERNIDADE - SEMANA - TARDE - C.CIRURGICO\n",
      "scraping: MATERNIDADE - SEMANA - TARDE - C.CIRURGICO\n",
      "caixa: Maternidade - Semana - Tarde - C.Cirúrgico\n",
      "selecionado: Semana - Tarde - C.Cirúrgico \n",
      "\n",
      "base: MARINA BORGES CURRALO\n",
      "selecionado: MARINA BORGES CURRALO\n",
      "\n",
      "28/04/2023\n",
      "hora de entrada: 13:00 \n",
      "hora de saida: 14:30\n",
      "duração do plantão 01:30\n",
      "PROB\n",
      "======================================== \n",
      "\n",
      "125\n",
      "base: OSASCO - SEMANA - TARDE - C.CIRURGICO\n",
      "scraping: OSASCO - SEMANA - TARDE - C.CIRURGICO\n",
      "caixa: Osasco - Semana - Tarde - C.Cirúrgico\n",
      "selecionado: Semana - Tarde - C.Cirúrgico \n",
      "\n",
      "base: THAIS CHAVES PINHEIRO\n",
      "selecionado: THAIS CHAVES PINHEIRO\n",
      "\n",
      "28/04/2023\n",
      "hora de entrada: 13:00 \n",
      "hora de saida: 15:30\n",
      "duração do plantão 02:30\n",
      "PROB\n",
      "======================================== \n",
      "\n",
      "126\n",
      "base: OSASCO - SEMANA - TARDE - C.CIRURGICO\n",
      "scraping: OSASCO - SEMANA - TARDE - C.CIRURGICO\n",
      "caixa: Osasco - Semana - Tarde - C.Cirúrgico\n",
      "selecionado: Semana - Tarde - C.Cirúrgico \n",
      "\n",
      "base: KAIE FERNANDES\n",
      "selecionado: KAIÊ FERNANDES\n",
      "\n",
      "28/04/2023\n",
      "hora de entrada: 13:00 \n",
      "hora de saida: 15:30\n",
      "duração do plantão 02:30\n",
      "EXTRA\n",
      "======================================== \n",
      "\n",
      "127\n",
      "base: VNS - SEMANA - TARDE - C.CIRURGICO\n",
      "scraping: VNS - SEMANA - TARDE - C.CIRURGICO\n",
      "caixa: VNS - Semana - Tarde - C.Cirúrgico\n",
      "selecionado: Semana - Tarde - C.Cirúrgico \n",
      "\n",
      "base: FERNANDO RIBEIRO SA\n",
      "selecionado: FERNANDO RIBEIRO SÁ\n",
      "\n",
      "28/04/2023\n",
      "hora de entrada: 13:00 \n",
      "hora de saida: 15:30\n",
      "duração do plantão 02:30\n",
      "PROB\n",
      "======================================== \n",
      "\n",
      "128\n",
      "base: JABAQUARA - SEMANA - TARDE - C.CIRURGICO\n",
      "scraping: JABAQUARA - SEMANA - TARDE - C.CIRURGICO\n",
      "caixa: Jabaquara - Semana - Tarde - C.Cirúrgico\n",
      "selecionado: Semana - Tarde - C.Cirúrgico \n",
      "\n",
      "base: RONALD FIGUEIREDO GOMES\n",
      "selecionado: RONALD FIGUEIREDO GOMES\n",
      "\n",
      "28/04/2023\n",
      "hora de entrada: 13:00 \n",
      "hora de saida: 16:00\n",
      "duração do plantão 03:00\n",
      "PROB\n",
      "======================================== \n",
      "\n"
     ]
    }
   ],
   "source": [
    "for h in range(H, len(df)):\n",
    "    print(h)\n",
    "    #click criar novo plantão\n",
    "    browser.find_element(\"xpath\", '//*[@id=\"shift-monthly\"]/div[2]/table/tbody/tr[1]/td[4]/button').click()\n",
    "    \n",
    "    #esta disponivel o botão de setor\n",
    "    WebDriverWait(browser, 10).until(visibility_of(browser.find_element(\"xpath\", '//*[@id=\"s2id_ddlServiceSector\"]/a/span[1]')))\n",
    "    #Setor====\n",
    "    print('base:', df['unidade'][h], '-', df['setor'][h])\n",
    "    browser.find_element(\"xpath\", '//*[@id=\"s2id_ddlServiceSector\"]/a/span[1]').click()\n",
    "    ind = scrap_unidades.loc[(scrap_unidades.unidade == df['unidade'][h]) & \n",
    "                             (scrap_unidades.momento == df['setor'][h])].index.values[0]\n",
    "    unidade = scrap_unidades['unidade_count'][ind]\n",
    "    setorzin = scrap_unidades['plt_count'][ind]\n",
    "    print('scraping:', scrap_unidades['unidade'][ind], '-', scrap_unidades['momento'][ind])\n",
    "    #SELECIONANDO Setor ##//*[@id=\"select2-drop\"]/ul/li[unidade]/ul/li[momento]/div\n",
    "    print('caixa:', browser.find_element(\"xpath\", '//*[@id=\"select2-drop\"]/ul/li['+str(unidade)+']/div').text, '-',\n",
    "          browser.find_element(\"xpath\", '//*[@id=\"select2-drop\"]/ul/li['+str(unidade)+']/ul/li['+str(setorzin)+']/div').text)\n",
    "    browser.find_element(\"xpath\", '//*[@id=\"select2-drop\"]/ul/li['+str(unidade)+']/ul/li['+str(setorzin)+']/div').click()\n",
    "    print('selecionado:', browser.find_element(\"xpath\", '//*[@id=\"s2id_ddlServiceSector\"]/a/span[1]').text, '\\n')\n",
    "    \n",
    "    #PROFISSIONAL\n",
    "    #esta disponivel o botão de profissional\n",
    "    WebDriverWait(browser, 10).until(visibility_of(browser.find_element(\"xpath\", '//*[@id=\"service-ckb-list-all-owner\"]')))\n",
    "    \n",
    "    #listar todos\n",
    "    browser.find_element(\"xpath\", '//*[@id=\"service-ckb-list-all-owner\"]').click()\n",
    "    \n",
    "    browser.find_element(\"xpath\", '//*[@id=\"service-ckb-list-all-owner\"]').click() #########\n",
    "    browser.find_element(\"xpath\", '//*[@id=\"service-ckb-list-all-owner\"]').click() #########\n",
    "    sleep(0.5)\n",
    "    browser.find_element(\"xpath\", '//*[@id=\"s2id_ddlProfessionalA\"]/a/span[1]').click()\n",
    "    browser.find_element(\"xpath\", '//*[@id=\"select2-drop\"]/div/input').send_keys(df['nome'][h])\n",
    "    #Dando enter\n",
    "    browser.find_element(\"xpath\", '//*[@id=\"select2-drop\"]/div/input').send_keys(Keys.RETURN)\n",
    "    #info\n",
    "    print('base:', df['nome'][h])\n",
    "    print('selecionado:', browser.find_element(\"xpath\", '//*[@id=\"s2id_ddlProfessionalA\"]/a/span[1]').text)\n",
    "    print(browser.find_element(\"xpath\", '//*[@id=\"service-ckb-list-all-owner\"]').text)\n",
    "    \n",
    "    sleep(2)\n",
    "    #Data\n",
    "    browser.find_element(\"xpath\", '//*[@id=\"modal-add-service\"]/div/div[2]/div[3]/div[5]/div[1]/div[2]/div/div[2]/div[1]/div[2]/input[1]').clear()\n",
    "    sleep(1)\n",
    "    browser.find_element(\"xpath\", '//*[@id=\"modal-add-service\"]/div/div[2]/div[3]/div[5]/div[1]/div[2]/div/div[2]/div[1]/div[2]/input[1]').send_keys(df['data'][h])\n",
    "    sleep(0.5)\n",
    "    print(df['data'][h])\n",
    "    \n",
    "    #Inicio do plantão\n",
    "    browser.find_element(\"xpath\", '//*[@id=\"txtServiceStartTime\"]').clear()\n",
    "    browser.find_element(\"xpath\", '//*[@id=\"txtServiceStartTime\"]').send_keys(df['ENTRADA'][h])\n",
    "    sleep(1)\n",
    "    print('hora de entrada:', df['ENTRADA'][h], '\\nhora de saida:', df['SAIDA'][h])\n",
    "    #Duração do plantão\n",
    "    browser.find_element(\"xpath\", '//*[@id=\"txtServiceDuration\"]').clear()\n",
    "    browser.find_element(\"xpath\", '//*[@id=\"txtServiceDuration\"]').send_keys(df['DURAÇÃO'][h])\n",
    "    print('duração do plantão', df['DURAÇÃO'][h])\n",
    "        \n",
    "    ##TIPO\n",
    "    '''\n",
    "    //*[@id=\"select2-drop\"]/ul/li[3]/div\n",
    "    1 - Normal\n",
    "    2 - DESLOCAMENTO\n",
    "    3 - VOLUNTÁRIO\n",
    "    4 - COBERTURA\n",
    "    '''\n",
    "    if df['extra'][h] == 'extra':\n",
    "        print('EXTRA')\n",
    "        sleep(1)\n",
    "        browser.find_element(\"xpath\", '//*[@id=\"s2id_add-service-service-types\"]/a/span[1]').click()\n",
    "        browser.find_element(\"xpath\", '//*[@id=\"s2id_add-service-service-types\"]/a/span[1]').click()\n",
    "        sleep(1)\n",
    "        #selecionando o tipo voluntario:\n",
    "        browser.find_element(\"xpath\", '//*[@id=\"select2-drop\"]/ul/li[3]/div').click()\n",
    "        if int(df['DURAÇÃO'][h][:2]) >= 5 and df['sem_ou_fds'][h] == \"semana\":\n",
    "            browser.find_element(\"xpath\", '//*[@id=\"txtServiceValue\"]').clear()\n",
    "            browser.find_element(\"xpath\", '//*[@id=\"txtServiceValue\"]').send_keys(200) #Pontos\n",
    "            print('duração >5 -> 200 pontos')\n",
    "        else:\n",
    "            pass\n",
    "    else:\n",
    "        if int(df['DURAÇÃO'][h][:2]) >= 5 and df['sem_ou_fds'][h] == \"semana\":\n",
    "            browser.find_element(\"xpath\", '//*[@id=\"txtServiceValue\"]').clear()\n",
    "            browser.find_element(\"xpath\", '//*[@id=\"txtServiceValue\"]').send_keys(100) #Pontos\n",
    "            print('duração >5 -> 100 pontos')\n",
    "        else:\n",
    "            pass\n",
    "        sleep(2)\n",
    "        \n",
    "    #salvar plantão\n",
    "    sleep(1)\n",
    "    browser.find_element(\"xpath\", '//*[@id=\"modal-add-service\"]/div/div[1]/div[2]/button[4]').click()\n",
    "    browser.find_element(\"xpath\", '//*[@id=\"modal-add-service\"]/div/div[1]/div[2]/button[4]').click()\n",
    "    browser.find_element(\"xpath\", '//*[@id=\"modal-add-service\"]/div/div[1]/div[2]/button[4]').click()\n",
    "    sleep(4)\n",
    "\n",
    "    #VERIFICANDO SE HOUVE ERRO - HÁ PLANTÃO NO MESMO HORARIO\n",
    "    if browser.find_element(\"xpath\", '/html/body/div[5]/div/div[2]/div[2]/div/label').text != '':\n",
    "        #browser.find_element(\"xpath\", '//*[@id=\"ckb-add-service-ignore-conflict\"]').click()#estou ciente\n",
    "        sleep(1)\n",
    "        #browser.find_element(\"xpath\", '//*[@id=\"modal-add-service\"]/div/div[1]/div[2]/button[4]').click() #salvar plantão\n",
    "        #browser.find_element(\"xpath\", '//*[@id=\"modal-add-service\"]/div/div[1]/div[2]/button[4]').click()\n",
    "        #browser.find_element(\"xpath\", '//*[@id=\"modal-add-service\"]/div/div[1]/div[2]/button[4]').click()\n",
    "        #\n",
    "        browser.find_element(\"xpath\", '//*[@id=\"modal-add-service\"]/div/div[1]/button').click() #FECHAR\n",
    "        df.loc[int(h), 'controle'] = \"PROBS\"\n",
    "        print(\"PROB\")\n",
    "    else:\n",
    "        df.loc[int(h), 'controle'] = \"NORM\"\n",
    "    \n",
    "    #browser.find_element(\"xpath\", '//*[@id=\"modal-add-service\"]/div/div[1]/button').click() #fechar {X}\n",
    "\n",
    "    #não esta disponivel o X\n",
    "    \n",
    "    WebDriverWait(browser, 10).until_not(visibility_of(browser.find_element(\"xpath\", '//*[@id=\"modal-add-service\"]/div/div[1]/button')))\n",
    "    H += 1\n",
    "    print('='*40, '\\n')"
   ]
  },
  {
   "cell_type": "code",
   "execution_count": 37,
   "id": "8fe82d84",
   "metadata": {},
   "outputs": [
    {
     "name": "stdout",
     "output_type": "stream",
     "text": [
      "NORM     236\n",
      "PROBS     73\n",
      "Name: controle, dtype: int64\n"
     ]
    }
   ],
   "source": [
    "print(df['controle'].value_counts())"
   ]
  },
  {
   "cell_type": "code",
   "execution_count": null,
   "id": "e4f6b28e",
   "metadata": {},
   "outputs": [],
   "source": [
    "df['nome'][h]"
   ]
  },
  {
   "cell_type": "code",
   "execution_count": 21,
   "id": "35cb60c5",
   "metadata": {},
   "outputs": [],
   "source": [
    "df['nome'][df['nome'] == 'ARTHUR TORRELIO'] = 'ARTHUR RODRIGUES TORRELIO'"
   ]
  },
  {
   "cell_type": "code",
   "execution_count": null,
   "id": "dc650bb5",
   "metadata": {},
   "outputs": [],
   "source": []
  },
  {
   "cell_type": "code",
   "execution_count": null,
   "id": "fce15c3b",
   "metadata": {},
   "outputs": [],
   "source": [
    "print(df['nome'][H])\n",
    "df.loc[int(H), 'controle'] = \"PROBS\"\n",
    "H += 1\n",
    "print(df['nome'][H])"
   ]
  },
  {
   "cell_type": "code",
   "execution_count": null,
   "id": "9e17c7fa",
   "metadata": {},
   "outputs": [],
   "source": [
    "print(df['nome'][H])"
   ]
  },
  {
   "cell_type": "code",
   "execution_count": null,
   "id": "7038a9e1",
   "metadata": {},
   "outputs": [],
   "source": [
    "len(df)"
   ]
  },
  {
   "cell_type": "markdown",
   "id": "ec77a3f5",
   "metadata": {},
   "source": [
    "# Testes:"
   ]
  },
  {
   "cell_type": "code",
   "execution_count": null,
   "id": "36bf5971",
   "metadata": {},
   "outputs": [],
   "source": [
    "df.head()"
   ]
  },
  {
   "cell_type": "code",
   "execution_count": null,
   "id": "f60ba208",
   "metadata": {},
   "outputs": [],
   "source": [
    "browser.find_element(\"xpath\", '/html/body/div[6]/div/div[2]/div[2]/div/label').text"
   ]
  },
  {
   "cell_type": "code",
   "execution_count": null,
   "id": "fa3ac3ee",
   "metadata": {},
   "outputs": [],
   "source": [
    "from selenium.webdriver.support import expected_conditions as EC\n",
    "from selenium.common.exceptions import TimeoutException"
   ]
  },
  {
   "cell_type": "code",
   "execution_count": null,
   "id": "3990202a",
   "metadata": {},
   "outputs": [],
   "source": [
    "browser.find_element(\"xpath\", '//*[@id=\"modal-add-service\"]/div/div[1]/button').is_enabled()"
   ]
  },
  {
   "cell_type": "code",
   "execution_count": null,
   "id": "f96f3331",
   "metadata": {},
   "outputs": [],
   "source": [
    "df['nome'][df['nome'] == \"MICHELE DE OLIVEIRA CHAGAS\"] = \"MICHELLE DE OLIVEIRA CHAGAS\""
   ]
  },
  {
   "cell_type": "code",
   "execution_count": null,
   "id": "d5c9d38d",
   "metadata": {},
   "outputs": [],
   "source": [
    "df[\"controle\"].iloc[344]"
   ]
  },
  {
   "cell_type": "code",
   "execution_count": null,
   "id": "133a2430",
   "metadata": {},
   "outputs": [],
   "source": [
    "browser.find_element(\"xpath\", '/html/body/div[5]/div/div[2]/div[2]/div/label').text"
   ]
  },
  {
   "cell_type": "code",
   "execution_count": null,
   "id": "a135bdc5",
   "metadata": {},
   "outputs": [],
   "source": [
    "browser.find_element(\"xpath\", '//*[@id=\"select2-drop\"]/ul/li[3]/div').click()"
   ]
  },
  {
   "cell_type": "code",
   "execution_count": null,
   "id": "7a33139f",
   "metadata": {},
   "outputs": [],
   "source": [
    "browser.find_element(\"xpath\", '//*[@id=\"s2id_add-service-service-types\"]/a/span[1]').click()"
   ]
  },
  {
   "cell_type": "code",
   "execution_count": null,
   "id": "205f94e5",
   "metadata": {},
   "outputs": [],
   "source": [
    "browser.find_element(\"xpath\", '/html/body/div[5]/div/div[2]/div[2]/div/label').text"
   ]
  },
  {
   "cell_type": "code",
   "execution_count": null,
   "id": "013f8bd5",
   "metadata": {},
   "outputs": [],
   "source": [
    "browser.find_element(\"xpath\", '//*[@id=\"txtServiceDuration\"]').click()"
   ]
  },
  {
   "cell_type": "code",
   "execution_count": null,
   "id": "ae9eb4d2",
   "metadata": {},
   "outputs": [],
   "source": [
    "#browser.find_element_by_xpath('/html/body/div[5]/div/div[2]/div[2]/div/label')\n",
    "\n",
    "browser.find_element_by_xpath(\"/html/body/div[4]/div/div[2]/div[2]/div/label\").text"
   ]
  },
  {
   "cell_type": "markdown",
   "id": "b4ac1cff",
   "metadata": {},
   "source": [
    "# Salvando restante:"
   ]
  },
  {
   "cell_type": "code",
   "execution_count": 23,
   "id": "9ba15f8f",
   "metadata": {
    "scrolled": true
   },
   "outputs": [
    {
     "data": {
      "text/plain": [
       "NORM     98\n",
       "PROBS    31\n",
       "Name: controle, dtype: int64"
      ]
     },
     "execution_count": 23,
     "metadata": {},
     "output_type": "execute_result"
    }
   ],
   "source": [
    "df['controle'].value_counts()"
   ]
  },
  {
   "cell_type": "code",
   "execution_count": 24,
   "id": "f3e8affa",
   "metadata": {},
   "outputs": [
    {
     "data": {
      "text/plain": [
       "129"
      ]
     },
     "execution_count": 24,
     "metadata": {},
     "output_type": "execute_result"
    }
   ],
   "source": [
    "len(df)"
   ]
  },
  {
   "cell_type": "code",
   "execution_count": 25,
   "id": "856af19f",
   "metadata": {},
   "outputs": [
    {
     "name": "stdout",
     "output_type": "stream",
     "text": [
      "giovaneli: 23\n",
      "probs: 31\n",
      "ok: 98\n"
     ]
    }
   ],
   "source": [
    "# Registros com Problemas\n",
    "df_giov = pd.read_excel('df_giov.xlsx')\n",
    "print(\"giovaneli:\", len(df_giov))\n",
    "\n",
    "# Registros com Problemas Corrigiveis ou Não\n",
    "df_gabs = df[df['controle'] != 'NORM']\n",
    "df_gabs.reset_index(drop=True, inplace=True)\n",
    "print(\"probs:\", len(df_gabs))\n",
    "\n",
    "# Registros Perfeitos ja feitos\n",
    "df = df[df['controle'] == 'NORM']\n",
    "df.reset_index(drop=True, inplace=True)\n",
    "print(\"ok:\", len(df))\n",
    "\n",
    "#salvando\n",
    "df.to_excel(\"df_gabs.xlsx\", index=False)\n",
    "df_gabs.to_excel(\"df_gabs2.xlsx\", index=False)"
   ]
  },
  {
   "cell_type": "code",
   "execution_count": null,
   "id": "568c0b9e",
   "metadata": {},
   "outputs": [],
   "source": [
    "browser.quit()"
   ]
  },
  {
   "cell_type": "code",
   "execution_count": null,
   "id": "5596e774",
   "metadata": {},
   "outputs": [],
   "source": []
  }
 ],
 "metadata": {
  "kernelspec": {
   "display_name": "Python 3 (ipykernel)",
   "language": "python",
   "name": "python3"
  },
  "language_info": {
   "codemirror_mode": {
    "name": "ipython",
    "version": 3
   },
   "file_extension": ".py",
   "mimetype": "text/x-python",
   "name": "python",
   "nbconvert_exporter": "python",
   "pygments_lexer": "ipython3",
   "version": "3.9.13"
  }
 },
 "nbformat": 4,
 "nbformat_minor": 5
}
