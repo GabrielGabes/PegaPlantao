{
 "cells": [
  {
   "cell_type": "code",
   "execution_count": 1,
   "id": "998f94b2-d2f6-4ac3-8d52-5f86c2c37979",
   "metadata": {},
   "outputs": [],
   "source": [
    "#web scraping\n",
    "import requests\n",
    "from bs4 import BeautifulSoup\n",
    "\n",
    "#automação\n",
    "from selenium import webdriver #navegador\n",
    "from selenium.webdriver.common.keys import Keys #comandos do teclado\n",
    "from selenium.webdriver.common.by import By \n",
    "from selenium.webdriver.support.ui import WebDriverWait #esperar\n",
    "from selenium.webdriver.support.expected_conditions import (visibility_of, \n",
    "                                                           staleness_of, \n",
    "                                                           invisibility_of_element)\n",
    "import pyautogui #\n",
    "\n",
    "import warnings #Warning inuteis\n",
    "from pandas.errors import SettingWithCopyWarning\n",
    "warnings.filterwarnings('ignore', category=FutureWarning)\n",
    "warnings.simplefilter(action=\"ignore\", category=SettingWithCopyWarning)"
   ]
  },
  {
   "cell_type": "code",
   "execution_count": 2,
   "id": "1c6597f6-f6b4-46d8-a377-6b0b031632e4",
   "metadata": {},
   "outputs": [],
   "source": [
    "# FUNÇÕES XPATH\n",
    "def xpath_element(xpath):\n",
    "    return browser.find_element(\"xpath\", xpath)\n",
    "\n",
    "def xpath_click(xpath):\n",
    "    xpath_element(xpath).click()\n",
    "    \n",
    "def xpath_send_keys(xpath, texto):\n",
    "    xpath_element(xpath).send_keys(texto)\n",
    "    \n",
    "def xpath_clear(xpath):\n",
    "    xpath_element(xpath).clear()\n",
    "    \n",
    "#####################################################\n",
    "\n",
    "#FUNÇÕES\n",
    "def count_freq(data_frame, coluna):\n",
    "    freq = df[coluna].value_counts()\n",
    "    perc = df[coluna].value_counts(normalize = True)*100\n",
    "    tabela = pd.DataFrame({\"Freq\":freq, \"Perc\":perc})\n",
    "    return display(tabela)\n",
    "\n",
    "def salvando_nome_arquivo(nome_arquivo, dataframe):\n",
    "    if os.path.exists(nome_arquivo): #O nome_arquivo existe\n",
    "        df1 = pd.read_excel(nome_arquivo)\n",
    "        len_antigo = len(dataframe)\n",
    "        \n",
    "        dataframe = pd.concat([df1, dataframe]).reset_index(drop=True)\n",
    "        dataframe = dataframe.drop_duplicates(subset=['chat'])\n",
    "        \n",
    "        print(len(df1), \" += \", len_antigo, \"=>\", len(dataframe))\n",
    "        \n",
    "        dataframe.to_excel(nome_arquivo, index=False)\n",
    "    \n",
    "    else: #O nome_arquivo não existe\n",
    "        dataframe.to_excel(nome_arquivo, index=False)\n",
    "        print(len(dataframe)) "
   ]
  },
  {
   "cell_type": "code",
   "execution_count": 3,
   "id": "0cbafcdd-4ace-421b-ab50-d4d5fb2ee3c0",
   "metadata": {},
   "outputs": [],
   "source": [
    "browser = webdriver.Firefox()\n",
    "\n",
    "#fazendo login\n",
    "browser.get('https://4chan.org/b/')"
   ]
  },
  {
   "cell_type": "code",
   "execution_count": 4,
   "id": "9fec685e-54c2-43ed-9a11-619aa2460ba2",
   "metadata": {},
   "outputs": [],
   "source": [
    "xpath = '/html/body/form[2]/div[1]/div[1]/div[2]/div[2]/div[3]/a'\n",
    "xpath_element(xpath).click()"
   ]
  },
  {
   "cell_type": "code",
   "execution_count": null,
   "id": "14d79316-0cdc-4721-b868-3c10821c7b00",
   "metadata": {},
   "outputs": [],
   "source": []
  },
  {
   "cell_type": "code",
   "execution_count": null,
   "id": "e6038ef7-bbb5-4e8b-9312-62c72e9c7706",
   "metadata": {},
   "outputs": [],
   "source": []
  },
  {
   "cell_type": "code",
   "execution_count": null,
   "id": "ef5bbd8c-e73f-4d54-92ac-2deb765e2065",
   "metadata": {},
   "outputs": [],
   "source": []
  },
  {
   "cell_type": "code",
   "execution_count": null,
   "id": "e823e1ce-bd88-4837-a0de-ed6c6e6e814d",
   "metadata": {},
   "outputs": [],
   "source": []
  },
  {
   "cell_type": "code",
   "execution_count": null,
   "id": "6b152398-22a7-4f20-ad95-c611833f9346",
   "metadata": {},
   "outputs": [],
   "source": []
  },
  {
   "cell_type": "code",
   "execution_count": null,
   "id": "4ba646ee-5a81-4aff-80f9-168b0aded2af",
   "metadata": {},
   "outputs": [],
   "source": []
  },
  {
   "cell_type": "code",
   "execution_count": null,
   "id": "034368aa-33a3-4175-bbbe-a3c93e963085",
   "metadata": {},
   "outputs": [],
   "source": []
  }
 ],
 "metadata": {
  "kernelspec": {
   "display_name": "Python 3 (ipykernel)",
   "language": "python",
   "name": "python3"
  },
  "language_info": {
   "codemirror_mode": {
    "name": "ipython",
    "version": 3
   },
   "file_extension": ".py",
   "mimetype": "text/x-python",
   "name": "python",
   "nbconvert_exporter": "python",
   "pygments_lexer": "ipython3",
   "version": "3.11.7"
  }
 },
 "nbformat": 4,
 "nbformat_minor": 5
}
