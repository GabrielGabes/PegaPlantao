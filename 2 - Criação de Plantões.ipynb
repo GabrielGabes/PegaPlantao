{
 "cells": [
  {
   "cell_type": "code",
   "execution_count": 1,
   "id": "50b68528",
   "metadata": {},
   "outputs": [],
   "source": [
    "#Definindo finais de semana\n",
    "mes = \"06\"\n",
    "lista_fds = ['01','02','08','09','15','16','22','23','29','30']"
   ]
  },
  {
   "cell_type": "code",
   "execution_count": 2,
   "id": "343d997d",
   "metadata": {},
   "outputs": [],
   "source": [
    "####################################-BIBLIOTECAS-####################################\n",
    "\n",
    "#manipulação de dados\n",
    "import pandas as pd\n",
    "import numpy as np\n",
    "\n",
    "#string e data\n",
    "import unidecode #limpeza\n",
    "import re #regex\n",
    "\n",
    "#tempo\n",
    "import time\n",
    "from time import sleep\n",
    "\n",
    "#web scraping\n",
    "import requests\n",
    "from bs4 import BeautifulSoup\n",
    "\n",
    "#automação\n",
    "from selenium import webdriver #navegador\n",
    "from selenium.webdriver.common.keys import Keys #comandos do teclado\n",
    "from selenium.webdriver.common.by import By \n",
    "from selenium.webdriver.support.ui import WebDriverWait #esperar\n",
    "from selenium.webdriver.support.expected_conditions import (visibility_of, \n",
    "                                                           staleness_of, \n",
    "                                                           invisibility_of_element)\n",
    "from selenium.webdriver.support.ui import WebDriverWait\n",
    "from selenium.webdriver.support import expected_conditions as EC\n",
    "\n",
    "import pyautogui #\n",
    "\n",
    "import warnings #Warning inuteis\n",
    "from pandas.errors import SettingWithCopyWarning\n",
    "warnings.filterwarnings('ignore', category=FutureWarning)\n",
    "warnings.simplefilter(action=\"ignore\", category=SettingWithCopyWarning)\n",
    "\n",
    "#manipulação do diretorio\n",
    "import os"
   ]
  },
  {
   "cell_type": "code",
   "execution_count": 3,
   "id": "39210daf",
   "metadata": {},
   "outputs": [],
   "source": [
    "# FUNÇÕES XPATH\n",
    "def xpath_element(xpath):\n",
    "    return browser.find_element(\"xpath\", xpath)\n",
    "\n",
    "def xpath_click(xpath):\n",
    "    try:\n",
    "        xpath_element(xpath).click()\n",
    "    except:\n",
    "        sleep(1)\n",
    "        xpath_element(xpath).click()\n",
    "    \n",
    "def xpath_send_keys(xpath, texto):\n",
    "    xpath_element(xpath).send_keys(texto)\n",
    "    \n",
    "def xpath_clear(xpath):\n",
    "    xpath_element(xpath).clear()\n",
    "\n",
    "def existencia(caminho):\n",
    "    elementos = browser.find_elements(By.XPATH, caminho)\n",
    "    return bool(elementos)"
   ]
  },
  {
   "cell_type": "code",
   "execution_count": 4,
   "id": "5c9ef41e-f749-4dff-9a4d-9279dcc5c614",
   "metadata": {},
   "outputs": [],
   "source": [
    "#FUNÇÕES\n",
    "def count_freq(data_frame, coluna):\n",
    "    freq = df[coluna].value_counts()\n",
    "    perc = df[coluna].value_counts(normalize = True)*100\n",
    "    tabela = pd.DataFrame({\"Freq\":freq, \"Perc\":perc})\n",
    "    return display(tabela)\n",
    "\n",
    "def salvando_nome_arquivo(nome_arquivo, dataframe):\n",
    "    if os.path.exists(nome_arquivo): #O nome_arquivo existe\n",
    "        df1 = pd.read_excel(nome_arquivo)\n",
    "        len_antigo = len(dataframe)\n",
    "        \n",
    "        dataframe = pd.concat([df1, dataframe]).reset_index(drop=True)\n",
    "        dataframe = dataframe.drop_duplicates(subset=['chat'])\n",
    "        \n",
    "        print(len(df1), \" += \", len_antigo, \"=>\", len(dataframe))\n",
    "        \n",
    "        dataframe.to_excel(nome_arquivo, index=False)\n",
    "    \n",
    "    else: #O nome_arquivo não existe\n",
    "        dataframe.to_excel(nome_arquivo, index=False)\n",
    "        print(len(dataframe)) "
   ]
  },
  {
   "cell_type": "code",
   "execution_count": 5,
   "id": "d8336b23",
   "metadata": {},
   "outputs": [],
   "source": [
    "#browser.quit(); sleep(5)\n",
    "browser = webdriver.Firefox()\n",
    "\n",
    "#fazendo login\n",
    "browser.get('https://www.pegaplantao.com.br/login')\n",
    "sleep(1)\n",
    "xpath_send_keys('//*[@id=\"MainContent_LoginUser_UserName\"]', 'gabriel_s_anjos@yahoo.com') #e-mail\n",
    "xpath_send_keys('//*[@id=\"MainContent_LoginUser_Password\"]', 'Gabriel2022!') #senha\n",
    "xpath_click('//*[@id=\"MainContent_LoginUser_btnLogin\"]') #login"
   ]
  },
  {
   "cell_type": "code",
   "execution_count": 6,
   "id": "2f632342",
   "metadata": {},
   "outputs": [],
   "source": [
    "browser.get('https://www.pegaplantao.com.br/EscalaMensal')"
   ]
  },
  {
   "cell_type": "code",
   "execution_count": 8,
   "id": "5e9271bd",
   "metadata": {},
   "outputs": [],
   "source": [
    "#click setor/profissional\n",
    "xpath_click('//*[@id=\"s2id_autogen1\"]/a/span[1]')\n",
    "\n",
    "#click [profissional\n",
    "xpath_click('//*[@id=\"select2-drop\"]/ul/li[2]/div')"
   ]
  },
  {
   "cell_type": "markdown",
   "id": "9f78470c",
   "metadata": {},
   "source": [
    "# Capturando setores:"
   ]
  },
  {
   "cell_type": "code",
   "execution_count": 9,
   "id": "50842df4",
   "metadata": {},
   "outputs": [
    {
     "name": "stdout",
     "output_type": "stream",
     "text": [
      "apareceu\n"
     ]
    }
   ],
   "source": [
    "#click criar novo plantão\n",
    "def criar_plantao():\n",
    "    xpath_click('//*[@id=\"shift-monthly\"]/div[2]/table/tbody/tr[1]/td[4]/button')\n",
    "\n",
    "criar_plantao() #abrindo para capturar os setores\n",
    "\n",
    "def esperar_elemento_aparecer(elemento, tempo):\n",
    "    sleep(1)\n",
    "    WebDriverWait(browser, tempo).until(visibility_of(xpath_element(elemento)))\n",
    "esperar_elemento_aparecer('//*[@id=\"service-ckb-list-all-owner\"]', 10)\n",
    "print('apareceu')"
   ]
  },
  {
   "cell_type": "code",
   "execution_count": 10,
   "id": "19c13eaa",
   "metadata": {
    "scrolled": true
   },
   "outputs": [
    {
     "name": "stdout",
     "output_type": "stream",
     "text": [
      "OK\n"
     ]
    }
   ],
   "source": [
    "#CAPTURANDO DADOS DO UNIDADE E SETOR\n",
    "xpath_click('//*[@id=\"s2id_ddlServiceSector\"]/a/span[1]')\n",
    "setor_html = xpath_element('//*[@id=\"select2-drop\"]/ul').get_attribute('outerHTML')\n",
    "soup = BeautifulSoup(setor_html, 'html.parser')\n",
    "\n",
    "lista_unidade = []\n",
    "lista_unidade_count = []\n",
    "lista_plt = []\n",
    "lista_plt_count = []\n",
    "\n",
    "count_unidade = 1\n",
    "\n",
    "for i in soup.find_all(class_=\"select2-results-dept-0 select2-result select2-result-unselectable select2-result-with-children\"):\n",
    "    #print('\\n', i.find(class_='select2-result-label').get_text(), '====== \\n')\n",
    "    count_plt = 1\n",
    "    for t in i.find_all(class_='select2-results-dept-1 select2-result select2-result-selectable'): \n",
    "        #print(t.get_text())\n",
    "        lista_plt.append(t.get_text())\n",
    "        lista_plt_count.append(count_plt)\n",
    "        count_plt += 1\n",
    "\n",
    "        lista_unidade.append(i.find(class_='select2-result-label').get_text())\n",
    "        lista_unidade_count.append(count_unidade)\n",
    "    count_unidade += 1\n",
    "\n",
    "scrap_unidades = pd.DataFrame({'unidade':lista_unidade, 'momento':lista_plt,\n",
    "                               'unidade_count':lista_unidade_count, 'plt_count':lista_plt_count})\n",
    "\n",
    "scrap_unidades['momento'] = scrap_unidades['momento'].apply(lambda x: x.replace('  ',' '))\n",
    "\n",
    "scrap_unidades['momento'] = scrap_unidades['momento'].apply(lambda x: unidecode.unidecode(x.replace('  ',' ').upper().strip()))\n",
    "scrap_unidades['unidade'] = scrap_unidades['unidade'].apply(lambda x: unidecode.unidecode(x.replace('  ',' ').upper().strip()))\n",
    "print('OK')"
   ]
  },
  {
   "cell_type": "code",
   "execution_count": 11,
   "id": "0d5e4458",
   "metadata": {
    "scrolled": true
   },
   "outputs": [
    {
     "name": "stdout",
     "output_type": "stream",
     "text": [
      "414\n"
     ]
    },
    {
     "data": {
      "text/html": [
       "<div>\n",
       "<style scoped>\n",
       "    .dataframe tbody tr th:only-of-type {\n",
       "        vertical-align: middle;\n",
       "    }\n",
       "\n",
       "    .dataframe tbody tr th {\n",
       "        vertical-align: top;\n",
       "    }\n",
       "\n",
       "    .dataframe thead th {\n",
       "        text-align: right;\n",
       "    }\n",
       "</style>\n",
       "<table border=\"1\" class=\"dataframe\">\n",
       "  <thead>\n",
       "    <tr style=\"text-align: right;\">\n",
       "      <th></th>\n",
       "      <th>chat</th>\n",
       "      <th>dia</th>\n",
       "      <th>nome</th>\n",
       "      <th>mensagem</th>\n",
       "      <th>controle</th>\n",
       "      <th>data</th>\n",
       "      <th>unidade</th>\n",
       "      <th>extra</th>\n",
       "      <th>tipo</th>\n",
       "      <th>ENTRADA</th>\n",
       "      <th>SAIDA</th>\n",
       "      <th>DURAÇÃO</th>\n",
       "      <th>PERIODO</th>\n",
       "      <th>periodo</th>\n",
       "      <th>setor</th>\n",
       "      <th>sem_ou_fds</th>\n",
       "      <th>unidade2</th>\n",
       "    </tr>\n",
       "  </thead>\n",
       "  <tbody>\n",
       "    <tr>\n",
       "      <th>36</th>\n",
       "      <td>[28/06/2024 06:50:13] Augusto de Castro Santos...</td>\n",
       "      <td>28/06/2024</td>\n",
       "      <td>AUGUSTO DE CASTRO SANTOS QUEIROZ</td>\n",
       "      <td>28/06 MORUMBI  -  CASTRO ENTRADA 06:00</td>\n",
       "      <td>NaN</td>\n",
       "      <td>28/06/2024</td>\n",
       "      <td>MORUMBI</td>\n",
       "      <td>NaN</td>\n",
       "      <td>ENTRADA</td>\n",
       "      <td>06:00</td>\n",
       "      <td>07:00</td>\n",
       "      <td>01:00</td>\n",
       "      <td>6h</td>\n",
       "      <td>1</td>\n",
       "      <td>SEMANA - 6HS</td>\n",
       "      <td>semana</td>\n",
       "      <td>MORUMBI</td>\n",
       "    </tr>\n",
       "    <tr>\n",
       "      <th>71</th>\n",
       "      <td>[26/06/2024 18:35:51] Caroline Firmino Lemes d...</td>\n",
       "      <td>26/06/2024</td>\n",
       "      <td>CAROLINE FIRMINO LEMES DA SILVA</td>\n",
       "      <td>26/06 MORUMBI LEMES SAÍDA 17:40</td>\n",
       "      <td>NaN</td>\n",
       "      <td>26/06/2024</td>\n",
       "      <td>MORUMBI</td>\n",
       "      <td>NaN</td>\n",
       "      <td>SAIDA</td>\n",
       "      <td>13:00</td>\n",
       "      <td>18:00</td>\n",
       "      <td>05:00</td>\n",
       "      <td>tarde</td>\n",
       "      <td>3</td>\n",
       "      <td>SEMANA - TARDE - C.CIRURGICO</td>\n",
       "      <td>semana</td>\n",
       "      <td>MORUMBI</td>\n",
       "    </tr>\n",
       "    <tr>\n",
       "      <th>73</th>\n",
       "      <td>[27/06/2024 19:58:14] Caroline Firmino Lemes d...</td>\n",
       "      <td>27/06/2024</td>\n",
       "      <td>CAROLINE FIRMINO LEMES DA SILVA</td>\n",
       "      <td>27/06 JABAQUARA LEMES SAÍDA 19:55</td>\n",
       "      <td>NaN</td>\n",
       "      <td>27/06/2024</td>\n",
       "      <td>JABAQUARA</td>\n",
       "      <td>NaN</td>\n",
       "      <td>SAIDA</td>\n",
       "      <td>19:00</td>\n",
       "      <td>20:00</td>\n",
       "      <td>01:00</td>\n",
       "      <td>noturno saida</td>\n",
       "      <td>4</td>\n",
       "      <td>SEMANA - NOTURNO - SAIDA</td>\n",
       "      <td>semana</td>\n",
       "      <td>JABA</td>\n",
       "    </tr>\n",
       "  </tbody>\n",
       "</table>\n",
       "</div>"
      ],
      "text/plain": [
       "                                                 chat         dia  \\\n",
       "36  [28/06/2024 06:50:13] Augusto de Castro Santos...  28/06/2024   \n",
       "71  [26/06/2024 18:35:51] Caroline Firmino Lemes d...  26/06/2024   \n",
       "73  [27/06/2024 19:58:14] Caroline Firmino Lemes d...  27/06/2024   \n",
       "\n",
       "                                nome                                mensagem  \\\n",
       "36  AUGUSTO DE CASTRO SANTOS QUEIROZ  28/06 MORUMBI  -  CASTRO ENTRADA 06:00   \n",
       "71   CAROLINE FIRMINO LEMES DA SILVA         26/06 MORUMBI LEMES SAÍDA 17:40   \n",
       "73   CAROLINE FIRMINO LEMES DA SILVA       27/06 JABAQUARA LEMES SAÍDA 19:55   \n",
       "\n",
       "   controle        data    unidade  extra     tipo ENTRADA  SAIDA DURAÇÃO  \\\n",
       "36      NaN  28/06/2024    MORUMBI    NaN  ENTRADA   06:00  07:00   01:00   \n",
       "71      NaN  26/06/2024    MORUMBI    NaN    SAIDA   13:00  18:00   05:00   \n",
       "73      NaN  27/06/2024  JABAQUARA    NaN    SAIDA   19:00  20:00   01:00   \n",
       "\n",
       "          PERIODO  periodo                         setor sem_ou_fds unidade2  \n",
       "36             6h        1                  SEMANA - 6HS     semana  MORUMBI  \n",
       "71          tarde        3  SEMANA - TARDE - C.CIRURGICO     semana  MORUMBI  \n",
       "73  noturno saida        4      SEMANA - NOTURNO - SAIDA     semana     JABA  "
      ]
     },
     "execution_count": 11,
     "metadata": {},
     "output_type": "execute_result"
    }
   ],
   "source": [
    "#CARREGANDO OS DADOS PARA SUBIR NO PEGA PLANTÃO\n",
    "df = pd.read_excel('df_gabs.xlsx') # df_gabs # df_continuar\n",
    "df = df.sort_values(['nome', 'data']).reset_index(drop=True)\n",
    "\n",
    "df['setor'][(df['setor'] == 'FDS - C.CIRURGICO ROTINA') & (df['unidade'] == 'SANTA ISABEL')] = 'FDS - MANHA - C.CIRURGICO'\n",
    "\n",
    "print(len(df))\n",
    "df.sample(3)"
   ]
  },
  {
   "cell_type": "code",
   "execution_count": 12,
   "id": "f78b64a6",
   "metadata": {},
   "outputs": [
    {
     "name": "stdout",
     "output_type": "stream",
     "text": [
      "==================== TUDO OK ====================\n"
     ]
    }
   ],
   "source": [
    "#TESTANDO COMPATIBILIDADE DOS DADOS CAPTURADOS E DADOS CARREGADOS\n",
    "for X in range(0, len(df)):\n",
    "    if len(scrap_unidades.loc[(scrap_unidades.unidade == df['unidade'][X]) & \n",
    "                                 (scrap_unidades.momento == df['setor'][X])]) < 1:\n",
    "        print(X)\n",
    "        print(df['unidade'][X], '-', df['setor'][X])\n",
    "        #print('index', ind)\n",
    "        #print(scrap_unidades['unidade'][ind], '-', scrap_unidades['momento'][ind])\n",
    "        #print('codigos:', unidade, setorzin)\n",
    "        \n",
    "\n",
    "print(\"=\"*20, \"TUDO OK\", \"=\"*20)"
   ]
  },
  {
   "cell_type": "markdown",
   "id": "627e5da9",
   "metadata": {},
   "source": [
    "# ========================================================="
   ]
  },
  {
   "cell_type": "markdown",
   "id": "1b4d6b37",
   "metadata": {},
   "source": [
    "# FUNÇÕES"
   ]
  },
  {
   "cell_type": "code",
   "execution_count": 13,
   "id": "fe99ae89-b30a-40a9-9fb8-4af5ff02a2d0",
   "metadata": {},
   "outputs": [],
   "source": [
    "def subir_pg():\n",
    "    browser.execute_script(\"window.scrollTo(0, 0);\")"
   ]
  },
  {
   "cell_type": "code",
   "execution_count": 14,
   "id": "17f43047",
   "metadata": {},
   "outputs": [],
   "source": [
    "def reset_selecao():\n",
    "    xpath_click('/html')#; sleep(0.3)\n",
    "    #xpath_click('/html')\n",
    "\n",
    "\n",
    "def fechar_caixa_de_selecao():\n",
    "    # Localiza um elemento que é seguro para clicar (por exemplo, o corpo da página)\n",
    "    elemento_seguro = browser.find_element(By.TAG_NAME, 'body')\n",
    "    # Cria uma ação para clicar no elemento seguro\n",
    "    ActionChains(browser).move_to_element(elemento_seguro).click().perform()\n",
    "def reset_selecao1():\n",
    "    fechar_caixa_de_selecao(); sleep(0.3)\n",
    "    fechar_caixa_de_selecao()\n",
    "\n",
    "\n",
    "def reset_selecao2():\n",
    "    posicao_antiga = pyautogui.position() \n",
    "    \n",
    "    #click no vazio\n",
    "    pyautogui.click(x=66, y=158); sleep(0.3)\n",
    "    pyautogui.click(x=66, y=158)\n",
    "    \n",
    "    pyautogui.moveTo(posicao_antiga) \n",
    "reset_selecao2()"
   ]
  },
  {
   "cell_type": "code",
   "execution_count": 15,
   "id": "c59649ad",
   "metadata": {},
   "outputs": [],
   "source": [
    "#selecionando setor\n",
    "def setor(unidade, setor):\n",
    "    #print('base:', unidade, '-', setor)\n",
    "    xpath_click('//*[@id=\"s2id_ddlServiceSector\"]/a/span[1]')\n",
    "    ind = scrap_unidades.loc[(scrap_unidades.unidade == unidade) & \n",
    "                             (scrap_unidades.momento == setor)].index.values[0]\n",
    "    unidade_sel = scrap_unidades['unidade_count'][ind]\n",
    "    setor_sel = scrap_unidades['plt_count'][ind]\n",
    "    xpath_click('//*[@id=\"select2-drop\"]/ul/li['+str(unidade_sel)+']/ul/li['+str(setor_sel)+']/div')   \n",
    "setor(\"SANTA ISABEL\", \"SEMANA - TARDE - C.CIRURGICO\")\n",
    "\n",
    "#inserir e selecionar profissional\n",
    "def nome(nome_profissional):\n",
    "    #listar todos\n",
    "    xpath_click('//*[@id=\"service-ckb-list-all-owner\"]')\n",
    "    \n",
    "    xpath_click('//*[@id=\"service-ckb-list-all-owner\"]')\n",
    "    xpath_click('//*[@id=\"service-ckb-list-all-owner\"]')\n",
    "    sleep(0.3)\n",
    "    xpath_click('//*[@id=\"s2id_ddlProfessionalA\"]/a/span[1]')\n",
    "    xpath_send_keys('//*[@id=\"select2-drop\"]/div/input', nome_profissional)\n",
    "    #Dando enter\n",
    "    xpath_send_keys('//*[@id=\"select2-drop\"]/div/input', Keys.RETURN)\n",
    "nome('OTTO MITTERMAYER')\n",
    "\n",
    "#inserir horario e duração\n",
    "def hora(inicio, duracao):\n",
    "    #Inicio do plantão\n",
    "    xpath_clear('//*[@id=\"txtServiceStartTime\"]')\n",
    "    xpath_send_keys('//*[@id=\"txtServiceStartTime\"]', inicio)\n",
    "    sleep(0.3)\n",
    "    xpath_clear('//*[@id=\"txtServiceDuration\"]')\n",
    "    xpath_send_keys('//*[@id=\"txtServiceDuration\"]', duracao)\n",
    "hora('13:30', '05:00')"
   ]
  },
  {
   "cell_type": "code",
   "execution_count": 20,
   "id": "0b987ac4-6a76-45b8-8c18-32fdc31b760e",
   "metadata": {},
   "outputs": [],
   "source": [
    "#inserir data\n",
    "def data(data_selecionada):\n",
    "    i_chato2 = str(5) #4 e 5\n",
    "    i_chato = str(3) #2 e 3\n",
    "\n",
    "    xpath_clear('/html/body/div['+i_chato2+']/div/div[2]/div[2]/div[5]/div[1]/div[2]/div/div[2]/div[1]/div['+i_chato+']/input[1]')\n",
    "    #xpath_clear('/html/body/div[4]/div/div[2]/div[2]/div[5]/div[1]/div[2]/div/div[2]/div[1]/div[3]/input[2]')\n",
    "    sleep(0.3)\n",
    "    \n",
    "    xpath_send_keys('/html/body/div['+i_chato2+']/div/div[2]/div[2]/div[5]/div[1]/div[2]/div/div[2]/div[1]/div['+i_chato+']/input[1]', data_selecionada)\n",
    "    #xpath_send_keys('/html/body/div[4]/div/div[2]/div[2]/div[5]/div[1]/div[2]/div/div[2]/div[1]/div[3]/input[2]', data_selecionada)\n",
    "    reset_selecao2()\n",
    "data(\"25/05/2024\")"
   ]
  },
  {
   "cell_type": "code",
   "execution_count": 23,
   "id": "22c3e5b4",
   "metadata": {},
   "outputs": [],
   "source": [
    "#inserindo pontuação\n",
    "def pontuacao(pontos):\n",
    "    xpath_clear('//*[@id=\"txtServiceValue\"]')\n",
    "    xpath_send_keys('//*[@id=\"txtServiceValue\"]', pontos) #Pontos\n",
    "\n",
    "pontuacao(\"666\")\n",
    "'''\n",
    "//*[@id=\"select2-drop\"]/ul/li[3]/div\n",
    "1 - Normal\n",
    "2 - DESLOCAMENTO\n",
    "3 - VOLUNTÁRIO\n",
    "4 - COBERTURA\n",
    "'''\n",
    "\n",
    "#selecionar tipo de plantão e ajustando tempo\n",
    "def tipo_do_registro(duracao, sem_ou_fds, tipo_registro):\n",
    "    if tipo_registro == 'extra':\n",
    "        print('EXTRA')\n",
    "        sleep(1)\n",
    "        reset_selecao2()\n",
    "        \n",
    "        xpath_click('//*[@id=\"s2id_add-service-service-types\"]/a/span[1]')\n",
    "        #browser.find_element(\"xpath\", '//*[@id=\"s2id_add-service-service-types\"]/a/span[1]').click()\n",
    "        sleep(1)\n",
    "        #selecionando o tipo voluntario:\n",
    "        xpath_click('//*[@id=\"select2-drop\"]/ul/li[3]/div')\n",
    "        if int(duracao[:2]) >= 5 and sem_ou_fds == \"semana\":\n",
    "            pontuacao(200)\n",
    "            pontuacao(200)\n",
    "            print('duração >= 5 => 200 pontos')\n",
    "        else:\n",
    "            pass\n",
    "    elif tipo_registro == 'DESLOCADO':\n",
    "        print('DESLOCADO')\n",
    "        sleep(1)\n",
    "        reset_selecao2()\n",
    "        \n",
    "        xpath_click('//*[@id=\"s2id_add-service-service-types\"]/a/span[1]')\n",
    "        #browser.find_element(\"xpath\", '//*[@id=\"s2id_add-service-service-types\"]/a/span[1]').click()\n",
    "        sleep(1)\n",
    "        #selecionando o tipo voluntario:\n",
    "        xpath_click('//*[@id=\"select2-drop\"]/ul/li[2]/div')\n",
    "        if int(duracao[:2]) >= 5 and sem_ou_fds == \"semana\":\n",
    "            pontuacao(100)\n",
    "            pontuacao(100)\n",
    "            print('duração >5 -> 100 pontos')\n",
    "        else:\n",
    "            pass\n",
    "        sleep(1)\n",
    "    else:\n",
    "        if int(duracao[:2]) >= 5 and sem_ou_fds == \"semana\":\n",
    "            pontuacao(100)\n",
    "            pontuacao(100)\n",
    "            print('duração >5 -> 100 pontos')\n",
    "        else:\n",
    "            pass\n",
    "        sleep(1)\n",
    "\n",
    "#tipo_do_registro(\"05:00\", \"semana\", \"extra\")\n",
    "#tipo_do_registro(df['DURAÇÃO'][h], df['sem_ou_fds'][h], df['extra'][h])\n",
    "        \n",
    "#salvando plantão\n",
    "def salvar_plantao():\n",
    "    xpath_click('//*[@id=\"modal-add-service\"]/div/div[1]/div[2]/button[4]')\n",
    "    \n",
    "#salvar_plantao()\n",
    "\n",
    "#fechando plantão\n",
    "def fechar():\n",
    "    xpath_click('//*[@id=\"modal-add-service\"]/div/div[1]/button')\n",
    "\n",
    "fechar()"
   ]
  },
  {
   "cell_type": "markdown",
   "id": "78918987",
   "metadata": {},
   "source": [
    "# ========================================================="
   ]
  },
  {
   "cell_type": "markdown",
   "id": "9d27dbca",
   "metadata": {},
   "source": [
    "# RODANDO NO PEGA"
   ]
  },
  {
   "cell_type": "code",
   "execution_count": 24,
   "id": "849f291a",
   "metadata": {},
   "outputs": [
    {
     "data": {
      "text/plain": [
       "414"
      ]
     },
     "execution_count": 24,
     "metadata": {},
     "output_type": "execute_result"
    }
   ],
   "source": [
    "len(df)"
   ]
  },
  {
   "cell_type": "code",
   "execution_count": 25,
   "id": "641f1255-fb00-4d5e-9fa2-4516c23de60a",
   "metadata": {},
   "outputs": [
    {
     "data": {
      "text/plain": [
       "controle\n",
       "DESLOCADO       10\n",
       "DESLOCADO 6H     9\n",
       "Name: count, dtype: int64"
      ]
     },
     "execution_count": 25,
     "metadata": {},
     "output_type": "execute_result"
    }
   ],
   "source": [
    "df['controle'].value_counts()"
   ]
  },
  {
   "cell_type": "code",
   "execution_count": 26,
   "id": "6a7de828",
   "metadata": {},
   "outputs": [],
   "source": [
    "H=0"
   ]
  },
  {
   "cell_type": "code",
   "execution_count": 35,
   "id": "a5dcf2db",
   "metadata": {
    "scrolled": true
   },
   "outputs": [
    {
     "name": "stdout",
     "output_type": "stream",
     "text": [
      "==================== TERMINOU ====================\n",
      "Total   414\n",
      "================================================================================ \n",
      " controle\n",
      "PROBS    318\n",
      "NORM      96\n",
      "Name: count, dtype: int64 \n",
      " ================================================================================\n"
     ]
    }
   ],
   "source": [
    "count = 0\n",
    "for h in range(H, len(df)):\n",
    "    #####################################################################################################################\n",
    "    if h > 0:\n",
    "        if df['nome'][h] != df['nome'][h-1] or count == 0:\n",
    "            print('='*20, df['nome'][h], '='*20)\n",
    "            count += 1\n",
    "    #####################################################################################################################\n",
    "    #try:\n",
    "    print('[',h,'] |','dia:', df['data'][h],'| mensagem:', df['mensagem'][h])\n",
    "    \n",
    "    #click criar novo plantão\n",
    "    criar_plantao()\n",
    "    \n",
    "    #SETOR - UNIDADE\n",
    "    #esta disponivel o botão de setor ?\n",
    "    esperar_elemento_aparecer('//*[@id=\"s2id_ddlServiceSector\"]/a/span[1]', 10)\n",
    "    #Selecionando Setor\n",
    "    setor(df['unidade'][h], df['setor'][h])\n",
    "    \n",
    "    #PROFISSIONAL\n",
    "    #esta disponivel o botão de profissional\n",
    "    esperar_elemento_aparecer('//*[@id=\"service-ckb-list-all-owner\"]', 10)\n",
    "    nome(df['nome'][h])\n",
    "    sleep(1)\n",
    "\n",
    "    #DATA DO PLANTÃO\n",
    "    data(df['data'][h])\n",
    "    \n",
    "    #INICIO DO PLANTÃO -- DURAÇÃO DO PLANTÃO\n",
    "    hora(df['ENTRADA'][h], df['DURAÇÃO'][h])\n",
    "    sleep(1)\n",
    "        \n",
    "    #TIPO\n",
    "    tipo_do_registro(df['DURAÇÃO'][h], df['sem_ou_fds'][h], df['extra'][h])\n",
    "    \n",
    "    #SALVAR PLANTÃO\n",
    "    sleep(1)\n",
    "    salvar_plantao()\n",
    "    salvar_plantao()\n",
    "    salvar_plantao()\n",
    "    sleep(4)\n",
    "\n",
    "    #VERIFICANDO SE HOUVE ERRO - HÁ PLANTÃO NO MESMO HORARIO\n",
    "    chatao = 5 #6 5 4\n",
    "    if xpath_element('/html/body/div['+str(chatao)+']/div/div[2]/div[1]').text != \"\":\n",
    "        if df['PERIODO'][h] == '6h':\n",
    "            ##############################################################################\n",
    "            #xpath_click('//*[@id=\"ckb-add-service-ignore-conflict\"]')#estou ciente\n",
    "            #sleep(1)\n",
    "            #salvar_plantao()\n",
    "            #salvar_plantao()\n",
    "            #salvar_plantao()\n",
    "            #df.loc[int(h), 'controle'] = \"NORM DUPLI\"\n",
    "            #print(\"NORM DUPLI\")\n",
    "\n",
    "            ##############################################################################\n",
    "            fechar()\n",
    "            sleep(0.3)\n",
    "            #if existencia('//*[@id=\"modal-add-service\"]/div/div[1]/button'):\n",
    "                #fechar()\n",
    "            df.loc[int(h), 'controle'] = \"PROBS\"; print(\"PROB\")\n",
    "        else:\n",
    "            fechar()\n",
    "            df.loc[int(h), 'controle'] = \"PROBS\"; print(\"PROB\")\n",
    "    else:\n",
    "        df.loc[int(h), 'controle'] = \"NORM\"; print(\"NORM\")\n",
    "    #####################################################################################################################\n",
    "    '''except Exception as e:\n",
    "        print(f\"Erro ao processar o arquivo: {e}\")\n",
    "        if existencia('//*[@id=\"modal-add-service\"]/div/div[1]/button'):\n",
    "            fechar()\n",
    "            print('*'*50)\n",
    "            df.loc[int(h), 'controle'] = \"ERRO_REPETIR\"; print(\"ERRO_REPETIR\")\n",
    "            print('*'*50)\n",
    "        else:\n",
    "            print('-VERIFICAR-'*10)\n",
    "            break'''\n",
    "            \n",
    "    #####################################################################################################################\n",
    "    # praticamente um # finally\n",
    "    WebDriverWait(browser, 10).until_not(visibility_of(xpath_element('//*[@id=\"modal-add-service\"]/div/div[1]/button')))\n",
    "    H += 1\n",
    "    #####################################################################################################################\n",
    "    if H % 25 == 0:\n",
    "        print('='*80, '\\n', df['controle'].value_counts(), '\\n', '='*80); df.to_excel(\"df_gabs.xlsx\", index=False)\n",
    "    if df['nome'][h] == df['nome'][h+1]:\n",
    "        print('='*10)\n",
    "        \n",
    "print(\"=\"*20, 'TERMINOU', \"=\"*20)\n",
    "print('Total  ', len(df))\n",
    "print('='*80, '\\n', df['controle'].value_counts(), '\\n', '='*80); df.to_excel(\"df_gabs.xlsx\", index=False)"
   ]
  },
  {
   "cell_type": "code",
   "execution_count": 29,
   "id": "f4fe11e3",
   "metadata": {},
   "outputs": [
    {
     "data": {
      "text/plain": [
       "'Informações:\\nEsta ação irá gerar o(s) seguinte(s) alerta(s):\\nPlantões no mesmo horário (1)\\nEstou ciente e quero salvar mesmo assim\\n×'"
      ]
     },
     "execution_count": 29,
     "metadata": {},
     "output_type": "execute_result"
    }
   ],
   "source": [
    "chatao = 5\n",
    "xpath_element('/html/body/div['+str(chatao)+']/div/div[2]/div[1]').text"
   ]
  },
  {
   "cell_type": "code",
   "execution_count": null,
   "id": "351fee15",
   "metadata": {},
   "outputs": [
    {
     "name": "stdout",
     "output_type": "stream",
     "text": [
      "NORM\n"
     ]
    }
   ],
   "source": [
    "df.loc[int(h), 'controle'] = \"NORM\"; print(\"NORM\")\n",
    "H += 1"
   ]
  },
  {
   "cell_type": "code",
   "execution_count": 33,
   "id": "cc3d2672",
   "metadata": {},
   "outputs": [],
   "source": [
    "df['nome'][df['nome'] == '~ ICARO MOURA'] = 'icaro de MOURA SOUSA'.upper()"
   ]
  },
  {
   "cell_type": "markdown",
   "id": "ec77a3f5",
   "metadata": {},
   "source": [
    "# Testes:"
   ]
  },
  {
   "cell_type": "markdown",
   "id": "855fc43c-9346-43d3-af6a-808294c7dcfc",
   "metadata": {},
   "source": [
    "# ============================================================"
   ]
  },
  {
   "cell_type": "markdown",
   "id": "b4ac1cff",
   "metadata": {},
   "source": [
    "# Salvando restante:"
   ]
  },
  {
   "cell_type": "code",
   "execution_count": 36,
   "id": "9ba15f8f",
   "metadata": {
    "scrolled": true
   },
   "outputs": [
    {
     "name": "stdout",
     "output_type": "stream",
     "text": [
      "controle\n",
      "PROBS    318\n",
      "NORM      96\n",
      "Name: count, dtype: int64\n",
      "controle\n",
      "PROBS    76.811594\n",
      "NORM     23.188406\n",
      "Name: proportion, dtype: float64\n"
     ]
    }
   ],
   "source": [
    "print(df['controle'].value_counts())\n",
    "print(df['controle'].value_counts(normalize=True)*100)"
   ]
  },
  {
   "cell_type": "code",
   "execution_count": 37,
   "id": "f3e8affa",
   "metadata": {},
   "outputs": [
    {
     "name": "stdout",
     "output_type": "stream",
     "text": [
      "probs: 318\n",
      "ok: 96\n",
      "2818  +=  96 => 2913\n",
      ".\n",
      "318\n"
     ]
    }
   ],
   "source": [
    "# Registros com Problemas Corrigiveis ou Não\n",
    "df_gabs = df[df['controle'] != 'NORM']\n",
    "df_gabs.reset_index(drop=True, inplace=True)\n",
    "print(\"probs:\", len(df_gabs))\n",
    "\n",
    "# Registros Perfeitos ja feitos\n",
    "df = df[df['controle'] == 'NORM']\n",
    "df.reset_index(drop=True, inplace=True)\n",
    "print(\"ok:\", len(df))\n",
    "\n",
    "os.remove(\"df_gabs.xlsx\")\n",
    "salvando_nome_arquivo('Feitos.xlsx', df)\n",
    "print('.')\n",
    "salvando_nome_arquivo('df_gabs2.xlsx', df_gabs)"
   ]
  },
  {
   "cell_type": "markdown",
   "id": "008f43c3",
   "metadata": {},
   "source": [
    "# ======================================================================="
   ]
  },
  {
   "cell_type": "code",
   "execution_count": 38,
   "id": "fa3ac3ee",
   "metadata": {},
   "outputs": [],
   "source": [
    "from selenium.webdriver.support import expected_conditions as EC\n",
    "from selenium.common.exceptions import TimeoutException"
   ]
  },
  {
   "cell_type": "code",
   "execution_count": 39,
   "id": "c2d7e4e1",
   "metadata": {},
   "outputs": [],
   "source": [
    "#pacotes para manipular data\n",
    "from datetime import date\n",
    "from datetime import time\n",
    "from datetime import datetime\n",
    "from datetime import timedelta"
   ]
  },
  {
   "cell_type": "markdown",
   "id": "d0bdf6a5",
   "metadata": {},
   "source": [
    "# ======================================================================="
   ]
  },
  {
   "cell_type": "code",
   "execution_count": 40,
   "id": "ff34b36c",
   "metadata": {},
   "outputs": [
    {
     "data": {
      "text/html": [
       "<div>\n",
       "<style scoped>\n",
       "    .dataframe tbody tr th:only-of-type {\n",
       "        vertical-align: middle;\n",
       "    }\n",
       "\n",
       "    .dataframe tbody tr th {\n",
       "        vertical-align: top;\n",
       "    }\n",
       "\n",
       "    .dataframe thead th {\n",
       "        text-align: right;\n",
       "    }\n",
       "</style>\n",
       "<table border=\"1\" class=\"dataframe\">\n",
       "  <thead>\n",
       "    <tr style=\"text-align: right;\">\n",
       "      <th></th>\n",
       "      <th>Dia</th>\n",
       "      <th>Unidade</th>\n",
       "      <th>Periodo</th>\n",
       "      <th>Semana</th>\n",
       "      <th>Dia Semana</th>\n",
       "      <th>Entrada</th>\n",
       "      <th>Saida</th>\n",
       "      <th>ordem</th>\n",
       "      <th>data</th>\n",
       "      <th>PERIODO</th>\n",
       "      <th>periodo</th>\n",
       "    </tr>\n",
       "  </thead>\n",
       "  <tbody>\n",
       "  </tbody>\n",
       "</table>\n",
       "</div>"
      ],
      "text/plain": [
       "Empty DataFrame\n",
       "Columns: [Dia, Unidade, Periodo, Semana, Dia Semana, Entrada, Saida, ordem, data, PERIODO, periodo]\n",
       "Index: []"
      ]
     },
     "execution_count": 40,
     "metadata": {},
     "output_type": "execute_result"
    }
   ],
   "source": [
    "######### ######### FUNÇÃO DE CAPTURA ######### ######### \n",
    "#capturando registros\n",
    "unidades = ['ADMINISTRACAO','ALPHA','ANALIA','AVICCENA',\n",
    "            'ITAIM','JABAQUARA','MATERNIDADE','MORUMBI',\n",
    "            'OSASCO','VILLA','VNS','SANTA ISABEL']\n",
    "\n",
    "def funcao():\n",
    "    lista_tabela = []\n",
    "    for i in range(1, 6): #passando por cada semana[1 a 5]\n",
    "    ##print('semana:', i, \"==\"*20)\n",
    "        for t in range(1, 8): #passando por cada dia[1 a 7] dentro da semana\n",
    "            reg = xpath_element('/html/body/form/main/div[2]/div[2]/table/tbody/tr['+str(i)+']/td['+str(t)+']').text\n",
    "            content = reg.splitlines() #deixando as palavras em um item dentro de uma lista\n",
    "            content = [unidecode.unidecode(i.strip().upper()) for i in content] #tratando cada palavra\n",
    "\n",
    "            dia = content[0] #dia do registro\n",
    "            del(content[0]) #deletando o dia, ja que foi coletado\n",
    "            del(content[-1]) #deletando residuo do wepscraping\n",
    "\n",
    "            if len(content) != 0: #ignorando dias em branco (sem registro) ¹\n",
    "                #print('dia:', t)\n",
    "\n",
    "                ##print('dia:', dia)\n",
    "                #print(content)\n",
    "\n",
    "                count_hora = 0 #count para capturar a hora de entrada e saida, count=1(entrada) | count=2(saida)\n",
    "                lista_control = []\n",
    "                for y in content: #passando um for sobre cada item da lista\n",
    "                    if y in unidades: # capturando a unidade e dando inicio a novo registro novo\n",
    "                        #print('================unidade:', y)\n",
    "                        unidade = y\n",
    "                    elif y[2] == ':': #reconhecendo se o item é hora (HH*:*mm)\n",
    "                        count_hora += 1\n",
    "                        if count_hora == 1: #capturando entrada\n",
    "                            #print('hora entrada:', y)\n",
    "                            lista_control.append(y)\n",
    "                        elif count_hora == 2: #capturando saida\n",
    "                            #print('hora saida:', y)\n",
    "                            lista_control.append(y)\n",
    "                            ##print('lista teste', lista_control)\n",
    "                            lista_tabela.append(lista_control)\n",
    "                            lista_control = []\n",
    "                            count_hora = 0\n",
    "                    else: #capturando dia, unidade, e periodo\n",
    "                        #print('.')\n",
    "                        #print('periodo:', y)\n",
    "                        lista_control.append(dia)\n",
    "                        lista_control.append(unidade)\n",
    "                        lista_control.append(y)\n",
    "                        lista_control.append(i)\n",
    "                        lista_control.append(t) #dia semanal\n",
    "\n",
    "                ##print('='*20)    \n",
    "\n",
    "            else:\n",
    "                continue #ignorando dias em branco (sem registro) ²\n",
    "    \n",
    "    tabela = pd.DataFrame(lista_tabela, columns = ['Dia','Unidade','Periodo','Semana','Dia Semana','Entrada','Saida'])\n",
    "    \n",
    "    #limpeza da tabela\n",
    "    #########3\n",
    "    tabela['Dia'] = tabela['Dia'].apply(lambda x: int(x))\n",
    "\n",
    "    #recolhendo os dias do mes passado que ainda aparecem na primeira semana\n",
    "    dias_mes_passado = list(tabela[(tabela['Dia'] > 20) & (tabela['Semana'] == 1)].index) \n",
    "    tabela.drop(dias_mes_passado, axis=0, inplace=True) #excluindo\n",
    "    tabela.reset_index(drop=True, inplace=True) #resetando index\n",
    "\n",
    "    #Inserindo a ordem dos registros\n",
    "    tabela['ordem'] = ''\n",
    "\n",
    "    for i in tabela['Dia'].unique():\n",
    "        for t in range(0, len(tabela[tabela['Dia'] == i].index)):\n",
    "            tabela['ordem'][tabela[tabela['Dia'] == i].index[t]] = t+1\n",
    "\n",
    "    #Inserindo coluna de data        \n",
    "    tabela['data'] = tabela['Dia'].apply(lambda x: str(x))\n",
    "\n",
    "    for i in range(len(tabela)):\n",
    "        if len(tabela['data'][i]) == 1:\n",
    "            tabela['data'][i] = \"0\" + tabela['data'][i]\n",
    "\n",
    "        tabela['data'][i] = tabela['data'][i] + \"/\" + mes + \"/2024\" \n",
    "\n",
    "    tabela = tabela.query(\"Unidade != 'ADMINISTRACAO'\")\n",
    "    tabela = tabela[~((tabela['Semana'] >= 5) & (tabela['Dia'] < 10))]\n",
    "    tabela.reset_index(drop=True, inplace=True) #resetando index\n",
    "    \n",
    "    tabela['PERIODO'] = np.nan\n",
    "    for i in range(0, len(tabela)):\n",
    "        if int(tabela['Entrada'][i][:2]) <= 6:\n",
    "            tabela['PERIODO'][i] = '6h'\n",
    "        elif int(tabela['Entrada'][i][:2]) >= 7 and int(tabela['Entrada'][i][:2]) <= 12:\n",
    "            tabela['PERIODO'][i] = 'manha'\n",
    "        elif int(tabela['Entrada'][i][:2]) >= 13 and int(tabela['Entrada'][i][:2]) <= 18:\n",
    "            tabela['PERIODO'][i] = 'tarde'\n",
    "        else:\n",
    "            tabela['PERIODO'][i] = 'noturno saida'\n",
    "\n",
    "    tabela['periodo'] = np.nan\n",
    "    tabela['periodo'][tabela['PERIODO'] == '6h'] = 1\n",
    "    tabela['periodo'][tabela['PERIODO'] == 'manha'] = 2\n",
    "    tabela['periodo'][tabela['PERIODO'] == 'tarde'] = 3\n",
    "    tabela['periodo'][tabela['PERIODO'] == 'noturno saida'] = 4\n",
    "    \n",
    "    return tabela\n",
    "    \n",
    "tabela = funcao()\n",
    "tabela"
   ]
  },
  {
   "cell_type": "markdown",
   "id": "0e3c334b",
   "metadata": {},
   "source": [
    "# ======================="
   ]
  },
  {
   "cell_type": "markdown",
   "id": "5ace69cc",
   "metadata": {},
   "source": [
    "# DIMINUINDO TEMPOS & DESLOCADO"
   ]
  },
  {
   "cell_type": "code",
   "execution_count": 41,
   "id": "cae14b39",
   "metadata": {},
   "outputs": [
    {
     "name": "stdout",
     "output_type": "stream",
     "text": [
      "318\n"
     ]
    },
    {
     "data": {
      "text/html": [
       "<div>\n",
       "<style scoped>\n",
       "    .dataframe tbody tr th:only-of-type {\n",
       "        vertical-align: middle;\n",
       "    }\n",
       "\n",
       "    .dataframe tbody tr th {\n",
       "        vertical-align: top;\n",
       "    }\n",
       "\n",
       "    .dataframe thead th {\n",
       "        text-align: right;\n",
       "    }\n",
       "</style>\n",
       "<table border=\"1\" class=\"dataframe\">\n",
       "  <thead>\n",
       "    <tr style=\"text-align: right;\">\n",
       "      <th></th>\n",
       "      <th>chat</th>\n",
       "      <th>dia</th>\n",
       "      <th>nome</th>\n",
       "      <th>mensagem</th>\n",
       "      <th>controle</th>\n",
       "      <th>data</th>\n",
       "      <th>unidade</th>\n",
       "      <th>extra</th>\n",
       "      <th>tipo</th>\n",
       "      <th>ENTRADA</th>\n",
       "      <th>SAIDA</th>\n",
       "      <th>DURAÇÃO</th>\n",
       "      <th>PERIODO</th>\n",
       "      <th>periodo</th>\n",
       "      <th>setor</th>\n",
       "      <th>sem_ou_fds</th>\n",
       "      <th>unidade2</th>\n",
       "      <th>setor_inicio</th>\n",
       "    </tr>\n",
       "  </thead>\n",
       "  <tbody>\n",
       "    <tr>\n",
       "      <th>0</th>\n",
       "      <td>[26/06/2024 10:20:48] Alessandre Luiz Braga Ju...</td>\n",
       "      <td>26/06/2024</td>\n",
       "      <td>ALESSANDRE LUIZ BRAGA JUNIOR</td>\n",
       "      <td>26/06 ANALIA  -  ALESSANDRE ENTRADA 06:00</td>\n",
       "      <td>PROBS</td>\n",
       "      <td>26/06/2024</td>\n",
       "      <td>ANALIA</td>\n",
       "      <td>NaN</td>\n",
       "      <td>ENTRADA</td>\n",
       "      <td>06:00</td>\n",
       "      <td>07:00</td>\n",
       "      <td>01:00</td>\n",
       "      <td>6h</td>\n",
       "      <td>1</td>\n",
       "      <td>SEMANA - 6HS</td>\n",
       "      <td>semana</td>\n",
       "      <td>ANALIA</td>\n",
       "      <td>SEMANA - 6HS</td>\n",
       "    </tr>\n",
       "    <tr>\n",
       "      <th>1</th>\n",
       "      <td>[26/06/2024 10:21:12] Alessandre Luiz Braga Ju...</td>\n",
       "      <td>26/06/2024</td>\n",
       "      <td>ALESSANDRE LUIZ BRAGA JUNIOR</td>\n",
       "      <td>26/06 ANALIA  -  ALESSANDRE SAIDA 10:20</td>\n",
       "      <td>PROBS</td>\n",
       "      <td>26/06/2024</td>\n",
       "      <td>ANALIA</td>\n",
       "      <td>NaN</td>\n",
       "      <td>SAIDA</td>\n",
       "      <td>07:00</td>\n",
       "      <td>10:30</td>\n",
       "      <td>03:30</td>\n",
       "      <td>manha</td>\n",
       "      <td>2</td>\n",
       "      <td>SEMANA - MANHA - C.CIRURGICO</td>\n",
       "      <td>semana</td>\n",
       "      <td>ANALIA</td>\n",
       "      <td>SEMANA - MANHA</td>\n",
       "    </tr>\n",
       "    <tr>\n",
       "      <th>2</th>\n",
       "      <td>[26/06/2024 06:46:29] Alexandre Amaral Lucas: ...</td>\n",
       "      <td>26/06/2024</td>\n",
       "      <td>ALEXANDRE AMARAL LUCAS</td>\n",
       "      <td>26/06 OSASCO  -  ALEXANDRE AMARAL ENTRADA 06:00</td>\n",
       "      <td>PROBS</td>\n",
       "      <td>26/06/2024</td>\n",
       "      <td>OSASCO</td>\n",
       "      <td>NaN</td>\n",
       "      <td>ENTRADA</td>\n",
       "      <td>06:00</td>\n",
       "      <td>07:00</td>\n",
       "      <td>01:00</td>\n",
       "      <td>6h</td>\n",
       "      <td>1</td>\n",
       "      <td>SEMANA - 6HS</td>\n",
       "      <td>semana</td>\n",
       "      <td>OSASCO</td>\n",
       "      <td>SEMANA - 6HS</td>\n",
       "    </tr>\n",
       "    <tr>\n",
       "      <th>3</th>\n",
       "      <td>[26/06/2024 22:40:49] Alexandre Amaral Lucas: ...</td>\n",
       "      <td>26/06/2024</td>\n",
       "      <td>ALEXANDRE AMARAL LUCAS</td>\n",
       "      <td>26/06 OSASCO  -  ALEXANDRE AMARAL SAIDA 22:40</td>\n",
       "      <td>PROBS</td>\n",
       "      <td>26/06/2024</td>\n",
       "      <td>OSASCO</td>\n",
       "      <td>NaN</td>\n",
       "      <td>SAIDA</td>\n",
       "      <td>19:00</td>\n",
       "      <td>23:00</td>\n",
       "      <td>04:00</td>\n",
       "      <td>noturno saida</td>\n",
       "      <td>4</td>\n",
       "      <td>SEMANA - NOTURNO - SAIDA</td>\n",
       "      <td>semana</td>\n",
       "      <td>OSASCO</td>\n",
       "      <td>SEMANA - NOTURNO - SAIDA</td>\n",
       "    </tr>\n",
       "    <tr>\n",
       "      <th>4</th>\n",
       "      <td>[28/06/2024 07:22:09] Alexandre Amaral Lucas: ...</td>\n",
       "      <td>28/06/2024</td>\n",
       "      <td>ALEXANDRE AMARAL LUCAS</td>\n",
       "      <td>28/06 OSASCO ALEXANDRE AMARAL ENTRADA 07:14  (...</td>\n",
       "      <td>PROBS</td>\n",
       "      <td>28/06/2024</td>\n",
       "      <td>OSASCO</td>\n",
       "      <td>NaN</td>\n",
       "      <td>ENTRADA</td>\n",
       "      <td>07:00</td>\n",
       "      <td>13:00</td>\n",
       "      <td>06:00</td>\n",
       "      <td>manha</td>\n",
       "      <td>2</td>\n",
       "      <td>SEMANA - MANHA - C.CIRURGICO</td>\n",
       "      <td>semana</td>\n",
       "      <td>OSASCO</td>\n",
       "      <td>SEMANA - MANHA</td>\n",
       "    </tr>\n",
       "  </tbody>\n",
       "</table>\n",
       "</div>"
      ],
      "text/plain": [
       "                                                chat         dia  \\\n",
       "0  [26/06/2024 10:20:48] Alessandre Luiz Braga Ju...  26/06/2024   \n",
       "1  [26/06/2024 10:21:12] Alessandre Luiz Braga Ju...  26/06/2024   \n",
       "2  [26/06/2024 06:46:29] Alexandre Amaral Lucas: ...  26/06/2024   \n",
       "3  [26/06/2024 22:40:49] Alexandre Amaral Lucas: ...  26/06/2024   \n",
       "4  [28/06/2024 07:22:09] Alexandre Amaral Lucas: ...  28/06/2024   \n",
       "\n",
       "                           nome  \\\n",
       "0  ALESSANDRE LUIZ BRAGA JUNIOR   \n",
       "1  ALESSANDRE LUIZ BRAGA JUNIOR   \n",
       "2        ALEXANDRE AMARAL LUCAS   \n",
       "3        ALEXANDRE AMARAL LUCAS   \n",
       "4        ALEXANDRE AMARAL LUCAS   \n",
       "\n",
       "                                            mensagem controle        data  \\\n",
       "0          26/06 ANALIA  -  ALESSANDRE ENTRADA 06:00    PROBS  26/06/2024   \n",
       "1            26/06 ANALIA  -  ALESSANDRE SAIDA 10:20    PROBS  26/06/2024   \n",
       "2    26/06 OSASCO  -  ALEXANDRE AMARAL ENTRADA 06:00    PROBS  26/06/2024   \n",
       "3      26/06 OSASCO  -  ALEXANDRE AMARAL SAIDA 22:40    PROBS  26/06/2024   \n",
       "4  28/06 OSASCO ALEXANDRE AMARAL ENTRADA 07:14  (...    PROBS  28/06/2024   \n",
       "\n",
       "  unidade  extra     tipo ENTRADA  SAIDA DURAÇÃO        PERIODO  periodo  \\\n",
       "0  ANALIA    NaN  ENTRADA   06:00  07:00   01:00             6h        1   \n",
       "1  ANALIA    NaN    SAIDA   07:00  10:30   03:30          manha        2   \n",
       "2  OSASCO    NaN  ENTRADA   06:00  07:00   01:00             6h        1   \n",
       "3  OSASCO    NaN    SAIDA   19:00  23:00   04:00  noturno saida        4   \n",
       "4  OSASCO    NaN  ENTRADA   07:00  13:00   06:00          manha        2   \n",
       "\n",
       "                          setor sem_ou_fds unidade2              setor_inicio  \n",
       "0                  SEMANA - 6HS     semana   ANALIA              SEMANA - 6HS  \n",
       "1  SEMANA - MANHA - C.CIRURGICO     semana   ANALIA            SEMANA - MANHA  \n",
       "2                  SEMANA - 6HS     semana   OSASCO              SEMANA - 6HS  \n",
       "3      SEMANA - NOTURNO - SAIDA     semana   OSASCO  SEMANA - NOTURNO - SAIDA  \n",
       "4  SEMANA - MANHA - C.CIRURGICO     semana   OSASCO            SEMANA - MANHA  "
      ]
     },
     "execution_count": 41,
     "metadata": {},
     "output_type": "execute_result"
    }
   ],
   "source": [
    "#df_backup = df_gabs\n",
    "df_backup = pd.read_excel('df_gabs2.xlsx')\n",
    "\n",
    "print(len(df_backup))\n",
    "df_backup['setor_inicio'] = df_backup['setor'].apply(lambda x: x.replace(' - C.CIRURGICO',''))\n",
    "\n",
    "df_backup = df_backup.sort_values(['nome','data','periodo']).reset_index(drop=True)\n",
    "df_backup.reset_index(drop=True, inplace=True)\n",
    "\n",
    "df = df_backup.copy()\n",
    "\n",
    "df.head()"
   ]
  },
  {
   "cell_type": "code",
   "execution_count": 42,
   "id": "0a7ad062",
   "metadata": {},
   "outputs": [],
   "source": [
    "from selenium.webdriver.common.action_chains import ActionChains\n",
    "\n",
    "action_chains = ActionChains(browser)"
   ]
  },
  {
   "cell_type": "code",
   "execution_count": 43,
   "id": "56c2d544",
   "metadata": {},
   "outputs": [
    {
     "data": {
      "text/plain": [
       "318"
      ]
     },
     "execution_count": 43,
     "metadata": {},
     "output_type": "execute_result"
    }
   ],
   "source": [
    "len(df_backup)"
   ]
  },
  {
   "cell_type": "code",
   "execution_count": 44,
   "id": "05839958",
   "metadata": {},
   "outputs": [
    {
     "data": {
      "text/plain": [
       "controle\n",
       "PROBS    318\n",
       "Name: count, dtype: int64"
      ]
     },
     "execution_count": 44,
     "metadata": {},
     "output_type": "execute_result"
    }
   ],
   "source": [
    "df_backup['controle'].value_counts()"
   ]
  },
  {
   "cell_type": "code",
   "execution_count": 47,
   "id": "6c79a890",
   "metadata": {},
   "outputs": [],
   "source": [
    "def atualizando_plantao():\n",
    "    xpath_click('/html/body/div[5]/div/div[1]/div[2]/button[5]')\n",
    "    #xpath_click('/html/body/div[4]/div/div[1]/div[2]/button[5]')\n",
    "atualizando_plantao()"
   ]
  },
  {
   "cell_type": "code",
   "execution_count": null,
   "id": "b90f9868",
   "metadata": {},
   "outputs": [],
   "source": []
  },
  {
   "cell_type": "code",
   "execution_count": 48,
   "id": "f413e242",
   "metadata": {},
   "outputs": [],
   "source": [
    "count = 0"
   ]
  },
  {
   "cell_type": "code",
   "execution_count": 49,
   "id": "27c44d25",
   "metadata": {},
   "outputs": [
    {
     "data": {
      "text/html": [
       "<div>\n",
       "<style scoped>\n",
       "    .dataframe tbody tr th:only-of-type {\n",
       "        vertical-align: middle;\n",
       "    }\n",
       "\n",
       "    .dataframe tbody tr th {\n",
       "        vertical-align: top;\n",
       "    }\n",
       "\n",
       "    .dataframe thead th {\n",
       "        text-align: right;\n",
       "    }\n",
       "</style>\n",
       "<table border=\"1\" class=\"dataframe\">\n",
       "  <thead>\n",
       "    <tr style=\"text-align: right;\">\n",
       "      <th></th>\n",
       "      <th>Freq</th>\n",
       "      <th>Perc</th>\n",
       "    </tr>\n",
       "    <tr>\n",
       "      <th>controle</th>\n",
       "      <th></th>\n",
       "      <th></th>\n",
       "    </tr>\n",
       "  </thead>\n",
       "  <tbody>\n",
       "    <tr>\n",
       "      <th>PROBS</th>\n",
       "      <td>318</td>\n",
       "      <td>100.0</td>\n",
       "    </tr>\n",
       "  </tbody>\n",
       "</table>\n",
       "</div>"
      ],
      "text/plain": [
       "          Freq   Perc\n",
       "controle             \n",
       "PROBS      318  100.0"
      ]
     },
     "metadata": {},
     "output_type": "display_data"
    }
   ],
   "source": [
    "count_freq(df_backup, 'controle')"
   ]
  },
  {
   "cell_type": "code",
   "execution_count": 50,
   "id": "0d0a1897-cc26-43af-a9a4-cc927a09db1b",
   "metadata": {},
   "outputs": [
    {
     "name": "stdout",
     "output_type": "stream",
     "text": [
      "erro\n"
     ]
    }
   ],
   "source": [
    "def xpath_estranho(i):\n",
    "    xpaths = [\n",
    "        '/html/body/div[12]/div/input',\n",
    "        '/html/body/div[11]/div/input',\n",
    "        '/html/body/div[10]/div/input',\n",
    "        '/html/body/div[9]/div/input',\n",
    "        '/html/body/div[8]/div/input',\n",
    "        '/html/body/div[7]/div/input',\n",
    "        '/html/body/div[6]/div/input',\n",
    "    ]\n",
    "    \n",
    "    for xpath in xpaths:\n",
    "        try:\n",
    "            xpath_send_keys(xpath, i)\n",
    "            return  # Sai da função se encontrar um xpath que funcione\n",
    "        except:\n",
    "            continue  # Tenta o próximo xpath se ocorrer uma exceção\n",
    "    \n",
    "    print('erro')  # Imprime 'erro' se nenhum xpath funcionar\n",
    "\n",
    "xpath_estranho(i)"
   ]
  },
  {
   "cell_type": "code",
   "execution_count": 55,
   "id": "f142885e",
   "metadata": {
    "scrolled": true
   },
   "outputs": [
    {
     "name": "stdout",
     "output_type": "stream",
     "text": [
      "==================== THIAGO SILVA PINTO ====================\n",
      "27/06 SANTA  -  T. SILVA  -  ENTRADA 06:00\n",
      "303 -> OK\n",
      "==================== TURIBIO RODRIGUES FREIRE NETO ====================\n",
      "26/06 MORUMBI  -  TURIBIO ENTRADA: 06:15\n",
      "304 -> OK\n",
      "====================\n",
      "26/06 MORUMBI  -  TURIBIO SAÍDA: 12:00\n",
      "duração >5 -> 100 pontos\n",
      "305 -> OK\n",
      "==================== VANESSA PACIULLO MAROSSI ====================\n",
      "26/06 VILLA  -  VANESSA SAÍDA 14:45\n",
      "306 -> OK\n",
      "==================== VICTOR AUGUSTO DE SOUZA MORAES ====================\n",
      "26/06 OSASCO  -  V.AUGUSTO SAÍDA 23:00\n",
      "307 -> OK\n",
      "====================\n",
      "27/06 ANÁLIA  -  V.AUGUSTO SAÍDA 16:25\n",
      "308 -> OK\n",
      "==================== VITOR MACIEL DE SOUSA PINTO ====================\n",
      "25/06 ANÁLIA  -  MACIEL SAÍDA 19:50\n",
      "309 -> OK\n",
      "====================\n",
      "26/06 ANÁLIA  -  MACIEL SAÍDA 19:55\n",
      "310 -> OK\n",
      "==================== VIVIAN CRISTINE DOS ANJOS E SILVA ====================\n",
      "26/06 ANALIA VIVIAN ENTRADA 13:00\n",
      "duração >5 -> 100 pontos\n",
      "311 -> OK\n",
      "====================\n",
      "26/06 ANALIA VIVIAN SAIDA 20:40\n",
      "312 -> OK\n",
      "==================== VIVIANNA BOVERIO GALZERANI ====================\n",
      "26/06 VNS VIVIANNA ENTRADA 09:30\n",
      "313 -> OK\n",
      "====================\n",
      "26/06 VNS VIVIANNA SAÍDA 12:50\n",
      "duração >5 -> 100 pontos\n",
      "314 -> OK\n",
      "==================== YOKO HAYASHI ====================\n",
      "28/06 SANTA ISABEL YOKO SAÍDA 14:50  ( DESLOCADO ALPHA ) \n",
      "315 -> OK\n",
      "==================== YURI ANDERSON PACHECO DE LIMA ====================\n",
      "25/06 MORUMBI  -  YURI SAÍDA 22:15\n",
      "316 -> OK\n",
      "====================\n",
      "27/06 VNS  -  YURI ENTRADA 09:00    ( A PEDIDO DA COORDENAÇÃO ) \n",
      "317 -> OK\n",
      "================================================== TERMINOU ==================================================\n",
      "Total   318\n",
      "================================================================================ controle\n",
      "OK      316\n",
      "PROB      2\n",
      "Name: count, dtype: int64 ================================================================================\n"
     ]
    }
   ],
   "source": [
    "############################-CODIGO-############################\n",
    "#Para cada profissional na lista\n",
    "df = df_backup[count:]\n",
    "\n",
    "for i in df['nome'].unique():\n",
    "    print('='*20, i, '='*20)\n",
    "    df_nome = df[df['nome'] == i]\n",
    "    df_nome = df_nome.reset_index(drop=True)\n",
    "\n",
    "    subir_pg(); sleep(0.5)\n",
    "    xpath_click('//*[@id=\"s2id_ddlProfessionals\"]/a/span[1]'); sleep(1)\n",
    "    xpath_estranho(i)\n",
    "    xpath_click('//*[@id=\"select2-drop\"]/ul/li/div')\n",
    "    \n",
    "    #esperando carregamento do site\n",
    "    WebDriverWait(browser, 30).until_not(visibility_of(xpath_element('//*[@id=\"loader\"]')))\n",
    "\n",
    "    tabela = funcao(); sleep(0.3)\n",
    "    \n",
    "    #Para cada registro na lista_nome\n",
    "    for t in range(len(df_nome)):\n",
    "        print(df_nome['mensagem'][t])\n",
    "        dia_sel = tabela[tabela['data'] == df_nome['data'][t]] # & (tabela['Periodo'] == df_nome[\"setor\"][t])]\n",
    "        \n",
    "        if df_nome['PERIODO'][t] == 'manha' and df_nome['sem_ou_fds'][t] == 'fds':\n",
    "            dia_sel = dia_sel[dia_sel['Entrada'] == '07:00']\n",
    "        else:\n",
    "            dia_sel = dia_sel[dia_sel['Periodo'].str.startswith(df_nome[\"setor_inicio\"][t])]\n",
    "        \n",
    "        dia_sel.reset_index(drop=True, inplace=True)\n",
    "        #dia_sel\n",
    "        \n",
    "        if len(dia_sel) == 0:\n",
    "            df_backup['controle'][count] = \"PROB\"; print(count, \"-> PROB\")\n",
    "        elif len(dia_sel) == 2:\n",
    "            #abrindo/selecionando periodo conforme localização\n",
    "            xpath_localizacao = '//*[@id=\"shift-monthly\"]/div[2]/table/tbody/tr['+str(dia_sel['Semana'][0])+']/td['+str(dia_sel['Dia Semana'][0])+']/ul['+str(dia_sel['ordem'][0])+']/li'\n",
    "            xpath_click(xpath_localizacao)\n",
    "            #Esperar componentes carregarem\n",
    "            WebDriverWait(browser, 10).until(visibility_of(xpath_element('//*[@id=\"service-ckb-list-all-owner\"]')))\n",
    "            sleep(0.3)\n",
    "            apagando_registro(); sleep(0.3)\n",
    "            df_backup['controle'][count] = \"OK\"; print(count, \"-> OK\")\n",
    "            WebDriverWait(browser, 10).until(visibility_of(xpath_element('//*[@id=\"s2id_ddlProfessionals\"]/a/span[1]')))\n",
    "            sleep(1)\n",
    "        else:\n",
    "            #abrindo/selecionando periodo conforme localização\n",
    "            xpath_localizacao = '//*[@id=\"shift-monthly\"]/div[2]/table/tbody/tr['+str(dia_sel['Semana'][0])+']/td['+str(dia_sel['Dia Semana'][0])+']/ul['+str(dia_sel['ordem'][0])+']/li'\n",
    "            xpath_click(xpath_localizacao)\n",
    "            #Esperar componentes carregarem\n",
    "            WebDriverWait(browser, 10).until(visibility_of(xpath_element('//*[@id=\"service-ckb-list-all-owner\"]')))\n",
    "            sleep(1)\n",
    "            hora(df_nome['ENTRADA'][t], df_nome['DURAÇÃO'][t])\n",
    "            if dia_sel['Unidade'][0] != df_nome['unidade'][t]:\n",
    "                setor(df_nome['unidade'][t], df_nome['setor'][t])\n",
    "            else:\n",
    "                pass\n",
    "            \n",
    "            tipo_do_registro(df_nome['DURAÇÃO'][t], df_nome['sem_ou_fds'][t], df_nome['extra'][t])\n",
    "            sleep(0.3)\n",
    "            reset_selecao2()\n",
    "            #salvar plantão\n",
    "            sleep(0.3)\n",
    "            atualizando_plantao(); atualizando_plantao(); sleep(0.3)\n",
    "            df_backup['controle'][count] = \"OK\"; print(count, \"-> OK\")\n",
    "            WebDriverWait(browser, 10).until(visibility_of(xpath_element('//*[@id=\"s2id_ddlProfessionals\"]/a/span[1]')))\n",
    "            sleep(1)\n",
    "            \n",
    "        count += 1 \n",
    "        \n",
    "        if count % 25 == 0:\n",
    "            print('='*80, '\\n', df_backup['controle'].value_counts(), '\\n'); df_backup.to_excel(\"df_gabs2.xlsx\", index=False)\n",
    "        else:\n",
    "            if t != len(df_nome)-1:\n",
    "                print('='*20)\n",
    "            \n",
    "print(\"=\"*50, 'TERMINOU', \"=\"*50)\n",
    "print('Total  ', len(df_backup))\n",
    "print('='*80, df_backup['controle'].value_counts(), '='*80); df_backup.to_excel(\"df_gabs2.xlsx\", index=False)"
   ]
  },
  {
   "cell_type": "code",
   "execution_count": null,
   "id": "c317b548-9432-4143-a25e-bd4cd8a145ba",
   "metadata": {},
   "outputs": [],
   "source": [
    "count += 1 "
   ]
  },
  {
   "cell_type": "code",
   "execution_count": null,
   "id": "b77edb6d-4d7e-4193-9666-1161a1da629a",
   "metadata": {},
   "outputs": [],
   "source": [
    "(31/54)*100"
   ]
  },
  {
   "cell_type": "code",
   "execution_count": null,
   "id": "b585e847-0706-4dcf-9ee2-d0f4b8f11fbe",
   "metadata": {},
   "outputs": [],
   "source": []
  },
  {
   "cell_type": "code",
   "execution_count": null,
   "id": "53a9da0b-f1f3-4554-b742-aa89e4367777",
   "metadata": {},
   "outputs": [],
   "source": []
  },
  {
   "cell_type": "code",
   "execution_count": null,
   "id": "d4d08868-591a-4a0a-8576-d151c79b58c6",
   "metadata": {},
   "outputs": [],
   "source": []
  },
  {
   "cell_type": "code",
   "execution_count": null,
   "id": "0ac7593b-b9f0-4274-8028-71f0f1fc94cd",
   "metadata": {},
   "outputs": [],
   "source": []
  },
  {
   "cell_type": "code",
   "execution_count": null,
   "id": "0885483d-8bcb-4948-b77d-c957dc9eee2b",
   "metadata": {},
   "outputs": [],
   "source": []
  },
  {
   "cell_type": "code",
   "execution_count": null,
   "id": "15e2ab66-7279-405d-ade0-9618fb6491c0",
   "metadata": {},
   "outputs": [],
   "source": [
    "df_backup['nome'][df_backup['nome'] == 'MARCO VINICIUS COSTA CARVALHO'] = 'MARCOS VINICIUS COSTA CARVALHO'"
   ]
  },
  {
   "cell_type": "code",
   "execution_count": null,
   "id": "13f51feb-db3f-49b9-9b04-b1adf8e0c03c",
   "metadata": {},
   "outputs": [],
   "source": [
    "df_backup.loc[int(count), 'controle'] = \"OK\"\n",
    "count += 1\n",
    "print(df_backup['nome'][count])\n",
    "print(count)"
   ]
  },
  {
   "cell_type": "code",
   "execution_count": 56,
   "id": "bf64d538",
   "metadata": {},
   "outputs": [
    {
     "name": "stdout",
     "output_type": "stream",
     "text": [
      "probs ok: 316\n",
      "probs: 2\n",
      "2913  +=  316 => 2980\n",
      ".\n",
      "2\n"
     ]
    }
   ],
   "source": [
    "df_corrigidos = df_backup[df_backup['controle'] == \"OK\"]\n",
    "print(\"probs ok:\", len(df_corrigidos))\n",
    "\n",
    "df_prob = df_backup[df_backup['controle'] != \"OK\"]\n",
    "print(\"probs:\", len(df_prob))\n",
    "\n",
    "###############################################################\n",
    "\n",
    "salvando_nome_arquivo('Feitos.xlsx', df_corrigidos)\n",
    "os.remove(\"df_gabs2.xlsx\")\n",
    "print('.')\n",
    "salvando_nome_arquivo('df_giov2.xlsx', df_prob)"
   ]
  },
  {
   "cell_type": "markdown",
   "id": "6d27d94a",
   "metadata": {},
   "source": [
    "# ======================="
   ]
  },
  {
   "cell_type": "markdown",
   "id": "c205873d",
   "metadata": {},
   "source": [
    "# =============================================================="
   ]
  },
  {
   "cell_type": "markdown",
   "id": "96491d60",
   "metadata": {},
   "source": [
    "# DISPENSADOS"
   ]
  },
  {
   "cell_type": "code",
   "execution_count": 57,
   "id": "a364cfe2",
   "metadata": {},
   "outputs": [
    {
     "name": "stdout",
     "output_type": "stream",
     "text": [
      "12\n",
      "12\n"
     ]
    }
   ],
   "source": [
    "df_backup = pd.read_excel('df_dispensados.xlsx')\n",
    "print(len(df_backup))\n",
    "df_backup = df_backup.drop_duplicates(subset=['chat'])\n",
    "df_backup = df_backup.sort_values(['nome', 'dia']).reset_index(drop=True)\n",
    "#df_backup = df_backup.sort_values(['nome', 'data', 'periodo'], ascending=[True, True, False]).reset_index(drop=True)\n",
    "print(len(df_backup))\n",
    "#df_backup.sample(3)"
   ]
  },
  {
   "cell_type": "code",
   "execution_count": 58,
   "id": "2f478c3b",
   "metadata": {},
   "outputs": [],
   "source": [
    "count = 0"
   ]
  },
  {
   "cell_type": "code",
   "execution_count": 59,
   "id": "a20eefee",
   "metadata": {},
   "outputs": [],
   "source": [
    "df_backup['controle'] = np.nan"
   ]
  },
  {
   "cell_type": "code",
   "execution_count": 60,
   "id": "4095c412",
   "metadata": {},
   "outputs": [],
   "source": [
    "df_backup[\"nome\"] = df_backup[\"nome\"].apply(lambda x: x.replace(\"  \", \" \"))"
   ]
  },
  {
   "cell_type": "code",
   "execution_count": 64,
   "id": "bf41c383",
   "metadata": {},
   "outputs": [],
   "source": [
    "def apagando_registro():\n",
    "    chatao = str(5) #4 ou 5\n",
    "    #Apagando\n",
    "    browser.find_element(\"xpath\", '/html/body/div['+chatao+']/div/div[1]/div[2]/button[1]').click()\n",
    "    #Clicando em continuar\n",
    "    sleep(0.5)\n",
    "    browser.find_element(\"xpath\", '/html/body/div['+chatao+']/div/div[1]/div[3]/button[2]').click()\n",
    "apagando_registro()"
   ]
  },
  {
   "cell_type": "code",
   "execution_count": 66,
   "id": "3a6681d9",
   "metadata": {},
   "outputs": [
    {
     "name": "stdout",
     "output_type": "stream",
     "text": [
      "==================== CARLOS AUGUSTO TREVISAN ====================\n",
      "26/06 ITAIM  -  CARLOS DISPENSADO\n",
      "2 -> Ja apagado\n",
      "[26/06/2024 08:58:10] Carlos Augusto Trevisan: 26/06 ITAIM - Carlos dispensado - 26/06/2024\n",
      "==================== DANIELLEN LINS LOURENCO ====================\n",
      "26/06 MORUMBI  -  DANIELLEN DISPENSADO\n",
      "3 -> Ja apagado\n",
      "[26/06/2024 16:44:21] Daniellen Lins Lourenço: 26/06 MORUMBI - Daniellen dispensada - 26/06/2024\n",
      "==================== FELIPE COELHO DE SOUZA ====================\n",
      "26/06 ITAIM  -  COELHO DISPENSADO\n",
      "4 -> Ja apagado\n",
      "[26/06/2024 10:39:02] Felipe Coelho de Souza: 26/06 Itaim - Coelho dispensado - 26/06/2024\n",
      "==================== GUILHERME SILVEIRA LOPES ====================\n",
      "28/06 MORUMBI  -  SILVEIRA DISPENSADO.\n",
      "PRINCIPAL\n",
      "PRINCIPAL\n",
      "5 -> OK\n",
      "[28/06/2024 08:38:40] Guilherme Silveira Lopes: 28/06 Morumbi - Silveira dispensado. - 28/06/2024\n",
      "==================== KAREN MANOELA ROSA ====================\n",
      "26/06 KROSA ITAIM DISPENSADO\n",
      "6 -> Ja apagado\n",
      "[26/06/2024 09:32:01] Karen Manoela Rosa: 26/06 KRosa Itaim dispensada - 26/06/2024\n",
      "==================== LARISSA MAYUMI ONO ====================\n",
      "26/06 OSASCO LARISSA  -  DISPENSADO\n",
      "7 -> Ja apagado\n",
      "[26/06/2024 09:03:37] Larissa Mayumi Ono: 26/06 Osasco Larissa - dispensada - 26/06/2024\n",
      "==================== MARCELA LEITE ROSIGNOLI ====================\n",
      "25/06 OSASCO MARCELA LEITE DISPENSADO\n",
      "8 -> Ja apagado\n",
      "[26/06/2024 11:42:40] Marcela Leite Rosignoli: 25/06 Osasco Marcela Leite dispensada - 25/06/2024\n",
      "==================== MARCELO FELIPE DE SOUZA BUTO ====================\n",
      "26/06 JABAQUARA  -  BUTO DISPENSADO\n",
      "9 -> Ja apagado\n",
      "[26/06/2024 10:45:03] Marcelo Felipe de Souza Buto: 26/06 Jabaquara - Buto dispensado - 26/06/2024\n",
      "==================== RAFHAEL SILVA LEAL ====================\n",
      "26/06 ITAIM  -  LEAL DISPENSADO  ( PÓS - HMS ) \n",
      "10 -> Ja apagado\n",
      "[26/06/2024 07:19:32] Rafhael Silva Leal: 26/06 Itaim - Leal dispensado (pós-HMS) - 26/06/2024\n",
      "==================== SABRINA DE SOUZA RAMOS ====================\n",
      "22/06 JABAQUARA SABRINA DISPENSADO\n",
      "11 -> Ja apagado\n",
      "[26/06/2024 16:46:44] Sabrina de Souza Ramos: 22/06 Jabaquara Sabrina dispensada - 22/06/2024\n",
      "========================= TERMINOU =========================\n",
      "Total   12\n",
      "================================================================================ controle\n",
      "OK    12\n",
      "Name: count, dtype: int64 ================================================================================\n"
     ]
    }
   ],
   "source": [
    "#Para cada profissional na lista\n",
    "df = df_backup[count:]\n",
    "\n",
    "for i in df['nome'].unique():\n",
    "    print('='*20, i, '='*20)\n",
    "    df_nome = df[df['nome'] == i]\n",
    "    df_nome.reset_index(drop=True, inplace=True)\n",
    "    \n",
    "    xpath_click('//*[@id=\"s2id_ddlProfessionals\"]/a/span[1]'); sleep(1)\n",
    "    xpath_estranho(i)\n",
    "    xpath_click('//*[@id=\"select2-drop\"]/ul/li/div')\n",
    "\n",
    "    #esperando carregamento do site\n",
    "    WebDriverWait(browser, 30).until_not(visibility_of(xpath_element('//*[@id=\"loader\"]')))\n",
    "\n",
    "    tabela = funcao()    \n",
    "    sleep(2)\n",
    "    \n",
    "    #Para cada registro na lista_nome\n",
    "    for t in range(len(df_nome)):\n",
    "        print(df_nome['mensagem'][t])\n",
    "        dia_sel = tabela[tabela['data'] == df_nome['data'][t]]\n",
    "        dia_sel.reset_index(drop=True, inplace=True)\n",
    "        \n",
    "        if len(dia_sel) == 0:\n",
    "            print(count, \"-> Ja apagado\")\n",
    "            print(df_nome['chat'][t] + \" - \" + df_nome['data'][t])\n",
    "            df_backup['controle'][count] = \"OK\"\n",
    "        else:\n",
    "            for r in range(len(dia_sel)-1, -1, -1):\n",
    "                print('PRINCIPAL')\n",
    "                #abrindo/selecionando periodo conforme localização\n",
    "                dia_ordem = r\n",
    "                xpath_textao = '//*[@id=\"shift-monthly\"]/div[2]/table/tbody/tr['+str(dia_sel['Semana'][0])+']/td['+str(dia_sel['Dia Semana'][0])+']/ul['+str(dia_sel['ordem'][dia_ordem])+']/li'\n",
    "                xpath_click(xpath_textao)\n",
    "                #Esperar componentes carregarem\n",
    "                WebDriverWait(browser, 10).until(visibility_of(xpath_element('//*[@id=\"service-ckb-list-all-owner\"]')))\n",
    "                sleep(2)\n",
    "                #Apagando registro\n",
    "                apagando_registro()\n",
    "                #esperando carregamento do site para prosseguir\n",
    "                WebDriverWait(browser, 20).until_not(visibility_of(xpath_element('//*[@id=\"modal-add-service\"]/div/div[1]/button')))\n",
    "            \n",
    "            tabela = funcao() #atualizando tabela de registros\n",
    "            sleep(2)\n",
    "            print(count, '-> OK')\n",
    "            print(df_nome['chat'][t] + \" - \" + df_nome['data'][t])\n",
    "            df_backup['controle'][count] = \"OK\"\n",
    "            \n",
    "        count += 1 \n",
    "        if count % 25 == 0:\n",
    "            print('='*80, '\\n', df_backup['controle'].value_counts(), '\\n', '='*80); df_backup.to_excel(\"df_dispensados.xlsx\", index=False)\n",
    "        else:\n",
    "            if t != len(df_nome)-1:\n",
    "                print('='*20)\n",
    "    \n",
    "print('='*25, 'TERMINOU', '='*25)\n",
    "print('Total  ', len(df_backup))\n",
    "print('='*80, df_backup['controle'].value_counts(), '='*80); df_backup.to_excel(\"df_dispensados.xlsx\", index=False)"
   ]
  },
  {
   "cell_type": "code",
   "execution_count": 65,
   "id": "213fc66e",
   "metadata": {},
   "outputs": [],
   "source": [
    "df_backup['controle'][count] = \"OK\"\n",
    "count += 1"
   ]
  },
  {
   "cell_type": "code",
   "execution_count": null,
   "id": "59b32d1f-2dcb-4a54-bdf5-1168e5b5a482",
   "metadata": {},
   "outputs": [],
   "source": [
    "df_backup['nome'][df_backup['nome'] == \"ICARO MOURA DE SOUSA\"] = \"ICARO DE MOURA SOUSA\""
   ]
  },
  {
   "cell_type": "code",
   "execution_count": null,
   "id": "c78f5fde-20a7-4cc7-a9e1-9c198fc0ed07",
   "metadata": {},
   "outputs": [],
   "source": []
  },
  {
   "cell_type": "code",
   "execution_count": null,
   "id": "55617db4",
   "metadata": {},
   "outputs": [],
   "source": []
  },
  {
   "cell_type": "code",
   "execution_count": 67,
   "id": "55610a72",
   "metadata": {},
   "outputs": [
    {
     "name": "stdout",
     "output_type": "stream",
     "text": [
      "probs ok: 12\n",
      "probs: 0\n",
      "2980  +=  12 => 2981\n",
      ".\n",
      "18  +=  0 => 18\n"
     ]
    }
   ],
   "source": [
    "df_corrigidos = df_backup[df_backup['controle'] == \"OK\"]\n",
    "print(\"probs ok:\", len(df_corrigidos))\n",
    "\n",
    "df_prob = df_backup[df_backup['controle'] != \"OK\"]\n",
    "print(\"probs:\", len(df_prob))\n",
    "\n",
    "################################################################\n",
    "\n",
    "os.remove(\"df_dispensados.xlsx\")\n",
    "salvando_nome_arquivo('Feitos.xlsx', df_corrigidos)\n",
    "print('.')\n",
    "salvando_nome_arquivo('df_giov.xlsx', df_prob)"
   ]
  },
  {
   "cell_type": "code",
   "execution_count": 68,
   "id": "9b375207",
   "metadata": {},
   "outputs": [],
   "source": [
    "browser.quit()"
   ]
  },
  {
   "cell_type": "markdown",
   "id": "70a0b403",
   "metadata": {},
   "source": [
    "# MENSAGEM GIOVANELLI"
   ]
  },
  {
   "cell_type": "code",
   "execution_count": 69,
   "id": "94b8f695",
   "metadata": {},
   "outputs": [
    {
     "name": "stdout",
     "output_type": "stream",
     "text": [
      "2981\n",
      "18\n",
      "2\n",
      "162  +=  20 => 170\n",
      "20\n"
     ]
    }
   ],
   "source": [
    "df_feito = pd.read_excel(\"Feitos.xlsx\")\n",
    "print(len(df_feito))\n",
    "\n",
    "df_prob0 = pd.read_excel(\"df_giov.xlsx\")\n",
    "print(len(df_prob0))\n",
    "df_prob01 = pd.read_excel(\"df_giov2.xlsx\")\n",
    "print(len(df_prob01))\n",
    "\n",
    "os.remove(\"df_giov.xlsx\")\n",
    "os.remove(\"df_giov2.xlsx\")\n",
    "\n",
    "df_prob = pd.concat([df_prob0, df_prob01])\n",
    "df_prob = df_prob.drop_duplicates(subset=['chat'])\n",
    "salvando_nome_arquivo('df_prob.xlsx', df_prob)\n",
    "\n",
    "print(len(df_prob))"
   ]
  },
  {
   "cell_type": "raw",
   "id": "66a61e18-c5df-4593-b363-3330524a8047",
   "metadata": {},
   "source": [
    "df_prob = pd.read_excel('df_prob.xlsx')\n",
    "print(len(df_prob))\n",
    "\n",
    "# Convertendo a coluna 'dia' para datetime\n",
    "df_prob_backup = df_prob.copy()\n",
    "print(len(df_prob_backup))\n",
    "\n",
    "df_prob['dia'] = pd.to_datetime(df_prob['dia'], format='%d/%m/%Y')\n",
    "\n",
    "# Filtrando as datas\n",
    "data_filtro = pd.to_datetime('18/12/2023', format='%d/%m/%Y')\n",
    "df_prob = df_prob[df_prob['dia'] >= data_filtro]\n",
    "\n",
    "# Mostrando o resultado\n",
    "print(len(df_prob))"
   ]
  },
  {
   "cell_type": "code",
   "execution_count": 70,
   "id": "8ff7ba10",
   "metadata": {},
   "outputs": [
    {
     "name": "stdout",
     "output_type": "stream",
     "text": [
      "Registros App: 2981 (99.33%)\n",
      "Registros Giovanelli 20 (0.67%)\n",
      "############################## \n",
      "\n",
      "ANA GABRIELA GEWEHR VALE SALMEN ==========\n",
      "‎ANA GABRIELA GEWEHR VALE SALMEN SAIU\n",
      "\n",
      "\n",
      "BRUNO STORNIOLI TAGUCHI LEMOS ==========\n",
      "27/06 HIAE BRUNO LEMOS ENTRADA 13:00\n",
      "27/06 HIAE SAIDA 17:20\n",
      "\n",
      "\n",
      "CLAUDIO MUELLER KAKUDA ==========\n",
      "27/06 MATERNIDADE  -  KAKUDA ENTADA 6:00\n",
      "\n",
      "\n",
      "FABIO ANTONIO DE SOUZA OLIVEIRA ==========\n",
      "28/06 ITAIM FABIO ENTRADA 6HS\n",
      "\n",
      "\n",
      "MARCELO DE OLIVEIRA PERES ==========\n",
      "28/06 ITAIM  -  MARCELO ENTRADA 13:00  (  DISTÂNCIA ) \n",
      "\n",
      "\n",
      "NATAN SOARES SILVEIRA ==========\n",
      "25/06 HCT  -  NATAN  -  SAÍDA 19:15\n",
      "25/06 HCT  -  NATAN  -  ENTRADA 05:30\n",
      "\n",
      "\n",
      "PEDRO HENRIQUE DINIZ BOTELHO ==========\n",
      "26/06 OSASCO  -  DINIZ ENTRADA 12:00\n",
      "\n",
      "\n",
      "RAFAEL TADEU MARQUES ==========\n",
      "27/06 HIAE RAFAEL TADEU SAÍDA 20:10\n",
      "\n",
      "\n",
      "RENATA TOGEIRO BASTOS GODOY DE FARIA ==========\n",
      "27/06 MORUMBI  -  RENATA TOGEIRO ENTRADA 5:00\n",
      "\n",
      "\n",
      "RODRIGO ANTONIO REY GONZALEZ ==========\n",
      "24/06 EXTERNA  -  REY ENTRADA 07:00\n",
      "24/06 EXTERNA  -  REY SAÍDA 20:00\n",
      "\n",
      "\n",
      "SABRINA DE SOUZA RAMOS ==========\n",
      "25/06 ITAIM SABRINA SAÍDA 23:40\n",
      "\n",
      "\n",
      "THIAGO FRANCISCO MARTINS ==========\n",
      "26/06 ITAIM THIAGO MARTINS SAIDA 01:40\n",
      "\n",
      "\n",
      "TURIBIO RODRIGUES FREIRE NETO ==========\n",
      "‎TURIBIO RODRIGUES FREIRE NETO SAIU\n",
      "‎TURIBIO RODRIGUES FREIRE NETO FOI ADICIONADO ( A ) \n",
      "‎TURIBIO RODRIGUES FREIRE NETO SAIU\n",
      "‎TURIBIO RODRIGUES FREIRE NETO DESEJA ENTRAR NO GRUPO\n",
      "‎TURIBIO RODRIGUES FREIRE NETO ENTROU USANDO O LINK DE CONVITE DESTE GRUPO\n",
      "\n",
      "\n"
     ]
    }
   ],
   "source": [
    "total = len(df_feito) + len(df_prob)\n",
    "\n",
    "percent = len(df_feito) / total\n",
    "percent = round(percent*100, 2)\n",
    "percent = str(percent) + \"%\"\n",
    "percent = \"(\"+percent+\")\"\n",
    "print(\"Registros App:\", len(df_feito), percent)\n",
    "\n",
    "percent = len(df_prob) / total\n",
    "percent = round(percent*100, 2)\n",
    "percent = str(percent) + \"%\"\n",
    "percent = \"(\"+percent+\")\"\n",
    "print(\"Registros Giovanelli\", len(df_prob), percent)\n",
    "print(\"#\"*30, \"\\n\")\n",
    "\n",
    "for nome in sorted(list(df_prob['nome'].unique())):\n",
    "    print(nome, \"=\"*10)\n",
    "    selecao = df_prob.loc[df_prob['nome']==nome]\n",
    "    selecao.reset_index(drop=True, inplace=True)\n",
    "    \n",
    "    for i in range(len(selecao)):\n",
    "        print(selecao[\"mensagem\"][i])\n",
    "    \n",
    "    print(\"\\n\")"
   ]
  },
  {
   "cell_type": "code",
   "execution_count": null,
   "id": "03540f6b-4173-4c71-b1d1-63568fad4490",
   "metadata": {},
   "outputs": [],
   "source": []
  },
  {
   "cell_type": "code",
   "execution_count": null,
   "id": "662d8dd1-f82e-4cd1-9c72-164b226a257a",
   "metadata": {},
   "outputs": [],
   "source": [
    "for i in df_prob['chat']:\n",
    "    print(i)"
   ]
  },
  {
   "cell_type": "code",
   "execution_count": null,
   "id": "7cffb41e",
   "metadata": {},
   "outputs": [],
   "source": [
    "os.remove(\"df_prob.xlsx\")\n",
    "df_prob.to_excel(\"df_prob_enviado_2904.xlsx\", index=False)"
   ]
  },
  {
   "cell_type": "code",
   "execution_count": null,
   "id": "b3966193",
   "metadata": {},
   "outputs": [],
   "source": []
  },
  {
   "cell_type": "code",
   "execution_count": null,
   "id": "7de22996",
   "metadata": {},
   "outputs": [],
   "source": []
  },
  {
   "cell_type": "code",
   "execution_count": null,
   "id": "fa82925a",
   "metadata": {},
   "outputs": [],
   "source": []
  },
  {
   "cell_type": "code",
   "execution_count": null,
   "id": "688a2218",
   "metadata": {},
   "outputs": [],
   "source": []
  },
  {
   "cell_type": "code",
   "execution_count": null,
   "id": "71f91ae8",
   "metadata": {},
   "outputs": [],
   "source": []
  },
  {
   "cell_type": "code",
   "execution_count": null,
   "id": "39b28303",
   "metadata": {},
   "outputs": [],
   "source": []
  },
  {
   "cell_type": "code",
   "execution_count": null,
   "id": "fe62588c",
   "metadata": {},
   "outputs": [],
   "source": []
  },
  {
   "cell_type": "code",
   "execution_count": null,
   "id": "88a98e30",
   "metadata": {},
   "outputs": [],
   "source": []
  },
  {
   "cell_type": "code",
   "execution_count": null,
   "id": "8680278f",
   "metadata": {},
   "outputs": [],
   "source": []
  },
  {
   "cell_type": "code",
   "execution_count": null,
   "id": "969d83e3",
   "metadata": {},
   "outputs": [],
   "source": []
  },
  {
   "cell_type": "code",
   "execution_count": null,
   "id": "74742d22",
   "metadata": {},
   "outputs": [],
   "source": []
  },
  {
   "cell_type": "code",
   "execution_count": null,
   "id": "34e7aada",
   "metadata": {},
   "outputs": [],
   "source": []
  },
  {
   "cell_type": "code",
   "execution_count": null,
   "id": "3eb1de4e",
   "metadata": {},
   "outputs": [],
   "source": []
  },
  {
   "cell_type": "code",
   "execution_count": null,
   "id": "cd37d1fc",
   "metadata": {},
   "outputs": [],
   "source": []
  },
  {
   "cell_type": "code",
   "execution_count": null,
   "id": "50493cd2",
   "metadata": {},
   "outputs": [],
   "source": []
  },
  {
   "cell_type": "code",
   "execution_count": null,
   "id": "9fc2ed26",
   "metadata": {},
   "outputs": [],
   "source": []
  },
  {
   "cell_type": "code",
   "execution_count": null,
   "id": "72fe8d5c",
   "metadata": {},
   "outputs": [],
   "source": []
  }
 ],
 "metadata": {
  "kernelspec": {
   "display_name": "Python 3 (ipykernel)",
   "language": "python",
   "name": "python3"
  },
  "language_info": {
   "codemirror_mode": {
    "name": "ipython",
    "version": 3
   },
   "file_extension": ".py",
   "mimetype": "text/x-python",
   "name": "python",
   "nbconvert_exporter": "python",
   "pygments_lexer": "ipython3",
   "version": "3.11.7"
  }
 },
 "nbformat": 4,
 "nbformat_minor": 5
}
